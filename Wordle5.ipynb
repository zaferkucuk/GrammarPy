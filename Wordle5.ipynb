{
 "cells": [
  {
   "cell_type": "markdown",
   "metadata": {},
   "source": [
    "### Import all functions and libraries from `wordle.py`"
   ]
  },
  {
   "cell_type": "code",
   "execution_count": 2,
   "metadata": {
    "collapsed": true
   },
   "outputs": [
    {
     "name": "stdout",
     "output_type": "stream",
     "text": [
      "Apple\n"
     ]
    }
   ],
   "source": [
    "from wordle import *"
   ]
  },
  {
   "cell_type": "markdown",
   "metadata": {},
   "source": [
    "### Run `play_wordle()` to start a game\n",
    "- Code will randomly select a 5-letter word from the given website\n",
    "- You have six tries to guess correctly\n",
    "- If you guess the position of a letter in the word it will turn `GREEN`\n",
    "- If you guess a letter, but it is in the wron position it turns `ORANGE`\n",
    "- If the letter does not exist, it will become `lower case black ink`\n",
    "\n",
    "#### GOOD LUCK, SPICED!"
   ]
  },
  {
   "cell_type": "code",
   "execution_count": 3,
   "metadata": {},
   "outputs": [
    {
     "name": "stdout",
     "output_type": "stream",
     "text": [
      "Guess a word :trast\n"
     ]
    },
    {
     "data": {
      "text/html": [
       "<style type=\"text/css\">\n",
       "#T_4280c_row0_col0, #T_4280c_row0_col1, #T_4280c_row0_col3, #T_4280c_row0_col4 {\n",
       "  color: black;\n",
       "}\n",
       "#T_4280c_row0_col2 {\n",
       "  color: orange;\n",
       "}\n",
       "</style>\n",
       "<table id=\"T_4280c\">\n",
       "  <thead>\n",
       "    <tr>\n",
       "      <th class=\"blank level0\" >&nbsp;</th>\n",
       "      <th id=\"T_4280c_level0_col0\" class=\"col_heading level0 col0\" >LETTER1</th>\n",
       "      <th id=\"T_4280c_level0_col1\" class=\"col_heading level0 col1\" >LETTER2</th>\n",
       "      <th id=\"T_4280c_level0_col2\" class=\"col_heading level0 col2\" >LETTER3</th>\n",
       "      <th id=\"T_4280c_level0_col3\" class=\"col_heading level0 col3\" >LETTER4</th>\n",
       "      <th id=\"T_4280c_level0_col4\" class=\"col_heading level0 col4\" >LETTER5</th>\n",
       "    </tr>\n",
       "  </thead>\n",
       "  <tbody>\n",
       "    <tr>\n",
       "      <th id=\"T_4280c_level0_row0\" class=\"row_heading level0 row0\" >GUESS_1</th>\n",
       "      <td id=\"T_4280c_row0_col0\" class=\"data row0 col0\" >t</td>\n",
       "      <td id=\"T_4280c_row0_col1\" class=\"data row0 col1\" >r</td>\n",
       "      <td id=\"T_4280c_row0_col2\" class=\"data row0 col2\" >A </td>\n",
       "      <td id=\"T_4280c_row0_col3\" class=\"data row0 col3\" >s</td>\n",
       "      <td id=\"T_4280c_row0_col4\" class=\"data row0 col4\" >t</td>\n",
       "    </tr>\n",
       "  </tbody>\n",
       "</table>\n"
      ],
      "text/plain": [
       "<pandas.io.formats.style.Styler at 0x1f84a1b2c10>"
      ]
     },
     "metadata": {},
     "output_type": "display_data"
    },
    {
     "name": "stdout",
     "output_type": "stream",
     "text": [
      "Guess a word :clear\n"
     ]
    },
    {
     "data": {
      "text/html": [
       "<style type=\"text/css\">\n",
       "#T_5cb92_row0_col0, #T_5cb92_row0_col1, #T_5cb92_row0_col3, #T_5cb92_row0_col4, #T_5cb92_row1_col0, #T_5cb92_row1_col4 {\n",
       "  color: black;\n",
       "}\n",
       "#T_5cb92_row0_col2, #T_5cb92_row1_col1, #T_5cb92_row1_col2, #T_5cb92_row1_col3 {\n",
       "  color: orange;\n",
       "}\n",
       "</style>\n",
       "<table id=\"T_5cb92\">\n",
       "  <thead>\n",
       "    <tr>\n",
       "      <th class=\"blank level0\" >&nbsp;</th>\n",
       "      <th id=\"T_5cb92_level0_col0\" class=\"col_heading level0 col0\" >LETTER1</th>\n",
       "      <th id=\"T_5cb92_level0_col1\" class=\"col_heading level0 col1\" >LETTER2</th>\n",
       "      <th id=\"T_5cb92_level0_col2\" class=\"col_heading level0 col2\" >LETTER3</th>\n",
       "      <th id=\"T_5cb92_level0_col3\" class=\"col_heading level0 col3\" >LETTER4</th>\n",
       "      <th id=\"T_5cb92_level0_col4\" class=\"col_heading level0 col4\" >LETTER5</th>\n",
       "    </tr>\n",
       "  </thead>\n",
       "  <tbody>\n",
       "    <tr>\n",
       "      <th id=\"T_5cb92_level0_row0\" class=\"row_heading level0 row0\" >GUESS_1</th>\n",
       "      <td id=\"T_5cb92_row0_col0\" class=\"data row0 col0\" >t</td>\n",
       "      <td id=\"T_5cb92_row0_col1\" class=\"data row0 col1\" >r</td>\n",
       "      <td id=\"T_5cb92_row0_col2\" class=\"data row0 col2\" >A </td>\n",
       "      <td id=\"T_5cb92_row0_col3\" class=\"data row0 col3\" >s</td>\n",
       "      <td id=\"T_5cb92_row0_col4\" class=\"data row0 col4\" >t</td>\n",
       "    </tr>\n",
       "    <tr>\n",
       "      <th id=\"T_5cb92_level0_row1\" class=\"row_heading level0 row1\" >GUESS_2</th>\n",
       "      <td id=\"T_5cb92_row1_col0\" class=\"data row1 col0\" >c</td>\n",
       "      <td id=\"T_5cb92_row1_col1\" class=\"data row1 col1\" >L </td>\n",
       "      <td id=\"T_5cb92_row1_col2\" class=\"data row1 col2\" >E </td>\n",
       "      <td id=\"T_5cb92_row1_col3\" class=\"data row1 col3\" >A </td>\n",
       "      <td id=\"T_5cb92_row1_col4\" class=\"data row1 col4\" >r</td>\n",
       "    </tr>\n",
       "  </tbody>\n",
       "</table>\n"
      ],
      "text/plain": [
       "<pandas.io.formats.style.Styler at 0x1f84a21b520>"
      ]
     },
     "metadata": {},
     "output_type": "display_data"
    },
    {
     "name": "stdout",
     "output_type": "stream",
     "text": [
      "Guess a word :polar\n"
     ]
    },
    {
     "data": {
      "text/html": [
       "<style type=\"text/css\">\n",
       "#T_eda0b_row0_col0, #T_eda0b_row0_col1, #T_eda0b_row0_col3, #T_eda0b_row0_col4, #T_eda0b_row1_col0, #T_eda0b_row1_col4, #T_eda0b_row2_col1, #T_eda0b_row2_col4 {\n",
       "  color: black;\n",
       "}\n",
       "#T_eda0b_row0_col2, #T_eda0b_row1_col1, #T_eda0b_row1_col2, #T_eda0b_row1_col3, #T_eda0b_row2_col0, #T_eda0b_row2_col2, #T_eda0b_row2_col3 {\n",
       "  color: orange;\n",
       "}\n",
       "</style>\n",
       "<table id=\"T_eda0b\">\n",
       "  <thead>\n",
       "    <tr>\n",
       "      <th class=\"blank level0\" >&nbsp;</th>\n",
       "      <th id=\"T_eda0b_level0_col0\" class=\"col_heading level0 col0\" >LETTER1</th>\n",
       "      <th id=\"T_eda0b_level0_col1\" class=\"col_heading level0 col1\" >LETTER2</th>\n",
       "      <th id=\"T_eda0b_level0_col2\" class=\"col_heading level0 col2\" >LETTER3</th>\n",
       "      <th id=\"T_eda0b_level0_col3\" class=\"col_heading level0 col3\" >LETTER4</th>\n",
       "      <th id=\"T_eda0b_level0_col4\" class=\"col_heading level0 col4\" >LETTER5</th>\n",
       "    </tr>\n",
       "  </thead>\n",
       "  <tbody>\n",
       "    <tr>\n",
       "      <th id=\"T_eda0b_level0_row0\" class=\"row_heading level0 row0\" >GUESS_1</th>\n",
       "      <td id=\"T_eda0b_row0_col0\" class=\"data row0 col0\" >t</td>\n",
       "      <td id=\"T_eda0b_row0_col1\" class=\"data row0 col1\" >r</td>\n",
       "      <td id=\"T_eda0b_row0_col2\" class=\"data row0 col2\" >A </td>\n",
       "      <td id=\"T_eda0b_row0_col3\" class=\"data row0 col3\" >s</td>\n",
       "      <td id=\"T_eda0b_row0_col4\" class=\"data row0 col4\" >t</td>\n",
       "    </tr>\n",
       "    <tr>\n",
       "      <th id=\"T_eda0b_level0_row1\" class=\"row_heading level0 row1\" >GUESS_2</th>\n",
       "      <td id=\"T_eda0b_row1_col0\" class=\"data row1 col0\" >c</td>\n",
       "      <td id=\"T_eda0b_row1_col1\" class=\"data row1 col1\" >L </td>\n",
       "      <td id=\"T_eda0b_row1_col2\" class=\"data row1 col2\" >E </td>\n",
       "      <td id=\"T_eda0b_row1_col3\" class=\"data row1 col3\" >A </td>\n",
       "      <td id=\"T_eda0b_row1_col4\" class=\"data row1 col4\" >r</td>\n",
       "    </tr>\n",
       "    <tr>\n",
       "      <th id=\"T_eda0b_level0_row2\" class=\"row_heading level0 row2\" >GUESS_3</th>\n",
       "      <td id=\"T_eda0b_row2_col0\" class=\"data row2 col0\" >P </td>\n",
       "      <td id=\"T_eda0b_row2_col1\" class=\"data row2 col1\" >o</td>\n",
       "      <td id=\"T_eda0b_row2_col2\" class=\"data row2 col2\" >L </td>\n",
       "      <td id=\"T_eda0b_row2_col3\" class=\"data row2 col3\" >A </td>\n",
       "      <td id=\"T_eda0b_row2_col4\" class=\"data row2 col4\" >r</td>\n",
       "    </tr>\n",
       "  </tbody>\n",
       "</table>\n"
      ],
      "text/plain": [
       "<pandas.io.formats.style.Styler at 0x1f84a1b2c10>"
      ]
     },
     "metadata": {},
     "output_type": "display_data"
    },
    {
     "name": "stdout",
     "output_type": "stream",
     "text": [
      "Guess a word :apple\n"
     ]
    },
    {
     "data": {
      "text/html": [
       "<style type=\"text/css\">\n",
       "#T_a6e06_row0_col0, #T_a6e06_row0_col1, #T_a6e06_row0_col3, #T_a6e06_row0_col4, #T_a6e06_row1_col0, #T_a6e06_row1_col4, #T_a6e06_row2_col1, #T_a6e06_row2_col4 {\n",
       "  color: black;\n",
       "}\n",
       "#T_a6e06_row0_col2, #T_a6e06_row1_col1, #T_a6e06_row1_col2, #T_a6e06_row1_col3, #T_a6e06_row2_col0, #T_a6e06_row2_col2, #T_a6e06_row2_col3 {\n",
       "  color: orange;\n",
       "}\n",
       "#T_a6e06_row3_col0, #T_a6e06_row3_col1, #T_a6e06_row3_col2, #T_a6e06_row3_col3, #T_a6e06_row3_col4 {\n",
       "  color: green;\n",
       "}\n",
       "</style>\n",
       "<table id=\"T_a6e06\">\n",
       "  <thead>\n",
       "    <tr>\n",
       "      <th class=\"blank level0\" >&nbsp;</th>\n",
       "      <th id=\"T_a6e06_level0_col0\" class=\"col_heading level0 col0\" >LETTER1</th>\n",
       "      <th id=\"T_a6e06_level0_col1\" class=\"col_heading level0 col1\" >LETTER2</th>\n",
       "      <th id=\"T_a6e06_level0_col2\" class=\"col_heading level0 col2\" >LETTER3</th>\n",
       "      <th id=\"T_a6e06_level0_col3\" class=\"col_heading level0 col3\" >LETTER4</th>\n",
       "      <th id=\"T_a6e06_level0_col4\" class=\"col_heading level0 col4\" >LETTER5</th>\n",
       "    </tr>\n",
       "  </thead>\n",
       "  <tbody>\n",
       "    <tr>\n",
       "      <th id=\"T_a6e06_level0_row0\" class=\"row_heading level0 row0\" >GUESS_1</th>\n",
       "      <td id=\"T_a6e06_row0_col0\" class=\"data row0 col0\" >t</td>\n",
       "      <td id=\"T_a6e06_row0_col1\" class=\"data row0 col1\" >r</td>\n",
       "      <td id=\"T_a6e06_row0_col2\" class=\"data row0 col2\" >A </td>\n",
       "      <td id=\"T_a6e06_row0_col3\" class=\"data row0 col3\" >s</td>\n",
       "      <td id=\"T_a6e06_row0_col4\" class=\"data row0 col4\" >t</td>\n",
       "    </tr>\n",
       "    <tr>\n",
       "      <th id=\"T_a6e06_level0_row1\" class=\"row_heading level0 row1\" >GUESS_2</th>\n",
       "      <td id=\"T_a6e06_row1_col0\" class=\"data row1 col0\" >c</td>\n",
       "      <td id=\"T_a6e06_row1_col1\" class=\"data row1 col1\" >L </td>\n",
       "      <td id=\"T_a6e06_row1_col2\" class=\"data row1 col2\" >E </td>\n",
       "      <td id=\"T_a6e06_row1_col3\" class=\"data row1 col3\" >A </td>\n",
       "      <td id=\"T_a6e06_row1_col4\" class=\"data row1 col4\" >r</td>\n",
       "    </tr>\n",
       "    <tr>\n",
       "      <th id=\"T_a6e06_level0_row2\" class=\"row_heading level0 row2\" >GUESS_3</th>\n",
       "      <td id=\"T_a6e06_row2_col0\" class=\"data row2 col0\" >P </td>\n",
       "      <td id=\"T_a6e06_row2_col1\" class=\"data row2 col1\" >o</td>\n",
       "      <td id=\"T_a6e06_row2_col2\" class=\"data row2 col2\" >L </td>\n",
       "      <td id=\"T_a6e06_row2_col3\" class=\"data row2 col3\" >A </td>\n",
       "      <td id=\"T_a6e06_row2_col4\" class=\"data row2 col4\" >r</td>\n",
       "    </tr>\n",
       "    <tr>\n",
       "      <th id=\"T_a6e06_level0_row3\" class=\"row_heading level0 row3\" >GUESS_4</th>\n",
       "      <td id=\"T_a6e06_row3_col0\" class=\"data row3 col0\" >A</td>\n",
       "      <td id=\"T_a6e06_row3_col1\" class=\"data row3 col1\" >P</td>\n",
       "      <td id=\"T_a6e06_row3_col2\" class=\"data row3 col2\" >P</td>\n",
       "      <td id=\"T_a6e06_row3_col3\" class=\"data row3 col3\" >L</td>\n",
       "      <td id=\"T_a6e06_row3_col4\" class=\"data row3 col4\" >E</td>\n",
       "    </tr>\n",
       "  </tbody>\n",
       "</table>\n"
      ],
      "text/plain": [
       "<pandas.io.formats.style.Styler at 0x1f84a21b520>"
      ]
     },
     "metadata": {},
     "output_type": "display_data"
    },
    {
     "name": "stdout",
     "output_type": "stream",
     "text": [
      "Guess a word :apple\n"
     ]
    },
    {
     "data": {
      "text/html": [
       "<style type=\"text/css\">\n",
       "#T_134e4_row0_col0, #T_134e4_row0_col1, #T_134e4_row0_col3, #T_134e4_row0_col4, #T_134e4_row1_col0, #T_134e4_row1_col4, #T_134e4_row2_col1, #T_134e4_row2_col4 {\n",
       "  color: black;\n",
       "}\n",
       "#T_134e4_row0_col2, #T_134e4_row1_col1, #T_134e4_row1_col2, #T_134e4_row1_col3, #T_134e4_row2_col0, #T_134e4_row2_col2, #T_134e4_row2_col3 {\n",
       "  color: orange;\n",
       "}\n",
       "#T_134e4_row3_col0, #T_134e4_row3_col1, #T_134e4_row3_col2, #T_134e4_row3_col3, #T_134e4_row3_col4, #T_134e4_row4_col0, #T_134e4_row4_col1, #T_134e4_row4_col2, #T_134e4_row4_col3, #T_134e4_row4_col4 {\n",
       "  color: green;\n",
       "}\n",
       "</style>\n",
       "<table id=\"T_134e4\">\n",
       "  <thead>\n",
       "    <tr>\n",
       "      <th class=\"blank level0\" >&nbsp;</th>\n",
       "      <th id=\"T_134e4_level0_col0\" class=\"col_heading level0 col0\" >LETTER1</th>\n",
       "      <th id=\"T_134e4_level0_col1\" class=\"col_heading level0 col1\" >LETTER2</th>\n",
       "      <th id=\"T_134e4_level0_col2\" class=\"col_heading level0 col2\" >LETTER3</th>\n",
       "      <th id=\"T_134e4_level0_col3\" class=\"col_heading level0 col3\" >LETTER4</th>\n",
       "      <th id=\"T_134e4_level0_col4\" class=\"col_heading level0 col4\" >LETTER5</th>\n",
       "    </tr>\n",
       "  </thead>\n",
       "  <tbody>\n",
       "    <tr>\n",
       "      <th id=\"T_134e4_level0_row0\" class=\"row_heading level0 row0\" >GUESS_1</th>\n",
       "      <td id=\"T_134e4_row0_col0\" class=\"data row0 col0\" >t</td>\n",
       "      <td id=\"T_134e4_row0_col1\" class=\"data row0 col1\" >r</td>\n",
       "      <td id=\"T_134e4_row0_col2\" class=\"data row0 col2\" >A </td>\n",
       "      <td id=\"T_134e4_row0_col3\" class=\"data row0 col3\" >s</td>\n",
       "      <td id=\"T_134e4_row0_col4\" class=\"data row0 col4\" >t</td>\n",
       "    </tr>\n",
       "    <tr>\n",
       "      <th id=\"T_134e4_level0_row1\" class=\"row_heading level0 row1\" >GUESS_2</th>\n",
       "      <td id=\"T_134e4_row1_col0\" class=\"data row1 col0\" >c</td>\n",
       "      <td id=\"T_134e4_row1_col1\" class=\"data row1 col1\" >L </td>\n",
       "      <td id=\"T_134e4_row1_col2\" class=\"data row1 col2\" >E </td>\n",
       "      <td id=\"T_134e4_row1_col3\" class=\"data row1 col3\" >A </td>\n",
       "      <td id=\"T_134e4_row1_col4\" class=\"data row1 col4\" >r</td>\n",
       "    </tr>\n",
       "    <tr>\n",
       "      <th id=\"T_134e4_level0_row2\" class=\"row_heading level0 row2\" >GUESS_3</th>\n",
       "      <td id=\"T_134e4_row2_col0\" class=\"data row2 col0\" >P </td>\n",
       "      <td id=\"T_134e4_row2_col1\" class=\"data row2 col1\" >o</td>\n",
       "      <td id=\"T_134e4_row2_col2\" class=\"data row2 col2\" >L </td>\n",
       "      <td id=\"T_134e4_row2_col3\" class=\"data row2 col3\" >A </td>\n",
       "      <td id=\"T_134e4_row2_col4\" class=\"data row2 col4\" >r</td>\n",
       "    </tr>\n",
       "    <tr>\n",
       "      <th id=\"T_134e4_level0_row3\" class=\"row_heading level0 row3\" >GUESS_4</th>\n",
       "      <td id=\"T_134e4_row3_col0\" class=\"data row3 col0\" >A</td>\n",
       "      <td id=\"T_134e4_row3_col1\" class=\"data row3 col1\" >P</td>\n",
       "      <td id=\"T_134e4_row3_col2\" class=\"data row3 col2\" >P</td>\n",
       "      <td id=\"T_134e4_row3_col3\" class=\"data row3 col3\" >L</td>\n",
       "      <td id=\"T_134e4_row3_col4\" class=\"data row3 col4\" >E</td>\n",
       "    </tr>\n",
       "    <tr>\n",
       "      <th id=\"T_134e4_level0_row4\" class=\"row_heading level0 row4\" >GUESS_5</th>\n",
       "      <td id=\"T_134e4_row4_col0\" class=\"data row4 col0\" >A</td>\n",
       "      <td id=\"T_134e4_row4_col1\" class=\"data row4 col1\" >P</td>\n",
       "      <td id=\"T_134e4_row4_col2\" class=\"data row4 col2\" >P</td>\n",
       "      <td id=\"T_134e4_row4_col3\" class=\"data row4 col3\" >L</td>\n",
       "      <td id=\"T_134e4_row4_col4\" class=\"data row4 col4\" >E</td>\n",
       "    </tr>\n",
       "  </tbody>\n",
       "</table>\n"
      ],
      "text/plain": [
       "<pandas.io.formats.style.Styler at 0x1f84f55c880>"
      ]
     },
     "metadata": {},
     "output_type": "display_data"
    },
    {
     "name": "stdout",
     "output_type": "stream",
     "text": [
      "Guess a word :apple\n"
     ]
    },
    {
     "data": {
      "text/html": [
       "<style type=\"text/css\">\n",
       "#T_2c87b_row0_col0, #T_2c87b_row0_col1, #T_2c87b_row0_col3, #T_2c87b_row0_col4, #T_2c87b_row1_col0, #T_2c87b_row1_col4, #T_2c87b_row2_col1, #T_2c87b_row2_col4 {\n",
       "  color: black;\n",
       "}\n",
       "#T_2c87b_row0_col2, #T_2c87b_row1_col1, #T_2c87b_row1_col2, #T_2c87b_row1_col3, #T_2c87b_row2_col0, #T_2c87b_row2_col2, #T_2c87b_row2_col3 {\n",
       "  color: orange;\n",
       "}\n",
       "#T_2c87b_row3_col0, #T_2c87b_row3_col1, #T_2c87b_row3_col2, #T_2c87b_row3_col3, #T_2c87b_row3_col4, #T_2c87b_row4_col0, #T_2c87b_row4_col1, #T_2c87b_row4_col2, #T_2c87b_row4_col3, #T_2c87b_row4_col4, #T_2c87b_row5_col0, #T_2c87b_row5_col1, #T_2c87b_row5_col2, #T_2c87b_row5_col3, #T_2c87b_row5_col4 {\n",
       "  color: green;\n",
       "}\n",
       "</style>\n",
       "<table id=\"T_2c87b\">\n",
       "  <thead>\n",
       "    <tr>\n",
       "      <th class=\"blank level0\" >&nbsp;</th>\n",
       "      <th id=\"T_2c87b_level0_col0\" class=\"col_heading level0 col0\" >LETTER1</th>\n",
       "      <th id=\"T_2c87b_level0_col1\" class=\"col_heading level0 col1\" >LETTER2</th>\n",
       "      <th id=\"T_2c87b_level0_col2\" class=\"col_heading level0 col2\" >LETTER3</th>\n",
       "      <th id=\"T_2c87b_level0_col3\" class=\"col_heading level0 col3\" >LETTER4</th>\n",
       "      <th id=\"T_2c87b_level0_col4\" class=\"col_heading level0 col4\" >LETTER5</th>\n",
       "    </tr>\n",
       "  </thead>\n",
       "  <tbody>\n",
       "    <tr>\n",
       "      <th id=\"T_2c87b_level0_row0\" class=\"row_heading level0 row0\" >GUESS_1</th>\n",
       "      <td id=\"T_2c87b_row0_col0\" class=\"data row0 col0\" >t</td>\n",
       "      <td id=\"T_2c87b_row0_col1\" class=\"data row0 col1\" >r</td>\n",
       "      <td id=\"T_2c87b_row0_col2\" class=\"data row0 col2\" >A </td>\n",
       "      <td id=\"T_2c87b_row0_col3\" class=\"data row0 col3\" >s</td>\n",
       "      <td id=\"T_2c87b_row0_col4\" class=\"data row0 col4\" >t</td>\n",
       "    </tr>\n",
       "    <tr>\n",
       "      <th id=\"T_2c87b_level0_row1\" class=\"row_heading level0 row1\" >GUESS_2</th>\n",
       "      <td id=\"T_2c87b_row1_col0\" class=\"data row1 col0\" >c</td>\n",
       "      <td id=\"T_2c87b_row1_col1\" class=\"data row1 col1\" >L </td>\n",
       "      <td id=\"T_2c87b_row1_col2\" class=\"data row1 col2\" >E </td>\n",
       "      <td id=\"T_2c87b_row1_col3\" class=\"data row1 col3\" >A </td>\n",
       "      <td id=\"T_2c87b_row1_col4\" class=\"data row1 col4\" >r</td>\n",
       "    </tr>\n",
       "    <tr>\n",
       "      <th id=\"T_2c87b_level0_row2\" class=\"row_heading level0 row2\" >GUESS_3</th>\n",
       "      <td id=\"T_2c87b_row2_col0\" class=\"data row2 col0\" >P </td>\n",
       "      <td id=\"T_2c87b_row2_col1\" class=\"data row2 col1\" >o</td>\n",
       "      <td id=\"T_2c87b_row2_col2\" class=\"data row2 col2\" >L </td>\n",
       "      <td id=\"T_2c87b_row2_col3\" class=\"data row2 col3\" >A </td>\n",
       "      <td id=\"T_2c87b_row2_col4\" class=\"data row2 col4\" >r</td>\n",
       "    </tr>\n",
       "    <tr>\n",
       "      <th id=\"T_2c87b_level0_row3\" class=\"row_heading level0 row3\" >GUESS_4</th>\n",
       "      <td id=\"T_2c87b_row3_col0\" class=\"data row3 col0\" >A</td>\n",
       "      <td id=\"T_2c87b_row3_col1\" class=\"data row3 col1\" >P</td>\n",
       "      <td id=\"T_2c87b_row3_col2\" class=\"data row3 col2\" >P</td>\n",
       "      <td id=\"T_2c87b_row3_col3\" class=\"data row3 col3\" >L</td>\n",
       "      <td id=\"T_2c87b_row3_col4\" class=\"data row3 col4\" >E</td>\n",
       "    </tr>\n",
       "    <tr>\n",
       "      <th id=\"T_2c87b_level0_row4\" class=\"row_heading level0 row4\" >GUESS_5</th>\n",
       "      <td id=\"T_2c87b_row4_col0\" class=\"data row4 col0\" >A</td>\n",
       "      <td id=\"T_2c87b_row4_col1\" class=\"data row4 col1\" >P</td>\n",
       "      <td id=\"T_2c87b_row4_col2\" class=\"data row4 col2\" >P</td>\n",
       "      <td id=\"T_2c87b_row4_col3\" class=\"data row4 col3\" >L</td>\n",
       "      <td id=\"T_2c87b_row4_col4\" class=\"data row4 col4\" >E</td>\n",
       "    </tr>\n",
       "    <tr>\n",
       "      <th id=\"T_2c87b_level0_row5\" class=\"row_heading level0 row5\" >GUESS_6</th>\n",
       "      <td id=\"T_2c87b_row5_col0\" class=\"data row5 col0\" >A</td>\n",
       "      <td id=\"T_2c87b_row5_col1\" class=\"data row5 col1\" >P</td>\n",
       "      <td id=\"T_2c87b_row5_col2\" class=\"data row5 col2\" >P</td>\n",
       "      <td id=\"T_2c87b_row5_col3\" class=\"data row5 col3\" >L</td>\n",
       "      <td id=\"T_2c87b_row5_col4\" class=\"data row5 col4\" >E</td>\n",
       "    </tr>\n",
       "  </tbody>\n",
       "</table>\n"
      ],
      "text/plain": [
       "<pandas.io.formats.style.Styler at 0x1f84f55cca0>"
      ]
     },
     "metadata": {},
     "output_type": "display_data"
    },
    {
     "name": "stdout",
     "output_type": "stream",
     "text": [
      "You lost! The word was APPLE, ...\n"
     ]
    }
   ],
   "source": [
    "play_wordle()"
   ]
  },
  {
   "cell_type": "code",
   "execution_count": null,
   "metadata": {},
   "outputs": [],
   "source": []
  }
 ],
 "metadata": {
  "kernelspec": {
   "display_name": "Python 3 (ipykernel)",
   "language": "python",
   "name": "python3"
  },
  "language_info": {
   "codemirror_mode": {
    "name": "ipython",
    "version": 3
   },
   "file_extension": ".py",
   "mimetype": "text/x-python",
   "name": "python",
   "nbconvert_exporter": "python",
   "pygments_lexer": "ipython3",
   "version": "3.9.7"
  }
 },
 "nbformat": 4,
 "nbformat_minor": 4
}
