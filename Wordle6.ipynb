{
 "cells": [
  {
   "cell_type": "markdown",
   "metadata": {},
   "source": [
    "### Import all functions and libraries from `wordle.py`"
   ]
  },
  {
   "cell_type": "code",
   "execution_count": 1,
   "metadata": {
    "collapsed": true
   },
   "outputs": [
    {
     "name": "stdout",
     "output_type": "stream",
     "text": [
      "model\n"
     ]
    }
   ],
   "source": [
    "from wordle import *"
   ]
  },
  {
   "cell_type": "markdown",
   "metadata": {},
   "source": [
    "### Run `play_wordle()` to start a game\n",
    "- Code will randomly select a 5-letter word from the given URL\n",
    "- You have six tries to guess correctly\n",
    "- If you guess the position of a letter in the word it will turn `GREEN`\n",
    "- If you guess a letter, but it is in the wron position it turns `ORANGE`\n",
    "- If the letter does not exist, it will become `lower case black ink`\n",
    "\n",
    "#### GOOD LUCK, SPICED!"
   ]
  },
  {
   "cell_type": "code",
   "execution_count": 5,
   "metadata": {},
   "outputs": [
    {
     "name": "stdout",
     "output_type": "stream",
     "text": [
      "Enter a 5-letter Word :value\n"
     ]
    },
    {
     "data": {
      "text/html": [
       "<style type=\"text/css\">\n",
       "#T_26d7b_row0_col0, #T_26d7b_row0_col1, #T_26d7b_row0_col2, #T_26d7b_row0_col3, #T_26d7b_row0_col4 {\n",
       "  color: black;\n",
       "}\n",
       "</style>\n",
       "<table id=\"T_26d7b_\">\n",
       "  <thead>\n",
       "    <tr>\n",
       "      <th class=\"blank level0\" >&nbsp;</th>\n",
       "      <th class=\"col_heading level0 col0\" >L1</th>\n",
       "      <th class=\"col_heading level0 col1\" >L2</th>\n",
       "      <th class=\"col_heading level0 col2\" >L3</th>\n",
       "      <th class=\"col_heading level0 col3\" >L4</th>\n",
       "      <th class=\"col_heading level0 col4\" >L5</th>\n",
       "    </tr>\n",
       "  </thead>\n",
       "  <tbody>\n",
       "    <tr>\n",
       "      <th id=\"T_26d7b_level0_row0\" class=\"row_heading level0 row0\" >TRY_1</th>\n",
       "      <td id=\"T_26d7b_row0_col0\" class=\"data row0 col0\" >v</td>\n",
       "      <td id=\"T_26d7b_row0_col1\" class=\"data row0 col1\" >a</td>\n",
       "      <td id=\"T_26d7b_row0_col2\" class=\"data row0 col2\" >l</td>\n",
       "      <td id=\"T_26d7b_row0_col3\" class=\"data row0 col3\" >u</td>\n",
       "      <td id=\"T_26d7b_row0_col4\" class=\"data row0 col4\" >e</td>\n",
       "    </tr>\n",
       "  </tbody>\n",
       "</table>\n"
      ],
      "text/plain": [
       "<pandas.io.formats.style.Styler at 0x120a84a00>"
      ]
     },
     "metadata": {},
     "output_type": "display_data"
    },
    {
     "name": "stdout",
     "output_type": "stream",
     "text": [
      "Enter a 5-letter Word :wonky\n"
     ]
    },
    {
     "data": {
      "text/html": [
       "<style type=\"text/css\">\n",
       "#T_ed277_row0_col0, #T_ed277_row0_col1, #T_ed277_row0_col2, #T_ed277_row0_col3, #T_ed277_row0_col4, #T_ed277_row1_col0, #T_ed277_row1_col3, #T_ed277_row1_col4 {\n",
       "  color: black;\n",
       "}\n",
       "#T_ed277_row1_col1, #T_ed277_row1_col2 {\n",
       "  color: orange;\n",
       "}\n",
       "</style>\n",
       "<table id=\"T_ed277_\">\n",
       "  <thead>\n",
       "    <tr>\n",
       "      <th class=\"blank level0\" >&nbsp;</th>\n",
       "      <th class=\"col_heading level0 col0\" >L1</th>\n",
       "      <th class=\"col_heading level0 col1\" >L2</th>\n",
       "      <th class=\"col_heading level0 col2\" >L3</th>\n",
       "      <th class=\"col_heading level0 col3\" >L4</th>\n",
       "      <th class=\"col_heading level0 col4\" >L5</th>\n",
       "    </tr>\n",
       "  </thead>\n",
       "  <tbody>\n",
       "    <tr>\n",
       "      <th id=\"T_ed277_level0_row0\" class=\"row_heading level0 row0\" >TRY_1</th>\n",
       "      <td id=\"T_ed277_row0_col0\" class=\"data row0 col0\" >v</td>\n",
       "      <td id=\"T_ed277_row0_col1\" class=\"data row0 col1\" >a</td>\n",
       "      <td id=\"T_ed277_row0_col2\" class=\"data row0 col2\" >l</td>\n",
       "      <td id=\"T_ed277_row0_col3\" class=\"data row0 col3\" >u</td>\n",
       "      <td id=\"T_ed277_row0_col4\" class=\"data row0 col4\" >e</td>\n",
       "    </tr>\n",
       "    <tr>\n",
       "      <th id=\"T_ed277_level0_row1\" class=\"row_heading level0 row1\" >TRY_2</th>\n",
       "      <td id=\"T_ed277_row1_col0\" class=\"data row1 col0\" >w</td>\n",
       "      <td id=\"T_ed277_row1_col1\" class=\"data row1 col1\" >O </td>\n",
       "      <td id=\"T_ed277_row1_col2\" class=\"data row1 col2\" >N </td>\n",
       "      <td id=\"T_ed277_row1_col3\" class=\"data row1 col3\" >k</td>\n",
       "      <td id=\"T_ed277_row1_col4\" class=\"data row1 col4\" >y</td>\n",
       "    </tr>\n",
       "  </tbody>\n",
       "</table>\n"
      ],
      "text/plain": [
       "<pandas.io.formats.style.Styler at 0x120f5ae20>"
      ]
     },
     "metadata": {},
     "output_type": "display_data"
    },
    {
     "name": "stdout",
     "output_type": "stream",
     "text": [
      "Enter a 5-letter Word :noise\n"
     ]
    },
    {
     "data": {
      "text/html": [
       "<style type=\"text/css\">\n",
       "#T_1852e_row0_col0, #T_1852e_row0_col1, #T_1852e_row0_col2, #T_1852e_row0_col3, #T_1852e_row0_col4, #T_1852e_row1_col0, #T_1852e_row1_col3, #T_1852e_row1_col4, #T_1852e_row2_col2, #T_1852e_row2_col4 {\n",
       "  color: black;\n",
       "}\n",
       "#T_1852e_row1_col1, #T_1852e_row1_col2, #T_1852e_row2_col0, #T_1852e_row2_col1, #T_1852e_row2_col3 {\n",
       "  color: orange;\n",
       "}\n",
       "</style>\n",
       "<table id=\"T_1852e_\">\n",
       "  <thead>\n",
       "    <tr>\n",
       "      <th class=\"blank level0\" >&nbsp;</th>\n",
       "      <th class=\"col_heading level0 col0\" >L1</th>\n",
       "      <th class=\"col_heading level0 col1\" >L2</th>\n",
       "      <th class=\"col_heading level0 col2\" >L3</th>\n",
       "      <th class=\"col_heading level0 col3\" >L4</th>\n",
       "      <th class=\"col_heading level0 col4\" >L5</th>\n",
       "    </tr>\n",
       "  </thead>\n",
       "  <tbody>\n",
       "    <tr>\n",
       "      <th id=\"T_1852e_level0_row0\" class=\"row_heading level0 row0\" >TRY_1</th>\n",
       "      <td id=\"T_1852e_row0_col0\" class=\"data row0 col0\" >v</td>\n",
       "      <td id=\"T_1852e_row0_col1\" class=\"data row0 col1\" >a</td>\n",
       "      <td id=\"T_1852e_row0_col2\" class=\"data row0 col2\" >l</td>\n",
       "      <td id=\"T_1852e_row0_col3\" class=\"data row0 col3\" >u</td>\n",
       "      <td id=\"T_1852e_row0_col4\" class=\"data row0 col4\" >e</td>\n",
       "    </tr>\n",
       "    <tr>\n",
       "      <th id=\"T_1852e_level0_row1\" class=\"row_heading level0 row1\" >TRY_2</th>\n",
       "      <td id=\"T_1852e_row1_col0\" class=\"data row1 col0\" >w</td>\n",
       "      <td id=\"T_1852e_row1_col1\" class=\"data row1 col1\" >O </td>\n",
       "      <td id=\"T_1852e_row1_col2\" class=\"data row1 col2\" >N </td>\n",
       "      <td id=\"T_1852e_row1_col3\" class=\"data row1 col3\" >k</td>\n",
       "      <td id=\"T_1852e_row1_col4\" class=\"data row1 col4\" >y</td>\n",
       "    </tr>\n",
       "    <tr>\n",
       "      <th id=\"T_1852e_level0_row2\" class=\"row_heading level0 row2\" >TRY_3</th>\n",
       "      <td id=\"T_1852e_row2_col0\" class=\"data row2 col0\" >N </td>\n",
       "      <td id=\"T_1852e_row2_col1\" class=\"data row2 col1\" >O </td>\n",
       "      <td id=\"T_1852e_row2_col2\" class=\"data row2 col2\" >i</td>\n",
       "      <td id=\"T_1852e_row2_col3\" class=\"data row2 col3\" >S </td>\n",
       "      <td id=\"T_1852e_row2_col4\" class=\"data row2 col4\" >e</td>\n",
       "    </tr>\n",
       "  </tbody>\n",
       "</table>\n"
      ],
      "text/plain": [
       "<pandas.io.formats.style.Styler at 0x120a84a00>"
      ]
     },
     "metadata": {},
     "output_type": "display_data"
    },
    {
     "name": "stdout",
     "output_type": "stream",
     "text": [
      "Enter a 5-letter Word :snoop\n"
     ]
    },
    {
     "data": {
      "text/html": [
       "<style type=\"text/css\">\n",
       "#T_1b735_row0_col0, #T_1b735_row0_col1, #T_1b735_row0_col2, #T_1b735_row0_col3, #T_1b735_row0_col4, #T_1b735_row1_col0, #T_1b735_row1_col3, #T_1b735_row1_col4, #T_1b735_row2_col2, #T_1b735_row2_col4, #T_1b735_row3_col3, #T_1b735_row3_col4 {\n",
       "  color: black;\n",
       "}\n",
       "#T_1b735_row1_col1, #T_1b735_row1_col2, #T_1b735_row2_col0, #T_1b735_row2_col1, #T_1b735_row2_col3 {\n",
       "  color: orange;\n",
       "}\n",
       "#T_1b735_row3_col0, #T_1b735_row3_col1, #T_1b735_row3_col2 {\n",
       "  color: green;\n",
       "}\n",
       "</style>\n",
       "<table id=\"T_1b735_\">\n",
       "  <thead>\n",
       "    <tr>\n",
       "      <th class=\"blank level0\" >&nbsp;</th>\n",
       "      <th class=\"col_heading level0 col0\" >L1</th>\n",
       "      <th class=\"col_heading level0 col1\" >L2</th>\n",
       "      <th class=\"col_heading level0 col2\" >L3</th>\n",
       "      <th class=\"col_heading level0 col3\" >L4</th>\n",
       "      <th class=\"col_heading level0 col4\" >L5</th>\n",
       "    </tr>\n",
       "  </thead>\n",
       "  <tbody>\n",
       "    <tr>\n",
       "      <th id=\"T_1b735_level0_row0\" class=\"row_heading level0 row0\" >TRY_1</th>\n",
       "      <td id=\"T_1b735_row0_col0\" class=\"data row0 col0\" >v</td>\n",
       "      <td id=\"T_1b735_row0_col1\" class=\"data row0 col1\" >a</td>\n",
       "      <td id=\"T_1b735_row0_col2\" class=\"data row0 col2\" >l</td>\n",
       "      <td id=\"T_1b735_row0_col3\" class=\"data row0 col3\" >u</td>\n",
       "      <td id=\"T_1b735_row0_col4\" class=\"data row0 col4\" >e</td>\n",
       "    </tr>\n",
       "    <tr>\n",
       "      <th id=\"T_1b735_level0_row1\" class=\"row_heading level0 row1\" >TRY_2</th>\n",
       "      <td id=\"T_1b735_row1_col0\" class=\"data row1 col0\" >w</td>\n",
       "      <td id=\"T_1b735_row1_col1\" class=\"data row1 col1\" >O </td>\n",
       "      <td id=\"T_1b735_row1_col2\" class=\"data row1 col2\" >N </td>\n",
       "      <td id=\"T_1b735_row1_col3\" class=\"data row1 col3\" >k</td>\n",
       "      <td id=\"T_1b735_row1_col4\" class=\"data row1 col4\" >y</td>\n",
       "    </tr>\n",
       "    <tr>\n",
       "      <th id=\"T_1b735_level0_row2\" class=\"row_heading level0 row2\" >TRY_3</th>\n",
       "      <td id=\"T_1b735_row2_col0\" class=\"data row2 col0\" >N </td>\n",
       "      <td id=\"T_1b735_row2_col1\" class=\"data row2 col1\" >O </td>\n",
       "      <td id=\"T_1b735_row2_col2\" class=\"data row2 col2\" >i</td>\n",
       "      <td id=\"T_1b735_row2_col3\" class=\"data row2 col3\" >S </td>\n",
       "      <td id=\"T_1b735_row2_col4\" class=\"data row2 col4\" >e</td>\n",
       "    </tr>\n",
       "    <tr>\n",
       "      <th id=\"T_1b735_level0_row3\" class=\"row_heading level0 row3\" >TRY_4</th>\n",
       "      <td id=\"T_1b735_row3_col0\" class=\"data row3 col0\" >S</td>\n",
       "      <td id=\"T_1b735_row3_col1\" class=\"data row3 col1\" >N</td>\n",
       "      <td id=\"T_1b735_row3_col2\" class=\"data row3 col2\" >O</td>\n",
       "      <td id=\"T_1b735_row3_col3\" class=\"data row3 col3\" >o</td>\n",
       "      <td id=\"T_1b735_row3_col4\" class=\"data row3 col4\" >p</td>\n",
       "    </tr>\n",
       "  </tbody>\n",
       "</table>\n"
      ],
      "text/plain": [
       "<pandas.io.formats.style.Styler at 0x120f5ae20>"
      ]
     },
     "metadata": {},
     "output_type": "display_data"
    },
    {
     "name": "stdout",
     "output_type": "stream",
     "text": [
      "Enter a 5-letter Word :snorc\n"
     ]
    },
    {
     "data": {
      "text/html": [
       "<style type=\"text/css\">\n",
       "#T_38fd7_row0_col0, #T_38fd7_row0_col1, #T_38fd7_row0_col2, #T_38fd7_row0_col3, #T_38fd7_row0_col4, #T_38fd7_row1_col0, #T_38fd7_row1_col3, #T_38fd7_row1_col4, #T_38fd7_row2_col2, #T_38fd7_row2_col4, #T_38fd7_row3_col3, #T_38fd7_row3_col4, #T_38fd7_row4_col4 {\n",
       "  color: black;\n",
       "}\n",
       "#T_38fd7_row1_col1, #T_38fd7_row1_col2, #T_38fd7_row2_col0, #T_38fd7_row2_col1, #T_38fd7_row2_col3 {\n",
       "  color: orange;\n",
       "}\n",
       "#T_38fd7_row3_col0, #T_38fd7_row3_col1, #T_38fd7_row3_col2, #T_38fd7_row4_col0, #T_38fd7_row4_col1, #T_38fd7_row4_col2, #T_38fd7_row4_col3 {\n",
       "  color: green;\n",
       "}\n",
       "</style>\n",
       "<table id=\"T_38fd7_\">\n",
       "  <thead>\n",
       "    <tr>\n",
       "      <th class=\"blank level0\" >&nbsp;</th>\n",
       "      <th class=\"col_heading level0 col0\" >L1</th>\n",
       "      <th class=\"col_heading level0 col1\" >L2</th>\n",
       "      <th class=\"col_heading level0 col2\" >L3</th>\n",
       "      <th class=\"col_heading level0 col3\" >L4</th>\n",
       "      <th class=\"col_heading level0 col4\" >L5</th>\n",
       "    </tr>\n",
       "  </thead>\n",
       "  <tbody>\n",
       "    <tr>\n",
       "      <th id=\"T_38fd7_level0_row0\" class=\"row_heading level0 row0\" >TRY_1</th>\n",
       "      <td id=\"T_38fd7_row0_col0\" class=\"data row0 col0\" >v</td>\n",
       "      <td id=\"T_38fd7_row0_col1\" class=\"data row0 col1\" >a</td>\n",
       "      <td id=\"T_38fd7_row0_col2\" class=\"data row0 col2\" >l</td>\n",
       "      <td id=\"T_38fd7_row0_col3\" class=\"data row0 col3\" >u</td>\n",
       "      <td id=\"T_38fd7_row0_col4\" class=\"data row0 col4\" >e</td>\n",
       "    </tr>\n",
       "    <tr>\n",
       "      <th id=\"T_38fd7_level0_row1\" class=\"row_heading level0 row1\" >TRY_2</th>\n",
       "      <td id=\"T_38fd7_row1_col0\" class=\"data row1 col0\" >w</td>\n",
       "      <td id=\"T_38fd7_row1_col1\" class=\"data row1 col1\" >O </td>\n",
       "      <td id=\"T_38fd7_row1_col2\" class=\"data row1 col2\" >N </td>\n",
       "      <td id=\"T_38fd7_row1_col3\" class=\"data row1 col3\" >k</td>\n",
       "      <td id=\"T_38fd7_row1_col4\" class=\"data row1 col4\" >y</td>\n",
       "    </tr>\n",
       "    <tr>\n",
       "      <th id=\"T_38fd7_level0_row2\" class=\"row_heading level0 row2\" >TRY_3</th>\n",
       "      <td id=\"T_38fd7_row2_col0\" class=\"data row2 col0\" >N </td>\n",
       "      <td id=\"T_38fd7_row2_col1\" class=\"data row2 col1\" >O </td>\n",
       "      <td id=\"T_38fd7_row2_col2\" class=\"data row2 col2\" >i</td>\n",
       "      <td id=\"T_38fd7_row2_col3\" class=\"data row2 col3\" >S </td>\n",
       "      <td id=\"T_38fd7_row2_col4\" class=\"data row2 col4\" >e</td>\n",
       "    </tr>\n",
       "    <tr>\n",
       "      <th id=\"T_38fd7_level0_row3\" class=\"row_heading level0 row3\" >TRY_4</th>\n",
       "      <td id=\"T_38fd7_row3_col0\" class=\"data row3 col0\" >S</td>\n",
       "      <td id=\"T_38fd7_row3_col1\" class=\"data row3 col1\" >N</td>\n",
       "      <td id=\"T_38fd7_row3_col2\" class=\"data row3 col2\" >O</td>\n",
       "      <td id=\"T_38fd7_row3_col3\" class=\"data row3 col3\" >o</td>\n",
       "      <td id=\"T_38fd7_row3_col4\" class=\"data row3 col4\" >p</td>\n",
       "    </tr>\n",
       "    <tr>\n",
       "      <th id=\"T_38fd7_level0_row4\" class=\"row_heading level0 row4\" >TRY_5</th>\n",
       "      <td id=\"T_38fd7_row4_col0\" class=\"data row4 col0\" >S</td>\n",
       "      <td id=\"T_38fd7_row4_col1\" class=\"data row4 col1\" >N</td>\n",
       "      <td id=\"T_38fd7_row4_col2\" class=\"data row4 col2\" >O</td>\n",
       "      <td id=\"T_38fd7_row4_col3\" class=\"data row4 col3\" >R</td>\n",
       "      <td id=\"T_38fd7_row4_col4\" class=\"data row4 col4\" >c</td>\n",
       "    </tr>\n",
       "  </tbody>\n",
       "</table>\n"
      ],
      "text/plain": [
       "<pandas.io.formats.style.Styler at 0x120d376d0>"
      ]
     },
     "metadata": {},
     "output_type": "display_data"
    },
    {
     "name": "stdout",
     "output_type": "stream",
     "text": [
      "Enter a 5-letter Word :snort\n"
     ]
    },
    {
     "data": {
      "text/html": [
       "<style type=\"text/css\">\n",
       "#T_da5ce_row0_col0, #T_da5ce_row0_col1, #T_da5ce_row0_col2, #T_da5ce_row0_col3, #T_da5ce_row0_col4, #T_da5ce_row1_col0, #T_da5ce_row1_col3, #T_da5ce_row1_col4, #T_da5ce_row2_col2, #T_da5ce_row2_col4, #T_da5ce_row3_col3, #T_da5ce_row3_col4, #T_da5ce_row4_col4 {\n",
       "  color: black;\n",
       "}\n",
       "#T_da5ce_row1_col1, #T_da5ce_row1_col2, #T_da5ce_row2_col0, #T_da5ce_row2_col1, #T_da5ce_row2_col3 {\n",
       "  color: orange;\n",
       "}\n",
       "#T_da5ce_row3_col0, #T_da5ce_row3_col1, #T_da5ce_row3_col2, #T_da5ce_row4_col0, #T_da5ce_row4_col1, #T_da5ce_row4_col2, #T_da5ce_row4_col3, #T_da5ce_row5_col0, #T_da5ce_row5_col1, #T_da5ce_row5_col2, #T_da5ce_row5_col3, #T_da5ce_row5_col4 {\n",
       "  color: green;\n",
       "}\n",
       "</style>\n",
       "<table id=\"T_da5ce_\">\n",
       "  <thead>\n",
       "    <tr>\n",
       "      <th class=\"blank level0\" >&nbsp;</th>\n",
       "      <th class=\"col_heading level0 col0\" >L1</th>\n",
       "      <th class=\"col_heading level0 col1\" >L2</th>\n",
       "      <th class=\"col_heading level0 col2\" >L3</th>\n",
       "      <th class=\"col_heading level0 col3\" >L4</th>\n",
       "      <th class=\"col_heading level0 col4\" >L5</th>\n",
       "    </tr>\n",
       "  </thead>\n",
       "  <tbody>\n",
       "    <tr>\n",
       "      <th id=\"T_da5ce_level0_row0\" class=\"row_heading level0 row0\" >TRY_1</th>\n",
       "      <td id=\"T_da5ce_row0_col0\" class=\"data row0 col0\" >v</td>\n",
       "      <td id=\"T_da5ce_row0_col1\" class=\"data row0 col1\" >a</td>\n",
       "      <td id=\"T_da5ce_row0_col2\" class=\"data row0 col2\" >l</td>\n",
       "      <td id=\"T_da5ce_row0_col3\" class=\"data row0 col3\" >u</td>\n",
       "      <td id=\"T_da5ce_row0_col4\" class=\"data row0 col4\" >e</td>\n",
       "    </tr>\n",
       "    <tr>\n",
       "      <th id=\"T_da5ce_level0_row1\" class=\"row_heading level0 row1\" >TRY_2</th>\n",
       "      <td id=\"T_da5ce_row1_col0\" class=\"data row1 col0\" >w</td>\n",
       "      <td id=\"T_da5ce_row1_col1\" class=\"data row1 col1\" >O </td>\n",
       "      <td id=\"T_da5ce_row1_col2\" class=\"data row1 col2\" >N </td>\n",
       "      <td id=\"T_da5ce_row1_col3\" class=\"data row1 col3\" >k</td>\n",
       "      <td id=\"T_da5ce_row1_col4\" class=\"data row1 col4\" >y</td>\n",
       "    </tr>\n",
       "    <tr>\n",
       "      <th id=\"T_da5ce_level0_row2\" class=\"row_heading level0 row2\" >TRY_3</th>\n",
       "      <td id=\"T_da5ce_row2_col0\" class=\"data row2 col0\" >N </td>\n",
       "      <td id=\"T_da5ce_row2_col1\" class=\"data row2 col1\" >O </td>\n",
       "      <td id=\"T_da5ce_row2_col2\" class=\"data row2 col2\" >i</td>\n",
       "      <td id=\"T_da5ce_row2_col3\" class=\"data row2 col3\" >S </td>\n",
       "      <td id=\"T_da5ce_row2_col4\" class=\"data row2 col4\" >e</td>\n",
       "    </tr>\n",
       "    <tr>\n",
       "      <th id=\"T_da5ce_level0_row3\" class=\"row_heading level0 row3\" >TRY_4</th>\n",
       "      <td id=\"T_da5ce_row3_col0\" class=\"data row3 col0\" >S</td>\n",
       "      <td id=\"T_da5ce_row3_col1\" class=\"data row3 col1\" >N</td>\n",
       "      <td id=\"T_da5ce_row3_col2\" class=\"data row3 col2\" >O</td>\n",
       "      <td id=\"T_da5ce_row3_col3\" class=\"data row3 col3\" >o</td>\n",
       "      <td id=\"T_da5ce_row3_col4\" class=\"data row3 col4\" >p</td>\n",
       "    </tr>\n",
       "    <tr>\n",
       "      <th id=\"T_da5ce_level0_row4\" class=\"row_heading level0 row4\" >TRY_5</th>\n",
       "      <td id=\"T_da5ce_row4_col0\" class=\"data row4 col0\" >S</td>\n",
       "      <td id=\"T_da5ce_row4_col1\" class=\"data row4 col1\" >N</td>\n",
       "      <td id=\"T_da5ce_row4_col2\" class=\"data row4 col2\" >O</td>\n",
       "      <td id=\"T_da5ce_row4_col3\" class=\"data row4 col3\" >R</td>\n",
       "      <td id=\"T_da5ce_row4_col4\" class=\"data row4 col4\" >c</td>\n",
       "    </tr>\n",
       "    <tr>\n",
       "      <th id=\"T_da5ce_level0_row5\" class=\"row_heading level0 row5\" >TRY_6</th>\n",
       "      <td id=\"T_da5ce_row5_col0\" class=\"data row5 col0\" >S</td>\n",
       "      <td id=\"T_da5ce_row5_col1\" class=\"data row5 col1\" >N</td>\n",
       "      <td id=\"T_da5ce_row5_col2\" class=\"data row5 col2\" >O</td>\n",
       "      <td id=\"T_da5ce_row5_col3\" class=\"data row5 col3\" >R</td>\n",
       "      <td id=\"T_da5ce_row5_col4\" class=\"data row5 col4\" >T</td>\n",
       "    </tr>\n",
       "  </tbody>\n",
       "</table>\n"
      ],
      "text/plain": [
       "<pandas.io.formats.style.Styler at 0x10c3e13a0>"
      ]
     },
     "metadata": {},
     "output_type": "display_data"
    },
    {
     "name": "stdout",
     "output_type": "stream",
     "text": [
      "##############################################################\n",
      "       HURRAY THE WORD WAS: SNORT \n",
      "##############################################################\n",
      "YOU ARE A HUMAN GENIUS! YOU SHOULD BE FEARED AND RESPECTED!!!\n",
      "Give yourself a pat on the shoulder :)\n",
      "That student debt is finally paying off!!!\n",
      "WANNA PLAY AGAIN?\n"
     ]
    }
   ],
   "source": [
    "play_wordle()"
   ]
  },
  {
   "cell_type": "code",
   "execution_count": null,
   "metadata": {},
   "outputs": [],
   "source": []
  }
 ],
 "metadata": {
  "kernelspec": {
   "display_name": "Python 3 (ipykernel)",
   "language": "python",
   "name": "python3"
  },
  "language_info": {
   "codemirror_mode": {
    "name": "ipython",
    "version": 3
   },
   "file_extension": ".py",
   "mimetype": "text/x-python",
   "name": "python",
   "nbconvert_exporter": "python",
   "pygments_lexer": "ipython3",
   "version": "3.9.7"
  }
 },
 "nbformat": 4,
 "nbformat_minor": 4
}
