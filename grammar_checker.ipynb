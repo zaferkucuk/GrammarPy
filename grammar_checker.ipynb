{
 "cells": [
  {
   "cell_type": "code",
   "execution_count": 4,
   "id": "6ec77072",
   "metadata": {},
   "outputs": [],
   "source": [
    "import requests\n",
    "import pandas as pd\n",
    "import re\n",
    "import numpy as np\n",
    "import sklearn \n",
    "from sklearn.feature_extraction.text import CountVectorizer\n",
    "from sklearn.feature_extraction.text import TfidfTransformer\n",
    "from sklearn.linear_model import LogisticRegression\n",
    "from sklearn.model_selection import train_test_split\n",
    "import os\n",
    "from argparse import ArgumentParser\n",
    "from bs4 import BeautifulSoup\n",
    "import urllib.request\n",
    "from spellchecker import SpellChecker"
   ]
  },
  {
   "cell_type": "code",
   "execution_count": 5,
   "id": "ed48495b",
   "metadata": {},
   "outputs": [],
   "source": [
    "url = 'https://www.menuco.co'"
   ]
  },
  {
   "cell_type": "code",
   "execution_count": 6,
   "id": "0933dd01",
   "metadata": {},
   "outputs": [],
   "source": [
    "response = requests.get(url)"
   ]
  },
  {
   "cell_type": "code",
   "execution_count": 7,
   "id": "f1a0d17f",
   "metadata": {},
   "outputs": [
    {
     "data": {
      "text/plain": [
       "<Response [200]>"
      ]
     },
     "execution_count": 7,
     "metadata": {},
     "output_type": "execute_result"
    }
   ],
   "source": [
    "response"
   ]
  },
  {
   "cell_type": "code",
   "execution_count": 8,
   "id": "d97d13e7",
   "metadata": {},
   "outputs": [
    {
     "data": {
      "text/plain": [
       "200"
      ]
     },
     "execution_count": 8,
     "metadata": {},
     "output_type": "execute_result"
    }
   ],
   "source": [
    "response.status_code"
   ]
  },
  {
   "cell_type": "code",
   "execution_count": 9,
   "id": "e94067f2",
   "metadata": {},
   "outputs": [],
   "source": [
    "menuco_html = response.text"
   ]
  },
  {
   "cell_type": "code",
   "execution_count": 10,
   "id": "b35dbbec",
   "metadata": {},
   "outputs": [
    {
     "data": {
      "text/plain": [
       "'<!DOCTYPE html>\\r\\n<html lang=\"en-US\">\\r\\n<head itemscope=\"itemscope\" itemtype=\"http://schema.org/WebSite\">\\r\\n\\r\\n\\t<meta charset=\"UTF-8\">\\r\\n\\t<meta name=\"viewport\" content=\"width=device-width, initial-scale=1.0\" />\\r\\n\\t<meta http-equiv=\"X-UA-Compatible\" content=\"IE=edge\">\\r\\n\\t<link rel=\"profile\" href=\"https://gmpg.org/xfn/11\">\\r\\n\\t<meta name=\"mobile-web-app-capable\" content=\"yes\">\\n<meta name=\"apple-mobile-web-app-capable\" content=\"yes\">\\n<meta name=\"apple-mobile-web-app-title\" content=\"Menuco Ana - Eat Joyfully\">\\n<link rel=\"pingback\" href=\"https://menuco.co/xmlrpc.php\" />\\n<meta name=\\'robots\\' content=\\'index, follow, max-image-preview:large, max-snippet:-1, max-video-preview:-1\\' />\\n<meta itemprop=\"name\" content=\"Menuco Ana\" />\\n<meta itemprop=\"url\" content=\"https://menuco.co/\" />\\n\\r\\n\\t<!-- This site is optimized with the Yoast SEO plugin v17.1 - https://yoast.com/wordpress/plugins/seo/ -->\\r\\n\\t<title>Home Page - Menuco Ana</title>\\r\\n\\t<link rel=\"canonical\" href=\"https://menuco.co/\" />\\r\\n\\t<meta property=\"og:locale\" content=\"en_US\" />\\r\\n\\t<meta property=\"og:type\" content=\"website\" />\\r\\n\\t<meta property=\"og:title\" content=\"Home Page - Menuco Ana\" />\\r\\n\\t<meta property=\"og:url\" content=\"https://menuco.co/\" />\\r\\n\\t<meta property=\"og:site_name\" content=\"Menuco Ana\" />\\r\\n\\t<meta property=\"article:modified_time\" content=\"2021-08-13T12:11:53+00:00\" />\\r\\n\\t<meta name=\"twitter:card\" content=\"summary_large_image\" />\\r\\n\\t<meta name=\"twitter:site\" content=\"@MenucoApp\" />\\r\\n\\t<meta name=\"twitter:label1\" content=\"Est. reading time\" />\\n\\t<meta name=\"twitter:data1\" content=\"18 minutes\" />\\r\\n\\t<script type=\"application/ld+json\" class=\"yoast-schema-graph\">{\"@context\":\"https://schema.org\",\"@graph\":[{\"@type\":\"Organization\",\"@id\":\"https://menuco.co/#organization\",\"name\":\"Menuco\",\"url\":\"https://menuco.co/\",\"sameAs\":[\"https://www.linkedin.com/company/menucotech\",\"https://twitter.com/MenucoApp\"],\"logo\":{\"@type\":\"ImageObject\",\"@id\":\"https://menuco.co/#logo\",\"inLanguage\":\"en-US\",\"url\":\"https://menuco.co/wp-content/uploads/2021/07/Menuco_Logo-1-2-1.png\",\"contentUrl\":\"https://menuco.co/wp-content/uploads/2021/07/Menuco_Logo-1-2-1.png\",\"width\":75,\"height\":75,\"caption\":\"Menuco\"},\"image\":{\"@id\":\"https://menuco.co/#logo\"}},{\"@type\":\"WebSite\",\"@id\":\"https://menuco.co/#website\",\"url\":\"https://menuco.co/\",\"name\":\"Menuco\",\"description\":\"Eat Joyfully\",\"publisher\":{\"@id\":\"https://menuco.co/#organization\"},\"potentialAction\":[{\"@type\":\"SearchAction\",\"target\":{\"@type\":\"EntryPoint\",\"urlTemplate\":\"https://menuco.co/?s={search_term_string}\"},\"query-input\":\"required name=search_term_string\"}],\"inLanguage\":\"en-US\"},{\"@type\":\"WebPage\",\"@id\":\"https://menuco.co/#webpage\",\"url\":\"https://menuco.co/\",\"name\":\"Home Page - Menuco Ana\",\"isPartOf\":{\"@id\":\"https://menuco.co/#website\"},\"about\":{\"@id\":\"https://menuco.co/#organization\"},\"datePublished\":\"2019-12-30T07:13:30+00:00\",\"dateModified\":\"2021-08-13T12:11:53+00:00\",\"breadcrumb\":{\"@id\":\"https://menuco.co/#breadcrumb\"},\"inLanguage\":\"en-US\",\"potentialAction\":[{\"@type\":\"ReadAction\",\"target\":[\"https://menuco.co/\"]}]},{\"@type\":\"BreadcrumbList\",\"@id\":\"https://menuco.co/#breadcrumb\",\"itemListElement\":[{\"@type\":\"ListItem\",\"position\":1,\"name\":\"Home\"}]}]}</script>\\r\\n\\t<!-- / Yoast SEO plugin. -->\\r\\n\\r\\n\\r\\n<link rel=\\'dns-prefetch\\' href=\\'//s.w.org\\' />\\n<link rel=\"alternate\" type=\"application/rss+xml\" title=\"Menuco Ana &raquo; Feed\" href=\"https://menuco.co/feed/\" />\\n<link rel=\"alternate\" type=\"application/rss+xml\" title=\"Menuco Ana &raquo; Comments Feed\" href=\"https://menuco.co/comments/feed/\" />\\n<link rel=\"preload\" href=\"https://menuco.co/wp-content/themes/hub/assets/vendors/liquid-icon/lqd-essentials/fonts/lqd-essentials.woff2\" as=\"font\" type=\"font/woff2\" crossorigin>\\t\\t<!-- This site uses the Google Analytics by MonsterInsights plugin v7.18.0 - Using Analytics tracking - https://www.monsterinsights.com/ -->\\n\\t\\t\\t\\t\\t\\t\\t<script src=\"//www.googletagmanager.com/gtag/js?id=UA-179106925-1\"  type=\"text/javascript\" data-cfasync=\"false\" async></script>\\n\\t\\t\\t<script type=\"text/javascript\" data-cfasync=\"false\">\\n\\t\\t\\t\\tvar mi_version = \\'7.18.0\\';\\n\\t\\t\\t\\tvar mi_track_user = true;\\n\\t\\t\\t\\tvar mi_no_track_reason = \\'\\';\\n\\t\\t\\t\\t\\n\\t\\t\\t\\t\\t\\t\\t\\tvar disableStr = \\'ga-disable-UA-179106925-1\\';\\n\\n\\t\\t\\t\\t/* Function to detect opted out users */\\n\\t\\t\\t\\tfunction __gtagTrackerIsOptedOut() {\\n\\t\\t\\t\\t\\treturn document.cookie.indexOf( disableStr + \\'=true\\' ) > - 1;\\n\\t\\t\\t\\t}\\n\\n\\t\\t\\t\\t/* Disable tracking if the opt-out cookie exists. */\\n\\t\\t\\t\\tif ( __gtagTrackerIsOptedOut() ) {\\n\\t\\t\\t\\t\\twindow[disableStr] = true;\\n\\t\\t\\t\\t}\\n\\n\\t\\t\\t\\t/* Opt-out function */\\n\\t\\t\\t\\tfunction __gtagTrackerOptout() {\\n\\t\\t\\t\\t\\tdocument.cookie = disableStr + \\'=true; expires=Thu, 31 Dec 2099 23:59:59 UTC; path=/\\';\\n\\t\\t\\t\\t\\twindow[disableStr] = true;\\n\\t\\t\\t\\t}\\n\\n\\t\\t\\t\\tif ( \\'undefined\\' === typeof gaOptout ) {\\n\\t\\t\\t\\t\\tfunction gaOptout() {\\n\\t\\t\\t\\t\\t\\t__gtagTrackerOptout();\\n\\t\\t\\t\\t\\t}\\n\\t\\t\\t\\t}\\n\\t\\t\\t\\t\\t\\t\\t\\twindow.dataLayer = window.dataLayer || [];\\n\\t\\t\\t\\tif ( mi_track_user ) {\\n\\t\\t\\t\\t\\tfunction __gtagTracker() {dataLayer.push( arguments );}\\n\\t\\t\\t\\t\\t__gtagTracker( \\'js\\', new Date() );\\n\\t\\t\\t\\t\\t__gtagTracker( \\'set\\', {\\n\\t\\t\\t\\t\\t\\t\\'developer_id.dZGIzZG\\' : true,\\n\\t\\t\\t\\t\\t\\t                    });\\n\\t\\t\\t\\t\\t__gtagTracker( \\'config\\', \\'UA-179106925-1\\', {\\n\\t\\t\\t\\t\\t\\tforceSSL:true,link_attribution:true,\\t\\t\\t\\t\\t} );\\n\\t\\t\\t\\t\\t\\t\\t\\t\\t\\twindow.gtag = __gtagTracker;\\t\\t\\t\\t\\t\\t\\t\\t\\t\\t(\\n\\t\\t\\t\\t\\t\\tfunction () {\\n\\t\\t\\t\\t\\t\\t\\t/* https://developers.google.com/analytics/devguides/collection/analyticsjs/ */\\n\\t\\t\\t\\t\\t\\t\\t/* ga and __gaTracker compatibility shim. */\\n\\t\\t\\t\\t\\t\\t\\tvar noopfn = function () {\\n\\t\\t\\t\\t\\t\\t\\t\\treturn null;\\n\\t\\t\\t\\t\\t\\t\\t};\\n\\t\\t\\t\\t\\t\\t\\tvar newtracker = function () {\\n\\t\\t\\t\\t\\t\\t\\t\\treturn new Tracker();\\n\\t\\t\\t\\t\\t\\t\\t};\\n\\t\\t\\t\\t\\t\\t\\tvar Tracker = function () {\\n\\t\\t\\t\\t\\t\\t\\t\\treturn null;\\n\\t\\t\\t\\t\\t\\t\\t};\\n\\t\\t\\t\\t\\t\\t\\tvar p = Tracker.prototype;\\n\\t\\t\\t\\t\\t\\t\\tp.get = noopfn;\\n\\t\\t\\t\\t\\t\\t\\tp.set = noopfn;\\n\\t\\t\\t\\t\\t\\t\\tp.send = function (){\\n\\t\\t\\t\\t\\t\\t\\t\\tvar args = Array.prototype.slice.call(arguments);\\n\\t\\t\\t\\t\\t\\t\\t\\targs.unshift( \\'send\\' );\\n\\t\\t\\t\\t\\t\\t\\t\\t__gaTracker.apply(null, args);\\n\\t\\t\\t\\t\\t\\t\\t};\\n\\t\\t\\t\\t\\t\\t\\tvar __gaTracker = function () {\\n\\t\\t\\t\\t\\t\\t\\t\\tvar len = arguments.length;\\n\\t\\t\\t\\t\\t\\t\\t\\tif ( len === 0 ) {\\n\\t\\t\\t\\t\\t\\t\\t\\t\\treturn;\\n\\t\\t\\t\\t\\t\\t\\t\\t}\\n\\t\\t\\t\\t\\t\\t\\t\\tvar f = arguments[len - 1];\\n\\t\\t\\t\\t\\t\\t\\t\\tif ( typeof f !== \\'object\\' || f === null || typeof f.hitCallback !== \\'function\\' ) {\\n\\t\\t\\t\\t\\t\\t\\t\\t\\tif ( \\'send\\' === arguments[0] ) {\\n\\t\\t\\t\\t\\t\\t\\t\\t\\t\\tvar hitConverted, hitObject = false, action;\\n\\t\\t\\t\\t\\t\\t\\t\\t\\t\\tif ( \\'event\\' === arguments[1] ) {\\n\\t\\t\\t\\t\\t\\t\\t\\t\\t\\t\\tif ( \\'undefined\\' !== typeof arguments[3] ) {\\n\\t\\t\\t\\t\\t\\t\\t\\t\\t\\t\\t\\thitObject = {\\n\\t\\t\\t\\t\\t\\t\\t\\t\\t\\t\\t\\t\\t\\'eventAction\\': arguments[3],\\n\\t\\t\\t\\t\\t\\t\\t\\t\\t\\t\\t\\t\\t\\'eventCategory\\': arguments[2],\\n\\t\\t\\t\\t\\t\\t\\t\\t\\t\\t\\t\\t\\t\\'eventLabel\\': arguments[4],\\n\\t\\t\\t\\t\\t\\t\\t\\t\\t\\t\\t\\t\\t\\'value\\': arguments[5] ? arguments[5] : 1,\\n\\t\\t\\t\\t\\t\\t\\t\\t\\t\\t\\t\\t}\\n\\t\\t\\t\\t\\t\\t\\t\\t\\t\\t\\t}\\n\\t\\t\\t\\t\\t\\t\\t\\t\\t\\t}\\n\\t\\t\\t\\t\\t\\t\\t\\t\\t\\tif ( \\'pageview\\' === arguments[1] ) {\\n\\t\\t\\t\\t\\t\\t\\t\\t\\t\\t\\tif ( \\'undefined\\' !== typeof arguments[2] ) {\\n\\t\\t\\t\\t\\t\\t\\t\\t\\t\\t\\t\\thitObject = {\\n\\t\\t\\t\\t\\t\\t\\t\\t\\t\\t\\t\\t\\t\\'eventAction\\': \\'page_view\\',\\n\\t\\t\\t\\t\\t\\t\\t\\t\\t\\t\\t\\t\\t\\'page_path\\' : arguments[2],\\n\\t\\t\\t\\t\\t\\t\\t\\t\\t\\t\\t\\t}\\n\\t\\t\\t\\t\\t\\t\\t\\t\\t\\t\\t}\\n\\t\\t\\t\\t\\t\\t\\t\\t\\t\\t}\\n\\t\\t\\t\\t\\t\\t\\t\\t\\t\\tif ( typeof arguments[2] === \\'object\\' ) {\\n\\t\\t\\t\\t\\t\\t\\t\\t\\t\\t\\thitObject = arguments[2];\\n\\t\\t\\t\\t\\t\\t\\t\\t\\t\\t}\\n\\t\\t\\t\\t\\t\\t\\t\\t\\t\\tif ( typeof arguments[5] === \\'object\\' ) {\\n\\t\\t\\t\\t\\t\\t\\t\\t\\t\\t\\tObject.assign( hitObject, arguments[5] );\\n\\t\\t\\t\\t\\t\\t\\t\\t\\t\\t}\\n\\t\\t\\t\\t\\t\\t\\t\\t\\t\\tif ( \\'undefined\\' !== typeof arguments[1].hitType ) {\\n\\t\\t\\t\\t\\t\\t\\t\\t\\t\\t\\thitObject = arguments[1];\\n\\t\\t\\t\\t\\t\\t\\t\\t\\t\\t\\tif ( \\'pageview\\' === hitObject.hitType ) {\\n\\t\\t\\t\\t\\t\\t\\t\\t\\t\\t\\t\\thitObject.eventAction = \\'page_view\\';\\n\\t\\t\\t\\t\\t\\t\\t\\t\\t\\t\\t}\\n\\t\\t\\t\\t\\t\\t\\t\\t\\t\\t}\\n\\t\\t\\t\\t\\t\\t\\t\\t\\t\\tif ( hitObject ) {\\n\\t\\t\\t\\t\\t\\t\\t\\t\\t\\t\\taction = \\'timing\\' === arguments[1].hitType ? \\'timing_complete\\' : hitObject.eventAction;\\n\\t\\t\\t\\t\\t\\t\\t\\t\\t\\t\\thitConverted = mapArgs( hitObject );\\n\\t\\t\\t\\t\\t\\t\\t\\t\\t\\t\\t__gtagTracker( \\'event\\', action, hitConverted );\\n\\t\\t\\t\\t\\t\\t\\t\\t\\t\\t}\\n\\t\\t\\t\\t\\t\\t\\t\\t\\t}\\n\\t\\t\\t\\t\\t\\t\\t\\t\\treturn;\\n\\t\\t\\t\\t\\t\\t\\t\\t}\\n\\n\\t\\t\\t\\t\\t\\t\\t\\tfunction mapArgs( args ) {\\n\\t\\t\\t\\t\\t\\t\\t\\t\\tvar arg, hit = {};\\n\\t\\t\\t\\t\\t\\t\\t\\t\\tvar gaMap = {\\n\\t\\t\\t\\t\\t\\t\\t\\t\\t\\t\\'eventCategory\\': \\'event_category\\',\\n\\t\\t\\t\\t\\t\\t\\t\\t\\t\\t\\'eventAction\\': \\'event_action\\',\\n\\t\\t\\t\\t\\t\\t\\t\\t\\t\\t\\'eventLabel\\': \\'event_label\\',\\n\\t\\t\\t\\t\\t\\t\\t\\t\\t\\t\\'eventValue\\': \\'event_value\\',\\n\\t\\t\\t\\t\\t\\t\\t\\t\\t\\t\\'nonInteraction\\': \\'non_interaction\\',\\n\\t\\t\\t\\t\\t\\t\\t\\t\\t\\t\\'timingCategory\\': \\'event_category\\',\\n\\t\\t\\t\\t\\t\\t\\t\\t\\t\\t\\'timingVar\\': \\'name\\',\\n\\t\\t\\t\\t\\t\\t\\t\\t\\t\\t\\'timingValue\\': \\'value\\',\\n\\t\\t\\t\\t\\t\\t\\t\\t\\t\\t\\'timingLabel\\': \\'event_label\\',\\n\\t\\t\\t\\t\\t\\t\\t\\t\\t\\t\\'page\\' : \\'page_path\\',\\n\\t\\t\\t\\t\\t\\t\\t\\t\\t\\t\\'location\\' : \\'page_location\\',\\n\\t\\t\\t\\t\\t\\t\\t\\t\\t\\t\\'title\\' : \\'page_title\\',\\n\\t\\t\\t\\t\\t\\t\\t\\t\\t};\\n\\t\\t\\t\\t\\t\\t\\t\\t\\tfor ( arg in args ) {\\n\\t\\t\\t\\t\\t\\t\\t\\t\\t\\tif ( args.hasOwnProperty(arg) && gaMap.hasOwnProperty(arg) ) {\\n\\t\\t\\t\\t\\t\\t\\t\\t\\t\\t\\thit[gaMap[arg]] = args[arg];\\n\\t\\t\\t\\t\\t\\t\\t\\t\\t\\t} else {\\n\\t\\t\\t\\t\\t\\t\\t\\t\\t\\t\\thit[arg] = args[arg];\\n\\t\\t\\t\\t\\t\\t\\t\\t\\t\\t}\\n\\t\\t\\t\\t\\t\\t\\t\\t\\t}\\n\\t\\t\\t\\t\\t\\t\\t\\t\\treturn hit;\\n\\t\\t\\t\\t\\t\\t\\t\\t}\\n\\n\\t\\t\\t\\t\\t\\t\\t\\ttry {\\n\\t\\t\\t\\t\\t\\t\\t\\t\\tf.hitCallback();\\n\\t\\t\\t\\t\\t\\t\\t\\t} catch ( ex ) {\\n\\t\\t\\t\\t\\t\\t\\t\\t}\\n\\t\\t\\t\\t\\t\\t\\t};\\n\\t\\t\\t\\t\\t\\t\\t__gaTracker.create = newtracker;\\n\\t\\t\\t\\t\\t\\t\\t__gaTracker.getByName = newtracker;\\n\\t\\t\\t\\t\\t\\t\\t__gaTracker.getAll = function () {\\n\\t\\t\\t\\t\\t\\t\\t\\treturn [];\\n\\t\\t\\t\\t\\t\\t\\t};\\n\\t\\t\\t\\t\\t\\t\\t__gaTracker.remove = noopfn;\\n\\t\\t\\t\\t\\t\\t\\t__gaTracker.loaded = true;\\n\\t\\t\\t\\t\\t\\t\\twindow[\\'__gaTracker\\'] = __gaTracker;\\n\\t\\t\\t\\t\\t\\t}\\n\\t\\t\\t\\t\\t)();\\n\\t\\t\\t\\t\\t\\t\\t\\t\\t} else {\\n\\t\\t\\t\\t\\t\\t\\t\\t\\t\\tconsole.log( \"\" );\\n\\t\\t\\t\\t\\t( function () {\\n\\t\\t\\t\\t\\t\\t\\tfunction __gtagTracker() {\\n\\t\\t\\t\\t\\t\\t\\t\\treturn null;\\n\\t\\t\\t\\t\\t\\t\\t}\\n\\t\\t\\t\\t\\t\\t\\twindow[\\'__gtagTracker\\'] = __gtagTracker;\\n\\t\\t\\t\\t\\t\\t\\twindow[\\'gtag\\'] = __gtagTracker;\\n\\t\\t\\t\\t\\t} )();\\n\\t\\t\\t\\t\\t\\t\\t\\t\\t}\\n\\t\\t\\t</script>\\n\\t\\t\\t\\t<!-- / Google Analytics by MonsterInsights -->\\n\\t\\t<script type=\"text/javascript\">\\nwindow._wpemojiSettings = {\"baseUrl\":\"https:\\\\/\\\\/s.w.org\\\\/images\\\\/core\\\\/emoji\\\\/13.1.0\\\\/72x72\\\\/\",\"ext\":\".png\",\"svgUrl\":\"https:\\\\/\\\\/s.w.org\\\\/images\\\\/core\\\\/emoji\\\\/13.1.0\\\\/svg\\\\/\",\"svgExt\":\".svg\",\"source\":{\"concatemoji\":\"https:\\\\/\\\\/menuco.co\\\\/wp-includes\\\\/js\\\\/wp-emoji-release.min.js?ver=5.9.3\"}};\\n/*! This file is auto-generated */\\n!function(e,a,t){var n,r,o,i=a.createElement(\"canvas\"),p=i.getContext&&i.getContext(\"2d\");function s(e,t){var a=String.fromCharCode;p.clearRect(0,0,i.width,i.height),p.fillText(a.apply(this,e),0,0);e=i.toDataURL();return p.clearRect(0,0,i.width,i.height),p.fillText(a.apply(this,t),0,0),e===i.toDataURL()}function c(e){var t=a.createElement(\"script\");t.src=e,t.defer=t.type=\"text/javascript\",a.getElementsByTagName(\"head\")[0].appendChild(t)}for(o=Array(\"flag\",\"emoji\"),t.supports={everything:!0,everythingExceptFlag:!0},r=0;r<o.length;r++)t.supports[o[r]]=function(e){if(!p||!p.fillText)return!1;switch(p.textBaseline=\"top\",p.font=\"600 32px Arial\",e){case\"flag\":return s([127987,65039,8205,9895,65039],[127987,65039,8203,9895,65039])?!1:!s([55356,56826,55356,56819],[55356,56826,8203,55356,56819])&&!s([55356,57332,56128,56423,56128,56418,56128,56421,56128,56430,56128,56423,56128,56447],[55356,57332,8203,56128,56423,8203,56128,56418,8203,56128,56421,8203,56128,56430,8203,56128,56423,8203,56128,56447]);case\"emoji\":return!s([10084,65039,8205,55357,56613],[10084,65039,8203,55357,56613])}return!1}(o[r]),t.supports.everything=t.supports.everything&&t.supports[o[r]],\"flag\"!==o[r]&&(t.supports.everythingExceptFlag=t.supports.everythingExceptFlag&&t.supports[o[r]]);t.supports.everythingExceptFlag=t.supports.everythingExceptFlag&&!t.supports.flag,t.DOMReady=!1,t.readyCallback=function(){t.DOMReady=!0},t.supports.everything||(n=function(){t.readyCallback()},a.addEventListener?(a.addEventListener(\"DOMContentLoaded\",n,!1),e.addEventListener(\"load\",n,!1)):(e.attachEvent(\"onload\",n),a.attachEvent(\"onreadystatechange\",function(){\"complete\"===a.readyState&&t.readyCallback()})),(n=t.source||{}).concatemoji?c(n.concatemoji):n.wpemoji&&n.twemoji&&(c(n.twemoji),c(n.wpemoji)))}(window,document,window._wpemojiSettings);\\n</script>\\n<style type=\"text/css\">\\nimg.wp-smiley,\\nimg.emoji {\\n\\tdisplay: inline !important;\\n\\tborder: none !important;\\n\\tbox-shadow: none !important;\\n\\theight: 1em !important;\\n\\twidth: 1em !important;\\n\\tmargin: 0 0.07em !important;\\n\\tvertical-align: -0.1em !important;\\n\\tbackground: none !important;\\n\\tpadding: 0 !important;\\n}\\n</style>\\n\\t<link rel=\\'stylesheet\\' id=\\'wp-block-library-css\\'  href=\\'https://menuco.co/wp-includes/css/dist/block-library/style.min.css?ver=5.9.3\\' type=\\'text/css\\' media=\\'all\\' />\\n<style id=\\'wp-block-library-theme-inline-css\\' type=\\'text/css\\'>\\n.wp-block-audio figcaption{color:#555;font-size:13px;text-align:center}.is-dark-theme .wp-block-audio figcaption{color:hsla(0,0%,100%,.65)}.wp-block-code>code{font-family:Menlo,Consolas,monaco,monospace;color:#1e1e1e;padding:.8em 1em;border:1px solid #ddd;border-radius:4px}.wp-block-embed figcaption{color:#555;font-size:13px;text-align:center}.is-dark-theme .wp-block-embed figcaption{color:hsla(0,0%,100%,.65)}.blocks-gallery-caption{color:#555;font-size:13px;text-align:center}.is-dark-theme .blocks-gallery-caption{color:hsla(0,0%,100%,.65)}.wp-block-image figcaption{color:#555;font-size:13px;text-align:center}.is-dark-theme .wp-block-image figcaption{color:hsla(0,0%,100%,.65)}.wp-block-pullquote{border-top:4px solid;border-bottom:4px solid;margin-bottom:1.75em;color:currentColor}.wp-block-pullquote__citation,.wp-block-pullquote cite,.wp-block-pullquote footer{color:currentColor;text-transform:uppercase;font-size:.8125em;font-style:normal}.wp-block-quote{border-left:.25em solid;margin:0 0 1.75em;padding-left:1em}.wp-block-quote cite,.wp-block-quote footer{color:currentColor;font-size:.8125em;position:relative;font-style:normal}.wp-block-quote.has-text-align-right{border-left:none;border-right:.25em solid;padding-left:0;padding-right:1em}.wp-block-quote.has-text-align-center{border:none;padding-left:0}.wp-block-quote.is-large,.wp-block-quote.is-style-large,.wp-block-quote.is-style-plain{border:none}.wp-block-search .wp-block-search__label{font-weight:700}.wp-block-group:where(.has-background){padding:1.25em 2.375em}.wp-block-separator{border:none;border-bottom:2px solid;margin-left:auto;margin-right:auto;opacity:.4}.wp-block-separator:not(.is-style-wide):not(.is-style-dots){width:100px}.wp-block-separator.has-background:not(.is-style-dots){border-bottom:none;height:1px}.wp-block-separator.has-background:not(.is-style-wide):not(.is-style-dots){height:2px}.wp-block-table thead{border-bottom:3px solid}.wp-block-table tfoot{border-top:3px solid}.wp-block-table td,.wp-block-table th{padding:.5em;border:1px solid;word-break:normal}.wp-block-table figcaption{color:#555;font-size:13px;text-align:center}.is-dark-theme .wp-block-table figcaption{color:hsla(0,0%,100%,.65)}.wp-block-video figcaption{color:#555;font-size:13px;text-align:center}.is-dark-theme .wp-block-video figcaption{color:hsla(0,0%,100%,.65)}.wp-block-template-part.has-background{padding:1.25em 2.375em;margin-top:0;margin-bottom:0}\\n</style>\\n<style id=\\'global-styles-inline-css\\' type=\\'text/css\\'>\\nbody{--wp--preset--color--black: #000000;--wp--preset--color--cyan-bluish-gray: #abb8c3;--wp--preset--color--white: #ffffff;--wp--preset--color--pale-pink: #f78da7;--wp--preset--color--vivid-red: #cf2e2e;--wp--preset--color--luminous-vivid-orange: #ff6900;--wp--preset--color--luminous-vivid-amber: #fcb900;--wp--preset--color--light-green-cyan: #7bdcb5;--wp--preset--color--vivid-green-cyan: #00d084;--wp--preset--color--pale-cyan-blue: #8ed1fc;--wp--preset--color--vivid-cyan-blue: #0693e3;--wp--preset--color--vivid-purple: #9b51e0;--wp--preset--gradient--vivid-cyan-blue-to-vivid-purple: linear-gradient(135deg,rgba(6,147,227,1) 0%,rgb(155,81,224) 100%);--wp--preset--gradient--light-green-cyan-to-vivid-green-cyan: linear-gradient(135deg,rgb(122,220,180) 0%,rgb(0,208,130) 100%);--wp--preset--gradient--luminous-vivid-amber-to-luminous-vivid-orange: linear-gradient(135deg,rgba(252,185,0,1) 0%,rgba(255,105,0,1) 100%);--wp--preset--gradient--luminous-vivid-orange-to-vivid-red: linear-gradient(135deg,rgba(255,105,0,1) 0%,rgb(207,46,46) 100%);--wp--preset--gradient--very-light-gray-to-cyan-bluish-gray: linear-gradient(135deg,rgb(238,238,238) 0%,rgb(169,184,195) 100%);--wp--preset--gradient--cool-to-warm-spectrum: linear-gradient(135deg,rgb(74,234,220) 0%,rgb(151,120,209) 20%,rgb(207,42,186) 40%,rgb(238,44,130) 60%,rgb(251,105,98) 80%,rgb(254,248,76) 100%);--wp--preset--gradient--blush-light-purple: linear-gradient(135deg,rgb(255,206,236) 0%,rgb(152,150,240) 100%);--wp--preset--gradient--blush-bordeaux: linear-gradient(135deg,rgb(254,205,165) 0%,rgb(254,45,45) 50%,rgb(107,0,62) 100%);--wp--preset--gradient--luminous-dusk: linear-gradient(135deg,rgb(255,203,112) 0%,rgb(199,81,192) 50%,rgb(65,88,208) 100%);--wp--preset--gradient--pale-ocean: linear-gradient(135deg,rgb(255,245,203) 0%,rgb(182,227,212) 50%,rgb(51,167,181) 100%);--wp--preset--gradient--electric-grass: linear-gradient(135deg,rgb(202,248,128) 0%,rgb(113,206,126) 100%);--wp--preset--gradient--midnight: linear-gradient(135deg,rgb(2,3,129) 0%,rgb(40,116,252) 100%);--wp--preset--duotone--dark-grayscale: url(\\'#wp-duotone-dark-grayscale\\');--wp--preset--duotone--grayscale: url(\\'#wp-duotone-grayscale\\');--wp--preset--duotone--purple-yellow: url(\\'#wp-duotone-purple-yellow\\');--wp--preset--duotone--blue-red: url(\\'#wp-duotone-blue-red\\');--wp--preset--duotone--midnight: url(\\'#wp-duotone-midnight\\');--wp--preset--duotone--magenta-yellow: url(\\'#wp-duotone-magenta-yellow\\');--wp--preset--duotone--purple-green: url(\\'#wp-duotone-purple-green\\');--wp--preset--duotone--blue-orange: url(\\'#wp-duotone-blue-orange\\');--wp--preset--font-size--small: 13px;--wp--preset--font-size--medium: 20px;--wp--preset--font-size--large: 36px;--wp--preset--font-size--x-large: 42px;}.has-black-color{color: var(--wp--preset--color--black) !important;}.has-cyan-bluish-gray-color{color: var(--wp--preset--color--cyan-bluish-gray) !important;}.has-white-color{color: var(--wp--preset--color--white) !important;}.has-pale-pink-color{color: var(--wp--preset--color--pale-pink) !important;}.has-vivid-red-color{color: var(--wp--preset--color--vivid-red) !important;}.has-luminous-vivid-orange-color{color: var(--wp--preset--color--luminous-vivid-orange) !important;}.has-luminous-vivid-amber-color{color: var(--wp--preset--color--luminous-vivid-amber) !important;}.has-light-green-cyan-color{color: var(--wp--preset--color--light-green-cyan) !important;}.has-vivid-green-cyan-color{color: var(--wp--preset--color--vivid-green-cyan) !important;}.has-pale-cyan-blue-color{color: var(--wp--preset--color--pale-cyan-blue) !important;}.has-vivid-cyan-blue-color{color: var(--wp--preset--color--vivid-cyan-blue) !important;}.has-vivid-purple-color{color: var(--wp--preset--color--vivid-purple) !important;}.has-black-background-color{background-color: var(--wp--preset--color--black) !important;}.has-cyan-bluish-gray-background-color{background-color: var(--wp--preset--color--cyan-bluish-gray) !important;}.has-white-background-color{background-color: var(--wp--preset--color--white) !important;}.has-pale-pink-background-color{background-color: var(--wp--preset--color--pale-pink) !important;}.has-vivid-red-background-color{background-color: var(--wp--preset--color--vivid-red) !important;}.has-luminous-vivid-orange-background-color{background-color: var(--wp--preset--color--luminous-vivid-orange) !important;}.has-luminous-vivid-amber-background-color{background-color: var(--wp--preset--color--luminous-vivid-amber) !important;}.has-light-green-cyan-background-color{background-color: var(--wp--preset--color--light-green-cyan) !important;}.has-vivid-green-cyan-background-color{background-color: var(--wp--preset--color--vivid-green-cyan) !important;}.has-pale-cyan-blue-background-color{background-color: var(--wp--preset--color--pale-cyan-blue) !important;}.has-vivid-cyan-blue-background-color{background-color: var(--wp--preset--color--vivid-cyan-blue) !important;}.has-vivid-purple-background-color{background-color: var(--wp--preset--color--vivid-purple) !important;}.has-black-border-color{border-color: var(--wp--preset--color--black) !important;}.has-cyan-bluish-gray-border-color{border-color: var(--wp--preset--color--cyan-bluish-gray) !important;}.has-white-border-color{border-color: var(--wp--preset--color--white) !important;}.has-pale-pink-border-color{border-color: var(--wp--preset--color--pale-pink) !important;}.has-vivid-red-border-color{border-color: var(--wp--preset--color--vivid-red) !important;}.has-luminous-vivid-orange-border-color{border-color: var(--wp--preset--color--luminous-vivid-orange) !important;}.has-luminous-vivid-amber-border-color{border-color: var(--wp--preset--color--luminous-vivid-amber) !important;}.has-light-green-cyan-border-color{border-color: var(--wp--preset--color--light-green-cyan) !important;}.has-vivid-green-cyan-border-color{border-color: var(--wp--preset--color--vivid-green-cyan) !important;}.has-pale-cyan-blue-border-color{border-color: var(--wp--preset--color--pale-cyan-blue) !important;}.has-vivid-cyan-blue-border-color{border-color: var(--wp--preset--color--vivid-cyan-blue) !important;}.has-vivid-purple-border-color{border-color: var(--wp--preset--color--vivid-purple) !important;}.has-vivid-cyan-blue-to-vivid-purple-gradient-background{background: var(--wp--preset--gradient--vivid-cyan-blue-to-vivid-purple) !important;}.has-light-green-cyan-to-vivid-green-cyan-gradient-background{background: var(--wp--preset--gradient--light-green-cyan-to-vivid-green-cyan) !important;}.has-luminous-vivid-amber-to-luminous-vivid-orange-gradient-background{background: var(--wp--preset--gradient--luminous-vivid-amber-to-luminous-vivid-orange) !important;}.has-luminous-vivid-orange-to-vivid-red-gradient-background{background: var(--wp--preset--gradient--luminous-vivid-orange-to-vivid-red) !important;}.has-very-light-gray-to-cyan-bluish-gray-gradient-background{background: var(--wp--preset--gradient--very-light-gray-to-cyan-bluish-gray) !important;}.has-cool-to-warm-spectrum-gradient-background{background: var(--wp--preset--gradient--cool-to-warm-spectrum) !important;}.has-blush-light-purple-gradient-background{background: var(--wp--preset--gradient--blush-light-purple) !important;}.has-blush-bordeaux-gradient-background{background: var(--wp--preset--gradient--blush-bordeaux) !important;}.has-luminous-dusk-gradient-background{background: var(--wp--preset--gradient--luminous-dusk) !important;}.has-pale-ocean-gradient-background{background: var(--wp--preset--gradient--pale-ocean) !important;}.has-electric-grass-gradient-background{background: var(--wp--preset--gradient--electric-grass) !important;}.has-midnight-gradient-background{background: var(--wp--preset--gradient--midnight) !important;}.has-small-font-size{font-size: var(--wp--preset--font-size--small) !important;}.has-medium-font-size{font-size: var(--wp--preset--font-size--medium) !important;}.has-large-font-size{font-size: var(--wp--preset--font-size--large) !important;}.has-x-large-font-size{font-size: var(--wp--preset--font-size--x-large) !important;}\\n</style>\\n<link rel=\\'stylesheet\\' id=\\'contact-form-7-css\\'  href=\\'https://menuco.co/wp-content/plugins/contact-form-7/includes/css/styles.css?ver=5.4.1\\' type=\\'text/css\\' media=\\'all\\' />\\n<link rel=\\'stylesheet\\' id=\\'ihc_front_end_style-css\\'  href=\\'https://menuco.co/wp-content/plugins/indeed-membership-pro/assets/css/style.min.css?ver=1.1\\' type=\\'text/css\\' media=\\'all\\' />\\n<link rel=\\'stylesheet\\' id=\\'ihc_templates_style-css\\'  href=\\'https://menuco.co/wp-content/plugins/indeed-membership-pro/assets/css/templates.min.css?ver=1.1\\' type=\\'text/css\\' media=\\'all\\' />\\n<link rel=\\'stylesheet\\' id=\\'rs-plugin-settings-css\\'  href=\\'https://menuco.co/wp-content/plugins/revslider/public/assets/css/rs6.css?ver=6.4.11\\' type=\\'text/css\\' media=\\'all\\' />\\n<style id=\\'rs-plugin-settings-inline-css\\' type=\\'text/css\\'>\\n#rs-demo-id {}\\n</style>\\n<link rel=\\'stylesheet\\' id=\\'font-awesome-css\\'  href=\\'https://menuco.co/wp-content/themes/hub/assets/vendors/font-awesome/css/font-awesome.min.css\\' type=\\'text/css\\' media=\\'all\\' />\\n<link rel=\\'stylesheet\\' id=\\'bootstrap-css\\'  href=\\'https://menuco.co/wp-content/themes/hub/assets/vendors/bootstrap/css/bootstrap.min.css\\' type=\\'text/css\\' media=\\'all\\' />\\n<link rel=\\'stylesheet\\' id=\\'liquid-base-css\\'  href=\\'https://menuco.co/wp-content/themes/hub/style.css\\' type=\\'text/css\\' media=\\'all\\' />\\n<link rel=\\'stylesheet\\' id=\\'liquid-theme-css\\'  href=\\'https://menuco.co/wp-content/themes/hub/assets/css/theme.css\\' type=\\'text/css\\' media=\\'all\\' />\\n<link rel=\\'stylesheet\\' id=\\'theme-responsive-min-css\\'  href=\\'https://menuco.co/wp-content/themes/hub/assets/css/theme-responsive-min.min.css?ver=5.9.3\\' type=\\'text/css\\' media=\\'screen and (min-width: 1200px)\\' />\\n<link rel=\\'stylesheet\\' id=\\'theme-responsive-max-css\\'  href=\\'https://menuco.co/wp-content/themes/hub/assets/css/theme-responsive-max.min.css?ver=5.9.3\\' type=\\'text/css\\' media=\\'screen and (max-width: 1199px)\\' />\\n<link rel=\\'stylesheet\\' id=\\'js_composer_front-css\\'  href=\\'https://menuco.co/wp-content/plugins/liquid_js_composer/assets/css/js_composer.min.css?ver=6.6.0\\' type=\\'text/css\\' media=\\'all\\' />\\n<link rel=\\'stylesheet\\' id=\\'ld-gdpr-box-css\\'  href=\\'https://menuco.co/wp-content/plugins/liquid-gdpr/assets/css/liquid-gdpr.min.css?ver=5.9.3\\' type=\\'text/css\\' media=\\'all\\' />\\n<link rel=\\'stylesheet\\' id=\\'landinghub-core-css\\'  href=\\'https://menuco.co/wp-content/plugins/hub-core/assets/css/landinghub-core.min.css?ver=5.9.3\\' type=\\'text/css\\' media=\\'all\\' />\\n<script type=\\'text/javascript\\' src=\\'https://menuco.co/wp-includes/js/jquery/jquery.min.js?ver=3.6.0\\' id=\\'jquery-core-js\\'></script>\\n<script type=\\'text/javascript\\' src=\\'https://menuco.co/wp-includes/js/jquery/jquery-migrate.min.js?ver=3.3.2\\' id=\\'jquery-migrate-js\\'></script>\\n<script type=\\'text/javascript\\' id=\\'monsterinsights-frontend-script-js-extra\\'>\\n/* <![CDATA[ */\\nvar monsterinsights_frontend = {\"js_events_tracking\":\"true\",\"download_extensions\":\"doc,pdf,ppt,zip,xls,docx,pptx,xlsx\",\"inbound_paths\":\"[{\\\\\"path\\\\\":\\\\\"\\\\\\\\\\\\/go\\\\\\\\\\\\/\\\\\",\\\\\"label\\\\\":\\\\\"affiliate\\\\\"},{\\\\\"path\\\\\":\\\\\"\\\\\\\\\\\\/recommend\\\\\\\\\\\\/\\\\\",\\\\\"label\\\\\":\\\\\"affiliate\\\\\"}]\",\"home_url\":\"https:\\\\/\\\\/menuco.co\",\"hash_tracking\":\"false\",\"ua\":\"UA-179106925-1\"};\\n/* ]]> */\\n</script>\\n<script type=\\'text/javascript\\' src=\\'https://menuco.co/wp-content/plugins/google-analytics-for-wordpress/assets/js/frontend-gtag.min.js?ver=7.18.0\\' id=\\'monsterinsights-frontend-script-js\\'></script>\\n<script type=\\'text/javascript\\' src=\\'https://menuco.co/wp-content/plugins/indeed-membership-pro/assets/js/jquery-ui.min.js\\' id=\\'ihc-jquery-ui-js\\'></script>\\n<script type=\\'text/javascript\\' id=\\'ihc-front_end_js-js-extra\\'>\\n/* <![CDATA[ */\\nvar ihc_translated_labels = {\"delete_level\":\"Are you sure you want to delete this level?\",\"cancel_level\":\"Are you sure you want to cancel this level?\"};\\n/* ]]> */\\n</script>\\n<script type=\\'text/javascript\\' src=\\'https://menuco.co/wp-content/plugins/indeed-membership-pro/assets/js/functions.min.js?ver=1.3\\' id=\\'ihc-front_end_js-js\\'></script>\\n<script type=\\'text/javascript\\' id=\\'ihc-front_end_js-js-after\\'>\\nvar ihc_site_url=\\'https://menuco.co\\';\\nvar ihc_ajax_url=\\'https://menuco.co/wp-admin/admin-ajax.php\\';\\nvar ihcStripeMultiply=\\'100\\';\\n</script>\\n<script type=\\'text/javascript\\' src=\\'https://menuco.co/wp-content/plugins/revslider/public/assets/js/rbtools.min.js?ver=6.4.8\\' id=\\'tp-tools-js\\'></script>\\n<script type=\\'text/javascript\\' src=\\'https://menuco.co/wp-content/plugins/revslider/public/assets/js/rs6.min.js?ver=6.4.11\\' id=\\'revmin-js\\'></script>\\n<script type=\\'text/javascript\\' id=\\'liquid-typekit-js-before\\'>\\nvar WebFontConfig = WebFontConfig || {}; WebFontConfig[\\'typekit\\'] = { id: \\'wwc5qth\\' };\\n\\t\\t\\t\\tvar WebFontConfig = WebFontConfig || {};\\r\\n\\t\\t\\t\\tWebFontConfig[\\'events\\'] = true;\\r\\n\\t\\t\\t\\tWebFontConfig[\\'timeout\\'] = 5000;\\r\\n\\t\\t\\t\\tWebFontConfig[\\'active\\'] = function() {\\r\\n\\t\\t\\t\\t\\tif ( typeof ( window.jQuery ) !== \\'undefined\\' ) {\\r\\n\\t\\t\\t\\t\\t\\tjQuery(window).trigger(\\'liquid_async_fonts_active\\');\\r\\n\\t\\t\\t\\t\\t}\\r\\n\\t\\t\\t\\t};\\r\\n\\t\\t\\t\\tWebFontConfig[\\'inactive\\'] = function() {\\r\\n\\t\\t\\t\\t\\tif ( typeof ( window.jQuery ) !== \\'undefined\\' ) {\\r\\n\\t\\t\\t\\t\\t\\tjQuery(window).trigger(\\'liquid_async_fonts_inactive\\');\\r\\n\\t\\t\\t\\t\\t}\\r\\n\\t\\t\\t\\t};\\r\\n\\r\\n\\t\\t\\t\\t(function(d) {\\r\\n\\t\\t\\t\\t\\tvar wf = d.createElement(\\'script\\'), s = d.scripts[0];\\r\\n\\t\\t\\t\\t\\twf.src = \\'https://ajax.googleapis.com/ajax/libs/webfont/1.6.16/webfont.js\\';\\r\\n\\t\\t\\t\\t\\ts.parentNode.insertBefore(wf, s);\\r\\n\\t\\t\\t\\t})(document);\\r\\n\\t\\t\\t\\n</script>\\n<script type=\\'text/javascript\\' src=\\'https://menuco.co/wp-content/plugins/hub-core/extensions/redux-typekit/liquid-typekit.js?ver=5.9.3\\' id=\\'liquid-typekit-js\\'></script>\\n<link rel=\"https://api.w.org/\" href=\"https://menuco.co/wp-json/\" /><link rel=\"alternate\" type=\"application/json\" href=\"https://menuco.co/wp-json/wp/v2/pages/17662\" /><link rel=\"EditURI\" type=\"application/rsd+xml\" title=\"RSD\" href=\"https://menuco.co/xmlrpc.php?rsd\" />\\n<link rel=\"wlwmanifest\" type=\"application/wlwmanifest+xml\" href=\"https://menuco.co/wp-includes/wlwmanifest.xml\" /> \\n<meta name=\"generator\" content=\"WordPress 5.9.3\" />\\n<link rel=\\'shortlink\\' href=\\'https://menuco.co/\\' />\\n<link rel=\"alternate\" type=\"application/json+oembed\" href=\"https://menuco.co/wp-json/oembed/1.0/embed?url=https%3A%2F%2Fmenuco.co%2F\" />\\n<link rel=\"alternate\" type=\"text/xml+oembed\" href=\"https://menuco.co/wp-json/oembed/1.0/embed?url=https%3A%2F%2Fmenuco.co%2F&#038;format=xml\" />\\n<meta name=\\'ump-token\\' content=\\'783a19c2bf\\'>\\t<link rel=\"shortcut icon\" href=\"https://menuco.co/wp-content/uploads/2021/07/Menuco_Logo-1-2-1-1.png\" />\\r\\n\\t<script type=\"text/javascript\">\\r\\n\\t\\t\\t\\twindow.liquidParams = {\\r\\n\\t\\t\\t\\t\\tcurrentZIndex: 10\\r\\n\\t\\t\\t\\t}\\r\\n\\t\\t\\t</script><style type=\"text/css\">.recentcomments a{display:inline !important;padding:0 !important;margin:0 !important;}</style><meta name=\"generator\" content=\"Powered by WPBakery Page Builder - drag and drop page builder for WordPress.\"/>\\n<meta name=\"generator\" content=\"Powered by Slider Revolution 6.4.11 - responsive, Mobile-Friendly Slider Plugin for WordPress with comfortable drag and drop interface.\" />\\n<script type=\"text/javascript\">function setREVStartSize(e){\\r\\n\\t\\t\\t//window.requestAnimationFrame(function() {\\t\\t\\t\\t \\r\\n\\t\\t\\t\\twindow.RSIW = window.RSIW===undefined ? window.innerWidth : window.RSIW;\\t\\r\\n\\t\\t\\t\\twindow.RSIH = window.RSIH===undefined ? window.innerHeight : window.RSIH;\\t\\r\\n\\t\\t\\t\\ttry {\\t\\t\\t\\t\\t\\t\\t\\t\\r\\n\\t\\t\\t\\t\\tvar pw = document.getElementById(e.c).parentNode.offsetWidth,\\r\\n\\t\\t\\t\\t\\t\\tnewh;\\r\\n\\t\\t\\t\\t\\tpw = pw===0 || isNaN(pw) ? window.RSIW : pw;\\r\\n\\t\\t\\t\\t\\te.tabw = e.tabw===undefined ? 0 : parseInt(e.tabw);\\r\\n\\t\\t\\t\\t\\te.thumbw = e.thumbw===undefined ? 0 : parseInt(e.thumbw);\\r\\n\\t\\t\\t\\t\\te.tabh = e.tabh===undefined ? 0 : parseInt(e.tabh);\\r\\n\\t\\t\\t\\t\\te.thumbh = e.thumbh===undefined ? 0 : parseInt(e.thumbh);\\r\\n\\t\\t\\t\\t\\te.tabhide = e.tabhide===undefined ? 0 : parseInt(e.tabhide);\\r\\n\\t\\t\\t\\t\\te.thumbhide = e.thumbhide===undefined ? 0 : parseInt(e.thumbhide);\\r\\n\\t\\t\\t\\t\\te.mh = e.mh===undefined || e.mh==\"\" || e.mh===\"auto\" ? 0 : parseInt(e.mh,0);\\t\\t\\r\\n\\t\\t\\t\\t\\tif(e.layout===\"fullscreen\" || e.l===\"fullscreen\") \\t\\t\\t\\t\\t\\t\\r\\n\\t\\t\\t\\t\\t\\tnewh = Math.max(e.mh,window.RSIH);\\t\\t\\t\\t\\t\\r\\n\\t\\t\\t\\t\\telse{\\t\\t\\t\\t\\t\\r\\n\\t\\t\\t\\t\\t\\te.gw = Array.isArray(e.gw) ? e.gw : [e.gw];\\r\\n\\t\\t\\t\\t\\t\\tfor (var i in e.rl) if (e.gw[i]===undefined || e.gw[i]===0) e.gw[i] = e.gw[i-1];\\t\\t\\t\\t\\t\\r\\n\\t\\t\\t\\t\\t\\te.gh = e.el===undefined || e.el===\"\" || (Array.isArray(e.el) && e.el.length==0)? e.gh : e.el;\\r\\n\\t\\t\\t\\t\\t\\te.gh = Array.isArray(e.gh) ? e.gh : [e.gh];\\r\\n\\t\\t\\t\\t\\t\\tfor (var i in e.rl) if (e.gh[i]===undefined || e.gh[i]===0) e.gh[i] = e.gh[i-1];\\r\\n\\t\\t\\t\\t\\t\\t\\t\\t\\t\\t\\t\\r\\n\\t\\t\\t\\t\\t\\tvar nl = new Array(e.rl.length),\\r\\n\\t\\t\\t\\t\\t\\t\\tix = 0,\\t\\t\\t\\t\\t\\t\\r\\n\\t\\t\\t\\t\\t\\t\\tsl;\\t\\t\\t\\t\\t\\r\\n\\t\\t\\t\\t\\t\\te.tabw = e.tabhide>=pw ? 0 : e.tabw;\\r\\n\\t\\t\\t\\t\\t\\te.thumbw = e.thumbhide>=pw ? 0 : e.thumbw;\\r\\n\\t\\t\\t\\t\\t\\te.tabh = e.tabhide>=pw ? 0 : e.tabh;\\r\\n\\t\\t\\t\\t\\t\\te.thumbh = e.thumbhide>=pw ? 0 : e.thumbh;\\t\\t\\t\\t\\t\\r\\n\\t\\t\\t\\t\\t\\tfor (var i in e.rl) nl[i] = e.rl[i]<window.RSIW ? 0 : e.rl[i];\\r\\n\\t\\t\\t\\t\\t\\tsl = nl[0];\\t\\t\\t\\t\\t\\t\\t\\t\\t\\r\\n\\t\\t\\t\\t\\t\\tfor (var i in nl) if (sl>nl[i] && nl[i]>0) { sl = nl[i]; ix=i;}\\t\\t\\t\\t\\t\\t\\t\\t\\t\\t\\t\\t\\t\\t\\t\\r\\n\\t\\t\\t\\t\\t\\tvar m = pw>(e.gw[ix]+e.tabw+e.thumbw) ? 1 : (pw-(e.tabw+e.thumbw)) / (e.gw[ix]);\\t\\t\\t\\t\\t\\r\\n\\t\\t\\t\\t\\t\\tnewh =  (e.gh[ix] * m) + (e.tabh + e.thumbh);\\r\\n\\t\\t\\t\\t\\t}\\t\\t\\t\\t\\r\\n\\t\\t\\t\\t\\tif(window.rs_init_css===undefined) window.rs_init_css = document.head.appendChild(document.createElement(\"style\"));\\t\\t\\t\\t\\t\\r\\n\\t\\t\\t\\t\\tdocument.getElementById(e.c).height = newh+\"px\";\\r\\n\\t\\t\\t\\t\\twindow.rs_init_css.innerHTML += \"#\"+e.c+\"_wrapper { height: \"+newh+\"px }\";\\t\\t\\t\\t\\r\\n\\t\\t\\t\\t} catch(e){\\r\\n\\t\\t\\t\\t\\tconsole.log(\"Failure at Presize of Slider:\" + e)\\r\\n\\t\\t\\t\\t}\\t\\t\\t\\t\\t   \\r\\n\\t\\t\\t//});\\r\\n\\t\\t  };</script>\\n\\t\\t<style type=\"text/css\" id=\"wp-custom-css\">\\n\\t\\t\\t.wp-block-buttons .wp-block-button__link {\\n    display: none;\\n}\\t\\t</style>\\n\\t\\t<style id=\\'liquid-stylesheet-inline-css\\' type=\\'text/css\\'>:root{--color-primary:#f7274d;--color-gradient-start:#f85976;--color-gradient-stop:#f85976;--lqd-cc-active-bw:1px;--lqd-cc-active-bg:rgb(0, 0, 0);--lqd-cc-active-bc:rgb(0, 0, 0);--lqd-cc-active-circle-txt:rgb(0, 0, 0);}body{font-family:\\'sofia-pro\\', sans-serif ;line-height:1.6em;font-size:15px;color:#595b74;}.btn{font-family:inherit;font-weight:700;text-transform:uppercase;line-height:12px;letter-spacing:0.09em;font-size:12px;}.lqd-post-content, .lqd-post-header .entry-excerpt{font-family:inherit;line-height:1.73em;font-size:19px;}.h1,h1{font-family:\\'sofia-pro\\', sans-serif ;font-weight:700;line-height:1.2em;font-size:46px;color:#0d177b;}.h2,h2{font-family:\\'sofia-pro\\', sans-serif ;font-weight:700;line-height:1.395em;font-size:43px;color:#0d177b;}.h3,h3{font-family:\\'sofia-pro\\', sans-serif ;font-weight:700;line-height:1.2em;font-size:32px;color:#0d177b;}.h4,h4{font-family:\\'sofia-pro\\', sans-serif ;font-weight:700;line-height:1.5em;font-size:20px;color:#0d177b;}.h5,h5{font-family:\\'sofia-pro\\', sans-serif ;font-weight:400;line-height:1.5em;font-size:18px;color:#0d177b;}.h6,h6{font-family:\\'sofia-pro\\', sans-serif ;font-weight:700;line-height:1.5em;letter-spacing:0.09em;font-size:12px;text-transform:uppercase;color:#f85976;}.titlebar-inner h1{color:#0d177b !important;}.titlebar-inner p{color:#595b74 !important;}.titlebar-inner{padding-top:5px;padding-bottom:5px;}.titlebar{background-color:#ffffff;background:linear-gradient(180deg, rgb(241, 253, 255) 2.229299363057325%, rgb(255, 255, 255) 100%);}#lqd-site-content{background-image:url( https://seohub.liquid-themes.com/staging/wp-content/uploads/2020/01/bg-11.svg);background-repeat:repeat;background-position:center center;}@media screen and (min-width: 992px){body.has-sidebar #lqd-contents-wrap{padding-top:25px;}}@media ( min-width: 1200px ){.is-stuck .lqd-head-sec-wrap{background:rgba(255, 255, 255, 0.95) !important;}.is-stuck .lqd-head-col > .header-module > p, .is-stuck .lqd-head-col > .header-module .nav-trigger, .is-stuck .lqd-head-col > .header-module .lqd-scrl-indc, .is-stuck .lqd-head-col > .header-module > .lqd-custom-menu, .is-stuck .lqd-head-col > .header-module > .btn-naked, .is-stuck .lqd-head-col > .header-module > .btn-underlined, .is-stuck .lqd-head-col > .header-module > .social-icon li a, .is-stuck .lqd-head-col > .header-module > .lqd-custom-menu > ul > li > a, .is-stuck .lqd-head-col > .header-module > .navbar-collapse .main-nav > li > a, .is-stuck .lqd-head-col > .header-module .ld-module-trigger .ld-module-trigger-txt, .is-stuck .lqd-head-col > .header-module .lqd-module-badge-outline .ld-module-trigger-count, .is-stuck .lqd-head-col > .header-module .ld-module-trigger-icon, .is-stuck .lqd-head-col > .header-module > .lqd-custom-menu .lqd-custom-menu-dropdown-btn{color:rgb(51, 51, 51);}.is-stuck .lqd-head-col > .header-module .nav-trigger.bordered .bars:before{border-color:rgb(51, 51, 51);}.is-stuck .lqd-head-col > .header-module .nav-trigger .bar, .is-stuck .lqd-head-col > .header-module .lqd-scrl-indc .lqd-scrl-indc-line{background:rgb(51, 51, 51);}.is-stuck .lqd-head-col > .header-module > .btn-naked:hover, .is-stuck .lqd-head-col > .header-module > .btn-underlined:hover, .is-stuck .lqd-head-col > .header-module > .social-icon li a:hover, .is-stuck .lqd-head-col > .header-module > .lqd-custom-menu > ul > li > a:hover, .is-stuck .lqd-head-col > .header-module > .navbar-collapse .main-nav > li > a:hover, .is-stuck .lqd-head-col > .header-module > .navbar-collapse .main-nav > li:hover > a, .is-stuck .lqd-head-col > .header-module > .navbar-collapse .main-nav > li.is-active > a, .is-stuck .lqd-head-col > .header-module > .navbar-collapse .main-nav > li.current-menu-ancestor > a, .is-stuck .lqd-head-col > .header-module > .navbar-collapse .main-nav > li.current_page_item > a, .is-stuck .lqd-head-col > .header-module > .navbar-collapse .main-nav > li.current-menu-item > a, .is-stuck .lqd-head-col > .header-module > .iconbox h3, .is-stuck .lqd-head-col > .header-module > .iconbox .iconbox-icon-container{color:rgb(0, 0, 0);}}@media screen and (max-width: 1199px){.main-header .navbar-header{background:rgb(232, 238, 243);}}@media screen and (min-width: 1200px) {\\r\\n.is-stuck {\\r\\n    box-shadow: -2px 3px 80px 0px rgba(33, 0, 134, 0.12);\\r\\n} }</style><style type=\"text/css\" data-type=\"vc_shortcodes-custom-css\">.vc_custom_1626611064909{padding-bottom: 60px !important;}.vc_custom_1611579550402{padding-bottom: 60px !important;}.vc_custom_1626617194110{margin-right: 20px !important;margin-left: 20px !important;padding-top: 60px !important;padding-bottom: 40px !important;background-position: 0 0;background-repeat: no-repeat !important;border-radius: 10px !important;}.vc_custom_1612951381107{padding-top: 60px !important;padding-bottom: 40px !important;}.vc_custom_1605610071158{padding-top: 60px !important;padding-bottom: 70px !important;}.vc_custom_1626613908607{padding-top: 60px !important;padding-bottom: 60px !important;}.vc_custom_1626613927965{margin-right: 20px !important;margin-left: 20px !important;padding-top: 60px !important;padding-bottom: 60px !important;background-position: center !important;background-repeat: no-repeat !important;background-size: cover !important;border-radius: 10px !important;}.vc_custom_1626615934412{padding-top: 60px !important;padding-bottom: 40px !important;}.vc_custom_1626537992187{padding-bottom: 50px !important;}.vc_custom_1626617271784{padding-bottom: 60px !important;}.vc_custom_1577714262716{margin-top: 20px !important;}.vc_custom_1627159793044{margin-bottom: 30px !important;}.vc_custom_1612951351272{margin-bottom: 15px !important;}.vc_custom_1605983335270{margin-bottom: 65px !important;}.vc_custom_1577868995137{margin-bottom: 40px !important;}.vc_custom_1605983239537{padding-right: 10px !important;padding-left: 10px !important;}.vc_custom_1612951351272{margin-bottom: 15px !important;}.vc_custom_1612951397960{padding-top: 45px !important;padding-right: 10px !important;padding-bottom: 15px !important;padding-left: 10px !important;border-radius: 10px !important;}.vc_custom_1612951407262{padding-top: 45px !important;padding-right: 10px !important;padding-bottom: 15px !important;padding-left: 10px !important;border-radius: 10px !important;}.vc_custom_1612951419457{padding-top: 45px !important;padding-right: 10px !important;padding-bottom: 15px !important;padding-left: 10px !important;border-radius: 10px !important;}.vc_custom_1626425902761{margin-top: 25px !important;}.vc_custom_1626426384448{margin-top: 25px !important;}.vc_custom_1577783882845{margin-bottom: 40px !important;}.vc_custom_1577874026644{margin-bottom: 35px !important;}.vc_custom_1577874034752{margin-bottom: 35px !important;}.vc_custom_1577874096799{margin-bottom: 30px !important;}</style><noscript><style> .wpb_animate_when_almost_visible { opacity: 1; }</style></noscript><style type=\"text/css\" data-type=\"vc_shortcodes-custom-css\">.vc_custom_1577693080114{padding-right: 50px !important;padding-left: 50px !important;}.vc_custom_1627068550766{padding-right: 0.3em !important;padding-left: 0.3em !important;}.vc_custom_1626878354995{padding-right: 0.3em !important;padding-left: 0.3em !important;}</style><style type=\"text/css\" data-type=\"vc_shortcodes-custom-css\">.vc_custom_1626610238991{margin-top: 30px !important;}.vc_custom_1577874368151{margin-top: 30px !important;}</style>\\r\\n</head>\\r\\n\\r\\n<body class=\"home page-template-default page page-id-17662 wp-embed-responsive lqd-pf-single lqd-pf-single-style-1 lqd-preloader-activated lqd-page-not-loaded lqd-preloader-style-fade site-wide-layout lazyload-enabled wpb-js-composer js-comp-ver-6.6.0 vc_responsive\" dir=\"ltr\" itemscope=\"itemscope\" itemtype=\"http://schema.org/WebPage\" data-mobile-nav-breakpoint=\"1199\" data-mobile-nav-style=\"minimal\" data-mobile-nav-scheme=\"gray\" data-mobile-nav-trigger-alignment=\"right\" data-mobile-header-scheme=\"custom\" data-mobile-logo-alignment=\"default\" data-mobile-nav-align=\"right\" data-overlay-onmobile=\"false\" data-lqd-cc=\"true\">\\r\\n\\t\\r\\n\\t<svg xmlns=\"http://www.w3.org/2000/svg\" viewBox=\"0 0 0 0\" width=\"0\" height=\"0\" focusable=\"false\" role=\"none\" style=\"visibility: hidden; position: absolute; left: -9999px; overflow: hidden;\" ><defs><filter id=\"wp-duotone-dark-grayscale\"><feColorMatrix color-interpolation-filters=\"sRGB\" type=\"matrix\" values=\" .299 .587 .114 0 0 .299 .587 .114 0 0 .299 .587 .114 0 0 .299 .587 .114 0 0 \" /><feComponentTransfer color-interpolation-filters=\"sRGB\" ><feFuncR type=\"table\" tableValues=\"0 0.49803921568627\" /><feFuncG type=\"table\" tableValues=\"0 0.49803921568627\" /><feFuncB type=\"table\" tableValues=\"0 0.49803921568627\" /><feFuncA type=\"table\" tableValues=\"1 1\" /></feComponentTransfer><feComposite in2=\"SourceGraphic\" operator=\"in\" /></filter></defs></svg><svg xmlns=\"http://www.w3.org/2000/svg\" viewBox=\"0 0 0 0\" width=\"0\" height=\"0\" focusable=\"false\" role=\"none\" style=\"visibility: hidden; position: absolute; left: -9999px; overflow: hidden;\" ><defs><filter id=\"wp-duotone-grayscale\"><feColorMatrix color-interpolation-filters=\"sRGB\" type=\"matrix\" values=\" .299 .587 .114 0 0 .299 .587 .114 0 0 .299 .587 .114 0 0 .299 .587 .114 0 0 \" /><feComponentTransfer color-interpolation-filters=\"sRGB\" ><feFuncR type=\"table\" tableValues=\"0 1\" /><feFuncG type=\"table\" tableValues=\"0 1\" /><feFuncB type=\"table\" tableValues=\"0 1\" /><feFuncA type=\"table\" tableValues=\"1 1\" /></feComponentTransfer><feComposite in2=\"SourceGraphic\" operator=\"in\" /></filter></defs></svg><svg xmlns=\"http://www.w3.org/2000/svg\" viewBox=\"0 0 0 0\" width=\"0\" height=\"0\" focusable=\"false\" role=\"none\" style=\"visibility: hidden; position: absolute; left: -9999px; overflow: hidden;\" ><defs><filter id=\"wp-duotone-purple-yellow\"><feColorMatrix color-interpolation-filters=\"sRGB\" type=\"matrix\" values=\" .299 .587 .114 0 0 .299 .587 .114 0 0 .299 .587 .114 0 0 .299 .587 .114 0 0 \" /><feComponentTransfer color-interpolation-filters=\"sRGB\" ><feFuncR type=\"table\" tableValues=\"0.54901960784314 0.98823529411765\" /><feFuncG type=\"table\" tableValues=\"0 1\" /><feFuncB type=\"table\" tableValues=\"0.71764705882353 0.25490196078431\" /><feFuncA type=\"table\" tableValues=\"1 1\" /></feComponentTransfer><feComposite in2=\"SourceGraphic\" operator=\"in\" /></filter></defs></svg><svg xmlns=\"http://www.w3.org/2000/svg\" viewBox=\"0 0 0 0\" width=\"0\" height=\"0\" focusable=\"false\" role=\"none\" style=\"visibility: hidden; position: absolute; left: -9999px; overflow: hidden;\" ><defs><filter id=\"wp-duotone-blue-red\"><feColorMatrix color-interpolation-filters=\"sRGB\" type=\"matrix\" values=\" .299 .587 .114 0 0 .299 .587 .114 0 0 .299 .587 .114 0 0 .299 .587 .114 0 0 \" /><feComponentTransfer color-interpolation-filters=\"sRGB\" ><feFuncR type=\"table\" tableValues=\"0 1\" /><feFuncG type=\"table\" tableValues=\"0 0.27843137254902\" /><feFuncB type=\"table\" tableValues=\"0.5921568627451 0.27843137254902\" /><feFuncA type=\"table\" tableValues=\"1 1\" /></feComponentTransfer><feComposite in2=\"SourceGraphic\" operator=\"in\" /></filter></defs></svg><svg xmlns=\"http://www.w3.org/2000/svg\" viewBox=\"0 0 0 0\" width=\"0\" height=\"0\" focusable=\"false\" role=\"none\" style=\"visibility: hidden; position: absolute; left: -9999px; overflow: hidden;\" ><defs><filter id=\"wp-duotone-midnight\"><feColorMatrix color-interpolation-filters=\"sRGB\" type=\"matrix\" values=\" .299 .587 .114 0 0 .299 .587 .114 0 0 .299 .587 .114 0 0 .299 .587 .114 0 0 \" /><feComponentTransfer color-interpolation-filters=\"sRGB\" ><feFuncR type=\"table\" tableValues=\"0 0\" /><feFuncG type=\"table\" tableValues=\"0 0.64705882352941\" /><feFuncB type=\"table\" tableValues=\"0 1\" /><feFuncA type=\"table\" tableValues=\"1 1\" /></feComponentTransfer><feComposite in2=\"SourceGraphic\" operator=\"in\" /></filter></defs></svg><svg xmlns=\"http://www.w3.org/2000/svg\" viewBox=\"0 0 0 0\" width=\"0\" height=\"0\" focusable=\"false\" role=\"none\" style=\"visibility: hidden; position: absolute; left: -9999px; overflow: hidden;\" ><defs><filter id=\"wp-duotone-magenta-yellow\"><feColorMatrix color-interpolation-filters=\"sRGB\" type=\"matrix\" values=\" .299 .587 .114 0 0 .299 .587 .114 0 0 .299 .587 .114 0 0 .299 .587 .114 0 0 \" /><feComponentTransfer color-interpolation-filters=\"sRGB\" ><feFuncR type=\"table\" tableValues=\"0.78039215686275 1\" /><feFuncG type=\"table\" tableValues=\"0 0.94901960784314\" /><feFuncB type=\"table\" tableValues=\"0.35294117647059 0.47058823529412\" /><feFuncA type=\"table\" tableValues=\"1 1\" /></feComponentTransfer><feComposite in2=\"SourceGraphic\" operator=\"in\" /></filter></defs></svg><svg xmlns=\"http://www.w3.org/2000/svg\" viewBox=\"0 0 0 0\" width=\"0\" height=\"0\" focusable=\"false\" role=\"none\" style=\"visibility: hidden; position: absolute; left: -9999px; overflow: hidden;\" ><defs><filter id=\"wp-duotone-purple-green\"><feColorMatrix color-interpolation-filters=\"sRGB\" type=\"matrix\" values=\" .299 .587 .114 0 0 .299 .587 .114 0 0 .299 .587 .114 0 0 .299 .587 .114 0 0 \" /><feComponentTransfer color-interpolation-filters=\"sRGB\" ><feFuncR type=\"table\" tableValues=\"0.65098039215686 0.40392156862745\" /><feFuncG type=\"table\" tableValues=\"0 1\" /><feFuncB type=\"table\" tableValues=\"0.44705882352941 0.4\" /><feFuncA type=\"table\" tableValues=\"1 1\" /></feComponentTransfer><feComposite in2=\"SourceGraphic\" operator=\"in\" /></filter></defs></svg><svg xmlns=\"http://www.w3.org/2000/svg\" viewBox=\"0 0 0 0\" width=\"0\" height=\"0\" focusable=\"false\" role=\"none\" style=\"visibility: hidden; position: absolute; left: -9999px; overflow: hidden;\" ><defs><filter id=\"wp-duotone-blue-orange\"><feColorMatrix color-interpolation-filters=\"sRGB\" type=\"matrix\" values=\" .299 .587 .114 0 0 .299 .587 .114 0 0 .299 .587 .114 0 0 .299 .587 .114 0 0 \" /><feComponentTransfer color-interpolation-filters=\"sRGB\" ><feFuncR type=\"table\" tableValues=\"0.098039215686275 1\" /><feFuncG type=\"table\" tableValues=\"0 0.66274509803922\" /><feFuncB type=\"table\" tableValues=\"0.84705882352941 0.41960784313725\" /><feFuncA type=\"table\" tableValues=\"1 1\" /></feComponentTransfer><feComposite in2=\"SourceGraphic\" operator=\"in\" /></filter></defs></svg>\\r\\n\\t<section><h2 class=\"screen-reader-text\">Skip links</h2><ul class=\"liquid-skip-link screen-reader-text\"><li><a href=\"#primary\" class=\"screen-reader-shortcut\"> Skip to primary navigation</a></li><li><a href=\"#content\" class=\"screen-reader-shortcut\"> Skip to content</a></li></ul></section>\\n<div class=\"lqd-cc-wrap\">\\r\\n\\t\\t\\t\\t\\t<div class=\"lqd-cc lqd-cc--inner\">\\r\\n\\t\\t\\t\\t\\t\\t<span class=\"lqd-cc-solid-bg\"></span>\\r\\n\\t\\t\\t\\t\\t\\t<div class=\"lqd-cc-solid lqd-cc-explore\">\\r\\n\\t\\t\\t\\t\\t\\t\\t<div class=\"lqd-cc-solid-inner\">\\r\\n\\t\\t\\t\\t\\t\\t\\t\\t<span class=\"lqd-cc-solid-txt d-flex overflow-hidden justify-content-center text-center\">\\r\\n\\t\\t\\t\\t\\t\\t\\t\\t\\t<span class=\"d-flex\">Explore</span>\\r\\n\\t\\t\\t\\t\\t\\t\\t\\t</span>\\r\\n\\t\\t\\t\\t\\t\\t\\t</div><!-- /.lqd-cc-solid-inner -->\\r\\n\\t\\t\\t\\t\\t\\t</div><!-- /.lqd-css-explore -->\\r\\n\\t\\t\\t\\t\\t\\t<div class=\"lqd-cc-solid lqd-cc-drag\">\\r\\n\\t\\t\\t\\t\\t\\t\\t<div class=\"lqd-cc-solid-inner\">\\r\\n\\t\\t\\t\\t\\t\\t\\t\\t<span class=\"lqd-cc-solid-ext lqd-cc-solid-ext-left\">\\r\\n\\t\\t\\t\\t\\t\\t\\t\\t\\t<i class=\"lqd-icn-ess icon-ion-caret-back\"></i>\\r\\n\\t\\t\\t\\t\\t\\t\\t\\t</span>\\r\\n\\t\\t\\t\\t\\t\\t\\t\\t<span class=\"lqd-cc-solid-txt d-flex overflow-hidden justify-content-center text-center\">\\r\\n\\t\\t\\t\\t\\t\\t\\t\\t\\t<span class=\"d-flex\">Drag</span>\\r\\n\\t\\t\\t\\t\\t\\t\\t\\t</span>\\r\\n\\t\\t\\t\\t\\t\\t\\t\\t<span class=\"lqd-cc-solid-ext lqd-cc-solid-ext-right\">\\r\\n\\t\\t\\t\\t\\t\\t\\t\\t\\t<i class=\"lqd-icn-ess icon-ion-caret-forward\"></i>\\r\\n\\t\\t\\t\\t\\t\\t\\t\\t</span>\\r\\n\\t\\t\\t\\t\\t\\t\\t</div><!-- /.lqd-cc-solid-inner -->\\r\\n\\t\\t\\t\\t\\t\\t</div><!-- /.lqd-cc-solid -->\\r\\n\\t\\t\\t\\t\\t\\t<div class=\"lqd-cc-arrow\">\\r\\n\\t\\t\\t\\t\\t\\t\\t<svg width=\"80\" height=\"80\" viewBox=\"0 0 80 80\" fill=\"none\" xmlns=\"http://www.w3.org/2000/svg\">\\r\\n\\t\\t\\t\\t\\t\\t\\t\\t<path d=\"M60.4993 0V4.77005H8.87285L80 75.9207L75.7886 79.1419L4.98796 8.35478V60.4993H0V0H60.4993Z\"/>\\r\\n\\t\\t\\t\\t\\t\\t\\t</svg>\\r\\n\\t\\t\\t\\t\\t\\t</div><!-- /.lqd-cc-arrow -->\\r\\n\\t\\t\\t\\t\\t\\t<div class=\"lqd-cc-custom-icon\">\\r\\n\\t\\t\\t\\t\\t\\t\\t<span class=\"lqd-cc-ci\">\\r\\n\\t\\t\\t\\t\\t\\t\\t\\t<i class=\"lqd-icn-ess icon-ion-ios-add\"></i>\\r\\n\\t\\t\\t\\t\\t\\t\\t</span>\\r\\n\\t\\t\\t\\t\\t\\t</div><!-- /.lqd-cc-custom-icon -->\\r\\n\\t\\t\\t\\t\\t</div>\\r\\n\\t\\t\\t\\t\\t<div class=\"lqd-cc lqd-cc--outer\"></div>\\r\\n\\t\\t\\t\\t</div><!-- /.lqd-cc-wrap --><div class=\"lqd-preloader-wrap lqd-preloader-fade\" data-preloader-options=\\'{ \"animationType\": \"fade\" }\\'>\\r\\n\\t<div class=\"lqd-preloader-inner\">\\r\\n\\t</div><!-- /.lqd-preloader-inner -->\\r\\n</div><!-- /.lqd-preloader-wrap -->\\r\\n\\t<div id=\"wrap\">\\r\\n\\r\\n\\t\\t<header class=\"header site-header main-header main-header-overlay  \" data-megamenu-slide=\"true\" data-sticky-header=\"true\" data-sticky-values-measured=\"false\" data-sticky-options=\"{&quot;disableOnMobile&quot;:true}\" id=\"header\" itemscope=\"itemscope\" itemtype=\"http://schema.org/WPHeader\">\\r\\n    \\r\\n    <div  class=\"lqd-head-sec-wrap pos-rel    vc_custom_1577693080114 \" style=\"\">\\r\\n\\t\\t\\t\\t\\t\\t<div class=\"lqd-head-sec container-fluid d-flex align-items-stretch\"><div  class=\"col-auto lqd-head-col  \" ><style>.ld_header_image_62693fa681f65{padding-top:35px;padding-inline-end:45px;padding-bottom:35px;}.is-stuck .ld_header_image_62693fa681f65{padding-inline-end:45px;}</style>\\r\\n<div id=\"ld_header_image_62693fa681f65\" class=\"header-module module-logo no-rotate navbar-brand-plain ld_header_image_62693fa681f65\">\\r\\n\\r\\n\\t<a class=\"navbar-brand\" href=\"https://menuco.co/\" rel=\"home\"><span class=\"navbar-brand-inner\">    <img class=\"logo-default\" src=\"https://menuco.co/wp-content/uploads/2021/07/Menuco_Logo-1-2-1-1.png\" alt=\"Menuco Ana\"  /></span></a>\\t\\t\\r\\n</div><!-- /.navbar-header --></div><div  class=\"col lqd-head-col  \" ><style>.ld_header_menu_62693fa6858a9 > li > a{font-size:15px;font-weight:500;}.ld_header_menu_62693fa6858a9 > li > a, .navbar-fullscreen .ld_header_menu_62693fa6858a9 > li > a{color:rgb(13, 23, 123);}.ld_header_menu_62693fa6858a9 > li:hover > a, .navbar-fullscreen .ld_header_menu_62693fa6858a9 > li > a:hover{color:rgba(13, 23, 123, 0.65);}.ld_header_menu_62693fa6858a9 > li.is-active > a, .ld_header_menu_62693fa6858a9 > li.current_page_item > a, .ld_header_menu_62693fa6858a9 > li.current-menu-item > a, .ld_header_menu_62693fa6858a9 > li.current-menu-ancestor > a, .navbar-fullscreen .ld_header_menu_62693fa6858a9 > li.is-active > a, .navbar-fullscreen .ld_header_menu_62693fa6858a9 > li.current_page_item > a, .navbar-fullscreen .ld_header_menu_62693fa6858a9 > li.current-menu-item > a, .navbar-fullscreen .ld_header_menu_62693fa6858a9 > li.current-menu-ancestor > a{color:rgba(13, 23, 123, 0.65);}</style><div class=\"header-module module-primary-nav pos-stc\">\\r\\n\\t<div class=\"collapse navbar-collapse lqd-submenu-cover  \" id=\"main-header-collapse\" aria-expanded=\"false\" role=\"navigation\">\\r\\n\\t<ul id=\"primary-nav\" class=\"main-nav lqd-menu-counter-right ld_header_menu_62693fa6858a9 main-nav-hover-default nav align-items-lg-stretch justify-content-lg-default-align\" data-submenu-options=\\'{\"toggleType\":\"fade\",\"handler\":\"mouse-in-out\"}\\' ><li id=\"menu-item-17954\" class=\"menu-item menu-item-type-post_type menu-item-object-page menu-item-home current-menu-item page_item page-item-17662 current_page_item menu-item-17954\"><a href=\"https://menuco.co/\" aria-current=\"page\">Home Page</a></li>\\n<li id=\"menu-item-17992\" class=\"menu-item menu-item-type-custom menu-item-object-custom menu-item-17992\"><a href=\"https://menuco.co/subscription-plan\">Price List</a></li>\\n<li id=\"menu-item-17993\" class=\"menu-item menu-item-type-custom menu-item-object-custom menu-item-17993\"><a href=\"https://menuco.co/contact\">Contact</a></li>\\n</ul>\\t</div><!-- /.navbar-collapse -->\\r\\n</div><!-- /.header-module --></div><div  class=\"col-auto lqd-head-col   text-right text-lg-right\" ><style>.is-stuck .lqd-head-col > .header-module > .ld_header_button_62693fa68879f{color:rgb(15, 15, 123);border-color:rgb(15, 15, 123);}.is-stuck .lqd-head-col > .header-module > .ld_header_button_62693fa68879f.btn-solid{background-color:rgb(15, 15, 123);}.is-stuck .lqd-head-col > .header-module > .ld_header_button_62693fa68879f:hover{border-color:rgb(15, 15, 123);color:rgb(255, 255, 255);}.is-stuck .lqd-head-col > .header-module > .ld_header_button_62693fa68879f:hover, .is-stuck .lqd-head-col > .header-module > .ld_header_button_62693fa68879f.btn-solid:hover{background-color:rgb(15, 15, 123);}</style><div class=\"header-module module-button\">\\r\\n\\t<style>.ld_button_62693fa68a695.btn-icon-solid .btn-icon{background:rgb(15, 15, 123);}.ld_button_62693fa68a695.btn-icon-circle.btn-icon-ripple .btn-icon:before{border-color:rgb(15, 15, 123);}.ld_button_62693fa68a695.btn-icon-solid:hover .btn-icon{background:rgb(15, 15, 123);}.ld_button_62693fa68a695{color:rgb(15, 15, 123);border-color:rgb(15, 15, 123);}.ld_button_62693fa68a695:hover{background-color:rgb(15, 15, 123);border-color:rgb(15, 15, 123);color:rgb(255, 255, 255);}.ld_button_62693fa68a695 .btn-gradient-bg-hover{background:-webkit-linear-gradient(to right, rgb(15, 15, 123) 0%, rgb(15, 15, 123) 100%);background:linear-gradient(to right, rgb(15, 15, 123) 0%, rgb(15, 15, 123) 100%);}.ld_button_62693fa68a695:hover .btn-gradient-border defs stop:first-child{stop-color:rgb(15, 15, 123);}.ld_button_62693fa68a695:hover .btn-gradient-border defs stop:last-child{stop-color:rgb(15, 15, 123);}.ld_button_62693fa68a695 {font-size:11px; } .ld_button_62693fa68a695 {line-height:1.4em; } .ld_button_62693fa68a695 {--element-line-height:1.4em; } .ld_button_62693fa68a695 {font-weight:700; } .ld_button_62693fa68a695 {letter-spacing:0.08em; } .ld_button_62693fa68a695.btn-bordered:hover{border-color:rgb(225, 188, 133);}.ld_button_62693fa68a695 {font-size:11px; } .ld_button_62693fa68a695 {line-height:1.4em; } .ld_button_62693fa68a695 {--element-line-height:1.4em; } .ld_button_62693fa68a695 {font-weight:700; } .ld_button_62693fa68a695 {letter-spacing:0.08em; } .ld_button_62693fa68a695 {font-size:11px; } .ld_button_62693fa68a695 {line-height:1.4em; } .ld_button_62693fa68a695 {--element-line-height:1.4em; } .ld_button_62693fa68a695 {font-weight:700; } .ld_button_62693fa68a695 {letter-spacing:0.08em; } .ld_button_62693fa68a695 {font-size:11px; } .ld_button_62693fa68a695 {line-height:1.4em; } .ld_button_62693fa68a695 {--element-line-height:1.4em; } .ld_button_62693fa68a695 {font-weight:700; } .ld_button_62693fa68a695 {letter-spacing:0.08em; } </style><a href=\"https://menuco.co/login/\" title=\"Login\" class=\"btn btn-default text-uppercase btn-hover-txt-liquid-y circle btn-bordered border-thick btn-has-label ld_header_button_62693fa68879f ld_button_62693fa68a695 vc_custom_1627068550766\" >\\r\\n\\t<span>\\r\\n\\t\\t\\r\\n\\t\\t\\t\\t\\t<span class=\"btn-txt\" data-text=\"Login\" data-transition-delay=\"true\"\\r\\n\\t\\t\\t\\t\\t    data-delay-options=\\'{\"elements\": \".lqd-chars\", \"delayType\": \"animation\", \"startDelay\": 0, \"delayBetween\": 32.5}\\'\\r\\n\\t\\t\\t\\t\\t    data-split-text=\"true\"\\r\\n\\t\\t\\t\\t\\t    data-split-options=\\'{\"type\": \"chars, words\"}\\'>Login</span>\\r\\n\\t\\t\\t\\r\\n\\t\\t\\t\\t\\t</span>\\r\\n</a>\\r\\n</div><style>.is-stuck .lqd-head-col > .header-module > .ld_header_button_62693fa6912e3{color:rgb(15, 15, 123);border-color:rgb(15, 15, 123);}.is-stuck .lqd-head-col > .header-module > .ld_header_button_62693fa6912e3.btn-solid{background-color:rgb(15, 15, 123);}.is-stuck .lqd-head-col > .header-module > .ld_header_button_62693fa6912e3:hover{border-color:rgb(15, 15, 123);color:rgb(255, 255, 255);}.is-stuck .lqd-head-col > .header-module > .ld_header_button_62693fa6912e3:hover, .is-stuck .lqd-head-col > .header-module > .ld_header_button_62693fa6912e3.btn-solid:hover{background-color:rgb(15, 15, 123);}</style><div class=\"header-module module-button\">\\r\\n\\t<style>.ld_button_62693fa69220f.btn-icon-solid .btn-icon{background:rgb(15, 15, 123);}.ld_button_62693fa69220f.btn-icon-circle.btn-icon-ripple .btn-icon:before{border-color:rgb(15, 15, 123);}.ld_button_62693fa69220f.btn-icon-solid:hover .btn-icon{background:rgb(15, 15, 123);}.ld_button_62693fa69220f{background-color:rgb(15, 15, 123);border-color:rgb(15, 15, 123);}.ld_button_62693fa69220f:hover{background-color:rgb(15, 15, 123);border-color:rgb(15, 15, 123);color:rgb(255, 255, 255);}.ld_button_62693fa69220f .btn-gradient-bg-hover{background:-webkit-linear-gradient(to right, rgb(15, 15, 123) 0%, rgb(15, 15, 123) 100%);background:linear-gradient(to right, rgb(15, 15, 123) 0%, rgb(15, 15, 123) 100%);}.ld_button_62693fa69220f .btn-gradient-border defs stop:first-child{stop-color:rgb(15, 15, 123);}.ld_button_62693fa69220f .btn-gradient-border defs stop:last-child{stop-color:rgb(15, 15, 123);}.ld_button_62693fa69220f:hover .btn-gradient-border defs stop:first-child{stop-color:rgb(15, 15, 123);}.ld_button_62693fa69220f:hover .btn-gradient-border defs stop:last-child{stop-color:rgb(15, 15, 123);}.ld_button_62693fa69220f {font-size:11px; } .ld_button_62693fa69220f {line-height:1.4em; } .ld_button_62693fa69220f {--element-line-height:1.4em; } .ld_button_62693fa69220f {font-weight:700; } .ld_button_62693fa69220f {letter-spacing:0.08em; } .ld_button_62693fa69220f.btn-bordered:hover{border-color:rgb(15, 15, 123);}.ld_button_62693fa69220f {font-size:11px; } .ld_button_62693fa69220f {line-height:1.4em; } .ld_button_62693fa69220f {--element-line-height:1.4em; } .ld_button_62693fa69220f {font-weight:700; } .ld_button_62693fa69220f {letter-spacing:0.08em; } .ld_button_62693fa69220f {font-size:11px; } .ld_button_62693fa69220f {line-height:1.4em; } .ld_button_62693fa69220f {--element-line-height:1.4em; } .ld_button_62693fa69220f {font-weight:700; } .ld_button_62693fa69220f {letter-spacing:0.08em; } .ld_button_62693fa69220f {font-size:11px; } .ld_button_62693fa69220f {line-height:1.4em; } .ld_button_62693fa69220f {--element-line-height:1.4em; } .ld_button_62693fa69220f {font-weight:700; } .ld_button_62693fa69220f {letter-spacing:0.08em; } </style><a href=\"https://menuco.co/register/\" title=\"Register\" class=\"btn btn-solid text-uppercase btn-hover-txt-liquid-y circle border-thick btn-has-label ld_header_button_62693fa6912e3 ld_button_62693fa69220f vc_custom_1626878354995\" >\\r\\n\\t<span>\\r\\n\\t\\t\\r\\n\\t\\t\\t\\t\\t<span class=\"btn-txt\" data-text=\"Register\" data-transition-delay=\"true\"\\r\\n\\t\\t\\t\\t\\t    data-delay-options=\\'{\"elements\": \".lqd-chars\", \"delayType\": \"animation\", \"startDelay\": 0, \"delayBetween\": 32.5}\\'\\r\\n\\t\\t\\t\\t\\t    data-split-text=\"true\"\\r\\n\\t\\t\\t\\t\\t    data-split-options=\\'{\"type\": \"chars, words\"}\\'>Register</span>\\r\\n\\t\\t\\t\\r\\n\\t\\t\\t\\t\\t</span>\\r\\n</a>\\r\\n</div></div>\\t</div></div><div class=\"lqd-mobile-sec\">\\r\\n\\t\\t<div class=\"lqd-mobile-sec-inner navbar-header d-flex align-items-stretch\">\\r\\n\\t\\t\\t<div class=\"lqd-mobile-modules-container\"></div>\\r\\n\\t\\t\\t<button\\r\\n\\t\\t\\ttype=\"button\"\\r\\n\\t\\t\\tclass=\"navbar-toggle collapsed nav-trigger style-mobile\"\\r\\n\\t\\t\\tdata-ld-toggle=\"true\"\\r\\n\\t\\t\\tdata-toggle=\"collapse\"\\r\\n\\t\\t\\tdata-target=\"#lqd-mobile-sec-nav\"\\r\\n\\t\\t\\taria-expanded=\"false\"\\r\\n\\t\\t\\tdata-toggle-options=\\'{ \"changeClassnames\": {\"html\": \"mobile-nav-activated\"} }\\'>\\r\\n\\t\\t\\t\\t<span class=\"sr-only\">Toggle navigation</span>\\r\\n\\t\\t\\t\\t<span class=\"bars\">\\r\\n\\t\\t\\t\\t\\t<span class=\"bars-inner\">\\r\\n\\t\\t\\t\\t\\t\\t<span class=\"bar\"></span>\\r\\n\\t\\t\\t\\t\\t\\t<span class=\"bar\"></span>\\r\\n\\t\\t\\t\\t\\t\\t<span class=\"bar\"></span>\\r\\n\\t\\t\\t\\t\\t</span>\\r\\n\\t\\t\\t\\t</span>\\r\\n\\t\\t\\t</button>\\r\\n\\t\\r\\n\\t\\t\\t<a class=\"navbar-brand\" href=\"https://menuco.co/\">\\r\\n\\t\\t\\t\\t<span class=\"navbar-brand-inner\">\\r\\n\\t\\t\\t\\t\\t<img class=\"logo-default\" src=\"https://menuco.co/wp-content/uploads/2021/07/Menuco_Logo-1-2-1-1.png\" alt=\"Menuco Ana\"  />\\r\\n\\t\\t\\t\\t</span>\\r\\n\\t\\t\\t</a>\\r\\n\\r\\n\\t\\t</div>\\r\\n\\t\\r\\n\\t\\t<div class=\"lqd-mobile-sec-nav\">\\r\\n\\r\\n\\t\\t\\t<div class=\"mobile-navbar-collapse navbar-collapse collapse\" id=\"lqd-mobile-sec-nav\" aria-expanded=\"false\" role=\"navigation\"><ul id=\"mobile-primary-nav\" class=\"lqd-mobile-main-nav main-nav nav\"><li class=\"menu-item menu-item-type-post_type menu-item-object-page menu-item-home current-menu-item page_item page-item-17662 current_page_item menu-item-17954\"><a href=\"https://menuco.co/\" aria-current=\"page\">Home Page</a></li>\\n<li class=\"menu-item menu-item-type-custom menu-item-object-custom menu-item-17992\"><a href=\"https://menuco.co/subscription-plan\">Price List</a></li>\\n<li class=\"menu-item menu-item-type-custom menu-item-object-custom menu-item-17993\"><a href=\"https://menuco.co/contact\">Contact</a></li>\\n</ul></div>\\r\\n\\r\\n\\t\\t</div>\\r\\n\\t\\r\\n\\t</div>\\r\\n</header>\\r\\n\\t\\t<main class=\"content\" id=\"lqd-site-content\">\\r\\n\\r\\n\\t\\t\\t\\r\\n\\t\\t\\t<div id=\"lqd-contents-wrap\">\\r\\n\\r\\n\\t\\t\\t\\r\\n\\r\\n\\t<section class=\"vc_row liquid-row-shadowbox-62693fa6a0399\"><div class=\"one-row_bottom_divider z-index-99\" style=\"height:99px;\"><svg width=\"1440\" fill=\"#ffffff\" height=\"150\" xmlns=\"http://www.w3.org/2000/svg\" preserveAspectRatio=\"none\"  viewBox=\"0 0 1440 150\">\\r\\n\\t\\t\\t\\t\\t\\t<path d=\"M 0 26.1978 C 275.76 83.8152 430.707 65.0509 716.279 25.6386 C 930.422 -3.86123 1210.32 -3.98357 1439 9.18045 C 2072.34 45.9691 2201.93 62.4429 2560 26.198 V 172.199 L 0 172.199 V 26.1978 Z\">\\r\\n\\t\\t\\t\\t\\t\\t\\t<animate repeatCount=\"indefinite\" fill=\"freeze\" attributeName=\"d\" dur=\"10s\" values=\"M0 25.9086C277 84.5821 433 65.736 720 25.9086C934.818 -3.9019 1214.06 -5.23669 1442 8.06597C2079 45.2421 2208 63.5007 2560 25.9088V171.91L0 171.91V25.9086Z; M0 86.3149C316 86.315 444 159.155 884 51.1554C1324 -56.8446 1320.29 34.1214 1538 70.4063C1814 116.407 2156 188.408 2560 86.315V232.317L0 232.316V86.3149Z; M0 53.6584C158 11.0001 213 0 363 0C513 0 855.555 115.001 1154 115.001C1440 115.001 1626 -38.0004 2560 53.6585V199.66L0 199.66V53.6584Z; M0 25.9086C277 84.5821 433 65.736 720 25.9086C934.818 -3.9019 1214.06 -5.23669 1442 8.06597C2079 45.2421 2208 63.5007 2560 25.9088V171.91L0 171.91V25.9086Z\">\\r\\n\\t\\t\\t\\t\\t\\t\\t</animate>\\r\\n\\t\\t\\t\\t\\t\\t</path>\\r\\n\\t\\t\\t\\t\\t</svg></div><div class=\"ld-container container\"><div class=\"row ld-row ld-row-outer\"><div class=\"wpb_column vc_column_container vc_col-sm-12 liquid-column-62693fa6b6ba8\"><div class=\"vc_column-inner  \" ><div class=\"wpb_wrapper\"  >\\n\\t\\t\\t<!-- START Slider 1 REVOLUTION SLIDER 6.4.11 --><p class=\"rs-p-wp-fix\"></p>\\n\\t\\t\\t<rs-module-wrap id=\"rev_slider_1_1_wrapper\" data-source=\"gallery\" style=\"background:transparent;padding:0;\">\\n\\t\\t\\t\\t<rs-module id=\"rev_slider_1_1\" style=\"\" data-version=\"6.4.11\">\\n\\t\\t\\t\\t\\t<rs-slides>\\n\\t\\t\\t\\t\\t\\t<rs-slide data-key=\"rs-1\" data-title=\"Slide\" data-in=\"o:0;\" data-out=\"a:false;\">\\n\\t\\t\\t\\t\\t\\t\\t<img src=\"//menuco.co/wp-content/plugins/revslider/public/assets/assets/transparent.png\" alt=\"Slide\" title=\"Home Page\" class=\"rev-slidebg tp-rs-img\" data-bg=\"c:linear-gradient(0deg, rgba(239,244,255,1) 0%, rgba(255,255,255,1) 100%);\" data-no-retina>\\n<!--\\n\\t\\t\\t\\t\\t\\t\\t--><rs-group\\n\\t\\t\\t\\t\\t\\t\\t\\tid=\"slider-1-slide-1-layer-16\" \\n\\t\\t\\t\\t\\t\\t\\t\\tdata-type=\"group\"\\n\\t\\t\\t\\t\\t\\t\\t\\tdata-xy=\"x:l,l,c,c;xo:400px,285px,0,0;y:m;yo:-20px,-50px,340px,340px;\"\\n\\t\\t\\t\\t\\t\\t\\t\\tdata-text=\"w:normal;\"\\n\\t\\t\\t\\t\\t\\t\\t\\tdata-dim=\"w:713;h:585px;\"\\n\\t\\t\\t\\t\\t\\t\\t\\tdata-vbility=\"t,t,t,f\"\\n\\t\\t\\t\\t\\t\\t\\t\\tdata-rsp_o=\"off\"\\n\\t\\t\\t\\t\\t\\t\\t\\tdata-rsp_bd=\"off\"\\n\\t\\t\\t\\t\\t\\t\\t\\tdata-frame_0=\"o:1;\"\\n\\t\\t\\t\\t\\t\\t\\t\\tdata-frame_1=\"st:1900;sR:1900;\"\\n\\t\\t\\t\\t\\t\\t\\t\\tdata-frame_999=\"o:0;st:w;sR:6800;sA:9000;\"\\n\\t\\t\\t\\t\\t\\t\\t\\tstyle=\"z-index:24;\"\\n\\t\\t\\t\\t\\t\\t\\t><!--\\n\\t\\t\\t\\t\\t\\t\\t\\t--><rs-layer\\n\\t\\t\\t\\t\\t\\t\\t\\t\\tid=\"slider-1-slide-1-layer-27\" \\n\\t\\t\\t\\t\\t\\t\\t\\t\\tdata-type=\"image\"\\n\\t\\t\\t\\t\\t\\t\\t\\t\\tdata-xy=\"x:c;xo:-11px,28px,28px,28px;y:m;yo:12px,22px,22px,22px;\"\\n\\t\\t\\t\\t\\t\\t\\t\\t\\tdata-text=\"w:normal;\"\\n\\t\\t\\t\\t\\t\\t\\t\\t\\tdata-dim=\"w:[\\'727px\\',\\'727px\\',\\'727px\\',\\'727px\\'];h:[\\'409px\\',\\'409px\\',\\'409px\\',\\'409px\\'];\"\\n\\t\\t\\t\\t\\t\\t\\t\\t\\tdata-rsp_o=\"off\"\\n\\t\\t\\t\\t\\t\\t\\t\\t\\tdata-rsp_bd=\"off\"\\n\\t\\t\\t\\t\\t\\t\\t\\t\\tdata-frame_0=\"y:250px;\"\\n\\t\\t\\t\\t\\t\\t\\t\\t\\tdata-frame_1=\"e:power4.inOut;st:2900;sp:1200;sR:1000;\"\\n\\t\\t\\t\\t\\t\\t\\t\\t\\tdata-frame_999=\"o:0;st:w;sR:4900;\"\\n\\t\\t\\t\\t\\t\\t\\t\\t\\tdata-loop_999=\"y:20px;sp:3000;e:sine.inOut;yym:t;\"\\n\\t\\t\\t\\t\\t\\t\\t\\t\\tstyle=\"z-index:20;\"\\n\\t\\t\\t\\t\\t\\t\\t\\t><img src=\"//menuco.co/wp-content/uploads/2021/07/Adsiz-tasarim.png\" class=\"tp-rs-img\" width=\"1920\" height=\"1080\" data-no-retina> \\n\\t\\t\\t\\t\\t\\t\\t\\t</rs-layer><!--\\n\\n\\t\\t\\t\\t\\t\\t\\t\\t--><rs-layer\\n\\t\\t\\t\\t\\t\\t\\t\\t\\tid=\"slider-1-slide-1-layer-31\" \\n\\t\\t\\t\\t\\t\\t\\t\\t\\tdata-type=\"image\"\\n\\t\\t\\t\\t\\t\\t\\t\\t\\tdata-xy=\"x:c;xo:-91px;y:b;yo:108px;\"\\n\\t\\t\\t\\t\\t\\t\\t\\t\\tdata-text=\"w:normal;\"\\n\\t\\t\\t\\t\\t\\t\\t\\t\\tdata-dim=\"w:[\\'10px\\',\\'10px\\',\\'10px\\',\\'10px\\'];h:[\\'10px\\',\\'10px\\',\\'10px\\',\\'10px\\'];\"\\n\\t\\t\\t\\t\\t\\t\\t\\t\\tdata-rsp_o=\"off\"\\n\\t\\t\\t\\t\\t\\t\\t\\t\\tdata-rsp_bd=\"off\"\\n\\t\\t\\t\\t\\t\\t\\t\\t\\tdata-frame_1=\"e:power4.out;st:3700;sp:800;sR:1800;\"\\n\\t\\t\\t\\t\\t\\t\\t\\t\\tdata-frame_999=\"o:0;st:w;sR:4500;\"\\n\\t\\t\\t\\t\\t\\t\\t\\t\\tstyle=\"z-index:21;\"\\n\\t\\t\\t\\t\\t\\t\\t\\t><img src=\"//menuco.co/wp-content/uploads/2019/12/illus-9.svg\" class=\"tp-rs-img\" data-no-retina> \\n\\t\\t\\t\\t\\t\\t\\t\\t</rs-layer><!--\\n\\n\\t\\t\\t\\t\\t\\t\\t\\t--><rs-layer\\n\\t\\t\\t\\t\\t\\t\\t\\t\\tid=\"slider-1-slide-1-layer-32\" \\n\\t\\t\\t\\t\\t\\t\\t\\t\\tdata-type=\"image\"\\n\\t\\t\\t\\t\\t\\t\\t\\t\\tdata-xy=\"x:c;xo:-132px;y:b;yo:128px;\"\\n\\t\\t\\t\\t\\t\\t\\t\\t\\tdata-text=\"w:normal;\"\\n\\t\\t\\t\\t\\t\\t\\t\\t\\tdata-dim=\"w:[\\'17px\\',\\'17px\\',\\'17px\\',\\'17px\\'];h:[\\'17px\\',\\'17px\\',\\'17px\\',\\'17px\\'];\"\\n\\t\\t\\t\\t\\t\\t\\t\\t\\tdata-rsp_o=\"off\"\\n\\t\\t\\t\\t\\t\\t\\t\\t\\tdata-rsp_bd=\"off\"\\n\\t\\t\\t\\t\\t\\t\\t\\t\\tdata-frame_1=\"e:power4.out;st:3850;sp:800;sR:1950;\"\\n\\t\\t\\t\\t\\t\\t\\t\\t\\tdata-frame_999=\"o:0;st:w;sR:4350;\"\\n\\t\\t\\t\\t\\t\\t\\t\\t\\tstyle=\"z-index:22;\"\\n\\t\\t\\t\\t\\t\\t\\t\\t><img src=\"//menuco.co/wp-content/uploads/2019/12/illus-9.svg\" class=\"tp-rs-img\" data-no-retina> \\n\\t\\t\\t\\t\\t\\t\\t\\t</rs-layer><!--\\n\\n\\t\\t\\t\\t\\t\\t\\t\\t--><rs-layer\\n\\t\\t\\t\\t\\t\\t\\t\\t\\tid=\"slider-1-slide-1-layer-34\" \\n\\t\\t\\t\\t\\t\\t\\t\\t\\tdata-type=\"image\"\\n\\t\\t\\t\\t\\t\\t\\t\\t\\tdata-xy=\"x:c;xo:149px;y:b;yo:78px;\"\\n\\t\\t\\t\\t\\t\\t\\t\\t\\tdata-text=\"w:normal;\"\\n\\t\\t\\t\\t\\t\\t\\t\\t\\tdata-dim=\"w:[\\'10px\\',\\'10px\\',\\'10px\\',\\'10px\\'];h:[\\'10px\\',\\'10px\\',\\'10px\\',\\'10px\\'];\"\\n\\t\\t\\t\\t\\t\\t\\t\\t\\tdata-rsp_o=\"off\"\\n\\t\\t\\t\\t\\t\\t\\t\\t\\tdata-rsp_bd=\"off\"\\n\\t\\t\\t\\t\\t\\t\\t\\t\\tdata-frame_1=\"e:power4.out;st:4050;sp:800;sR:2150;\"\\n\\t\\t\\t\\t\\t\\t\\t\\t\\tdata-frame_999=\"o:0;st:w;sR:4150;\"\\n\\t\\t\\t\\t\\t\\t\\t\\t\\tstyle=\"z-index:23;\"\\n\\t\\t\\t\\t\\t\\t\\t\\t><img src=\"//menuco.co/wp-content/uploads/2019/12/illus-9.svg\" class=\"tp-rs-img\" data-no-retina> \\n\\t\\t\\t\\t\\t\\t\\t\\t</rs-layer><!--\\n\\t\\t\\t\\t\\t\\t\\t--></rs-group><!--\\n\\n\\t\\t\\t\\t\\t\\t\\t--><h1\\n\\t\\t\\t\\t\\t\\t\\t\\tid=\"slider-1-slide-1-layer-5\" \\n\\t\\t\\t\\t\\t\\t\\t\\tclass=\"rs-layer\"\\n\\t\\t\\t\\t\\t\\t\\t\\tdata-type=\"text\"\\n\\t\\t\\t\\t\\t\\t\\t\\tdata-color=\"#0f0f7b\"\\n\\t\\t\\t\\t\\t\\t\\t\\tdata-xy=\"x:l,l,c,c;xo:14px,15px,0,0;y:m;yo:-82px,-115px,-340px,-177px;\"\\n\\t\\t\\t\\t\\t\\t\\t\\tdata-text=\"w:normal;s:58;l:58;fw:700;a:left,left,center,center;\"\\n\\t\\t\\t\\t\\t\\t\\t\\tdata-dim=\"w:439px;h:138px,138px,138px,auto;\"\\n\\t\\t\\t\\t\\t\\t\\t\\tdata-rsp_o=\"off\"\\n\\t\\t\\t\\t\\t\\t\\t\\tdata-rsp_bd=\"off\"\\n\\t\\t\\t\\t\\t\\t\\t\\tdata-frame_0=\"o:1;\"\\n\\t\\t\\t\\t\\t\\t\\t\\tdata-frame_0_lines=\"d:5;x:-10px;y:100px;\"\\n\\t\\t\\t\\t\\t\\t\\t\\tdata-frame_0_mask=\"u:t;\"\\n\\t\\t\\t\\t\\t\\t\\t\\tdata-frame_0_reverse=\"lY:true;lD:true;\"\\n\\t\\t\\t\\t\\t\\t\\t\\tdata-frame_1=\"e:power4.inOut;sp:1200;\"\\n\\t\\t\\t\\t\\t\\t\\t\\tdata-frame_1_lines=\"d:10;\"\\n\\t\\t\\t\\t\\t\\t\\t\\tdata-frame_1_mask=\"u:t;\"\\n\\t\\t\\t\\t\\t\\t\\t\\tdata-frame_999=\"o:0;st:w;sR:7700;\"\\n\\t\\t\\t\\t\\t\\t\\t\\tstyle=\"z-index:15;font-family:\"Now bold\", sans-serif;\"\\n\\t\\t\\t\\t\\t\\t\\t>Multilingual <br />\\nOnline Menu \\n\\t\\t\\t\\t\\t\\t\\t</h1><!--\\n\\n\\t\\t\\t\\t\\t\\t\\t--><p\\n\\t\\t\\t\\t\\t\\t\\t\\tid=\"slider-1-slide-1-layer-6\" \\n\\t\\t\\t\\t\\t\\t\\t\\tclass=\"rs-layer\"\\n\\t\\t\\t\\t\\t\\t\\t\\tdata-type=\"text\"\\n\\t\\t\\t\\t\\t\\t\\t\\tdata-color=\"#595b74\"\\n\\t\\t\\t\\t\\t\\t\\t\\tdata-xy=\"x:l,l,c,c;xo:15px,15px,0,-1px;y:m;yo:78px,19px,-159px,-13px;\"\\n\\t\\t\\t\\t\\t\\t\\t\\tdata-text=\"w:normal;s:18,18,18,15;l:30;a:left,left,center,center;\"\\n\\t\\t\\t\\t\\t\\t\\t\\tdata-dim=\"w:390px,390px,390px,392px;h:123px,123px,123px,82px;\"\\n\\t\\t\\t\\t\\t\\t\\t\\tdata-rsp_o=\"off\"\\n\\t\\t\\t\\t\\t\\t\\t\\tdata-rsp_bd=\"off\"\\n\\t\\t\\t\\t\\t\\t\\t\\tdata-frame_0_lines=\"d:5;y:30px;o:0;\"\\n\\t\\t\\t\\t\\t\\t\\t\\tdata-frame_1=\"e:power4.out;st:1150;sp:800;sR:1150;\"\\n\\t\\t\\t\\t\\t\\t\\t\\tdata-frame_1_lines=\"d:8;\"\\n\\t\\t\\t\\t\\t\\t\\t\\tdata-frame_999=\"o:0;st:w;sR:6890;\"\\n\\t\\t\\t\\t\\t\\t\\t\\tstyle=\"z-index:16;font-family:\"sofia-pro\", sans-serif;\"\\n\\t\\t\\t\\t\\t\\t\\t>The Next-Gen QR code menu system,<br />\\nScan and see the menu in your native language. \\n\\t\\t\\t\\t\\t\\t\\t</p><!--\\n\\n\\t\\t\\t\\t\\t\\t\\t--><a\\n\\t\\t\\t\\t\\t\\t\\t\\tid=\"slider-1-slide-1-layer-7\" \\n\\t\\t\\t\\t\\t\\t\\t\\tclass=\"rs-layer rev-btn rev-hiddenicon\"\\n\\t\\t\\t\\t\\t\\t\\t\\thref=\"https://menuco.co/login/\" target=\"_self\" rel=\"nofollow\"\\n\\t\\t\\t\\t\\t\\t\\t\\tdata-type=\"button\"\\n\\t\\t\\t\\t\\t\\t\\t\\tdata-color=\"#ffffff||#ffffff||#ffffff||#0f0f7b\"\\n\\t\\t\\t\\t\\t\\t\\t\\tdata-xy=\"x:l,l,c,l;xo:1px,1px,0,69px;y:m,m,m,t;yo:43px,43px,-65px,368px;\"\\n\\t\\t\\t\\t\\t\\t\\t\\tdata-text=\"w:normal;s:12,12,11,11;l:20,16,12,7;ls:1,1px,1px,1px;fw:700;\"\\n\\t\\t\\t\\t\\t\\t\\t\\tdata-dim=\"minh:0px,none,none,none;\"\\n\\t\\t\\t\\t\\t\\t\\t\\tdata-vbility=\"f,f,f,t\"\\n\\t\\t\\t\\t\\t\\t\\t\\tdata-actions=\\'o:click;a:menulink;target:_self;url:https://menuco.co/login/;sp:1200ms;e:power4.inOut;\\'\\n\\t\\t\\t\\t\\t\\t\\t\\tdata-rsp_o=\"off\"\\n\\t\\t\\t\\t\\t\\t\\t\\tdata-rsp_bd=\"off\"\\n\\t\\t\\t\\t\\t\\t\\t\\tdata-padding=\"t:18;r:35;b:18;l:35;\"\\n\\t\\t\\t\\t\\t\\t\\t\\tdata-border=\"bos:solid;boc:#0f0f7b;bow:1px,1px,1px,1px;bor:30px,30px,30px,30px;\"\\n\\t\\t\\t\\t\\t\\t\\t\\tdata-frame_0=\"y:40px;\"\\n\\t\\t\\t\\t\\t\\t\\t\\tdata-frame_1=\"e:power2.out;st:1400;sp:800;sR:1400;\"\\n\\t\\t\\t\\t\\t\\t\\t\\tdata-frame_999=\"o:0;st:w;sR:6800;\"\\n\\t\\t\\t\\t\\t\\t\\t\\tdata-frame_hover=\"c:#fff;bgc:#34aadc;boc:transparent;bor:30px,30px,30px,30px;bos:none;bow:0,0,0,0;sp:200;\"\\n\\t\\t\\t\\t\\t\\t\\t\\tstyle=\"z-index:8;font-family:\"Now bold\", sans-serif;text-transform:uppercase;\"\\n\\t\\t\\t\\t\\t\\t\\t>LOG-IN \\n\\t\\t\\t\\t\\t\\t\\t</a><!--\\n\\n\\t\\t\\t\\t\\t\\t\\t--><a\\n\\t\\t\\t\\t\\t\\t\\t\\tid=\"slider-1-slide-1-layer-8\" \\n\\t\\t\\t\\t\\t\\t\\t\\tclass=\"rs-layer rev-btn rev-hiddenicon\"\\n\\t\\t\\t\\t\\t\\t\\t\\thref=\"https://menuco.co/register\" target=\"_self\" rel=\"nofollow\"\\n\\t\\t\\t\\t\\t\\t\\t\\tdata-type=\"button\"\\n\\t\\t\\t\\t\\t\\t\\t\\tdata-xy=\"x:l,l,c,l;xo:-3px,-3px,0,192px;y:m,m,m,t;yo:112px,112px,-65px,368px;\"\\n\\t\\t\\t\\t\\t\\t\\t\\tdata-text=\"w:normal;s:12,12,11,11;l:20,16,12,7;ls:1,1px,1px,1px;fw:700;\"\\n\\t\\t\\t\\t\\t\\t\\t\\tdata-dim=\"minh:0px,none,none,none;\"\\n\\t\\t\\t\\t\\t\\t\\t\\tdata-vbility=\"f,f,t,t\"\\n\\t\\t\\t\\t\\t\\t\\t\\tdata-actions=\\'o:click;a:menulink;target:_self;url:https://menuco.co/register;sp:1200ms;e:power4.inOut;\\'\\n\\t\\t\\t\\t\\t\\t\\t\\tdata-rsp_o=\"off\"\\n\\t\\t\\t\\t\\t\\t\\t\\tdata-rsp_bd=\"off\"\\n\\t\\t\\t\\t\\t\\t\\t\\tdata-padding=\"t:18;r:35;b:18;l:35;\"\\n\\t\\t\\t\\t\\t\\t\\t\\tdata-border=\"bos:solid;boc:#0f0f7b;bow:1px,1px,1px,1px;bor:30px,30px,30px,30px;\"\\n\\t\\t\\t\\t\\t\\t\\t\\tdata-frame_0=\"y:40px;\"\\n\\t\\t\\t\\t\\t\\t\\t\\tdata-frame_1=\"e:power2.out;st:1400;sp:800;sR:1400;\"\\n\\t\\t\\t\\t\\t\\t\\t\\tdata-frame_999=\"o:0;st:w;sR:6800;\"\\n\\t\\t\\t\\t\\t\\t\\t\\tdata-frame_hover=\"c:#fff;bgc:#34aadc;boc:transparent;bor:30px,30px,30px,30px;bos:none;bow:0,0,0,0;sp:200;\"\\n\\t\\t\\t\\t\\t\\t\\t\\tstyle=\"z-index:8;background-color:#0f0f7b;font-family:\"Now bold\", sans-serif;text-transform:uppercase;\"\\n\\t\\t\\t\\t\\t\\t\\t>SIGN UP \\n\\t\\t\\t\\t\\t\\t\\t</a><!--\\n\\n\\t\\t\\t\\t\\t\\t\\t--><rs-layer\\n\\t\\t\\t\\t\\t\\t\\t\\tid=\"slider-1-slide-1-layer-9\" \\n\\t\\t\\t\\t\\t\\t\\t\\tdata-type=\"image\"\\n\\t\\t\\t\\t\\t\\t\\t\\tdata-xy=\"xo:-130px;y:b;\"\\n\\t\\t\\t\\t\\t\\t\\t\\tdata-text=\"w:normal;\"\\n\\t\\t\\t\\t\\t\\t\\t\\tdata-dim=\"w:[\\'100%\\',\\'100%\\',\\'100%\\',\\'100%\\'];\"\\n\\t\\t\\t\\t\\t\\t\\t\\tdata-vbility=\"t,t,t,f\"\\n\\t\\t\\t\\t\\t\\t\\t\\tdata-basealign=\"slide\"\\n\\t\\t\\t\\t\\t\\t\\t\\tdata-rsp_o=\"off\"\\n\\t\\t\\t\\t\\t\\t\\t\\tdata-rsp_bd=\"off\"\\n\\t\\t\\t\\t\\t\\t\\t\\tdata-frame_999=\"o:0;st:w;sR:8700;\"\\n\\t\\t\\t\\t\\t\\t\\t\\tstyle=\"z-index:10;\"\\n\\t\\t\\t\\t\\t\\t\\t><img src=\"//menuco.co/wp-content/uploads/2019/12/slider-assets-3.svg\" class=\"tp-rs-img\" data-c=\"fullwidth\" data-no-retina> \\n\\t\\t\\t\\t\\t\\t\\t</rs-layer><!--\\n\\n\\t\\t\\t\\t\\t\\t\\t--><rs-layer\\n\\t\\t\\t\\t\\t\\t\\t\\tid=\"slider-1-slide-1-layer-35\" \\n\\t\\t\\t\\t\\t\\t\\t\\tdata-type=\"image\"\\n\\t\\t\\t\\t\\t\\t\\t\\tdata-xy=\"x:c;xo:310px;y:b;yo:729px;\"\\n\\t\\t\\t\\t\\t\\t\\t\\tdata-text=\"w:normal;\"\\n\\t\\t\\t\\t\\t\\t\\t\\tdata-dim=\"w:[\\'55px\\',\\'55px\\',\\'55px\\',\\'55px\\'];h:[\\'54px\\',\\'54px\\',\\'54px\\',\\'54px\\'];\"\\n\\t\\t\\t\\t\\t\\t\\t\\tdata-rsp_o=\"off\"\\n\\t\\t\\t\\t\\t\\t\\t\\tdata-rsp_bd=\"off\"\\n\\t\\t\\t\\t\\t\\t\\t\\tdata-frame_0=\"x:-35px;y:35px;\"\\n\\t\\t\\t\\t\\t\\t\\t\\tdata-frame_1=\"e:power4.out;st:2700;sp:800;sR:2700;\"\\n\\t\\t\\t\\t\\t\\t\\t\\tdata-frame_999=\"o:0;st:w;sR:5500;\"\\n\\t\\t\\t\\t\\t\\t\\t\\tdata-loop_0=\"blu:0px;bri:100%;\"\\n\\t\\t\\t\\t\\t\\t\\t\\tdata-loop_999=\"x:100px;y:-100px;o:0;blu:0px;bri:100%;sp:3000;st:800;e:power4.out;\"\\n\\t\\t\\t\\t\\t\\t\\t\\tstyle=\"z-index:19;\"\\n\\t\\t\\t\\t\\t\\t\\t><img src=\"//menuco.co/wp-content/uploads/2019/12/slider-assets-2.svg\" class=\"tp-rs-img\" data-no-retina> \\n\\t\\t\\t\\t\\t\\t\\t</rs-layer><!--\\n\\n\\t\\t\\t\\t\\t\\t\\t--><rs-layer\\n\\t\\t\\t\\t\\t\\t\\t\\tid=\"slider-1-slide-1-layer-36\" \\n\\t\\t\\t\\t\\t\\t\\t\\tdata-type=\"image\"\\n\\t\\t\\t\\t\\t\\t\\t\\tdata-xy=\"x:c;xo:-98px;y:b;yo:116px;\"\\n\\t\\t\\t\\t\\t\\t\\t\\tdata-text=\"w:normal;\"\\n\\t\\t\\t\\t\\t\\t\\t\\tdata-dim=\"w:[\\'55px\\',\\'55px\\',\\'55px\\',\\'55px\\'];h:[\\'54px\\',\\'54px\\',\\'54px\\',\\'54px\\'];\"\\n\\t\\t\\t\\t\\t\\t\\t\\tdata-rsp_o=\"off\"\\n\\t\\t\\t\\t\\t\\t\\t\\tdata-rsp_bd=\"off\"\\n\\t\\t\\t\\t\\t\\t\\t\\tdata-frame_0=\"x:-35px;y:35px;\"\\n\\t\\t\\t\\t\\t\\t\\t\\tdata-frame_1=\"e:power4.out;st:1900;sp:800;sR:1900;\"\\n\\t\\t\\t\\t\\t\\t\\t\\tdata-frame_999=\"o:0;st:w;sR:6300;\"\\n\\t\\t\\t\\t\\t\\t\\t\\tdata-loop_0=\"blu:0px;bri:100%;\"\\n\\t\\t\\t\\t\\t\\t\\t\\tdata-loop_999=\"x:100px;y:-100px;o:0;blu:0px;bri:100%;sp:2000;e:power4.out;\"\\n\\t\\t\\t\\t\\t\\t\\t\\tstyle=\"z-index:17;\"\\n\\t\\t\\t\\t\\t\\t\\t><img src=\"//menuco.co/wp-content/uploads/2019/12/slider-assets-2.svg\" class=\"tp-rs-img\" data-no-retina> \\n\\t\\t\\t\\t\\t\\t\\t</rs-layer><!--\\n\\n\\t\\t\\t\\t\\t\\t\\t--><rs-layer\\n\\t\\t\\t\\t\\t\\t\\t\\tid=\"slider-1-slide-1-layer-37\" \\n\\t\\t\\t\\t\\t\\t\\t\\tdata-type=\"image\"\\n\\t\\t\\t\\t\\t\\t\\t\\tdata-xy=\"x:c;xo:-169px;y:b;yo:583px;\"\\n\\t\\t\\t\\t\\t\\t\\t\\tdata-text=\"w:normal;\"\\n\\t\\t\\t\\t\\t\\t\\t\\tdata-dim=\"w:[\\'55px\\',\\'55px\\',\\'55px\\',\\'55px\\'];h:[\\'54px\\',\\'54px\\',\\'54px\\',\\'54px\\'];\"\\n\\t\\t\\t\\t\\t\\t\\t\\tdata-rsp_o=\"off\"\\n\\t\\t\\t\\t\\t\\t\\t\\tdata-rsp_bd=\"off\"\\n\\t\\t\\t\\t\\t\\t\\t\\tdata-frame_0=\"x:-35px;y:35px;\"\\n\\t\\t\\t\\t\\t\\t\\t\\tdata-frame_1=\"e:power4.out;st:2350;sp:800;sR:2350;\"\\n\\t\\t\\t\\t\\t\\t\\t\\tdata-frame_999=\"o:0;st:w;sR:5850;\"\\n\\t\\t\\t\\t\\t\\t\\t\\tdata-loop_0=\"blu:0px;bri:100%;\"\\n\\t\\t\\t\\t\\t\\t\\t\\tdata-loop_999=\"x:100px;y:-100px;o:0;blu:0px;bri:100%;sp:4000;st:1000;e:power4.out;\"\\n\\t\\t\\t\\t\\t\\t\\t\\tstyle=\"z-index:18;\"\\n\\t\\t\\t\\t\\t\\t\\t><img src=\"//menuco.co/wp-content/uploads/2019/12/slider-assets-2.svg\" class=\"tp-rs-img\" data-no-retina> \\n\\t\\t\\t\\t\\t\\t\\t</rs-layer><!--\\n-->\\t\\t\\t\\t\\t\\t</rs-slide>\\n\\t\\t\\t\\t\\t</rs-slides>\\n\\t\\t\\t\\t</rs-module>\\n\\t\\t\\t\\t<script type=\"text/javascript\">\\n\\t\\t\\t\\t\\tsetREVStartSize({c: \\'rev_slider_1_1\\',rl:[1240,1024,778,480],el:[900,768,960,720],gw:[1240,1024,778,480],gh:[900,768,960,720],type:\\'standard\\',justify:\\'\\',layout:\\'fullscreen\\',offsetContainer:\\'.main-header\\',offset:\\'\\',mh:\"0\"});\\n\\t\\t\\t\\t\\tvar\\trevapi1,\\n\\t\\t\\t\\t\\t\\ttpj;\\n\\t\\t\\t\\t\\tfunction revinit_revslider11() {\\n\\t\\t\\t\\t\\tjQuery(function() {\\n\\t\\t\\t\\t\\t\\ttpj = jQuery;\\n\\t\\t\\t\\t\\t\\trevapi1 = tpj(\"#rev_slider_1_1\");\\n\\t\\t\\t\\t\\t\\tif(revapi1==undefined || revapi1.revolution == undefined){\\n\\t\\t\\t\\t\\t\\t\\trevslider_showDoubleJqueryError(\"rev_slider_1_1\");\\n\\t\\t\\t\\t\\t\\t}else{\\n\\t\\t\\t\\t\\t\\t\\trevapi1.revolution({\\n\\t\\t\\t\\t\\t\\t\\t\\tDPR:\"dpr\",\\n\\t\\t\\t\\t\\t\\t\\t\\tsliderLayout:\"fullscreen\",\\n\\t\\t\\t\\t\\t\\t\\t\\tvisibilityLevels:\"1240,1024,778,480\",\\n\\t\\t\\t\\t\\t\\t\\t\\tgridwidth:\"1240,1024,778,480\",\\n\\t\\t\\t\\t\\t\\t\\t\\tgridheight:\"900,768,960,720\",\\n\\t\\t\\t\\t\\t\\t\\t\\tspinner:\"spinner2\",\\n\\t\\t\\t\\t\\t\\t\\t\\tperspective:600,\\n\\t\\t\\t\\t\\t\\t\\t\\tperspectiveType:\"local\",\\n\\t\\t\\t\\t\\t\\t\\t\\teditorheight:\"900,768,960,720\",\\n\\t\\t\\t\\t\\t\\t\\t\\tresponsiveLevels:\"1240,1024,778,480\",\\n\\t\\t\\t\\t\\t\\t\\t\\tfullScreenOffsetContainer:\".main-header\",\\n\\t\\t\\t\\t\\t\\t\\t\\tprogressBar:{disableProgressBar:true},\\n\\t\\t\\t\\t\\t\\t\\t\\tnavigation: {\\n\\t\\t\\t\\t\\t\\t\\t\\t\\tonHoverStop:false\\n\\t\\t\\t\\t\\t\\t\\t\\t},\\n\\t\\t\\t\\t\\t\\t\\t\\tfallbacks: {\\n\\t\\t\\t\\t\\t\\t\\t\\t\\tallowHTML5AutoPlayOnAndroid:true\\n\\t\\t\\t\\t\\t\\t\\t\\t},\\n\\t\\t\\t\\t\\t\\t\\t});\\n\\t\\t\\t\\t\\t\\t}\\n\\t\\t\\t\\t\\t\\t\\n\\t\\t\\t\\t\\t});\\n\\t\\t\\t\\t\\t} // End of RevInitScript\\n\\t\\t\\t\\tvar once_revslider11 = false;\\n\\t\\t\\t\\tif (document.readyState === \"loading\") {document.addEventListener(\\'readystatechange\\',function() { if((document.readyState === \"interactive\" || document.readyState === \"complete\") && !once_revslider11 ) { once_revslider11 = true; revinit_revslider11();}});} else {once_revslider11 = true; revinit_revslider11();}\\n\\t\\t\\t\\t</script>\\n\\t\\t\\t\\t<script>\\n\\t\\t\\t\\t\\tvar htmlDivCss = unescape(\"%23rev_slider_1_1_wrapper%20rs-loader.spinner2%7B%20background-color%3A%20%23ffffff%20%21important%3B%20%7D\");\\n\\t\\t\\t\\t\\tvar htmlDiv = document.getElementById(\\'rs-plugin-settings-inline-css\\');\\n\\t\\t\\t\\t\\tif(htmlDiv) {\\n\\t\\t\\t\\t\\t\\thtmlDiv.innerHTML = htmlDiv.innerHTML + htmlDivCss;\\n\\t\\t\\t\\t\\t}else{\\n\\t\\t\\t\\t\\t\\tvar htmlDiv = document.createElement(\\'div\\');\\n\\t\\t\\t\\t\\t\\thtmlDiv.innerHTML = \\'<style>\\' + htmlDivCss + \\'</style>\\';\\n\\t\\t\\t\\t\\t\\tdocument.getElementsByTagName(\\'head\\')[0].appendChild(htmlDiv.childNodes[0]);\\n\\t\\t\\t\\t\\t}\\n\\t\\t\\t\\t</script>\\n\\t\\t\\t</rs-module-wrap>\\n\\t\\t\\t<!-- END REVOLUTION SLIDER -->\\n</div></div></div></div></div></section><style>@media (min-width: 992px) { .liquid-row-responsive-62693fa6c3c97 {padding-bottom:75px !important;  }  }    </style><section class=\"vc_row vc_custom_1626611064909 liquid-row-responsive-62693fa6c3c97 liquid-row-shadowbox-62693fa6c3cec\"><div class=\"ld-container container\"><div class=\"row ld-row ld-row-outer vc_row-o-equal-height vc_row-flex\"><div class=\"wpb_column vc_column_container vc_col-sm-12 liquid-column-62693fa6c46f5\"><div class=\"vc_column-inner  \" ><div class=\"wpb_wrapper\"  ><style>.ld_fancy_heading_62693fa6c49da h2 {font-size:24px; } @media (min-width: 992px) { .ld_fancy_heading_62693fa6c49da h2 {font-size:43px; }  } .ld_fancy_heading_62693fa6c49da h2 {margin-bottom:0.6em !important;  } .ld_fancy_heading_62693fa6c49da .lqd-highlight-inner{height:0.275em;bottom:0.25em;background:rgb(237, 218, 190);}.ld_fancy_heading_62693fa6c49da h2 {font-size:24px; } @media (min-width: 992px) { .ld_fancy_heading_62693fa6c49da h2 {font-size:43px; }  } .ld_fancy_heading_62693fa6c49da h2 {margin-bottom:0.6em !important;  } </style><div class=\"ld-fancy-heading text-center ld_fancy_heading_62693fa6c49da\">\\r\\n\\t<h2 class=\"ld-fh-element lqd-highlight-underline lqd-highlight-grow-left text-decoration-default\" data-inview=\"true\" data-transition-delay=\"true\" data-delay-options=\\'{\"elements\":\".lqd-highlight-inner\",\"delayType\":\"transition\"}\\'  >  <mark class=\"lqd-highlight\"><span class=\"lqd-highlight-txt\"  >Language barrier:</span><span class=\"lqd-highlight-inner\"><svg xmlns=\"http://www.w3.org/2000/svg\" width=\"235.509\" height=\"13.504\" viewBox=\"0 0 235.509 13.504\" aria-hidden=\"true\" preserveAspectRatio=\"none\"><path d=\"M163,.383a13.044,13.044,0,0,1,1.517-.072,3.528,3.528,0,0,1,1.237-.134q.618.044,1.237.044a.249.249,0,0,1-.1.178.337.337,0,0,0-.1.266q3.092.088,6.184-.044T178.953.4l-.206-.088a12,12,0,0,0,4.123,0,13.467,13.467,0,0,1,5.772,0q1.443-.178,2.68-.266A5.978,5.978,0,0,1,193.8.4,16.707,16.707,0,0,1,198.01.045q2.164.088,4.844.088-.618.088-.824.134L201.412.4a3.893,3.893,0,0,0,2.061,0,5.413,5.413,0,0,1,1.649-.356q.618.088,1.134.178a9.762,9.762,0,0,0,1.544.09,17,17,0,0,1,3.092-.266q1.649,0,3.5.178,2.886.088,5.875.044t5.875-.222q0,.088.206.088h.412a21.975,21.975,0,0,0,2.577.889A12.458,12.458,0,0,1,232.12,2.18a3.962,3.962,0,0,1,1.031.622A3.349,3.349,0,0,1,234.8,3.825a5.079,5.079,0,0,1,.618,1.111q.412.534-1.031.98-1.031.444-.618.98a2.09,2.09,0,0,1,.206.889q0,.444.825.889.618.8-.206,1.245l-1.237.534q-1.443-.088-2.68-.134a17.255,17.255,0,0,1-2.267-.222,3.128,3.128,0,0,0-.928-.044,3.129,3.129,0,0,1-.928-.044q-2.267-.178-4.432-.266T217.7,9.476q-1.649-.088-2.886-.088a17.343,17.343,0,0,1-2.474-.178q-3.916,0-7.73-.088t-7.73-.266l-12.471-.178q-6.287-.088-12.883-.088h-1.958q-.928,0-1.958.088h-2.061q-1.031,0-2.061-.088-2.68-.088-5.256-.134t-5.256.044h-5.462q-2.577,0-5.462.088-4.535.088-8.76.178t-8.554.088q-2.886.088-5.875.088t-5.875.088q-1.443.088-2.886.134t-3.092.044q-4.741.178-9.791.312t-9.791.312q-2.267.088-4.329.088T78.77,10.1q-4.329.266-8.863.49t-9.276.49q-1.237.088-2.68.134a24.356,24.356,0,0,0-2.683.224q-2.68.178-5.462.312t-5.668.4q-2.474.266-4.741.312t-4.741.044q-1.031-.088-1.958-.134a9.684,9.684,0,0,1-1.958-.312,12.5,12.5,0,0,0-1.443-.312q-.825-.134-1.856-.31-2.886.356-6.39.666t-6.8.845a26.709,26.709,0,0,1-2.886.356,20.758,20.758,0,0,1-9.482-.889Q.232,11.962.026,11.25T1.263,9.917q0-.266.825-.266a13.039,13.039,0,0,0,2.886-.444A17.187,17.187,0,0,1,7.86,8.672q3.092-.266,6.184-.8,1.649-.178,3.3-.312t3.5-.312q4.123-.354,8.039-.712t8.039-.622q9.478-.8,18.758-1.338,2.68-.178,5.153-.356t4.741-.356q2.474-.178,5.05-.356T75.88,3.24h1.34a4.829,4.829,0,0,0,1.34-.178q2.267-.178,4.329-.222t4.329-.134a7.256,7.256,0,0,1,2.267,0,3.459,3.459,0,0,0,1.031-.088,6.009,6.009,0,0,1,2.37-.266,14.745,14.745,0,0,0,2.783-.088q1.649,0,2.474.088a1.308,1.308,0,0,1,.185.011,1.226,1.226,0,0,1,.33-.1,3.656,3.656,0,0,0,.515-.088,4.433,4.433,0,0,1,2.886.266q.412-.088,1.031-.178l1.237-.178q.412,0,1.031.044a5.761,5.761,0,0,0,1.237-.044q2.886-.088,5.772-.044a53.829,53.829,0,0,0,5.772-.222,9.505,9.505,0,0,1,1.34-.088h1.34a4.428,4.428,0,0,1,.821-.258l.825-.178a15.178,15.178,0,0,1,1.855.444,3.028,3.028,0,0,1,1.031-.534,4.039,4.039,0,0,1,1.443-.178,6.158,6.158,0,0,1,1.649.178,5.05,5.05,0,0,0,2.267.268q1.855-.088,3.813-.134T138.13,1.2q1.031,0,2.164-.044t2.37-.044q-.206-.088.412-.534h3.092q.412,0,.309.266t.928,0a5.845,5.845,0,0,1,1.443,0,31.833,31.833,0,0,0,5.359.088,21.471,21.471,0,0,1,6.8.178,5.236,5.236,0,0,0,1.031-.4q.412-.222.825-.4a.694.694,0,0,1,.137.07Z\" transform=\"translate(0 0.002)\"/></svg></span></mark> no more!</h2></div><style>.ld_fancy_heading_62693fa6c6c5f p{color:rgb(89, 91, 116);}.ld_fancy_heading_62693fa6c6c5f p {font-size:18px; } .ld_fancy_heading_62693fa6c6c5f p {line-height:30px; } .ld_fancy_heading_62693fa6c6c5f p {--element-line-height:30px; } .ld_fancy_heading_62693fa6c6c5f p {margin-bottom:1.75em !important;  } .ld_fancy_heading_62693fa6c6c5f .lqd-highlight-inner{height:0.275em;bottom:0px;}.ld_fancy_heading_62693fa6c6c5f p {font-size:18px; } .ld_fancy_heading_62693fa6c6c5f p {line-height:30px; } .ld_fancy_heading_62693fa6c6c5f p {--element-line-height:30px; } .ld_fancy_heading_62693fa6c6c5f p {margin-bottom:1.75em !important;  } </style><div class=\"ld-fancy-heading text-center ld_fancy_heading_62693fa6c6c5f\">\\r\\n\\t<p class=\"ld-fh-element lqd-highlight-underline lqd-highlight-grow-left text-decoration-default lqd-split-lines\"   data-split-text=\"true\" data-split-options=\\'{\"type\":\"lines\"}\\'>  Forget the physical menus or traditional QR code apps, get ready for the future by Menuco&#8230;</p></div></div></div></div></div></div></section><style>@media (min-width: 992px) { .liquid-row-responsive-62693fa6ce853 {padding-bottom:75px !important;  }  }    </style><section class=\"vc_row vc_custom_1611579550402 liquid-row-responsive-62693fa6ce853 liquid-row-shadowbox-62693fa6ce8c1\"><div class=\"ld-container container\"><div class=\"row ld-row ld-row-outer vc_row-o-equal-height vc_row-o-content-middle vc_row-flex\"><div class=\"wpb_column vc_column_container vc_col-sm-12 vc_col-md-5 text-center text-md-left liquid-column-62693fa6d1151\"><div class=\"vc_column-inner  \" ><div class=\"wpb_wrapper\"  data-custom-animations=\"true\" data-ca-options=\\'{\"triggerHandler\":\"inview\",\"animationTarget\":\"all-childs\",\"duration\":\"1800\",\"delay\":\"180\",\"ease\":\"power4.out\",\"direction\":\"forward\",\"initValues\":{\"x\":-40,\"y\":25,\"rotationZ\":-2,\"transformOriginX\":50,\"transformOriginY\":50,\"transformOriginZ\":\"0px\",\"opacity\":0},\"animations\":{\"x\":0,\"y\":0,\"rotationZ\":0,\"transformOriginX\":50,\"transformOriginY\":50,\"transformOriginZ\":\"0px\",\"opacity\":1}}\\'><div class=\"vc_row vc_inner vc_row-fluid vc_custom_1577714262716 liquid-row-shadowbox-62693fa6d53af\"><div class=\"ld-container container-fluid\"><div class=\"row ld-row ld-row-inner\"><div class=\"wpb_column vc_column_container vc_col-sm-12 vc_col-md-12 liquid-column-62693fa6e30b6\"><div class=\"vc_column-inner \" ><div class=\"wpb_wrapper\" ><style>.ld_icon_box_62693fa6e3323 .iconbox-icon-container{width:65px !important;height:65px !important;background:rgb(246, 222, 227);border-radius:px;}.ld_icon_box_62693fa6e3323 .iconbox-icon-container:before{border-color:rgb(246, 222, 227);}.ld_icon_box_62693fa6e3323 h3{margin-bottom:15px;}.ld_icon_box_62693fa6e3323 .iconbox-icon-container img,.ld_icon_box_62693fa6e3323 .iconbox-icon-container > svg{width:80 !important;}</style>\\r\\n<div class=\"iconbox iconbox-side text-align-default iconbox-circle iconbox-heading-xs ld_icon_box_62693fa6e3323\" id=\"ld_icon_box_62693fa6e3323\"   >\\r\\n\\t\\r\\n\\t\\t\\t\\t\\t\\r\\n\\t\\r\\n\\t<div class=\"iconbox-icon-wrap\"><span class=\"iconbox-icon-container\"><img src=\"https://menuco.co/wp-content/uploads/2021/07/Magic.png\" class=\"liquid-image-icon\" /></span></div>\\t\\r\\n\\t\\t\\r\\n\\t<div class=\"contents\">\\t\\r\\n\\t\\t\\r\\n\\t<h3 class=\"\">Smart language detection</h3>\\t<p>Your customers only scan the barcode.</p>\\n<p>Menuco detects the language they prefer and shows the menu in that language.</p>\\n\\t\\t\\r\\n\\t</div>\\t\\r\\n\\t\\r\\n</div>\\r\\n<style>.ld_icon_box_62693fa6e8921 .iconbox-icon-container{width:65px !important;height:65px !important;background:rgb(238, 229, 229);border-radius:px;}.ld_icon_box_62693fa6e8921 .iconbox-icon-container:before{border-color:rgb(238, 229, 229);}.ld_icon_box_62693fa6e8921 h3{margin-bottom:15px;}.ld_icon_box_62693fa6e8921 .iconbox-icon-container img,.ld_icon_box_62693fa6e8921 .iconbox-icon-container > svg{width:80 !important;}</style>\\r\\n<div class=\"iconbox iconbox-side text-align-default iconbox-circle iconbox-heading-xs ld_icon_box_62693fa6e8921\" id=\"ld_icon_box_62693fa6e8921\"   >\\r\\n\\t\\r\\n\\t\\t\\t\\t\\t\\r\\n\\t\\r\\n\\t<div class=\"iconbox-icon-wrap\"><span class=\"iconbox-icon-container\"><img src=\"https://menuco.co/wp-content/uploads/2021/07/Languages-2.png\" class=\"liquid-image-icon\" /></span></div>\\t\\r\\n\\t\\t\\r\\n\\t<div class=\"contents\">\\t\\r\\n\\t\\t\\r\\n\\t<h3 class=\"\">90+ Language</h3>\\t<p>Provide to your customers your menu in more than 90+ languages through Menuco.</p>\\n\\t\\t\\r\\n\\t</div>\\t\\r\\n\\t\\r\\n</div>\\r\\n<style>.ld_icon_box_62693fa6ec0c4 .iconbox-icon-container{width:65px !important;height:65px !important;background:rgb(238, 229, 229);border-radius:px;}.ld_icon_box_62693fa6ec0c4 .iconbox-icon-container:before{border-color:rgb(238, 229, 229);}.ld_icon_box_62693fa6ec0c4 h3{margin-bottom:15px;}.ld_icon_box_62693fa6ec0c4 .iconbox-icon-container img,.ld_icon_box_62693fa6ec0c4 .iconbox-icon-container > svg{width:80 !important;}</style>\\r\\n<div class=\"iconbox iconbox-side text-align-default iconbox-circle iconbox-heading-xs ld_icon_box_62693fa6ec0c4\" id=\"ld_icon_box_62693fa6ec0c4\"   >\\r\\n\\t\\r\\n\\t\\t\\t\\t\\t\\r\\n\\t\\r\\n\\t<div class=\"iconbox-icon-wrap\"><span class=\"iconbox-icon-container\"><img src=\"https://menuco.co/wp-content/uploads/2021/07/Micr.png\" class=\"liquid-image-icon\" /></span></div>\\t\\r\\n\\t\\t\\r\\n\\t<div class=\"contents\">\\t\\r\\n\\t\\t\\r\\n\\t<h3 class=\"\">Push to talk (speech translator)</h3>\\t<p>Aren`t your all customers speaking with you in the same language? Then let them speak in their native languages. Menuco makes communication easier.</p>\\n\\t\\t\\r\\n\\t</div>\\t\\r\\n\\t\\r\\n</div>\\r\\n</div></div></div></div></div></div></div></div></div><div class=\"wpb_column vc_column_container vc_col-sm-12 vc_col-md-offset-1 vc_col-md-6 liquid-column-62693fa6eecb2\"><div class=\"vc_column-inner  \" ><div class=\"wpb_wrapper\"  ><div id=\"ld_images_group_element_62693fa6eeecd\" class=\"lqd-imggrp-single hidden-xs ld_images_group_element_62693fa6eeecd\" data-hover3d=\"true\" data-float=\"ease\" >\\r\\n\\t\\r\\n\\t<div class=\"lqd-imggrp-img-container\" data-stacking-factor=\"1\"   >\\r\\n\\t\\t\\r\\n\\t\\t\\t\\t\\r\\n\\t\\t\\t\\t<figure class=\"loaded\"><img src=\"https://menuco.co/wp-content/uploads/2021/07/Adsiz-tasarim-1.svg\" srcset=\"\" class=\"\" alt=\"\" /></figure>\\t\\t\\t\\t\\t\\t\\t\\t\\r\\n\\t</div><!-- /.lqd-imggrp-content -->\\r\\n</div><!-- /.lqd-imggrp-single --></div></div></div></div></div></section><style>@media (min-width: 992px) { .liquid-row-responsive-62693fa70d021 {margin-right:50px !important; margin-left:50px !important; padding-top:95px !important; padding-bottom:90px !important;  }  }  .liquid-row-shadowbox-62693fa70d066{-webkit-box-shadow:0px 90px 40px 40px rgba(202,199,226,0.21);-moz-box-shadow:0px 90px 40px 40px rgba(202,199,226,0.21);box-shadow:0px 90px 40px 40px rgba(202,199,226,0.21);}  </style><section style=\"background:linear-gradient(0deg, rgb(172, 186, 246) 0%, rgb(36,14,113) 100%);\" data-bg-image=\"url\" class=\"vc_row vc_custom_1626617194110 liquid-row-responsive-62693fa70d021 liquid-row-shadowbox-62693fa70d066 vc_row-has-fill vc_row-has-bg\"><div class=\"ld-container container\"><div class=\"row ld-row ld-row-outer\"><div class=\"wpb_column vc_column_container vc_col-sm-12 vc_col-md-offset-2 vc_col-md-8 text-center liquid-column-62693fa70e05f\"><div class=\"vc_column-inner  \" ><div class=\"wpb_wrapper\"  ><style>.ld_fancy_heading_62693fa70e2bc h2{color:rgb(255, 255, 255);}.ld_fancy_heading_62693fa70e2bc h2 {font-size:35px; } @media (min-width: 992px) { .ld_fancy_heading_62693fa70e2bc h2 {font-size:43px; }  } .ld_fancy_heading_62693fa70e2bc h2 {margin-bottom:15px !important;  } .ld_fancy_heading_62693fa70e2bc .lqd-highlight-inner{height:0.275em;bottom:0px;background:rgba(58, 224, 180, 0.52);}.ld_fancy_heading_62693fa70e2bc h2 {font-size:35px; } @media (min-width: 992px) { .ld_fancy_heading_62693fa70e2bc h2 {font-size:43px; }  } .ld_fancy_heading_62693fa70e2bc h2 {margin-bottom:15px !important;  } </style><div class=\"ld-fancy-heading mask-text ld_fancy_heading_62693fa70e2bc\">\\r\\n\\t<h2 class=\"ld-fh-element lqd-highlight-underline lqd-highlight-grow-bottom text-decoration-default lqd-split-lines\"   data-split-text=\"true\" data-split-options=\\'{\"type\":\"lines\"}\\'>  Scan the barcode</h2></div><div class=\"vc_separator wpb_content_element vc_separator_align_center vc_sep_width_20 vc_sep_border_width_3 vc_sep_pos_align_center vc_separator_no_text vc_custom_1627159793044  vc_custom_1627159793044\" ><span class=\"vc_sep_holder vc_sep_holder_l\"><span  style=\"border-color:#eddabe;\" class=\"vc_sep_line\"></span></span><span class=\"vc_sep_holder vc_sep_holder_r\"><span  style=\"border-color:#eddabe;\" class=\"vc_sep_line\"></span></span>\\r\\n</div><style>.ld_fancy_heading_62693fa7198c5 p{color:rgb(255, 255, 255);}.ld_fancy_heading_62693fa7198c5 p {font-size:14px; } .ld_fancy_heading_62693fa7198c5 p {margin-bottom:3.2em !important;  } .ld_fancy_heading_62693fa7198c5 .lqd-highlight-inner{height:0.275em;bottom:0px;}.ld_fancy_heading_62693fa7198c5 p {font-size:14px; } .ld_fancy_heading_62693fa7198c5 p {margin-bottom:3.2em !important;  } </style><div class=\"ld-fancy-heading mask-text ld_fancy_heading_62693fa7198c5\">\\r\\n\\t<p class=\"ld-fh-element lqd-highlight-underline lqd-highlight-grow-left text-decoration-default lqd-split-lines\"   data-split-text=\"true\" data-split-options=\\'{\"type\":\"lines\"}\\'>  See a sample menu</p></div><div class=\"vc_row vc_inner vc_row-fluid liquid-row-shadowbox-62693fa71df75\"><div class=\"ld-container container-fluid\"><div class=\"row ld-row ld-row-inner\"><style>@media (min-width: 992px) { .liquid-column-responsive-62693fa71eda9 > .vc_column-inner {margin-left:-25px !important;  }  } </style><div class=\"wpb_column vc_column_container vc_col-sm-12 liquid-column-62693fa71eda4 liquid-column-responsive-62693fa71eda9\"><div class=\"vc_column-inner \" style=\"background-position:center center !important;\"><div class=\"wpb_wrapper\" >\\r\\n\\t<div  class=\"wpb_single_image wpb_content_element vc_align_center  liquid_vc_single_image-62693fa72117f\">\\r\\n\\t\\t\\r\\n\\t\\t<figure class=\"wpb_wrapper vc_figure\">\\r\\n\\t\\t\\t<div class=\"vc_single_image-wrapper   \"><img class=\"vc_single_image-img \" src=\"https://menuco.co/wp-content/uploads/2021/07/barcode-100x100.png\" width=\"100\" height=\"100\" alt=\"barcode\" title=\"barcode\" /></div>\\r\\n\\t\\t</figure>\\r\\n\\t</div>\\r\\n</div></div></div></div></div></div></div></div></div></div></div></section><style>@media (min-width: 992px) { .liquid-row-responsive-62693fa721b79 {padding-top:90px !important; padding-bottom:90px !important;  }  }    </style><section class=\"vc_row vc_custom_1612951381107 liquid-row-responsive-62693fa721b79 liquid-row-shadowbox-62693fa721bb2\"><div class=\"ld-container container\"><div class=\"row ld-row ld-row-outer\"><div class=\"wpb_column vc_column_container vc_col-sm-12 vc_col-md-offset-3 vc_col-md-6 text-center liquid-column-62693fa72260e\"><div class=\"vc_column-inner  vc_custom_1612951351272\" ><div class=\"wpb_wrapper\"  ><style>.ld_fancy_heading_62693fa722860 h2 {font-size:38px; } @media (min-width: 992px) { .ld_fancy_heading_62693fa722860 h2 {font-size:43px; }  } .ld_fancy_heading_62693fa722860 .lqd-highlight-inner{height:0.275em;bottom:0px;}.ld_fancy_heading_62693fa722860 h2 {font-size:38px; } @media (min-width: 992px) { .ld_fancy_heading_62693fa722860 h2 {font-size:43px; }  } </style><div class=\"ld-fancy-heading ld_fancy_heading_62693fa722860\">\\r\\n\\t<h2 class=\"ld-fh-element lqd-highlight-underline lqd-highlight-grow-left text-decoration-default lqd-split-lines\"   data-split-text=\"true\" data-split-options=\\'{\"type\":\"lines\"}\\' data-custom-animations=\"true\" data-ca-options=\\'{\"triggerHandler\":\"inview\",\"animationTarget\":\".lqd-lines > .split-inner\",\"duration\":\"1800\",\"delay\":\"180\",\"ease\":\"power4.out\",\"direction\":\"forward\",\"initValues\":{\"y\":65,\"rotationZ\":10,\"opacity\":0},\"animations\":{\"y\":0,\"rotationZ\":0,\"opacity\":1}}\\'>  Choose your plan!</h2></div></div></div></div><div class=\"wpb_column vc_column_container vc_col-sm-12 liquid-column-62693fa724c52\"><div class=\"vc_column-inner  \" ><div class=\"wpb_wrapper\"  >\\r\\n\\t<div class=\"wpb_text_column wpb_content_element \" >\\r\\n\\t\\t<div class=\"wpb_wrapper\">\\r\\n\\t\\t\\t<div class=\"ich_level_wrap ihc_level_template_8\"><div class=\"ihc-level-item\"><div class=\"ihc-level-item-wrap\"><div class=\"ihc-level-item-top\"><div class=\"ihc-level-item-title\">Silver</div></div><div class=\"ihc-level-item-price\">€15,90 /Month</div><div class=\"ihc-level-item-content\"><p style=\"box-sizing: border-box; font-size: 13px; line-height: 1.71429; margin-bottom: 1.71429rem; color: #5a6575; font-family: -apple-system, BlinkMacSystemFont, \\'Segoe UI\\', Roboto, Oxygen-Sans, Ubuntu, Cantarell, \\'Helvetica Neue\\', sans-serif;\"><span style=\"color: #0fd91a; font-family: arial, sans-serif; font-size: 16px; font-weight: 600;\">✓ </span>90+ Languages</p>\\r\\n<p style=\"box-sizing: border-box; font-size: 13px; line-height: 1.71429; margin-bottom: 1.71429rem; color: #5a6575; font-family: -apple-system, BlinkMacSystemFont, \\'Segoe UI\\', Roboto, Oxygen-Sans, Ubuntu, Cantarell, \\'Helvetica Neue\\', sans-serif;\"><span style=\"color: #0fd91a; font-family: arial, sans-serif; font-size: 16px; font-weight: 600;\">✓ </span>\\xa0Speech translation (2 Hours/Month)</p>\\r\\n<p style=\"box-sizing: border-box; font-size: 13px; line-height: 1.71429; margin-bottom: 1.71429rem; color: #5a6575; font-family: -apple-system, BlinkMacSystemFont, \\'Segoe UI\\', Roboto, Oxygen-Sans, Ubuntu, Cantarell, \\'Helvetica Neue\\', sans-serif;\"><span style=\"box-sizing: border-box; color: #0fd91a; font-family: arial, sans-serif; font-size: 16px; font-weight: 600;\">✓ </span><del>First menu registration support</del></p>\\r\\n<p style=\"box-sizing: border-box; font-size: 13px; line-height: 1.71429; margin-bottom: 1.71429rem; color: #5a6575; font-family: -apple-system, BlinkMacSystemFont, \\'Segoe UI\\', Roboto, Oxygen-Sans, Ubuntu, Cantarell, \\'Helvetica Neue\\', sans-serif;\"><span style=\"box-sizing: border-box; color: #0fd91a; font-family: arial, sans-serif; font-size: 16px; font-weight: 600;\">✓ </span><del>Menu revisions support</del></p>\\r\\n<p style=\"box-sizing: border-box; font-size: 13px; line-height: 1.71429; margin-bottom: 1.71429rem; color: #5a6575; font-family: -apple-system, BlinkMacSystemFont, \\'Segoe UI\\', Roboto, Oxygen-Sans, Ubuntu, Cantarell, \\'Helvetica Neue\\', sans-serif;\"><span style=\"box-sizing: border-box; color: #0fd91a; font-family: arial, sans-serif; font-size: 16px; font-weight: 600;\">✓ </span><del>Fast support</del></p></div><div class=\"ihc-level-item-bottom\"><div onClick=\"ihcBuyNewLevel(\\'https://menuco.co/register/?lid=1\\');\" class=\"ihc-level-item-link  ihc-cursor-pointer\">Sign Up</div><div class=\"iump-clear\"></div></div></div></div><div class=\"ihc-level-item\"><div class=\"ihc-level-item-wrap\"><div class=\"ihc-level-item-top\"><div class=\"ihc-level-item-title\">Gold</div></div><div class=\"ihc-level-item-price\">€25,90 /Month</div><div class=\"ihc-level-item-content\"><p style=\"box-sizing: border-box; font-size: 13px; line-height: 1.71429; margin-bottom: 1.71429rem; color: #5a6575; font-family: -apple-system, BlinkMacSystemFont, \\'Segoe UI\\', Roboto, Oxygen-Sans, Ubuntu, Cantarell, \\'Helvetica Neue\\', sans-serif;\"><span style=\"color: #0fd91a; font-family: arial, sans-serif; font-size: 16px; font-weight: 600;\">✓ </span>90+ Languages</p>\\r\\n<p style=\"box-sizing: border-box; font-size: 13px; line-height: 1.71429; margin-bottom: 1.71429rem; color: #5a6575; font-family: -apple-system, BlinkMacSystemFont, \\'Segoe UI\\', Roboto, Oxygen-Sans, Ubuntu, Cantarell, \\'Helvetica Neue\\', sans-serif;\"><span style=\"color: #0fd91a; font-family: arial, sans-serif; font-size: 16px; font-weight: 600;\">✓\\xa0</span> Speech translation (15 Hours/Month)</p>\\r\\n<p style=\"box-sizing: border-box; font-size: 13px; line-height: 1.71429; margin-bottom: 1.71429rem; color: #5a6575; font-family: -apple-system, BlinkMacSystemFont, \\'Segoe UI\\', Roboto, Oxygen-Sans, Ubuntu, Cantarell, \\'Helvetica Neue\\', sans-serif;\"><span style=\"box-sizing: border-box; color: #0fd91a; font-family: arial, sans-serif; font-size: 16px; font-weight: 600;\">✓ </span>First menu registration support</p>\\r\\n<p style=\"box-sizing: border-box; font-size: 13px; line-height: 1.71429; margin-bottom: 1.71429rem; color: #5a6575; font-family: -apple-system, BlinkMacSystemFont, \\'Segoe UI\\', Roboto, Oxygen-Sans, Ubuntu, Cantarell, \\'Helvetica Neue\\', sans-serif;\"><span style=\"box-sizing: border-box; color: #0fd91a; font-family: arial, sans-serif; font-size: 16px; font-weight: 600;\">✓ </span>Menu revision support (2 Times/Year)</p>\\r\\n<p style=\"box-sizing: border-box; font-size: 13px; line-height: 1.71429; margin-bottom: 1.71429rem; color: #5a6575; font-family: -apple-system, BlinkMacSystemFont, \\'Segoe UI\\', Roboto, Oxygen-Sans, Ubuntu, Cantarell, \\'Helvetica Neue\\', sans-serif;\"><span style=\"box-sizing: border-box; color: #0fd91a; font-family: arial, sans-serif; font-size: 16px; font-weight: 600;\">✓\\xa0</span>Fast support</p></div><div class=\"ihc-level-item-bottom\"><div onClick=\"ihcBuyNewLevel(\\'https://menuco.co/register/?lid=2\\');\" class=\"ihc-level-item-link  ihc-cursor-pointer\">Sign Up</div><div class=\"iump-clear\"></div></div></div></div><div class=\"ihc-level-item\"><div class=\"ihc-level-item-wrap\"><div class=\"ihc-level-item-top\"><div class=\"ihc-level-item-title\">Platinum</div></div><div class=\"ihc-level-item-price\">€45,90 /Month</div><div class=\"ihc-level-item-content\"><p style=\"box-sizing: border-box; font-size: 13px; line-height: 1.71429; margin-bottom: 1.71429rem; color: #5a6575; font-family: -apple-system, BlinkMacSystemFont, \\'Segoe UI\\', Roboto, Oxygen-Sans, Ubuntu, Cantarell, \\'Helvetica Neue\\', sans-serif;\"><span style=\"color: #0fd91a; font-family: arial, sans-serif; font-size: 16px; font-weight: 600;\">✓ </span>90+ Languages</p>\\r\\n<p style=\"box-sizing: border-box; font-size: 13px; line-height: 1.71429; margin-bottom: 1.71429rem; color: #5a6575; font-family: -apple-system, BlinkMacSystemFont, \\'Segoe UI\\', Roboto, Oxygen-Sans, Ubuntu, Cantarell, \\'Helvetica Neue\\', sans-serif;\"><span style=\"color: #0fd91a; font-family: arial, sans-serif; font-size: 16px; font-weight: 600;\">✓\\xa0</span> Speech translation (100 Hours/Month)</p>\\r\\n<p style=\"box-sizing: border-box; font-size: 13px; line-height: 1.71429; margin-bottom: 1.71429rem; color: #5a6575; font-family: -apple-system, BlinkMacSystemFont, \\'Segoe UI\\', Roboto, Oxygen-Sans, Ubuntu, Cantarell, \\'Helvetica Neue\\', sans-serif;\"><span style=\"box-sizing: border-box; color: #0fd91a; font-family: arial, sans-serif; font-size: 16px; font-weight: 600;\">✓ </span>First menu registration support</p>\\r\\n<p style=\"box-sizing: border-box; font-size: 13px; line-height: 1.71429; margin-bottom: 1.71429rem; color: #5a6575; font-family: -apple-system, BlinkMacSystemFont, \\'Segoe UI\\', Roboto, Oxygen-Sans, Ubuntu, Cantarell, \\'Helvetica Neue\\', sans-serif;\"><span style=\"box-sizing: border-box; color: #0fd91a; font-family: arial, sans-serif; font-size: 16px; font-weight: 600;\">✓ </span>Menu revision support (10 Times/Year)</p>\\r\\n<p style=\"box-sizing: border-box; font-size: 13px; line-height: 1.71429; margin-bottom: 1.71429rem; color: #5a6575; font-family: -apple-system, BlinkMacSystemFont, \\'Segoe UI\\', Roboto, Oxygen-Sans, Ubuntu, Cantarell, \\'Helvetica Neue\\', sans-serif;\"><span style=\"box-sizing: border-box; color: #0fd91a; font-family: arial, sans-serif; font-size: 16px; font-weight: 600;\">✓\\xa0</span>Fast support</p></div><div class=\"ihc-level-item-bottom\"><div onClick=\"ihcBuyNewLevel(\\'https://menuco.co/register/?lid=3\\');\" class=\"ihc-level-item-link  ihc-cursor-pointer\">Sign Up</div><div class=\"iump-clear\"></div></div></div></div></div>\\n\\r\\n\\t\\t</div>\\r\\n\\t</div>\\r\\n</div></div></div></div></div></section><style>@media (min-width: 992px) { .liquid-row-responsive-62693fa72978a {padding-top:170px !important; padding-bottom:75px !important;  }  }    </style><section class=\"vc_row vc_custom_1605610071158 liquid-row-responsive-62693fa72978a liquid-row-shadowbox-62693fa7297cb\"><div class=\"ld-container container\"><div class=\"row ld-row ld-row-outer vc_row-o-equal-height vc_row-o-content-middle vc_row-flex\"><style>@media (min-width: 992px) { .liquid-column-responsive-62693fa72a28d > .vc_column-inner {margin-bottom:0px !important;  }  } </style><div class=\"wpb_column vc_column_container vc_col-sm-12 vc_col-lg-5 vc_col-md-6 text-center text-md-left liquid-column-62693fa72a288 liquid-column-responsive-62693fa72a28d\"><div class=\"vc_column-inner  vc_custom_1605983335270\" ><div class=\"wpb_wrapper\"  data-custom-animations=\"true\" data-ca-options=\\'{\"triggerHandler\":\"inview\",\"animationTarget\":\"all-childs\",\"duration\":\"1800\",\"delay\":\"180\",\"ease\":\"power4.out\",\"direction\":\"forward\",\"initValues\":{\"y\":65,\"transformOriginX\":50,\"transformOriginY\":50,\"transformOriginZ\":\"0px\",\"opacity\":0},\"animations\":{\"y\":0,\"transformOriginX\":50,\"transformOriginY\":50,\"transformOriginZ\":\"0px\",\"opacity\":1}}\\'><style>.ld_images_group_element_62693fa72a46c {margin-bottom:20px !important;  } .ld_images_group_element_62693fa72a46c {margin-bottom:20px !important;  } </style><div id=\"ld_images_group_element_62693fa72a46c\" class=\"lqd-imggrp-single ld_images_group_element_62693fa72a46c\"   >\\r\\n\\t\\r\\n\\t<div class=\"lqd-imggrp-img-container\"    >\\r\\n\\t\\t\\r\\n\\t\\t\\t\\t\\r\\n\\t\\t\\t\\t<figure class=\"loaded\"><img src=\"https://menuco.co/wp-content/uploads/2019/12/shapes.svg\" class=\"attachment-full size-full\" alt=\"\" loading=\"lazy\" /></figure>\\t\\t\\t\\t\\t\\t\\t\\t\\r\\n\\t</div><!-- /.lqd-imggrp-content -->\\r\\n</div><!-- /.lqd-imggrp-single --><style>.ld_fancy_heading_62693fa738c4f h2 {font-size:38px; } @media (min-width: 992px) { .ld_fancy_heading_62693fa738c4f h2 {font-size:43px; }  } .ld_fancy_heading_62693fa738c4f h2 {margin-bottom:0.6em !important;  } .ld_fancy_heading_62693fa738c4f .lqd-highlight-inner{height:0.275em;bottom:0px;}.ld_fancy_heading_62693fa738c4f h2 {font-size:38px; } @media (min-width: 992px) { .ld_fancy_heading_62693fa738c4f h2 {font-size:43px; }  } .ld_fancy_heading_62693fa738c4f h2 {margin-bottom:0.6em !important;  } </style><div class=\"ld-fancy-heading mask-text ld_fancy_heading_62693fa738c4f\">\\r\\n\\t<h2 class=\"ld-fh-element lqd-highlight-underline lqd-highlight-grow-left text-decoration-default lqd-split-lines\"   data-split-text=\"true\" data-split-options=\\'{\"type\":\"lines\"}\\'>  Simple but efficient!</h2></div><style>.ld_fancy_heading_62693fa73b6a0 p{color:rgb(89, 91, 116);}.ld_fancy_heading_62693fa73b6a0 p {font-size:18px; } .ld_fancy_heading_62693fa73b6a0 p {line-height:30px; } .ld_fancy_heading_62693fa73b6a0 p {--element-line-height:30px; } @media (min-width: 992px) { .ld_fancy_heading_62693fa73b6a0 p {padding-right:6% !important;  }  } .ld_fancy_heading_62693fa73b6a0 p {margin-bottom:1.75em !important;  } .ld_fancy_heading_62693fa73b6a0 .lqd-highlight-inner{height:0.275em;bottom:0px;}.ld_fancy_heading_62693fa73b6a0 p {font-size:18px; } .ld_fancy_heading_62693fa73b6a0 p {line-height:30px; } .ld_fancy_heading_62693fa73b6a0 p {--element-line-height:30px; } @media (min-width: 992px) { .ld_fancy_heading_62693fa73b6a0 p {padding-right:6% !important;  }  } .ld_fancy_heading_62693fa73b6a0 p {margin-bottom:1.75em !important;  } </style><div class=\"ld-fancy-heading mask-text ld_fancy_heading_62693fa73b6a0\">\\r\\n\\t<p class=\"ld-fh-element lqd-highlight-underline lqd-highlight-grow-left text-decoration-default lqd-split-lines\"   data-split-text=\"true\" data-split-options=\\'{\"type\":\"lines\"}\\'>  It`s easy to manage and use Menuco.</p></div></div></div></div><div class=\"wpb_column vc_column_container vc_col-sm-10 vc_col-lg-offset-2 vc_col-lg-5 vc_col-md-offset-0 vc_col-md-6 vc_col-sm-offset-1 liquid-column-62693fa73fb49\"><div class=\"vc_column-inner  \" ><div class=\"wpb_wrapper\"  ><style>.ld_icon_box_circle_62693fa73fc6c .one-ib-circ-icn span:before{background:rgb(238, 238, 238);}</style><div id=\"ld_icon_box_circle_62693fa73fc6c\" class=\"one-ib-circ ld_icon_box_circle_62693fa73fc6c\" data-spread-incircle=\"true\" data-hover3d=\"true\">\\r\\n\\t<div class=\"one-ib-circ-wrap\" data-stacking-factor=\"0.95\">\\r\\n\\t\\t<div class=\"one-ib-circ-inner\">\\r\\n\\t\\t\\t<div class=\"one-ib-circ-item\">\\r\\n\\r\\n\\t<div class=\"one-ib-circ-icn\"><span><img src=\"https://menuco.co/wp-content/uploads/2021/07/Secure.png\" class=\"liquid-image-icon\" /></span></div>\\t\\r\\n\\t<div class=\"one-ib-circ-cnt\">\\r\\n\\r\\n\\t\\t<h3>Safe Payment</h3>\\t\\t<hr><p>Pay the subscription fees with STRIPE which is one of the biggest online payment gateways in the World, in safety.</p>\\n\\r\\n\\t</div><!-- /.one-ib-circ-cnt -->\\r\\n\\r\\n</div><!-- /.one-ib-circ-item -->\\r\\n<div class=\"one-ib-circ-item\">\\r\\n\\r\\n\\t<div class=\"one-ib-circ-icn\"><span><?xml version=\"1.0\" encoding=\"utf-8\"?>\\n<svg xmlns=\"http://www.w3.org/2000/svg\" width=\"41.128\" height=\"41.1\" viewBox=\"0 0 41.128 41.1\"><g transform=\"translate(-19.288 -19.301)\"><path d=\"M0,29.9a3.15,3.15,0,0,0,3.148,3.155H28.335A3.154,3.154,0,0,0,31.484,29.9V3.155A3.15,3.15,0,0,0,28.335,0H3.148A3.154,3.154,0,0,0,0,3.155Z\" transform=\"translate(19.288 27.344)\" fill=\"#008aba\"/><path d=\"M31.484,3.155A3.15,3.15,0,0,0,28.335,0H3.148A3.154,3.154,0,0,0,0,3.155V29.9a3.15,3.15,0,0,0,3.148,3.155H28.335A3.154,3.154,0,0,0,31.484,29.9Z\" transform=\"translate(28.932 19.301)\" fill=\"#6abbd7\"/><path d=\"M12.525,16H1.562a1.6,1.6,0,0,1,0-3.2H12.525a1.6,1.6,0,0,1,0,3.2Zm-.786-6.4H1.565a1.6,1.6,0,0,1,0-3.2H11.739a1.6,1.6,0,0,1,0,3.2Zm4.694-6.4H1.566A1.585,1.585,0,0,1,0,1.6,1.585,1.585,0,0,1,1.566,0H16.434A1.585,1.585,0,0,1,18,1.6,1.585,1.585,0,0,1,16.434,3.2Z\" transform=\"translate(35.574 25.397)\" fill=\"#b7eef5\"/></g></svg></span></div>\\t\\r\\n\\t<div class=\"one-ib-circ-cnt\">\\r\\n\\r\\n\\t\\t<h3>Independent</h3>\\t\\t<hr><p>If you have any software system in your restaurant, don`t worry you can keep using it. Menuco works completely independently. You can use Menuco for all your customers or only for foreign customers.</p>\\n\\r\\n\\t</div><!-- /.one-ib-circ-cnt -->\\r\\n\\r\\n</div><!-- /.one-ib-circ-item -->\\r\\n<div class=\"one-ib-circ-item\">\\r\\n\\r\\n\\t<div class=\"one-ib-circ-icn\"><span><img src=\"https://menuco.co/wp-content/uploads/2021/07/saat.png\" class=\"liquid-image-icon\" /></span></div>\\t\\r\\n\\t<div class=\"one-ib-circ-cnt\">\\r\\n\\r\\n\\t\\t<h3>Save your time</h3>\\t\\t<hr><p>We manage your menus, you can focus on your own essential job.</p>\\n\\r\\n\\t</div><!-- /.one-ib-circ-cnt -->\\r\\n\\r\\n</div><!-- /.one-ib-circ-item -->\\r\\n<div class=\"one-ib-circ-item\">\\r\\n\\r\\n\\t<div class=\"one-ib-circ-icn\"><span><img src=\"https://menuco.co/wp-content/uploads/2021/08/rejected.png\" class=\"liquid-image-icon\" /></span></div>\\t\\r\\n\\t<div class=\"one-ib-circ-cnt\">\\r\\n\\r\\n\\t\\t<h3>Free cancellation</h3>\\t\\t<hr><p>Feel free, you can cancel your subscription anytime without extra charges. Just try Menuco</p>\\n\\r\\n\\t</div><!-- /.one-ib-circ-cnt -->\\r\\n\\r\\n</div><!-- /.one-ib-circ-item -->\\r\\n\\t\\t</div><!-- /.one-ib-circ-inner -->\\r\\n\\t</div><!-- /.one-ib-circ-wrap -->\\r\\n</div><!-- /.one-ib-circ --></div></div></div></div></div></section><style>@media (min-width: 992px) { .liquid-row-responsive-62693fa74fb27 {padding-top:140px !important; padding-bottom:65px !important;  }  }    </style><section class=\"vc_row hidden-xs hidden-sm hidden-md hidden-lg vc_custom_1626613908607 liquid-row-responsive-62693fa74fb27 liquid-row-shadowbox-62693fa74fb67\"><div class=\"ld-container container\"><div class=\"row ld-row ld-row-outer vc_row-o-equal-height vc_row-o-content-middle vc_row-flex\"><div class=\"wpb_column vc_column_container vc_col-sm-12 vc_col-md-6 liquid-column-62693fa750a0f\"><div class=\"vc_column-inner  \" ><div class=\"wpb_wrapper\"  ><div id=\"ld_images_group_element_62693fa750c06\" class=\"lqd-imggrp-single ld_images_group_element_62693fa750c06\" data-hover3d=\"true\" data-float=\"ease\" >\\r\\n\\t\\r\\n\\t<div class=\"lqd-imggrp-img-container\" data-stacking-factor=\"1\"   >\\r\\n\\t\\t\\r\\n\\t\\t\\t\\t\\r\\n\\t\\t\\t\\t<figure ><img width=\"537\" height=\"568\" src=\"data:image/svg+xml,%3Csvg xmlns=&#039;http://www.w3.org/2000/svg&#039; viewBox=&#039;0 0 896 948&#039;%3E%3C/svg%3E\" class=\" ld-lazyload\" alt=\"\" data-src=\"https://menuco.co/wp-content/uploads/2021/01/seo3@2x.jpg\" data-srcset=\"https://menuco.co/wp-content/uploads/2021/01/seo3@2x-284x300.jpg 284w, https://menuco.co/wp-content/uploads/2021/01/seo3@2x.jpg 896w\" data-aspect=\"0.94514767932489\" /></figure>\\t\\t\\t\\t\\t\\t\\t\\t\\r\\n\\t</div><!-- /.lqd-imggrp-content -->\\r\\n</div><!-- /.lqd-imggrp-single --></div></div></div><div class=\"wpb_column vc_column_container vc_col-sm-12 vc_col-md-offset-1 vc_col-md-5 text-center text-md-left liquid-column-62693fa75cb68\"><div class=\"vc_column-inner  \" ><div class=\"wpb_wrapper\"  data-custom-animations=\"true\" data-ca-options=\\'{\"triggerHandler\":\"inview\",\"animationTarget\":\"all-childs\",\"duration\":\"1800\",\"delay\":\"180\",\"ease\":\"power4.out\",\"direction\":\"forward\",\"initValues\":{\"x\":40,\"y\":25,\"rotationZ\":2,\"transformOriginX\":50,\"transformOriginY\":50,\"transformOriginZ\":\"0px\",\"opacity\":0},\"animations\":{\"x\":0,\"y\":0,\"rotationZ\":0,\"transformOriginX\":50,\"transformOriginY\":50,\"transformOriginZ\":\"0px\",\"opacity\":1}}\\'><style>.ld_fancy_heading_62693fa75cd9f .lqd-highlight-inner{height:0.275em;bottom:0px;}</style><div class=\"ld-fancy-heading ld_fancy_heading_62693fa75cd9f\">\\r\\n\\t<h6 class=\"ld-fh-element lqd-highlight-underline lqd-highlight-grow-left text-decoration-default\"   >  Increase conversion rate</h6></div><style>.ld_fancy_heading_62693fa75f515 h2 {font-size:38px; } @media (min-width: 992px) { .ld_fancy_heading_62693fa75f515 h2 {font-size:43px; }  } .ld_fancy_heading_62693fa75f515 h2 {margin-bottom:0.6em !important;  } .ld_fancy_heading_62693fa75f515 .lqd-highlight-inner{height:0.275em;bottom:0px;}.ld_fancy_heading_62693fa75f515 h2 {font-size:38px; } @media (min-width: 992px) { .ld_fancy_heading_62693fa75f515 h2 {font-size:43px; }  } .ld_fancy_heading_62693fa75f515 h2 {margin-bottom:0.6em !important;  } </style><div class=\"ld-fancy-heading ld_fancy_heading_62693fa75f515\">\\r\\n\\t<h2 class=\"ld-fh-element lqd-highlight-underline lqd-highlight-grow-left text-decoration-default lqd-split-lines\"   data-split-text=\"true\" data-split-options=\\'{\"type\":\"lines\"}\\'>  Organic Search Engine Optimisation</h2></div><style>.ld_fancy_heading_62693fa761a24 p{color:rgb(89, 91, 116);}.ld_fancy_heading_62693fa761a24 p {font-size:18px; } .ld_fancy_heading_62693fa761a24 p {line-height:30px; } .ld_fancy_heading_62693fa761a24 p {--element-line-height:30px; } .ld_fancy_heading_62693fa761a24 p {margin-bottom:1.75em !important;  } .ld_fancy_heading_62693fa761a24 .lqd-highlight-inner{height:0.275em;bottom:0px;}.ld_fancy_heading_62693fa761a24 p {font-size:18px; } .ld_fancy_heading_62693fa761a24 p {line-height:30px; } .ld_fancy_heading_62693fa761a24 p {--element-line-height:30px; } .ld_fancy_heading_62693fa761a24 p {margin-bottom:1.75em !important;  } </style><div class=\"ld-fancy-heading ld_fancy_heading_62693fa761a24\">\\r\\n\\t<p class=\"ld-fh-element lqd-highlight-underline lqd-highlight-grow-left text-decoration-default lqd-split-lines\"   data-split-text=\"true\" data-split-options=\\'{\"type\":\"lines\"}\\'>  We build and activate brands through cultural insight, strategic vision, and the power of emotion across every element of its expression. Our eCommerce design starts and ends with a best-in-class experience strategy that builds brands and drives transactions.</p></div><a href=\"https://www.youtube.com/watch?v=KEc3aGjN228\" class=\"btn btn-naked text-uppercase btn-hover-txt-liquid-y fresco btn-hover-swp btn-has-label ld_button_62693fa763679\" >\\r\\n\\t<span>\\r\\n\\t\\t\\r\\n\\t\\t\\t\\t\\t<span class=\"btn-txt\" data-text=\"Learn more\" data-transition-delay=\"true\"\\r\\n\\t\\t\\t\\t\\t    data-delay-options=\\'{\"elements\": \".lqd-chars\", \"delayType\": \"animation\", \"startDelay\": 0, \"delayBetween\": 32.5}\\'\\r\\n\\t\\t\\t\\t\\t    data-split-text=\"true\"\\r\\n\\t\\t\\t\\t\\t    data-split-options=\\'{\"type\": \"chars, words\"}\\'>Learn more</span>\\r\\n\\t\\t\\t\\r\\n\\t<span class=\"btn-icon\"><i class=\"lqd-icn-ess icon-md-arrow-forward\"></i></span>\\t<span class=\"btn-icon\"><i class=\"lqd-icn-ess icon-md-arrow-forward\"></i></span>\\t\\t\\t</span>\\r\\n</a>\\r\\n</div></div></div></div></div></section><style>@media (min-width: 992px) { .liquid-row-responsive-62693fa7669eb {margin-right:50px !important; margin-left:50px !important; padding-top:80px !important; padding-bottom:80px !important;  }  }  .liquid-row-shadowbox-62693fa766a1c{-webkit-box-shadow:0px 90px 90px 90px #ededff;-moz-box-shadow:0px 90px 90px 90px #ededff;box-shadow:0px 90px 90px 90px #ededff;}  </style><section style=\"background:linear-gradient(270deg, rgb(131, 59, 255) 0.6369426751592356%, #ac1de1 100%);\" data-bg-image=\"url\" class=\"vc_row hidden-xs hidden-sm hidden-md hidden-lg vc_custom_1626613927965 liquid-row-responsive-62693fa7669eb liquid-row-shadowbox-62693fa766a1c vc_row-has-fill vc_row-has-bg\"><div class=\"ld-container container\"><div class=\"row ld-row ld-row-outer\"><div class=\"wpb_column vc_column_container vc_col-sm-12 vc_col-md-offset-3 vc_col-md-6 text-center liquid-column-62693fa767508\"><div class=\"vc_column-inner  vc_custom_1577868995137\" ><div class=\"wpb_wrapper\"  data-custom-animations=\"true\" data-ca-options=\\'{\"triggerHandler\":\"inview\",\"animationTarget\":\"all-childs\",\"duration\":\"1800\",\"delay\":\"180\",\"ease\":\"power4.out\",\"direction\":\"forward\",\"initValues\":{\"y\":45,\"transformOriginX\":50,\"transformOriginY\":50,\"transformOriginZ\":\"0px\",\"opacity\":0},\"animations\":{\"y\":0,\"transformOriginX\":50,\"transformOriginY\":50,\"transformOriginZ\":\"0px\",\"opacity\":1}}\\'><style>.ld_fancy_heading_62693fa767738 h6{color:rgb(255, 255, 255);background:rgba(0, 0, 0, 0.27);}.ld_fancy_heading_62693fa767738 h6 {padding-top:10px !important; padding-right:20px !important; padding-bottom:10px !important; padding-left:20px !important;  } .ld_fancy_heading_62693fa767738 .lqd-highlight-inner{height:0.275em;bottom:0px;}.ld_fancy_heading_62693fa767738 h6 {padding-top:10px !important; padding-right:20px !important; padding-bottom:10px !important; padding-left:20px !important;  } </style><div class=\"ld-fancy-heading ld-fh-has-fill ld_fancy_heading_62693fa767738\">\\r\\n\\t<h6 class=\"ld-fh-element circle lqd-highlight-underline lqd-highlight-grow-left text-decoration-default\"   >  Nasıl başlarım?</h6></div><style>.ld_fancy_heading_62693fa76942c h2{color:rgb(255, 255, 255);}.ld_fancy_heading_62693fa76942c h2 {font-size:35px; } @media (min-width: 992px) { .ld_fancy_heading_62693fa76942c h2 {font-size:43px; }  } .ld_fancy_heading_62693fa76942c .lqd-highlight-inner{height:0.275em;bottom:0px;}.ld_fancy_heading_62693fa76942c h2 {font-size:35px; } @media (min-width: 992px) { .ld_fancy_heading_62693fa76942c h2 {font-size:43px; }  } </style><div class=\"ld-fancy-heading ld_fancy_heading_62693fa76942c\">\\r\\n\\t<h2 class=\"ld-fh-element lqd-highlight-underline lqd-highlight-grow-left text-decoration-default\"   >  Aşağıdaki adımları takip et</h2></div></div></div></div><style>@media (min-width: 992px) { .liquid-column-responsive-62693fa76b803 > .vc_column-inner {padding-right:0px !important; padding-left:0px !important;  }  } </style><div class=\"wpb_column vc_column_container vc_col-sm-12 liquid-column-62693fa76b800 liquid-column-responsive-62693fa76b803\"><div class=\"vc_column-inner  vc_custom_1605983239537\" ><div class=\"wpb_wrapper\"  data-custom-animations=\"true\" data-ca-options=\\'{\"triggerHandler\":\"inview\",\"animationTarget\":\"all-childs\",\"duration\":\"1800\",\"delay\":\"180\",\"ease\":\"power4.out\",\"direction\":\"forward\",\"initValues\":{\"x\":45,\"transformOriginX\":50,\"transformOriginY\":50,\"transformOriginZ\":\"0px\",\"opacity\":0},\"animations\":{\"x\":0,\"transformOriginX\":50,\"transformOriginY\":50,\"transformOriginZ\":\"0px\",\"opacity\":1}}\\'><style>.ld_process_box_container_62693fa76b919.lqd-pb-icon-between .lqd-pb-column:not(:last-child):after, .ld_process_box_container_62693fa76b919.lqd-pb-icon-between-middle .lqd-pb-column:not(:last-child):after{color:rgb(255, 255, 255);}</style><div id=\"ld_process_box_container_62693fa76b919\" class=\"lqd-pb-container lqd-pb-nums lqd-pb-icon-between ld_process_box_container_62693fa76b919\">\\r\\n\\r\\n\\t<div class=\"lqd-pb-row row d-md-flex\">\\r\\n\\t<p><style>.ld_process_box_62693fa76cadd h3{font-size:20px;line-height:1.5em;color:rgb(255, 255, 255);}.ld_process_box_62693fa76cadd .lqd-pb-active-shape{background:rgba(255, 255, 255, 0);border-color:rgba(255, 255, 255, 0.27);color:rgb(255, 255, 255);}.ld_process_box_62693fa76cadd .lqd-pb-shape-border path{stroke:rgb(255, 255, 255);}</style><div class=\"lqd-pb-column col-md-4\">\\r\\n\\t<div id=\"ld_process_box_62693fa76cadd\" class=\"ld_process_box_62693fa76cadd lqd-pb lqd-pb-style-1 lqd-pb-shaped lqd-pb-circle text-center\">\\r\\n\\t\\t<div class=\"lqd-pb-num-container font-weight-bold mb-5\">\\r\\n\\t\\t\\t<div class=\"lqd-pb-num lqd-pb-active-shape mx-auto\">\\r\\n\\t\\t\\t\\t<div class=\"lqd-pb-shape-border\">\\r\\n\\t\\t\\t\\t\\t<svg xmlns=\"http://www.w3.org/2000/svg\" width=\"127\" height=\"126\" viewBox=\"0 0 127 126\">\\r\\n\\t\\t\\t\\t\\t\\t<path fill=\"none\" stroke-dasharray=\"0 9.9\" stroke-linecap=\"round\" stroke-width=\"2.2\" d=\"M61.5,123 C95.4655121,123 123,95.4655121 123,61.5 C123,27.5344879 95.4655121,0 61.5,0 C27.5344879,0 0,27.5344879 0,61.5 C0,95.4655121 27.5344879,123 61.5,123 Z\" transform=\"translate(2 1)\"/>\\r\\n\\t\\t\\t\\t\\t</svg>\\r\\n\\t\\t\\t\\t</div><!-- /.lqd-pb-shape-border -->\\r\\n\\t\\t\\t</div>\\r\\n\\t\\t</div><!-- /.lqd-pb-num-container -->\\r\\n\\t\\t<div class=\"lqd-pb-content px-md-6\">\\r\\n\\r\\n\\t\\t\\t<h3 class=\"font-weight-medium mt-0 mb-2 h5\">Paketini seç ve restaurantını kaydet</h3>\\t\\t\\t<p>Üyelik işlemleri sadece birkaç dakika! paketini seç ve bilgilerini girip üyeliğini tamamla.</p>\\n\\r\\n\\t\\t</div><!-- /.lqd-pb-content -->\\r\\n\\t</div><!-- /.lqd-pb lqd-pb-style-1 -->\\r\\n</div><!-- /.lqd-pb-column col-md-4 --><style>.ld_process_box_62693fa76dc79 h3{font-size:20px;line-height:1.5em;color:rgb(255, 255, 255);}.ld_process_box_62693fa76dc79 .lqd-pb-active-shape{background:rgba(255, 255, 255, 0);border-color:rgba(255, 255, 255, 0.27);color:rgb(255, 255, 255);}.ld_process_box_62693fa76dc79 .lqd-pb-shape-border path{stroke:rgb(192, 198, 211);}</style><div class=\"lqd-pb-column col-md-4\">\\r\\n\\t<div id=\"ld_process_box_62693fa76dc79\" class=\"ld_process_box_62693fa76dc79 lqd-pb lqd-pb-style-1 lqd-pb-shaped lqd-pb-circle text-center\">\\r\\n\\t\\t<div class=\"lqd-pb-num-container font-weight-bold mb-5\">\\r\\n\\t\\t\\t<div class=\"lqd-pb-num lqd-pb-active-shape mx-auto\">\\r\\n\\t\\t\\t\\t<div class=\"lqd-pb-shape-border\">\\r\\n\\t\\t\\t\\t\\t<svg xmlns=\"http://www.w3.org/2000/svg\" width=\"127\" height=\"126\" viewBox=\"0 0 127 126\">\\r\\n\\t\\t\\t\\t\\t\\t<path fill=\"none\" stroke-dasharray=\"0 9.9\" stroke-linecap=\"round\" stroke-width=\"2.2\" d=\"M61.5,123 C95.4655121,123 123,95.4655121 123,61.5 C123,27.5344879 95.4655121,0 61.5,0 C27.5344879,0 0,27.5344879 0,61.5 C0,95.4655121 27.5344879,123 61.5,123 Z\" transform=\"translate(2 1)\"/>\\r\\n\\t\\t\\t\\t\\t</svg>\\r\\n\\t\\t\\t\\t</div><!-- /.lqd-pb-shape-border -->\\r\\n\\t\\t\\t</div>\\r\\n\\t\\t</div><!-- /.lqd-pb-num-container -->\\r\\n\\t\\t<div class=\"lqd-pb-content px-md-6\">\\r\\n\\r\\n\\t\\t\\t<h3 class=\"font-weight-medium mt-0 mb-2 h5\">Menüyü yükle</h3>\\t\\t\\t<p>Standart ve Premıum paketlerini seçtiysen menünü destek ekibimize gönder, kısa sürede sistemi kullanıma hazır hale getirelim.</p>\\n\\r\\n\\t\\t</div><!-- /.lqd-pb-content -->\\r\\n\\t</div><!-- /.lqd-pb lqd-pb-style-1 -->\\r\\n</div><!-- /.lqd-pb-column col-md-4 --><style>.ld_process_box_62693fa76eb8b h3{font-size:20px;line-height:1.5em;color:rgb(255, 255, 255);}.ld_process_box_62693fa76eb8b .lqd-pb-active-shape{background:rgba(255, 255, 255, 0);border-color:rgba(255, 255, 255, 0.27);color:rgb(255, 255, 255);}.ld_process_box_62693fa76eb8b .lqd-pb-shape-border path{stroke:rgb(192, 198, 211);}</style><div class=\"lqd-pb-column col-md-4\">\\r\\n\\t<div id=\"ld_process_box_62693fa76eb8b\" class=\"ld_process_box_62693fa76eb8b lqd-pb lqd-pb-style-1 lqd-pb-shaped lqd-pb-circle text-center\">\\r\\n\\t\\t<div class=\"lqd-pb-num-container font-weight-bold mb-5\">\\r\\n\\t\\t\\t<div class=\"lqd-pb-num lqd-pb-active-shape mx-auto\">\\r\\n\\t\\t\\t\\t<div class=\"lqd-pb-shape-border\">\\r\\n\\t\\t\\t\\t\\t<svg xmlns=\"http://www.w3.org/2000/svg\" width=\"127\" height=\"126\" viewBox=\"0 0 127 126\">\\r\\n\\t\\t\\t\\t\\t\\t<path fill=\"none\" stroke-dasharray=\"0 9.9\" stroke-linecap=\"round\" stroke-width=\"2.2\" d=\"M61.5,123 C95.4655121,123 123,95.4655121 123,61.5 C123,27.5344879 95.4655121,0 61.5,0 C27.5344879,0 0,27.5344879 0,61.5 C0,95.4655121 27.5344879,123 61.5,123 Z\" transform=\"translate(2 1)\"/>\\r\\n\\t\\t\\t\\t\\t</svg>\\r\\n\\t\\t\\t\\t</div><!-- /.lqd-pb-shape-border -->\\r\\n\\t\\t\\t</div>\\r\\n\\t\\t</div><!-- /.lqd-pb-num-container -->\\r\\n\\t\\t<div class=\"lqd-pb-content px-md-6\">\\r\\n\\r\\n\\t\\t\\t<h3 class=\"font-weight-medium mt-0 mb-2 h5\">Kullanmaya başla</h3>\\t\\t\\t<p>Eğer masalara yerleştirmek için QR kodlu menü kartlarına ihtiyacın varsa bizden destek alabilirsiniz.\\xa0</p>\\n\\r\\n\\t\\t</div><!-- /.lqd-pb-content -->\\r\\n\\t</div><!-- /.lqd-pb lqd-pb-style-1 -->\\r\\n</div><!-- /.lqd-pb-column col-md-4 --></p>\\n\\t</div><!-- /.row -->\\r\\n\\r\\n</div><!-- /.lqd-pb-container --></div></div></div></div></div></section><style>@media (min-width: 992px) { .liquid-row-responsive-62693fa770548 {padding-top:90px !important; padding-bottom:90px !important;  }  }    </style><section class=\"vc_row hidden-xs hidden-sm hidden-md hidden-lg vc_custom_1626615934412 liquid-row-responsive-62693fa770548 liquid-row-shadowbox-62693fa770575\"><div class=\"ld-container container\"><div class=\"row ld-row ld-row-outer\"><div class=\"wpb_column vc_column_container vc_col-sm-12 vc_col-md-offset-3 vc_col-md-6 text-center liquid-column-62693fa770e58\"><div class=\"vc_column-inner  vc_custom_1612951351272\" ><div class=\"wpb_wrapper\"  ><style>.ld_fancy_heading_62693fa77104c h2 {font-size:38px; } @media (min-width: 992px) { .ld_fancy_heading_62693fa77104c h2 {font-size:43px; }  } .ld_fancy_heading_62693fa77104c .lqd-highlight-inner{height:0.275em;bottom:0px;}.ld_fancy_heading_62693fa77104c h2 {font-size:38px; } @media (min-width: 992px) { .ld_fancy_heading_62693fa77104c h2 {font-size:43px; }  } </style><div class=\"ld-fancy-heading ld_fancy_heading_62693fa77104c\">\\r\\n\\t<h2 class=\"ld-fh-element lqd-highlight-underline lqd-highlight-grow-left text-decoration-default lqd-split-lines\"   data-split-text=\"true\" data-split-options=\\'{\"type\":\"lines\"}\\' data-custom-animations=\"true\" data-ca-options=\\'{\"triggerHandler\":\"inview\",\"animationTarget\":\".lqd-lines > .split-inner\",\"duration\":\"1800\",\"delay\":\"180\",\"ease\":\"power4.out\",\"direction\":\"forward\",\"initValues\":{\"y\":65,\"rotationZ\":10,\"opacity\":0},\"animations\":{\"y\":0,\"rotationZ\":0,\"opacity\":1}}\\'>  NELER VAR</h2></div></div></div></div><div class=\"wpb_column vc_column_container vc_col-sm-12 liquid-column-62693fa773411\"><div class=\"vc_column-inner  \" ><div class=\"wpb_wrapper\"  ><div data-custom-animations=\"true\" data-ca-options=\\'{\"triggerHandler\":\"inview\",\"animationTarget\":\".wpb_column\",\"duration\":\"1800\",\"startDelay\":\"250\",\"delay\":\"180\",\"ease\":\"power4.out\",\"direction\":\"forward\",\"initValues\":{\"x\":55,\"transformOriginX\":50,\"transformOriginY\":50,\"transformOriginZ\":\"0px\",\"opacity\":0},\"animations\":{\"x\":0,\"transformOriginX\":50,\"transformOriginY\":50,\"transformOriginZ\":\"0px\",\"opacity\":1}}\\' class=\"vc_row vc_inner vc_row-fluid liquid-row-shadowbox-62693fa773df3\"><div class=\"ld-container container-fluid\"><div class=\"row ld-row ld-row-inner\"><style>@media (min-width: 992px) { .liquid-column-responsive-62693fa774808 > .vc_column-inner {padding-right:15px !important; padding-left:15px !important;  }  } .liquid-column-62693fa774805{ --lqd-move-onhover-val:-5px}.liquid-column-62693fa774805 > .vc_column-inner:hover { box-shadow:0px 10px 35px 0px rgba(0, 0, 0, 0.08)}</style><div class=\"wpb_column vc_column_container vc_col-sm-12 vc_col-md-4 liquid-column-62693fa774805 liquid-column-responsive-62693fa774808 vc_col-has-fill lqd-column-move-onhover\"><div class=\"vc_column-inner vc_custom_1612951397960\" ><div class=\"liquid-column-overlay pointer-events-none liquid-column-overlay-hover\" style=\"background:rgb(255, 255, 255)\"></div><div class=\"wpb_wrapper\" ><style>.ld_icon_box_62693fa774a98 .iconbox-icon-container{margin-bottom:65px !important;border-radius:px;}.ld_icon_box_62693fa774a98 h3{margin-bottom:30px;}.ld_icon_box_62693fa774a98 .iconbox-icon-container img,.ld_icon_box_62693fa774a98 .iconbox-icon-container > svg{width:20 !important;}</style>\\r\\n<div class=\"iconbox text-align-default iconbox-custombg iconbox-xl iconbox-heading-sm ld_icon_box_62693fa774a98\" id=\"ld_icon_box_62693fa774a98\"   >\\r\\n\\t\\r\\n\\t\\t\\t\\t\\t\\r\\n\\t\\r\\n\\t<div class=\"iconbox-icon-wrap\"><span class=\"iconbox-icon-container\"><span class=\"icon-custom-bg\"><?xml version=\"1.0\" encoding=\"UTF-8\"?> <svg xmlns=\"http://www.w3.org/2000/svg\" width=\"125.733\" height=\"124.052\" viewBox=\"0 0 125.733 124.052\"><path d=\"M137.022,149.07c-18.253,29.8-62.369,49.053-92.474,31.3S8.84,108.335,30.357,80.8C69.443,30.784,168.55,97.6,137.022,149.07Z\" transform=\"translate(-17.385 -63.129)\" fill=\"#ddfcff\"></path></svg> </span><img src=\"\" class=\"liquid-image-icon\" /></span></div>\\t\\r\\n\\t\\t\\r\\n\\t<div class=\"contents\">\\t\\r\\n\\t\\t\\r\\n\\t<h3 class=\"\">Otomatik Dil Algılama</h3>\\t<p>Ceating brand identities, digital experiences, and print materials that communicate clearly.</p>\\n\\t<a href=\"#\" class=\"btn btn-naked btn-has-label ld_button_62693fa781918\" >\\r\\n\\t<span>\\r\\n\\t\\t\\r\\n\\t\\t\\t\\t\\t<span class=\"btn-txt\" data-text=\"Explore Hub\" >Explore Hub</span>\\r\\n\\t\\t\\t\\r\\n\\t<span class=\"btn-icon\"><i class=\"lqd-icn-ess icon-md-arrow-forward\"></i></span>\\t\\t\\t\\t</span>\\r\\n</a>\\r\\n\\t\\r\\n\\t</div>\\t\\r\\n\\t\\r\\n</div>\\r\\n</div></div></div><style>@media (min-width: 992px) { .liquid-column-responsive-62693fa785c36 > .vc_column-inner {padding-right:15px !important; padding-left:15px !important;  }  } .liquid-column-62693fa785c32{ --lqd-move-onhover-val:-5px}.liquid-column-62693fa785c32 > .vc_column-inner:hover { box-shadow:0px 10px 35px 0px rgba(0, 0, 0, 0.08)}</style><div class=\"wpb_column vc_column_container vc_col-sm-12 vc_col-md-4 liquid-column-62693fa785c32 liquid-column-responsive-62693fa785c36 vc_col-has-fill lqd-column-move-onhover\"><div class=\"vc_column-inner vc_custom_1612951407262\" ><div class=\"liquid-column-overlay pointer-events-none liquid-column-overlay-hover\" style=\"background:rgb(255, 255, 255)\"></div><div class=\"wpb_wrapper\" ><style>.ld_icon_box_62693fa785f22 .iconbox-icon-container{margin-bottom:65px !important;border-radius:px;}.ld_icon_box_62693fa785f22 h3{margin-bottom:30px;}</style>\\r\\n<div class=\"iconbox text-align-default iconbox-custombg iconbox-xl iconbox-heading-sm ld_icon_box_62693fa785f22\" id=\"ld_icon_box_62693fa785f22\"   >\\r\\n\\t\\r\\n\\t\\t\\t\\t\\t\\r\\n\\t\\r\\n\\t<div class=\"iconbox-icon-wrap\"><span class=\"iconbox-icon-container\"><span class=\"icon-custom-bg\"><?xml version=\"1.0\" encoding=\"UTF-8\"?> <svg xmlns=\"http://www.w3.org/2000/svg\" width=\"125\" height=\"123.329\" viewBox=\"0 0 125 123.329\"><path d=\"M136.325,148.569C118.179,178.193,74.32,197.336,44.39,179.69S8.89,108.071,30.282,80.7C69.14,30.972,167.669,97.4,136.325,148.569Z\" transform=\"translate(-17.385 -63.129)\" fill=\"#f2edff\"></path></svg> </span><img src=\"\" class=\"liquid-image-icon\" /></span></div>\\t\\r\\n\\t\\t\\r\\n\\t<div class=\"contents\">\\t\\r\\n\\t\\t\\r\\n\\t<h3 class=\"\">70+ Dil Seçeneği</h3>\\t<p>We have an experienced team of production and inspection personnel to ensure quality.</p>\\n\\t<style>.ld_button_62693fa79318a {font-weight:700; } .ld_button_62693fa79318a {font-weight:700; } .ld_button_62693fa79318a {font-weight:700; } .ld_button_62693fa79318a {font-weight:700; } .ld_button_62693fa79318a {font-weight:700; } </style><a href=\"#\" class=\"btn btn-naked btn-hover-txt-liquid-x-alt btn-hover-swp btn-has-label ld_button_62693fa79318a vc_custom_1626425902761\" data-localscroll=\"true\" data-localscroll-options=\"{&quot;scrollBelowSection&quot;:true}\" >\\r\\n\\t<span>\\r\\n\\t\\t\\r\\n\\t\\t\\t\\t\\t<span class=\"btn-txt\" data-text=\"Explore Hub\" data-transition-delay=\"true\"\\r\\n\\t\\t\\t\\t\\t    data-delay-options=\\'{\"elements\": \".lqd-chars\", \"delayType\": \"animation\", \"startDelay\": 0, \"delayBetween\": 32.5, \"reverse\": true}\\'\\r\\n\\t\\t\\t\\t\\t    data-split-text=\"true\"\\r\\n\\t\\t\\t\\t\\t    data-split-options=\\'{\"type\": \"chars, words\"}\\'>Explore Hub</span>\\r\\n\\t\\t\\t\\r\\n\\t<span class=\"btn-icon\"><i class=\"lqd-icn-ess icon-md-arrow-forward\"></i></span>\\t<span class=\"btn-icon\"><i class=\"lqd-icn-ess icon-md-arrow-forward\"></i></span>\\t\\t\\t</span>\\r\\n</a>\\r\\n\\t\\r\\n\\t</div>\\t\\r\\n\\t\\r\\n</div>\\r\\n</div></div></div><style>@media (min-width: 992px) { .liquid-column-responsive-62693fa796f53 > .vc_column-inner {padding-right:15px !important; padding-left:15px !important;  }  } .liquid-column-62693fa796f4e{ --lqd-move-onhover-val:-5px}.liquid-column-62693fa796f4e > .vc_column-inner:hover { box-shadow:0px 10px 35px 0px rgba(0, 0, 0, 0.08)}</style><div class=\"wpb_column vc_column_container vc_col-sm-12 vc_col-md-4 liquid-column-62693fa796f4e liquid-column-responsive-62693fa796f53 vc_col-has-fill lqd-column-move-onhover\"><div class=\"vc_column-inner vc_custom_1612951419457\" ><div class=\"liquid-column-overlay pointer-events-none liquid-column-overlay-hover\" style=\"background:rgb(255, 255, 255)\"></div><div class=\"wpb_wrapper\" ><style>.ld_icon_box_62693fa797213 .iconbox-icon-container{margin-bottom:65px !important;border-radius:px;}.ld_icon_box_62693fa797213 h3{margin-bottom:30px;}</style>\\r\\n<div class=\"iconbox text-align-default iconbox-custombg iconbox-xl iconbox-heading-sm ld_icon_box_62693fa797213\" id=\"ld_icon_box_62693fa797213\"   >\\r\\n\\t\\r\\n\\t\\t\\t\\t\\t\\r\\n\\t\\r\\n\\t<div class=\"iconbox-icon-wrap\"><span class=\"iconbox-icon-container\"><span class=\"icon-custom-bg\"><?xml version=\"1.0\" encoding=\"UTF-8\"?> <svg xmlns=\"http://www.w3.org/2000/svg\" width=\"125\" height=\"123.329\" viewBox=\"0 0 125 123.329\"><path d=\"M136.325,148.569C118.179,178.193,74.32,197.336,44.39,179.69S8.89,108.071,30.282,80.7C69.14,30.972,167.669,97.4,136.325,148.569Z\" transform=\"translate(-17.385 -63.129)\" fill=\"#ffe5e5\"></path></svg> </span><img src=\"\" class=\"liquid-image-icon\" /></span></div>\\t\\r\\n\\t\\t\\r\\n\\t<div class=\"contents\">\\t\\r\\n\\t\\t\\r\\n\\t<h3 class=\"\">Bas Konuş (Sesli Çeviri)</h3>\\t<p>Uncover, analyze, track, and report on SEO data. Our quality policy: strict to have best product.</p>\\n\\t<style>.ld_button_62693fa7a4213 {font-weight:700; } .ld_button_62693fa7a4213 {font-weight:700; } .ld_button_62693fa7a4213 {font-weight:700; } .ld_button_62693fa7a4213 {font-weight:700; } .ld_button_62693fa7a4213 {font-weight:700; } </style><a href=\"#\" class=\"btn btn-naked btn-hover-txt-liquid-x-alt btn-hover-swp btn-has-label ld_button_62693fa7a4213 vc_custom_1626426384448\" data-localscroll=\"true\" data-localscroll-options=\"{&quot;scrollBelowSection&quot;:true}\" >\\r\\n\\t<span>\\r\\n\\t\\t\\r\\n\\t\\t\\t\\t\\t<span class=\"btn-txt\" data-text=\"Explore Hub\" data-transition-delay=\"true\"\\r\\n\\t\\t\\t\\t\\t    data-delay-options=\\'{\"elements\": \".lqd-chars\", \"delayType\": \"animation\", \"startDelay\": 0, \"delayBetween\": 32.5, \"reverse\": true}\\'\\r\\n\\t\\t\\t\\t\\t    data-split-text=\"true\"\\r\\n\\t\\t\\t\\t\\t    data-split-options=\\'{\"type\": \"chars, words\"}\\'>Explore Hub</span>\\r\\n\\t\\t\\t\\r\\n\\t<span class=\"btn-icon\"><i class=\"lqd-icn-ess icon-md-arrow-forward\"></i></span>\\t<span class=\"btn-icon\"><i class=\"lqd-icn-ess icon-md-arrow-forward\"></i></span>\\t\\t\\t</span>\\r\\n</a>\\r\\n\\t\\r\\n\\t</div>\\t\\r\\n\\t\\r\\n</div>\\r\\n</div></div></div></div></div></div></div></div></div></div></div></section><style>@media (min-width: 992px) { .liquid-row-responsive-62693fa7a7d7f {padding-top:100px !important; padding-bottom:100px !important;  }  }    </style><section class=\"vc_row hidden-xs hidden-sm hidden-md hidden-lg vc_custom_1626537992187 liquid-row-responsive-62693fa7a7d7f liquid-row-shadowbox-62693fa7a7dc6\"><div class=\"ld-container container\"><div class=\"row ld-row ld-row-outer\"><div class=\"wpb_column vc_column_container vc_col-sm-12 vc_col-md-offset-3 vc_col-md-6 text-center liquid-column-62693fa7a8a93\"><div class=\"vc_column-inner  vc_custom_1577783882845\" ><div class=\"wpb_wrapper\"  ><style>.ld_fancy_heading_62693fa7a8cf3 .lqd-highlight-inner{height:0.275em;bottom:0px;}</style><div class=\"ld-fancy-heading ld_fancy_heading_62693fa7a8cf3\">\\r\\n\\t<h6 class=\"ld-fh-element lqd-highlight-underline lqd-highlight-grow-left text-decoration-default\"   >  See all projects</h6></div><style>.ld_fancy_heading_62693fa7abfdc h2 {font-size:38px; } @media (min-width: 992px) { .ld_fancy_heading_62693fa7abfdc h2 {font-size:43px; }  } .ld_fancy_heading_62693fa7abfdc .lqd-highlight-inner{height:0.275em;bottom:0px;}.ld_fancy_heading_62693fa7abfdc h2 {font-size:38px; } @media (min-width: 992px) { .ld_fancy_heading_62693fa7abfdc h2 {font-size:43px; }  } </style><div class=\"ld-fancy-heading ld_fancy_heading_62693fa7abfdc\">\\r\\n\\t<h2 class=\"ld-fh-element lqd-highlight-underline lqd-highlight-grow-left text-decoration-default\"   >  Case Studies</h2></div></div></div></div></div></div></section><style>@media (min-width: 992px) { .liquid-row-responsive-62693fa7b1b15 {padding-top:100px !important; padding-bottom:100px !important;  }  }    </style><section class=\"vc_row hidden-xs hidden-sm hidden-md hidden-lg vc_custom_1626617271784 liquid-row-responsive-62693fa7b1b15 liquid-row-shadowbox-62693fa7b1b5b\"><div class=\"ld-container container\"><div class=\"row ld-row ld-row-outer\"><div class=\"wpb_column vc_column_container vc_col-sm-12 vc_col-md-6 vc_hidden-sm vc_hidden-xs liquid-column-62693fa7b2e69\"><div class=\"vc_column-inner  \" ><div class=\"wpb_wrapper\"  ><div id=\"ld_images_group_container_62693fa7b300e\" class=\"lqd-imggrp-container ld_images_group_container_62693fa7b300e\"   >\\r\\n\\t<div class=\"lqd-imggrp-inner\">\\r\\n\\t\\t<div id=\"ld_images_group_element_62693fa7b3b0a\" class=\"lqd-imggrp-single ld_images_group_element_62693fa7b3b0a\"   >\\r\\n\\t\\r\\n\\t<div class=\"lqd-imggrp-img-container\"    data-parallax=\"true\" data-parallax-from=\\'{\"-webkit-clip-path\": \"circle(0% at 0 50%)\", \"clip-path\": \"circle(0% at 0 50%)\"}\\' data-parallax-to=\\'{\"-webkit-clip-path\": \"circle(115% at 0 50%)\", \"clip-path\": \"circle(115% at 0 50%)\"}\\' data-parallax-options=\\'{\"overflowHidden\":false,\"ease\":\"easeOutCirc\",\"start\":\"top bottom\",\"end\":\"bottom1150 top\"}\\'>\\r\\n\\t\\t\\r\\n\\t\\t\\t\\t\\r\\n\\t\\t\\t\\t<figure class=\"loaded\"><img src=\"https://menuco.co/wp-content/uploads/2019/12/Image-BG.svg\" class=\"attachment-full size-full\" alt=\"\" loading=\"lazy\" /></figure>\\t\\t\\t\\t\\t\\t\\t\\t\\r\\n\\t</div><!-- /.lqd-imggrp-content -->\\r\\n</div><!-- /.lqd-imggrp-single --><style>.ld_images_group_element_62693fa7c6948{position:absolute;}.ld_images_group_element_62693fa7c6948 {top:33px !important; left:-33px !important;  } .ld_images_group_element_62693fa7c6948 {top:33px !important; left:-33px !important;  } </style><div id=\"ld_images_group_element_62693fa7c6948\" class=\"lqd-imggrp-single ld_images_group_element_62693fa7c6948\"   >\\r\\n\\t\\r\\n\\t<div class=\"lqd-imggrp-img-container\"    data-parallax=\"true\" data-parallax-from=\\'{\"-webkit-clip-path\": \"circle(0% at 0 50%)\", \"clip-path\": \"circle(0% at 0 50%)\"}\\' data-parallax-to=\\'{\"-webkit-clip-path\": \"circle(115% at 0 50%)\", \"clip-path\": \"circle(115% at 0 50%)\"}\\' data-parallax-options=\\'{\"overflowHidden\":false,\"ease\":\"easeOutCirc\",\"offset\":\"100\",\"start\":\"top bottom\",\"end\":\"bottom1150 top\"}\\'>\\r\\n\\t\\t\\r\\n\\t\\t\\t\\t\\r\\n\\t\\t\\t\\t<figure ><img width=\"496\" height=\"496\" src=\"data:image/svg+xml,%3Csvg xmlns=&#039;http://www.w3.org/2000/svg&#039; viewBox=&#039;0 0 992 992&#039;%3E%3C/svg%3E\" class=\" ld-lazyload\" alt=\"\" data-src=\"https://menuco.co/wp-content/uploads/2019/12/Image@2x.png\" data-srcset=\"https://menuco.co/wp-content/uploads/2019/12/Image@2x-300x300.png 300w, https://menuco.co/wp-content/uploads/2019/12/Image@2x-150x150.png 150w, https://menuco.co/wp-content/uploads/2019/12/Image@2x.png 992w\" data-aspect=\"1\" /></figure>\\t\\t\\t\\t\\t\\t\\t\\t\\r\\n\\t</div><!-- /.lqd-imggrp-content -->\\r\\n</div><!-- /.lqd-imggrp-single --></p>\\n\\t\\r\\n\\t</div><!-- /.lqd-imggrp-inner -->\\r\\n</div><!-- /.lqd-imggrp-container --></div></div></div><style>@media (min-width: 992px) { .liquid-column-responsive-62693fa7d424f > .vc_column-inner {padding-left:7% !important;  }  } </style><div class=\"wpb_column vc_column_container vc_col-sm-12 vc_col-md-6 text-center text-md-left liquid-column-62693fa7d424b liquid-column-responsive-62693fa7d424f\"><div class=\"vc_column-inner  \" ><div class=\"wpb_wrapper\"  ><style>.ld_images_group_element_62693fa7d44e0{position:absolute;}.ld_images_group_element_62693fa7d44e0 {top:-90px !important; left:-100px !important;  } .ld_images_group_element_62693fa7d44e0 {top:-90px !important; left:-100px !important;  } </style><div id=\"ld_images_group_element_62693fa7d44e0\" class=\"lqd-imggrp-single ld_images_group_element_62693fa7d44e0\"   >\\r\\n\\t\\r\\n\\t<div class=\"lqd-imggrp-img-container\"    data-parallax=\"true\" data-parallax-from=\\'{\"y\":5}\\' data-parallax-to=\\'{\"y\":-120}\\' data-parallax-options=\\'{\"overflowHidden\":false,\"ease\":\"linear\",\"start\":\"top bottom\"}\\'>\\r\\n\\t\\t\\r\\n\\t\\t\\t\\t\\r\\n\\t\\t\\t\\t<figure class=\"loaded\"><img src=\"https://menuco.co/wp-content/uploads/2019/12/qupte.svg\" class=\"attachment-full size-full\" alt=\"\" loading=\"lazy\" /></figure>\\t\\t\\t\\t\\t\\t\\t\\t\\r\\n\\t</div><!-- /.lqd-imggrp-content -->\\r\\n</div><!-- /.lqd-imggrp-single --><style>.ld_fancy_heading_62693fa7df645 h6 {margin-bottom:1em !important; margin-left:15px !important;  } .ld_fancy_heading_62693fa7df645 .lqd-highlight-inner{height:0.275em;bottom:0px;}.ld_fancy_heading_62693fa7df645 h6 {margin-bottom:1em !important; margin-left:15px !important;  } </style><div class=\"ld-fancy-heading ld_fancy_heading_62693fa7df645\">\\r\\n\\t<h6 class=\"ld-fh-element lqd-highlight-underline lqd-highlight-grow-left text-decoration-default\"   >  Grow your business</h6></div><style>.ld_fancy_heading_62693fa7e20d9 h2 {font-size:38px; } @media (min-width: 992px) { .ld_fancy_heading_62693fa7e20d9 h2 {font-size:43px; }  } .ld_fancy_heading_62693fa7e20d9 h2 {margin-left:15px !important;  } .ld_fancy_heading_62693fa7e20d9 .lqd-highlight-inner{height:0.275em;bottom:0px;}.ld_fancy_heading_62693fa7e20d9 h2 {font-size:38px; } @media (min-width: 992px) { .ld_fancy_heading_62693fa7e20d9 h2 {font-size:43px; }  } .ld_fancy_heading_62693fa7e20d9 h2 {margin-left:15px !important;  } </style><div class=\"ld-fancy-heading ld_fancy_heading_62693fa7e20d9\">\\r\\n\\t<h2 class=\"ld-fh-element lqd-highlight-underline lqd-highlight-grow-left text-decoration-default\"   >  What Our Customer Are Saying?</h2></div><style>.carousel-container.ld_carousel_tab_62693fa81c110 .carousel-item{width:100%;flex-basis:100%;padding-inline-start:15px;padding-inline-end:15px;}.carousel-container.ld_carousel_tab_62693fa81c110 .carousel-items{margin-inline-start:-15px;margin-inline-end:-15px;}.ld_carousel_tab_62693fa81c110.carousel-dots{position:relative;top:auto;right:auto;bottom:-25px;left:auto;}.ld_carousel_tab_62693fa81c110.carousel-dots-mobile.carousel-dots-mobile-outside .flickity-page-dots{margin-top:-0.5em;}</style><div id=\"ld_carousel_tab_62693fa81c110\" class=\"carousel-container carousel-nav-left carousel-nav-mobile-center no carousel-nav-lg carousel-nav-circle carousel-dots-mobile-center carousel-dots-style1 carousel-dots-mobile-outside ld_carousel_tab_62693fa81c110\">\\r\\n\\r\\n\\t<div class=\"carousel-items\"  data-lqd-flickity=\\'{\"cellSelector\":\".carousel-item\",\"cellAlign\":\"left\",\"prevNextButtons\":true,\"pageDots\":false,\"groupCells\":true,\"pauseAutoPlayOnHover\":false,\"navArrow\":\"6\",\"buttonsAppendTo\":\"self\",\"addSlideNumbersToArrows\":false,\"navOffsets\":{\"nav\":{\"left\":\"8px\"}},\"dotsIndicator\":\"dots\",\"numbersStyle\":\"circle\",\"dotsAppendTo\":\"self\"}\\' >\\r\\n\\t<div class=\"carousel-item has-width\"><div class=\"carousel-item-inner\"><div class=\"carousel-item-content\"><div class=\"vc_row vc_inner vc_row-fluid vc_custom_1577874026644 liquid-row-shadowbox-62693fa7eb314\"><div class=\"ld-container container-fluid\"><div class=\"row ld-row ld-row-inner\"><div class=\"wpb_column vc_column_container vc_col-sm-12 liquid-column-62693fa7ebd41\"><div class=\"vc_column-inner \" ><div class=\"wpb_wrapper\" ><style>.ld_fancy_heading_62693fa7ebf80 p {font-size:22px; } .ld_fancy_heading_62693fa7ebf80 p {line-height:39px; } .ld_fancy_heading_62693fa7ebf80 p {--element-line-height:39px; } .ld_fancy_heading_62693fa7ebf80 p {margin-bottom:1em !important;  } .ld_fancy_heading_62693fa7ebf80 .lqd-highlight-inner{height:0.275em;bottom:0px;}.ld_fancy_heading_62693fa7ebf80 p {font-size:22px; } .ld_fancy_heading_62693fa7ebf80 p {line-height:39px; } .ld_fancy_heading_62693fa7ebf80 p {--element-line-height:39px; } .ld_fancy_heading_62693fa7ebf80 p {margin-bottom:1em !important;  } </style><div class=\"ld-fancy-heading ld_fancy_heading_62693fa7ebf80\">\\r\\n\\t<p class=\"ld-fh-element lqd-highlight-underline lqd-highlight-grow-left text-decoration-default\"   >  We help our clients succeed by creating brand identities, digital experiences, and print materials that communicate clearly, achieve marketing goals, and look fantastic.Through a deep understanding of our audience’s makeup and motivations.</p></div><style>.ld_fancy_heading_62693fa7ede92 .lqd-highlight-inner{height:0.275em;bottom:0px;}</style><div class=\"ld-fancy-heading ld_fancy_heading_62693fa7ede92\">\\r\\n\\t<h6 class=\"ld-fh-element lqd-highlight-underline lqd-highlight-grow-left text-decoration-default\"   >  Alex, Founder</h6></div></div></div></div></div></div></div></div></div></div><div class=\"carousel-item has-width\"><div class=\"carousel-item-inner\"><div class=\"carousel-item-content\"><div class=\"vc_row vc_inner vc_row-fluid vc_custom_1577874034752 liquid-row-shadowbox-62693fa80579e\"><div class=\"ld-container container-fluid\"><div class=\"row ld-row ld-row-inner\"><div class=\"wpb_column vc_column_container vc_col-sm-12 liquid-column-62693fa806786\"><div class=\"vc_column-inner \" ><div class=\"wpb_wrapper\" ><style>.ld_fancy_heading_62693fa8069f4 p {font-size:22px; } .ld_fancy_heading_62693fa8069f4 p {line-height:39px; } .ld_fancy_heading_62693fa8069f4 p {--element-line-height:39px; } .ld_fancy_heading_62693fa8069f4 p {margin-bottom:1em !important;  } .ld_fancy_heading_62693fa8069f4 .lqd-highlight-inner{height:0.275em;bottom:0px;}.ld_fancy_heading_62693fa8069f4 p {font-size:22px; } .ld_fancy_heading_62693fa8069f4 p {line-height:39px; } .ld_fancy_heading_62693fa8069f4 p {--element-line-height:39px; } .ld_fancy_heading_62693fa8069f4 p {margin-bottom:1em !important;  } </style><div class=\"ld-fancy-heading ld_fancy_heading_62693fa8069f4\">\\r\\n\\t<p class=\"ld-fh-element lqd-highlight-underline lqd-highlight-grow-left text-decoration-default\"   >  We help our clients succeed by creating brand identities, digital experiences, and print materials that communicate clearly, achieve marketing goals, and look fantastic.Through a deep understanding of our audience’s makeup and motivations.</p></div><style>.ld_fancy_heading_62693fa80807b .lqd-highlight-inner{height:0.275em;bottom:0px;}</style><div class=\"ld-fancy-heading ld_fancy_heading_62693fa80807b\">\\r\\n\\t<h6 class=\"ld-fh-element lqd-highlight-underline lqd-highlight-grow-left text-decoration-default\"   >  Alex, Founder</h6></div></div></div></div></div></div></div></div></div></div><div class=\"carousel-item has-width\"><div class=\"carousel-item-inner\"><div class=\"carousel-item-content\"><div class=\"vc_row vc_inner vc_row-fluid vc_custom_1577874096799 liquid-row-shadowbox-62693fa813fd1\"><div class=\"ld-container container-fluid\"><div class=\"row ld-row ld-row-inner\"><div class=\"wpb_column vc_column_container vc_col-sm-12 liquid-column-62693fa816807\"><div class=\"vc_column-inner \" ><div class=\"wpb_wrapper\" ><style>.ld_fancy_heading_62693fa816a8f p {font-size:22px; } .ld_fancy_heading_62693fa816a8f p {line-height:39px; } .ld_fancy_heading_62693fa816a8f p {--element-line-height:39px; } .ld_fancy_heading_62693fa816a8f p {margin-bottom:1em !important;  } .ld_fancy_heading_62693fa816a8f .lqd-highlight-inner{height:0.275em;bottom:0px;}.ld_fancy_heading_62693fa816a8f p {font-size:22px; } .ld_fancy_heading_62693fa816a8f p {line-height:39px; } .ld_fancy_heading_62693fa816a8f p {--element-line-height:39px; } .ld_fancy_heading_62693fa816a8f p {margin-bottom:1em !important;  } </style><div class=\"ld-fancy-heading ld_fancy_heading_62693fa816a8f\">\\r\\n\\t<p class=\"ld-fh-element lqd-highlight-underline lqd-highlight-grow-left text-decoration-default\"   >  We help our clients succeed by creating brand identities, digital experiences, and print materials that communicate clearly, achieve marketing goals, and look fantastic.Through a deep understanding of our audience’s makeup and motivations.</p></div><style>.ld_fancy_heading_62693fa8192ff .lqd-highlight-inner{height:0.275em;bottom:0px;}</style><div class=\"ld-fancy-heading ld_fancy_heading_62693fa8192ff\">\\r\\n\\t<h6 class=\"ld-fh-element lqd-highlight-underline lqd-highlight-grow-left text-decoration-default\"   >  Alex, Founder</h6></div></div></div></div></div></div></div></div></div></div>\\t</div>\\r\\n\\r\\n</div></div></div></div></div></div></section>\\n\\r\\n\\t\\r\\n\\t\\t\\t\\t\\t\\t</div><!-- #lqd-contents-wrap -->\\r\\n\\t\\t\\t\\t\\t</main><!-- #lqd-site-content -->\\r\\n\\t\\t<div class=\"lqd-back-to-top\" data-back-to-top=\"true\">\\r\\n\\t\\t\\t<a href=\"#wrap\" data-localscroll=\"true\">\\r\\n\\t\\t\\t\\t<i class=\"lqd-icn-ess icon-ion-ios-arrow-up\"></i>\\r\\n\\t\\t\\t</a>\\r\\n\\t\\t</div><!-- /.lqd-back-to-top --><style>.main-footer {color: rgba(30,32,70,0.797);padding-top: 70px;padding-bottom: 20px}.main-footer a:not(.btn) { color: rgba(30,32,70,0.8) }.main-footer a:not(.btn):hover { color: #000000 }</style><footer class=\"main-footer site-footer footer\" id=\"footer\" itemscope=\"itemscope\" itemtype=\"http://schema.org/WPFooter\" data-sticky-footer=\"true\" data-sticky-footer-options=\"{&quot;shadow&quot;:&quot;0&quot;}\">\\r\\n\\t<style>@media (min-width: 992px) { .liquid-row-responsive-62693fa825dcb {padding-right:5% !important; padding-left:5% !important;  }  }    </style><section class=\"vc_row vc_custom_1626610238991 liquid-row-responsive-62693fa825dcb liquid-row-shadowbox-62693fa825e00\"><div class=\"ld-container container-fluid\"><div class=\"row ld-row ld-row-outer vc_row-o-equal-height vc_row-o-content-middle vc_row-flex\"><div class=\"wpb_column vc_column_container vc_col-sm-12 liquid-column-62693fa8269f2\"><div class=\"vc_column-inner  \" ><div class=\"wpb_wrapper\"  ><div class=\"vc_separator wpb_content_element vc_separator_align_center vc_sep_width_100 vc_sep_pos_align_center vc_separator_no_text vc_sep_color_grey\" ><span class=\"vc_sep_holder vc_sep_holder_l\"><span  class=\"vc_sep_line\"></span></span><span class=\"vc_sep_holder vc_sep_holder_r\"><span  class=\"vc_sep_line\"></span></span>\\r\\n</div></div></div></div><div class=\"wpb_column vc_column_container vc_col-sm-6 liquid-column-62693fa8290be\"><div class=\"vc_column-inner  \" ><div class=\"wpb_wrapper\"  >\\r\\n\\t<div class=\"wpb_text_column wpb_content_element \" >\\r\\n\\t\\t<div class=\"wpb_wrapper\">\\r\\n\\t\\t\\t<p>Menuco TECH</p>\\n<p>Attilastr. 131<br />\\n12105 Berlin, Germany</p>\\n<p>USt-ID.: DE343188603</p>\\n\\r\\n\\t\\t</div>\\r\\n\\t</div>\\r\\n\\r\\n\\t<div class=\"wpb_text_column wpb_content_element \" >\\r\\n\\t\\t<div class=\"wpb_wrapper\">\\r\\n\\t\\t\\t<p>WhatsApp: +49 171 802 3675</p>\\n\\r\\n\\t\\t</div>\\r\\n\\t</div>\\r\\n\\r\\n\\t<div class=\"wpb_text_column wpb_content_element \" >\\r\\n\\t\\t<div class=\"wpb_wrapper\">\\r\\n\\t\\t\\t<p>E-Mail: info@menuco.co</p>\\n\\r\\n\\t\\t</div>\\r\\n\\t</div>\\r\\n</div></div></div><div class=\"wpb_column vc_column_container vc_col-sm-6 liquid-column-62693fa830fe7\"><div class=\"vc_column-inner  \" ><div class=\"wpb_wrapper\"  ><style>.ld_custom_menu_62693fa832111 > ul > li > a{font-size:16px;line-height:1.5em;}.ld_custom_menu_62693fa832111 > ul > li:not(:last-child){margin-bottom:19px;}.lqd-stickybar > .lqd-head-col > .header-module > .ld_custom_menu_62693fa832111 li{margin-inline-start:19px;}</style><div  \\r\\n\\tclass=\"lqd-fancy-menu lqd-custom-menu lqd-menu-td-none ld_custom_menu_62693fa832111\"\\r\\n\\t>\\r\\n\\r\\n\\t<ul class=\"reset-ul\" id=\"ld_custom_menu_62693fa832111\" >\\r\\n\\t<li><a href=\"https://menuco.co/privacy-policy/\" target=\"_blank\"> Privacy Policy</a></li><li><a href=\"https://menuco.co/member-tos-page\" target=\"_blank\"> Terms of Use</a></li>\\t</ul>\\r\\n</div></div></div></div></div></div></section><style>@media (min-width: 992px) { .liquid-row-responsive-62693fa836b3a {padding-right:5% !important; padding-left:5% !important;  }  }    </style><section class=\"vc_row vc_custom_1577874368151 liquid-row-responsive-62693fa836b3a liquid-row-shadowbox-62693fa836b81\"><div class=\"ld-container container-fluid\"><div class=\"row ld-row ld-row-outer vc_row-o-equal-height vc_row-o-content-middle vc_row-flex\"><div class=\"wpb_column vc_column_container vc_col-sm-6 liquid-column-62693fa837944\"><div class=\"vc_column-inner  \" ><div class=\"wpb_wrapper\"  ><style>.ld_fancy_heading_62693fa837b50 h2 {font-size:33px; } .ld_fancy_heading_62693fa837b50 h2 {margin-bottom:1em !important;  } .ld_fancy_heading_62693fa837b50 .lqd-highlight-inner{height:0.275em;bottom:0px;}.ld_fancy_heading_62693fa837b50 h2 {font-size:33px; } .ld_fancy_heading_62693fa837b50 h2 {margin-bottom:1em !important;  } </style><div class=\"ld-fancy-heading ld_fancy_heading_62693fa837b50\">\\r\\n\\t<h2 class=\"ld-fh-element lqd-highlight-underline lqd-highlight-grow-left text-decoration-default\"   >  Menuco</h2></div></div></div></div><div class=\"wpb_column vc_column_container vc_col-sm-6 liquid-column-62693fa83a18c\"><div class=\"vc_column-inner  \" ><div class=\"wpb_wrapper\"  ><style>.ld_fancy_heading_62693fa83a3b2 p {font-size:16px; } .ld_fancy_heading_62693fa83a3b2 p {margin-bottom:10px !important;  } .ld_fancy_heading_62693fa83a3b2 .lqd-highlight-inner{height:0.275em;bottom:0px;}.ld_fancy_heading_62693fa83a3b2 p {font-size:16px; } .ld_fancy_heading_62693fa83a3b2 p {margin-bottom:10px !important;  } </style><div class=\"ld-fancy-heading ld_fancy_heading_62693fa83a3b2\">\\r\\n\\t<p class=\"ld-fh-element lqd-highlight-underline lqd-highlight-grow-left text-decoration-default\"   >  © All rights reserved to Menuco, 2021</p></div></div></div></div></div></div></section></footer>\\r\\n\\t</div><!-- .site-container -->\\r\\n\\r\\n\\t\\r\\n\\t<script type=\"text/html\" id=\"wpb-modifications\"></script><link href=\"https://fonts.googleapis.com/css?family=Roboto:700%2C400\" rel=\"stylesheet\" property=\"stylesheet\" media=\"all\" type=\"text/css\" >\\n\\n\\t\\t<script type=\"text/javascript\">\\n\\t\\tif(typeof revslider_showDoubleJqueryError === \"undefined\") {\\n\\t\\t\\tfunction revslider_showDoubleJqueryError(sliderID) {\\n\\t\\t\\t\\tvar err = \"<div class=\\'rs_error_message_box\\'>\";\\n\\t\\t\\t\\terr += \"<div class=\\'rs_error_message_oops\\'>Oops...</div>\";\\n\\t\\t\\t\\terr += \"<div class=\\'rs_error_message_content\\'>\";\\n\\t\\t\\t\\terr += \"You have some jquery.js library include that comes after the Slider Revolution files js inclusion.<br>\";\\n\\t\\t\\t\\terr += \"To fix this, you can:<br>&nbsp;&nbsp;&nbsp; 1. Set \\'Module General Options\\' -> \\'Advanced\\' -> \\'jQuery & OutPut Filters\\' -> \\'Put JS to Body\\' to on\";\\n\\t\\t\\t\\terr += \"<br>&nbsp;&nbsp;&nbsp; 2. Find the double jQuery.js inclusion and remove it\";\\n\\t\\t\\t\\terr += \"</div>\";\\n\\t\\t\\terr += \"</div>\";\\n\\t\\t\\t\\tvar slider = document.getElementById(sliderID); slider.innerHTML = err; slider.style.display = \"block\";\\n\\t\\t\\t}\\n\\t\\t}\\n\\t\\t</script>\\n<link rel=\\'stylesheet\\' id=\\'liquid-icons-css\\'  href=\\'https://menuco.co/wp-content/themes/hub/assets/vendors/liquid-icon/lqd-essentials/lqd-essentials.min.css\\' type=\\'text/css\\' media=\\'all\\' />\\n<link rel=\\'stylesheet\\' id=\\'vc_font_awesome_5_shims-css\\'  href=\\'https://menuco.co/wp-content/plugins/liquid_js_composer/assets/lib/bower/font-awesome/css/v4-shims.min.css?ver=6.6.0\\' type=\\'text/css\\' media=\\'all\\' />\\n<link rel=\\'stylesheet\\' id=\\'vc_font_awesome_5-css\\'  href=\\'https://menuco.co/wp-content/plugins/liquid_js_composer/assets/lib/bower/font-awesome/css/all.min.css?ver=6.6.0\\' type=\\'text/css\\' media=\\'all\\' />\\n<link rel=\\'stylesheet\\' id=\\'fresco-css\\'  href=\\'https://menuco.co/wp-content/themes/hub/assets/vendors/fresco/css/fresco.css\\' type=\\'text/css\\' media=\\'all\\' />\\n<link rel=\\'stylesheet\\' id=\\'jquery-ui-css\\'  href=\\'https://menuco.co/wp-content/themes/hub/assets/vendors/jquery-ui/jquery-ui.css\\' type=\\'text/css\\' media=\\'all\\' />\\n<script type=\\'text/javascript\\' src=\\'https://menuco.co/wp-content/plugins/hub-core/shortcodes/header-woo-search/header-woo-search.js?ver=1.0.0\\' id=\\'ld-header-woo-search-js\\'></script>\\n<script type=\\'text/javascript\\' src=\\'https://menuco.co/wp-includes/js/dist/vendor/regenerator-runtime.min.js?ver=0.13.9\\' id=\\'regenerator-runtime-js\\'></script>\\n<script type=\\'text/javascript\\' src=\\'https://menuco.co/wp-includes/js/dist/vendor/wp-polyfill.min.js?ver=3.15.0\\' id=\\'wp-polyfill-js\\'></script>\\n<script type=\\'text/javascript\\' id=\\'contact-form-7-js-extra\\'>\\n/* <![CDATA[ */\\nvar wpcf7 = {\"api\":{\"root\":\"https:\\\\/\\\\/menuco.co\\\\/wp-json\\\\/\",\"namespace\":\"contact-form-7\\\\/v1\"}};\\n/* ]]> */\\n</script>\\n<script type=\\'text/javascript\\' src=\\'https://menuco.co/wp-content/plugins/contact-form-7/includes/js/index.js?ver=5.4.1\\' id=\\'contact-form-7-js\\'></script>\\n<script type=\\'text/javascript\\' src=\\'https://menuco.co/wp-content/plugins/liquid-gdpr/assets/js/liquid-gdpr.min.js?ver=1.0.0\\' id=\\'ld-gdpr-box-js-js\\'></script>\\n<script type=\\'text/javascript\\' src=\\'https://menuco.co/wp-content/themes/hub/assets/vendors/fresco/js/fresco.js\\' id=\\'jquery-fresco-js\\'></script>\\n<script type=\\'text/javascript\\' src=\\'https://menuco.co/wp-content/themes/hub/assets/vendors/lity/lity.min.js\\' id=\\'lity-js\\'></script>\\n<script type=\\'text/javascript\\' src=\\'https://menuco.co/wp-content/themes/hub/assets/vendors/gsap/utils/SplitText.min.js\\' id=\\'splittext-js\\'></script>\\n<script type=\\'text/javascript\\' src=\\'https://menuco.co/wp-content/plugins/liquid_js_composer/assets/js/dist/js_composer_front.min.js?ver=6.6.0\\' id=\\'wpb_composer_front_js-js\\'></script>\\n<script type=\\'text/javascript\\' src=\\'https://menuco.co/wp-content/themes/hub/assets/vendors/vivus.min.js\\' id=\\'jquery-vivus-js\\'></script>\\n<script type=\\'text/javascript\\' src=\\'https://menuco.co/wp-content/themes/hub/assets/vendors/flickity/flickity.pkgd.min.js\\' id=\\'flickity-js\\'></script>\\n<script type=\\'text/javascript\\' src=\\'https://menuco.co/wp-content/themes/hub/assets/vendors/flickity/flickity-fade.min.js\\' id=\\'flickity-fade-js\\'></script>\\n<script type=\\'text/javascript\\' src=\\'https://menuco.co/wp-content/themes/hub/assets/vendors/fastdom/fastdom.min.js\\' id=\\'fastdom-js\\'></script>\\n<script type=\\'text/javascript\\' src=\\'https://menuco.co/wp-content/themes/hub/assets/vendors/bootstrap/js/bootstrap.min.js\\' id=\\'bootstrap-js\\'></script>\\n<script type=\\'text/javascript\\' src=\\'https://menuco.co/wp-includes/js/imagesloaded.min.js?ver=4.1.4\\' id=\\'imagesloaded-js\\'></script>\\n<script type=\\'text/javascript\\' src=\\'https://menuco.co/wp-content/themes/hub/assets/vendors/jquery-ui/jquery-ui.min.js\\' id=\\'jquery-ui-js\\'></script>\\n<script type=\\'text/javascript\\' src=\\'https://menuco.co/wp-content/themes/hub/assets/vendors/gsap/minified/gsap.min.js\\' id=\\'gsap-js\\'></script>\\n<script type=\\'text/javascript\\' src=\\'https://menuco.co/wp-content/themes/hub/assets/vendors/gsap/utils/CustomEase.min.js\\' id=\\'gsap-custom-ease-js\\'></script>\\n<script type=\\'text/javascript\\' src=\\'https://menuco.co/wp-content/themes/hub/assets/vendors/gsap/minified/ScrollTrigger.min.js\\' id=\\'scrollTrigger-js\\'></script>\\n<script type=\\'text/javascript\\' src=\\'https://menuco.co/wp-content/themes/hub/assets/vendors/fontfaceobserver.js\\' id=\\'jquery-fontfaceobserver-js\\'></script>\\n<script type=\\'text/javascript\\' src=\\'https://menuco.co/wp-content/themes/hub/assets/vendors/lazyload.min.js\\' id=\\'jquery-lazyload-js\\'></script>\\n<script type=\\'text/javascript\\' src=\\'https://menuco.co/wp-content/themes/hub/assets/vendors/tinycolor-min.js\\' id=\\'jquery-tinycolor-js\\'></script>\\n<script type=\\'text/javascript\\' id=\\'liquid-theme-js-extra\\'>\\n/* <![CDATA[ */\\nvar liquidTheme = {\"uris\":{\"ajax\":\"\\\\/wp-admin\\\\/admin-ajax.php\"}};\\n/* ]]> */\\n</script>\\n<script type=\\'text/javascript\\' src=\\'https://menuco.co/wp-content/themes/hub/assets/js/theme.min.js\\' id=\\'liquid-theme-js\\'></script>\\n<template id=\"lqd-snickersbar\">\\r\\n\\t\\t\\t<div class=\"lqd-snickersbar d-flex flex-wrap lqd-snickersbar-in\" data-item-id>\\r\\n\\t\\t\\t\\t<div class=\"lqd-snickersbar-inner d-flex flex-wrap align-items-center\">\\r\\n\\t\\t\\t\\t\\t<div class=\"lqd-snickersbar-detail\">\\r\\n\\t\\t\\t\\t\\t\\t<p class=\"hidden lqd-snickersbar-addding-temp my-0\">Adding {{itemName}} to cart</p>\\r\\n\\t\\t\\t\\t\\t\\t<p class=\"hidden lqd-snickersbar-added-temp my-0\">Added {{itemName}} to cart</p>\\r\\n\\t\\t\\t\\t\\t\\t<p class=\"my-0 lqd-snickersbar-msg d-flex align-items-center my-0\"></p>\\r\\n\\t\\t\\t\\t\\t\\t<p class=\"my-0 lqd-snickersbar-msg-done d-flex align-items-center my-0\"></p>\\r\\n\\t\\t\\t\\t\\t</div>\\r\\n\\t\\t\\t\\t\\t<div class=\"lqd-snickersbar-ext ml-4\"></div>\\r\\n\\t\\t\\t\\t</div>\\r\\n\\t\\t\\t</div>\\r\\n\\t\\t</template><div class=\"lity\" role=\"dialog\" aria-label=\"Dialog Window (Press escape to close)\" tabindex=\"-1\" data-modal-type=\"default\">\\r\\n\\t\\t<div class=\"lity-wrap\" data-lity-close role=\"document\">\\r\\n\\t\\t\\t<div class=\"lity-loader\" aria-hidden=\"true\">Loading...</div>\\r\\n\\t\\t\\t<div class=\"lity-container\">\\r\\n\\t\\t\\t\\t<div class=\"lity-content\"></div>\\r\\n\\t\\t\\t</div>\\r\\n\\t\\t\\t<button class=\"lity-close\" type=\"button\" aria-label=\"Close (Press escape to close)\" data-lity-close>&times;</button>\\r\\n\\t\\t</div>\\r\\n\\t</div>\\r\\n</body>\\r\\n</html>'"
      ]
     },
     "execution_count": 10,
     "metadata": {},
     "output_type": "execute_result"
    }
   ],
   "source": [
    "menuco_html"
   ]
  },
  {
   "cell_type": "markdown",
   "id": "eaf16148",
   "metadata": {},
   "source": [
    "## Extract subpage urls"
   ]
  },
  {
   "cell_type": "code",
   "execution_count": 11,
   "id": "a7c901ed",
   "metadata": {},
   "outputs": [],
   "source": [
    "whole_list=[]\n",
    "html_page = urllib.request.urlopen(\"http://www.menuco.co\")\n",
    "soup = BeautifulSoup(html_page, \"html.parser\")\n",
    "for link in soup.findAll('a'):\n",
    "    if link not in whole_list:\n",
    "        whole_list.append(link.get('href'))\n",
    "    else:\n",
    "        pass\n",
    "    #print(link.get('href'))"
   ]
  },
  {
   "cell_type": "code",
   "execution_count": 12,
   "id": "1b44b5ce",
   "metadata": {},
   "outputs": [
    {
     "data": {
      "text/plain": [
       "['#primary',\n",
       " '#content',\n",
       " 'https://menuco.co/',\n",
       " 'https://menuco.co/',\n",
       " 'https://menuco.co/subscription-plan',\n",
       " 'https://menuco.co/contact',\n",
       " 'https://menuco.co/login/',\n",
       " 'https://menuco.co/register/',\n",
       " 'https://menuco.co/',\n",
       " 'https://menuco.co/',\n",
       " 'https://menuco.co/subscription-plan',\n",
       " 'https://menuco.co/contact',\n",
       " 'https://menuco.co/login/',\n",
       " 'https://menuco.co/register',\n",
       " 'https://www.youtube.com/watch?v=KEc3aGjN228',\n",
       " '#',\n",
       " '#',\n",
       " '#',\n",
       " '#wrap',\n",
       " 'https://menuco.co/privacy-policy/',\n",
       " 'https://menuco.co/member-tos-page']"
      ]
     },
     "execution_count": 12,
     "metadata": {},
     "output_type": "execute_result"
    }
   ],
   "source": [
    "whole_list"
   ]
  },
  {
   "cell_type": "code",
   "execution_count": 131,
   "id": "baf9bc86",
   "metadata": {},
   "outputs": [
    {
     "data": {
      "text/html": [
       "<div>\n",
       "<style scoped>\n",
       "    .dataframe tbody tr th:only-of-type {\n",
       "        vertical-align: middle;\n",
       "    }\n",
       "\n",
       "    .dataframe tbody tr th {\n",
       "        vertical-align: top;\n",
       "    }\n",
       "\n",
       "    .dataframe thead th {\n",
       "        text-align: right;\n",
       "    }\n",
       "</style>\n",
       "<table border=\"1\" class=\"dataframe\">\n",
       "  <thead>\n",
       "    <tr style=\"text-align: right;\">\n",
       "      <th></th>\n",
       "      <th>link</th>\n",
       "    </tr>\n",
       "  </thead>\n",
       "  <tbody>\n",
       "    <tr>\n",
       "      <th>0</th>\n",
       "      <td>#primary</td>\n",
       "    </tr>\n",
       "    <tr>\n",
       "      <th>1</th>\n",
       "      <td>#content</td>\n",
       "    </tr>\n",
       "    <tr>\n",
       "      <th>2</th>\n",
       "      <td>https://menuco.co/</td>\n",
       "    </tr>\n",
       "    <tr>\n",
       "      <th>3</th>\n",
       "      <td>https://menuco.co/</td>\n",
       "    </tr>\n",
       "    <tr>\n",
       "      <th>4</th>\n",
       "      <td>https://menuco.co/subscription-plan</td>\n",
       "    </tr>\n",
       "    <tr>\n",
       "      <th>5</th>\n",
       "      <td>https://menuco.co/contact</td>\n",
       "    </tr>\n",
       "    <tr>\n",
       "      <th>6</th>\n",
       "      <td>https://menuco.co/login/</td>\n",
       "    </tr>\n",
       "    <tr>\n",
       "      <th>7</th>\n",
       "      <td>https://menuco.co/register/</td>\n",
       "    </tr>\n",
       "    <tr>\n",
       "      <th>8</th>\n",
       "      <td>https://menuco.co/</td>\n",
       "    </tr>\n",
       "    <tr>\n",
       "      <th>9</th>\n",
       "      <td>https://menuco.co/</td>\n",
       "    </tr>\n",
       "    <tr>\n",
       "      <th>10</th>\n",
       "      <td>https://menuco.co/subscription-plan</td>\n",
       "    </tr>\n",
       "    <tr>\n",
       "      <th>11</th>\n",
       "      <td>https://menuco.co/contact</td>\n",
       "    </tr>\n",
       "    <tr>\n",
       "      <th>12</th>\n",
       "      <td>https://menuco.co/login/</td>\n",
       "    </tr>\n",
       "    <tr>\n",
       "      <th>13</th>\n",
       "      <td>https://menuco.co/register</td>\n",
       "    </tr>\n",
       "    <tr>\n",
       "      <th>14</th>\n",
       "      <td>https://www.youtube.com/watch?v=KEc3aGjN228</td>\n",
       "    </tr>\n",
       "    <tr>\n",
       "      <th>15</th>\n",
       "      <td>#</td>\n",
       "    </tr>\n",
       "    <tr>\n",
       "      <th>16</th>\n",
       "      <td>#</td>\n",
       "    </tr>\n",
       "    <tr>\n",
       "      <th>17</th>\n",
       "      <td>#</td>\n",
       "    </tr>\n",
       "    <tr>\n",
       "      <th>18</th>\n",
       "      <td>#wrap</td>\n",
       "    </tr>\n",
       "    <tr>\n",
       "      <th>19</th>\n",
       "      <td>https://menuco.co/privacy-policy/</td>\n",
       "    </tr>\n",
       "    <tr>\n",
       "      <th>20</th>\n",
       "      <td>https://menuco.co/member-tos-page</td>\n",
       "    </tr>\n",
       "  </tbody>\n",
       "</table>\n",
       "</div>"
      ],
      "text/plain": [
       "                                           link\n",
       "0                                      #primary\n",
       "1                                      #content\n",
       "2                            https://menuco.co/\n",
       "3                            https://menuco.co/\n",
       "4           https://menuco.co/subscription-plan\n",
       "5                     https://menuco.co/contact\n",
       "6                      https://menuco.co/login/\n",
       "7                   https://menuco.co/register/\n",
       "8                            https://menuco.co/\n",
       "9                            https://menuco.co/\n",
       "10          https://menuco.co/subscription-plan\n",
       "11                    https://menuco.co/contact\n",
       "12                     https://menuco.co/login/\n",
       "13                   https://menuco.co/register\n",
       "14  https://www.youtube.com/watch?v=KEc3aGjN228\n",
       "15                                            #\n",
       "16                                            #\n",
       "17                                            #\n",
       "18                                        #wrap\n",
       "19            https://menuco.co/privacy-policy/\n",
       "20            https://menuco.co/member-tos-page"
      ]
     },
     "execution_count": 131,
     "metadata": {},
     "output_type": "execute_result"
    }
   ],
   "source": [
    "subpages = pd.DataFrame(whole_list, columns = ['link'])\n",
    "subpages"
   ]
  },
  {
   "cell_type": "code",
   "execution_count": 24,
   "id": "755891a9",
   "metadata": {},
   "outputs": [],
   "source": [
    "subpages=subpages[subpages['link'].str.contains(\"//menuco.co/\")]"
   ]
  },
  {
   "cell_type": "code",
   "execution_count": 25,
   "id": "2ce691c3",
   "metadata": {},
   "outputs": [],
   "source": [
    "subpages=subpages.link.unique()"
   ]
  },
  {
   "cell_type": "code",
   "execution_count": 26,
   "id": "08dc191d",
   "metadata": {},
   "outputs": [
    {
     "data": {
      "text/plain": [
       "array(['https://menuco.co/', 'https://menuco.co/subscription-plan',\n",
       "       'https://menuco.co/contact', 'https://menuco.co/login/',\n",
       "       'https://menuco.co/register/', 'https://menuco.co/register',\n",
       "       'https://menuco.co/privacy-policy/',\n",
       "       'https://menuco.co/member-tos-page'], dtype=object)"
      ]
     },
     "execution_count": 26,
     "metadata": {},
     "output_type": "execute_result"
    }
   ],
   "source": [
    "subpages"
   ]
  },
  {
   "cell_type": "markdown",
   "id": "e0fd91a0",
   "metadata": {},
   "source": [
    "## Extract whole html including subpages"
   ]
  },
  {
   "cell_type": "code",
   "execution_count": null,
   "id": "c567a9d6",
   "metadata": {},
   "outputs": [],
   "source": []
  },
  {
   "cell_type": "code",
   "execution_count": null,
   "id": "7863bb18",
   "metadata": {},
   "outputs": [],
   "source": []
  },
  {
   "cell_type": "markdown",
   "id": "6bbc269b",
   "metadata": {},
   "source": [
    "## Extract text from html"
   ]
  },
  {
   "cell_type": "code",
   "execution_count": 30,
   "id": "06face31",
   "metadata": {},
   "outputs": [],
   "source": [
    "soup = BeautifulSoup(menuco_html, 'html.parser')"
   ]
  },
  {
   "cell_type": "code",
   "execution_count": 121,
   "id": "2f861721",
   "metadata": {},
   "outputs": [
    {
     "name": "stdout",
     "output_type": "stream",
     "text": [
      "\n",
      "The Next-Gen QR code menu system,\n",
      "Scan and see the menu in your native language. \n",
      "\t\t\t\t\t\t\t\n",
      "  Forget the physical menus or traditional QR code apps, get ready for the future by Menuco…\n",
      "Your customers only scan the barcode.\n",
      "Menuco detects the language they prefer and shows the menu in that language.\n",
      "Provide to your customers your menu in more than 90+ languages through Menuco.\n",
      "Aren`t your all customers speaking with you in the same language? Then let them speak in their native languages. Menuco makes communication easier.\n",
      "  See a sample menu\n",
      "✓ 90+ Languages\n",
      "✓  Speech translation (2 Hours/Month)\n",
      "✓ First menu registration support\n",
      "✓ Menu revisions support\n",
      "✓ Fast support\n",
      "✓ 90+ Languages\n",
      "✓  Speech translation (15 Hours/Month)\n",
      "✓ First menu registration support\n",
      "✓ Menu revision support (2 Times/Year)\n",
      "✓ Fast support\n",
      "✓ 90+ Languages\n",
      "✓  Speech translation (100 Hours/Month)\n",
      "✓ First menu registration support\n",
      "✓ Menu revision support (10 Times/Year)\n",
      "✓ Fast support\n",
      "  It`s easy to manage and use Menuco.\n",
      "Pay the subscription fees with STRIPE which is one of the biggest online payment gateways in the World, in safety.\n",
      "If you have any software system in your restaurant, don`t worry you can keep using it. Menuco works completely independently. You can use Menuco for all your customers or only for foreign customers.\n",
      "We manage your menus, you can focus on your own essential job.\n",
      "Feel free, you can cancel your subscription anytime without extra charges. Just try Menuco\n",
      "  We build and activate brands through cultural insight, strategic vision, and the power of emotion across every element of its expression. Our eCommerce design starts and ends with a best-in-class experience strategy that builds brands and drives transactions.\n",
      "\n",
      "\n",
      "\n",
      "\n",
      "\n",
      "\n",
      "\n",
      "\n",
      "\n",
      "\n",
      "\n",
      "\n",
      "Paketini seç ve restaurantını kaydet Üyelik işlemleri sadece birkaç dakika! paketini seç ve bilgilerini girip üyeliğini tamamla.\n",
      "\n",
      "\n",
      "\n",
      "\n",
      "\n",
      "\n",
      "\n",
      "\n",
      "\n",
      "\n",
      "\n",
      "\n",
      "\n",
      "\n",
      "Menüyü yükle Standart ve Premıum paketlerini seçtiysen menünü destek ekibimize gönder, kısa sürede sistemi kullanıma hazır hale getirelim.\n",
      "\n",
      "\n",
      "\n",
      "\n",
      "\n",
      "\n",
      "\n",
      "\n",
      "\n",
      "\n",
      "\n",
      "\n",
      "\n",
      "\n",
      "Kullanmaya başla Eğer masalara yerleştirmek için QR kodlu menü kartlarına ihtiyacın varsa bizden destek alabilirsiniz. \n",
      "\n",
      "\n",
      "\n",
      "Üyelik işlemleri sadece birkaç dakika! paketini seç ve bilgilerini girip üyeliğini tamamla.\n",
      "Standart ve Premıum paketlerini seçtiysen menünü destek ekibimize gönder, kısa sürede sistemi kullanıma hazır hale getirelim.\n",
      "Eğer masalara yerleştirmek için QR kodlu menü kartlarına ihtiyacın varsa bizden destek alabilirsiniz. \n",
      "Ceating brand identities, digital experiences, and print materials that communicate clearly.\n",
      "We have an experienced team of production and inspection personnel to ensure quality.\n",
      "Uncover, analyze, track, and report on SEO data. Our quality policy: strict to have best product.\n",
      "  We help our clients succeed by creating brand identities, digital experiences, and print materials that communicate clearly, achieve marketing goals, and look fantastic.Through a deep understanding of our audience’s makeup and motivations.\n",
      "  We help our clients succeed by creating brand identities, digital experiences, and print materials that communicate clearly, achieve marketing goals, and look fantastic.Through a deep understanding of our audience’s makeup and motivations.\n",
      "  We help our clients succeed by creating brand identities, digital experiences, and print materials that communicate clearly, achieve marketing goals, and look fantastic.Through a deep understanding of our audience’s makeup and motivations.\n",
      "Menuco TECH\n",
      "Attilastr. 131\n",
      "12105 Berlin, Germany\n",
      "USt-ID.: DE343188603\n",
      "WhatsApp: +49 171 802 3675\n",
      "E-Mail: info@menuco.co\n",
      "  © All rights reserved to Menuco, 2021\n",
      "\n",
      "\n",
      "\n",
      "\n"
     ]
    }
   ],
   "source": [
    "x=[]\n",
    "for i in soup.find_all(\"p\"):\n",
    "    i.get_text()\n",
    "    x.append(i.get_text())\n",
    "        \n",
    "    print(i.get_text())"
   ]
  },
  {
   "cell_type": "code",
   "execution_count": null,
   "id": "ba540db1",
   "metadata": {},
   "outputs": [],
   "source": [
    "y="
   ]
  },
  {
   "cell_type": "code",
   "execution_count": 122,
   "id": "d7a230ec",
   "metadata": {},
   "outputs": [
    {
     "data": {
      "text/plain": [
       "['',\n",
       " 'The Next-Gen QR code menu system,\\nScan and see the menu in your native language. \\n\\t\\t\\t\\t\\t\\t\\t',\n",
       " '  Forget the physical menus or traditional QR code apps, get ready for the future by Menuco…',\n",
       " 'Your customers only scan the barcode.',\n",
       " 'Menuco detects the language they prefer and shows the menu in that language.',\n",
       " 'Provide to your customers your menu in more than 90+ languages through Menuco.',\n",
       " 'Aren`t your all customers speaking with you in the same language? Then let them speak in their native languages. Menuco makes communication easier.',\n",
       " '  See a sample menu',\n",
       " '✓ 90+ Languages',\n",
       " '✓ \\xa0Speech translation (2 Hours/Month)',\n",
       " '✓ First menu registration support',\n",
       " '✓ Menu revisions support',\n",
       " '✓ Fast support',\n",
       " '✓ 90+ Languages',\n",
       " '✓\\xa0 Speech translation (15 Hours/Month)',\n",
       " '✓ First menu registration support',\n",
       " '✓ Menu revision support (2 Times/Year)',\n",
       " '✓\\xa0Fast support',\n",
       " '✓ 90+ Languages',\n",
       " '✓\\xa0 Speech translation (100 Hours/Month)',\n",
       " '✓ First menu registration support',\n",
       " '✓ Menu revision support (10 Times/Year)',\n",
       " '✓\\xa0Fast support',\n",
       " '  It`s easy to manage and use Menuco.',\n",
       " 'Pay the subscription fees with STRIPE which is one of the biggest online payment gateways in the World, in safety.',\n",
       " 'If you have any software system in your restaurant, don`t worry you can keep using it. Menuco works completely independently. You can use Menuco for all your customers or only for foreign customers.',\n",
       " 'We manage your menus, you can focus on your own essential job.',\n",
       " 'Feel free, you can cancel your subscription anytime without extra charges. Just try Menuco',\n",
       " '  We build and activate brands through cultural insight, strategic vision, and the power of emotion across every element of its expression. Our eCommerce design starts and ends with a best-in-class experience strategy that builds brands and drives transactions.',\n",
       " '\\n\\n\\n\\n\\n\\n\\n\\n\\n\\n\\n\\nPaketini seç ve restaurantını kaydet Üyelik işlemleri sadece birkaç dakika! paketini seç ve bilgilerini girip üyeliğini tamamla.\\n\\n\\n\\n\\n\\n\\n\\n\\n\\n\\n\\n\\n\\n\\nMenüyü yükle Standart ve Premıum paketlerini seçtiysen menünü destek ekibimize gönder, kısa sürede sistemi kullanıma hazır hale getirelim.\\n\\n\\n\\n\\n\\n\\n\\n\\n\\n\\n\\n\\n\\n\\nKullanmaya başla Eğer masalara yerleştirmek için QR kodlu menü kartlarına ihtiyacın varsa bizden destek alabilirsiniz.\\xa0\\n\\n\\n',\n",
       " 'Üyelik işlemleri sadece birkaç dakika! paketini seç ve bilgilerini girip üyeliğini tamamla.',\n",
       " 'Standart ve Premıum paketlerini seçtiysen menünü destek ekibimize gönder, kısa sürede sistemi kullanıma hazır hale getirelim.',\n",
       " 'Eğer masalara yerleştirmek için QR kodlu menü kartlarına ihtiyacın varsa bizden destek alabilirsiniz.\\xa0',\n",
       " 'Ceating brand identities, digital experiences, and print materials that communicate clearly.',\n",
       " 'We have an experienced team of production and inspection personnel to ensure quality.',\n",
       " 'Uncover, analyze, track, and report on SEO data. Our quality policy: strict to have best product.',\n",
       " '  We help our clients succeed by creating brand identities, digital experiences, and print materials that communicate clearly, achieve marketing goals, and look fantastic.Through a deep understanding of our audience’s makeup and motivations.',\n",
       " '  We help our clients succeed by creating brand identities, digital experiences, and print materials that communicate clearly, achieve marketing goals, and look fantastic.Through a deep understanding of our audience’s makeup and motivations.',\n",
       " '  We help our clients succeed by creating brand identities, digital experiences, and print materials that communicate clearly, achieve marketing goals, and look fantastic.Through a deep understanding of our audience’s makeup and motivations.',\n",
       " 'Menuco TECH',\n",
       " 'Attilastr. 131\\n12105 Berlin, Germany',\n",
       " 'USt-ID.: DE343188603',\n",
       " 'WhatsApp: +49 171 802 3675',\n",
       " 'E-Mail: info@menuco.co',\n",
       " '  © All rights reserved to Menuco, 2021',\n",
       " '',\n",
       " '',\n",
       " '',\n",
       " '']"
      ]
     },
     "execution_count": 122,
     "metadata": {},
     "output_type": "execute_result"
    }
   ],
   "source": [
    "x"
   ]
  },
  {
   "cell_type": "markdown",
   "id": "61d4a33c",
   "metadata": {},
   "source": [
    "## Check grammar of the text"
   ]
  },
  {
   "cell_type": "code",
   "execution_count": 35,
   "id": "73022f6a",
   "metadata": {},
   "outputs": [
    {
     "data": {
      "text/plain": [
       "['_SpellChecker__edit_distance_alt',\n",
       " '__class__',\n",
       " '__contains__',\n",
       " '__delattr__',\n",
       " '__dir__',\n",
       " '__doc__',\n",
       " '__eq__',\n",
       " '__format__',\n",
       " '__ge__',\n",
       " '__getattribute__',\n",
       " '__getitem__',\n",
       " '__gt__',\n",
       " '__hash__',\n",
       " '__init__',\n",
       " '__init_subclass__',\n",
       " '__iter__',\n",
       " '__le__',\n",
       " '__lt__',\n",
       " '__module__',\n",
       " '__ne__',\n",
       " '__new__',\n",
       " '__reduce__',\n",
       " '__reduce_ex__',\n",
       " '__repr__',\n",
       " '__setattr__',\n",
       " '__sizeof__',\n",
       " '__slots__',\n",
       " '__str__',\n",
       " '__subclasshook__',\n",
       " '_case_sensitive',\n",
       " '_check_if_should_check',\n",
       " '_distance',\n",
       " '_tokenizer',\n",
       " '_word_frequency',\n",
       " 'candidates',\n",
       " 'correction',\n",
       " 'distance',\n",
       " 'edit_distance_1',\n",
       " 'edit_distance_2',\n",
       " 'export',\n",
       " 'known',\n",
       " 'languages',\n",
       " 'split_words',\n",
       " 'unknown',\n",
       " 'word_frequency',\n",
       " 'word_probability',\n",
       " 'word_usage_frequency']"
      ]
     },
     "execution_count": 35,
     "metadata": {},
     "output_type": "execute_result"
    }
   ],
   "source": [
    "dir(SpellChecker)"
   ]
  },
  {
   "cell_type": "code",
   "execution_count": 36,
   "id": "57a3080a",
   "metadata": {},
   "outputs": [],
   "source": [
    "spell=SpellChecker()"
   ]
  },
  {
   "cell_type": "code",
   "execution_count": 38,
   "id": "6fba4815",
   "metadata": {},
   "outputs": [
    {
     "ename": "SyntaxError",
     "evalue": "EOL while scanning string literal (Temp/ipykernel_22956/3977623322.py, line 1)",
     "output_type": "error",
     "traceback": [
      "\u001b[1;36m  File \u001b[1;32m\"C:\\Users\\Guest1\\AppData\\Local\\Temp/ipykernel_22956/3977623322.py\"\u001b[1;36m, line \u001b[1;32m1\u001b[0m\n\u001b[1;33m    text=\"Forget the physical menus or traditional QR code apps, get ready for the future by Menuco...\u001b[0m\n\u001b[1;37m                                                                                                      ^\u001b[0m\n\u001b[1;31mSyntaxError\u001b[0m\u001b[1;31m:\u001b[0m EOL while scanning string literal\n"
     ]
    }
   ],
   "source": [
    "text=\"Forget the physical menus or traditional QR code apps, get ready for the future by Menuco...\n",
    "Your customers only scan the barcode.\n",
    "Menuco detects the language they prefer and shows the menu in that language.\n",
    "Provide to your customers your menu in more than 90+ languages through Menuco.\n",
    "Aren`t your all customers speaking with you in the same language? Then let them speak in their native languages. Menuco makes communication easier.\""
   ]
  },
  {
   "cell_type": "code",
   "execution_count": 42,
   "id": "a5290c85",
   "metadata": {},
   "outputs": [],
   "source": [
    "my_text=\"Menuco detects the languaga they prefer and shows the menu in that language.\""
   ]
  },
  {
   "cell_type": "code",
   "execution_count": 39,
   "id": "56113c3d",
   "metadata": {},
   "outputs": [],
   "source": [
    "docx=['calandar', 'misspel', 'necessary','bussiness', 'know']"
   ]
  },
  {
   "cell_type": "code",
   "execution_count": 43,
   "id": "11eef7cf",
   "metadata": {
    "collapsed": true
   },
   "outputs": [
    {
     "name": "stdout",
     "output_type": "stream",
     "text": [
      "M:i\n",
      "e:e\n",
      "n:i\n",
      "u:u\n",
      "c:i\n",
      "o:o\n",
      " :i\n",
      "d:i\n",
      "e:e\n",
      "t:i\n",
      "e:e\n",
      "c:i\n",
      "t:i\n",
      "s:i\n",
      " :i\n",
      "t:i\n",
      "h:i\n",
      "e:e\n",
      " :i\n",
      "l:i\n",
      "a:a\n",
      "n:i\n",
      "g:i\n",
      "u:u\n",
      "a:a\n",
      "g:i\n",
      "a:a\n",
      " :i\n",
      "t:i\n",
      "h:i\n",
      "e:e\n",
      "y:y\n",
      " :i\n",
      "p:i\n",
      "r:i\n",
      "e:e\n",
      "f:i\n",
      "e:e\n",
      "r:i\n",
      " :i\n",
      "a:a\n",
      "n:i\n",
      "d:i\n",
      " :i\n",
      "s:i\n",
      "h:i\n",
      "o:o\n",
      "w:i\n",
      "s:i\n",
      " :i\n",
      "t:i\n",
      "h:i\n",
      "e:e\n",
      " :i\n",
      "m:i\n",
      "e:e\n",
      "n:i\n",
      "u:u\n",
      " :i\n",
      "i:i\n",
      "n:i\n",
      " :i\n",
      "t:i\n",
      "h:i\n",
      "a:a\n",
      "t:i\n",
      " :i\n",
      "l:i\n",
      "a:a\n",
      "n:i\n",
      "g:i\n",
      "u:u\n",
      "a:a\n",
      "g:i\n",
      "e:e\n",
      ".:.\n"
     ]
    }
   ],
   "source": [
    "for word in my_text:\n",
    "    print(f'{word}:{spell.correction(word)}')"
   ]
  },
  {
   "cell_type": "code",
   "execution_count": 41,
   "id": "d5baa918",
   "metadata": {},
   "outputs": [
    {
     "name": "stdout",
     "output_type": "stream",
     "text": [
      "calandar:{'calendar'}\n",
      "misspel:{'misspelt', 'misspell'}\n",
      "necessary:{'necessary'}\n",
      "bussiness:{'bussiness'}\n",
      "know:{'know'}\n"
     ]
    }
   ],
   "source": [
    "for word in docx:\n",
    "    print(f'{word}:{spell.candidates(word)}')"
   ]
  },
  {
   "cell_type": "code",
   "execution_count": null,
   "id": "de0b39ee",
   "metadata": {},
   "outputs": [],
   "source": []
  },
  {
   "cell_type": "code",
   "execution_count": null,
   "id": "27cd4d8b",
   "metadata": {},
   "outputs": [],
   "source": []
  },
  {
   "cell_type": "markdown",
   "id": "c6f8f2c3",
   "metadata": {},
   "source": [
    "## Split the words"
   ]
  },
  {
   "cell_type": "code",
   "execution_count": null,
   "id": "19f3ba1b",
   "metadata": {},
   "outputs": [],
   "source": []
  },
  {
   "cell_type": "code",
   "execution_count": 103,
   "id": "a411fe4d",
   "metadata": {},
   "outputs": [
    {
     "name": "stdout",
     "output_type": "stream",
     "text": [
      "['So', 'this', 'project', 'saunds', 'a', 'little', 'diffacult', 'in', 'terms', 'of', 'implementation']\n"
     ]
    }
   ],
   "source": [
    "# Python3 program to Convert single\n",
    "# indexed list into multiple indexed list\n",
    "\n",
    "def convert(lst):\n",
    "    return ([i for item in lst for i in item.split()])\n",
    "lst = ['So this project saunds a little diffacult in terms of implementation']\n",
    "print( convert(lst))\n"
   ]
  },
  {
   "cell_type": "code",
   "execution_count": 123,
   "id": "a11fe770",
   "metadata": {},
   "outputs": [],
   "source": [
    "splitted_words=convert(x)"
   ]
  },
  {
   "cell_type": "code",
   "execution_count": 124,
   "id": "f226116d",
   "metadata": {
    "collapsed": true
   },
   "outputs": [
    {
     "data": {
      "text/plain": [
       "['The',\n",
       " 'Next-Gen',\n",
       " 'QR',\n",
       " 'code',\n",
       " 'menu',\n",
       " 'system,',\n",
       " 'Scan',\n",
       " 'and',\n",
       " 'see',\n",
       " 'the',\n",
       " 'menu',\n",
       " 'in',\n",
       " 'your',\n",
       " 'native',\n",
       " 'language.',\n",
       " 'Forget',\n",
       " 'the',\n",
       " 'physical',\n",
       " 'menus',\n",
       " 'or',\n",
       " 'traditional',\n",
       " 'QR',\n",
       " 'code',\n",
       " 'apps,',\n",
       " 'get',\n",
       " 'ready',\n",
       " 'for',\n",
       " 'the',\n",
       " 'future',\n",
       " 'by',\n",
       " 'Menuco…',\n",
       " 'Your',\n",
       " 'customers',\n",
       " 'only',\n",
       " 'scan',\n",
       " 'the',\n",
       " 'barcode.',\n",
       " 'Menuco',\n",
       " 'detects',\n",
       " 'the',\n",
       " 'language',\n",
       " 'they',\n",
       " 'prefer',\n",
       " 'and',\n",
       " 'shows',\n",
       " 'the',\n",
       " 'menu',\n",
       " 'in',\n",
       " 'that',\n",
       " 'language.',\n",
       " 'Provide',\n",
       " 'to',\n",
       " 'your',\n",
       " 'customers',\n",
       " 'your',\n",
       " 'menu',\n",
       " 'in',\n",
       " 'more',\n",
       " 'than',\n",
       " '90+',\n",
       " 'languages',\n",
       " 'through',\n",
       " 'Menuco.',\n",
       " 'Aren`t',\n",
       " 'your',\n",
       " 'all',\n",
       " 'customers',\n",
       " 'speaking',\n",
       " 'with',\n",
       " 'you',\n",
       " 'in',\n",
       " 'the',\n",
       " 'same',\n",
       " 'language?',\n",
       " 'Then',\n",
       " 'let',\n",
       " 'them',\n",
       " 'speak',\n",
       " 'in',\n",
       " 'their',\n",
       " 'native',\n",
       " 'languages.',\n",
       " 'Menuco',\n",
       " 'makes',\n",
       " 'communication',\n",
       " 'easier.',\n",
       " 'See',\n",
       " 'a',\n",
       " 'sample',\n",
       " 'menu',\n",
       " '✓',\n",
       " '90+',\n",
       " 'Languages',\n",
       " '✓',\n",
       " 'Speech',\n",
       " 'translation',\n",
       " '(2',\n",
       " 'Hours/Month)',\n",
       " '✓',\n",
       " 'First',\n",
       " 'menu',\n",
       " 'registration',\n",
       " 'support',\n",
       " '✓',\n",
       " 'Menu',\n",
       " 'revisions',\n",
       " 'support',\n",
       " '✓',\n",
       " 'Fast',\n",
       " 'support',\n",
       " '✓',\n",
       " '90+',\n",
       " 'Languages',\n",
       " '✓',\n",
       " 'Speech',\n",
       " 'translation',\n",
       " '(15',\n",
       " 'Hours/Month)',\n",
       " '✓',\n",
       " 'First',\n",
       " 'menu',\n",
       " 'registration',\n",
       " 'support',\n",
       " '✓',\n",
       " 'Menu',\n",
       " 'revision',\n",
       " 'support',\n",
       " '(2',\n",
       " 'Times/Year)',\n",
       " '✓',\n",
       " 'Fast',\n",
       " 'support',\n",
       " '✓',\n",
       " '90+',\n",
       " 'Languages',\n",
       " '✓',\n",
       " 'Speech',\n",
       " 'translation',\n",
       " '(100',\n",
       " 'Hours/Month)',\n",
       " '✓',\n",
       " 'First',\n",
       " 'menu',\n",
       " 'registration',\n",
       " 'support',\n",
       " '✓',\n",
       " 'Menu',\n",
       " 'revision',\n",
       " 'support',\n",
       " '(10',\n",
       " 'Times/Year)',\n",
       " '✓',\n",
       " 'Fast',\n",
       " 'support',\n",
       " 'It`s',\n",
       " 'easy',\n",
       " 'to',\n",
       " 'manage',\n",
       " 'and',\n",
       " 'use',\n",
       " 'Menuco.',\n",
       " 'Pay',\n",
       " 'the',\n",
       " 'subscription',\n",
       " 'fees',\n",
       " 'with',\n",
       " 'STRIPE',\n",
       " 'which',\n",
       " 'is',\n",
       " 'one',\n",
       " 'of',\n",
       " 'the',\n",
       " 'biggest',\n",
       " 'online',\n",
       " 'payment',\n",
       " 'gateways',\n",
       " 'in',\n",
       " 'the',\n",
       " 'World,',\n",
       " 'in',\n",
       " 'safety.',\n",
       " 'If',\n",
       " 'you',\n",
       " 'have',\n",
       " 'any',\n",
       " 'software',\n",
       " 'system',\n",
       " 'in',\n",
       " 'your',\n",
       " 'restaurant,',\n",
       " 'don`t',\n",
       " 'worry',\n",
       " 'you',\n",
       " 'can',\n",
       " 'keep',\n",
       " 'using',\n",
       " 'it.',\n",
       " 'Menuco',\n",
       " 'works',\n",
       " 'completely',\n",
       " 'independently.',\n",
       " 'You',\n",
       " 'can',\n",
       " 'use',\n",
       " 'Menuco',\n",
       " 'for',\n",
       " 'all',\n",
       " 'your',\n",
       " 'customers',\n",
       " 'or',\n",
       " 'only',\n",
       " 'for',\n",
       " 'foreign',\n",
       " 'customers.',\n",
       " 'We',\n",
       " 'manage',\n",
       " 'your',\n",
       " 'menus,',\n",
       " 'you',\n",
       " 'can',\n",
       " 'focus',\n",
       " 'on',\n",
       " 'your',\n",
       " 'own',\n",
       " 'essential',\n",
       " 'job.',\n",
       " 'Feel',\n",
       " 'free,',\n",
       " 'you',\n",
       " 'can',\n",
       " 'cancel',\n",
       " 'your',\n",
       " 'subscription',\n",
       " 'anytime',\n",
       " 'without',\n",
       " 'extra',\n",
       " 'charges.',\n",
       " 'Just',\n",
       " 'try',\n",
       " 'Menuco',\n",
       " 'We',\n",
       " 'build',\n",
       " 'and',\n",
       " 'activate',\n",
       " 'brands',\n",
       " 'through',\n",
       " 'cultural',\n",
       " 'insight,',\n",
       " 'strategic',\n",
       " 'vision,',\n",
       " 'and',\n",
       " 'the',\n",
       " 'power',\n",
       " 'of',\n",
       " 'emotion',\n",
       " 'across',\n",
       " 'every',\n",
       " 'element',\n",
       " 'of',\n",
       " 'its',\n",
       " 'expression.',\n",
       " 'Our',\n",
       " 'eCommerce',\n",
       " 'design',\n",
       " 'starts',\n",
       " 'and',\n",
       " 'ends',\n",
       " 'with',\n",
       " 'a',\n",
       " 'best-in-class',\n",
       " 'experience',\n",
       " 'strategy',\n",
       " 'that',\n",
       " 'builds',\n",
       " 'brands',\n",
       " 'and',\n",
       " 'drives',\n",
       " 'transactions.',\n",
       " 'Paketini',\n",
       " 'seç',\n",
       " 've',\n",
       " 'restaurantını',\n",
       " 'kaydet',\n",
       " 'Üyelik',\n",
       " 'işlemleri',\n",
       " 'sadece',\n",
       " 'birkaç',\n",
       " 'dakika!',\n",
       " 'paketini',\n",
       " 'seç',\n",
       " 've',\n",
       " 'bilgilerini',\n",
       " 'girip',\n",
       " 'üyeliğini',\n",
       " 'tamamla.',\n",
       " 'Menüyü',\n",
       " 'yükle',\n",
       " 'Standart',\n",
       " 've',\n",
       " 'Premıum',\n",
       " 'paketlerini',\n",
       " 'seçtiysen',\n",
       " 'menünü',\n",
       " 'destek',\n",
       " 'ekibimize',\n",
       " 'gönder,',\n",
       " 'kısa',\n",
       " 'sürede',\n",
       " 'sistemi',\n",
       " 'kullanıma',\n",
       " 'hazır',\n",
       " 'hale',\n",
       " 'getirelim.',\n",
       " 'Kullanmaya',\n",
       " 'başla',\n",
       " 'Eğer',\n",
       " 'masalara',\n",
       " 'yerleştirmek',\n",
       " 'için',\n",
       " 'QR',\n",
       " 'kodlu',\n",
       " 'menü',\n",
       " 'kartlarına',\n",
       " 'ihtiyacın',\n",
       " 'varsa',\n",
       " 'bizden',\n",
       " 'destek',\n",
       " 'alabilirsiniz.',\n",
       " 'Üyelik',\n",
       " 'işlemleri',\n",
       " 'sadece',\n",
       " 'birkaç',\n",
       " 'dakika!',\n",
       " 'paketini',\n",
       " 'seç',\n",
       " 've',\n",
       " 'bilgilerini',\n",
       " 'girip',\n",
       " 'üyeliğini',\n",
       " 'tamamla.',\n",
       " 'Standart',\n",
       " 've',\n",
       " 'Premıum',\n",
       " 'paketlerini',\n",
       " 'seçtiysen',\n",
       " 'menünü',\n",
       " 'destek',\n",
       " 'ekibimize',\n",
       " 'gönder,',\n",
       " 'kısa',\n",
       " 'sürede',\n",
       " 'sistemi',\n",
       " 'kullanıma',\n",
       " 'hazır',\n",
       " 'hale',\n",
       " 'getirelim.',\n",
       " 'Eğer',\n",
       " 'masalara',\n",
       " 'yerleştirmek',\n",
       " 'için',\n",
       " 'QR',\n",
       " 'kodlu',\n",
       " 'menü',\n",
       " 'kartlarına',\n",
       " 'ihtiyacın',\n",
       " 'varsa',\n",
       " 'bizden',\n",
       " 'destek',\n",
       " 'alabilirsiniz.',\n",
       " 'Ceating',\n",
       " 'brand',\n",
       " 'identities,',\n",
       " 'digital',\n",
       " 'experiences,',\n",
       " 'and',\n",
       " 'print',\n",
       " 'materials',\n",
       " 'that',\n",
       " 'communicate',\n",
       " 'clearly.',\n",
       " 'We',\n",
       " 'have',\n",
       " 'an',\n",
       " 'experienced',\n",
       " 'team',\n",
       " 'of',\n",
       " 'production',\n",
       " 'and',\n",
       " 'inspection',\n",
       " 'personnel',\n",
       " 'to',\n",
       " 'ensure',\n",
       " 'quality.',\n",
       " 'Uncover,',\n",
       " 'analyze,',\n",
       " 'track,',\n",
       " 'and',\n",
       " 'report',\n",
       " 'on',\n",
       " 'SEO',\n",
       " 'data.',\n",
       " 'Our',\n",
       " 'quality',\n",
       " 'policy:',\n",
       " 'strict',\n",
       " 'to',\n",
       " 'have',\n",
       " 'best',\n",
       " 'product.',\n",
       " 'We',\n",
       " 'help',\n",
       " 'our',\n",
       " 'clients',\n",
       " 'succeed',\n",
       " 'by',\n",
       " 'creating',\n",
       " 'brand',\n",
       " 'identities,',\n",
       " 'digital',\n",
       " 'experiences,',\n",
       " 'and',\n",
       " 'print',\n",
       " 'materials',\n",
       " 'that',\n",
       " 'communicate',\n",
       " 'clearly,',\n",
       " 'achieve',\n",
       " 'marketing',\n",
       " 'goals,',\n",
       " 'and',\n",
       " 'look',\n",
       " 'fantastic.Through',\n",
       " 'a',\n",
       " 'deep',\n",
       " 'understanding',\n",
       " 'of',\n",
       " 'our',\n",
       " 'audience’s',\n",
       " 'makeup',\n",
       " 'and',\n",
       " 'motivations.',\n",
       " 'We',\n",
       " 'help',\n",
       " 'our',\n",
       " 'clients',\n",
       " 'succeed',\n",
       " 'by',\n",
       " 'creating',\n",
       " 'brand',\n",
       " 'identities,',\n",
       " 'digital',\n",
       " 'experiences,',\n",
       " 'and',\n",
       " 'print',\n",
       " 'materials',\n",
       " 'that',\n",
       " 'communicate',\n",
       " 'clearly,',\n",
       " 'achieve',\n",
       " 'marketing',\n",
       " 'goals,',\n",
       " 'and',\n",
       " 'look',\n",
       " 'fantastic.Through',\n",
       " 'a',\n",
       " 'deep',\n",
       " 'understanding',\n",
       " 'of',\n",
       " 'our',\n",
       " 'audience’s',\n",
       " 'makeup',\n",
       " 'and',\n",
       " 'motivations.',\n",
       " 'We',\n",
       " 'help',\n",
       " 'our',\n",
       " 'clients',\n",
       " 'succeed',\n",
       " 'by',\n",
       " 'creating',\n",
       " 'brand',\n",
       " 'identities,',\n",
       " 'digital',\n",
       " 'experiences,',\n",
       " 'and',\n",
       " 'print',\n",
       " 'materials',\n",
       " 'that',\n",
       " 'communicate',\n",
       " 'clearly,',\n",
       " 'achieve',\n",
       " 'marketing',\n",
       " 'goals,',\n",
       " 'and',\n",
       " 'look',\n",
       " 'fantastic.Through',\n",
       " 'a',\n",
       " 'deep',\n",
       " 'understanding',\n",
       " 'of',\n",
       " 'our',\n",
       " 'audience’s',\n",
       " 'makeup',\n",
       " 'and',\n",
       " 'motivations.',\n",
       " 'Menuco',\n",
       " 'TECH',\n",
       " 'Attilastr.',\n",
       " '131',\n",
       " '12105',\n",
       " 'Berlin,',\n",
       " 'Germany',\n",
       " 'USt-ID.:',\n",
       " 'DE343188603',\n",
       " 'WhatsApp:',\n",
       " '+49',\n",
       " '171',\n",
       " '802',\n",
       " '3675',\n",
       " 'E-Mail:',\n",
       " 'info@menuco.co',\n",
       " '©',\n",
       " 'All',\n",
       " 'rights',\n",
       " 'reserved',\n",
       " 'to',\n",
       " 'Menuco,',\n",
       " '2021']"
      ]
     },
     "execution_count": 124,
     "metadata": {},
     "output_type": "execute_result"
    }
   ],
   "source": [
    "splitted_words"
   ]
  },
  {
   "cell_type": "code",
   "execution_count": 125,
   "id": "c23cccf5",
   "metadata": {},
   "outputs": [
    {
     "name": "stdout",
     "output_type": "stream",
     "text": [
      "The:[]\n",
      "Next-Gen:[]\n",
      "QR:['or']\n",
      "code:[]\n",
      "menu:[]\n",
      "system,:['system']\n",
      "Scan:[]\n",
      "and:[]\n",
      "see:[]\n",
      "the:[]\n",
      "menu:[]\n",
      "in:[]\n",
      "your:[]\n",
      "native:[]\n",
      "language.:['language']\n",
      "Forget:[]\n",
      "the:[]\n",
      "physical:[]\n",
      "menus:[]\n",
      "or:[]\n",
      "traditional:[]\n",
      "QR:['or']\n",
      "code:[]\n",
      "apps,:['apps']\n",
      "get:[]\n",
      "ready:[]\n",
      "for:[]\n",
      "the:[]\n",
      "future:[]\n",
      "by:[]\n",
      "Menuco…:['menudo']\n",
      "Your:[]\n",
      "customers:[]\n",
      "only:[]\n",
      "scan:[]\n",
      "the:[]\n",
      "barcode.:['barcode']\n",
      "Menuco:['menudo']\n",
      "detects:[]\n",
      "the:[]\n",
      "language:[]\n",
      "they:[]\n",
      "prefer:[]\n",
      "and:[]\n",
      "shows:[]\n",
      "the:[]\n",
      "menu:[]\n",
      "in:[]\n",
      "that:[]\n",
      "language.:['language']\n",
      "Provide:[]\n",
      "to:[]\n",
      "your:[]\n",
      "customers:[]\n",
      "your:[]\n",
      "menu:[]\n",
      "in:[]\n",
      "more:[]\n",
      "than:[]\n",
      "90+:[]\n",
      "languages:[]\n",
      "through:[]\n",
      "Menuco.:['menudo']\n",
      "Aren`t:[\"aren't\"]\n",
      "your:[]\n",
      "all:[]\n",
      "customers:[]\n",
      "speaking:[]\n",
      "with:[]\n",
      "you:[]\n",
      "in:[]\n",
      "the:[]\n",
      "same:[]\n",
      "language?:['language']\n",
      "Then:[]\n",
      "let:[]\n",
      "them:[]\n",
      "speak:[]\n",
      "in:[]\n",
      "their:[]\n",
      "native:[]\n",
      "languages.:['languages']\n",
      "Menuco:['menudo']\n",
      "makes:[]\n",
      "communication:[]\n",
      "easier.:['easier']\n",
      "See:[]\n",
      "a:[]\n",
      "sample:[]\n",
      "menu:[]\n",
      "✓:['i']\n",
      "90+:[]\n",
      "Languages:[]\n",
      "✓:['i']\n",
      "Speech:[]\n",
      "translation:[]\n",
      "(2:['i']\n",
      "Hours/Month):[]\n",
      "✓:['i']\n",
      "First:[]\n",
      "menu:[]\n",
      "registration:[]\n",
      "support:[]\n",
      "✓:['i']\n",
      "Menu:[]\n",
      "revisions:[]\n",
      "support:[]\n",
      "✓:['i']\n",
      "Fast:[]\n",
      "support:[]\n",
      "✓:['i']\n",
      "90+:[]\n",
      "Languages:[]\n",
      "✓:['i']\n",
      "Speech:[]\n",
      "translation:[]\n",
      "(15:[]\n",
      "Hours/Month):[]\n",
      "✓:['i']\n",
      "First:[]\n",
      "menu:[]\n",
      "registration:[]\n",
      "support:[]\n",
      "✓:['i']\n",
      "Menu:[]\n",
      "revision:[]\n",
      "support:[]\n",
      "(2:['i']\n",
      "Times/Year):[]\n",
      "✓:['i']\n",
      "Fast:[]\n",
      "support:[]\n",
      "✓:['i']\n",
      "90+:[]\n",
      "Languages:[]\n",
      "✓:['i']\n",
      "Speech:[]\n",
      "translation:[]\n",
      "(100:[]\n",
      "Hours/Month):[]\n",
      "✓:['i']\n",
      "First:[]\n",
      "menu:[]\n",
      "registration:[]\n",
      "support:[]\n",
      "✓:['i']\n",
      "Menu:[]\n",
      "revision:[]\n",
      "support:[]\n",
      "(10:[]\n",
      "Times/Year):[]\n",
      "✓:['i']\n",
      "Fast:[]\n",
      "support:[]\n",
      "It`s:[\"it's\"]\n",
      "easy:[]\n",
      "to:[]\n",
      "manage:[]\n",
      "and:[]\n",
      "use:[]\n",
      "Menuco.:['menudo']\n",
      "Pay:[]\n",
      "the:[]\n",
      "subscription:[]\n",
      "fees:[]\n",
      "with:[]\n",
      "STRIPE:[]\n",
      "which:[]\n",
      "is:[]\n",
      "one:[]\n",
      "of:[]\n",
      "the:[]\n",
      "biggest:[]\n",
      "online:[]\n",
      "payment:[]\n",
      "gateways:[]\n",
      "in:[]\n",
      "the:[]\n",
      "World,:['world']\n",
      "in:[]\n",
      "safety.:['safety']\n",
      "If:[]\n",
      "you:[]\n",
      "have:[]\n",
      "any:[]\n",
      "software:[]\n",
      "system:[]\n",
      "in:[]\n",
      "your:[]\n",
      "restaurant,:['restaurant']\n",
      "don`t:[\"don't\"]\n",
      "worry:[]\n",
      "you:[]\n",
      "can:[]\n",
      "keep:[]\n",
      "using:[]\n",
      "it.:['it']\n",
      "Menuco:['menudo']\n",
      "works:[]\n",
      "completely:[]\n",
      "independently.:['independently']\n",
      "You:[]\n",
      "can:[]\n",
      "use:[]\n",
      "Menuco:['menudo']\n",
      "for:[]\n",
      "all:[]\n",
      "your:[]\n",
      "customers:[]\n",
      "or:[]\n",
      "only:[]\n",
      "for:[]\n",
      "foreign:[]\n",
      "customers.:['customers']\n",
      "We:[]\n",
      "manage:[]\n",
      "your:[]\n",
      "menus,:['menus']\n",
      "you:[]\n",
      "can:[]\n",
      "focus:[]\n",
      "on:[]\n",
      "your:[]\n",
      "own:[]\n",
      "essential:[]\n",
      "job.:['job']\n",
      "Feel:[]\n",
      "free,:['free']\n",
      "you:[]\n",
      "can:[]\n",
      "cancel:[]\n",
      "your:[]\n",
      "subscription:[]\n",
      "anytime:[]\n",
      "without:[]\n",
      "extra:[]\n",
      "charges.:['charges']\n",
      "Just:[]\n",
      "try:[]\n",
      "Menuco:['menudo']\n",
      "We:[]\n",
      "build:[]\n",
      "and:[]\n",
      "activate:[]\n",
      "brands:[]\n",
      "through:[]\n",
      "cultural:[]\n",
      "insight,:['insight']\n",
      "strategic:[]\n",
      "vision,:['vision']\n",
      "and:[]\n",
      "the:[]\n",
      "power:[]\n",
      "of:[]\n",
      "emotion:[]\n",
      "across:[]\n",
      "every:[]\n",
      "element:[]\n",
      "of:[]\n",
      "its:[]\n",
      "expression.:['expression']\n",
      "Our:[]\n",
      "eCommerce:['commerce']\n",
      "design:[]\n",
      "starts:[]\n",
      "and:[]\n",
      "ends:[]\n",
      "with:[]\n",
      "a:[]\n",
      "best-in-class:[]\n",
      "experience:[]\n",
      "strategy:[]\n",
      "that:[]\n",
      "builds:[]\n",
      "brands:[]\n",
      "and:[]\n",
      "drives:[]\n",
      "transactions.:['transactions']\n",
      "Paketini:[]\n",
      "seç:['see']\n",
      "ve:[]\n",
      "restaurantını:[]\n",
      "kaydet:['cadet']\n",
      "Üyelik:['eyelid']\n",
      "işlemleri:[]\n",
      "sadece:['sauce']\n",
      "birkaç:['burka']\n",
      "dakika!:[]\n",
      "paketini:[]\n",
      "seç:['see']\n",
      "ve:[]\n",
      "bilgilerini:[]\n",
      "girip:['grip']\n",
      "üyeliğini:[]\n",
      "tamamla.:[]\n",
      "Menüyü:['menya']\n",
      "yükle:['ankle']\n",
      "Standart:['standard']\n",
      "ve:[]\n",
      "Premıum:['premium']\n",
      "paketlerini:[]\n",
      "seçtiysen:[]\n",
      "menünü:[]\n",
      "destek:['desk']\n",
      "ekibimize:[]\n",
      "gönder,:['gender']\n",
      "kısa:['kasa']\n",
      "sürede:['shred']\n",
      "sistemi:['sister']\n",
      "kullanıma:[]\n",
      "hazır:['hair']\n",
      "hale:[]\n",
      "getirelim.:[]\n",
      "Kullanmaya:[]\n",
      "başla:['bala']\n",
      "Eğer:['ever']\n",
      "masalara:['mascara']\n",
      "yerleştirmek:[]\n",
      "için:['iin']\n",
      "QR:['or']\n",
      "kodlu:['kodou']\n",
      "menü:['men']\n",
      "kartlarına:[]\n",
      "ihtiyacın:[]\n",
      "varsa:['versa']\n",
      "bizden:['bidden']\n",
      "destek:['desk']\n",
      "alabilirsiniz.:[]\n",
      "Üyelik:['eyelid']\n",
      "işlemleri:[]\n",
      "sadece:['sauce']\n",
      "birkaç:['burka']\n",
      "dakika!:[]\n",
      "paketini:[]\n",
      "seç:['see']\n",
      "ve:[]\n",
      "bilgilerini:[]\n",
      "girip:['grip']\n",
      "üyeliğini:[]\n",
      "tamamla.:[]\n",
      "Standart:['standard']\n",
      "ve:[]\n",
      "Premıum:['premium']\n",
      "paketlerini:[]\n",
      "seçtiysen:[]\n",
      "menünü:[]\n",
      "destek:['desk']\n",
      "ekibimize:[]\n",
      "gönder,:['gender']\n",
      "kısa:['kasa']\n",
      "sürede:['shred']\n",
      "sistemi:['sister']\n",
      "kullanıma:[]\n",
      "hazır:['hair']\n",
      "hale:[]\n",
      "getirelim.:[]\n",
      "Eğer:['ever']\n",
      "masalara:['mascara']\n",
      "yerleştirmek:[]\n",
      "için:['iin']\n",
      "QR:['or']\n",
      "kodlu:['kodou']\n",
      "menü:['men']\n",
      "kartlarına:[]\n",
      "ihtiyacın:[]\n",
      "varsa:['versa']\n",
      "bizden:['bidden']\n",
      "destek:['desk']\n",
      "alabilirsiniz.:[]\n",
      "Ceating:['eating']\n",
      "brand:[]\n",
      "identities,:['identities']\n",
      "digital:[]\n",
      "experiences,:['experiences']\n",
      "and:[]\n",
      "print:[]\n",
      "materials:[]\n",
      "that:[]\n",
      "communicate:[]\n",
      "clearly.:['clearly']\n",
      "We:[]\n",
      "have:[]\n",
      "an:[]\n",
      "experienced:[]\n",
      "team:[]\n",
      "of:[]\n",
      "production:[]\n",
      "and:[]\n",
      "inspection:[]\n",
      "personnel:[]\n",
      "to:[]\n",
      "ensure:[]\n",
      "quality.:['quality']\n",
      "Uncover,:['uncover']\n",
      "analyze,:['analyze']\n",
      "track,:['track']\n",
      "and:[]\n",
      "report:[]\n",
      "on:[]\n",
      "SEO:[]\n",
      "data.:['data']\n",
      "Our:[]\n",
      "quality:[]\n",
      "policy::['policy']\n",
      "strict:[]\n",
      "to:[]\n",
      "have:[]\n",
      "best:[]\n",
      "product.:['product']\n",
      "We:[]\n",
      "help:[]\n",
      "our:[]\n",
      "clients:[]\n",
      "succeed:[]\n",
      "by:[]\n",
      "creating:[]\n",
      "brand:[]\n",
      "identities,:['identities']\n",
      "digital:[]\n",
      "experiences,:['experiences']\n",
      "and:[]\n",
      "print:[]\n",
      "materials:[]\n",
      "that:[]\n",
      "communicate:[]\n",
      "clearly,:['clearly']\n",
      "achieve:[]\n",
      "marketing:[]\n",
      "goals,:['goals']\n",
      "and:[]\n",
      "look:[]\n",
      "fantastic.Through:[]\n",
      "a:[]\n",
      "deep:[]\n",
      "understanding:[]\n",
      "of:[]\n",
      "our:[]\n",
      "audience’s:['audiences']\n",
      "makeup:[]\n",
      "and:[]\n",
      "motivations.:['motivations']\n",
      "We:[]\n",
      "help:[]\n",
      "our:[]\n",
      "clients:[]\n",
      "succeed:[]\n",
      "by:[]\n",
      "creating:[]\n",
      "brand:[]\n",
      "identities,:['identities']\n",
      "digital:[]\n",
      "experiences,:['experiences']\n",
      "and:[]\n",
      "print:[]\n",
      "materials:[]\n",
      "that:[]\n",
      "communicate:[]\n",
      "clearly,:['clearly']\n",
      "achieve:[]\n",
      "marketing:[]\n",
      "goals,:['goals']\n",
      "and:[]\n",
      "look:[]\n",
      "fantastic.Through:[]\n",
      "a:[]\n",
      "deep:[]\n",
      "understanding:[]\n",
      "of:[]\n",
      "our:[]\n",
      "audience’s:['audiences']\n",
      "makeup:[]\n",
      "and:[]\n",
      "motivations.:['motivations']\n",
      "We:[]\n",
      "help:[]\n",
      "our:[]\n",
      "clients:[]\n",
      "succeed:[]\n",
      "by:[]\n",
      "creating:[]\n",
      "brand:[]\n",
      "identities,:['identities']\n",
      "digital:[]\n",
      "experiences,:['experiences']\n",
      "and:[]\n",
      "print:[]\n",
      "materials:[]\n",
      "that:[]\n",
      "communicate:[]\n",
      "clearly,:['clearly']\n",
      "achieve:[]\n",
      "marketing:[]\n",
      "goals,:['goals']\n",
      "and:[]\n",
      "look:[]\n",
      "fantastic.Through:[]\n",
      "a:[]\n",
      "deep:[]\n",
      "understanding:[]\n",
      "of:[]\n",
      "our:[]\n",
      "audience’s:['audiences']\n",
      "makeup:[]\n",
      "and:[]\n",
      "motivations.:['motivations']\n",
      "Menuco:['menudo']\n",
      "TECH:[]\n",
      "Attilastr.:[]\n",
      "131:[]\n",
      "12105:[]\n",
      "Berlin,:['berlin']\n",
      "Germany:[]\n",
      "USt-ID.::[]\n",
      "DE343188603:[]\n",
      "WhatsApp::['whatsapp']\n",
      "+49:[]\n",
      "171:[]\n",
      "802:[]\n",
      "3675:[]\n",
      "E-Mail::['email']\n",
      "info@menuco.co:[]\n",
      "©:['i']\n",
      "All:[]\n",
      "rights:[]\n",
      "reserved:[]\n",
      "to:[]\n",
      "Menuco,:['menudo']\n",
      "2021:[]\n"
     ]
    }
   ],
   "source": [
    "for word in splitted_words:\n",
    "    a=[]\n",
    "    if word != spell.correction(word):\n",
    "        a.append(spell.correction(word))\n",
    "    print(f'{word}:{a}')\n",
    "    #print(spell.correction(word))\n",
    "    #print(f'{word}:{spell.correction(word)}')"
   ]
  },
  {
   "cell_type": "code",
   "execution_count": null,
   "id": "bd8a1892",
   "metadata": {},
   "outputs": [],
   "source": []
  },
  {
   "cell_type": "code",
   "execution_count": null,
   "id": "5fdbe63e",
   "metadata": {},
   "outputs": [],
   "source": []
  },
  {
   "cell_type": "code",
   "execution_count": null,
   "id": "379beb51",
   "metadata": {},
   "outputs": [],
   "source": []
  },
  {
   "cell_type": "code",
   "execution_count": null,
   "id": "2d60e207",
   "metadata": {},
   "outputs": [],
   "source": []
  },
  {
   "cell_type": "code",
   "execution_count": null,
   "id": "4e906b3b",
   "metadata": {},
   "outputs": [],
   "source": []
  },
  {
   "cell_type": "code",
   "execution_count": null,
   "id": "15adda99",
   "metadata": {},
   "outputs": [],
   "source": []
  },
  {
   "cell_type": "code",
   "execution_count": null,
   "id": "0ca8e3ec",
   "metadata": {},
   "outputs": [],
   "source": []
  },
  {
   "cell_type": "code",
   "execution_count": null,
   "id": "93880ff5",
   "metadata": {},
   "outputs": [],
   "source": []
  },
  {
   "cell_type": "code",
   "execution_count": null,
   "id": "8d669e57",
   "metadata": {},
   "outputs": [],
   "source": []
  },
  {
   "cell_type": "code",
   "execution_count": 136,
   "id": "a77d675b",
   "metadata": {},
   "outputs": [],
   "source": [
    "with open ('menuco_html.txt', 'w', encoding='utf-8') as f:\n",
    "    f.write(menuco_html)"
   ]
  },
  {
   "cell_type": "code",
   "execution_count": 7,
   "id": "61a84079",
   "metadata": {},
   "outputs": [
    {
     "data": {
      "text/plain": [
       "'<!DOCTYPE html>\\r\\n<html lang=\"en-US\">\\r\\n<head itemscope=\"itemscope\" itemtype=\"http://schema.org/WebSite\">\\r\\n\\r\\n\\t<meta charset=\"UTF-8\">\\r\\n\\t<meta name=\"viewport\" content=\"width=device-width, initial-scale=1.0\" />\\r\\n\\t<meta http-equiv=\"X-UA-Compatible\" content=\"IE=edge\">\\r\\n\\t<link rel=\"profile\" href=\"https://gmpg.org/xfn/11\">\\r\\n\\t<meta name=\"mobile-web-app-capable\" content=\"yes\">\\n<meta name=\"apple-mobile-web-app-capable\" content=\"yes\">\\n<meta name=\"apple-mobile-web-app-title\" content=\"Menuco Ana - Eat Joyfully\">\\n<link rel=\"pingback\" href=\"https://menuco.co/xmlrpc.php\" />\\n<meta name=\\'robots\\' content=\\'index, follow, max-image-preview:large, max-snippet:-1, max-video-preview:-1\\' />\\n<meta itemprop=\"name\" content=\"Menuco Ana\" />\\n<meta itemprop=\"url\" content=\"https://menuco.co/\" />\\n\\r\\n\\t<!-- This site is optimized with the Yoast SEO plugin v17.1 - https://yoast.com/wordpress/plugins/seo/ -->\\r\\n\\t<title>Home Page - Menuco Ana</title>\\r\\n\\t<link rel=\"canonical\" href=\"https://menuco.co/\" />\\r\\n\\t<meta property=\"og:locale\" content=\"en_US\" />\\r\\n\\t<meta property=\"og:type\" content=\"website\" />\\r\\n\\t<meta property=\"og:title\" content=\"Home Page - Menuco Ana\" />\\r\\n\\t<meta property=\"og:url\" content=\"https://menuco.co/\" />\\r\\n\\t<meta property=\"og:site_name\" content=\"Menuco Ana\" />\\r\\n\\t<meta property=\"article:modified_time\" content=\"2021-08-13T12:11:53+00:00\" />\\r\\n\\t<meta name=\"twitter:card\" content=\"summary_large_image\" />\\r\\n\\t<meta name=\"twitter:site\" content=\"@MenucoApp\" />\\r\\n\\t<meta name=\"twitter:label1\" content=\"Est. reading time\" />\\n\\t<meta name=\"twitter:data1\" content=\"18 minutes\" />\\r\\n\\t<script type=\"application/ld+json\" class=\"yoast-schema-graph\">{\"@context\":\"https://schema.org\",\"@graph\":[{\"@type\":\"Organization\",\"@id\":\"https://menuco.co/#organization\",\"name\":\"Menuco\",\"url\":\"https://menuco.co/\",\"sameAs\":[\"https://www.linkedin.com/company/menucotech\",\"https://twitter.com/MenucoApp\"],\"logo\":{\"@type\":\"ImageObject\",\"@id\":\"https://menuco.co/#logo\",\"inLanguage\":\"en-US\",\"url\":\"https://menuco.co/wp-content/uploads/2021/07/Menuco_Logo-1-2-1.png\",\"contentUrl\":\"https://menuco.co/wp-content/uploads/2021/07/Menuco_Logo-1-2-1.png\",\"width\":75,\"height\":75,\"caption\":\"Menuco\"},\"image\":{\"@id\":\"https://menuco.co/#logo\"}},{\"@type\":\"WebSite\",\"@id\":\"https://menuco.co/#website\",\"url\":\"https://menuco.co/\",\"name\":\"Menuco\",\"description\":\"Eat Joyfully\",\"publisher\":{\"@id\":\"https://menuco.co/#organization\"},\"potentialAction\":[{\"@type\":\"SearchAction\",\"target\":{\"@type\":\"EntryPoint\",\"urlTemplate\":\"https://menuco.co/?s={search_term_string}\"},\"query-input\":\"required name=search_term_string\"}],\"inLanguage\":\"en-US\"},{\"@type\":\"WebPage\",\"@id\":\"https://menuco.co/#webpage\",\"url\":\"https://menuco.co/\",\"name\":\"Home Page - Menuco Ana\",\"isPartOf\":{\"@id\":\"https://menuco.co/#website\"},\"about\":{\"@id\":\"https://menuco.co/#organization\"},\"datePublished\":\"2019-12-30T07:13:30+00:00\",\"dateModified\":\"2021-08-13T12:11:53+00:00\",\"breadcrumb\":{\"@id\":\"https://menuco.co/#breadcrumb\"},\"inLanguage\":\"en-US\",\"potentialAction\":[{\"@type\":\"ReadAction\",\"target\":[\"https://menuco.co/\"]}]},{\"@type\":\"BreadcrumbList\",\"@id\":\"https://menuco.co/#breadcrumb\",\"itemListElement\":[{\"@type\":\"ListItem\",\"position\":1,\"name\":\"Home\"}]}]}</script>\\r\\n\\t<!-- / Yoast SEO plugin. -->\\r\\n\\r\\n\\r\\n<link rel=\\'dns-prefetch\\' href=\\'//s.w.org\\' />\\n<link rel=\"alternate\" type=\"application/rss+xml\" title=\"Menuco Ana &raquo; Feed\" href=\"https://menuco.co/feed/\" />\\n<link rel=\"alternate\" type=\"application/rss+xml\" title=\"Menuco Ana &raquo; Comments Feed\" href=\"https://menuco.co/comments/feed/\" />\\n<link rel=\"preload\" href=\"https://menuco.co/wp-content/themes/hub/assets/vendors/liquid-icon/lqd-essentials/fonts/lqd-essentials.woff2\" as=\"font\" type=\"font/woff2\" crossorigin>\\t\\t<!-- This site uses the Google Analytics by MonsterInsights plugin v7.18.0 - Using Analytics tracking - https://www.monsterinsights.com/ -->\\n\\t\\t\\t\\t\\t\\t\\t<script src=\"//www.googletagmanager.com/gtag/js?id=UA-179106925-1\"  type=\"text/javascript\" data-cfasync=\"false\" async></script>\\n\\t\\t\\t<script type=\"text/javascript\" data-cfasync=\"false\">\\n\\t\\t\\t\\tvar mi_version = \\'7.18.0\\';\\n\\t\\t\\t\\tvar mi_track_user = true;\\n\\t\\t\\t\\tvar mi_no_track_reason = \\'\\';\\n\\t\\t\\t\\t\\n\\t\\t\\t\\t\\t\\t\\t\\tvar disableStr = \\'ga-disable-UA-179106925-1\\';\\n\\n\\t\\t\\t\\t/* Function to detect opted out users */\\n\\t\\t\\t\\tfunction __gtagTrackerIsOptedOut() {\\n\\t\\t\\t\\t\\treturn document.cookie.indexOf( disableStr + \\'=true\\' ) > - 1;\\n\\t\\t\\t\\t}\\n\\n\\t\\t\\t\\t/* Disable tracking if the opt-out cookie exists. */\\n\\t\\t\\t\\tif ( __gtagTrackerIsOptedOut() ) {\\n\\t\\t\\t\\t\\twindow[disableStr] = true;\\n\\t\\t\\t\\t}\\n\\n\\t\\t\\t\\t/* Opt-out function */\\n\\t\\t\\t\\tfunction __gtagTrackerOptout() {\\n\\t\\t\\t\\t\\tdocument.cookie = disableStr + \\'=true; expires=Thu, 31 Dec 2099 23:59:59 UTC; path=/\\';\\n\\t\\t\\t\\t\\twindow[disableStr] = true;\\n\\t\\t\\t\\t}\\n\\n\\t\\t\\t\\tif ( \\'undefined\\' === typeof gaOptout ) {\\n\\t\\t\\t\\t\\tfunction gaOptout() {\\n\\t\\t\\t\\t\\t\\t__gtagTrackerOptout();\\n\\t\\t\\t\\t\\t}\\n\\t\\t\\t\\t}\\n\\t\\t\\t\\t\\t\\t\\t\\twindow.dataLayer = window.dataLayer || [];\\n\\t\\t\\t\\tif ( mi_track_user ) {\\n\\t\\t\\t\\t\\tfunction __gtagTracker() {dataLayer.push( arguments );}\\n\\t\\t\\t\\t\\t__gtagTracker( \\'js\\', new Date() );\\n\\t\\t\\t\\t\\t__gtagTracker( \\'set\\', {\\n\\t\\t\\t\\t\\t\\t\\'developer_id.dZGIzZG\\' : true,\\n\\t\\t\\t\\t\\t\\t                    });\\n\\t\\t\\t\\t\\t__gtagTracker( \\'config\\', \\'UA-179106925-1\\', {\\n\\t\\t\\t\\t\\t\\tforceSSL:true,link_attribution:true,\\t\\t\\t\\t\\t} );\\n\\t\\t\\t\\t\\t\\t\\t\\t\\t\\twindow.gtag = __gtagTracker;\\t\\t\\t\\t\\t\\t\\t\\t\\t\\t(\\n\\t\\t\\t\\t\\t\\tfunction () {\\n\\t\\t\\t\\t\\t\\t\\t/* https://developers.google.com/analytics/devguides/collection/analyticsjs/ */\\n\\t\\t\\t\\t\\t\\t\\t/* ga and __gaTracker compatibility shim. */\\n\\t\\t\\t\\t\\t\\t\\tvar noopfn = function () {\\n\\t\\t\\t\\t\\t\\t\\t\\treturn null;\\n\\t\\t\\t\\t\\t\\t\\t};\\n\\t\\t\\t\\t\\t\\t\\tvar newtracker = function () {\\n\\t\\t\\t\\t\\t\\t\\t\\treturn new Tracker();\\n\\t\\t\\t\\t\\t\\t\\t};\\n\\t\\t\\t\\t\\t\\t\\tvar Tracker = function () {\\n\\t\\t\\t\\t\\t\\t\\t\\treturn null;\\n\\t\\t\\t\\t\\t\\t\\t};\\n\\t\\t\\t\\t\\t\\t\\tvar p = Tracker.prototype;\\n\\t\\t\\t\\t\\t\\t\\tp.get = noopfn;\\n\\t\\t\\t\\t\\t\\t\\tp.set = noopfn;\\n\\t\\t\\t\\t\\t\\t\\tp.send = function (){\\n\\t\\t\\t\\t\\t\\t\\t\\tvar args = Array.prototype.slice.call(arguments);\\n\\t\\t\\t\\t\\t\\t\\t\\targs.unshift( \\'send\\' );\\n\\t\\t\\t\\t\\t\\t\\t\\t__gaTracker.apply(null, args);\\n\\t\\t\\t\\t\\t\\t\\t};\\n\\t\\t\\t\\t\\t\\t\\tvar __gaTracker = function () {\\n\\t\\t\\t\\t\\t\\t\\t\\tvar len = arguments.length;\\n\\t\\t\\t\\t\\t\\t\\t\\tif ( len === 0 ) {\\n\\t\\t\\t\\t\\t\\t\\t\\t\\treturn;\\n\\t\\t\\t\\t\\t\\t\\t\\t}\\n\\t\\t\\t\\t\\t\\t\\t\\tvar f = arguments[len - 1];\\n\\t\\t\\t\\t\\t\\t\\t\\tif ( typeof f !== \\'object\\' || f === null || typeof f.hitCallback !== \\'function\\' ) {\\n\\t\\t\\t\\t\\t\\t\\t\\t\\tif ( \\'send\\' === arguments[0] ) {\\n\\t\\t\\t\\t\\t\\t\\t\\t\\t\\tvar hitConverted, hitObject = false, action;\\n\\t\\t\\t\\t\\t\\t\\t\\t\\t\\tif ( \\'event\\' === arguments[1] ) {\\n\\t\\t\\t\\t\\t\\t\\t\\t\\t\\t\\tif ( \\'undefined\\' !== typeof arguments[3] ) {\\n\\t\\t\\t\\t\\t\\t\\t\\t\\t\\t\\t\\thitObject = {\\n\\t\\t\\t\\t\\t\\t\\t\\t\\t\\t\\t\\t\\t\\'eventAction\\': arguments[3],\\n\\t\\t\\t\\t\\t\\t\\t\\t\\t\\t\\t\\t\\t\\'eventCategory\\': arguments[2],\\n\\t\\t\\t\\t\\t\\t\\t\\t\\t\\t\\t\\t\\t\\'eventLabel\\': arguments[4],\\n\\t\\t\\t\\t\\t\\t\\t\\t\\t\\t\\t\\t\\t\\'value\\': arguments[5] ? arguments[5] : 1,\\n\\t\\t\\t\\t\\t\\t\\t\\t\\t\\t\\t\\t}\\n\\t\\t\\t\\t\\t\\t\\t\\t\\t\\t\\t}\\n\\t\\t\\t\\t\\t\\t\\t\\t\\t\\t}\\n\\t\\t\\t\\t\\t\\t\\t\\t\\t\\tif ( \\'pageview\\' === arguments[1] ) {\\n\\t\\t\\t\\t\\t\\t\\t\\t\\t\\t\\tif ( \\'undefined\\' !== typeof arguments[2] ) {\\n\\t\\t\\t\\t\\t\\t\\t\\t\\t\\t\\t\\thitObject = {\\n\\t\\t\\t\\t\\t\\t\\t\\t\\t\\t\\t\\t\\t\\'eventAction\\': \\'page_view\\',\\n\\t\\t\\t\\t\\t\\t\\t\\t\\t\\t\\t\\t\\t\\'page_path\\' : arguments[2],\\n\\t\\t\\t\\t\\t\\t\\t\\t\\t\\t\\t\\t}\\n\\t\\t\\t\\t\\t\\t\\t\\t\\t\\t\\t}\\n\\t\\t\\t\\t\\t\\t\\t\\t\\t\\t}\\n\\t\\t\\t\\t\\t\\t\\t\\t\\t\\tif ( typeof arguments[2] === \\'object\\' ) {\\n\\t\\t\\t\\t\\t\\t\\t\\t\\t\\t\\thitObject = arguments[2];\\n\\t\\t\\t\\t\\t\\t\\t\\t\\t\\t}\\n\\t\\t\\t\\t\\t\\t\\t\\t\\t\\tif ( typeof arguments[5] === \\'object\\' ) {\\n\\t\\t\\t\\t\\t\\t\\t\\t\\t\\t\\tObject.assign( hitObject, arguments[5] );\\n\\t\\t\\t\\t\\t\\t\\t\\t\\t\\t}\\n\\t\\t\\t\\t\\t\\t\\t\\t\\t\\tif ( \\'undefined\\' !== typeof arguments[1].hitType ) {\\n\\t\\t\\t\\t\\t\\t\\t\\t\\t\\t\\thitObject = arguments[1];\\n\\t\\t\\t\\t\\t\\t\\t\\t\\t\\t\\tif ( \\'pageview\\' === hitObject.hitType ) {\\n\\t\\t\\t\\t\\t\\t\\t\\t\\t\\t\\t\\thitObject.eventAction = \\'page_view\\';\\n\\t\\t\\t\\t\\t\\t\\t\\t\\t\\t\\t}\\n\\t\\t\\t\\t\\t\\t\\t\\t\\t\\t}\\n\\t\\t\\t\\t\\t\\t\\t\\t\\t\\tif ( hitObject ) {\\n\\t\\t\\t\\t\\t\\t\\t\\t\\t\\t\\taction = \\'timing\\' === arguments[1].hitType ? \\'timing_complete\\' : hitObject.eventAction;\\n\\t\\t\\t\\t\\t\\t\\t\\t\\t\\t\\thitConverted = mapArgs( hitObject );\\n\\t\\t\\t\\t\\t\\t\\t\\t\\t\\t\\t__gtagTracker( \\'event\\', action, hitConverted );\\n\\t\\t\\t\\t\\t\\t\\t\\t\\t\\t}\\n\\t\\t\\t\\t\\t\\t\\t\\t\\t}\\n\\t\\t\\t\\t\\t\\t\\t\\t\\treturn;\\n\\t\\t\\t\\t\\t\\t\\t\\t}\\n\\n\\t\\t\\t\\t\\t\\t\\t\\tfunction mapArgs( args ) {\\n\\t\\t\\t\\t\\t\\t\\t\\t\\tvar arg, hit = {};\\n\\t\\t\\t\\t\\t\\t\\t\\t\\tvar gaMap = {\\n\\t\\t\\t\\t\\t\\t\\t\\t\\t\\t\\'eventCategory\\': \\'event_category\\',\\n\\t\\t\\t\\t\\t\\t\\t\\t\\t\\t\\'eventAction\\': \\'event_action\\',\\n\\t\\t\\t\\t\\t\\t\\t\\t\\t\\t\\'eventLabel\\': \\'event_label\\',\\n\\t\\t\\t\\t\\t\\t\\t\\t\\t\\t\\'eventValue\\': \\'event_value\\',\\n\\t\\t\\t\\t\\t\\t\\t\\t\\t\\t\\'nonInteraction\\': \\'non_interaction\\',\\n\\t\\t\\t\\t\\t\\t\\t\\t\\t\\t\\'timingCategory\\': \\'event_category\\',\\n\\t\\t\\t\\t\\t\\t\\t\\t\\t\\t\\'timingVar\\': \\'name\\',\\n\\t\\t\\t\\t\\t\\t\\t\\t\\t\\t\\'timingValue\\': \\'value\\',\\n\\t\\t\\t\\t\\t\\t\\t\\t\\t\\t\\'timingLabel\\': \\'event_label\\',\\n\\t\\t\\t\\t\\t\\t\\t\\t\\t\\t\\'page\\' : \\'page_path\\',\\n\\t\\t\\t\\t\\t\\t\\t\\t\\t\\t\\'location\\' : \\'page_location\\',\\n\\t\\t\\t\\t\\t\\t\\t\\t\\t\\t\\'title\\' : \\'page_title\\',\\n\\t\\t\\t\\t\\t\\t\\t\\t\\t};\\n\\t\\t\\t\\t\\t\\t\\t\\t\\tfor ( arg in args ) {\\n\\t\\t\\t\\t\\t\\t\\t\\t\\t\\tif ( args.hasOwnProperty(arg) && gaMap.hasOwnProperty(arg) ) {\\n\\t\\t\\t\\t\\t\\t\\t\\t\\t\\t\\thit[gaMap[arg]] = args[arg];\\n\\t\\t\\t\\t\\t\\t\\t\\t\\t\\t} else {\\n\\t\\t\\t\\t\\t\\t\\t\\t\\t\\t\\thit[arg] = args[arg];\\n\\t\\t\\t\\t\\t\\t\\t\\t\\t\\t}\\n\\t\\t\\t\\t\\t\\t\\t\\t\\t}\\n\\t\\t\\t\\t\\t\\t\\t\\t\\treturn hit;\\n\\t\\t\\t\\t\\t\\t\\t\\t}\\n\\n\\t\\t\\t\\t\\t\\t\\t\\ttry {\\n\\t\\t\\t\\t\\t\\t\\t\\t\\tf.hitCallback();\\n\\t\\t\\t\\t\\t\\t\\t\\t} catch ( ex ) {\\n\\t\\t\\t\\t\\t\\t\\t\\t}\\n\\t\\t\\t\\t\\t\\t\\t};\\n\\t\\t\\t\\t\\t\\t\\t__gaTracker.create = newtracker;\\n\\t\\t\\t\\t\\t\\t\\t__gaTracker.getByName = newtracker;\\n\\t\\t\\t\\t\\t\\t\\t__gaTracker.getAll = function () {\\n\\t\\t\\t\\t\\t\\t\\t\\treturn [];\\n\\t\\t\\t\\t\\t\\t\\t};\\n\\t\\t\\t\\t\\t\\t\\t__gaTracker.remove = noopfn;\\n\\t\\t\\t\\t\\t\\t\\t__gaTracker.loaded = true;\\n\\t\\t\\t\\t\\t\\t\\twindow[\\'__gaTracker\\'] = __gaTracker;\\n\\t\\t\\t\\t\\t\\t}\\n\\t\\t\\t\\t\\t)();\\n\\t\\t\\t\\t\\t\\t\\t\\t\\t} else {\\n\\t\\t\\t\\t\\t\\t\\t\\t\\t\\tconsole.log( \"\" );\\n\\t\\t\\t\\t\\t( function () {\\n\\t\\t\\t\\t\\t\\t\\tfunction __gtagTracker() {\\n\\t\\t\\t\\t\\t\\t\\t\\treturn null;\\n\\t\\t\\t\\t\\t\\t\\t}\\n\\t\\t\\t\\t\\t\\t\\twindow[\\'__gtagTracker\\'] = __gtagTracker;\\n\\t\\t\\t\\t\\t\\t\\twindow[\\'gtag\\'] = __gtagTracker;\\n\\t\\t\\t\\t\\t} )();\\n\\t\\t\\t\\t\\t\\t\\t\\t\\t}\\n\\t\\t\\t</script>\\n\\t\\t\\t\\t<!-- / Google Analytics by MonsterInsights -->\\n\\t\\t<script type=\"text/javascript\">\\nwindow._wpemojiSettings = {\"baseUrl\":\"https:\\\\/\\\\/s.w.org\\\\/images\\\\/core\\\\/emoji\\\\/13.1.0\\\\/72x72\\\\/\",\"ext\":\".png\",\"svgUrl\":\"https:\\\\/\\\\/s.w.org\\\\/images\\\\/core\\\\/emoji\\\\/13.1.0\\\\/svg\\\\/\",\"svgExt\":\".svg\",\"source\":{\"concatemoji\":\"https:\\\\/\\\\/menuco.co\\\\/wp-includes\\\\/js\\\\/wp-emoji-release.min.js?ver=5.9.3\"}};\\n/*! This file is auto-generated */\\n!function(e,a,t){var n,r,o,i=a.createElement(\"canvas\"),p=i.getContext&&i.getContext(\"2d\");function s(e,t){var a=String.fromCharCode;p.clearRect(0,0,i.width,i.height),p.fillText(a.apply(this,e),0,0);e=i.toDataURL();return p.clearRect(0,0,i.width,i.height),p.fillText(a.apply(this,t),0,0),e===i.toDataURL()}function c(e){var t=a.createElement(\"script\");t.src=e,t.defer=t.type=\"text/javascript\",a.getElementsByTagName(\"head\")[0].appendChild(t)}for(o=Array(\"flag\",\"emoji\"),t.supports={everything:!0,everythingExceptFlag:!0},r=0;r<o.length;r++)t.supports[o[r]]=function(e){if(!p||!p.fillText)return!1;switch(p.textBaseline=\"top\",p.font=\"600 32px Arial\",e){case\"flag\":return s([127987,65039,8205,9895,65039],[127987,65039,8203,9895,65039])?!1:!s([55356,56826,55356,56819],[55356,56826,8203,55356,56819])&&!s([55356,57332,56128,56423,56128,56418,56128,56421,56128,56430,56128,56423,56128,56447],[55356,57332,8203,56128,56423,8203,56128,56418,8203,56128,56421,8203,56128,56430,8203,56128,56423,8203,56128,56447]);case\"emoji\":return!s([10084,65039,8205,55357,56613],[10084,65039,8203,55357,56613])}return!1}(o[r]),t.supports.everything=t.supports.everything&&t.supports[o[r]],\"flag\"!==o[r]&&(t.supports.everythingExceptFlag=t.supports.everythingExceptFlag&&t.supports[o[r]]);t.supports.everythingExceptFlag=t.supports.everythingExceptFlag&&!t.supports.flag,t.DOMReady=!1,t.readyCallback=function(){t.DOMReady=!0},t.supports.everything||(n=function(){t.readyCallback()},a.addEventListener?(a.addEventListener(\"DOMContentLoaded\",n,!1),e.addEventListener(\"load\",n,!1)):(e.attachEvent(\"onload\",n),a.attachEvent(\"onreadystatechange\",function(){\"complete\"===a.readyState&&t.readyCallback()})),(n=t.source||{}).concatemoji?c(n.concatemoji):n.wpemoji&&n.twemoji&&(c(n.twemoji),c(n.wpemoji)))}(window,document,window._wpemojiSettings);\\n</script>\\n<style type=\"text/css\">\\nimg.wp-smiley,\\nimg.emoji {\\n\\tdisplay: inline !important;\\n\\tborder: none !important;\\n\\tbox-shadow: none !important;\\n\\theight: 1em !important;\\n\\twidth: 1em !important;\\n\\tmargin: 0 0.07em !important;\\n\\tvertical-align: -0.1em !important;\\n\\tbackground: none !important;\\n\\tpadding: 0 !important;\\n}\\n</style>\\n\\t<link rel=\\'stylesheet\\' id=\\'wp-block-library-css\\'  href=\\'https://menuco.co/wp-includes/css/dist/block-library/style.min.css?ver=5.9.3\\' type=\\'text/css\\' media=\\'all\\' />\\n<style id=\\'wp-block-library-theme-inline-css\\' type=\\'text/css\\'>\\n.wp-block-audio figcaption{color:#555;font-size:13px;text-align:center}.is-dark-theme .wp-block-audio figcaption{color:hsla(0,0%,100%,.65)}.wp-block-code>code{font-family:Menlo,Consolas,monaco,monospace;color:#1e1e1e;padding:.8em 1em;border:1px solid #ddd;border-radius:4px}.wp-block-embed figcaption{color:#555;font-size:13px;text-align:center}.is-dark-theme .wp-block-embed figcaption{color:hsla(0,0%,100%,.65)}.blocks-gallery-caption{color:#555;font-size:13px;text-align:center}.is-dark-theme .blocks-gallery-caption{color:hsla(0,0%,100%,.65)}.wp-block-image figcaption{color:#555;font-size:13px;text-align:center}.is-dark-theme .wp-block-image figcaption{color:hsla(0,0%,100%,.65)}.wp-block-pullquote{border-top:4px solid;border-bottom:4px solid;margin-bottom:1.75em;color:currentColor}.wp-block-pullquote__citation,.wp-block-pullquote cite,.wp-block-pullquote footer{color:currentColor;text-transform:uppercase;font-size:.8125em;font-style:normal}.wp-block-quote{border-left:.25em solid;margin:0 0 1.75em;padding-left:1em}.wp-block-quote cite,.wp-block-quote footer{color:currentColor;font-size:.8125em;position:relative;font-style:normal}.wp-block-quote.has-text-align-right{border-left:none;border-right:.25em solid;padding-left:0;padding-right:1em}.wp-block-quote.has-text-align-center{border:none;padding-left:0}.wp-block-quote.is-large,.wp-block-quote.is-style-large,.wp-block-quote.is-style-plain{border:none}.wp-block-search .wp-block-search__label{font-weight:700}.wp-block-group:where(.has-background){padding:1.25em 2.375em}.wp-block-separator{border:none;border-bottom:2px solid;margin-left:auto;margin-right:auto;opacity:.4}.wp-block-separator:not(.is-style-wide):not(.is-style-dots){width:100px}.wp-block-separator.has-background:not(.is-style-dots){border-bottom:none;height:1px}.wp-block-separator.has-background:not(.is-style-wide):not(.is-style-dots){height:2px}.wp-block-table thead{border-bottom:3px solid}.wp-block-table tfoot{border-top:3px solid}.wp-block-table td,.wp-block-table th{padding:.5em;border:1px solid;word-break:normal}.wp-block-table figcaption{color:#555;font-size:13px;text-align:center}.is-dark-theme .wp-block-table figcaption{color:hsla(0,0%,100%,.65)}.wp-block-video figcaption{color:#555;font-size:13px;text-align:center}.is-dark-theme .wp-block-video figcaption{color:hsla(0,0%,100%,.65)}.wp-block-template-part.has-background{padding:1.25em 2.375em;margin-top:0;margin-bottom:0}\\n</style>\\n<style id=\\'global-styles-inline-css\\' type=\\'text/css\\'>\\nbody{--wp--preset--color--black: #000000;--wp--preset--color--cyan-bluish-gray: #abb8c3;--wp--preset--color--white: #ffffff;--wp--preset--color--pale-pink: #f78da7;--wp--preset--color--vivid-red: #cf2e2e;--wp--preset--color--luminous-vivid-orange: #ff6900;--wp--preset--color--luminous-vivid-amber: #fcb900;--wp--preset--color--light-green-cyan: #7bdcb5;--wp--preset--color--vivid-green-cyan: #00d084;--wp--preset--color--pale-cyan-blue: #8ed1fc;--wp--preset--color--vivid-cyan-blue: #0693e3;--wp--preset--color--vivid-purple: #9b51e0;--wp--preset--gradient--vivid-cyan-blue-to-vivid-purple: linear-gradient(135deg,rgba(6,147,227,1) 0%,rgb(155,81,224) 100%);--wp--preset--gradient--light-green-cyan-to-vivid-green-cyan: linear-gradient(135deg,rgb(122,220,180) 0%,rgb(0,208,130) 100%);--wp--preset--gradient--luminous-vivid-amber-to-luminous-vivid-orange: linear-gradient(135deg,rgba(252,185,0,1) 0%,rgba(255,105,0,1) 100%);--wp--preset--gradient--luminous-vivid-orange-to-vivid-red: linear-gradient(135deg,rgba(255,105,0,1) 0%,rgb(207,46,46) 100%);--wp--preset--gradient--very-light-gray-to-cyan-bluish-gray: linear-gradient(135deg,rgb(238,238,238) 0%,rgb(169,184,195) 100%);--wp--preset--gradient--cool-to-warm-spectrum: linear-gradient(135deg,rgb(74,234,220) 0%,rgb(151,120,209) 20%,rgb(207,42,186) 40%,rgb(238,44,130) 60%,rgb(251,105,98) 80%,rgb(254,248,76) 100%);--wp--preset--gradient--blush-light-purple: linear-gradient(135deg,rgb(255,206,236) 0%,rgb(152,150,240) 100%);--wp--preset--gradient--blush-bordeaux: linear-gradient(135deg,rgb(254,205,165) 0%,rgb(254,45,45) 50%,rgb(107,0,62) 100%);--wp--preset--gradient--luminous-dusk: linear-gradient(135deg,rgb(255,203,112) 0%,rgb(199,81,192) 50%,rgb(65,88,208) 100%);--wp--preset--gradient--pale-ocean: linear-gradient(135deg,rgb(255,245,203) 0%,rgb(182,227,212) 50%,rgb(51,167,181) 100%);--wp--preset--gradient--electric-grass: linear-gradient(135deg,rgb(202,248,128) 0%,rgb(113,206,126) 100%);--wp--preset--gradient--midnight: linear-gradient(135deg,rgb(2,3,129) 0%,rgb(40,116,252) 100%);--wp--preset--duotone--dark-grayscale: url(\\'#wp-duotone-dark-grayscale\\');--wp--preset--duotone--grayscale: url(\\'#wp-duotone-grayscale\\');--wp--preset--duotone--purple-yellow: url(\\'#wp-duotone-purple-yellow\\');--wp--preset--duotone--blue-red: url(\\'#wp-duotone-blue-red\\');--wp--preset--duotone--midnight: url(\\'#wp-duotone-midnight\\');--wp--preset--duotone--magenta-yellow: url(\\'#wp-duotone-magenta-yellow\\');--wp--preset--duotone--purple-green: url(\\'#wp-duotone-purple-green\\');--wp--preset--duotone--blue-orange: url(\\'#wp-duotone-blue-orange\\');--wp--preset--font-size--small: 13px;--wp--preset--font-size--medium: 20px;--wp--preset--font-size--large: 36px;--wp--preset--font-size--x-large: 42px;}.has-black-color{color: var(--wp--preset--color--black) !important;}.has-cyan-bluish-gray-color{color: var(--wp--preset--color--cyan-bluish-gray) !important;}.has-white-color{color: var(--wp--preset--color--white) !important;}.has-pale-pink-color{color: var(--wp--preset--color--pale-pink) !important;}.has-vivid-red-color{color: var(--wp--preset--color--vivid-red) !important;}.has-luminous-vivid-orange-color{color: var(--wp--preset--color--luminous-vivid-orange) !important;}.has-luminous-vivid-amber-color{color: var(--wp--preset--color--luminous-vivid-amber) !important;}.has-light-green-cyan-color{color: var(--wp--preset--color--light-green-cyan) !important;}.has-vivid-green-cyan-color{color: var(--wp--preset--color--vivid-green-cyan) !important;}.has-pale-cyan-blue-color{color: var(--wp--preset--color--pale-cyan-blue) !important;}.has-vivid-cyan-blue-color{color: var(--wp--preset--color--vivid-cyan-blue) !important;}.has-vivid-purple-color{color: var(--wp--preset--color--vivid-purple) !important;}.has-black-background-color{background-color: var(--wp--preset--color--black) !important;}.has-cyan-bluish-gray-background-color{background-color: var(--wp--preset--color--cyan-bluish-gray) !important;}.has-white-background-color{background-color: var(--wp--preset--color--white) !important;}.has-pale-pink-background-color{background-color: var(--wp--preset--color--pale-pink) !important;}.has-vivid-red-background-color{background-color: var(--wp--preset--color--vivid-red) !important;}.has-luminous-vivid-orange-background-color{background-color: var(--wp--preset--color--luminous-vivid-orange) !important;}.has-luminous-vivid-amber-background-color{background-color: var(--wp--preset--color--luminous-vivid-amber) !important;}.has-light-green-cyan-background-color{background-color: var(--wp--preset--color--light-green-cyan) !important;}.has-vivid-green-cyan-background-color{background-color: var(--wp--preset--color--vivid-green-cyan) !important;}.has-pale-cyan-blue-background-color{background-color: var(--wp--preset--color--pale-cyan-blue) !important;}.has-vivid-cyan-blue-background-color{background-color: var(--wp--preset--color--vivid-cyan-blue) !important;}.has-vivid-purple-background-color{background-color: var(--wp--preset--color--vivid-purple) !important;}.has-black-border-color{border-color: var(--wp--preset--color--black) !important;}.has-cyan-bluish-gray-border-color{border-color: var(--wp--preset--color--cyan-bluish-gray) !important;}.has-white-border-color{border-color: var(--wp--preset--color--white) !important;}.has-pale-pink-border-color{border-color: var(--wp--preset--color--pale-pink) !important;}.has-vivid-red-border-color{border-color: var(--wp--preset--color--vivid-red) !important;}.has-luminous-vivid-orange-border-color{border-color: var(--wp--preset--color--luminous-vivid-orange) !important;}.has-luminous-vivid-amber-border-color{border-color: var(--wp--preset--color--luminous-vivid-amber) !important;}.has-light-green-cyan-border-color{border-color: var(--wp--preset--color--light-green-cyan) !important;}.has-vivid-green-cyan-border-color{border-color: var(--wp--preset--color--vivid-green-cyan) !important;}.has-pale-cyan-blue-border-color{border-color: var(--wp--preset--color--pale-cyan-blue) !important;}.has-vivid-cyan-blue-border-color{border-color: var(--wp--preset--color--vivid-cyan-blue) !important;}.has-vivid-purple-border-color{border-color: var(--wp--preset--color--vivid-purple) !important;}.has-vivid-cyan-blue-to-vivid-purple-gradient-background{background: var(--wp--preset--gradient--vivid-cyan-blue-to-vivid-purple) !important;}.has-light-green-cyan-to-vivid-green-cyan-gradient-background{background: var(--wp--preset--gradient--light-green-cyan-to-vivid-green-cyan) !important;}.has-luminous-vivid-amber-to-luminous-vivid-orange-gradient-background{background: var(--wp--preset--gradient--luminous-vivid-amber-to-luminous-vivid-orange) !important;}.has-luminous-vivid-orange-to-vivid-red-gradient-background{background: var(--wp--preset--gradient--luminous-vivid-orange-to-vivid-red) !important;}.has-very-light-gray-to-cyan-bluish-gray-gradient-background{background: var(--wp--preset--gradient--very-light-gray-to-cyan-bluish-gray) !important;}.has-cool-to-warm-spectrum-gradient-background{background: var(--wp--preset--gradient--cool-to-warm-spectrum) !important;}.has-blush-light-purple-gradient-background{background: var(--wp--preset--gradient--blush-light-purple) !important;}.has-blush-bordeaux-gradient-background{background: var(--wp--preset--gradient--blush-bordeaux) !important;}.has-luminous-dusk-gradient-background{background: var(--wp--preset--gradient--luminous-dusk) !important;}.has-pale-ocean-gradient-background{background: var(--wp--preset--gradient--pale-ocean) !important;}.has-electric-grass-gradient-background{background: var(--wp--preset--gradient--electric-grass) !important;}.has-midnight-gradient-background{background: var(--wp--preset--gradient--midnight) !important;}.has-small-font-size{font-size: var(--wp--preset--font-size--small) !important;}.has-medium-font-size{font-size: var(--wp--preset--font-size--medium) !important;}.has-large-font-size{font-size: var(--wp--preset--font-size--large) !important;}.has-x-large-font-size{font-size: var(--wp--preset--font-size--x-large) !important;}\\n</style>\\n<link rel=\\'stylesheet\\' id=\\'contact-form-7-css\\'  href=\\'https://menuco.co/wp-content/plugins/contact-form-7/includes/css/styles.css?ver=5.4.1\\' type=\\'text/css\\' media=\\'all\\' />\\n<link rel=\\'stylesheet\\' id=\\'ihc_front_end_style-css\\'  href=\\'https://menuco.co/wp-content/plugins/indeed-membership-pro/assets/css/style.min.css?ver=1.1\\' type=\\'text/css\\' media=\\'all\\' />\\n<link rel=\\'stylesheet\\' id=\\'ihc_templates_style-css\\'  href=\\'https://menuco.co/wp-content/plugins/indeed-membership-pro/assets/css/templates.min.css?ver=1.1\\' type=\\'text/css\\' media=\\'all\\' />\\n<link rel=\\'stylesheet\\' id=\\'rs-plugin-settings-css\\'  href=\\'https://menuco.co/wp-content/plugins/revslider/public/assets/css/rs6.css?ver=6.4.11\\' type=\\'text/css\\' media=\\'all\\' />\\n<style id=\\'rs-plugin-settings-inline-css\\' type=\\'text/css\\'>\\n#rs-demo-id {}\\n</style>\\n<link rel=\\'stylesheet\\' id=\\'font-awesome-css\\'  href=\\'https://menuco.co/wp-content/themes/hub/assets/vendors/font-awesome/css/font-awesome.min.css\\' type=\\'text/css\\' media=\\'all\\' />\\n<link rel=\\'stylesheet\\' id=\\'bootstrap-css\\'  href=\\'https://menuco.co/wp-content/themes/hub/assets/vendors/bootstrap/css/bootstrap.min.css\\' type=\\'text/css\\' media=\\'all\\' />\\n<link rel=\\'stylesheet\\' id=\\'liquid-base-css\\'  href=\\'https://menuco.co/wp-content/themes/hub/style.css\\' type=\\'text/css\\' media=\\'all\\' />\\n<link rel=\\'stylesheet\\' id=\\'liquid-theme-css\\'  href=\\'https://menuco.co/wp-content/themes/hub/assets/css/theme.css\\' type=\\'text/css\\' media=\\'all\\' />\\n<link rel=\\'stylesheet\\' id=\\'theme-responsive-min-css\\'  href=\\'https://menuco.co/wp-content/themes/hub/assets/css/theme-responsive-min.min.css?ver=5.9.3\\' type=\\'text/css\\' media=\\'screen and (min-width: 1200px)\\' />\\n<link rel=\\'stylesheet\\' id=\\'theme-responsive-max-css\\'  href=\\'https://menuco.co/wp-content/themes/hub/assets/css/theme-responsive-max.min.css?ver=5.9.3\\' type=\\'text/css\\' media=\\'screen and (max-width: 1199px)\\' />\\n<link rel=\\'stylesheet\\' id=\\'js_composer_front-css\\'  href=\\'https://menuco.co/wp-content/plugins/liquid_js_composer/assets/css/js_composer.min.css?ver=6.6.0\\' type=\\'text/css\\' media=\\'all\\' />\\n<link rel=\\'stylesheet\\' id=\\'ld-gdpr-box-css\\'  href=\\'https://menuco.co/wp-content/plugins/liquid-gdpr/assets/css/liquid-gdpr.min.css?ver=5.9.3\\' type=\\'text/css\\' media=\\'all\\' />\\n<link rel=\\'stylesheet\\' id=\\'landinghub-core-css\\'  href=\\'https://menuco.co/wp-content/plugins/hub-core/assets/css/landinghub-core.min.css?ver=5.9.3\\' type=\\'text/css\\' media=\\'all\\' />\\n<script type=\\'text/javascript\\' src=\\'https://menuco.co/wp-includes/js/jquery/jquery.min.js?ver=3.6.0\\' id=\\'jquery-core-js\\'></script>\\n<script type=\\'text/javascript\\' src=\\'https://menuco.co/wp-includes/js/jquery/jquery-migrate.min.js?ver=3.3.2\\' id=\\'jquery-migrate-js\\'></script>\\n<script type=\\'text/javascript\\' id=\\'monsterinsights-frontend-script-js-extra\\'>\\n/* <![CDATA[ */\\nvar monsterinsights_frontend = {\"js_events_tracking\":\"true\",\"download_extensions\":\"doc,pdf,ppt,zip,xls,docx,pptx,xlsx\",\"inbound_paths\":\"[{\\\\\"path\\\\\":\\\\\"\\\\\\\\\\\\/go\\\\\\\\\\\\/\\\\\",\\\\\"label\\\\\":\\\\\"affiliate\\\\\"},{\\\\\"path\\\\\":\\\\\"\\\\\\\\\\\\/recommend\\\\\\\\\\\\/\\\\\",\\\\\"label\\\\\":\\\\\"affiliate\\\\\"}]\",\"home_url\":\"https:\\\\/\\\\/menuco.co\",\"hash_tracking\":\"false\",\"ua\":\"UA-179106925-1\"};\\n/* ]]> */\\n</script>\\n<script type=\\'text/javascript\\' src=\\'https://menuco.co/wp-content/plugins/google-analytics-for-wordpress/assets/js/frontend-gtag.min.js?ver=7.18.0\\' id=\\'monsterinsights-frontend-script-js\\'></script>\\n<script type=\\'text/javascript\\' src=\\'https://menuco.co/wp-content/plugins/indeed-membership-pro/assets/js/jquery-ui.min.js\\' id=\\'ihc-jquery-ui-js\\'></script>\\n<script type=\\'text/javascript\\' id=\\'ihc-front_end_js-js-extra\\'>\\n/* <![CDATA[ */\\nvar ihc_translated_labels = {\"delete_level\":\"Are you sure you want to delete this level?\",\"cancel_level\":\"Are you sure you want to cancel this level?\"};\\n/* ]]> */\\n</script>\\n<script type=\\'text/javascript\\' src=\\'https://menuco.co/wp-content/plugins/indeed-membership-pro/assets/js/functions.min.js?ver=1.3\\' id=\\'ihc-front_end_js-js\\'></script>\\n<script type=\\'text/javascript\\' id=\\'ihc-front_end_js-js-after\\'>\\nvar ihc_site_url=\\'https://menuco.co\\';\\nvar ihc_ajax_url=\\'https://menuco.co/wp-admin/admin-ajax.php\\';\\nvar ihcStripeMultiply=\\'100\\';\\n</script>\\n<script type=\\'text/javascript\\' src=\\'https://menuco.co/wp-content/plugins/revslider/public/assets/js/rbtools.min.js?ver=6.4.8\\' id=\\'tp-tools-js\\'></script>\\n<script type=\\'text/javascript\\' src=\\'https://menuco.co/wp-content/plugins/revslider/public/assets/js/rs6.min.js?ver=6.4.11\\' id=\\'revmin-js\\'></script>\\n<script type=\\'text/javascript\\' id=\\'liquid-typekit-js-before\\'>\\nvar WebFontConfig = WebFontConfig || {}; WebFontConfig[\\'typekit\\'] = { id: \\'wwc5qth\\' };\\n\\t\\t\\t\\tvar WebFontConfig = WebFontConfig || {};\\r\\n\\t\\t\\t\\tWebFontConfig[\\'events\\'] = true;\\r\\n\\t\\t\\t\\tWebFontConfig[\\'timeout\\'] = 5000;\\r\\n\\t\\t\\t\\tWebFontConfig[\\'active\\'] = function() {\\r\\n\\t\\t\\t\\t\\tif ( typeof ( window.jQuery ) !== \\'undefined\\' ) {\\r\\n\\t\\t\\t\\t\\t\\tjQuery(window).trigger(\\'liquid_async_fonts_active\\');\\r\\n\\t\\t\\t\\t\\t}\\r\\n\\t\\t\\t\\t};\\r\\n\\t\\t\\t\\tWebFontConfig[\\'inactive\\'] = function() {\\r\\n\\t\\t\\t\\t\\tif ( typeof ( window.jQuery ) !== \\'undefined\\' ) {\\r\\n\\t\\t\\t\\t\\t\\tjQuery(window).trigger(\\'liquid_async_fonts_inactive\\');\\r\\n\\t\\t\\t\\t\\t}\\r\\n\\t\\t\\t\\t};\\r\\n\\r\\n\\t\\t\\t\\t(function(d) {\\r\\n\\t\\t\\t\\t\\tvar wf = d.createElement(\\'script\\'), s = d.scripts[0];\\r\\n\\t\\t\\t\\t\\twf.src = \\'https://ajax.googleapis.com/ajax/libs/webfont/1.6.16/webfont.js\\';\\r\\n\\t\\t\\t\\t\\ts.parentNode.insertBefore(wf, s);\\r\\n\\t\\t\\t\\t})(document);\\r\\n\\t\\t\\t\\n</script>\\n<script type=\\'text/javascript\\' src=\\'https://menuco.co/wp-content/plugins/hub-core/extensions/redux-typekit/liquid-typekit.js?ver=5.9.3\\' id=\\'liquid-typekit-js\\'></script>\\n<link rel=\"https://api.w.org/\" href=\"https://menuco.co/wp-json/\" /><link rel=\"alternate\" type=\"application/json\" href=\"https://menuco.co/wp-json/wp/v2/pages/17662\" /><link rel=\"EditURI\" type=\"application/rsd+xml\" title=\"RSD\" href=\"https://menuco.co/xmlrpc.php?rsd\" />\\n<link rel=\"wlwmanifest\" type=\"application/wlwmanifest+xml\" href=\"https://menuco.co/wp-includes/wlwmanifest.xml\" /> \\n<meta name=\"generator\" content=\"WordPress 5.9.3\" />\\n<link rel=\\'shortlink\\' href=\\'https://menuco.co/\\' />\\n<link rel=\"alternate\" type=\"application/json+oembed\" href=\"https://menuco.co/wp-json/oembed/1.0/embed?url=https%3A%2F%2Fmenuco.co%2F\" />\\n<link rel=\"alternate\" type=\"text/xml+oembed\" href=\"https://menuco.co/wp-json/oembed/1.0/embed?url=https%3A%2F%2Fmenuco.co%2F&#038;format=xml\" />\\n<meta name=\\'ump-token\\' content=\\'e54c1527ec\\'>\\t<link rel=\"shortcut icon\" href=\"https://menuco.co/wp-content/uploads/2021/07/Menuco_Logo-1-2-1-1.png\" />\\r\\n\\t<script type=\"text/javascript\">\\r\\n\\t\\t\\t\\twindow.liquidParams = {\\r\\n\\t\\t\\t\\t\\tcurrentZIndex: 10\\r\\n\\t\\t\\t\\t}\\r\\n\\t\\t\\t</script><style type=\"text/css\">.recentcomments a{display:inline !important;padding:0 !important;margin:0 !important;}</style><meta name=\"generator\" content=\"Powered by WPBakery Page Builder - drag and drop page builder for WordPress.\"/>\\n<meta name=\"generator\" content=\"Powered by Slider Revolution 6.4.11 - responsive, Mobile-Friendly Slider Plugin for WordPress with comfortable drag and drop interface.\" />\\n<script type=\"text/javascript\">function setREVStartSize(e){\\r\\n\\t\\t\\t//window.requestAnimationFrame(function() {\\t\\t\\t\\t \\r\\n\\t\\t\\t\\twindow.RSIW = window.RSIW===undefined ? window.innerWidth : window.RSIW;\\t\\r\\n\\t\\t\\t\\twindow.RSIH = window.RSIH===undefined ? window.innerHeight : window.RSIH;\\t\\r\\n\\t\\t\\t\\ttry {\\t\\t\\t\\t\\t\\t\\t\\t\\r\\n\\t\\t\\t\\t\\tvar pw = document.getElementById(e.c).parentNode.offsetWidth,\\r\\n\\t\\t\\t\\t\\t\\tnewh;\\r\\n\\t\\t\\t\\t\\tpw = pw===0 || isNaN(pw) ? window.RSIW : pw;\\r\\n\\t\\t\\t\\t\\te.tabw = e.tabw===undefined ? 0 : parseInt(e.tabw);\\r\\n\\t\\t\\t\\t\\te.thumbw = e.thumbw===undefined ? 0 : parseInt(e.thumbw);\\r\\n\\t\\t\\t\\t\\te.tabh = e.tabh===undefined ? 0 : parseInt(e.tabh);\\r\\n\\t\\t\\t\\t\\te.thumbh = e.thumbh===undefined ? 0 : parseInt(e.thumbh);\\r\\n\\t\\t\\t\\t\\te.tabhide = e.tabhide===undefined ? 0 : parseInt(e.tabhide);\\r\\n\\t\\t\\t\\t\\te.thumbhide = e.thumbhide===undefined ? 0 : parseInt(e.thumbhide);\\r\\n\\t\\t\\t\\t\\te.mh = e.mh===undefined || e.mh==\"\" || e.mh===\"auto\" ? 0 : parseInt(e.mh,0);\\t\\t\\r\\n\\t\\t\\t\\t\\tif(e.layout===\"fullscreen\" || e.l===\"fullscreen\") \\t\\t\\t\\t\\t\\t\\r\\n\\t\\t\\t\\t\\t\\tnewh = Math.max(e.mh,window.RSIH);\\t\\t\\t\\t\\t\\r\\n\\t\\t\\t\\t\\telse{\\t\\t\\t\\t\\t\\r\\n\\t\\t\\t\\t\\t\\te.gw = Array.isArray(e.gw) ? e.gw : [e.gw];\\r\\n\\t\\t\\t\\t\\t\\tfor (var i in e.rl) if (e.gw[i]===undefined || e.gw[i]===0) e.gw[i] = e.gw[i-1];\\t\\t\\t\\t\\t\\r\\n\\t\\t\\t\\t\\t\\te.gh = e.el===undefined || e.el===\"\" || (Array.isArray(e.el) && e.el.length==0)? e.gh : e.el;\\r\\n\\t\\t\\t\\t\\t\\te.gh = Array.isArray(e.gh) ? e.gh : [e.gh];\\r\\n\\t\\t\\t\\t\\t\\tfor (var i in e.rl) if (e.gh[i]===undefined || e.gh[i]===0) e.gh[i] = e.gh[i-1];\\r\\n\\t\\t\\t\\t\\t\\t\\t\\t\\t\\t\\t\\r\\n\\t\\t\\t\\t\\t\\tvar nl = new Array(e.rl.length),\\r\\n\\t\\t\\t\\t\\t\\t\\tix = 0,\\t\\t\\t\\t\\t\\t\\r\\n\\t\\t\\t\\t\\t\\t\\tsl;\\t\\t\\t\\t\\t\\r\\n\\t\\t\\t\\t\\t\\te.tabw = e.tabhide>=pw ? 0 : e.tabw;\\r\\n\\t\\t\\t\\t\\t\\te.thumbw = e.thumbhide>=pw ? 0 : e.thumbw;\\r\\n\\t\\t\\t\\t\\t\\te.tabh = e.tabhide>=pw ? 0 : e.tabh;\\r\\n\\t\\t\\t\\t\\t\\te.thumbh = e.thumbhide>=pw ? 0 : e.thumbh;\\t\\t\\t\\t\\t\\r\\n\\t\\t\\t\\t\\t\\tfor (var i in e.rl) nl[i] = e.rl[i]<window.RSIW ? 0 : e.rl[i];\\r\\n\\t\\t\\t\\t\\t\\tsl = nl[0];\\t\\t\\t\\t\\t\\t\\t\\t\\t\\r\\n\\t\\t\\t\\t\\t\\tfor (var i in nl) if (sl>nl[i] && nl[i]>0) { sl = nl[i]; ix=i;}\\t\\t\\t\\t\\t\\t\\t\\t\\t\\t\\t\\t\\t\\t\\t\\r\\n\\t\\t\\t\\t\\t\\tvar m = pw>(e.gw[ix]+e.tabw+e.thumbw) ? 1 : (pw-(e.tabw+e.thumbw)) / (e.gw[ix]);\\t\\t\\t\\t\\t\\r\\n\\t\\t\\t\\t\\t\\tnewh =  (e.gh[ix] * m) + (e.tabh + e.thumbh);\\r\\n\\t\\t\\t\\t\\t}\\t\\t\\t\\t\\r\\n\\t\\t\\t\\t\\tif(window.rs_init_css===undefined) window.rs_init_css = document.head.appendChild(document.createElement(\"style\"));\\t\\t\\t\\t\\t\\r\\n\\t\\t\\t\\t\\tdocument.getElementById(e.c).height = newh+\"px\";\\r\\n\\t\\t\\t\\t\\twindow.rs_init_css.innerHTML += \"#\"+e.c+\"_wrapper { height: \"+newh+\"px }\";\\t\\t\\t\\t\\r\\n\\t\\t\\t\\t} catch(e){\\r\\n\\t\\t\\t\\t\\tconsole.log(\"Failure at Presize of Slider:\" + e)\\r\\n\\t\\t\\t\\t}\\t\\t\\t\\t\\t   \\r\\n\\t\\t\\t//});\\r\\n\\t\\t  };</script>\\n\\t\\t<style type=\"text/css\" id=\"wp-custom-css\">\\n\\t\\t\\t.wp-block-buttons .wp-block-button__link {\\n    display: none;\\n}\\t\\t</style>\\n\\t\\t<style id=\\'liquid-stylesheet-inline-css\\' type=\\'text/css\\'>:root{--color-primary:#f7274d;--color-gradient-start:#f85976;--color-gradient-stop:#f85976;--lqd-cc-active-bw:1px;--lqd-cc-active-bg:rgb(0, 0, 0);--lqd-cc-active-bc:rgb(0, 0, 0);--lqd-cc-active-circle-txt:rgb(0, 0, 0);}body{font-family:\\'sofia-pro\\', sans-serif ;line-height:1.6em;font-size:15px;color:#595b74;}.btn{font-family:inherit;font-weight:700;text-transform:uppercase;line-height:12px;letter-spacing:0.09em;font-size:12px;}.lqd-post-content, .lqd-post-header .entry-excerpt{font-family:inherit;line-height:1.73em;font-size:19px;}.h1,h1{font-family:\\'sofia-pro\\', sans-serif ;font-weight:700;line-height:1.2em;font-size:46px;color:#0d177b;}.h2,h2{font-family:\\'sofia-pro\\', sans-serif ;font-weight:700;line-height:1.395em;font-size:43px;color:#0d177b;}.h3,h3{font-family:\\'sofia-pro\\', sans-serif ;font-weight:700;line-height:1.2em;font-size:32px;color:#0d177b;}.h4,h4{font-family:\\'sofia-pro\\', sans-serif ;font-weight:700;line-height:1.5em;font-size:20px;color:#0d177b;}.h5,h5{font-family:\\'sofia-pro\\', sans-serif ;font-weight:400;line-height:1.5em;font-size:18px;color:#0d177b;}.h6,h6{font-family:\\'sofia-pro\\', sans-serif ;font-weight:700;line-height:1.5em;letter-spacing:0.09em;font-size:12px;text-transform:uppercase;color:#f85976;}.titlebar-inner h1{color:#0d177b !important;}.titlebar-inner p{color:#595b74 !important;}.titlebar-inner{padding-top:5px;padding-bottom:5px;}.titlebar{background-color:#ffffff;background:linear-gradient(180deg, rgb(241, 253, 255) 2.229299363057325%, rgb(255, 255, 255) 100%);}#lqd-site-content{background-image:url( https://seohub.liquid-themes.com/staging/wp-content/uploads/2020/01/bg-11.svg);background-repeat:repeat;background-position:center center;}@media screen and (min-width: 992px){body.has-sidebar #lqd-contents-wrap{padding-top:25px;}}@media ( min-width: 1200px ){.is-stuck .lqd-head-sec-wrap{background:rgba(255, 255, 255, 0.95) !important;}.is-stuck .lqd-head-col > .header-module > p, .is-stuck .lqd-head-col > .header-module .nav-trigger, .is-stuck .lqd-head-col > .header-module .lqd-scrl-indc, .is-stuck .lqd-head-col > .header-module > .lqd-custom-menu, .is-stuck .lqd-head-col > .header-module > .btn-naked, .is-stuck .lqd-head-col > .header-module > .btn-underlined, .is-stuck .lqd-head-col > .header-module > .social-icon li a, .is-stuck .lqd-head-col > .header-module > .lqd-custom-menu > ul > li > a, .is-stuck .lqd-head-col > .header-module > .navbar-collapse .main-nav > li > a, .is-stuck .lqd-head-col > .header-module .ld-module-trigger .ld-module-trigger-txt, .is-stuck .lqd-head-col > .header-module .lqd-module-badge-outline .ld-module-trigger-count, .is-stuck .lqd-head-col > .header-module .ld-module-trigger-icon, .is-stuck .lqd-head-col > .header-module > .lqd-custom-menu .lqd-custom-menu-dropdown-btn{color:rgb(51, 51, 51);}.is-stuck .lqd-head-col > .header-module .nav-trigger.bordered .bars:before{border-color:rgb(51, 51, 51);}.is-stuck .lqd-head-col > .header-module .nav-trigger .bar, .is-stuck .lqd-head-col > .header-module .lqd-scrl-indc .lqd-scrl-indc-line{background:rgb(51, 51, 51);}.is-stuck .lqd-head-col > .header-module > .btn-naked:hover, .is-stuck .lqd-head-col > .header-module > .btn-underlined:hover, .is-stuck .lqd-head-col > .header-module > .social-icon li a:hover, .is-stuck .lqd-head-col > .header-module > .lqd-custom-menu > ul > li > a:hover, .is-stuck .lqd-head-col > .header-module > .navbar-collapse .main-nav > li > a:hover, .is-stuck .lqd-head-col > .header-module > .navbar-collapse .main-nav > li:hover > a, .is-stuck .lqd-head-col > .header-module > .navbar-collapse .main-nav > li.is-active > a, .is-stuck .lqd-head-col > .header-module > .navbar-collapse .main-nav > li.current-menu-ancestor > a, .is-stuck .lqd-head-col > .header-module > .navbar-collapse .main-nav > li.current_page_item > a, .is-stuck .lqd-head-col > .header-module > .navbar-collapse .main-nav > li.current-menu-item > a, .is-stuck .lqd-head-col > .header-module > .iconbox h3, .is-stuck .lqd-head-col > .header-module > .iconbox .iconbox-icon-container{color:rgb(0, 0, 0);}}@media screen and (max-width: 1199px){.main-header .navbar-header{background:rgb(232, 238, 243);}}@media screen and (min-width: 1200px) {\\r\\n.is-stuck {\\r\\n    box-shadow: -2px 3px 80px 0px rgba(33, 0, 134, 0.12);\\r\\n} }</style><style type=\"text/css\" data-type=\"vc_shortcodes-custom-css\">.vc_custom_1626611064909{padding-bottom: 60px !important;}.vc_custom_1611579550402{padding-bottom: 60px !important;}.vc_custom_1626617194110{margin-right: 20px !important;margin-left: 20px !important;padding-top: 60px !important;padding-bottom: 40px !important;background-position: 0 0;background-repeat: no-repeat !important;border-radius: 10px !important;}.vc_custom_1612951381107{padding-top: 60px !important;padding-bottom: 40px !important;}.vc_custom_1605610071158{padding-top: 60px !important;padding-bottom: 70px !important;}.vc_custom_1626613908607{padding-top: 60px !important;padding-bottom: 60px !important;}.vc_custom_1626613927965{margin-right: 20px !important;margin-left: 20px !important;padding-top: 60px !important;padding-bottom: 60px !important;background-position: center !important;background-repeat: no-repeat !important;background-size: cover !important;border-radius: 10px !important;}.vc_custom_1626615934412{padding-top: 60px !important;padding-bottom: 40px !important;}.vc_custom_1626537992187{padding-bottom: 50px !important;}.vc_custom_1626617271784{padding-bottom: 60px !important;}.vc_custom_1577714262716{margin-top: 20px !important;}.vc_custom_1627159793044{margin-bottom: 30px !important;}.vc_custom_1612951351272{margin-bottom: 15px !important;}.vc_custom_1605983335270{margin-bottom: 65px !important;}.vc_custom_1577868995137{margin-bottom: 40px !important;}.vc_custom_1605983239537{padding-right: 10px !important;padding-left: 10px !important;}.vc_custom_1612951351272{margin-bottom: 15px !important;}.vc_custom_1612951397960{padding-top: 45px !important;padding-right: 10px !important;padding-bottom: 15px !important;padding-left: 10px !important;border-radius: 10px !important;}.vc_custom_1612951407262{padding-top: 45px !important;padding-right: 10px !important;padding-bottom: 15px !important;padding-left: 10px !important;border-radius: 10px !important;}.vc_custom_1612951419457{padding-top: 45px !important;padding-right: 10px !important;padding-bottom: 15px !important;padding-left: 10px !important;border-radius: 10px !important;}.vc_custom_1626425902761{margin-top: 25px !important;}.vc_custom_1626426384448{margin-top: 25px !important;}.vc_custom_1577783882845{margin-bottom: 40px !important;}.vc_custom_1577874026644{margin-bottom: 35px !important;}.vc_custom_1577874034752{margin-bottom: 35px !important;}.vc_custom_1577874096799{margin-bottom: 30px !important;}</style><noscript><style> .wpb_animate_when_almost_visible { opacity: 1; }</style></noscript><style type=\"text/css\" data-type=\"vc_shortcodes-custom-css\">.vc_custom_1577693080114{padding-right: 50px !important;padding-left: 50px !important;}.vc_custom_1627068550766{padding-right: 0.3em !important;padding-left: 0.3em !important;}.vc_custom_1626878354995{padding-right: 0.3em !important;padding-left: 0.3em !important;}</style><style type=\"text/css\" data-type=\"vc_shortcodes-custom-css\">.vc_custom_1626610238991{margin-top: 30px !important;}.vc_custom_1577874368151{margin-top: 30px !important;}</style>\\r\\n</head>\\r\\n\\r\\n<body class=\"home page-template-default page page-id-17662 wp-embed-responsive lqd-pf-single lqd-pf-single-style-1 lqd-preloader-activated lqd-page-not-loaded lqd-preloader-style-fade site-wide-layout lazyload-enabled wpb-js-composer js-comp-ver-6.6.0 vc_responsive\" dir=\"ltr\" itemscope=\"itemscope\" itemtype=\"http://schema.org/WebPage\" data-mobile-nav-breakpoint=\"1199\" data-mobile-nav-style=\"minimal\" data-mobile-nav-scheme=\"gray\" data-mobile-nav-trigger-alignment=\"right\" data-mobile-header-scheme=\"custom\" data-mobile-logo-alignment=\"default\" data-mobile-nav-align=\"right\" data-overlay-onmobile=\"false\" data-lqd-cc=\"true\">\\r\\n\\t\\r\\n\\t<svg xmlns=\"http://www.w3.org/2000/svg\" viewBox=\"0 0 0 0\" width=\"0\" height=\"0\" focusable=\"false\" role=\"none\" style=\"visibility: hidden; position: absolute; left: -9999px; overflow: hidden;\" ><defs><filter id=\"wp-duotone-dark-grayscale\"><feColorMatrix color-interpolation-filters=\"sRGB\" type=\"matrix\" values=\" .299 .587 .114 0 0 .299 .587 .114 0 0 .299 .587 .114 0 0 .299 .587 .114 0 0 \" /><feComponentTransfer color-interpolation-filters=\"sRGB\" ><feFuncR type=\"table\" tableValues=\"0 0.49803921568627\" /><feFuncG type=\"table\" tableValues=\"0 0.49803921568627\" /><feFuncB type=\"table\" tableValues=\"0 0.49803921568627\" /><feFuncA type=\"table\" tableValues=\"1 1\" /></feComponentTransfer><feComposite in2=\"SourceGraphic\" operator=\"in\" /></filter></defs></svg><svg xmlns=\"http://www.w3.org/2000/svg\" viewBox=\"0 0 0 0\" width=\"0\" height=\"0\" focusable=\"false\" role=\"none\" style=\"visibility: hidden; position: absolute; left: -9999px; overflow: hidden;\" ><defs><filter id=\"wp-duotone-grayscale\"><feColorMatrix color-interpolation-filters=\"sRGB\" type=\"matrix\" values=\" .299 .587 .114 0 0 .299 .587 .114 0 0 .299 .587 .114 0 0 .299 .587 .114 0 0 \" /><feComponentTransfer color-interpolation-filters=\"sRGB\" ><feFuncR type=\"table\" tableValues=\"0 1\" /><feFuncG type=\"table\" tableValues=\"0 1\" /><feFuncB type=\"table\" tableValues=\"0 1\" /><feFuncA type=\"table\" tableValues=\"1 1\" /></feComponentTransfer><feComposite in2=\"SourceGraphic\" operator=\"in\" /></filter></defs></svg><svg xmlns=\"http://www.w3.org/2000/svg\" viewBox=\"0 0 0 0\" width=\"0\" height=\"0\" focusable=\"false\" role=\"none\" style=\"visibility: hidden; position: absolute; left: -9999px; overflow: hidden;\" ><defs><filter id=\"wp-duotone-purple-yellow\"><feColorMatrix color-interpolation-filters=\"sRGB\" type=\"matrix\" values=\" .299 .587 .114 0 0 .299 .587 .114 0 0 .299 .587 .114 0 0 .299 .587 .114 0 0 \" /><feComponentTransfer color-interpolation-filters=\"sRGB\" ><feFuncR type=\"table\" tableValues=\"0.54901960784314 0.98823529411765\" /><feFuncG type=\"table\" tableValues=\"0 1\" /><feFuncB type=\"table\" tableValues=\"0.71764705882353 0.25490196078431\" /><feFuncA type=\"table\" tableValues=\"1 1\" /></feComponentTransfer><feComposite in2=\"SourceGraphic\" operator=\"in\" /></filter></defs></svg><svg xmlns=\"http://www.w3.org/2000/svg\" viewBox=\"0 0 0 0\" width=\"0\" height=\"0\" focusable=\"false\" role=\"none\" style=\"visibility: hidden; position: absolute; left: -9999px; overflow: hidden;\" ><defs><filter id=\"wp-duotone-blue-red\"><feColorMatrix color-interpolation-filters=\"sRGB\" type=\"matrix\" values=\" .299 .587 .114 0 0 .299 .587 .114 0 0 .299 .587 .114 0 0 .299 .587 .114 0 0 \" /><feComponentTransfer color-interpolation-filters=\"sRGB\" ><feFuncR type=\"table\" tableValues=\"0 1\" /><feFuncG type=\"table\" tableValues=\"0 0.27843137254902\" /><feFuncB type=\"table\" tableValues=\"0.5921568627451 0.27843137254902\" /><feFuncA type=\"table\" tableValues=\"1 1\" /></feComponentTransfer><feComposite in2=\"SourceGraphic\" operator=\"in\" /></filter></defs></svg><svg xmlns=\"http://www.w3.org/2000/svg\" viewBox=\"0 0 0 0\" width=\"0\" height=\"0\" focusable=\"false\" role=\"none\" style=\"visibility: hidden; position: absolute; left: -9999px; overflow: hidden;\" ><defs><filter id=\"wp-duotone-midnight\"><feColorMatrix color-interpolation-filters=\"sRGB\" type=\"matrix\" values=\" .299 .587 .114 0 0 .299 .587 .114 0 0 .299 .587 .114 0 0 .299 .587 .114 0 0 \" /><feComponentTransfer color-interpolation-filters=\"sRGB\" ><feFuncR type=\"table\" tableValues=\"0 0\" /><feFuncG type=\"table\" tableValues=\"0 0.64705882352941\" /><feFuncB type=\"table\" tableValues=\"0 1\" /><feFuncA type=\"table\" tableValues=\"1 1\" /></feComponentTransfer><feComposite in2=\"SourceGraphic\" operator=\"in\" /></filter></defs></svg><svg xmlns=\"http://www.w3.org/2000/svg\" viewBox=\"0 0 0 0\" width=\"0\" height=\"0\" focusable=\"false\" role=\"none\" style=\"visibility: hidden; position: absolute; left: -9999px; overflow: hidden;\" ><defs><filter id=\"wp-duotone-magenta-yellow\"><feColorMatrix color-interpolation-filters=\"sRGB\" type=\"matrix\" values=\" .299 .587 .114 0 0 .299 .587 .114 0 0 .299 .587 .114 0 0 .299 .587 .114 0 0 \" /><feComponentTransfer color-interpolation-filters=\"sRGB\" ><feFuncR type=\"table\" tableValues=\"0.78039215686275 1\" /><feFuncG type=\"table\" tableValues=\"0 0.94901960784314\" /><feFuncB type=\"table\" tableValues=\"0.35294117647059 0.47058823529412\" /><feFuncA type=\"table\" tableValues=\"1 1\" /></feComponentTransfer><feComposite in2=\"SourceGraphic\" operator=\"in\" /></filter></defs></svg><svg xmlns=\"http://www.w3.org/2000/svg\" viewBox=\"0 0 0 0\" width=\"0\" height=\"0\" focusable=\"false\" role=\"none\" style=\"visibility: hidden; position: absolute; left: -9999px; overflow: hidden;\" ><defs><filter id=\"wp-duotone-purple-green\"><feColorMatrix color-interpolation-filters=\"sRGB\" type=\"matrix\" values=\" .299 .587 .114 0 0 .299 .587 .114 0 0 .299 .587 .114 0 0 .299 .587 .114 0 0 \" /><feComponentTransfer color-interpolation-filters=\"sRGB\" ><feFuncR type=\"table\" tableValues=\"0.65098039215686 0.40392156862745\" /><feFuncG type=\"table\" tableValues=\"0 1\" /><feFuncB type=\"table\" tableValues=\"0.44705882352941 0.4\" /><feFuncA type=\"table\" tableValues=\"1 1\" /></feComponentTransfer><feComposite in2=\"SourceGraphic\" operator=\"in\" /></filter></defs></svg><svg xmlns=\"http://www.w3.org/2000/svg\" viewBox=\"0 0 0 0\" width=\"0\" height=\"0\" focusable=\"false\" role=\"none\" style=\"visibility: hidden; position: absolute; left: -9999px; overflow: hidden;\" ><defs><filter id=\"wp-duotone-blue-orange\"><feColorMatrix color-interpolation-filters=\"sRGB\" type=\"matrix\" values=\" .299 .587 .114 0 0 .299 .587 .114 0 0 .299 .587 .114 0 0 .299 .587 .114 0 0 \" /><feComponentTransfer color-interpolation-filters=\"sRGB\" ><feFuncR type=\"table\" tableValues=\"0.098039215686275 1\" /><feFuncG type=\"table\" tableValues=\"0 0.66274509803922\" /><feFuncB type=\"table\" tableValues=\"0.84705882352941 0.41960784313725\" /><feFuncA type=\"table\" tableValues=\"1 1\" /></feComponentTransfer><feComposite in2=\"SourceGraphic\" operator=\"in\" /></filter></defs></svg>\\r\\n\\t<section><h2 class=\"screen-reader-text\">Skip links</h2><ul class=\"liquid-skip-link screen-reader-text\"><li><a href=\"#primary\" class=\"screen-reader-shortcut\"> Skip to primary navigation</a></li><li><a href=\"#content\" class=\"screen-reader-shortcut\"> Skip to content</a></li></ul></section>\\n<div class=\"lqd-cc-wrap\">\\r\\n\\t\\t\\t\\t\\t<div class=\"lqd-cc lqd-cc--inner\">\\r\\n\\t\\t\\t\\t\\t\\t<span class=\"lqd-cc-solid-bg\"></span>\\r\\n\\t\\t\\t\\t\\t\\t<div class=\"lqd-cc-solid lqd-cc-explore\">\\r\\n\\t\\t\\t\\t\\t\\t\\t<div class=\"lqd-cc-solid-inner\">\\r\\n\\t\\t\\t\\t\\t\\t\\t\\t<span class=\"lqd-cc-solid-txt d-flex overflow-hidden justify-content-center text-center\">\\r\\n\\t\\t\\t\\t\\t\\t\\t\\t\\t<span class=\"d-flex\">Explore</span>\\r\\n\\t\\t\\t\\t\\t\\t\\t\\t</span>\\r\\n\\t\\t\\t\\t\\t\\t\\t</div><!-- /.lqd-cc-solid-inner -->\\r\\n\\t\\t\\t\\t\\t\\t</div><!-- /.lqd-css-explore -->\\r\\n\\t\\t\\t\\t\\t\\t<div class=\"lqd-cc-solid lqd-cc-drag\">\\r\\n\\t\\t\\t\\t\\t\\t\\t<div class=\"lqd-cc-solid-inner\">\\r\\n\\t\\t\\t\\t\\t\\t\\t\\t<span class=\"lqd-cc-solid-ext lqd-cc-solid-ext-left\">\\r\\n\\t\\t\\t\\t\\t\\t\\t\\t\\t<i class=\"lqd-icn-ess icon-ion-caret-back\"></i>\\r\\n\\t\\t\\t\\t\\t\\t\\t\\t</span>\\r\\n\\t\\t\\t\\t\\t\\t\\t\\t<span class=\"lqd-cc-solid-txt d-flex overflow-hidden justify-content-center text-center\">\\r\\n\\t\\t\\t\\t\\t\\t\\t\\t\\t<span class=\"d-flex\">Drag</span>\\r\\n\\t\\t\\t\\t\\t\\t\\t\\t</span>\\r\\n\\t\\t\\t\\t\\t\\t\\t\\t<span class=\"lqd-cc-solid-ext lqd-cc-solid-ext-right\">\\r\\n\\t\\t\\t\\t\\t\\t\\t\\t\\t<i class=\"lqd-icn-ess icon-ion-caret-forward\"></i>\\r\\n\\t\\t\\t\\t\\t\\t\\t\\t</span>\\r\\n\\t\\t\\t\\t\\t\\t\\t</div><!-- /.lqd-cc-solid-inner -->\\r\\n\\t\\t\\t\\t\\t\\t</div><!-- /.lqd-cc-solid -->\\r\\n\\t\\t\\t\\t\\t\\t<div class=\"lqd-cc-arrow\">\\r\\n\\t\\t\\t\\t\\t\\t\\t<svg width=\"80\" height=\"80\" viewBox=\"0 0 80 80\" fill=\"none\" xmlns=\"http://www.w3.org/2000/svg\">\\r\\n\\t\\t\\t\\t\\t\\t\\t\\t<path d=\"M60.4993 0V4.77005H8.87285L80 75.9207L75.7886 79.1419L4.98796 8.35478V60.4993H0V0H60.4993Z\"/>\\r\\n\\t\\t\\t\\t\\t\\t\\t</svg>\\r\\n\\t\\t\\t\\t\\t\\t</div><!-- /.lqd-cc-arrow -->\\r\\n\\t\\t\\t\\t\\t\\t<div class=\"lqd-cc-custom-icon\">\\r\\n\\t\\t\\t\\t\\t\\t\\t<span class=\"lqd-cc-ci\">\\r\\n\\t\\t\\t\\t\\t\\t\\t\\t<i class=\"lqd-icn-ess icon-ion-ios-add\"></i>\\r\\n\\t\\t\\t\\t\\t\\t\\t</span>\\r\\n\\t\\t\\t\\t\\t\\t</div><!-- /.lqd-cc-custom-icon -->\\r\\n\\t\\t\\t\\t\\t</div>\\r\\n\\t\\t\\t\\t\\t<div class=\"lqd-cc lqd-cc--outer\"></div>\\r\\n\\t\\t\\t\\t</div><!-- /.lqd-cc-wrap --><div class=\"lqd-preloader-wrap lqd-preloader-fade\" data-preloader-options=\\'{ \"animationType\": \"fade\" }\\'>\\r\\n\\t<div class=\"lqd-preloader-inner\">\\r\\n\\t</div><!-- /.lqd-preloader-inner -->\\r\\n</div><!-- /.lqd-preloader-wrap -->\\r\\n\\t<div id=\"wrap\">\\r\\n\\r\\n\\t\\t<header class=\"header site-header main-header main-header-overlay  \" data-megamenu-slide=\"true\" data-sticky-header=\"true\" data-sticky-values-measured=\"false\" data-sticky-options=\"{&quot;disableOnMobile&quot;:true}\" id=\"header\" itemscope=\"itemscope\" itemtype=\"http://schema.org/WPHeader\">\\r\\n    \\r\\n    <div  class=\"lqd-head-sec-wrap pos-rel    vc_custom_1577693080114 \" style=\"\">\\r\\n\\t\\t\\t\\t\\t\\t<div class=\"lqd-head-sec container-fluid d-flex align-items-stretch\"><div  class=\"col-auto lqd-head-col  \" ><style>.ld_header_image_6265270cd232b{padding-top:35px;padding-inline-end:45px;padding-bottom:35px;}.is-stuck .ld_header_image_6265270cd232b{padding-inline-end:45px;}</style>\\r\\n<div id=\"ld_header_image_6265270cd232b\" class=\"header-module module-logo no-rotate navbar-brand-plain ld_header_image_6265270cd232b\">\\r\\n\\r\\n\\t<a class=\"navbar-brand\" href=\"https://menuco.co/\" rel=\"home\"><span class=\"navbar-brand-inner\">    <img class=\"logo-default\" src=\"https://menuco.co/wp-content/uploads/2021/07/Menuco_Logo-1-2-1-1.png\" alt=\"Menuco Ana\"  /></span></a>\\t\\t\\r\\n</div><!-- /.navbar-header --></div><div  class=\"col lqd-head-col  \" ><style>.ld_header_menu_6265270cd3956 > li > a{font-size:15px;font-weight:500;}.ld_header_menu_6265270cd3956 > li > a, .navbar-fullscreen .ld_header_menu_6265270cd3956 > li > a{color:rgb(13, 23, 123);}.ld_header_menu_6265270cd3956 > li:hover > a, .navbar-fullscreen .ld_header_menu_6265270cd3956 > li > a:hover{color:rgba(13, 23, 123, 0.65);}.ld_header_menu_6265270cd3956 > li.is-active > a, .ld_header_menu_6265270cd3956 > li.current_page_item > a, .ld_header_menu_6265270cd3956 > li.current-menu-item > a, .ld_header_menu_6265270cd3956 > li.current-menu-ancestor > a, .navbar-fullscreen .ld_header_menu_6265270cd3956 > li.is-active > a, .navbar-fullscreen .ld_header_menu_6265270cd3956 > li.current_page_item > a, .navbar-fullscreen .ld_header_menu_6265270cd3956 > li.current-menu-item > a, .navbar-fullscreen .ld_header_menu_6265270cd3956 > li.current-menu-ancestor > a{color:rgba(13, 23, 123, 0.65);}</style><div class=\"header-module module-primary-nav pos-stc\">\\r\\n\\t<div class=\"collapse navbar-collapse lqd-submenu-cover  \" id=\"main-header-collapse\" aria-expanded=\"false\" role=\"navigation\">\\r\\n\\t<ul id=\"primary-nav\" class=\"main-nav lqd-menu-counter-right ld_header_menu_6265270cd3956 main-nav-hover-default nav align-items-lg-stretch justify-content-lg-default-align\" data-submenu-options=\\'{\"toggleType\":\"fade\",\"handler\":\"mouse-in-out\"}\\' ><li id=\"menu-item-17954\" class=\"menu-item menu-item-type-post_type menu-item-object-page menu-item-home current-menu-item page_item page-item-17662 current_page_item menu-item-17954\"><a href=\"https://menuco.co/\" aria-current=\"page\">Home Page</a></li>\\n<li id=\"menu-item-17992\" class=\"menu-item menu-item-type-custom menu-item-object-custom menu-item-17992\"><a href=\"https://menuco.co/subscription-plan\">Price List</a></li>\\n<li id=\"menu-item-17993\" class=\"menu-item menu-item-type-custom menu-item-object-custom menu-item-17993\"><a href=\"https://menuco.co/contact\">Contact</a></li>\\n</ul>\\t</div><!-- /.navbar-collapse -->\\r\\n</div><!-- /.header-module --></div><div  class=\"col-auto lqd-head-col   text-right text-lg-right\" ><style>.is-stuck .lqd-head-col > .header-module > .ld_header_button_6265270cd6a9d{color:rgb(15, 15, 123);border-color:rgb(15, 15, 123);}.is-stuck .lqd-head-col > .header-module > .ld_header_button_6265270cd6a9d.btn-solid{background-color:rgb(15, 15, 123);}.is-stuck .lqd-head-col > .header-module > .ld_header_button_6265270cd6a9d:hover{border-color:rgb(15, 15, 123);color:rgb(255, 255, 255);}.is-stuck .lqd-head-col > .header-module > .ld_header_button_6265270cd6a9d:hover, .is-stuck .lqd-head-col > .header-module > .ld_header_button_6265270cd6a9d.btn-solid:hover{background-color:rgb(15, 15, 123);}</style><div class=\"header-module module-button\">\\r\\n\\t<style>.ld_button_6265270cd9cde.btn-icon-solid .btn-icon{background:rgb(15, 15, 123);}.ld_button_6265270cd9cde.btn-icon-circle.btn-icon-ripple .btn-icon:before{border-color:rgb(15, 15, 123);}.ld_button_6265270cd9cde.btn-icon-solid:hover .btn-icon{background:rgb(15, 15, 123);}.ld_button_6265270cd9cde{color:rgb(15, 15, 123);border-color:rgb(15, 15, 123);}.ld_button_6265270cd9cde:hover{background-color:rgb(15, 15, 123);border-color:rgb(15, 15, 123);color:rgb(255, 255, 255);}.ld_button_6265270cd9cde .btn-gradient-bg-hover{background:-webkit-linear-gradient(to right, rgb(15, 15, 123) 0%, rgb(15, 15, 123) 100%);background:linear-gradient(to right, rgb(15, 15, 123) 0%, rgb(15, 15, 123) 100%);}.ld_button_6265270cd9cde:hover .btn-gradient-border defs stop:first-child{stop-color:rgb(15, 15, 123);}.ld_button_6265270cd9cde:hover .btn-gradient-border defs stop:last-child{stop-color:rgb(15, 15, 123);}.ld_button_6265270cd9cde {font-size:11px; } .ld_button_6265270cd9cde {line-height:1.4em; } .ld_button_6265270cd9cde {--element-line-height:1.4em; } .ld_button_6265270cd9cde {font-weight:700; } .ld_button_6265270cd9cde {letter-spacing:0.08em; } .ld_button_6265270cd9cde.btn-bordered:hover{border-color:rgb(225, 188, 133);}.ld_button_6265270cd9cde {font-size:11px; } .ld_button_6265270cd9cde {line-height:1.4em; } .ld_button_6265270cd9cde {--element-line-height:1.4em; } .ld_button_6265270cd9cde {font-weight:700; } .ld_button_6265270cd9cde {letter-spacing:0.08em; } .ld_button_6265270cd9cde {font-size:11px; } .ld_button_6265270cd9cde {line-height:1.4em; } .ld_button_6265270cd9cde {--element-line-height:1.4em; } .ld_button_6265270cd9cde {font-weight:700; } .ld_button_6265270cd9cde {letter-spacing:0.08em; } .ld_button_6265270cd9cde {font-size:11px; } .ld_button_6265270cd9cde {line-height:1.4em; } .ld_button_6265270cd9cde {--element-line-height:1.4em; } .ld_button_6265270cd9cde {font-weight:700; } .ld_button_6265270cd9cde {letter-spacing:0.08em; } </style><a href=\"https://menuco.co/login/\" title=\"Login\" class=\"btn btn-default text-uppercase btn-hover-txt-liquid-y circle btn-bordered border-thick btn-has-label ld_header_button_6265270cd6a9d ld_button_6265270cd9cde vc_custom_1627068550766\" >\\r\\n\\t<span>\\r\\n\\t\\t\\r\\n\\t\\t\\t\\t\\t<span class=\"btn-txt\" data-text=\"Login\" data-transition-delay=\"true\"\\r\\n\\t\\t\\t\\t\\t    data-delay-options=\\'{\"elements\": \".lqd-chars\", \"delayType\": \"animation\", \"startDelay\": 0, \"delayBetween\": 32.5}\\'\\r\\n\\t\\t\\t\\t\\t    data-split-text=\"true\"\\r\\n\\t\\t\\t\\t\\t    data-split-options=\\'{\"type\": \"chars, words\"}\\'>Login</span>\\r\\n\\t\\t\\t\\r\\n\\t\\t\\t\\t\\t</span>\\r\\n</a>\\r\\n</div><style>.is-stuck .lqd-head-col > .header-module > .ld_header_button_6265270cdf383{color:rgb(15, 15, 123);border-color:rgb(15, 15, 123);}.is-stuck .lqd-head-col > .header-module > .ld_header_button_6265270cdf383.btn-solid{background-color:rgb(15, 15, 123);}.is-stuck .lqd-head-col > .header-module > .ld_header_button_6265270cdf383:hover{border-color:rgb(15, 15, 123);color:rgb(255, 255, 255);}.is-stuck .lqd-head-col > .header-module > .ld_header_button_6265270cdf383:hover, .is-stuck .lqd-head-col > .header-module > .ld_header_button_6265270cdf383.btn-solid:hover{background-color:rgb(15, 15, 123);}</style><div class=\"header-module module-button\">\\r\\n\\t<style>.ld_button_6265270cdfc89.btn-icon-solid .btn-icon{background:rgb(15, 15, 123);}.ld_button_6265270cdfc89.btn-icon-circle.btn-icon-ripple .btn-icon:before{border-color:rgb(15, 15, 123);}.ld_button_6265270cdfc89.btn-icon-solid:hover .btn-icon{background:rgb(15, 15, 123);}.ld_button_6265270cdfc89{background-color:rgb(15, 15, 123);border-color:rgb(15, 15, 123);}.ld_button_6265270cdfc89:hover{background-color:rgb(15, 15, 123);border-color:rgb(15, 15, 123);color:rgb(255, 255, 255);}.ld_button_6265270cdfc89 .btn-gradient-bg-hover{background:-webkit-linear-gradient(to right, rgb(15, 15, 123) 0%, rgb(15, 15, 123) 100%);background:linear-gradient(to right, rgb(15, 15, 123) 0%, rgb(15, 15, 123) 100%);}.ld_button_6265270cdfc89 .btn-gradient-border defs stop:first-child{stop-color:rgb(15, 15, 123);}.ld_button_6265270cdfc89 .btn-gradient-border defs stop:last-child{stop-color:rgb(15, 15, 123);}.ld_button_6265270cdfc89:hover .btn-gradient-border defs stop:first-child{stop-color:rgb(15, 15, 123);}.ld_button_6265270cdfc89:hover .btn-gradient-border defs stop:last-child{stop-color:rgb(15, 15, 123);}.ld_button_6265270cdfc89 {font-size:11px; } .ld_button_6265270cdfc89 {line-height:1.4em; } .ld_button_6265270cdfc89 {--element-line-height:1.4em; } .ld_button_6265270cdfc89 {font-weight:700; } .ld_button_6265270cdfc89 {letter-spacing:0.08em; } .ld_button_6265270cdfc89.btn-bordered:hover{border-color:rgb(15, 15, 123);}.ld_button_6265270cdfc89 {font-size:11px; } .ld_button_6265270cdfc89 {line-height:1.4em; } .ld_button_6265270cdfc89 {--element-line-height:1.4em; } .ld_button_6265270cdfc89 {font-weight:700; } .ld_button_6265270cdfc89 {letter-spacing:0.08em; } .ld_button_6265270cdfc89 {font-size:11px; } .ld_button_6265270cdfc89 {line-height:1.4em; } .ld_button_6265270cdfc89 {--element-line-height:1.4em; } .ld_button_6265270cdfc89 {font-weight:700; } .ld_button_6265270cdfc89 {letter-spacing:0.08em; } .ld_button_6265270cdfc89 {font-size:11px; } .ld_button_6265270cdfc89 {line-height:1.4em; } .ld_button_6265270cdfc89 {--element-line-height:1.4em; } .ld_button_6265270cdfc89 {font-weight:700; } .ld_button_6265270cdfc89 {letter-spacing:0.08em; } </style><a href=\"https://menuco.co/register/\" title=\"Register\" class=\"btn btn-solid text-uppercase btn-hover-txt-liquid-y circle border-thick btn-has-label ld_header_button_6265270cdf383 ld_button_6265270cdfc89 vc_custom_1626878354995\" >\\r\\n\\t<span>\\r\\n\\t\\t\\r\\n\\t\\t\\t\\t\\t<span class=\"btn-txt\" data-text=\"Register\" data-transition-delay=\"true\"\\r\\n\\t\\t\\t\\t\\t    data-delay-options=\\'{\"elements\": \".lqd-chars\", \"delayType\": \"animation\", \"startDelay\": 0, \"delayBetween\": 32.5}\\'\\r\\n\\t\\t\\t\\t\\t    data-split-text=\"true\"\\r\\n\\t\\t\\t\\t\\t    data-split-options=\\'{\"type\": \"chars, words\"}\\'>Register</span>\\r\\n\\t\\t\\t\\r\\n\\t\\t\\t\\t\\t</span>\\r\\n</a>\\r\\n</div></div>\\t</div></div><div class=\"lqd-mobile-sec\">\\r\\n\\t\\t<div class=\"lqd-mobile-sec-inner navbar-header d-flex align-items-stretch\">\\r\\n\\t\\t\\t<div class=\"lqd-mobile-modules-container\"></div>\\r\\n\\t\\t\\t<button\\r\\n\\t\\t\\ttype=\"button\"\\r\\n\\t\\t\\tclass=\"navbar-toggle collapsed nav-trigger style-mobile\"\\r\\n\\t\\t\\tdata-ld-toggle=\"true\"\\r\\n\\t\\t\\tdata-toggle=\"collapse\"\\r\\n\\t\\t\\tdata-target=\"#lqd-mobile-sec-nav\"\\r\\n\\t\\t\\taria-expanded=\"false\"\\r\\n\\t\\t\\tdata-toggle-options=\\'{ \"changeClassnames\": {\"html\": \"mobile-nav-activated\"} }\\'>\\r\\n\\t\\t\\t\\t<span class=\"sr-only\">Toggle navigation</span>\\r\\n\\t\\t\\t\\t<span class=\"bars\">\\r\\n\\t\\t\\t\\t\\t<span class=\"bars-inner\">\\r\\n\\t\\t\\t\\t\\t\\t<span class=\"bar\"></span>\\r\\n\\t\\t\\t\\t\\t\\t<span class=\"bar\"></span>\\r\\n\\t\\t\\t\\t\\t\\t<span class=\"bar\"></span>\\r\\n\\t\\t\\t\\t\\t</span>\\r\\n\\t\\t\\t\\t</span>\\r\\n\\t\\t\\t</button>\\r\\n\\t\\r\\n\\t\\t\\t<a class=\"navbar-brand\" href=\"https://menuco.co/\">\\r\\n\\t\\t\\t\\t<span class=\"navbar-brand-inner\">\\r\\n\\t\\t\\t\\t\\t<img class=\"logo-default\" src=\"https://menuco.co/wp-content/uploads/2021/07/Menuco_Logo-1-2-1-1.png\" alt=\"Menuco Ana\"  />\\r\\n\\t\\t\\t\\t</span>\\r\\n\\t\\t\\t</a>\\r\\n\\r\\n\\t\\t</div>\\r\\n\\t\\r\\n\\t\\t<div class=\"lqd-mobile-sec-nav\">\\r\\n\\r\\n\\t\\t\\t<div class=\"mobile-navbar-collapse navbar-collapse collapse\" id=\"lqd-mobile-sec-nav\" aria-expanded=\"false\" role=\"navigation\"><ul id=\"mobile-primary-nav\" class=\"lqd-mobile-main-nav main-nav nav\"><li class=\"menu-item menu-item-type-post_type menu-item-object-page menu-item-home current-menu-item page_item page-item-17662 current_page_item menu-item-17954\"><a href=\"https://menuco.co/\" aria-current=\"page\">Home Page</a></li>\\n<li class=\"menu-item menu-item-type-custom menu-item-object-custom menu-item-17992\"><a href=\"https://menuco.co/subscription-plan\">Price List</a></li>\\n<li class=\"menu-item menu-item-type-custom menu-item-object-custom menu-item-17993\"><a href=\"https://menuco.co/contact\">Contact</a></li>\\n</ul></div>\\r\\n\\r\\n\\t\\t</div>\\r\\n\\t\\r\\n\\t</div>\\r\\n</header>\\r\\n\\t\\t<main class=\"content\" id=\"lqd-site-content\">\\r\\n\\r\\n\\t\\t\\t\\r\\n\\t\\t\\t<div id=\"lqd-contents-wrap\">\\r\\n\\r\\n\\t\\t\\t\\r\\n\\r\\n\\t<section class=\"vc_row liquid-row-shadowbox-6265270ceb748\"><div class=\"one-row_bottom_divider z-index-99\" style=\"height:99px;\"><svg width=\"1440\" fill=\"#ffffff\" height=\"150\" xmlns=\"http://www.w3.org/2000/svg\" preserveAspectRatio=\"none\"  viewBox=\"0 0 1440 150\">\\r\\n\\t\\t\\t\\t\\t\\t<path d=\"M 0 26.1978 C 275.76 83.8152 430.707 65.0509 716.279 25.6386 C 930.422 -3.86123 1210.32 -3.98357 1439 9.18045 C 2072.34 45.9691 2201.93 62.4429 2560 26.198 V 172.199 L 0 172.199 V 26.1978 Z\">\\r\\n\\t\\t\\t\\t\\t\\t\\t<animate repeatCount=\"indefinite\" fill=\"freeze\" attributeName=\"d\" dur=\"10s\" values=\"M0 25.9086C277 84.5821 433 65.736 720 25.9086C934.818 -3.9019 1214.06 -5.23669 1442 8.06597C2079 45.2421 2208 63.5007 2560 25.9088V171.91L0 171.91V25.9086Z; M0 86.3149C316 86.315 444 159.155 884 51.1554C1324 -56.8446 1320.29 34.1214 1538 70.4063C1814 116.407 2156 188.408 2560 86.315V232.317L0 232.316V86.3149Z; M0 53.6584C158 11.0001 213 0 363 0C513 0 855.555 115.001 1154 115.001C1440 115.001 1626 -38.0004 2560 53.6585V199.66L0 199.66V53.6584Z; M0 25.9086C277 84.5821 433 65.736 720 25.9086C934.818 -3.9019 1214.06 -5.23669 1442 8.06597C2079 45.2421 2208 63.5007 2560 25.9088V171.91L0 171.91V25.9086Z\">\\r\\n\\t\\t\\t\\t\\t\\t\\t</animate>\\r\\n\\t\\t\\t\\t\\t\\t</path>\\r\\n\\t\\t\\t\\t\\t</svg></div><div class=\"ld-container container\"><div class=\"row ld-row ld-row-outer\"><div class=\"wpb_column vc_column_container vc_col-sm-12 liquid-column-6265270d0b04f\"><div class=\"vc_column-inner  \" ><div class=\"wpb_wrapper\"  >\\n\\t\\t\\t<!-- START Slider 1 REVOLUTION SLIDER 6.4.11 --><p class=\"rs-p-wp-fix\"></p>\\n\\t\\t\\t<rs-module-wrap id=\"rev_slider_1_1_wrapper\" data-source=\"gallery\" style=\"background:transparent;padding:0;\">\\n\\t\\t\\t\\t<rs-module id=\"rev_slider_1_1\" style=\"\" data-version=\"6.4.11\">\\n\\t\\t\\t\\t\\t<rs-slides>\\n\\t\\t\\t\\t\\t\\t<rs-slide data-key=\"rs-1\" data-title=\"Slide\" data-in=\"o:0;\" data-out=\"a:false;\">\\n\\t\\t\\t\\t\\t\\t\\t<img src=\"//menuco.co/wp-content/plugins/revslider/public/assets/assets/transparent.png\" alt=\"Slide\" title=\"Home Page\" class=\"rev-slidebg tp-rs-img\" data-bg=\"c:linear-gradient(0deg, rgba(239,244,255,1) 0%, rgba(255,255,255,1) 100%);\" data-no-retina>\\n<!--\\n\\t\\t\\t\\t\\t\\t\\t--><rs-group\\n\\t\\t\\t\\t\\t\\t\\t\\tid=\"slider-1-slide-1-layer-16\" \\n\\t\\t\\t\\t\\t\\t\\t\\tdata-type=\"group\"\\n\\t\\t\\t\\t\\t\\t\\t\\tdata-xy=\"x:l,l,c,c;xo:400px,285px,0,0;y:m;yo:-20px,-50px,340px,340px;\"\\n\\t\\t\\t\\t\\t\\t\\t\\tdata-text=\"w:normal;\"\\n\\t\\t\\t\\t\\t\\t\\t\\tdata-dim=\"w:713;h:585px;\"\\n\\t\\t\\t\\t\\t\\t\\t\\tdata-vbility=\"t,t,t,f\"\\n\\t\\t\\t\\t\\t\\t\\t\\tdata-rsp_o=\"off\"\\n\\t\\t\\t\\t\\t\\t\\t\\tdata-rsp_bd=\"off\"\\n\\t\\t\\t\\t\\t\\t\\t\\tdata-frame_0=\"o:1;\"\\n\\t\\t\\t\\t\\t\\t\\t\\tdata-frame_1=\"st:1900;sR:1900;\"\\n\\t\\t\\t\\t\\t\\t\\t\\tdata-frame_999=\"o:0;st:w;sR:6800;sA:9000;\"\\n\\t\\t\\t\\t\\t\\t\\t\\tstyle=\"z-index:24;\"\\n\\t\\t\\t\\t\\t\\t\\t><!--\\n\\t\\t\\t\\t\\t\\t\\t\\t--><rs-layer\\n\\t\\t\\t\\t\\t\\t\\t\\t\\tid=\"slider-1-slide-1-layer-27\" \\n\\t\\t\\t\\t\\t\\t\\t\\t\\tdata-type=\"image\"\\n\\t\\t\\t\\t\\t\\t\\t\\t\\tdata-xy=\"x:c;xo:-11px,28px,28px,28px;y:m;yo:12px,22px,22px,22px;\"\\n\\t\\t\\t\\t\\t\\t\\t\\t\\tdata-text=\"w:normal;\"\\n\\t\\t\\t\\t\\t\\t\\t\\t\\tdata-dim=\"w:[\\'727px\\',\\'727px\\',\\'727px\\',\\'727px\\'];h:[\\'409px\\',\\'409px\\',\\'409px\\',\\'409px\\'];\"\\n\\t\\t\\t\\t\\t\\t\\t\\t\\tdata-rsp_o=\"off\"\\n\\t\\t\\t\\t\\t\\t\\t\\t\\tdata-rsp_bd=\"off\"\\n\\t\\t\\t\\t\\t\\t\\t\\t\\tdata-frame_0=\"y:250px;\"\\n\\t\\t\\t\\t\\t\\t\\t\\t\\tdata-frame_1=\"e:power4.inOut;st:2900;sp:1200;sR:1000;\"\\n\\t\\t\\t\\t\\t\\t\\t\\t\\tdata-frame_999=\"o:0;st:w;sR:4900;\"\\n\\t\\t\\t\\t\\t\\t\\t\\t\\tdata-loop_999=\"y:20px;sp:3000;e:sine.inOut;yym:t;\"\\n\\t\\t\\t\\t\\t\\t\\t\\t\\tstyle=\"z-index:20;\"\\n\\t\\t\\t\\t\\t\\t\\t\\t><img src=\"//menuco.co/wp-content/uploads/2021/07/Adsiz-tasarim.png\" class=\"tp-rs-img\" width=\"1920\" height=\"1080\" data-no-retina> \\n\\t\\t\\t\\t\\t\\t\\t\\t</rs-layer><!--\\n\\n\\t\\t\\t\\t\\t\\t\\t\\t--><rs-layer\\n\\t\\t\\t\\t\\t\\t\\t\\t\\tid=\"slider-1-slide-1-layer-31\" \\n\\t\\t\\t\\t\\t\\t\\t\\t\\tdata-type=\"image\"\\n\\t\\t\\t\\t\\t\\t\\t\\t\\tdata-xy=\"x:c;xo:-91px;y:b;yo:108px;\"\\n\\t\\t\\t\\t\\t\\t\\t\\t\\tdata-text=\"w:normal;\"\\n\\t\\t\\t\\t\\t\\t\\t\\t\\tdata-dim=\"w:[\\'10px\\',\\'10px\\',\\'10px\\',\\'10px\\'];h:[\\'10px\\',\\'10px\\',\\'10px\\',\\'10px\\'];\"\\n\\t\\t\\t\\t\\t\\t\\t\\t\\tdata-rsp_o=\"off\"\\n\\t\\t\\t\\t\\t\\t\\t\\t\\tdata-rsp_bd=\"off\"\\n\\t\\t\\t\\t\\t\\t\\t\\t\\tdata-frame_1=\"e:power4.out;st:3700;sp:800;sR:1800;\"\\n\\t\\t\\t\\t\\t\\t\\t\\t\\tdata-frame_999=\"o:0;st:w;sR:4500;\"\\n\\t\\t\\t\\t\\t\\t\\t\\t\\tstyle=\"z-index:21;\"\\n\\t\\t\\t\\t\\t\\t\\t\\t><img src=\"//menuco.co/wp-content/uploads/2019/12/illus-9.svg\" class=\"tp-rs-img\" data-no-retina> \\n\\t\\t\\t\\t\\t\\t\\t\\t</rs-layer><!--\\n\\n\\t\\t\\t\\t\\t\\t\\t\\t--><rs-layer\\n\\t\\t\\t\\t\\t\\t\\t\\t\\tid=\"slider-1-slide-1-layer-32\" \\n\\t\\t\\t\\t\\t\\t\\t\\t\\tdata-type=\"image\"\\n\\t\\t\\t\\t\\t\\t\\t\\t\\tdata-xy=\"x:c;xo:-132px;y:b;yo:128px;\"\\n\\t\\t\\t\\t\\t\\t\\t\\t\\tdata-text=\"w:normal;\"\\n\\t\\t\\t\\t\\t\\t\\t\\t\\tdata-dim=\"w:[\\'17px\\',\\'17px\\',\\'17px\\',\\'17px\\'];h:[\\'17px\\',\\'17px\\',\\'17px\\',\\'17px\\'];\"\\n\\t\\t\\t\\t\\t\\t\\t\\t\\tdata-rsp_o=\"off\"\\n\\t\\t\\t\\t\\t\\t\\t\\t\\tdata-rsp_bd=\"off\"\\n\\t\\t\\t\\t\\t\\t\\t\\t\\tdata-frame_1=\"e:power4.out;st:3850;sp:800;sR:1950;\"\\n\\t\\t\\t\\t\\t\\t\\t\\t\\tdata-frame_999=\"o:0;st:w;sR:4350;\"\\n\\t\\t\\t\\t\\t\\t\\t\\t\\tstyle=\"z-index:22;\"\\n\\t\\t\\t\\t\\t\\t\\t\\t><img src=\"//menuco.co/wp-content/uploads/2019/12/illus-9.svg\" class=\"tp-rs-img\" data-no-retina> \\n\\t\\t\\t\\t\\t\\t\\t\\t</rs-layer><!--\\n\\n\\t\\t\\t\\t\\t\\t\\t\\t--><rs-layer\\n\\t\\t\\t\\t\\t\\t\\t\\t\\tid=\"slider-1-slide-1-layer-34\" \\n\\t\\t\\t\\t\\t\\t\\t\\t\\tdata-type=\"image\"\\n\\t\\t\\t\\t\\t\\t\\t\\t\\tdata-xy=\"x:c;xo:149px;y:b;yo:78px;\"\\n\\t\\t\\t\\t\\t\\t\\t\\t\\tdata-text=\"w:normal;\"\\n\\t\\t\\t\\t\\t\\t\\t\\t\\tdata-dim=\"w:[\\'10px\\',\\'10px\\',\\'10px\\',\\'10px\\'];h:[\\'10px\\',\\'10px\\',\\'10px\\',\\'10px\\'];\"\\n\\t\\t\\t\\t\\t\\t\\t\\t\\tdata-rsp_o=\"off\"\\n\\t\\t\\t\\t\\t\\t\\t\\t\\tdata-rsp_bd=\"off\"\\n\\t\\t\\t\\t\\t\\t\\t\\t\\tdata-frame_1=\"e:power4.out;st:4050;sp:800;sR:2150;\"\\n\\t\\t\\t\\t\\t\\t\\t\\t\\tdata-frame_999=\"o:0;st:w;sR:4150;\"\\n\\t\\t\\t\\t\\t\\t\\t\\t\\tstyle=\"z-index:23;\"\\n\\t\\t\\t\\t\\t\\t\\t\\t><img src=\"//menuco.co/wp-content/uploads/2019/12/illus-9.svg\" class=\"tp-rs-img\" data-no-retina> \\n\\t\\t\\t\\t\\t\\t\\t\\t</rs-layer><!--\\n\\t\\t\\t\\t\\t\\t\\t--></rs-group><!--\\n\\n\\t\\t\\t\\t\\t\\t\\t--><h1\\n\\t\\t\\t\\t\\t\\t\\t\\tid=\"slider-1-slide-1-layer-5\" \\n\\t\\t\\t\\t\\t\\t\\t\\tclass=\"rs-layer\"\\n\\t\\t\\t\\t\\t\\t\\t\\tdata-type=\"text\"\\n\\t\\t\\t\\t\\t\\t\\t\\tdata-color=\"#0f0f7b\"\\n\\t\\t\\t\\t\\t\\t\\t\\tdata-xy=\"x:l,l,c,c;xo:14px,15px,0,0;y:m;yo:-82px,-115px,-340px,-177px;\"\\n\\t\\t\\t\\t\\t\\t\\t\\tdata-text=\"w:normal;s:58;l:58;fw:700;a:left,left,center,center;\"\\n\\t\\t\\t\\t\\t\\t\\t\\tdata-dim=\"w:439px;h:138px,138px,138px,auto;\"\\n\\t\\t\\t\\t\\t\\t\\t\\tdata-rsp_o=\"off\"\\n\\t\\t\\t\\t\\t\\t\\t\\tdata-rsp_bd=\"off\"\\n\\t\\t\\t\\t\\t\\t\\t\\tdata-frame_0=\"o:1;\"\\n\\t\\t\\t\\t\\t\\t\\t\\tdata-frame_0_lines=\"d:5;x:-10px;y:100px;\"\\n\\t\\t\\t\\t\\t\\t\\t\\tdata-frame_0_mask=\"u:t;\"\\n\\t\\t\\t\\t\\t\\t\\t\\tdata-frame_0_reverse=\"lY:true;lD:true;\"\\n\\t\\t\\t\\t\\t\\t\\t\\tdata-frame_1=\"e:power4.inOut;sp:1200;\"\\n\\t\\t\\t\\t\\t\\t\\t\\tdata-frame_1_lines=\"d:10;\"\\n\\t\\t\\t\\t\\t\\t\\t\\tdata-frame_1_mask=\"u:t;\"\\n\\t\\t\\t\\t\\t\\t\\t\\tdata-frame_999=\"o:0;st:w;sR:7700;\"\\n\\t\\t\\t\\t\\t\\t\\t\\tstyle=\"z-index:15;font-family:\"Now bold\", sans-serif;\"\\n\\t\\t\\t\\t\\t\\t\\t>Multilingual <br />\\nOnline Menu \\n\\t\\t\\t\\t\\t\\t\\t</h1><!--\\n\\n\\t\\t\\t\\t\\t\\t\\t--><p\\n\\t\\t\\t\\t\\t\\t\\t\\tid=\"slider-1-slide-1-layer-6\" \\n\\t\\t\\t\\t\\t\\t\\t\\tclass=\"rs-layer\"\\n\\t\\t\\t\\t\\t\\t\\t\\tdata-type=\"text\"\\n\\t\\t\\t\\t\\t\\t\\t\\tdata-color=\"#595b74\"\\n\\t\\t\\t\\t\\t\\t\\t\\tdata-xy=\"x:l,l,c,c;xo:15px,15px,0,-1px;y:m;yo:78px,19px,-159px,-13px;\"\\n\\t\\t\\t\\t\\t\\t\\t\\tdata-text=\"w:normal;s:18,18,18,15;l:30;a:left,left,center,center;\"\\n\\t\\t\\t\\t\\t\\t\\t\\tdata-dim=\"w:390px,390px,390px,392px;h:123px,123px,123px,82px;\"\\n\\t\\t\\t\\t\\t\\t\\t\\tdata-rsp_o=\"off\"\\n\\t\\t\\t\\t\\t\\t\\t\\tdata-rsp_bd=\"off\"\\n\\t\\t\\t\\t\\t\\t\\t\\tdata-frame_0_lines=\"d:5;y:30px;o:0;\"\\n\\t\\t\\t\\t\\t\\t\\t\\tdata-frame_1=\"e:power4.out;st:1150;sp:800;sR:1150;\"\\n\\t\\t\\t\\t\\t\\t\\t\\tdata-frame_1_lines=\"d:8;\"\\n\\t\\t\\t\\t\\t\\t\\t\\tdata-frame_999=\"o:0;st:w;sR:6890;\"\\n\\t\\t\\t\\t\\t\\t\\t\\tstyle=\"z-index:16;font-family:\"sofia-pro\", sans-serif;\"\\n\\t\\t\\t\\t\\t\\t\\t>The Next-Gen QR code menu system,<br />\\nScan and see the menu in your native language. \\n\\t\\t\\t\\t\\t\\t\\t</p><!--\\n\\n\\t\\t\\t\\t\\t\\t\\t--><a\\n\\t\\t\\t\\t\\t\\t\\t\\tid=\"slider-1-slide-1-layer-7\" \\n\\t\\t\\t\\t\\t\\t\\t\\tclass=\"rs-layer rev-btn rev-hiddenicon\"\\n\\t\\t\\t\\t\\t\\t\\t\\thref=\"https://menuco.co/login/\" target=\"_self\" rel=\"nofollow\"\\n\\t\\t\\t\\t\\t\\t\\t\\tdata-type=\"button\"\\n\\t\\t\\t\\t\\t\\t\\t\\tdata-color=\"#ffffff||#ffffff||#ffffff||#0f0f7b\"\\n\\t\\t\\t\\t\\t\\t\\t\\tdata-xy=\"x:l,l,c,l;xo:1px,1px,0,69px;y:m,m,m,t;yo:43px,43px,-65px,368px;\"\\n\\t\\t\\t\\t\\t\\t\\t\\tdata-text=\"w:normal;s:12,12,11,11;l:20,16,12,7;ls:1,1px,1px,1px;fw:700;\"\\n\\t\\t\\t\\t\\t\\t\\t\\tdata-dim=\"minh:0px,none,none,none;\"\\n\\t\\t\\t\\t\\t\\t\\t\\tdata-vbility=\"f,f,f,t\"\\n\\t\\t\\t\\t\\t\\t\\t\\tdata-actions=\\'o:click;a:menulink;target:_self;url:https://menuco.co/login/;sp:1200ms;e:power4.inOut;\\'\\n\\t\\t\\t\\t\\t\\t\\t\\tdata-rsp_o=\"off\"\\n\\t\\t\\t\\t\\t\\t\\t\\tdata-rsp_bd=\"off\"\\n\\t\\t\\t\\t\\t\\t\\t\\tdata-padding=\"t:18;r:35;b:18;l:35;\"\\n\\t\\t\\t\\t\\t\\t\\t\\tdata-border=\"bos:solid;boc:#0f0f7b;bow:1px,1px,1px,1px;bor:30px,30px,30px,30px;\"\\n\\t\\t\\t\\t\\t\\t\\t\\tdata-frame_0=\"y:40px;\"\\n\\t\\t\\t\\t\\t\\t\\t\\tdata-frame_1=\"e:power2.out;st:1400;sp:800;sR:1400;\"\\n\\t\\t\\t\\t\\t\\t\\t\\tdata-frame_999=\"o:0;st:w;sR:6800;\"\\n\\t\\t\\t\\t\\t\\t\\t\\tdata-frame_hover=\"c:#fff;bgc:#34aadc;boc:transparent;bor:30px,30px,30px,30px;bos:none;bow:0,0,0,0;sp:200;\"\\n\\t\\t\\t\\t\\t\\t\\t\\tstyle=\"z-index:8;font-family:\"Now bold\", sans-serif;text-transform:uppercase;\"\\n\\t\\t\\t\\t\\t\\t\\t>LOG-IN \\n\\t\\t\\t\\t\\t\\t\\t</a><!--\\n\\n\\t\\t\\t\\t\\t\\t\\t--><a\\n\\t\\t\\t\\t\\t\\t\\t\\tid=\"slider-1-slide-1-layer-8\" \\n\\t\\t\\t\\t\\t\\t\\t\\tclass=\"rs-layer rev-btn rev-hiddenicon\"\\n\\t\\t\\t\\t\\t\\t\\t\\thref=\"https://menuco.co/register\" target=\"_self\" rel=\"nofollow\"\\n\\t\\t\\t\\t\\t\\t\\t\\tdata-type=\"button\"\\n\\t\\t\\t\\t\\t\\t\\t\\tdata-xy=\"x:l,l,c,l;xo:-3px,-3px,0,192px;y:m,m,m,t;yo:112px,112px,-65px,368px;\"\\n\\t\\t\\t\\t\\t\\t\\t\\tdata-text=\"w:normal;s:12,12,11,11;l:20,16,12,7;ls:1,1px,1px,1px;fw:700;\"\\n\\t\\t\\t\\t\\t\\t\\t\\tdata-dim=\"minh:0px,none,none,none;\"\\n\\t\\t\\t\\t\\t\\t\\t\\tdata-vbility=\"f,f,t,t\"\\n\\t\\t\\t\\t\\t\\t\\t\\tdata-actions=\\'o:click;a:menulink;target:_self;url:https://menuco.co/register;sp:1200ms;e:power4.inOut;\\'\\n\\t\\t\\t\\t\\t\\t\\t\\tdata-rsp_o=\"off\"\\n\\t\\t\\t\\t\\t\\t\\t\\tdata-rsp_bd=\"off\"\\n\\t\\t\\t\\t\\t\\t\\t\\tdata-padding=\"t:18;r:35;b:18;l:35;\"\\n\\t\\t\\t\\t\\t\\t\\t\\tdata-border=\"bos:solid;boc:#0f0f7b;bow:1px,1px,1px,1px;bor:30px,30px,30px,30px;\"\\n\\t\\t\\t\\t\\t\\t\\t\\tdata-frame_0=\"y:40px;\"\\n\\t\\t\\t\\t\\t\\t\\t\\tdata-frame_1=\"e:power2.out;st:1400;sp:800;sR:1400;\"\\n\\t\\t\\t\\t\\t\\t\\t\\tdata-frame_999=\"o:0;st:w;sR:6800;\"\\n\\t\\t\\t\\t\\t\\t\\t\\tdata-frame_hover=\"c:#fff;bgc:#34aadc;boc:transparent;bor:30px,30px,30px,30px;bos:none;bow:0,0,0,0;sp:200;\"\\n\\t\\t\\t\\t\\t\\t\\t\\tstyle=\"z-index:8;background-color:#0f0f7b;font-family:\"Now bold\", sans-serif;text-transform:uppercase;\"\\n\\t\\t\\t\\t\\t\\t\\t>SIGN UP \\n\\t\\t\\t\\t\\t\\t\\t</a><!--\\n\\n\\t\\t\\t\\t\\t\\t\\t--><rs-layer\\n\\t\\t\\t\\t\\t\\t\\t\\tid=\"slider-1-slide-1-layer-9\" \\n\\t\\t\\t\\t\\t\\t\\t\\tdata-type=\"image\"\\n\\t\\t\\t\\t\\t\\t\\t\\tdata-xy=\"xo:-130px;y:b;\"\\n\\t\\t\\t\\t\\t\\t\\t\\tdata-text=\"w:normal;\"\\n\\t\\t\\t\\t\\t\\t\\t\\tdata-dim=\"w:[\\'100%\\',\\'100%\\',\\'100%\\',\\'100%\\'];\"\\n\\t\\t\\t\\t\\t\\t\\t\\tdata-vbility=\"t,t,t,f\"\\n\\t\\t\\t\\t\\t\\t\\t\\tdata-basealign=\"slide\"\\n\\t\\t\\t\\t\\t\\t\\t\\tdata-rsp_o=\"off\"\\n\\t\\t\\t\\t\\t\\t\\t\\tdata-rsp_bd=\"off\"\\n\\t\\t\\t\\t\\t\\t\\t\\tdata-frame_999=\"o:0;st:w;sR:8700;\"\\n\\t\\t\\t\\t\\t\\t\\t\\tstyle=\"z-index:10;\"\\n\\t\\t\\t\\t\\t\\t\\t><img src=\"//menuco.co/wp-content/uploads/2019/12/slider-assets-3.svg\" class=\"tp-rs-img\" data-c=\"fullwidth\" data-no-retina> \\n\\t\\t\\t\\t\\t\\t\\t</rs-layer><!--\\n\\n\\t\\t\\t\\t\\t\\t\\t--><rs-layer\\n\\t\\t\\t\\t\\t\\t\\t\\tid=\"slider-1-slide-1-layer-35\" \\n\\t\\t\\t\\t\\t\\t\\t\\tdata-type=\"image\"\\n\\t\\t\\t\\t\\t\\t\\t\\tdata-xy=\"x:c;xo:310px;y:b;yo:729px;\"\\n\\t\\t\\t\\t\\t\\t\\t\\tdata-text=\"w:normal;\"\\n\\t\\t\\t\\t\\t\\t\\t\\tdata-dim=\"w:[\\'55px\\',\\'55px\\',\\'55px\\',\\'55px\\'];h:[\\'54px\\',\\'54px\\',\\'54px\\',\\'54px\\'];\"\\n\\t\\t\\t\\t\\t\\t\\t\\tdata-rsp_o=\"off\"\\n\\t\\t\\t\\t\\t\\t\\t\\tdata-rsp_bd=\"off\"\\n\\t\\t\\t\\t\\t\\t\\t\\tdata-frame_0=\"x:-35px;y:35px;\"\\n\\t\\t\\t\\t\\t\\t\\t\\tdata-frame_1=\"e:power4.out;st:2700;sp:800;sR:2700;\"\\n\\t\\t\\t\\t\\t\\t\\t\\tdata-frame_999=\"o:0;st:w;sR:5500;\"\\n\\t\\t\\t\\t\\t\\t\\t\\tdata-loop_0=\"blu:0px;bri:100%;\"\\n\\t\\t\\t\\t\\t\\t\\t\\tdata-loop_999=\"x:100px;y:-100px;o:0;blu:0px;bri:100%;sp:3000;st:800;e:power4.out;\"\\n\\t\\t\\t\\t\\t\\t\\t\\tstyle=\"z-index:19;\"\\n\\t\\t\\t\\t\\t\\t\\t><img src=\"//menuco.co/wp-content/uploads/2019/12/slider-assets-2.svg\" class=\"tp-rs-img\" data-no-retina> \\n\\t\\t\\t\\t\\t\\t\\t</rs-layer><!--\\n\\n\\t\\t\\t\\t\\t\\t\\t--><rs-layer\\n\\t\\t\\t\\t\\t\\t\\t\\tid=\"slider-1-slide-1-layer-36\" \\n\\t\\t\\t\\t\\t\\t\\t\\tdata-type=\"image\"\\n\\t\\t\\t\\t\\t\\t\\t\\tdata-xy=\"x:c;xo:-98px;y:b;yo:116px;\"\\n\\t\\t\\t\\t\\t\\t\\t\\tdata-text=\"w:normal;\"\\n\\t\\t\\t\\t\\t\\t\\t\\tdata-dim=\"w:[\\'55px\\',\\'55px\\',\\'55px\\',\\'55px\\'];h:[\\'54px\\',\\'54px\\',\\'54px\\',\\'54px\\'];\"\\n\\t\\t\\t\\t\\t\\t\\t\\tdata-rsp_o=\"off\"\\n\\t\\t\\t\\t\\t\\t\\t\\tdata-rsp_bd=\"off\"\\n\\t\\t\\t\\t\\t\\t\\t\\tdata-frame_0=\"x:-35px;y:35px;\"\\n\\t\\t\\t\\t\\t\\t\\t\\tdata-frame_1=\"e:power4.out;st:1900;sp:800;sR:1900;\"\\n\\t\\t\\t\\t\\t\\t\\t\\tdata-frame_999=\"o:0;st:w;sR:6300;\"\\n\\t\\t\\t\\t\\t\\t\\t\\tdata-loop_0=\"blu:0px;bri:100%;\"\\n\\t\\t\\t\\t\\t\\t\\t\\tdata-loop_999=\"x:100px;y:-100px;o:0;blu:0px;bri:100%;sp:2000;e:power4.out;\"\\n\\t\\t\\t\\t\\t\\t\\t\\tstyle=\"z-index:17;\"\\n\\t\\t\\t\\t\\t\\t\\t><img src=\"//menuco.co/wp-content/uploads/2019/12/slider-assets-2.svg\" class=\"tp-rs-img\" data-no-retina> \\n\\t\\t\\t\\t\\t\\t\\t</rs-layer><!--\\n\\n\\t\\t\\t\\t\\t\\t\\t--><rs-layer\\n\\t\\t\\t\\t\\t\\t\\t\\tid=\"slider-1-slide-1-layer-37\" \\n\\t\\t\\t\\t\\t\\t\\t\\tdata-type=\"image\"\\n\\t\\t\\t\\t\\t\\t\\t\\tdata-xy=\"x:c;xo:-169px;y:b;yo:583px;\"\\n\\t\\t\\t\\t\\t\\t\\t\\tdata-text=\"w:normal;\"\\n\\t\\t\\t\\t\\t\\t\\t\\tdata-dim=\"w:[\\'55px\\',\\'55px\\',\\'55px\\',\\'55px\\'];h:[\\'54px\\',\\'54px\\',\\'54px\\',\\'54px\\'];\"\\n\\t\\t\\t\\t\\t\\t\\t\\tdata-rsp_o=\"off\"\\n\\t\\t\\t\\t\\t\\t\\t\\tdata-rsp_bd=\"off\"\\n\\t\\t\\t\\t\\t\\t\\t\\tdata-frame_0=\"x:-35px;y:35px;\"\\n\\t\\t\\t\\t\\t\\t\\t\\tdata-frame_1=\"e:power4.out;st:2350;sp:800;sR:2350;\"\\n\\t\\t\\t\\t\\t\\t\\t\\tdata-frame_999=\"o:0;st:w;sR:5850;\"\\n\\t\\t\\t\\t\\t\\t\\t\\tdata-loop_0=\"blu:0px;bri:100%;\"\\n\\t\\t\\t\\t\\t\\t\\t\\tdata-loop_999=\"x:100px;y:-100px;o:0;blu:0px;bri:100%;sp:4000;st:1000;e:power4.out;\"\\n\\t\\t\\t\\t\\t\\t\\t\\tstyle=\"z-index:18;\"\\n\\t\\t\\t\\t\\t\\t\\t><img src=\"//menuco.co/wp-content/uploads/2019/12/slider-assets-2.svg\" class=\"tp-rs-img\" data-no-retina> \\n\\t\\t\\t\\t\\t\\t\\t</rs-layer><!--\\n-->\\t\\t\\t\\t\\t\\t</rs-slide>\\n\\t\\t\\t\\t\\t</rs-slides>\\n\\t\\t\\t\\t</rs-module>\\n\\t\\t\\t\\t<script type=\"text/javascript\">\\n\\t\\t\\t\\t\\tsetREVStartSize({c: \\'rev_slider_1_1\\',rl:[1240,1024,778,480],el:[900,768,960,720],gw:[1240,1024,778,480],gh:[900,768,960,720],type:\\'standard\\',justify:\\'\\',layout:\\'fullscreen\\',offsetContainer:\\'.main-header\\',offset:\\'\\',mh:\"0\"});\\n\\t\\t\\t\\t\\tvar\\trevapi1,\\n\\t\\t\\t\\t\\t\\ttpj;\\n\\t\\t\\t\\t\\tfunction revinit_revslider11() {\\n\\t\\t\\t\\t\\tjQuery(function() {\\n\\t\\t\\t\\t\\t\\ttpj = jQuery;\\n\\t\\t\\t\\t\\t\\trevapi1 = tpj(\"#rev_slider_1_1\");\\n\\t\\t\\t\\t\\t\\tif(revapi1==undefined || revapi1.revolution == undefined){\\n\\t\\t\\t\\t\\t\\t\\trevslider_showDoubleJqueryError(\"rev_slider_1_1\");\\n\\t\\t\\t\\t\\t\\t}else{\\n\\t\\t\\t\\t\\t\\t\\trevapi1.revolution({\\n\\t\\t\\t\\t\\t\\t\\t\\tDPR:\"dpr\",\\n\\t\\t\\t\\t\\t\\t\\t\\tsliderLayout:\"fullscreen\",\\n\\t\\t\\t\\t\\t\\t\\t\\tvisibilityLevels:\"1240,1024,778,480\",\\n\\t\\t\\t\\t\\t\\t\\t\\tgridwidth:\"1240,1024,778,480\",\\n\\t\\t\\t\\t\\t\\t\\t\\tgridheight:\"900,768,960,720\",\\n\\t\\t\\t\\t\\t\\t\\t\\tspinner:\"spinner2\",\\n\\t\\t\\t\\t\\t\\t\\t\\tperspective:600,\\n\\t\\t\\t\\t\\t\\t\\t\\tperspectiveType:\"local\",\\n\\t\\t\\t\\t\\t\\t\\t\\teditorheight:\"900,768,960,720\",\\n\\t\\t\\t\\t\\t\\t\\t\\tresponsiveLevels:\"1240,1024,778,480\",\\n\\t\\t\\t\\t\\t\\t\\t\\tfullScreenOffsetContainer:\".main-header\",\\n\\t\\t\\t\\t\\t\\t\\t\\tprogressBar:{disableProgressBar:true},\\n\\t\\t\\t\\t\\t\\t\\t\\tnavigation: {\\n\\t\\t\\t\\t\\t\\t\\t\\t\\tonHoverStop:false\\n\\t\\t\\t\\t\\t\\t\\t\\t},\\n\\t\\t\\t\\t\\t\\t\\t\\tfallbacks: {\\n\\t\\t\\t\\t\\t\\t\\t\\t\\tallowHTML5AutoPlayOnAndroid:true\\n\\t\\t\\t\\t\\t\\t\\t\\t},\\n\\t\\t\\t\\t\\t\\t\\t});\\n\\t\\t\\t\\t\\t\\t}\\n\\t\\t\\t\\t\\t\\t\\n\\t\\t\\t\\t\\t});\\n\\t\\t\\t\\t\\t} // End of RevInitScript\\n\\t\\t\\t\\tvar once_revslider11 = false;\\n\\t\\t\\t\\tif (document.readyState === \"loading\") {document.addEventListener(\\'readystatechange\\',function() { if((document.readyState === \"interactive\" || document.readyState === \"complete\") && !once_revslider11 ) { once_revslider11 = true; revinit_revslider11();}});} else {once_revslider11 = true; revinit_revslider11();}\\n\\t\\t\\t\\t</script>\\n\\t\\t\\t\\t<script>\\n\\t\\t\\t\\t\\tvar htmlDivCss = unescape(\"%23rev_slider_1_1_wrapper%20rs-loader.spinner2%7B%20background-color%3A%20%23ffffff%20%21important%3B%20%7D\");\\n\\t\\t\\t\\t\\tvar htmlDiv = document.getElementById(\\'rs-plugin-settings-inline-css\\');\\n\\t\\t\\t\\t\\tif(htmlDiv) {\\n\\t\\t\\t\\t\\t\\thtmlDiv.innerHTML = htmlDiv.innerHTML + htmlDivCss;\\n\\t\\t\\t\\t\\t}else{\\n\\t\\t\\t\\t\\t\\tvar htmlDiv = document.createElement(\\'div\\');\\n\\t\\t\\t\\t\\t\\thtmlDiv.innerHTML = \\'<style>\\' + htmlDivCss + \\'</style>\\';\\n\\t\\t\\t\\t\\t\\tdocument.getElementsByTagName(\\'head\\')[0].appendChild(htmlDiv.childNodes[0]);\\n\\t\\t\\t\\t\\t}\\n\\t\\t\\t\\t</script>\\n\\t\\t\\t</rs-module-wrap>\\n\\t\\t\\t<!-- END REVOLUTION SLIDER -->\\n</div></div></div></div></div></section><style>@media (min-width: 992px) { .liquid-row-responsive-6265270d16922 {padding-bottom:75px !important;  }  }    </style><section class=\"vc_row vc_custom_1626611064909 liquid-row-responsive-6265270d16922 liquid-row-shadowbox-6265270d1696b\"><div class=\"ld-container container\"><div class=\"row ld-row ld-row-outer vc_row-o-equal-height vc_row-flex\"><div class=\"wpb_column vc_column_container vc_col-sm-12 liquid-column-6265270d17269\"><div class=\"vc_column-inner  \" ><div class=\"wpb_wrapper\"  ><style>.ld_fancy_heading_6265270d17513 h2 {font-size:24px; } @media (min-width: 992px) { .ld_fancy_heading_6265270d17513 h2 {font-size:43px; }  } .ld_fancy_heading_6265270d17513 h2 {margin-bottom:0.6em !important;  } .ld_fancy_heading_6265270d17513 .lqd-highlight-inner{height:0.275em;bottom:0.25em;background:rgb(237, 218, 190);}.ld_fancy_heading_6265270d17513 h2 {font-size:24px; } @media (min-width: 992px) { .ld_fancy_heading_6265270d17513 h2 {font-size:43px; }  } .ld_fancy_heading_6265270d17513 h2 {margin-bottom:0.6em !important;  } </style><div class=\"ld-fancy-heading text-center ld_fancy_heading_6265270d17513\">\\r\\n\\t<h2 class=\"ld-fh-element lqd-highlight-underline lqd-highlight-grow-left text-decoration-default\" data-inview=\"true\" data-transition-delay=\"true\" data-delay-options=\\'{\"elements\":\".lqd-highlight-inner\",\"delayType\":\"transition\"}\\'  >  <mark class=\"lqd-highlight\"><span class=\"lqd-highlight-txt\"  >Language barrier:</span><span class=\"lqd-highlight-inner\"><svg xmlns=\"http://www.w3.org/2000/svg\" width=\"235.509\" height=\"13.504\" viewBox=\"0 0 235.509 13.504\" aria-hidden=\"true\" preserveAspectRatio=\"none\"><path d=\"M163,.383a13.044,13.044,0,0,1,1.517-.072,3.528,3.528,0,0,1,1.237-.134q.618.044,1.237.044a.249.249,0,0,1-.1.178.337.337,0,0,0-.1.266q3.092.088,6.184-.044T178.953.4l-.206-.088a12,12,0,0,0,4.123,0,13.467,13.467,0,0,1,5.772,0q1.443-.178,2.68-.266A5.978,5.978,0,0,1,193.8.4,16.707,16.707,0,0,1,198.01.045q2.164.088,4.844.088-.618.088-.824.134L201.412.4a3.893,3.893,0,0,0,2.061,0,5.413,5.413,0,0,1,1.649-.356q.618.088,1.134.178a9.762,9.762,0,0,0,1.544.09,17,17,0,0,1,3.092-.266q1.649,0,3.5.178,2.886.088,5.875.044t5.875-.222q0,.088.206.088h.412a21.975,21.975,0,0,0,2.577.889A12.458,12.458,0,0,1,232.12,2.18a3.962,3.962,0,0,1,1.031.622A3.349,3.349,0,0,1,234.8,3.825a5.079,5.079,0,0,1,.618,1.111q.412.534-1.031.98-1.031.444-.618.98a2.09,2.09,0,0,1,.206.889q0,.444.825.889.618.8-.206,1.245l-1.237.534q-1.443-.088-2.68-.134a17.255,17.255,0,0,1-2.267-.222,3.128,3.128,0,0,0-.928-.044,3.129,3.129,0,0,1-.928-.044q-2.267-.178-4.432-.266T217.7,9.476q-1.649-.088-2.886-.088a17.343,17.343,0,0,1-2.474-.178q-3.916,0-7.73-.088t-7.73-.266l-12.471-.178q-6.287-.088-12.883-.088h-1.958q-.928,0-1.958.088h-2.061q-1.031,0-2.061-.088-2.68-.088-5.256-.134t-5.256.044h-5.462q-2.577,0-5.462.088-4.535.088-8.76.178t-8.554.088q-2.886.088-5.875.088t-5.875.088q-1.443.088-2.886.134t-3.092.044q-4.741.178-9.791.312t-9.791.312q-2.267.088-4.329.088T78.77,10.1q-4.329.266-8.863.49t-9.276.49q-1.237.088-2.68.134a24.356,24.356,0,0,0-2.683.224q-2.68.178-5.462.312t-5.668.4q-2.474.266-4.741.312t-4.741.044q-1.031-.088-1.958-.134a9.684,9.684,0,0,1-1.958-.312,12.5,12.5,0,0,0-1.443-.312q-.825-.134-1.856-.31-2.886.356-6.39.666t-6.8.845a26.709,26.709,0,0,1-2.886.356,20.758,20.758,0,0,1-9.482-.889Q.232,11.962.026,11.25T1.263,9.917q0-.266.825-.266a13.039,13.039,0,0,0,2.886-.444A17.187,17.187,0,0,1,7.86,8.672q3.092-.266,6.184-.8,1.649-.178,3.3-.312t3.5-.312q4.123-.354,8.039-.712t8.039-.622q9.478-.8,18.758-1.338,2.68-.178,5.153-.356t4.741-.356q2.474-.178,5.05-.356T75.88,3.24h1.34a4.829,4.829,0,0,0,1.34-.178q2.267-.178,4.329-.222t4.329-.134a7.256,7.256,0,0,1,2.267,0,3.459,3.459,0,0,0,1.031-.088,6.009,6.009,0,0,1,2.37-.266,14.745,14.745,0,0,0,2.783-.088q1.649,0,2.474.088a1.308,1.308,0,0,1,.185.011,1.226,1.226,0,0,1,.33-.1,3.656,3.656,0,0,0,.515-.088,4.433,4.433,0,0,1,2.886.266q.412-.088,1.031-.178l1.237-.178q.412,0,1.031.044a5.761,5.761,0,0,0,1.237-.044q2.886-.088,5.772-.044a53.829,53.829,0,0,0,5.772-.222,9.505,9.505,0,0,1,1.34-.088h1.34a4.428,4.428,0,0,1,.821-.258l.825-.178a15.178,15.178,0,0,1,1.855.444,3.028,3.028,0,0,1,1.031-.534,4.039,4.039,0,0,1,1.443-.178,6.158,6.158,0,0,1,1.649.178,5.05,5.05,0,0,0,2.267.268q1.855-.088,3.813-.134T138.13,1.2q1.031,0,2.164-.044t2.37-.044q-.206-.088.412-.534h3.092q.412,0,.309.266t.928,0a5.845,5.845,0,0,1,1.443,0,31.833,31.833,0,0,0,5.359.088,21.471,21.471,0,0,1,6.8.178,5.236,5.236,0,0,0,1.031-.4q.412-.222.825-.4a.694.694,0,0,1,.137.07Z\" transform=\"translate(0 0.002)\"/></svg></span></mark> no more!</h2></div><style>.ld_fancy_heading_6265270d19418 p{color:rgb(89, 91, 116);}.ld_fancy_heading_6265270d19418 p {font-size:18px; } .ld_fancy_heading_6265270d19418 p {line-height:30px; } .ld_fancy_heading_6265270d19418 p {--element-line-height:30px; } .ld_fancy_heading_6265270d19418 p {margin-bottom:1.75em !important;  } .ld_fancy_heading_6265270d19418 .lqd-highlight-inner{height:0.275em;bottom:0px;}.ld_fancy_heading_6265270d19418 p {font-size:18px; } .ld_fancy_heading_6265270d19418 p {line-height:30px; } .ld_fancy_heading_6265270d19418 p {--element-line-height:30px; } .ld_fancy_heading_6265270d19418 p {margin-bottom:1.75em !important;  } </style><div class=\"ld-fancy-heading text-center ld_fancy_heading_6265270d19418\">\\r\\n\\t<p class=\"ld-fh-element lqd-highlight-underline lqd-highlight-grow-left text-decoration-default lqd-split-lines\"   data-split-text=\"true\" data-split-options=\\'{\"type\":\"lines\"}\\'>  Forget the physical menus or traditional QR code apps, get ready for the future by Menuco&#8230;</p></div></div></div></div></div></div></section><style>@media (min-width: 992px) { .liquid-row-responsive-6265270d1b82a {padding-bottom:75px !important;  }  }    </style><section class=\"vc_row vc_custom_1611579550402 liquid-row-responsive-6265270d1b82a liquid-row-shadowbox-6265270d1b854\"><div class=\"ld-container container\"><div class=\"row ld-row ld-row-outer vc_row-o-equal-height vc_row-o-content-middle vc_row-flex\"><div class=\"wpb_column vc_column_container vc_col-sm-12 vc_col-md-5 text-center text-md-left liquid-column-6265270d1c2cc\"><div class=\"vc_column-inner  \" ><div class=\"wpb_wrapper\"  data-custom-animations=\"true\" data-ca-options=\\'{\"triggerHandler\":\"inview\",\"animationTarget\":\"all-childs\",\"duration\":\"1800\",\"delay\":\"180\",\"ease\":\"power4.out\",\"direction\":\"forward\",\"initValues\":{\"x\":-40,\"y\":25,\"rotationZ\":-2,\"transformOriginX\":50,\"transformOriginY\":50,\"transformOriginZ\":\"0px\",\"opacity\":0},\"animations\":{\"x\":0,\"y\":0,\"rotationZ\":0,\"transformOriginX\":50,\"transformOriginY\":50,\"transformOriginZ\":\"0px\",\"opacity\":1}}\\'><div class=\"vc_row vc_inner vc_row-fluid vc_custom_1577714262716 liquid-row-shadowbox-6265270d205bd\"><div class=\"ld-container container-fluid\"><div class=\"row ld-row ld-row-inner\"><div class=\"wpb_column vc_column_container vc_col-sm-12 vc_col-md-12 liquid-column-6265270d2d971\"><div class=\"vc_column-inner \" ><div class=\"wpb_wrapper\" ><style>.ld_icon_box_6265270d2dcd0 .iconbox-icon-container{width:65px !important;height:65px !important;background:rgb(246, 222, 227);border-radius:px;}.ld_icon_box_6265270d2dcd0 .iconbox-icon-container:before{border-color:rgb(246, 222, 227);}.ld_icon_box_6265270d2dcd0 h3{margin-bottom:15px;}.ld_icon_box_6265270d2dcd0 .iconbox-icon-container img,.ld_icon_box_6265270d2dcd0 .iconbox-icon-container > svg{width:80 !important;}</style>\\r\\n<div class=\"iconbox iconbox-side text-align-default iconbox-circle iconbox-heading-xs ld_icon_box_6265270d2dcd0\" id=\"ld_icon_box_6265270d2dcd0\"   >\\r\\n\\t\\r\\n\\t\\t\\t\\t\\t\\r\\n\\t\\r\\n\\t<div class=\"iconbox-icon-wrap\"><span class=\"iconbox-icon-container\"><img src=\"https://menuco.co/wp-content/uploads/2021/07/Magic.png\" class=\"liquid-image-icon\" /></span></div>\\t\\r\\n\\t\\t\\r\\n\\t<div class=\"contents\">\\t\\r\\n\\t\\t\\r\\n\\t<h3 class=\"\">Smart language detection</h3>\\t<p>Your customers only scan the barcode.</p>\\n<p>Menuco detects the language they prefer and shows the menu in that language.</p>\\n\\t\\t\\r\\n\\t</div>\\t\\r\\n\\t\\r\\n</div>\\r\\n<style>.ld_icon_box_6265270d30836 .iconbox-icon-container{width:65px !important;height:65px !important;background:rgb(238, 229, 229);border-radius:px;}.ld_icon_box_6265270d30836 .iconbox-icon-container:before{border-color:rgb(238, 229, 229);}.ld_icon_box_6265270d30836 h3{margin-bottom:15px;}.ld_icon_box_6265270d30836 .iconbox-icon-container img,.ld_icon_box_6265270d30836 .iconbox-icon-container > svg{width:80 !important;}</style>\\r\\n<div class=\"iconbox iconbox-side text-align-default iconbox-circle iconbox-heading-xs ld_icon_box_6265270d30836\" id=\"ld_icon_box_6265270d30836\"   >\\r\\n\\t\\r\\n\\t\\t\\t\\t\\t\\r\\n\\t\\r\\n\\t<div class=\"iconbox-icon-wrap\"><span class=\"iconbox-icon-container\"><img src=\"https://menuco.co/wp-content/uploads/2021/07/Languages-2.png\" class=\"liquid-image-icon\" /></span></div>\\t\\r\\n\\t\\t\\r\\n\\t<div class=\"contents\">\\t\\r\\n\\t\\t\\r\\n\\t<h3 class=\"\">90+ Language</h3>\\t<p>Provide to your customers your menu in more than 90+ languages through Menuco.</p>\\n\\t\\t\\r\\n\\t</div>\\t\\r\\n\\t\\r\\n</div>\\r\\n<style>.ld_icon_box_6265270d32deb .iconbox-icon-container{width:65px !important;height:65px !important;background:rgb(238, 229, 229);border-radius:px;}.ld_icon_box_6265270d32deb .iconbox-icon-container:before{border-color:rgb(238, 229, 229);}.ld_icon_box_6265270d32deb h3{margin-bottom:15px;}.ld_icon_box_6265270d32deb .iconbox-icon-container img,.ld_icon_box_6265270d32deb .iconbox-icon-container > svg{width:80 !important;}</style>\\r\\n<div class=\"iconbox iconbox-side text-align-default iconbox-circle iconbox-heading-xs ld_icon_box_6265270d32deb\" id=\"ld_icon_box_6265270d32deb\"   >\\r\\n\\t\\r\\n\\t\\t\\t\\t\\t\\r\\n\\t\\r\\n\\t<div class=\"iconbox-icon-wrap\"><span class=\"iconbox-icon-container\"><img src=\"https://menuco.co/wp-content/uploads/2021/07/Micr.png\" class=\"liquid-image-icon\" /></span></div>\\t\\r\\n\\t\\t\\r\\n\\t<div class=\"contents\">\\t\\r\\n\\t\\t\\r\\n\\t<h3 class=\"\">Push to talk (speech translator)</h3>\\t<p>Aren`t your all customers speaking with you in the same language? Then let them speak in their native languages. Menuco makes communication easier.</p>\\n\\t\\t\\r\\n\\t</div>\\t\\r\\n\\t\\r\\n</div>\\r\\n</div></div></div></div></div></div></div></div></div><div class=\"wpb_column vc_column_container vc_col-sm-12 vc_col-md-offset-1 vc_col-md-6 liquid-column-6265270d35855\"><div class=\"vc_column-inner  \" ><div class=\"wpb_wrapper\"  ><div id=\"ld_images_group_element_6265270d35a91\" class=\"lqd-imggrp-single hidden-xs ld_images_group_element_6265270d35a91\" data-hover3d=\"true\" data-float=\"ease\" >\\r\\n\\t\\r\\n\\t<div class=\"lqd-imggrp-img-container\" data-stacking-factor=\"1\"   >\\r\\n\\t\\t\\r\\n\\t\\t\\t\\t\\r\\n\\t\\t\\t\\t<figure class=\"loaded\"><img src=\"https://menuco.co/wp-content/uploads/2021/07/Adsiz-tasarim-1.svg\" srcset=\"\" class=\"\" alt=\"\" /></figure>\\t\\t\\t\\t\\t\\t\\t\\t\\r\\n\\t</div><!-- /.lqd-imggrp-content -->\\r\\n</div><!-- /.lqd-imggrp-single --></div></div></div></div></div></section><style>@media (min-width: 992px) { .liquid-row-responsive-6265270d40f23 {margin-right:50px !important; margin-left:50px !important; padding-top:95px !important; padding-bottom:90px !important;  }  }  .liquid-row-shadowbox-6265270d40f52{-webkit-box-shadow:0px 90px 40px 40px rgba(202,199,226,0.21);-moz-box-shadow:0px 90px 40px 40px rgba(202,199,226,0.21);box-shadow:0px 90px 40px 40px rgba(202,199,226,0.21);}  </style><section style=\"background:linear-gradient(0deg, rgb(172, 186, 246) 0%, rgb(36,14,113) 100%);\" data-bg-image=\"url\" class=\"vc_row vc_custom_1626617194110 liquid-row-responsive-6265270d40f23 liquid-row-shadowbox-6265270d40f52 vc_row-has-fill vc_row-has-bg\"><div class=\"ld-container container\"><div class=\"row ld-row ld-row-outer\"><div class=\"wpb_column vc_column_container vc_col-sm-12 vc_col-md-offset-2 vc_col-md-8 text-center liquid-column-6265270d41761\"><div class=\"vc_column-inner  \" ><div class=\"wpb_wrapper\"  ><style>.ld_fancy_heading_6265270d419ee h2{color:rgb(255, 255, 255);}.ld_fancy_heading_6265270d419ee h2 {font-size:35px; } @media (min-width: 992px) { .ld_fancy_heading_6265270d419ee h2 {font-size:43px; }  } .ld_fancy_heading_6265270d419ee h2 {margin-bottom:15px !important;  } .ld_fancy_heading_6265270d419ee .lqd-highlight-inner{height:0.275em;bottom:0px;background:rgba(58, 224, 180, 0.52);}.ld_fancy_heading_6265270d419ee h2 {font-size:35px; } @media (min-width: 992px) { .ld_fancy_heading_6265270d419ee h2 {font-size:43px; }  } .ld_fancy_heading_6265270d419ee h2 {margin-bottom:15px !important;  } </style><div class=\"ld-fancy-heading mask-text ld_fancy_heading_6265270d419ee\">\\r\\n\\t<h2 class=\"ld-fh-element lqd-highlight-underline lqd-highlight-grow-bottom text-decoration-default lqd-split-lines\"   data-split-text=\"true\" data-split-options=\\'{\"type\":\"lines\"}\\'>  Scan the barcode</h2></div><div class=\"vc_separator wpb_content_element vc_separator_align_center vc_sep_width_20 vc_sep_border_width_3 vc_sep_pos_align_center vc_separator_no_text vc_custom_1627159793044  vc_custom_1627159793044\" ><span class=\"vc_sep_holder vc_sep_holder_l\"><span  style=\"border-color:#eddabe;\" class=\"vc_sep_line\"></span></span><span class=\"vc_sep_holder vc_sep_holder_r\"><span  style=\"border-color:#eddabe;\" class=\"vc_sep_line\"></span></span>\\r\\n</div><style>.ld_fancy_heading_6265270d48fc8 p{color:rgb(255, 255, 255);}.ld_fancy_heading_6265270d48fc8 p {font-size:14px; } .ld_fancy_heading_6265270d48fc8 p {margin-bottom:3.2em !important;  } .ld_fancy_heading_6265270d48fc8 .lqd-highlight-inner{height:0.275em;bottom:0px;}.ld_fancy_heading_6265270d48fc8 p {font-size:14px; } .ld_fancy_heading_6265270d48fc8 p {margin-bottom:3.2em !important;  } </style><div class=\"ld-fancy-heading mask-text ld_fancy_heading_6265270d48fc8\">\\r\\n\\t<p class=\"ld-fh-element lqd-highlight-underline lqd-highlight-grow-left text-decoration-default lqd-split-lines\"   data-split-text=\"true\" data-split-options=\\'{\"type\":\"lines\"}\\'>  See a sample menu</p></div><div class=\"vc_row vc_inner vc_row-fluid liquid-row-shadowbox-6265270d4b0a7\"><div class=\"ld-container container-fluid\"><div class=\"row ld-row ld-row-inner\"><style>@media (min-width: 992px) { .liquid-column-responsive-6265270d4b910 > .vc_column-inner {margin-left:-25px !important;  }  } </style><div class=\"wpb_column vc_column_container vc_col-sm-12 liquid-column-6265270d4b90d liquid-column-responsive-6265270d4b910\"><div class=\"vc_column-inner \" style=\"background-position:center center !important;\"><div class=\"wpb_wrapper\" >\\r\\n\\t<div  class=\"wpb_single_image wpb_content_element vc_align_center  liquid_vc_single_image-6265270d4e6f6\">\\r\\n\\t\\t\\r\\n\\t\\t<figure class=\"wpb_wrapper vc_figure\">\\r\\n\\t\\t\\t<div class=\"vc_single_image-wrapper   \"><img class=\"vc_single_image-img \" src=\"https://menuco.co/wp-content/uploads/2021/07/barcode-100x100.png\" width=\"100\" height=\"100\" alt=\"barcode\" title=\"barcode\" /></div>\\r\\n\\t\\t</figure>\\r\\n\\t</div>\\r\\n</div></div></div></div></div></div></div></div></div></div></div></section><style>@media (min-width: 992px) { .liquid-row-responsive-6265270d4eeed {padding-top:90px !important; padding-bottom:90px !important;  }  }    </style><section class=\"vc_row vc_custom_1612951381107 liquid-row-responsive-6265270d4eeed liquid-row-shadowbox-6265270d4ef18\"><div class=\"ld-container container\"><div class=\"row ld-row ld-row-outer\"><div class=\"wpb_column vc_column_container vc_col-sm-12 vc_col-md-offset-3 vc_col-md-6 text-center liquid-column-6265270d4f787\"><div class=\"vc_column-inner  vc_custom_1612951351272\" ><div class=\"wpb_wrapper\"  ><style>.ld_fancy_heading_6265270d4f985 h2 {font-size:38px; } @media (min-width: 992px) { .ld_fancy_heading_6265270d4f985 h2 {font-size:43px; }  } .ld_fancy_heading_6265270d4f985 .lqd-highlight-inner{height:0.275em;bottom:0px;}.ld_fancy_heading_6265270d4f985 h2 {font-size:38px; } @media (min-width: 992px) { .ld_fancy_heading_6265270d4f985 h2 {font-size:43px; }  } </style><div class=\"ld-fancy-heading ld_fancy_heading_6265270d4f985\">\\r\\n\\t<h2 class=\"ld-fh-element lqd-highlight-underline lqd-highlight-grow-left text-decoration-default lqd-split-lines\"   data-split-text=\"true\" data-split-options=\\'{\"type\":\"lines\"}\\' data-custom-animations=\"true\" data-ca-options=\\'{\"triggerHandler\":\"inview\",\"animationTarget\":\".lqd-lines > .split-inner\",\"duration\":\"1800\",\"delay\":\"180\",\"ease\":\"power4.out\",\"direction\":\"forward\",\"initValues\":{\"y\":65,\"rotationZ\":10,\"opacity\":0},\"animations\":{\"y\":0,\"rotationZ\":0,\"opacity\":1}}\\'>  Choose your plan!</h2></div></div></div></div><div class=\"wpb_column vc_column_container vc_col-sm-12 liquid-column-6265270d516f3\"><div class=\"vc_column-inner  \" ><div class=\"wpb_wrapper\"  >\\r\\n\\t<div class=\"wpb_text_column wpb_content_element \" >\\r\\n\\t\\t<div class=\"wpb_wrapper\">\\r\\n\\t\\t\\t<div class=\"ich_level_wrap ihc_level_template_8\"><div class=\"ihc-level-item\"><div class=\"ihc-level-item-wrap\"><div class=\"ihc-level-item-top\"><div class=\"ihc-level-item-title\">Silver</div></div><div class=\"ihc-level-item-price\">€15,90 /Month</div><div class=\"ihc-level-item-content\"><p style=\"box-sizing: border-box; font-size: 13px; line-height: 1.71429; margin-bottom: 1.71429rem; color: #5a6575; font-family: -apple-system, BlinkMacSystemFont, \\'Segoe UI\\', Roboto, Oxygen-Sans, Ubuntu, Cantarell, \\'Helvetica Neue\\', sans-serif;\"><span style=\"color: #0fd91a; font-family: arial, sans-serif; font-size: 16px; font-weight: 600;\">✓ </span>90+ Languages</p>\\r\\n<p style=\"box-sizing: border-box; font-size: 13px; line-height: 1.71429; margin-bottom: 1.71429rem; color: #5a6575; font-family: -apple-system, BlinkMacSystemFont, \\'Segoe UI\\', Roboto, Oxygen-Sans, Ubuntu, Cantarell, \\'Helvetica Neue\\', sans-serif;\"><span style=\"color: #0fd91a; font-family: arial, sans-serif; font-size: 16px; font-weight: 600;\">✓ </span>\\xa0Speech translation (2 Hours/Month)</p>\\r\\n<p style=\"box-sizing: border-box; font-size: 13px; line-height: 1.71429; margin-bottom: 1.71429rem; color: #5a6575; font-family: -apple-system, BlinkMacSystemFont, \\'Segoe UI\\', Roboto, Oxygen-Sans, Ubuntu, Cantarell, \\'Helvetica Neue\\', sans-serif;\"><span style=\"box-sizing: border-box; color: #0fd91a; font-family: arial, sans-serif; font-size: 16px; font-weight: 600;\">✓ </span><del>First menu registration support</del></p>\\r\\n<p style=\"box-sizing: border-box; font-size: 13px; line-height: 1.71429; margin-bottom: 1.71429rem; color: #5a6575; font-family: -apple-system, BlinkMacSystemFont, \\'Segoe UI\\', Roboto, Oxygen-Sans, Ubuntu, Cantarell, \\'Helvetica Neue\\', sans-serif;\"><span style=\"box-sizing: border-box; color: #0fd91a; font-family: arial, sans-serif; font-size: 16px; font-weight: 600;\">✓ </span><del>Menu revisions support</del></p>\\r\\n<p style=\"box-sizing: border-box; font-size: 13px; line-height: 1.71429; margin-bottom: 1.71429rem; color: #5a6575; font-family: -apple-system, BlinkMacSystemFont, \\'Segoe UI\\', Roboto, Oxygen-Sans, Ubuntu, Cantarell, \\'Helvetica Neue\\', sans-serif;\"><span style=\"box-sizing: border-box; color: #0fd91a; font-family: arial, sans-serif; font-size: 16px; font-weight: 600;\">✓ </span><del>Fast support</del></p></div><div class=\"ihc-level-item-bottom\"><div onClick=\"ihcBuyNewLevel(\\'https://menuco.co/register/?lid=1\\');\" class=\"ihc-level-item-link  ihc-cursor-pointer\">Sign Up</div><div class=\"iump-clear\"></div></div></div></div><div class=\"ihc-level-item\"><div class=\"ihc-level-item-wrap\"><div class=\"ihc-level-item-top\"><div class=\"ihc-level-item-title\">Gold</div></div><div class=\"ihc-level-item-price\">€25,90 /Month</div><div class=\"ihc-level-item-content\"><p style=\"box-sizing: border-box; font-size: 13px; line-height: 1.71429; margin-bottom: 1.71429rem; color: #5a6575; font-family: -apple-system, BlinkMacSystemFont, \\'Segoe UI\\', Roboto, Oxygen-Sans, Ubuntu, Cantarell, \\'Helvetica Neue\\', sans-serif;\"><span style=\"color: #0fd91a; font-family: arial, sans-serif; font-size: 16px; font-weight: 600;\">✓ </span>90+ Languages</p>\\r\\n<p style=\"box-sizing: border-box; font-size: 13px; line-height: 1.71429; margin-bottom: 1.71429rem; color: #5a6575; font-family: -apple-system, BlinkMacSystemFont, \\'Segoe UI\\', Roboto, Oxygen-Sans, Ubuntu, Cantarell, \\'Helvetica Neue\\', sans-serif;\"><span style=\"color: #0fd91a; font-family: arial, sans-serif; font-size: 16px; font-weight: 600;\">✓\\xa0</span> Speech translation (15 Hours/Month)</p>\\r\\n<p style=\"box-sizing: border-box; font-size: 13px; line-height: 1.71429; margin-bottom: 1.71429rem; color: #5a6575; font-family: -apple-system, BlinkMacSystemFont, \\'Segoe UI\\', Roboto, Oxygen-Sans, Ubuntu, Cantarell, \\'Helvetica Neue\\', sans-serif;\"><span style=\"box-sizing: border-box; color: #0fd91a; font-family: arial, sans-serif; font-size: 16px; font-weight: 600;\">✓ </span>First menu registration support</p>\\r\\n<p style=\"box-sizing: border-box; font-size: 13px; line-height: 1.71429; margin-bottom: 1.71429rem; color: #5a6575; font-family: -apple-system, BlinkMacSystemFont, \\'Segoe UI\\', Roboto, Oxygen-Sans, Ubuntu, Cantarell, \\'Helvetica Neue\\', sans-serif;\"><span style=\"box-sizing: border-box; color: #0fd91a; font-family: arial, sans-serif; font-size: 16px; font-weight: 600;\">✓ </span>Menu revision support (2 Times/Year)</p>\\r\\n<p style=\"box-sizing: border-box; font-size: 13px; line-height: 1.71429; margin-bottom: 1.71429rem; color: #5a6575; font-family: -apple-system, BlinkMacSystemFont, \\'Segoe UI\\', Roboto, Oxygen-Sans, Ubuntu, Cantarell, \\'Helvetica Neue\\', sans-serif;\"><span style=\"box-sizing: border-box; color: #0fd91a; font-family: arial, sans-serif; font-size: 16px; font-weight: 600;\">✓\\xa0</span>Fast support</p></div><div class=\"ihc-level-item-bottom\"><div onClick=\"ihcBuyNewLevel(\\'https://menuco.co/register/?lid=2\\');\" class=\"ihc-level-item-link  ihc-cursor-pointer\">Sign Up</div><div class=\"iump-clear\"></div></div></div></div><div class=\"ihc-level-item\"><div class=\"ihc-level-item-wrap\"><div class=\"ihc-level-item-top\"><div class=\"ihc-level-item-title\">Platinum</div></div><div class=\"ihc-level-item-price\">€45,90 /Month</div><div class=\"ihc-level-item-content\"><p style=\"box-sizing: border-box; font-size: 13px; line-height: 1.71429; margin-bottom: 1.71429rem; color: #5a6575; font-family: -apple-system, BlinkMacSystemFont, \\'Segoe UI\\', Roboto, Oxygen-Sans, Ubuntu, Cantarell, \\'Helvetica Neue\\', sans-serif;\"><span style=\"color: #0fd91a; font-family: arial, sans-serif; font-size: 16px; font-weight: 600;\">✓ </span>90+ Languages</p>\\r\\n<p style=\"box-sizing: border-box; font-size: 13px; line-height: 1.71429; margin-bottom: 1.71429rem; color: #5a6575; font-family: -apple-system, BlinkMacSystemFont, \\'Segoe UI\\', Roboto, Oxygen-Sans, Ubuntu, Cantarell, \\'Helvetica Neue\\', sans-serif;\"><span style=\"color: #0fd91a; font-family: arial, sans-serif; font-size: 16px; font-weight: 600;\">✓\\xa0</span> Speech translation (100 Hours/Month)</p>\\r\\n<p style=\"box-sizing: border-box; font-size: 13px; line-height: 1.71429; margin-bottom: 1.71429rem; color: #5a6575; font-family: -apple-system, BlinkMacSystemFont, \\'Segoe UI\\', Roboto, Oxygen-Sans, Ubuntu, Cantarell, \\'Helvetica Neue\\', sans-serif;\"><span style=\"box-sizing: border-box; color: #0fd91a; font-family: arial, sans-serif; font-size: 16px; font-weight: 600;\">✓ </span>First menu registration support</p>\\r\\n<p style=\"box-sizing: border-box; font-size: 13px; line-height: 1.71429; margin-bottom: 1.71429rem; color: #5a6575; font-family: -apple-system, BlinkMacSystemFont, \\'Segoe UI\\', Roboto, Oxygen-Sans, Ubuntu, Cantarell, \\'Helvetica Neue\\', sans-serif;\"><span style=\"box-sizing: border-box; color: #0fd91a; font-family: arial, sans-serif; font-size: 16px; font-weight: 600;\">✓ </span>Menu revision support (10 Times/Year)</p>\\r\\n<p style=\"box-sizing: border-box; font-size: 13px; line-height: 1.71429; margin-bottom: 1.71429rem; color: #5a6575; font-family: -apple-system, BlinkMacSystemFont, \\'Segoe UI\\', Roboto, Oxygen-Sans, Ubuntu, Cantarell, \\'Helvetica Neue\\', sans-serif;\"><span style=\"box-sizing: border-box; color: #0fd91a; font-family: arial, sans-serif; font-size: 16px; font-weight: 600;\">✓\\xa0</span>Fast support</p></div><div class=\"ihc-level-item-bottom\"><div onClick=\"ihcBuyNewLevel(\\'https://menuco.co/register/?lid=3\\');\" class=\"ihc-level-item-link  ihc-cursor-pointer\">Sign Up</div><div class=\"iump-clear\"></div></div></div></div></div>\\n\\r\\n\\t\\t</div>\\r\\n\\t</div>\\r\\n</div></div></div></div></div></section><style>@media (min-width: 992px) { .liquid-row-responsive-6265270d56ce7 {padding-top:170px !important; padding-bottom:75px !important;  }  }    </style><section class=\"vc_row vc_custom_1605610071158 liquid-row-responsive-6265270d56ce7 liquid-row-shadowbox-6265270d56d22\"><div class=\"ld-container container\"><div class=\"row ld-row ld-row-outer vc_row-o-equal-height vc_row-o-content-middle vc_row-flex\"><style>@media (min-width: 992px) { .liquid-column-responsive-6265270d5760b > .vc_column-inner {margin-bottom:0px !important;  }  } </style><div class=\"wpb_column vc_column_container vc_col-sm-12 vc_col-lg-5 vc_col-md-6 text-center text-md-left liquid-column-6265270d57609 liquid-column-responsive-6265270d5760b\"><div class=\"vc_column-inner  vc_custom_1605983335270\" ><div class=\"wpb_wrapper\"  data-custom-animations=\"true\" data-ca-options=\\'{\"triggerHandler\":\"inview\",\"animationTarget\":\"all-childs\",\"duration\":\"1800\",\"delay\":\"180\",\"ease\":\"power4.out\",\"direction\":\"forward\",\"initValues\":{\"y\":65,\"transformOriginX\":50,\"transformOriginY\":50,\"transformOriginZ\":\"0px\",\"opacity\":0},\"animations\":{\"y\":0,\"transformOriginX\":50,\"transformOriginY\":50,\"transformOriginZ\":\"0px\",\"opacity\":1}}\\'><style>.ld_images_group_element_6265270d577ec {margin-bottom:20px !important;  } .ld_images_group_element_6265270d577ec {margin-bottom:20px !important;  } </style><div id=\"ld_images_group_element_6265270d577ec\" class=\"lqd-imggrp-single ld_images_group_element_6265270d577ec\"   >\\r\\n\\t\\r\\n\\t<div class=\"lqd-imggrp-img-container\"    >\\r\\n\\t\\t\\r\\n\\t\\t\\t\\t\\r\\n\\t\\t\\t\\t<figure class=\"loaded\"><img src=\"https://menuco.co/wp-content/uploads/2019/12/shapes.svg\" class=\"attachment-full size-full\" alt=\"\" loading=\"lazy\" /></figure>\\t\\t\\t\\t\\t\\t\\t\\t\\r\\n\\t</div><!-- /.lqd-imggrp-content -->\\r\\n</div><!-- /.lqd-imggrp-single --><style>.ld_fancy_heading_6265270d611c6 h2 {font-size:38px; } @media (min-width: 992px) { .ld_fancy_heading_6265270d611c6 h2 {font-size:43px; }  } .ld_fancy_heading_6265270d611c6 h2 {margin-bottom:0.6em !important;  } .ld_fancy_heading_6265270d611c6 .lqd-highlight-inner{height:0.275em;bottom:0px;}.ld_fancy_heading_6265270d611c6 h2 {font-size:38px; } @media (min-width: 992px) { .ld_fancy_heading_6265270d611c6 h2 {font-size:43px; }  } .ld_fancy_heading_6265270d611c6 h2 {margin-bottom:0.6em !important;  } </style><div class=\"ld-fancy-heading mask-text ld_fancy_heading_6265270d611c6\">\\r\\n\\t<h2 class=\"ld-fh-element lqd-highlight-underline lqd-highlight-grow-left text-decoration-default lqd-split-lines\"   data-split-text=\"true\" data-split-options=\\'{\"type\":\"lines\"}\\'>  Simple but efficient!</h2></div><style>.ld_fancy_heading_6265270d63615 p{color:rgb(89, 91, 116);}.ld_fancy_heading_6265270d63615 p {font-size:18px; } .ld_fancy_heading_6265270d63615 p {line-height:30px; } .ld_fancy_heading_6265270d63615 p {--element-line-height:30px; } @media (min-width: 992px) { .ld_fancy_heading_6265270d63615 p {padding-right:6% !important;  }  } .ld_fancy_heading_6265270d63615 p {margin-bottom:1.75em !important;  } .ld_fancy_heading_6265270d63615 .lqd-highlight-inner{height:0.275em;bottom:0px;}.ld_fancy_heading_6265270d63615 p {font-size:18px; } .ld_fancy_heading_6265270d63615 p {line-height:30px; } .ld_fancy_heading_6265270d63615 p {--element-line-height:30px; } @media (min-width: 992px) { .ld_fancy_heading_6265270d63615 p {padding-right:6% !important;  }  } .ld_fancy_heading_6265270d63615 p {margin-bottom:1.75em !important;  } </style><div class=\"ld-fancy-heading mask-text ld_fancy_heading_6265270d63615\">\\r\\n\\t<p class=\"ld-fh-element lqd-highlight-underline lqd-highlight-grow-left text-decoration-default lqd-split-lines\"   data-split-text=\"true\" data-split-options=\\'{\"type\":\"lines\"}\\'>  It`s easy to manage and use Menuco.</p></div></div></div></div><div class=\"wpb_column vc_column_container vc_col-sm-10 vc_col-lg-offset-2 vc_col-lg-5 vc_col-md-offset-0 vc_col-md-6 vc_col-sm-offset-1 liquid-column-6265270d659c4\"><div class=\"vc_column-inner  \" ><div class=\"wpb_wrapper\"  ><style>.ld_icon_box_circle_6265270d65b0a .one-ib-circ-icn span:before{background:rgb(238, 238, 238);}</style><div id=\"ld_icon_box_circle_6265270d65b0a\" class=\"one-ib-circ ld_icon_box_circle_6265270d65b0a\" data-spread-incircle=\"true\" data-hover3d=\"true\">\\r\\n\\t<div class=\"one-ib-circ-wrap\" data-stacking-factor=\"0.95\">\\r\\n\\t\\t<div class=\"one-ib-circ-inner\">\\r\\n\\t\\t\\t<div class=\"one-ib-circ-item\">\\r\\n\\r\\n\\t<div class=\"one-ib-circ-icn\"><span><img src=\"https://menuco.co/wp-content/uploads/2021/07/Secure.png\" class=\"liquid-image-icon\" /></span></div>\\t\\r\\n\\t<div class=\"one-ib-circ-cnt\">\\r\\n\\r\\n\\t\\t<h3>Safe Payment</h3>\\t\\t<hr><p>Pay the subscription fees with STRIPE which is one of the biggest online payment gateways in the World, in safety.</p>\\n\\r\\n\\t</div><!-- /.one-ib-circ-cnt -->\\r\\n\\r\\n</div><!-- /.one-ib-circ-item -->\\r\\n<div class=\"one-ib-circ-item\">\\r\\n\\r\\n\\t<div class=\"one-ib-circ-icn\"><span><?xml version=\"1.0\" encoding=\"utf-8\"?>\\n<svg xmlns=\"http://www.w3.org/2000/svg\" width=\"41.128\" height=\"41.1\" viewBox=\"0 0 41.128 41.1\"><g transform=\"translate(-19.288 -19.301)\"><path d=\"M0,29.9a3.15,3.15,0,0,0,3.148,3.155H28.335A3.154,3.154,0,0,0,31.484,29.9V3.155A3.15,3.15,0,0,0,28.335,0H3.148A3.154,3.154,0,0,0,0,3.155Z\" transform=\"translate(19.288 27.344)\" fill=\"#008aba\"/><path d=\"M31.484,3.155A3.15,3.15,0,0,0,28.335,0H3.148A3.154,3.154,0,0,0,0,3.155V29.9a3.15,3.15,0,0,0,3.148,3.155H28.335A3.154,3.154,0,0,0,31.484,29.9Z\" transform=\"translate(28.932 19.301)\" fill=\"#6abbd7\"/><path d=\"M12.525,16H1.562a1.6,1.6,0,0,1,0-3.2H12.525a1.6,1.6,0,0,1,0,3.2Zm-.786-6.4H1.565a1.6,1.6,0,0,1,0-3.2H11.739a1.6,1.6,0,0,1,0,3.2Zm4.694-6.4H1.566A1.585,1.585,0,0,1,0,1.6,1.585,1.585,0,0,1,1.566,0H16.434A1.585,1.585,0,0,1,18,1.6,1.585,1.585,0,0,1,16.434,3.2Z\" transform=\"translate(35.574 25.397)\" fill=\"#b7eef5\"/></g></svg></span></div>\\t\\r\\n\\t<div class=\"one-ib-circ-cnt\">\\r\\n\\r\\n\\t\\t<h3>Independent</h3>\\t\\t<hr><p>If you have any software system in your restaurant, don`t worry you can keep using it. Menuco works completely independently. You can use Menuco for all your customers or only for foreign customers.</p>\\n\\r\\n\\t</div><!-- /.one-ib-circ-cnt -->\\r\\n\\r\\n</div><!-- /.one-ib-circ-item -->\\r\\n<div class=\"one-ib-circ-item\">\\r\\n\\r\\n\\t<div class=\"one-ib-circ-icn\"><span><img src=\"https://menuco.co/wp-content/uploads/2021/07/saat.png\" class=\"liquid-image-icon\" /></span></div>\\t\\r\\n\\t<div class=\"one-ib-circ-cnt\">\\r\\n\\r\\n\\t\\t<h3>Save your time</h3>\\t\\t<hr><p>We manage your menus, you can focus on your own essential job.</p>\\n\\r\\n\\t</div><!-- /.one-ib-circ-cnt -->\\r\\n\\r\\n</div><!-- /.one-ib-circ-item -->\\r\\n<div class=\"one-ib-circ-item\">\\r\\n\\r\\n\\t<div class=\"one-ib-circ-icn\"><span><img src=\"https://menuco.co/wp-content/uploads/2021/08/rejected.png\" class=\"liquid-image-icon\" /></span></div>\\t\\r\\n\\t<div class=\"one-ib-circ-cnt\">\\r\\n\\r\\n\\t\\t<h3>Free cancellation</h3>\\t\\t<hr><p>Feel free, you can cancel your subscription anytime without extra charges. Just try Menuco</p>\\n\\r\\n\\t</div><!-- /.one-ib-circ-cnt -->\\r\\n\\r\\n</div><!-- /.one-ib-circ-item -->\\r\\n\\t\\t</div><!-- /.one-ib-circ-inner -->\\r\\n\\t</div><!-- /.one-ib-circ-wrap -->\\r\\n</div><!-- /.one-ib-circ --></div></div></div></div></div></section><style>@media (min-width: 992px) { .liquid-row-responsive-6265270d78fb0 {padding-top:140px !important; padding-bottom:65px !important;  }  }    </style><section class=\"vc_row hidden-xs hidden-sm hidden-md hidden-lg vc_custom_1626613908607 liquid-row-responsive-6265270d78fb0 liquid-row-shadowbox-6265270d78fe6\"><div class=\"ld-container container\"><div class=\"row ld-row ld-row-outer vc_row-o-equal-height vc_row-o-content-middle vc_row-flex\"><div class=\"wpb_column vc_column_container vc_col-sm-12 vc_col-md-6 liquid-column-6265270d798e9\"><div class=\"vc_column-inner  \" ><div class=\"wpb_wrapper\"  ><div id=\"ld_images_group_element_6265270d79a29\" class=\"lqd-imggrp-single ld_images_group_element_6265270d79a29\" data-hover3d=\"true\" data-float=\"ease\" >\\r\\n\\t\\r\\n\\t<div class=\"lqd-imggrp-img-container\" data-stacking-factor=\"1\"   >\\r\\n\\t\\t\\r\\n\\t\\t\\t\\t\\r\\n\\t\\t\\t\\t<figure ><img width=\"537\" height=\"568\" src=\"data:image/svg+xml,%3Csvg xmlns=&#039;http://www.w3.org/2000/svg&#039; viewBox=&#039;0 0 896 948&#039;%3E%3C/svg%3E\" class=\" ld-lazyload\" alt=\"\" data-src=\"https://menuco.co/wp-content/uploads/2021/01/seo3@2x.jpg\" data-srcset=\"https://menuco.co/wp-content/uploads/2021/01/seo3@2x-284x300.jpg 284w, https://menuco.co/wp-content/uploads/2021/01/seo3@2x.jpg 896w\" data-aspect=\"0.94514767932489\" /></figure>\\t\\t\\t\\t\\t\\t\\t\\t\\r\\n\\t</div><!-- /.lqd-imggrp-content -->\\r\\n</div><!-- /.lqd-imggrp-single --></div></div></div><div class=\"wpb_column vc_column_container vc_col-sm-12 vc_col-md-offset-1 vc_col-md-5 text-center text-md-left liquid-column-6265270d848d5\"><div class=\"vc_column-inner  \" ><div class=\"wpb_wrapper\"  data-custom-animations=\"true\" data-ca-options=\\'{\"triggerHandler\":\"inview\",\"animationTarget\":\"all-childs\",\"duration\":\"1800\",\"delay\":\"180\",\"ease\":\"power4.out\",\"direction\":\"forward\",\"initValues\":{\"x\":40,\"y\":25,\"rotationZ\":2,\"transformOriginX\":50,\"transformOriginY\":50,\"transformOriginZ\":\"0px\",\"opacity\":0},\"animations\":{\"x\":0,\"y\":0,\"rotationZ\":0,\"transformOriginX\":50,\"transformOriginY\":50,\"transformOriginZ\":\"0px\",\"opacity\":1}}\\'><style>.ld_fancy_heading_6265270d84af8 .lqd-highlight-inner{height:0.275em;bottom:0px;}</style><div class=\"ld-fancy-heading ld_fancy_heading_6265270d84af8\">\\r\\n\\t<h6 class=\"ld-fh-element lqd-highlight-underline lqd-highlight-grow-left text-decoration-default\"   >  Increase conversion rate</h6></div><style>.ld_fancy_heading_6265270d864bd h2 {font-size:38px; } @media (min-width: 992px) { .ld_fancy_heading_6265270d864bd h2 {font-size:43px; }  } .ld_fancy_heading_6265270d864bd h2 {margin-bottom:0.6em !important;  } .ld_fancy_heading_6265270d864bd .lqd-highlight-inner{height:0.275em;bottom:0px;}.ld_fancy_heading_6265270d864bd h2 {font-size:38px; } @media (min-width: 992px) { .ld_fancy_heading_6265270d864bd h2 {font-size:43px; }  } .ld_fancy_heading_6265270d864bd h2 {margin-bottom:0.6em !important;  } </style><div class=\"ld-fancy-heading ld_fancy_heading_6265270d864bd\">\\r\\n\\t<h2 class=\"ld-fh-element lqd-highlight-underline lqd-highlight-grow-left text-decoration-default lqd-split-lines\"   data-split-text=\"true\" data-split-options=\\'{\"type\":\"lines\"}\\'>  Organic Search Engine Optimisation</h2></div><style>.ld_fancy_heading_6265270d88165 p{color:rgb(89, 91, 116);}.ld_fancy_heading_6265270d88165 p {font-size:18px; } .ld_fancy_heading_6265270d88165 p {line-height:30px; } .ld_fancy_heading_6265270d88165 p {--element-line-height:30px; } .ld_fancy_heading_6265270d88165 p {margin-bottom:1.75em !important;  } .ld_fancy_heading_6265270d88165 .lqd-highlight-inner{height:0.275em;bottom:0px;}.ld_fancy_heading_6265270d88165 p {font-size:18px; } .ld_fancy_heading_6265270d88165 p {line-height:30px; } .ld_fancy_heading_6265270d88165 p {--element-line-height:30px; } .ld_fancy_heading_6265270d88165 p {margin-bottom:1.75em !important;  } </style><div class=\"ld-fancy-heading ld_fancy_heading_6265270d88165\">\\r\\n\\t<p class=\"ld-fh-element lqd-highlight-underline lqd-highlight-grow-left text-decoration-default lqd-split-lines\"   data-split-text=\"true\" data-split-options=\\'{\"type\":\"lines\"}\\'>  We build and activate brands through cultural insight, strategic vision, and the power of emotion across every element of its expression. Our eCommerce design starts and ends with a best-in-class experience strategy that builds brands and drives transactions.</p></div><a href=\"https://www.youtube.com/watch?v=KEc3aGjN228\" class=\"btn btn-naked text-uppercase btn-hover-txt-liquid-y fresco btn-hover-swp btn-has-label ld_button_6265270d89a75\" >\\r\\n\\t<span>\\r\\n\\t\\t\\r\\n\\t\\t\\t\\t\\t<span class=\"btn-txt\" data-text=\"Learn more\" data-transition-delay=\"true\"\\r\\n\\t\\t\\t\\t\\t    data-delay-options=\\'{\"elements\": \".lqd-chars\", \"delayType\": \"animation\", \"startDelay\": 0, \"delayBetween\": 32.5}\\'\\r\\n\\t\\t\\t\\t\\t    data-split-text=\"true\"\\r\\n\\t\\t\\t\\t\\t    data-split-options=\\'{\"type\": \"chars, words\"}\\'>Learn more</span>\\r\\n\\t\\t\\t\\r\\n\\t<span class=\"btn-icon\"><i class=\"lqd-icn-ess icon-md-arrow-forward\"></i></span>\\t<span class=\"btn-icon\"><i class=\"lqd-icn-ess icon-md-arrow-forward\"></i></span>\\t\\t\\t</span>\\r\\n</a>\\r\\n</div></div></div></div></div></section><style>@media (min-width: 992px) { .liquid-row-responsive-6265270d8ba25 {margin-right:50px !important; margin-left:50px !important; padding-top:80px !important; padding-bottom:80px !important;  }  }  .liquid-row-shadowbox-6265270d8ba52{-webkit-box-shadow:0px 90px 90px 90px #ededff;-moz-box-shadow:0px 90px 90px 90px #ededff;box-shadow:0px 90px 90px 90px #ededff;}  </style><section style=\"background:linear-gradient(270deg, rgb(131, 59, 255) 0.6369426751592356%, #ac1de1 100%);\" data-bg-image=\"url\" class=\"vc_row hidden-xs hidden-sm hidden-md hidden-lg vc_custom_1626613927965 liquid-row-responsive-6265270d8ba25 liquid-row-shadowbox-6265270d8ba52 vc_row-has-fill vc_row-has-bg\"><div class=\"ld-container container\"><div class=\"row ld-row ld-row-outer\"><div class=\"wpb_column vc_column_container vc_col-sm-12 vc_col-md-offset-3 vc_col-md-6 text-center liquid-column-6265270d8c30b\"><div class=\"vc_column-inner  vc_custom_1577868995137\" ><div class=\"wpb_wrapper\"  data-custom-animations=\"true\" data-ca-options=\\'{\"triggerHandler\":\"inview\",\"animationTarget\":\"all-childs\",\"duration\":\"1800\",\"delay\":\"180\",\"ease\":\"power4.out\",\"direction\":\"forward\",\"initValues\":{\"y\":45,\"transformOriginX\":50,\"transformOriginY\":50,\"transformOriginZ\":\"0px\",\"opacity\":0},\"animations\":{\"y\":0,\"transformOriginX\":50,\"transformOriginY\":50,\"transformOriginZ\":\"0px\",\"opacity\":1}}\\'><style>.ld_fancy_heading_6265270d8c539 h6{color:rgb(255, 255, 255);background:rgba(0, 0, 0, 0.27);}.ld_fancy_heading_6265270d8c539 h6 {padding-top:10px !important; padding-right:20px !important; padding-bottom:10px !important; padding-left:20px !important;  } .ld_fancy_heading_6265270d8c539 .lqd-highlight-inner{height:0.275em;bottom:0px;}.ld_fancy_heading_6265270d8c539 h6 {padding-top:10px !important; padding-right:20px !important; padding-bottom:10px !important; padding-left:20px !important;  } </style><div class=\"ld-fancy-heading ld-fh-has-fill ld_fancy_heading_6265270d8c539\">\\r\\n\\t<h6 class=\"ld-fh-element circle lqd-highlight-underline lqd-highlight-grow-left text-decoration-default\"   >  Nasıl başlarım?</h6></div><style>.ld_fancy_heading_6265270d8df3c h2{color:rgb(255, 255, 255);}.ld_fancy_heading_6265270d8df3c h2 {font-size:35px; } @media (min-width: 992px) { .ld_fancy_heading_6265270d8df3c h2 {font-size:43px; }  } .ld_fancy_heading_6265270d8df3c .lqd-highlight-inner{height:0.275em;bottom:0px;}.ld_fancy_heading_6265270d8df3c h2 {font-size:35px; } @media (min-width: 992px) { .ld_fancy_heading_6265270d8df3c h2 {font-size:43px; }  } </style><div class=\"ld-fancy-heading ld_fancy_heading_6265270d8df3c\">\\r\\n\\t<h2 class=\"ld-fh-element lqd-highlight-underline lqd-highlight-grow-left text-decoration-default\"   >  Aşağıdaki adımları takip et</h2></div></div></div></div><style>@media (min-width: 992px) { .liquid-column-responsive-6265270d90158 > .vc_column-inner {padding-right:0px !important; padding-left:0px !important;  }  } </style><div class=\"wpb_column vc_column_container vc_col-sm-12 liquid-column-6265270d90155 liquid-column-responsive-6265270d90158\"><div class=\"vc_column-inner  vc_custom_1605983239537\" ><div class=\"wpb_wrapper\"  data-custom-animations=\"true\" data-ca-options=\\'{\"triggerHandler\":\"inview\",\"animationTarget\":\"all-childs\",\"duration\":\"1800\",\"delay\":\"180\",\"ease\":\"power4.out\",\"direction\":\"forward\",\"initValues\":{\"x\":45,\"transformOriginX\":50,\"transformOriginY\":50,\"transformOriginZ\":\"0px\",\"opacity\":0},\"animations\":{\"x\":0,\"transformOriginX\":50,\"transformOriginY\":50,\"transformOriginZ\":\"0px\",\"opacity\":1}}\\'><style>.ld_process_box_container_6265270d902bb.lqd-pb-icon-between .lqd-pb-column:not(:last-child):after, .ld_process_box_container_6265270d902bb.lqd-pb-icon-between-middle .lqd-pb-column:not(:last-child):after{color:rgb(255, 255, 255);}</style><div id=\"ld_process_box_container_6265270d902bb\" class=\"lqd-pb-container lqd-pb-nums lqd-pb-icon-between ld_process_box_container_6265270d902bb\">\\r\\n\\r\\n\\t<div class=\"lqd-pb-row row d-md-flex\">\\r\\n\\t<p><style>.ld_process_box_6265270d916a6 h3{font-size:20px;line-height:1.5em;color:rgb(255, 255, 255);}.ld_process_box_6265270d916a6 .lqd-pb-active-shape{background:rgba(255, 255, 255, 0);border-color:rgba(255, 255, 255, 0.27);color:rgb(255, 255, 255);}.ld_process_box_6265270d916a6 .lqd-pb-shape-border path{stroke:rgb(255, 255, 255);}</style><div class=\"lqd-pb-column col-md-4\">\\r\\n\\t<div id=\"ld_process_box_6265270d916a6\" class=\"ld_process_box_6265270d916a6 lqd-pb lqd-pb-style-1 lqd-pb-shaped lqd-pb-circle text-center\">\\r\\n\\t\\t<div class=\"lqd-pb-num-container font-weight-bold mb-5\">\\r\\n\\t\\t\\t<div class=\"lqd-pb-num lqd-pb-active-shape mx-auto\">\\r\\n\\t\\t\\t\\t<div class=\"lqd-pb-shape-border\">\\r\\n\\t\\t\\t\\t\\t<svg xmlns=\"http://www.w3.org/2000/svg\" width=\"127\" height=\"126\" viewBox=\"0 0 127 126\">\\r\\n\\t\\t\\t\\t\\t\\t<path fill=\"none\" stroke-dasharray=\"0 9.9\" stroke-linecap=\"round\" stroke-width=\"2.2\" d=\"M61.5,123 C95.4655121,123 123,95.4655121 123,61.5 C123,27.5344879 95.4655121,0 61.5,0 C27.5344879,0 0,27.5344879 0,61.5 C0,95.4655121 27.5344879,123 61.5,123 Z\" transform=\"translate(2 1)\"/>\\r\\n\\t\\t\\t\\t\\t</svg>\\r\\n\\t\\t\\t\\t</div><!-- /.lqd-pb-shape-border -->\\r\\n\\t\\t\\t</div>\\r\\n\\t\\t</div><!-- /.lqd-pb-num-container -->\\r\\n\\t\\t<div class=\"lqd-pb-content px-md-6\">\\r\\n\\r\\n\\t\\t\\t<h3 class=\"font-weight-medium mt-0 mb-2 h5\">Paketini seç ve restaurantını kaydet</h3>\\t\\t\\t<p>Üyelik işlemleri sadece birkaç dakika! paketini seç ve bilgilerini girip üyeliğini tamamla.</p>\\n\\r\\n\\t\\t</div><!-- /.lqd-pb-content -->\\r\\n\\t</div><!-- /.lqd-pb lqd-pb-style-1 -->\\r\\n</div><!-- /.lqd-pb-column col-md-4 --><style>.ld_process_box_6265270d92cbd h3{font-size:20px;line-height:1.5em;color:rgb(255, 255, 255);}.ld_process_box_6265270d92cbd .lqd-pb-active-shape{background:rgba(255, 255, 255, 0);border-color:rgba(255, 255, 255, 0.27);color:rgb(255, 255, 255);}.ld_process_box_6265270d92cbd .lqd-pb-shape-border path{stroke:rgb(192, 198, 211);}</style><div class=\"lqd-pb-column col-md-4\">\\r\\n\\t<div id=\"ld_process_box_6265270d92cbd\" class=\"ld_process_box_6265270d92cbd lqd-pb lqd-pb-style-1 lqd-pb-shaped lqd-pb-circle text-center\">\\r\\n\\t\\t<div class=\"lqd-pb-num-container font-weight-bold mb-5\">\\r\\n\\t\\t\\t<div class=\"lqd-pb-num lqd-pb-active-shape mx-auto\">\\r\\n\\t\\t\\t\\t<div class=\"lqd-pb-shape-border\">\\r\\n\\t\\t\\t\\t\\t<svg xmlns=\"http://www.w3.org/2000/svg\" width=\"127\" height=\"126\" viewBox=\"0 0 127 126\">\\r\\n\\t\\t\\t\\t\\t\\t<path fill=\"none\" stroke-dasharray=\"0 9.9\" stroke-linecap=\"round\" stroke-width=\"2.2\" d=\"M61.5,123 C95.4655121,123 123,95.4655121 123,61.5 C123,27.5344879 95.4655121,0 61.5,0 C27.5344879,0 0,27.5344879 0,61.5 C0,95.4655121 27.5344879,123 61.5,123 Z\" transform=\"translate(2 1)\"/>\\r\\n\\t\\t\\t\\t\\t</svg>\\r\\n\\t\\t\\t\\t</div><!-- /.lqd-pb-shape-border -->\\r\\n\\t\\t\\t</div>\\r\\n\\t\\t</div><!-- /.lqd-pb-num-container -->\\r\\n\\t\\t<div class=\"lqd-pb-content px-md-6\">\\r\\n\\r\\n\\t\\t\\t<h3 class=\"font-weight-medium mt-0 mb-2 h5\">Menüyü yükle</h3>\\t\\t\\t<p>Standart ve Premıum paketlerini seçtiysen menünü destek ekibimize gönder, kısa sürede sistemi kullanıma hazır hale getirelim.</p>\\n\\r\\n\\t\\t</div><!-- /.lqd-pb-content -->\\r\\n\\t</div><!-- /.lqd-pb lqd-pb-style-1 -->\\r\\n</div><!-- /.lqd-pb-column col-md-4 --><style>.ld_process_box_6265270d93bba h3{font-size:20px;line-height:1.5em;color:rgb(255, 255, 255);}.ld_process_box_6265270d93bba .lqd-pb-active-shape{background:rgba(255, 255, 255, 0);border-color:rgba(255, 255, 255, 0.27);color:rgb(255, 255, 255);}.ld_process_box_6265270d93bba .lqd-pb-shape-border path{stroke:rgb(192, 198, 211);}</style><div class=\"lqd-pb-column col-md-4\">\\r\\n\\t<div id=\"ld_process_box_6265270d93bba\" class=\"ld_process_box_6265270d93bba lqd-pb lqd-pb-style-1 lqd-pb-shaped lqd-pb-circle text-center\">\\r\\n\\t\\t<div class=\"lqd-pb-num-container font-weight-bold mb-5\">\\r\\n\\t\\t\\t<div class=\"lqd-pb-num lqd-pb-active-shape mx-auto\">\\r\\n\\t\\t\\t\\t<div class=\"lqd-pb-shape-border\">\\r\\n\\t\\t\\t\\t\\t<svg xmlns=\"http://www.w3.org/2000/svg\" width=\"127\" height=\"126\" viewBox=\"0 0 127 126\">\\r\\n\\t\\t\\t\\t\\t\\t<path fill=\"none\" stroke-dasharray=\"0 9.9\" stroke-linecap=\"round\" stroke-width=\"2.2\" d=\"M61.5,123 C95.4655121,123 123,95.4655121 123,61.5 C123,27.5344879 95.4655121,0 61.5,0 C27.5344879,0 0,27.5344879 0,61.5 C0,95.4655121 27.5344879,123 61.5,123 Z\" transform=\"translate(2 1)\"/>\\r\\n\\t\\t\\t\\t\\t</svg>\\r\\n\\t\\t\\t\\t</div><!-- /.lqd-pb-shape-border -->\\r\\n\\t\\t\\t</div>\\r\\n\\t\\t</div><!-- /.lqd-pb-num-container -->\\r\\n\\t\\t<div class=\"lqd-pb-content px-md-6\">\\r\\n\\r\\n\\t\\t\\t<h3 class=\"font-weight-medium mt-0 mb-2 h5\">Kullanmaya başla</h3>\\t\\t\\t<p>Eğer masalara yerleştirmek için QR kodlu menü kartlarına ihtiyacın varsa bizden destek alabilirsiniz.\\xa0</p>\\n\\r\\n\\t\\t</div><!-- /.lqd-pb-content -->\\r\\n\\t</div><!-- /.lqd-pb lqd-pb-style-1 -->\\r\\n</div><!-- /.lqd-pb-column col-md-4 --></p>\\n\\t</div><!-- /.row -->\\r\\n\\r\\n</div><!-- /.lqd-pb-container --></div></div></div></div></div></section><style>@media (min-width: 992px) { .liquid-row-responsive-6265270d9583a {padding-top:90px !important; padding-bottom:90px !important;  }  }    </style><section class=\"vc_row hidden-xs hidden-sm hidden-md hidden-lg vc_custom_1626615934412 liquid-row-responsive-6265270d9583a liquid-row-shadowbox-6265270d9587a\"><div class=\"ld-container container\"><div class=\"row ld-row ld-row-outer\"><div class=\"wpb_column vc_column_container vc_col-sm-12 vc_col-md-offset-3 vc_col-md-6 text-center liquid-column-6265270d964ec\"><div class=\"vc_column-inner  vc_custom_1612951351272\" ><div class=\"wpb_wrapper\"  ><style>.ld_fancy_heading_6265270d96756 h2 {font-size:38px; } @media (min-width: 992px) { .ld_fancy_heading_6265270d96756 h2 {font-size:43px; }  } .ld_fancy_heading_6265270d96756 .lqd-highlight-inner{height:0.275em;bottom:0px;}.ld_fancy_heading_6265270d96756 h2 {font-size:38px; } @media (min-width: 992px) { .ld_fancy_heading_6265270d96756 h2 {font-size:43px; }  } </style><div class=\"ld-fancy-heading ld_fancy_heading_6265270d96756\">\\r\\n\\t<h2 class=\"ld-fh-element lqd-highlight-underline lqd-highlight-grow-left text-decoration-default lqd-split-lines\"   data-split-text=\"true\" data-split-options=\\'{\"type\":\"lines\"}\\' data-custom-animations=\"true\" data-ca-options=\\'{\"triggerHandler\":\"inview\",\"animationTarget\":\".lqd-lines > .split-inner\",\"duration\":\"1800\",\"delay\":\"180\",\"ease\":\"power4.out\",\"direction\":\"forward\",\"initValues\":{\"y\":65,\"rotationZ\":10,\"opacity\":0},\"animations\":{\"y\":0,\"rotationZ\":0,\"opacity\":1}}\\'>  NELER VAR</h2></div></div></div></div><div class=\"wpb_column vc_column_container vc_col-sm-12 liquid-column-6265270d98b5e\"><div class=\"vc_column-inner  \" ><div class=\"wpb_wrapper\"  ><div data-custom-animations=\"true\" data-ca-options=\\'{\"triggerHandler\":\"inview\",\"animationTarget\":\".wpb_column\",\"duration\":\"1800\",\"startDelay\":\"250\",\"delay\":\"180\",\"ease\":\"power4.out\",\"direction\":\"forward\",\"initValues\":{\"x\":55,\"transformOriginX\":50,\"transformOriginY\":50,\"transformOriginZ\":\"0px\",\"opacity\":0},\"animations\":{\"x\":0,\"transformOriginX\":50,\"transformOriginY\":50,\"transformOriginZ\":\"0px\",\"opacity\":1}}\\' class=\"vc_row vc_inner vc_row-fluid liquid-row-shadowbox-6265270d997bc\"><div class=\"ld-container container-fluid\"><div class=\"row ld-row ld-row-inner\"><style>@media (min-width: 992px) { .liquid-column-responsive-6265270d9a0c9 > .vc_column-inner {padding-right:15px !important; padding-left:15px !important;  }  } .liquid-column-6265270d9a0c6{ --lqd-move-onhover-val:-5px}.liquid-column-6265270d9a0c6 > .vc_column-inner:hover { box-shadow:0px 10px 35px 0px rgba(0, 0, 0, 0.08)}</style><div class=\"wpb_column vc_column_container vc_col-sm-12 vc_col-md-4 liquid-column-6265270d9a0c6 liquid-column-responsive-6265270d9a0c9 vc_col-has-fill lqd-column-move-onhover\"><div class=\"vc_column-inner vc_custom_1612951397960\" ><div class=\"liquid-column-overlay pointer-events-none liquid-column-overlay-hover\" style=\"background:rgb(255, 255, 255)\"></div><div class=\"wpb_wrapper\" ><style>.ld_icon_box_6265270d9a2dc .iconbox-icon-container{margin-bottom:65px !important;border-radius:px;}.ld_icon_box_6265270d9a2dc h3{margin-bottom:30px;}.ld_icon_box_6265270d9a2dc .iconbox-icon-container img,.ld_icon_box_6265270d9a2dc .iconbox-icon-container > svg{width:20 !important;}</style>\\r\\n<div class=\"iconbox text-align-default iconbox-custombg iconbox-xl iconbox-heading-sm ld_icon_box_6265270d9a2dc\" id=\"ld_icon_box_6265270d9a2dc\"   >\\r\\n\\t\\r\\n\\t\\t\\t\\t\\t\\r\\n\\t\\r\\n\\t<div class=\"iconbox-icon-wrap\"><span class=\"iconbox-icon-container\"><span class=\"icon-custom-bg\"><?xml version=\"1.0\" encoding=\"UTF-8\"?> <svg xmlns=\"http://www.w3.org/2000/svg\" width=\"125.733\" height=\"124.052\" viewBox=\"0 0 125.733 124.052\"><path d=\"M137.022,149.07c-18.253,29.8-62.369,49.053-92.474,31.3S8.84,108.335,30.357,80.8C69.443,30.784,168.55,97.6,137.022,149.07Z\" transform=\"translate(-17.385 -63.129)\" fill=\"#ddfcff\"></path></svg> </span><img src=\"\" class=\"liquid-image-icon\" /></span></div>\\t\\r\\n\\t\\t\\r\\n\\t<div class=\"contents\">\\t\\r\\n\\t\\t\\r\\n\\t<h3 class=\"\">Otomatik Dil Algılama</h3>\\t<p>Ceating brand identities, digital experiences, and print materials that communicate clearly.</p>\\n\\t<a href=\"#\" class=\"btn btn-naked btn-has-label ld_button_6265270da3e0d\" >\\r\\n\\t<span>\\r\\n\\t\\t\\r\\n\\t\\t\\t\\t\\t<span class=\"btn-txt\" data-text=\"Explore Hub\" >Explore Hub</span>\\r\\n\\t\\t\\t\\r\\n\\t<span class=\"btn-icon\"><i class=\"lqd-icn-ess icon-md-arrow-forward\"></i></span>\\t\\t\\t\\t</span>\\r\\n</a>\\r\\n\\t\\r\\n\\t</div>\\t\\r\\n\\t\\r\\n</div>\\r\\n</div></div></div><style>@media (min-width: 992px) { .liquid-column-responsive-6265270da61be > .vc_column-inner {padding-right:15px !important; padding-left:15px !important;  }  } .liquid-column-6265270da61ba{ --lqd-move-onhover-val:-5px}.liquid-column-6265270da61ba > .vc_column-inner:hover { box-shadow:0px 10px 35px 0px rgba(0, 0, 0, 0.08)}</style><div class=\"wpb_column vc_column_container vc_col-sm-12 vc_col-md-4 liquid-column-6265270da61ba liquid-column-responsive-6265270da61be vc_col-has-fill lqd-column-move-onhover\"><div class=\"vc_column-inner vc_custom_1612951407262\" ><div class=\"liquid-column-overlay pointer-events-none liquid-column-overlay-hover\" style=\"background:rgb(255, 255, 255)\"></div><div class=\"wpb_wrapper\" ><style>.ld_icon_box_6265270da64c9 .iconbox-icon-container{margin-bottom:65px !important;border-radius:px;}.ld_icon_box_6265270da64c9 h3{margin-bottom:30px;}</style>\\r\\n<div class=\"iconbox text-align-default iconbox-custombg iconbox-xl iconbox-heading-sm ld_icon_box_6265270da64c9\" id=\"ld_icon_box_6265270da64c9\"   >\\r\\n\\t\\r\\n\\t\\t\\t\\t\\t\\r\\n\\t\\r\\n\\t<div class=\"iconbox-icon-wrap\"><span class=\"iconbox-icon-container\"><span class=\"icon-custom-bg\"><?xml version=\"1.0\" encoding=\"UTF-8\"?> <svg xmlns=\"http://www.w3.org/2000/svg\" width=\"125\" height=\"123.329\" viewBox=\"0 0 125 123.329\"><path d=\"M136.325,148.569C118.179,178.193,74.32,197.336,44.39,179.69S8.89,108.071,30.282,80.7C69.14,30.972,167.669,97.4,136.325,148.569Z\" transform=\"translate(-17.385 -63.129)\" fill=\"#f2edff\"></path></svg> </span><img src=\"\" class=\"liquid-image-icon\" /></span></div>\\t\\r\\n\\t\\t\\r\\n\\t<div class=\"contents\">\\t\\r\\n\\t\\t\\r\\n\\t<h3 class=\"\">70+ Dil Seçeneği</h3>\\t<p>We have an experienced team of production and inspection personnel to ensure quality.</p>\\n\\t<style>.ld_button_6265270daf977 {font-weight:700; } .ld_button_6265270daf977 {font-weight:700; } .ld_button_6265270daf977 {font-weight:700; } .ld_button_6265270daf977 {font-weight:700; } .ld_button_6265270daf977 {font-weight:700; } </style><a href=\"#\" class=\"btn btn-naked btn-hover-txt-liquid-x-alt btn-hover-swp btn-has-label ld_button_6265270daf977 vc_custom_1626425902761\" data-localscroll=\"true\" data-localscroll-options=\"{&quot;scrollBelowSection&quot;:true}\" >\\r\\n\\t<span>\\r\\n\\t\\t\\r\\n\\t\\t\\t\\t\\t<span class=\"btn-txt\" data-text=\"Explore Hub\" data-transition-delay=\"true\"\\r\\n\\t\\t\\t\\t\\t    data-delay-options=\\'{\"elements\": \".lqd-chars\", \"delayType\": \"animation\", \"startDelay\": 0, \"delayBetween\": 32.5, \"reverse\": true}\\'\\r\\n\\t\\t\\t\\t\\t    data-split-text=\"true\"\\r\\n\\t\\t\\t\\t\\t    data-split-options=\\'{\"type\": \"chars, words\"}\\'>Explore Hub</span>\\r\\n\\t\\t\\t\\r\\n\\t<span class=\"btn-icon\"><i class=\"lqd-icn-ess icon-md-arrow-forward\"></i></span>\\t<span class=\"btn-icon\"><i class=\"lqd-icn-ess icon-md-arrow-forward\"></i></span>\\t\\t\\t</span>\\r\\n</a>\\r\\n\\t\\r\\n\\t</div>\\t\\r\\n\\t\\r\\n</div>\\r\\n</div></div></div><style>@media (min-width: 992px) { .liquid-column-responsive-6265270db2586 > .vc_column-inner {padding-right:15px !important; padding-left:15px !important;  }  } .liquid-column-6265270db2581{ --lqd-move-onhover-val:-5px}.liquid-column-6265270db2581 > .vc_column-inner:hover { box-shadow:0px 10px 35px 0px rgba(0, 0, 0, 0.08)}</style><div class=\"wpb_column vc_column_container vc_col-sm-12 vc_col-md-4 liquid-column-6265270db2581 liquid-column-responsive-6265270db2586 vc_col-has-fill lqd-column-move-onhover\"><div class=\"vc_column-inner vc_custom_1612951419457\" ><div class=\"liquid-column-overlay pointer-events-none liquid-column-overlay-hover\" style=\"background:rgb(255, 255, 255)\"></div><div class=\"wpb_wrapper\" ><style>.ld_icon_box_6265270db27e5 .iconbox-icon-container{margin-bottom:65px !important;border-radius:px;}.ld_icon_box_6265270db27e5 h3{margin-bottom:30px;}</style>\\r\\n<div class=\"iconbox text-align-default iconbox-custombg iconbox-xl iconbox-heading-sm ld_icon_box_6265270db27e5\" id=\"ld_icon_box_6265270db27e5\"   >\\r\\n\\t\\r\\n\\t\\t\\t\\t\\t\\r\\n\\t\\r\\n\\t<div class=\"iconbox-icon-wrap\"><span class=\"iconbox-icon-container\"><span class=\"icon-custom-bg\"><?xml version=\"1.0\" encoding=\"UTF-8\"?> <svg xmlns=\"http://www.w3.org/2000/svg\" width=\"125\" height=\"123.329\" viewBox=\"0 0 125 123.329\"><path d=\"M136.325,148.569C118.179,178.193,74.32,197.336,44.39,179.69S8.89,108.071,30.282,80.7C69.14,30.972,167.669,97.4,136.325,148.569Z\" transform=\"translate(-17.385 -63.129)\" fill=\"#ffe5e5\"></path></svg> </span><img src=\"\" class=\"liquid-image-icon\" /></span></div>\\t\\r\\n\\t\\t\\r\\n\\t<div class=\"contents\">\\t\\r\\n\\t\\t\\r\\n\\t<h3 class=\"\">Bas Konuş (Sesli Çeviri)</h3>\\t<p>Uncover, analyze, track, and report on SEO data. Our quality policy: strict to have best product.</p>\\n\\t<style>.ld_button_6265270dbe0ba {font-weight:700; } .ld_button_6265270dbe0ba {font-weight:700; } .ld_button_6265270dbe0ba {font-weight:700; } .ld_button_6265270dbe0ba {font-weight:700; } .ld_button_6265270dbe0ba {font-weight:700; } </style><a href=\"#\" class=\"btn btn-naked btn-hover-txt-liquid-x-alt btn-hover-swp btn-has-label ld_button_6265270dbe0ba vc_custom_1626426384448\" data-localscroll=\"true\" data-localscroll-options=\"{&quot;scrollBelowSection&quot;:true}\" >\\r\\n\\t<span>\\r\\n\\t\\t\\r\\n\\t\\t\\t\\t\\t<span class=\"btn-txt\" data-text=\"Explore Hub\" data-transition-delay=\"true\"\\r\\n\\t\\t\\t\\t\\t    data-delay-options=\\'{\"elements\": \".lqd-chars\", \"delayType\": \"animation\", \"startDelay\": 0, \"delayBetween\": 32.5, \"reverse\": true}\\'\\r\\n\\t\\t\\t\\t\\t    data-split-text=\"true\"\\r\\n\\t\\t\\t\\t\\t    data-split-options=\\'{\"type\": \"chars, words\"}\\'>Explore Hub</span>\\r\\n\\t\\t\\t\\r\\n\\t<span class=\"btn-icon\"><i class=\"lqd-icn-ess icon-md-arrow-forward\"></i></span>\\t<span class=\"btn-icon\"><i class=\"lqd-icn-ess icon-md-arrow-forward\"></i></span>\\t\\t\\t</span>\\r\\n</a>\\r\\n\\t\\r\\n\\t</div>\\t\\r\\n\\t\\r\\n</div>\\r\\n</div></div></div></div></div></div></div></div></div></div></div></section><style>@media (min-width: 992px) { .liquid-row-responsive-6265270dc0a24 {padding-top:100px !important; padding-bottom:100px !important;  }  }    </style><section class=\"vc_row hidden-xs hidden-sm hidden-md hidden-lg vc_custom_1626537992187 liquid-row-responsive-6265270dc0a24 liquid-row-shadowbox-6265270dc0a54\"><div class=\"ld-container container\"><div class=\"row ld-row ld-row-outer\"><div class=\"wpb_column vc_column_container vc_col-sm-12 vc_col-md-offset-3 vc_col-md-6 text-center liquid-column-6265270dc125c\"><div class=\"vc_column-inner  vc_custom_1577783882845\" ><div class=\"wpb_wrapper\"  ><style>.ld_fancy_heading_6265270dc142c .lqd-highlight-inner{height:0.275em;bottom:0px;}</style><div class=\"ld-fancy-heading ld_fancy_heading_6265270dc142c\">\\r\\n\\t<h6 class=\"ld-fh-element lqd-highlight-underline lqd-highlight-grow-left text-decoration-default\"   >  See all projects</h6></div><style>.ld_fancy_heading_6265270dc2e10 h2 {font-size:38px; } @media (min-width: 992px) { .ld_fancy_heading_6265270dc2e10 h2 {font-size:43px; }  } .ld_fancy_heading_6265270dc2e10 .lqd-highlight-inner{height:0.275em;bottom:0px;}.ld_fancy_heading_6265270dc2e10 h2 {font-size:38px; } @media (min-width: 992px) { .ld_fancy_heading_6265270dc2e10 h2 {font-size:43px; }  } </style><div class=\"ld-fancy-heading ld_fancy_heading_6265270dc2e10\">\\r\\n\\t<h2 class=\"ld-fh-element lqd-highlight-underline lqd-highlight-grow-left text-decoration-default\"   >  Case Studies</h2></div></div></div></div></div></div></section><style>@media (min-width: 992px) { .liquid-row-responsive-6265270dc5403 {padding-top:100px !important; padding-bottom:100px !important;  }  }    </style><section class=\"vc_row hidden-xs hidden-sm hidden-md hidden-lg vc_custom_1626617271784 liquid-row-responsive-6265270dc5403 liquid-row-shadowbox-6265270dc542a\"><div class=\"ld-container container\"><div class=\"row ld-row ld-row-outer\"><div class=\"wpb_column vc_column_container vc_col-sm-12 vc_col-md-6 vc_hidden-sm vc_hidden-xs liquid-column-6265270dc5e01\"><div class=\"vc_column-inner  \" ><div class=\"wpb_wrapper\"  ><div id=\"ld_images_group_container_6265270dc5faa\" class=\"lqd-imggrp-container ld_images_group_container_6265270dc5faa\"   >\\r\\n\\t<div class=\"lqd-imggrp-inner\">\\r\\n\\t\\t<div id=\"ld_images_group_element_6265270dc6d1d\" class=\"lqd-imggrp-single ld_images_group_element_6265270dc6d1d\"   >\\r\\n\\t\\r\\n\\t<div class=\"lqd-imggrp-img-container\"    data-parallax=\"true\" data-parallax-from=\\'{\"-webkit-clip-path\": \"circle(0% at 0 50%)\", \"clip-path\": \"circle(0% at 0 50%)\"}\\' data-parallax-to=\\'{\"-webkit-clip-path\": \"circle(115% at 0 50%)\", \"clip-path\": \"circle(115% at 0 50%)\"}\\' data-parallax-options=\\'{\"overflowHidden\":false,\"ease\":\"easeOutCirc\",\"start\":\"top bottom\",\"end\":\"bottom1150 top\"}\\'>\\r\\n\\t\\t\\r\\n\\t\\t\\t\\t\\r\\n\\t\\t\\t\\t<figure class=\"loaded\"><img src=\"https://menuco.co/wp-content/uploads/2019/12/Image-BG.svg\" class=\"attachment-full size-full\" alt=\"\" loading=\"lazy\" /></figure>\\t\\t\\t\\t\\t\\t\\t\\t\\r\\n\\t</div><!-- /.lqd-imggrp-content -->\\r\\n</div><!-- /.lqd-imggrp-single --><style>.ld_images_group_element_6265270dcf761{position:absolute;}.ld_images_group_element_6265270dcf761 {top:33px !important; left:-33px !important;  } .ld_images_group_element_6265270dcf761 {top:33px !important; left:-33px !important;  } </style><div id=\"ld_images_group_element_6265270dcf761\" class=\"lqd-imggrp-single ld_images_group_element_6265270dcf761\"   >\\r\\n\\t\\r\\n\\t<div class=\"lqd-imggrp-img-container\"    data-parallax=\"true\" data-parallax-from=\\'{\"-webkit-clip-path\": \"circle(0% at 0 50%)\", \"clip-path\": \"circle(0% at 0 50%)\"}\\' data-parallax-to=\\'{\"-webkit-clip-path\": \"circle(115% at 0 50%)\", \"clip-path\": \"circle(115% at 0 50%)\"}\\' data-parallax-options=\\'{\"overflowHidden\":false,\"ease\":\"easeOutCirc\",\"offset\":\"100\",\"start\":\"top bottom\",\"end\":\"bottom1150 top\"}\\'>\\r\\n\\t\\t\\r\\n\\t\\t\\t\\t\\r\\n\\t\\t\\t\\t<figure ><img width=\"496\" height=\"496\" src=\"data:image/svg+xml,%3Csvg xmlns=&#039;http://www.w3.org/2000/svg&#039; viewBox=&#039;0 0 992 992&#039;%3E%3C/svg%3E\" class=\" ld-lazyload\" alt=\"\" data-src=\"https://menuco.co/wp-content/uploads/2019/12/Image@2x.png\" data-srcset=\"https://menuco.co/wp-content/uploads/2019/12/Image@2x-300x300.png 300w, https://menuco.co/wp-content/uploads/2019/12/Image@2x-150x150.png 150w, https://menuco.co/wp-content/uploads/2019/12/Image@2x.png 992w\" data-aspect=\"1\" /></figure>\\t\\t\\t\\t\\t\\t\\t\\t\\r\\n\\t</div><!-- /.lqd-imggrp-content -->\\r\\n</div><!-- /.lqd-imggrp-single --></p>\\n\\t\\r\\n\\t</div><!-- /.lqd-imggrp-inner -->\\r\\n</div><!-- /.lqd-imggrp-container --></div></div></div><style>@media (min-width: 992px) { .liquid-column-responsive-6265270ddc3ca > .vc_column-inner {padding-left:7% !important;  }  } </style><div class=\"wpb_column vc_column_container vc_col-sm-12 vc_col-md-6 text-center text-md-left liquid-column-6265270ddc3c5 liquid-column-responsive-6265270ddc3ca\"><div class=\"vc_column-inner  \" ><div class=\"wpb_wrapper\"  ><style>.ld_images_group_element_6265270ddc6b3{position:absolute;}.ld_images_group_element_6265270ddc6b3 {top:-90px !important; left:-100px !important;  } .ld_images_group_element_6265270ddc6b3 {top:-90px !important; left:-100px !important;  } </style><div id=\"ld_images_group_element_6265270ddc6b3\" class=\"lqd-imggrp-single ld_images_group_element_6265270ddc6b3\"   >\\r\\n\\t\\r\\n\\t<div class=\"lqd-imggrp-img-container\"    data-parallax=\"true\" data-parallax-from=\\'{\"y\":5}\\' data-parallax-to=\\'{\"y\":-120}\\' data-parallax-options=\\'{\"overflowHidden\":false,\"ease\":\"linear\",\"start\":\"top bottom\"}\\'>\\r\\n\\t\\t\\r\\n\\t\\t\\t\\t\\r\\n\\t\\t\\t\\t<figure class=\"loaded\"><img src=\"https://menuco.co/wp-content/uploads/2019/12/qupte.svg\" class=\"attachment-full size-full\" alt=\"\" loading=\"lazy\" /></figure>\\t\\t\\t\\t\\t\\t\\t\\t\\r\\n\\t</div><!-- /.lqd-imggrp-content -->\\r\\n</div><!-- /.lqd-imggrp-single --><style>.ld_fancy_heading_6265270de53da h6 {margin-bottom:1em !important; margin-left:15px !important;  } .ld_fancy_heading_6265270de53da .lqd-highlight-inner{height:0.275em;bottom:0px;}.ld_fancy_heading_6265270de53da h6 {margin-bottom:1em !important; margin-left:15px !important;  } </style><div class=\"ld-fancy-heading ld_fancy_heading_6265270de53da\">\\r\\n\\t<h6 class=\"ld-fh-element lqd-highlight-underline lqd-highlight-grow-left text-decoration-default\"   >  Grow your business</h6></div><style>.ld_fancy_heading_6265270de6b06 h2 {font-size:38px; } @media (min-width: 992px) { .ld_fancy_heading_6265270de6b06 h2 {font-size:43px; }  } .ld_fancy_heading_6265270de6b06 h2 {margin-left:15px !important;  } .ld_fancy_heading_6265270de6b06 .lqd-highlight-inner{height:0.275em;bottom:0px;}.ld_fancy_heading_6265270de6b06 h2 {font-size:38px; } @media (min-width: 992px) { .ld_fancy_heading_6265270de6b06 h2 {font-size:43px; }  } .ld_fancy_heading_6265270de6b06 h2 {margin-left:15px !important;  } </style><div class=\"ld-fancy-heading ld_fancy_heading_6265270de6b06\">\\r\\n\\t<h2 class=\"ld-fh-element lqd-highlight-underline lqd-highlight-grow-left text-decoration-default\"   >  What Our Customer Are Saying?</h2></div><style>.carousel-container.ld_carousel_tab_6265270e08da3 .carousel-item{width:100%;flex-basis:100%;padding-inline-start:15px;padding-inline-end:15px;}.carousel-container.ld_carousel_tab_6265270e08da3 .carousel-items{margin-inline-start:-15px;margin-inline-end:-15px;}.ld_carousel_tab_6265270e08da3.carousel-dots{position:relative;top:auto;right:auto;bottom:-25px;left:auto;}.ld_carousel_tab_6265270e08da3.carousel-dots-mobile.carousel-dots-mobile-outside .flickity-page-dots{margin-top:-0.5em;}</style><div id=\"ld_carousel_tab_6265270e08da3\" class=\"carousel-container carousel-nav-left carousel-nav-mobile-center no carousel-nav-lg carousel-nav-circle carousel-dots-mobile-center carousel-dots-style1 carousel-dots-mobile-outside ld_carousel_tab_6265270e08da3\">\\r\\n\\r\\n\\t<div class=\"carousel-items\"  data-lqd-flickity=\\'{\"cellSelector\":\".carousel-item\",\"cellAlign\":\"left\",\"prevNextButtons\":true,\"pageDots\":false,\"groupCells\":true,\"pauseAutoPlayOnHover\":false,\"navArrow\":\"6\",\"buttonsAppendTo\":\"self\",\"addSlideNumbersToArrows\":false,\"navOffsets\":{\"nav\":{\"left\":\"8px\"}},\"dotsIndicator\":\"dots\",\"numbersStyle\":\"circle\",\"dotsAppendTo\":\"self\"}\\' >\\r\\n\\t<div class=\"carousel-item has-width\"><div class=\"carousel-item-inner\"><div class=\"carousel-item-content\"><div class=\"vc_row vc_inner vc_row-fluid vc_custom_1577874026644 liquid-row-shadowbox-6265270dec5bb\"><div class=\"ld-container container-fluid\"><div class=\"row ld-row ld-row-inner\"><div class=\"wpb_column vc_column_container vc_col-sm-12 liquid-column-6265270ded47c\"><div class=\"vc_column-inner \" ><div class=\"wpb_wrapper\" ><style>.ld_fancy_heading_6265270ded664 p {font-size:22px; } .ld_fancy_heading_6265270ded664 p {line-height:39px; } .ld_fancy_heading_6265270ded664 p {--element-line-height:39px; } .ld_fancy_heading_6265270ded664 p {margin-bottom:1em !important;  } .ld_fancy_heading_6265270ded664 .lqd-highlight-inner{height:0.275em;bottom:0px;}.ld_fancy_heading_6265270ded664 p {font-size:22px; } .ld_fancy_heading_6265270ded664 p {line-height:39px; } .ld_fancy_heading_6265270ded664 p {--element-line-height:39px; } .ld_fancy_heading_6265270ded664 p {margin-bottom:1em !important;  } </style><div class=\"ld-fancy-heading ld_fancy_heading_6265270ded664\">\\r\\n\\t<p class=\"ld-fh-element lqd-highlight-underline lqd-highlight-grow-left text-decoration-default\"   >  We help our clients succeed by creating brand identities, digital experiences, and print materials that communicate clearly, achieve marketing goals, and look fantastic.Through a deep understanding of our audience’s makeup and motivations.</p></div><style>.ld_fancy_heading_6265270deea4d .lqd-highlight-inner{height:0.275em;bottom:0px;}</style><div class=\"ld-fancy-heading ld_fancy_heading_6265270deea4d\">\\r\\n\\t<h6 class=\"ld-fh-element lqd-highlight-underline lqd-highlight-grow-left text-decoration-default\"   >  Alex, Founder</h6></div></div></div></div></div></div></div></div></div></div><div class=\"carousel-item has-width\"><div class=\"carousel-item-inner\"><div class=\"carousel-item-content\"><div class=\"vc_row vc_inner vc_row-fluid vc_custom_1577874034752 liquid-row-shadowbox-6265270df3c4c\"><div class=\"ld-container container-fluid\"><div class=\"row ld-row ld-row-inner\"><div class=\"wpb_column vc_column_container vc_col-sm-12 liquid-column-6265270e0063f\"><div class=\"vc_column-inner \" ><div class=\"wpb_wrapper\" ><style>.ld_fancy_heading_6265270e008d3 p {font-size:22px; } .ld_fancy_heading_6265270e008d3 p {line-height:39px; } .ld_fancy_heading_6265270e008d3 p {--element-line-height:39px; } .ld_fancy_heading_6265270e008d3 p {margin-bottom:1em !important;  } .ld_fancy_heading_6265270e008d3 .lqd-highlight-inner{height:0.275em;bottom:0px;}.ld_fancy_heading_6265270e008d3 p {font-size:22px; } .ld_fancy_heading_6265270e008d3 p {line-height:39px; } .ld_fancy_heading_6265270e008d3 p {--element-line-height:39px; } .ld_fancy_heading_6265270e008d3 p {margin-bottom:1em !important;  } </style><div class=\"ld-fancy-heading ld_fancy_heading_6265270e008d3\">\\r\\n\\t<p class=\"ld-fh-element lqd-highlight-underline lqd-highlight-grow-left text-decoration-default\"   >  We help our clients succeed by creating brand identities, digital experiences, and print materials that communicate clearly, achieve marketing goals, and look fantastic.Through a deep understanding of our audience’s makeup and motivations.</p></div><style>.ld_fancy_heading_6265270e01c9e .lqd-highlight-inner{height:0.275em;bottom:0px;}</style><div class=\"ld-fancy-heading ld_fancy_heading_6265270e01c9e\">\\r\\n\\t<h6 class=\"ld-fh-element lqd-highlight-underline lqd-highlight-grow-left text-decoration-default\"   >  Alex, Founder</h6></div></div></div></div></div></div></div></div></div></div><div class=\"carousel-item has-width\"><div class=\"carousel-item-inner\"><div class=\"carousel-item-content\"><div class=\"vc_row vc_inner vc_row-fluid vc_custom_1577874096799 liquid-row-shadowbox-6265270e064e6\"><div class=\"ld-container container-fluid\"><div class=\"row ld-row ld-row-inner\"><div class=\"wpb_column vc_column_container vc_col-sm-12 liquid-column-6265270e06e0e\"><div class=\"vc_column-inner \" ><div class=\"wpb_wrapper\" ><style>.ld_fancy_heading_6265270e06fbc p {font-size:22px; } .ld_fancy_heading_6265270e06fbc p {line-height:39px; } .ld_fancy_heading_6265270e06fbc p {--element-line-height:39px; } .ld_fancy_heading_6265270e06fbc p {margin-bottom:1em !important;  } .ld_fancy_heading_6265270e06fbc .lqd-highlight-inner{height:0.275em;bottom:0px;}.ld_fancy_heading_6265270e06fbc p {font-size:22px; } .ld_fancy_heading_6265270e06fbc p {line-height:39px; } .ld_fancy_heading_6265270e06fbc p {--element-line-height:39px; } .ld_fancy_heading_6265270e06fbc p {margin-bottom:1em !important;  } </style><div class=\"ld-fancy-heading ld_fancy_heading_6265270e06fbc\">\\r\\n\\t<p class=\"ld-fh-element lqd-highlight-underline lqd-highlight-grow-left text-decoration-default\"   >  We help our clients succeed by creating brand identities, digital experiences, and print materials that communicate clearly, achieve marketing goals, and look fantastic.Through a deep understanding of our audience’s makeup and motivations.</p></div><style>.ld_fancy_heading_6265270e080f8 .lqd-highlight-inner{height:0.275em;bottom:0px;}</style><div class=\"ld-fancy-heading ld_fancy_heading_6265270e080f8\">\\r\\n\\t<h6 class=\"ld-fh-element lqd-highlight-underline lqd-highlight-grow-left text-decoration-default\"   >  Alex, Founder</h6></div></div></div></div></div></div></div></div></div></div>\\t</div>\\r\\n\\r\\n</div></div></div></div></div></div></section>\\n\\r\\n\\t\\r\\n\\t\\t\\t\\t\\t\\t</div><!-- #lqd-contents-wrap -->\\r\\n\\t\\t\\t\\t\\t</main><!-- #lqd-site-content -->\\r\\n\\t\\t<div class=\"lqd-back-to-top\" data-back-to-top=\"true\">\\r\\n\\t\\t\\t<a href=\"#wrap\" data-localscroll=\"true\">\\r\\n\\t\\t\\t\\t<i class=\"lqd-icn-ess icon-ion-ios-arrow-up\"></i>\\r\\n\\t\\t\\t</a>\\r\\n\\t\\t</div><!-- /.lqd-back-to-top --><style>.main-footer {color: rgba(30,32,70,0.797);padding-top: 70px;padding-bottom: 20px}.main-footer a:not(.btn) { color: rgba(30,32,70,0.8) }.main-footer a:not(.btn):hover { color: #000000 }</style><footer class=\"main-footer site-footer footer\" id=\"footer\" itemscope=\"itemscope\" itemtype=\"http://schema.org/WPFooter\" data-sticky-footer=\"true\" data-sticky-footer-options=\"{&quot;shadow&quot;:&quot;0&quot;}\">\\r\\n\\t<style>@media (min-width: 992px) { .liquid-row-responsive-6265270e0cf2e {padding-right:5% !important; padding-left:5% !important;  }  }    </style><section class=\"vc_row vc_custom_1626610238991 liquid-row-responsive-6265270e0cf2e liquid-row-shadowbox-6265270e0cf60\"><div class=\"ld-container container-fluid\"><div class=\"row ld-row ld-row-outer vc_row-o-equal-height vc_row-o-content-middle vc_row-flex\"><div class=\"wpb_column vc_column_container vc_col-sm-12 liquid-column-6265270e0d7ee\"><div class=\"vc_column-inner  \" ><div class=\"wpb_wrapper\"  ><div class=\"vc_separator wpb_content_element vc_separator_align_center vc_sep_width_100 vc_sep_pos_align_center vc_separator_no_text vc_sep_color_grey\" ><span class=\"vc_sep_holder vc_sep_holder_l\"><span  class=\"vc_sep_line\"></span></span><span class=\"vc_sep_holder vc_sep_holder_r\"><span  class=\"vc_sep_line\"></span></span>\\r\\n</div></div></div></div><div class=\"wpb_column vc_column_container vc_col-sm-6 liquid-column-6265270e0fc84\"><div class=\"vc_column-inner  \" ><div class=\"wpb_wrapper\"  >\\r\\n\\t<div class=\"wpb_text_column wpb_content_element \" >\\r\\n\\t\\t<div class=\"wpb_wrapper\">\\r\\n\\t\\t\\t<p>Menuco TECH</p>\\n<p>Attilastr. 131<br />\\n12105 Berlin, Germany</p>\\n<p>USt-ID.: DE343188603</p>\\n\\r\\n\\t\\t</div>\\r\\n\\t</div>\\r\\n\\r\\n\\t<div class=\"wpb_text_column wpb_content_element \" >\\r\\n\\t\\t<div class=\"wpb_wrapper\">\\r\\n\\t\\t\\t<p>WhatsApp: +49 171 802 3675</p>\\n\\r\\n\\t\\t</div>\\r\\n\\t</div>\\r\\n\\r\\n\\t<div class=\"wpb_text_column wpb_content_element \" >\\r\\n\\t\\t<div class=\"wpb_wrapper\">\\r\\n\\t\\t\\t<p>E-Mail: info@menuco.co</p>\\n\\r\\n\\t\\t</div>\\r\\n\\t</div>\\r\\n</div></div></div><div class=\"wpb_column vc_column_container vc_col-sm-6 liquid-column-6265270e12797\"><div class=\"vc_column-inner  \" ><div class=\"wpb_wrapper\"  ><style>.ld_custom_menu_6265270e12949 > ul > li > a{font-size:16px;line-height:1.5em;}.ld_custom_menu_6265270e12949 > ul > li:not(:last-child){margin-bottom:19px;}.lqd-stickybar > .lqd-head-col > .header-module > .ld_custom_menu_6265270e12949 li{margin-inline-start:19px;}</style><div  \\r\\n\\tclass=\"lqd-fancy-menu lqd-custom-menu lqd-menu-td-none ld_custom_menu_6265270e12949\"\\r\\n\\t>\\r\\n\\r\\n\\t<ul class=\"reset-ul\" id=\"ld_custom_menu_6265270e12949\" >\\r\\n\\t<li><a href=\"https://menuco.co/privacy-policy/\" target=\"_blank\"> Privacy Policy</a></li><li><a href=\"https://menuco.co/member-tos-page\" target=\"_blank\"> Terms of Use</a></li>\\t</ul>\\r\\n</div></div></div></div></div></div></section><style>@media (min-width: 992px) { .liquid-row-responsive-6265270e13de1 {padding-right:5% !important; padding-left:5% !important;  }  }    </style><section class=\"vc_row vc_custom_1577874368151 liquid-row-responsive-6265270e13de1 liquid-row-shadowbox-6265270e13e0b\"><div class=\"ld-container container-fluid\"><div class=\"row ld-row ld-row-outer vc_row-o-equal-height vc_row-o-content-middle vc_row-flex\"><div class=\"wpb_column vc_column_container vc_col-sm-6 liquid-column-6265270e146f8\"><div class=\"vc_column-inner  \" ><div class=\"wpb_wrapper\"  ><style>.ld_fancy_heading_6265270e1487b h2 {font-size:33px; } .ld_fancy_heading_6265270e1487b h2 {margin-bottom:1em !important;  } .ld_fancy_heading_6265270e1487b .lqd-highlight-inner{height:0.275em;bottom:0px;}.ld_fancy_heading_6265270e1487b h2 {font-size:33px; } .ld_fancy_heading_6265270e1487b h2 {margin-bottom:1em !important;  } </style><div class=\"ld-fancy-heading ld_fancy_heading_6265270e1487b\">\\r\\n\\t<h2 class=\"ld-fh-element lqd-highlight-underline lqd-highlight-grow-left text-decoration-default\"   >  Menuco</h2></div></div></div></div><div class=\"wpb_column vc_column_container vc_col-sm-6 liquid-column-6265270e16224\"><div class=\"vc_column-inner  \" ><div class=\"wpb_wrapper\"  ><style>.ld_fancy_heading_6265270e1643d p {font-size:16px; } .ld_fancy_heading_6265270e1643d p {margin-bottom:10px !important;  } .ld_fancy_heading_6265270e1643d .lqd-highlight-inner{height:0.275em;bottom:0px;}.ld_fancy_heading_6265270e1643d p {font-size:16px; } .ld_fancy_heading_6265270e1643d p {margin-bottom:10px !important;  } </style><div class=\"ld-fancy-heading ld_fancy_heading_6265270e1643d\">\\r\\n\\t<p class=\"ld-fh-element lqd-highlight-underline lqd-highlight-grow-left text-decoration-default\"   >  © All rights reserved to Menuco, 2021</p></div></div></div></div></div></div></section></footer>\\r\\n\\t</div><!-- .site-container -->\\r\\n\\r\\n\\t\\r\\n\\t<script type=\"text/html\" id=\"wpb-modifications\"></script><link href=\"https://fonts.googleapis.com/css?family=Roboto:700%2C400\" rel=\"stylesheet\" property=\"stylesheet\" media=\"all\" type=\"text/css\" >\\n\\n\\t\\t<script type=\"text/javascript\">\\n\\t\\tif(typeof revslider_showDoubleJqueryError === \"undefined\") {\\n\\t\\t\\tfunction revslider_showDoubleJqueryError(sliderID) {\\n\\t\\t\\t\\tvar err = \"<div class=\\'rs_error_message_box\\'>\";\\n\\t\\t\\t\\terr += \"<div class=\\'rs_error_message_oops\\'>Oops...</div>\";\\n\\t\\t\\t\\terr += \"<div class=\\'rs_error_message_content\\'>\";\\n\\t\\t\\t\\terr += \"You have some jquery.js library include that comes after the Slider Revolution files js inclusion.<br>\";\\n\\t\\t\\t\\terr += \"To fix this, you can:<br>&nbsp;&nbsp;&nbsp; 1. Set \\'Module General Options\\' -> \\'Advanced\\' -> \\'jQuery & OutPut Filters\\' -> \\'Put JS to Body\\' to on\";\\n\\t\\t\\t\\terr += \"<br>&nbsp;&nbsp;&nbsp; 2. Find the double jQuery.js inclusion and remove it\";\\n\\t\\t\\t\\terr += \"</div>\";\\n\\t\\t\\terr += \"</div>\";\\n\\t\\t\\t\\tvar slider = document.getElementById(sliderID); slider.innerHTML = err; slider.style.display = \"block\";\\n\\t\\t\\t}\\n\\t\\t}\\n\\t\\t</script>\\n<link rel=\\'stylesheet\\' id=\\'liquid-icons-css\\'  href=\\'https://menuco.co/wp-content/themes/hub/assets/vendors/liquid-icon/lqd-essentials/lqd-essentials.min.css\\' type=\\'text/css\\' media=\\'all\\' />\\n<link rel=\\'stylesheet\\' id=\\'vc_font_awesome_5_shims-css\\'  href=\\'https://menuco.co/wp-content/plugins/liquid_js_composer/assets/lib/bower/font-awesome/css/v4-shims.min.css?ver=6.6.0\\' type=\\'text/css\\' media=\\'all\\' />\\n<link rel=\\'stylesheet\\' id=\\'vc_font_awesome_5-css\\'  href=\\'https://menuco.co/wp-content/plugins/liquid_js_composer/assets/lib/bower/font-awesome/css/all.min.css?ver=6.6.0\\' type=\\'text/css\\' media=\\'all\\' />\\n<link rel=\\'stylesheet\\' id=\\'fresco-css\\'  href=\\'https://menuco.co/wp-content/themes/hub/assets/vendors/fresco/css/fresco.css\\' type=\\'text/css\\' media=\\'all\\' />\\n<link rel=\\'stylesheet\\' id=\\'jquery-ui-css\\'  href=\\'https://menuco.co/wp-content/themes/hub/assets/vendors/jquery-ui/jquery-ui.css\\' type=\\'text/css\\' media=\\'all\\' />\\n<script type=\\'text/javascript\\' src=\\'https://menuco.co/wp-content/plugins/hub-core/shortcodes/header-woo-search/header-woo-search.js?ver=1.0.0\\' id=\\'ld-header-woo-search-js\\'></script>\\n<script type=\\'text/javascript\\' src=\\'https://menuco.co/wp-includes/js/dist/vendor/regenerator-runtime.min.js?ver=0.13.9\\' id=\\'regenerator-runtime-js\\'></script>\\n<script type=\\'text/javascript\\' src=\\'https://menuco.co/wp-includes/js/dist/vendor/wp-polyfill.min.js?ver=3.15.0\\' id=\\'wp-polyfill-js\\'></script>\\n<script type=\\'text/javascript\\' id=\\'contact-form-7-js-extra\\'>\\n/* <![CDATA[ */\\nvar wpcf7 = {\"api\":{\"root\":\"https:\\\\/\\\\/menuco.co\\\\/wp-json\\\\/\",\"namespace\":\"contact-form-7\\\\/v1\"}};\\n/* ]]> */\\n</script>\\n<script type=\\'text/javascript\\' src=\\'https://menuco.co/wp-content/plugins/contact-form-7/includes/js/index.js?ver=5.4.1\\' id=\\'contact-form-7-js\\'></script>\\n<script type=\\'text/javascript\\' src=\\'https://menuco.co/wp-content/plugins/liquid-gdpr/assets/js/liquid-gdpr.min.js?ver=1.0.0\\' id=\\'ld-gdpr-box-js-js\\'></script>\\n<script type=\\'text/javascript\\' src=\\'https://menuco.co/wp-content/themes/hub/assets/vendors/fresco/js/fresco.js\\' id=\\'jquery-fresco-js\\'></script>\\n<script type=\\'text/javascript\\' src=\\'https://menuco.co/wp-content/themes/hub/assets/vendors/lity/lity.min.js\\' id=\\'lity-js\\'></script>\\n<script type=\\'text/javascript\\' src=\\'https://menuco.co/wp-content/themes/hub/assets/vendors/gsap/utils/SplitText.min.js\\' id=\\'splittext-js\\'></script>\\n<script type=\\'text/javascript\\' src=\\'https://menuco.co/wp-content/plugins/liquid_js_composer/assets/js/dist/js_composer_front.min.js?ver=6.6.0\\' id=\\'wpb_composer_front_js-js\\'></script>\\n<script type=\\'text/javascript\\' src=\\'https://menuco.co/wp-content/themes/hub/assets/vendors/vivus.min.js\\' id=\\'jquery-vivus-js\\'></script>\\n<script type=\\'text/javascript\\' src=\\'https://menuco.co/wp-content/themes/hub/assets/vendors/flickity/flickity.pkgd.min.js\\' id=\\'flickity-js\\'></script>\\n<script type=\\'text/javascript\\' src=\\'https://menuco.co/wp-content/themes/hub/assets/vendors/flickity/flickity-fade.min.js\\' id=\\'flickity-fade-js\\'></script>\\n<script type=\\'text/javascript\\' src=\\'https://menuco.co/wp-content/themes/hub/assets/vendors/fastdom/fastdom.min.js\\' id=\\'fastdom-js\\'></script>\\n<script type=\\'text/javascript\\' src=\\'https://menuco.co/wp-content/themes/hub/assets/vendors/bootstrap/js/bootstrap.min.js\\' id=\\'bootstrap-js\\'></script>\\n<script type=\\'text/javascript\\' src=\\'https://menuco.co/wp-includes/js/imagesloaded.min.js?ver=4.1.4\\' id=\\'imagesloaded-js\\'></script>\\n<script type=\\'text/javascript\\' src=\\'https://menuco.co/wp-content/themes/hub/assets/vendors/jquery-ui/jquery-ui.min.js\\' id=\\'jquery-ui-js\\'></script>\\n<script type=\\'text/javascript\\' src=\\'https://menuco.co/wp-content/themes/hub/assets/vendors/gsap/minified/gsap.min.js\\' id=\\'gsap-js\\'></script>\\n<script type=\\'text/javascript\\' src=\\'https://menuco.co/wp-content/themes/hub/assets/vendors/gsap/utils/CustomEase.min.js\\' id=\\'gsap-custom-ease-js\\'></script>\\n<script type=\\'text/javascript\\' src=\\'https://menuco.co/wp-content/themes/hub/assets/vendors/gsap/minified/ScrollTrigger.min.js\\' id=\\'scrollTrigger-js\\'></script>\\n<script type=\\'text/javascript\\' src=\\'https://menuco.co/wp-content/themes/hub/assets/vendors/fontfaceobserver.js\\' id=\\'jquery-fontfaceobserver-js\\'></script>\\n<script type=\\'text/javascript\\' src=\\'https://menuco.co/wp-content/themes/hub/assets/vendors/lazyload.min.js\\' id=\\'jquery-lazyload-js\\'></script>\\n<script type=\\'text/javascript\\' src=\\'https://menuco.co/wp-content/themes/hub/assets/vendors/tinycolor-min.js\\' id=\\'jquery-tinycolor-js\\'></script>\\n<script type=\\'text/javascript\\' id=\\'liquid-theme-js-extra\\'>\\n/* <![CDATA[ */\\nvar liquidTheme = {\"uris\":{\"ajax\":\"\\\\/wp-admin\\\\/admin-ajax.php\"}};\\n/* ]]> */\\n</script>\\n<script type=\\'text/javascript\\' src=\\'https://menuco.co/wp-content/themes/hub/assets/js/theme.min.js\\' id=\\'liquid-theme-js\\'></script>\\n<template id=\"lqd-snickersbar\">\\r\\n\\t\\t\\t<div class=\"lqd-snickersbar d-flex flex-wrap lqd-snickersbar-in\" data-item-id>\\r\\n\\t\\t\\t\\t<div class=\"lqd-snickersbar-inner d-flex flex-wrap align-items-center\">\\r\\n\\t\\t\\t\\t\\t<div class=\"lqd-snickersbar-detail\">\\r\\n\\t\\t\\t\\t\\t\\t<p class=\"hidden lqd-snickersbar-addding-temp my-0\">Adding {{itemName}} to cart</p>\\r\\n\\t\\t\\t\\t\\t\\t<p class=\"hidden lqd-snickersbar-added-temp my-0\">Added {{itemName}} to cart</p>\\r\\n\\t\\t\\t\\t\\t\\t<p class=\"my-0 lqd-snickersbar-msg d-flex align-items-center my-0\"></p>\\r\\n\\t\\t\\t\\t\\t\\t<p class=\"my-0 lqd-snickersbar-msg-done d-flex align-items-center my-0\"></p>\\r\\n\\t\\t\\t\\t\\t</div>\\r\\n\\t\\t\\t\\t\\t<div class=\"lqd-snickersbar-ext ml-4\"></div>\\r\\n\\t\\t\\t\\t</div>\\r\\n\\t\\t\\t</div>\\r\\n\\t\\t</template><div class=\"lity\" role=\"dialog\" aria-label=\"Dialog Window (Press escape to close)\" tabindex=\"-1\" data-modal-type=\"default\">\\r\\n\\t\\t<div class=\"lity-wrap\" data-lity-close role=\"document\">\\r\\n\\t\\t\\t<div class=\"lity-loader\" aria-hidden=\"true\">Loading...</div>\\r\\n\\t\\t\\t<div class=\"lity-container\">\\r\\n\\t\\t\\t\\t<div class=\"lity-content\"></div>\\r\\n\\t\\t\\t</div>\\r\\n\\t\\t\\t<button class=\"lity-close\" type=\"button\" aria-label=\"Close (Press escape to close)\" data-lity-close>&times;</button>\\r\\n\\t\\t</div>\\r\\n\\t</div>\\r\\n</body>\\r\\n</html>'"
      ]
     },
     "execution_count": 7,
     "metadata": {},
     "output_type": "execute_result"
    }
   ],
   "source": [
    "menuco_html"
   ]
  },
  {
   "cell_type": "code",
   "execution_count": 8,
   "id": "c0cbf982",
   "metadata": {},
   "outputs": [],
   "source": [
    "url_list=[]\n",
    "html_page = urllib.request.urlopen(\"http://www.menuco.co\")\n",
    "soup = BeautifulSoup(html_page, \"html.parser\")\n",
    "for link in soup.findAll('a'):\n",
    "    if link not in url_list:\n",
    "        url_list.append(link.get('href'))\n",
    "    else:\n",
    "        pass\n",
    "    #print(link.get('href'))"
   ]
  },
  {
   "cell_type": "code",
   "execution_count": 9,
   "id": "81011526",
   "metadata": {},
   "outputs": [
    {
     "data": {
      "text/plain": [
       "['#primary',\n",
       " '#content',\n",
       " 'https://menuco.co/',\n",
       " 'https://menuco.co/',\n",
       " 'https://menuco.co/subscription-plan',\n",
       " 'https://menuco.co/contact',\n",
       " 'https://menuco.co/login/',\n",
       " 'https://menuco.co/register/',\n",
       " 'https://menuco.co/',\n",
       " 'https://menuco.co/',\n",
       " 'https://menuco.co/subscription-plan',\n",
       " 'https://menuco.co/contact',\n",
       " 'https://menuco.co/login/',\n",
       " 'https://menuco.co/register',\n",
       " 'https://www.youtube.com/watch?v=KEc3aGjN228',\n",
       " '#',\n",
       " '#',\n",
       " '#',\n",
       " '#wrap',\n",
       " 'https://menuco.co/privacy-policy/',\n",
       " 'https://menuco.co/member-tos-page']"
      ]
     },
     "execution_count": 9,
     "metadata": {},
     "output_type": "execute_result"
    }
   ],
   "source": [
    "url_list"
   ]
  },
  {
   "cell_type": "code",
   "execution_count": 10,
   "id": "75cbc41a",
   "metadata": {},
   "outputs": [],
   "source": [
    "df = pd.DataFrame(url_list, columns = ['link'])"
   ]
  },
  {
   "cell_type": "code",
   "execution_count": 11,
   "id": "e313c2ec",
   "metadata": {
    "collapsed": true
   },
   "outputs": [
    {
     "data": {
      "text/html": [
       "<div>\n",
       "<style scoped>\n",
       "    .dataframe tbody tr th:only-of-type {\n",
       "        vertical-align: middle;\n",
       "    }\n",
       "\n",
       "    .dataframe tbody tr th {\n",
       "        vertical-align: top;\n",
       "    }\n",
       "\n",
       "    .dataframe thead th {\n",
       "        text-align: right;\n",
       "    }\n",
       "</style>\n",
       "<table border=\"1\" class=\"dataframe\">\n",
       "  <thead>\n",
       "    <tr style=\"text-align: right;\">\n",
       "      <th></th>\n",
       "      <th>link</th>\n",
       "    </tr>\n",
       "  </thead>\n",
       "  <tbody>\n",
       "    <tr>\n",
       "      <th>0</th>\n",
       "      <td>#primary</td>\n",
       "    </tr>\n",
       "    <tr>\n",
       "      <th>1</th>\n",
       "      <td>#content</td>\n",
       "    </tr>\n",
       "    <tr>\n",
       "      <th>2</th>\n",
       "      <td>https://menuco.co/</td>\n",
       "    </tr>\n",
       "    <tr>\n",
       "      <th>3</th>\n",
       "      <td>https://menuco.co/</td>\n",
       "    </tr>\n",
       "    <tr>\n",
       "      <th>4</th>\n",
       "      <td>https://menuco.co/subscription-plan</td>\n",
       "    </tr>\n",
       "    <tr>\n",
       "      <th>5</th>\n",
       "      <td>https://menuco.co/contact</td>\n",
       "    </tr>\n",
       "    <tr>\n",
       "      <th>6</th>\n",
       "      <td>https://menuco.co/login/</td>\n",
       "    </tr>\n",
       "    <tr>\n",
       "      <th>7</th>\n",
       "      <td>https://menuco.co/register/</td>\n",
       "    </tr>\n",
       "    <tr>\n",
       "      <th>8</th>\n",
       "      <td>https://menuco.co/</td>\n",
       "    </tr>\n",
       "    <tr>\n",
       "      <th>9</th>\n",
       "      <td>https://menuco.co/</td>\n",
       "    </tr>\n",
       "    <tr>\n",
       "      <th>10</th>\n",
       "      <td>https://menuco.co/subscription-plan</td>\n",
       "    </tr>\n",
       "    <tr>\n",
       "      <th>11</th>\n",
       "      <td>https://menuco.co/contact</td>\n",
       "    </tr>\n",
       "    <tr>\n",
       "      <th>12</th>\n",
       "      <td>https://menuco.co/login/</td>\n",
       "    </tr>\n",
       "    <tr>\n",
       "      <th>13</th>\n",
       "      <td>https://menuco.co/register</td>\n",
       "    </tr>\n",
       "    <tr>\n",
       "      <th>14</th>\n",
       "      <td>https://www.youtube.com/watch?v=KEc3aGjN228</td>\n",
       "    </tr>\n",
       "    <tr>\n",
       "      <th>15</th>\n",
       "      <td>#</td>\n",
       "    </tr>\n",
       "    <tr>\n",
       "      <th>16</th>\n",
       "      <td>#</td>\n",
       "    </tr>\n",
       "    <tr>\n",
       "      <th>17</th>\n",
       "      <td>#</td>\n",
       "    </tr>\n",
       "    <tr>\n",
       "      <th>18</th>\n",
       "      <td>#wrap</td>\n",
       "    </tr>\n",
       "    <tr>\n",
       "      <th>19</th>\n",
       "      <td>https://menuco.co/privacy-policy/</td>\n",
       "    </tr>\n",
       "    <tr>\n",
       "      <th>20</th>\n",
       "      <td>https://menuco.co/member-tos-page</td>\n",
       "    </tr>\n",
       "  </tbody>\n",
       "</table>\n",
       "</div>"
      ],
      "text/plain": [
       "                                           link\n",
       "0                                      #primary\n",
       "1                                      #content\n",
       "2                            https://menuco.co/\n",
       "3                            https://menuco.co/\n",
       "4           https://menuco.co/subscription-plan\n",
       "5                     https://menuco.co/contact\n",
       "6                      https://menuco.co/login/\n",
       "7                   https://menuco.co/register/\n",
       "8                            https://menuco.co/\n",
       "9                            https://menuco.co/\n",
       "10          https://menuco.co/subscription-plan\n",
       "11                    https://menuco.co/contact\n",
       "12                     https://menuco.co/login/\n",
       "13                   https://menuco.co/register\n",
       "14  https://www.youtube.com/watch?v=KEc3aGjN228\n",
       "15                                            #\n",
       "16                                            #\n",
       "17                                            #\n",
       "18                                        #wrap\n",
       "19            https://menuco.co/privacy-policy/\n",
       "20            https://menuco.co/member-tos-page"
      ]
     },
     "execution_count": 11,
     "metadata": {},
     "output_type": "execute_result"
    }
   ],
   "source": [
    "df"
   ]
  },
  {
   "cell_type": "code",
   "execution_count": 12,
   "id": "6dcaac38",
   "metadata": {},
   "outputs": [],
   "source": [
    "df2=df[df['link'].str.contains(\"//menuco.co/\")]"
   ]
  },
  {
   "cell_type": "code",
   "execution_count": 13,
   "id": "b27654bb",
   "metadata": {},
   "outputs": [],
   "source": [
    "df3=df2.link.unique()"
   ]
  },
  {
   "cell_type": "code",
   "execution_count": 14,
   "id": "91fe7201",
   "metadata": {},
   "outputs": [
    {
     "data": {
      "text/plain": [
       "array(['https://menuco.co/', 'https://menuco.co/subscription-plan',\n",
       "       'https://menuco.co/contact', 'https://menuco.co/login/',\n",
       "       'https://menuco.co/register/', 'https://menuco.co/register',\n",
       "       'https://menuco.co/privacy-policy/',\n",
       "       'https://menuco.co/member-tos-page'], dtype=object)"
      ]
     },
     "execution_count": 14,
     "metadata": {},
     "output_type": "execute_result"
    }
   ],
   "source": [
    "df3"
   ]
  },
  {
   "cell_type": "code",
   "execution_count": null,
   "id": "f391c9e2",
   "metadata": {},
   "outputs": [],
   "source": []
  },
  {
   "cell_type": "code",
   "execution_count": 27,
   "id": "5b1f67bc",
   "metadata": {},
   "outputs": [],
   "source": [
    "for i in df3:\n",
    "    url=i\n",
    "    response=requests.get(url)\n",
    "    page_html=response.text\n",
    "    file_name=1 \n",
    "    with open (f\"{file_name}.txt\", \"w\", encoding='utf-8') as f:\n",
    "        f.write(page_html)\n",
    "        file_name=file_name+1\n",
    "   "
   ]
  },
  {
   "cell_type": "code",
   "execution_count": 110,
   "id": "e0a1ebff",
   "metadata": {},
   "outputs": [],
   "source": [
    "with open (\"1.txt\", 'r', encoding='utf-8') as f:\n",
    "            text=f.read()"
   ]
  },
  {
   "cell_type": "code",
   "execution_count": 111,
   "id": "5e2b146d",
   "metadata": {},
   "outputs": [
    {
     "data": {
      "text/plain": [
       "'<!DOCTYPE html>\\n\\n<html lang=\"en-US\">\\n\\n<head >\\n\\n\\n\\n\\t<meta charset=\"UTF-8\">\\n\\n\\t<meta name=\"viewport\" content=\"width=device-width, initial-scale=1.0\" />\\n\\n\\t<meta http-equiv=\"X-UA-Compatible\" content=\"IE=edge\">\\n\\n\\t<link rel=\"profile\" href=\"https://gmpg.org/xfn/11\">\\n\\n\\t<meta name=\"mobile-web-app-capable\" content=\"yes\">\\n<meta name=\"apple-mobile-web-app-capable\" content=\"yes\">\\n<meta name=\"apple-mobile-web-app-title\" content=\"Menuco Ana - Eat Joyfully\">\\n<link rel=\"pingback\" href=\"https://menuco.co/xmlrpc.php\" />\\n<meta name=\\'robots\\' content=\\'index, follow, max-image-preview:large, max-snippet:-1, max-video-preview:-1\\' />\\n\\n\\n\\t<!-- This site is optimized with the Yoast SEO plugin v17.1 - https://yoast.com/wordpress/plugins/seo/ -->\\n\\n\\t<title>Member TOS Page - Menuco Ana</title>\\n\\n\\t<link rel=\"canonical\" href=\"https://menuco.co/member-tos-page/\" />\\n\\n\\t<meta property=\"og:locale\" content=\"en_US\" />\\n\\n\\t<meta property=\"og:type\" content=\"article\" />\\n\\n\\t<meta property=\"og:title\" content=\"Member TOS Page - Menuco Ana\" />\\n\\n\\t<meta property=\"og:description\" content=\"Terms and Conditions Last updated: August 12, 2021 Please read these terms and conditions carefully before using Our Service. Interpretation and Definitions Interpretation The words of which the initial letter is capitalized have meanings defined under the following conditions. The following definitions shall have the same meaning regardless of whether they appear in singular or [&hellip;]\" />\\n\\n\\t<meta property=\"og:url\" content=\"https://menuco.co/member-tos-page/\" />\\n\\n\\t<meta property=\"og:site_name\" content=\"Menuco Ana\" />\\n\\n\\t<meta property=\"article:modified_time\" content=\"2021-08-13T11:50:06+00:00\" />\\n\\n\\t<meta name=\"twitter:card\" content=\"summary_large_image\" />\\n\\n\\t<meta name=\"twitter:site\" content=\"@MenucoApp\" />\\n\\n\\t<meta name=\"twitter:label1\" content=\"Est. reading time\" />\\n\\t<meta name=\"twitter:data1\" content=\"13 minutes\" />\\n\\n\\t<script type=\"application/ld+json\" class=\"yoast-schema-graph\">{\"@context\":\"https://schema.org\",\"@graph\":[{\"@type\":\"Organization\",\"@id\":\"https://menuco.co/#organization\",\"name\":\"Menuco\",\"url\":\"https://menuco.co/\",\"sameAs\":[\"https://www.linkedin.com/company/menucotech\",\"https://twitter.com/MenucoApp\"],\"logo\":{\"@type\":\"ImageObject\",\"@id\":\"https://menuco.co/#logo\",\"inLanguage\":\"en-US\",\"url\":\"https://menuco.co/wp-content/uploads/2021/07/Menuco_Logo-1-2-1.png\",\"contentUrl\":\"https://menuco.co/wp-content/uploads/2021/07/Menuco_Logo-1-2-1.png\",\"width\":75,\"height\":75,\"caption\":\"Menuco\"},\"image\":{\"@id\":\"https://menuco.co/#logo\"}},{\"@type\":\"WebSite\",\"@id\":\"https://menuco.co/#website\",\"url\":\"https://menuco.co/\",\"name\":\"Menuco\",\"description\":\"Eat Joyfully\",\"publisher\":{\"@id\":\"https://menuco.co/#organization\"},\"potentialAction\":[{\"@type\":\"SearchAction\",\"target\":{\"@type\":\"EntryPoint\",\"urlTemplate\":\"https://menuco.co/?s={search_term_string}\"},\"query-input\":\"required name=search_term_string\"}],\"inLanguage\":\"en-US\"},{\"@type\":\"WebPage\",\"@id\":\"https://menuco.co/member-tos-page/#webpage\",\"url\":\"https://menuco.co/member-tos-page/\",\"name\":\"Member TOS Page - Menuco Ana\",\"isPartOf\":{\"@id\":\"https://menuco.co/#website\"},\"datePublished\":\"2021-05-12T21:01:05+00:00\",\"dateModified\":\"2021-08-13T11:50:06+00:00\",\"breadcrumb\":{\"@id\":\"https://menuco.co/member-tos-page/#breadcrumb\"},\"inLanguage\":\"en-US\",\"potentialAction\":[{\"@type\":\"ReadAction\",\"target\":[\"https://menuco.co/member-tos-page/\"]}]},{\"@type\":\"BreadcrumbList\",\"@id\":\"https://menuco.co/member-tos-page/#breadcrumb\",\"itemListElement\":[{\"@type\":\"ListItem\",\"position\":1,\"name\":\"Home\",\"item\":\"https://menuco.co/\"},{\"@type\":\"ListItem\",\"position\":2,\"name\":\"Member TOS Page\"}]}]}</script>\\n\\n\\t<!-- / Yoast SEO plugin. -->\\n\\n\\n\\n\\n\\n<link rel=\\'dns-prefetch\\' href=\\'//s.w.org\\' />\\n<link rel=\"alternate\" type=\"application/rss+xml\" title=\"Menuco Ana &raquo; Feed\" href=\"https://menuco.co/feed/\" />\\n<link rel=\"alternate\" type=\"application/rss+xml\" title=\"Menuco Ana &raquo; Comments Feed\" href=\"https://menuco.co/comments/feed/\" />\\n<link rel=\"preload\" href=\"https://menuco.co/wp-content/themes/hub/assets/vendors/liquid-icon/lqd-essentials/fonts/lqd-essentials.woff2\" as=\"font\" type=\"font/woff2\" crossorigin>\\t\\t<!-- This site uses the Google Analytics by MonsterInsights plugin v7.18.0 - Using Analytics tracking - https://www.monsterinsights.com/ -->\\n\\t\\t\\t\\t\\t\\t\\t<script src=\"//www.googletagmanager.com/gtag/js?id=UA-179106925-1\"  type=\"text/javascript\" data-cfasync=\"false\" async></script>\\n\\t\\t\\t<script type=\"text/javascript\" data-cfasync=\"false\">\\n\\t\\t\\t\\tvar mi_version = \\'7.18.0\\';\\n\\t\\t\\t\\tvar mi_track_user = true;\\n\\t\\t\\t\\tvar mi_no_track_reason = \\'\\';\\n\\t\\t\\t\\t\\n\\t\\t\\t\\t\\t\\t\\t\\tvar disableStr = \\'ga-disable-UA-179106925-1\\';\\n\\n\\t\\t\\t\\t/* Function to detect opted out users */\\n\\t\\t\\t\\tfunction __gtagTrackerIsOptedOut() {\\n\\t\\t\\t\\t\\treturn document.cookie.indexOf( disableStr + \\'=true\\' ) > - 1;\\n\\t\\t\\t\\t}\\n\\n\\t\\t\\t\\t/* Disable tracking if the opt-out cookie exists. */\\n\\t\\t\\t\\tif ( __gtagTrackerIsOptedOut() ) {\\n\\t\\t\\t\\t\\twindow[disableStr] = true;\\n\\t\\t\\t\\t}\\n\\n\\t\\t\\t\\t/* Opt-out function */\\n\\t\\t\\t\\tfunction __gtagTrackerOptout() {\\n\\t\\t\\t\\t\\tdocument.cookie = disableStr + \\'=true; expires=Thu, 31 Dec 2099 23:59:59 UTC; path=/\\';\\n\\t\\t\\t\\t\\twindow[disableStr] = true;\\n\\t\\t\\t\\t}\\n\\n\\t\\t\\t\\tif ( \\'undefined\\' === typeof gaOptout ) {\\n\\t\\t\\t\\t\\tfunction gaOptout() {\\n\\t\\t\\t\\t\\t\\t__gtagTrackerOptout();\\n\\t\\t\\t\\t\\t}\\n\\t\\t\\t\\t}\\n\\t\\t\\t\\t\\t\\t\\t\\twindow.dataLayer = window.dataLayer || [];\\n\\t\\t\\t\\tif ( mi_track_user ) {\\n\\t\\t\\t\\t\\tfunction __gtagTracker() {dataLayer.push( arguments );}\\n\\t\\t\\t\\t\\t__gtagTracker( \\'js\\', new Date() );\\n\\t\\t\\t\\t\\t__gtagTracker( \\'set\\', {\\n\\t\\t\\t\\t\\t\\t\\'developer_id.dZGIzZG\\' : true,\\n\\t\\t\\t\\t\\t\\t                    });\\n\\t\\t\\t\\t\\t__gtagTracker( \\'config\\', \\'UA-179106925-1\\', {\\n\\t\\t\\t\\t\\t\\tforceSSL:true,link_attribution:true,\\t\\t\\t\\t\\t} );\\n\\t\\t\\t\\t\\t\\t\\t\\t\\t\\twindow.gtag = __gtagTracker;\\t\\t\\t\\t\\t\\t\\t\\t\\t\\t(\\n\\t\\t\\t\\t\\t\\tfunction () {\\n\\t\\t\\t\\t\\t\\t\\t/* https://developers.google.com/analytics/devguides/collection/analyticsjs/ */\\n\\t\\t\\t\\t\\t\\t\\t/* ga and __gaTracker compatibility shim. */\\n\\t\\t\\t\\t\\t\\t\\tvar noopfn = function () {\\n\\t\\t\\t\\t\\t\\t\\t\\treturn null;\\n\\t\\t\\t\\t\\t\\t\\t};\\n\\t\\t\\t\\t\\t\\t\\tvar newtracker = function () {\\n\\t\\t\\t\\t\\t\\t\\t\\treturn new Tracker();\\n\\t\\t\\t\\t\\t\\t\\t};\\n\\t\\t\\t\\t\\t\\t\\tvar Tracker = function () {\\n\\t\\t\\t\\t\\t\\t\\t\\treturn null;\\n\\t\\t\\t\\t\\t\\t\\t};\\n\\t\\t\\t\\t\\t\\t\\tvar p = Tracker.prototype;\\n\\t\\t\\t\\t\\t\\t\\tp.get = noopfn;\\n\\t\\t\\t\\t\\t\\t\\tp.set = noopfn;\\n\\t\\t\\t\\t\\t\\t\\tp.send = function (){\\n\\t\\t\\t\\t\\t\\t\\t\\tvar args = Array.prototype.slice.call(arguments);\\n\\t\\t\\t\\t\\t\\t\\t\\targs.unshift( \\'send\\' );\\n\\t\\t\\t\\t\\t\\t\\t\\t__gaTracker.apply(null, args);\\n\\t\\t\\t\\t\\t\\t\\t};\\n\\t\\t\\t\\t\\t\\t\\tvar __gaTracker = function () {\\n\\t\\t\\t\\t\\t\\t\\t\\tvar len = arguments.length;\\n\\t\\t\\t\\t\\t\\t\\t\\tif ( len === 0 ) {\\n\\t\\t\\t\\t\\t\\t\\t\\t\\treturn;\\n\\t\\t\\t\\t\\t\\t\\t\\t}\\n\\t\\t\\t\\t\\t\\t\\t\\tvar f = arguments[len - 1];\\n\\t\\t\\t\\t\\t\\t\\t\\tif ( typeof f !== \\'object\\' || f === null || typeof f.hitCallback !== \\'function\\' ) {\\n\\t\\t\\t\\t\\t\\t\\t\\t\\tif ( \\'send\\' === arguments[0] ) {\\n\\t\\t\\t\\t\\t\\t\\t\\t\\t\\tvar hitConverted, hitObject = false, action;\\n\\t\\t\\t\\t\\t\\t\\t\\t\\t\\tif ( \\'event\\' === arguments[1] ) {\\n\\t\\t\\t\\t\\t\\t\\t\\t\\t\\t\\tif ( \\'undefined\\' !== typeof arguments[3] ) {\\n\\t\\t\\t\\t\\t\\t\\t\\t\\t\\t\\t\\thitObject = {\\n\\t\\t\\t\\t\\t\\t\\t\\t\\t\\t\\t\\t\\t\\'eventAction\\': arguments[3],\\n\\t\\t\\t\\t\\t\\t\\t\\t\\t\\t\\t\\t\\t\\'eventCategory\\': arguments[2],\\n\\t\\t\\t\\t\\t\\t\\t\\t\\t\\t\\t\\t\\t\\'eventLabel\\': arguments[4],\\n\\t\\t\\t\\t\\t\\t\\t\\t\\t\\t\\t\\t\\t\\'value\\': arguments[5] ? arguments[5] : 1,\\n\\t\\t\\t\\t\\t\\t\\t\\t\\t\\t\\t\\t}\\n\\t\\t\\t\\t\\t\\t\\t\\t\\t\\t\\t}\\n\\t\\t\\t\\t\\t\\t\\t\\t\\t\\t}\\n\\t\\t\\t\\t\\t\\t\\t\\t\\t\\tif ( \\'pageview\\' === arguments[1] ) {\\n\\t\\t\\t\\t\\t\\t\\t\\t\\t\\t\\tif ( \\'undefined\\' !== typeof arguments[2] ) {\\n\\t\\t\\t\\t\\t\\t\\t\\t\\t\\t\\t\\thitObject = {\\n\\t\\t\\t\\t\\t\\t\\t\\t\\t\\t\\t\\t\\t\\'eventAction\\': \\'page_view\\',\\n\\t\\t\\t\\t\\t\\t\\t\\t\\t\\t\\t\\t\\t\\'page_path\\' : arguments[2],\\n\\t\\t\\t\\t\\t\\t\\t\\t\\t\\t\\t\\t}\\n\\t\\t\\t\\t\\t\\t\\t\\t\\t\\t\\t}\\n\\t\\t\\t\\t\\t\\t\\t\\t\\t\\t}\\n\\t\\t\\t\\t\\t\\t\\t\\t\\t\\tif ( typeof arguments[2] === \\'object\\' ) {\\n\\t\\t\\t\\t\\t\\t\\t\\t\\t\\t\\thitObject = arguments[2];\\n\\t\\t\\t\\t\\t\\t\\t\\t\\t\\t}\\n\\t\\t\\t\\t\\t\\t\\t\\t\\t\\tif ( typeof arguments[5] === \\'object\\' ) {\\n\\t\\t\\t\\t\\t\\t\\t\\t\\t\\t\\tObject.assign( hitObject, arguments[5] );\\n\\t\\t\\t\\t\\t\\t\\t\\t\\t\\t}\\n\\t\\t\\t\\t\\t\\t\\t\\t\\t\\tif ( \\'undefined\\' !== typeof arguments[1].hitType ) {\\n\\t\\t\\t\\t\\t\\t\\t\\t\\t\\t\\thitObject = arguments[1];\\n\\t\\t\\t\\t\\t\\t\\t\\t\\t\\t\\tif ( \\'pageview\\' === hitObject.hitType ) {\\n\\t\\t\\t\\t\\t\\t\\t\\t\\t\\t\\t\\thitObject.eventAction = \\'page_view\\';\\n\\t\\t\\t\\t\\t\\t\\t\\t\\t\\t\\t}\\n\\t\\t\\t\\t\\t\\t\\t\\t\\t\\t}\\n\\t\\t\\t\\t\\t\\t\\t\\t\\t\\tif ( hitObject ) {\\n\\t\\t\\t\\t\\t\\t\\t\\t\\t\\t\\taction = \\'timing\\' === arguments[1].hitType ? \\'timing_complete\\' : hitObject.eventAction;\\n\\t\\t\\t\\t\\t\\t\\t\\t\\t\\t\\thitConverted = mapArgs( hitObject );\\n\\t\\t\\t\\t\\t\\t\\t\\t\\t\\t\\t__gtagTracker( \\'event\\', action, hitConverted );\\n\\t\\t\\t\\t\\t\\t\\t\\t\\t\\t}\\n\\t\\t\\t\\t\\t\\t\\t\\t\\t}\\n\\t\\t\\t\\t\\t\\t\\t\\t\\treturn;\\n\\t\\t\\t\\t\\t\\t\\t\\t}\\n\\n\\t\\t\\t\\t\\t\\t\\t\\tfunction mapArgs( args ) {\\n\\t\\t\\t\\t\\t\\t\\t\\t\\tvar arg, hit = {};\\n\\t\\t\\t\\t\\t\\t\\t\\t\\tvar gaMap = {\\n\\t\\t\\t\\t\\t\\t\\t\\t\\t\\t\\'eventCategory\\': \\'event_category\\',\\n\\t\\t\\t\\t\\t\\t\\t\\t\\t\\t\\'eventAction\\': \\'event_action\\',\\n\\t\\t\\t\\t\\t\\t\\t\\t\\t\\t\\'eventLabel\\': \\'event_label\\',\\n\\t\\t\\t\\t\\t\\t\\t\\t\\t\\t\\'eventValue\\': \\'event_value\\',\\n\\t\\t\\t\\t\\t\\t\\t\\t\\t\\t\\'nonInteraction\\': \\'non_interaction\\',\\n\\t\\t\\t\\t\\t\\t\\t\\t\\t\\t\\'timingCategory\\': \\'event_category\\',\\n\\t\\t\\t\\t\\t\\t\\t\\t\\t\\t\\'timingVar\\': \\'name\\',\\n\\t\\t\\t\\t\\t\\t\\t\\t\\t\\t\\'timingValue\\': \\'value\\',\\n\\t\\t\\t\\t\\t\\t\\t\\t\\t\\t\\'timingLabel\\': \\'event_label\\',\\n\\t\\t\\t\\t\\t\\t\\t\\t\\t\\t\\'page\\' : \\'page_path\\',\\n\\t\\t\\t\\t\\t\\t\\t\\t\\t\\t\\'location\\' : \\'page_location\\',\\n\\t\\t\\t\\t\\t\\t\\t\\t\\t\\t\\'title\\' : \\'page_title\\',\\n\\t\\t\\t\\t\\t\\t\\t\\t\\t};\\n\\t\\t\\t\\t\\t\\t\\t\\t\\tfor ( arg in args ) {\\n\\t\\t\\t\\t\\t\\t\\t\\t\\t\\tif ( args.hasOwnProperty(arg) && gaMap.hasOwnProperty(arg) ) {\\n\\t\\t\\t\\t\\t\\t\\t\\t\\t\\t\\thit[gaMap[arg]] = args[arg];\\n\\t\\t\\t\\t\\t\\t\\t\\t\\t\\t} else {\\n\\t\\t\\t\\t\\t\\t\\t\\t\\t\\t\\thit[arg] = args[arg];\\n\\t\\t\\t\\t\\t\\t\\t\\t\\t\\t}\\n\\t\\t\\t\\t\\t\\t\\t\\t\\t}\\n\\t\\t\\t\\t\\t\\t\\t\\t\\treturn hit;\\n\\t\\t\\t\\t\\t\\t\\t\\t}\\n\\n\\t\\t\\t\\t\\t\\t\\t\\ttry {\\n\\t\\t\\t\\t\\t\\t\\t\\t\\tf.hitCallback();\\n\\t\\t\\t\\t\\t\\t\\t\\t} catch ( ex ) {\\n\\t\\t\\t\\t\\t\\t\\t\\t}\\n\\t\\t\\t\\t\\t\\t\\t};\\n\\t\\t\\t\\t\\t\\t\\t__gaTracker.create = newtracker;\\n\\t\\t\\t\\t\\t\\t\\t__gaTracker.getByName = newtracker;\\n\\t\\t\\t\\t\\t\\t\\t__gaTracker.getAll = function () {\\n\\t\\t\\t\\t\\t\\t\\t\\treturn [];\\n\\t\\t\\t\\t\\t\\t\\t};\\n\\t\\t\\t\\t\\t\\t\\t__gaTracker.remove = noopfn;\\n\\t\\t\\t\\t\\t\\t\\t__gaTracker.loaded = true;\\n\\t\\t\\t\\t\\t\\t\\twindow[\\'__gaTracker\\'] = __gaTracker;\\n\\t\\t\\t\\t\\t\\t}\\n\\t\\t\\t\\t\\t)();\\n\\t\\t\\t\\t\\t\\t\\t\\t\\t} else {\\n\\t\\t\\t\\t\\t\\t\\t\\t\\t\\tconsole.log( \"\" );\\n\\t\\t\\t\\t\\t( function () {\\n\\t\\t\\t\\t\\t\\t\\tfunction __gtagTracker() {\\n\\t\\t\\t\\t\\t\\t\\t\\treturn null;\\n\\t\\t\\t\\t\\t\\t\\t}\\n\\t\\t\\t\\t\\t\\t\\twindow[\\'__gtagTracker\\'] = __gtagTracker;\\n\\t\\t\\t\\t\\t\\t\\twindow[\\'gtag\\'] = __gtagTracker;\\n\\t\\t\\t\\t\\t} )();\\n\\t\\t\\t\\t\\t\\t\\t\\t\\t}\\n\\t\\t\\t</script>\\n\\t\\t\\t\\t<!-- / Google Analytics by MonsterInsights -->\\n\\t\\t<script type=\"text/javascript\">\\nwindow._wpemojiSettings = {\"baseUrl\":\"https:\\\\/\\\\/s.w.org\\\\/images\\\\/core\\\\/emoji\\\\/13.1.0\\\\/72x72\\\\/\",\"ext\":\".png\",\"svgUrl\":\"https:\\\\/\\\\/s.w.org\\\\/images\\\\/core\\\\/emoji\\\\/13.1.0\\\\/svg\\\\/\",\"svgExt\":\".svg\",\"source\":{\"concatemoji\":\"https:\\\\/\\\\/menuco.co\\\\/wp-includes\\\\/js\\\\/wp-emoji-release.min.js?ver=5.9.2\"}};\\n/*! This file is auto-generated */\\n!function(e,a,t){var n,r,o,i=a.createElement(\"canvas\"),p=i.getContext&&i.getContext(\"2d\");function s(e,t){var a=String.fromCharCode;p.clearRect(0,0,i.width,i.height),p.fillText(a.apply(this,e),0,0);e=i.toDataURL();return p.clearRect(0,0,i.width,i.height),p.fillText(a.apply(this,t),0,0),e===i.toDataURL()}function c(e){var t=a.createElement(\"script\");t.src=e,t.defer=t.type=\"text/javascript\",a.getElementsByTagName(\"head\")[0].appendChild(t)}for(o=Array(\"flag\",\"emoji\"),t.supports={everything:!0,everythingExceptFlag:!0},r=0;r<o.length;r++)t.supports[o[r]]=function(e){if(!p||!p.fillText)return!1;switch(p.textBaseline=\"top\",p.font=\"600 32px Arial\",e){case\"flag\":return s([127987,65039,8205,9895,65039],[127987,65039,8203,9895,65039])?!1:!s([55356,56826,55356,56819],[55356,56826,8203,55356,56819])&&!s([55356,57332,56128,56423,56128,56418,56128,56421,56128,56430,56128,56423,56128,56447],[55356,57332,8203,56128,56423,8203,56128,56418,8203,56128,56421,8203,56128,56430,8203,56128,56423,8203,56128,56447]);case\"emoji\":return!s([10084,65039,8205,55357,56613],[10084,65039,8203,55357,56613])}return!1}(o[r]),t.supports.everything=t.supports.everything&&t.supports[o[r]],\"flag\"!==o[r]&&(t.supports.everythingExceptFlag=t.supports.everythingExceptFlag&&t.supports[o[r]]);t.supports.everythingExceptFlag=t.supports.everythingExceptFlag&&!t.supports.flag,t.DOMReady=!1,t.readyCallback=function(){t.DOMReady=!0},t.supports.everything||(n=function(){t.readyCallback()},a.addEventListener?(a.addEventListener(\"DOMContentLoaded\",n,!1),e.addEventListener(\"load\",n,!1)):(e.attachEvent(\"onload\",n),a.attachEvent(\"onreadystatechange\",function(){\"complete\"===a.readyState&&t.readyCallback()})),(n=t.source||{}).concatemoji?c(n.concatemoji):n.wpemoji&&n.twemoji&&(c(n.twemoji),c(n.wpemoji)))}(window,document,window._wpemojiSettings);\\n</script>\\n<style type=\"text/css\">\\nimg.wp-smiley,\\nimg.emoji {\\n\\tdisplay: inline !important;\\n\\tborder: none !important;\\n\\tbox-shadow: none !important;\\n\\theight: 1em !important;\\n\\twidth: 1em !important;\\n\\tmargin: 0 0.07em !important;\\n\\tvertical-align: -0.1em !important;\\n\\tbackground: none !important;\\n\\tpadding: 0 !important;\\n}\\n</style>\\n\\t<link rel=\\'stylesheet\\' id=\\'wp-block-library-css\\'  href=\\'https://menuco.co/wp-includes/css/dist/block-library/style.min.css?ver=5.9.2\\' type=\\'text/css\\' media=\\'all\\' />\\n<style id=\\'wp-block-library-theme-inline-css\\' type=\\'text/css\\'>\\n.wp-block-audio figcaption{color:#555;font-size:13px;text-align:center}.is-dark-theme .wp-block-audio figcaption{color:hsla(0,0%,100%,.65)}.wp-block-code>code{font-family:Menlo,Consolas,monaco,monospace;color:#1e1e1e;padding:.8em 1em;border:1px solid #ddd;border-radius:4px}.wp-block-embed figcaption{color:#555;font-size:13px;text-align:center}.is-dark-theme .wp-block-embed figcaption{color:hsla(0,0%,100%,.65)}.blocks-gallery-caption{color:#555;font-size:13px;text-align:center}.is-dark-theme .blocks-gallery-caption{color:hsla(0,0%,100%,.65)}.wp-block-image figcaption{color:#555;font-size:13px;text-align:center}.is-dark-theme .wp-block-image figcaption{color:hsla(0,0%,100%,.65)}.wp-block-pullquote{border-top:4px solid;border-bottom:4px solid;margin-bottom:1.75em;color:currentColor}.wp-block-pullquote__citation,.wp-block-pullquote cite,.wp-block-pullquote footer{color:currentColor;text-transform:uppercase;font-size:.8125em;font-style:normal}.wp-block-quote{border-left:.25em solid;margin:0 0 1.75em;padding-left:1em}.wp-block-quote cite,.wp-block-quote footer{color:currentColor;font-size:.8125em;position:relative;font-style:normal}.wp-block-quote.has-text-align-right{border-left:none;border-right:.25em solid;padding-left:0;padding-right:1em}.wp-block-quote.has-text-align-center{border:none;padding-left:0}.wp-block-quote.is-large,.wp-block-quote.is-style-large,.wp-block-quote.is-style-plain{border:none}.wp-block-search .wp-block-search__label{font-weight:700}.wp-block-group:where(.has-background){padding:1.25em 2.375em}.wp-block-separator{border:none;border-bottom:2px solid;margin-left:auto;margin-right:auto;opacity:.4}.wp-block-separator:not(.is-style-wide):not(.is-style-dots){width:100px}.wp-block-separator.has-background:not(.is-style-dots){border-bottom:none;height:1px}.wp-block-separator.has-background:not(.is-style-wide):not(.is-style-dots){height:2px}.wp-block-table thead{border-bottom:3px solid}.wp-block-table tfoot{border-top:3px solid}.wp-block-table td,.wp-block-table th{padding:.5em;border:1px solid;word-break:normal}.wp-block-table figcaption{color:#555;font-size:13px;text-align:center}.is-dark-theme .wp-block-table figcaption{color:hsla(0,0%,100%,.65)}.wp-block-video figcaption{color:#555;font-size:13px;text-align:center}.is-dark-theme .wp-block-video figcaption{color:hsla(0,0%,100%,.65)}.wp-block-template-part.has-background{padding:1.25em 2.375em;margin-top:0;margin-bottom:0}\\n</style>\\n<style id=\\'global-styles-inline-css\\' type=\\'text/css\\'>\\nbody{--wp--preset--color--black: #000000;--wp--preset--color--cyan-bluish-gray: #abb8c3;--wp--preset--color--white: #ffffff;--wp--preset--color--pale-pink: #f78da7;--wp--preset--color--vivid-red: #cf2e2e;--wp--preset--color--luminous-vivid-orange: #ff6900;--wp--preset--color--luminous-vivid-amber: #fcb900;--wp--preset--color--light-green-cyan: #7bdcb5;--wp--preset--color--vivid-green-cyan: #00d084;--wp--preset--color--pale-cyan-blue: #8ed1fc;--wp--preset--color--vivid-cyan-blue: #0693e3;--wp--preset--color--vivid-purple: #9b51e0;--wp--preset--gradient--vivid-cyan-blue-to-vivid-purple: linear-gradient(135deg,rgba(6,147,227,1) 0%,rgb(155,81,224) 100%);--wp--preset--gradient--light-green-cyan-to-vivid-green-cyan: linear-gradient(135deg,rgb(122,220,180) 0%,rgb(0,208,130) 100%);--wp--preset--gradient--luminous-vivid-amber-to-luminous-vivid-orange: linear-gradient(135deg,rgba(252,185,0,1) 0%,rgba(255,105,0,1) 100%);--wp--preset--gradient--luminous-vivid-orange-to-vivid-red: linear-gradient(135deg,rgba(255,105,0,1) 0%,rgb(207,46,46) 100%);--wp--preset--gradient--very-light-gray-to-cyan-bluish-gray: linear-gradient(135deg,rgb(238,238,238) 0%,rgb(169,184,195) 100%);--wp--preset--gradient--cool-to-warm-spectrum: linear-gradient(135deg,rgb(74,234,220) 0%,rgb(151,120,209) 20%,rgb(207,42,186) 40%,rgb(238,44,130) 60%,rgb(251,105,98) 80%,rgb(254,248,76) 100%);--wp--preset--gradient--blush-light-purple: linear-gradient(135deg,rgb(255,206,236) 0%,rgb(152,150,240) 100%);--wp--preset--gradient--blush-bordeaux: linear-gradient(135deg,rgb(254,205,165) 0%,rgb(254,45,45) 50%,rgb(107,0,62) 100%);--wp--preset--gradient--luminous-dusk: linear-gradient(135deg,rgb(255,203,112) 0%,rgb(199,81,192) 50%,rgb(65,88,208) 100%);--wp--preset--gradient--pale-ocean: linear-gradient(135deg,rgb(255,245,203) 0%,rgb(182,227,212) 50%,rgb(51,167,181) 100%);--wp--preset--gradient--electric-grass: linear-gradient(135deg,rgb(202,248,128) 0%,rgb(113,206,126) 100%);--wp--preset--gradient--midnight: linear-gradient(135deg,rgb(2,3,129) 0%,rgb(40,116,252) 100%);--wp--preset--duotone--dark-grayscale: url(\\'#wp-duotone-dark-grayscale\\');--wp--preset--duotone--grayscale: url(\\'#wp-duotone-grayscale\\');--wp--preset--duotone--purple-yellow: url(\\'#wp-duotone-purple-yellow\\');--wp--preset--duotone--blue-red: url(\\'#wp-duotone-blue-red\\');--wp--preset--duotone--midnight: url(\\'#wp-duotone-midnight\\');--wp--preset--duotone--magenta-yellow: url(\\'#wp-duotone-magenta-yellow\\');--wp--preset--duotone--purple-green: url(\\'#wp-duotone-purple-green\\');--wp--preset--duotone--blue-orange: url(\\'#wp-duotone-blue-orange\\');--wp--preset--font-size--small: 13px;--wp--preset--font-size--medium: 20px;--wp--preset--font-size--large: 36px;--wp--preset--font-size--x-large: 42px;}.has-black-color{color: var(--wp--preset--color--black) !important;}.has-cyan-bluish-gray-color{color: var(--wp--preset--color--cyan-bluish-gray) !important;}.has-white-color{color: var(--wp--preset--color--white) !important;}.has-pale-pink-color{color: var(--wp--preset--color--pale-pink) !important;}.has-vivid-red-color{color: var(--wp--preset--color--vivid-red) !important;}.has-luminous-vivid-orange-color{color: var(--wp--preset--color--luminous-vivid-orange) !important;}.has-luminous-vivid-amber-color{color: var(--wp--preset--color--luminous-vivid-amber) !important;}.has-light-green-cyan-color{color: var(--wp--preset--color--light-green-cyan) !important;}.has-vivid-green-cyan-color{color: var(--wp--preset--color--vivid-green-cyan) !important;}.has-pale-cyan-blue-color{color: var(--wp--preset--color--pale-cyan-blue) !important;}.has-vivid-cyan-blue-color{color: var(--wp--preset--color--vivid-cyan-blue) !important;}.has-vivid-purple-color{color: var(--wp--preset--color--vivid-purple) !important;}.has-black-background-color{background-color: var(--wp--preset--color--black) !important;}.has-cyan-bluish-gray-background-color{background-color: var(--wp--preset--color--cyan-bluish-gray) !important;}.has-white-background-color{background-color: var(--wp--preset--color--white) !important;}.has-pale-pink-background-color{background-color: var(--wp--preset--color--pale-pink) !important;}.has-vivid-red-background-color{background-color: var(--wp--preset--color--vivid-red) !important;}.has-luminous-vivid-orange-background-color{background-color: var(--wp--preset--color--luminous-vivid-orange) !important;}.has-luminous-vivid-amber-background-color{background-color: var(--wp--preset--color--luminous-vivid-amber) !important;}.has-light-green-cyan-background-color{background-color: var(--wp--preset--color--light-green-cyan) !important;}.has-vivid-green-cyan-background-color{background-color: var(--wp--preset--color--vivid-green-cyan) !important;}.has-pale-cyan-blue-background-color{background-color: var(--wp--preset--color--pale-cyan-blue) !important;}.has-vivid-cyan-blue-background-color{background-color: var(--wp--preset--color--vivid-cyan-blue) !important;}.has-vivid-purple-background-color{background-color: var(--wp--preset--color--vivid-purple) !important;}.has-black-border-color{border-color: var(--wp--preset--color--black) !important;}.has-cyan-bluish-gray-border-color{border-color: var(--wp--preset--color--cyan-bluish-gray) !important;}.has-white-border-color{border-color: var(--wp--preset--color--white) !important;}.has-pale-pink-border-color{border-color: var(--wp--preset--color--pale-pink) !important;}.has-vivid-red-border-color{border-color: var(--wp--preset--color--vivid-red) !important;}.has-luminous-vivid-orange-border-color{border-color: var(--wp--preset--color--luminous-vivid-orange) !important;}.has-luminous-vivid-amber-border-color{border-color: var(--wp--preset--color--luminous-vivid-amber) !important;}.has-light-green-cyan-border-color{border-color: var(--wp--preset--color--light-green-cyan) !important;}.has-vivid-green-cyan-border-color{border-color: var(--wp--preset--color--vivid-green-cyan) !important;}.has-pale-cyan-blue-border-color{border-color: var(--wp--preset--color--pale-cyan-blue) !important;}.has-vivid-cyan-blue-border-color{border-color: var(--wp--preset--color--vivid-cyan-blue) !important;}.has-vivid-purple-border-color{border-color: var(--wp--preset--color--vivid-purple) !important;}.has-vivid-cyan-blue-to-vivid-purple-gradient-background{background: var(--wp--preset--gradient--vivid-cyan-blue-to-vivid-purple) !important;}.has-light-green-cyan-to-vivid-green-cyan-gradient-background{background: var(--wp--preset--gradient--light-green-cyan-to-vivid-green-cyan) !important;}.has-luminous-vivid-amber-to-luminous-vivid-orange-gradient-background{background: var(--wp--preset--gradient--luminous-vivid-amber-to-luminous-vivid-orange) !important;}.has-luminous-vivid-orange-to-vivid-red-gradient-background{background: var(--wp--preset--gradient--luminous-vivid-orange-to-vivid-red) !important;}.has-very-light-gray-to-cyan-bluish-gray-gradient-background{background: var(--wp--preset--gradient--very-light-gray-to-cyan-bluish-gray) !important;}.has-cool-to-warm-spectrum-gradient-background{background: var(--wp--preset--gradient--cool-to-warm-spectrum) !important;}.has-blush-light-purple-gradient-background{background: var(--wp--preset--gradient--blush-light-purple) !important;}.has-blush-bordeaux-gradient-background{background: var(--wp--preset--gradient--blush-bordeaux) !important;}.has-luminous-dusk-gradient-background{background: var(--wp--preset--gradient--luminous-dusk) !important;}.has-pale-ocean-gradient-background{background: var(--wp--preset--gradient--pale-ocean) !important;}.has-electric-grass-gradient-background{background: var(--wp--preset--gradient--electric-grass) !important;}.has-midnight-gradient-background{background: var(--wp--preset--gradient--midnight) !important;}.has-small-font-size{font-size: var(--wp--preset--font-size--small) !important;}.has-medium-font-size{font-size: var(--wp--preset--font-size--medium) !important;}.has-large-font-size{font-size: var(--wp--preset--font-size--large) !important;}.has-x-large-font-size{font-size: var(--wp--preset--font-size--x-large) !important;}\\n</style>\\n<link rel=\\'stylesheet\\' id=\\'contact-form-7-css\\'  href=\\'https://menuco.co/wp-content/plugins/contact-form-7/includes/css/styles.css?ver=5.4.1\\' type=\\'text/css\\' media=\\'all\\' />\\n<link rel=\\'stylesheet\\' id=\\'ihc_front_end_style-css\\'  href=\\'https://menuco.co/wp-content/plugins/indeed-membership-pro/assets/css/style.min.css?ver=1.1\\' type=\\'text/css\\' media=\\'all\\' />\\n<link rel=\\'stylesheet\\' id=\\'ihc_templates_style-css\\'  href=\\'https://menuco.co/wp-content/plugins/indeed-membership-pro/assets/css/templates.min.css?ver=1.1\\' type=\\'text/css\\' media=\\'all\\' />\\n<link rel=\\'stylesheet\\' id=\\'rs-plugin-settings-css\\'  href=\\'https://menuco.co/wp-content/plugins/revslider/public/assets/css/rs6.css?ver=6.4.11\\' type=\\'text/css\\' media=\\'all\\' />\\n<style id=\\'rs-plugin-settings-inline-css\\' type=\\'text/css\\'>\\n#rs-demo-id {}\\n</style>\\n<link rel=\\'stylesheet\\' id=\\'font-awesome-css\\'  href=\\'https://menuco.co/wp-content/themes/hub/assets/vendors/font-awesome/css/font-awesome.min.css\\' type=\\'text/css\\' media=\\'all\\' />\\n<link rel=\\'stylesheet\\' id=\\'bootstrap-css\\'  href=\\'https://menuco.co/wp-content/themes/hub/assets/vendors/bootstrap/css/bootstrap.min.css\\' type=\\'text/css\\' media=\\'all\\' />\\n<link rel=\\'stylesheet\\' id=\\'liquid-base-css\\'  href=\\'https://menuco.co/wp-content/themes/hub/style.css\\' type=\\'text/css\\' media=\\'all\\' />\\n<link rel=\\'stylesheet\\' id=\\'liquid-theme-css\\'  href=\\'https://menuco.co/wp-content/themes/hub/assets/css/theme.css\\' type=\\'text/css\\' media=\\'all\\' />\\n<link rel=\\'stylesheet\\' id=\\'theme-responsive-min-css\\'  href=\\'https://menuco.co/wp-content/themes/hub/assets/css/theme-responsive-min.min.css?ver=5.9.2\\' type=\\'text/css\\' media=\\'screen and (min-width: 1200px)\\' />\\n<link rel=\\'stylesheet\\' id=\\'theme-responsive-max-css\\'  href=\\'https://menuco.co/wp-content/themes/hub/assets/css/theme-responsive-max.min.css?ver=5.9.2\\' type=\\'text/css\\' media=\\'screen and (max-width: 1199px)\\' />\\n<link rel=\\'stylesheet\\' id=\\'ld-gdpr-box-css\\'  href=\\'https://menuco.co/wp-content/plugins/liquid-gdpr/assets/css/liquid-gdpr.min.css?ver=5.9.2\\' type=\\'text/css\\' media=\\'all\\' />\\n<link rel=\\'stylesheet\\' id=\\'landinghub-core-css\\'  href=\\'https://menuco.co/wp-content/plugins/hub-core/assets/css/landinghub-core.min.css?ver=5.9.2\\' type=\\'text/css\\' media=\\'all\\' />\\n<script type=\\'text/javascript\\' src=\\'https://menuco.co/wp-includes/js/jquery/jquery.min.js?ver=3.6.0\\' id=\\'jquery-core-js\\'></script>\\n<script type=\\'text/javascript\\' src=\\'https://menuco.co/wp-includes/js/jquery/jquery-migrate.min.js?ver=3.3.2\\' id=\\'jquery-migrate-js\\'></script>\\n<script type=\\'text/javascript\\' id=\\'monsterinsights-frontend-script-js-extra\\'>\\n/* <![CDATA[ */\\nvar monsterinsights_frontend = {\"js_events_tracking\":\"true\",\"download_extensions\":\"doc,pdf,ppt,zip,xls,docx,pptx,xlsx\",\"inbound_paths\":\"[{\\\\\"path\\\\\":\\\\\"\\\\\\\\\\\\/go\\\\\\\\\\\\/\\\\\",\\\\\"label\\\\\":\\\\\"affiliate\\\\\"},{\\\\\"path\\\\\":\\\\\"\\\\\\\\\\\\/recommend\\\\\\\\\\\\/\\\\\",\\\\\"label\\\\\":\\\\\"affiliate\\\\\"}]\",\"home_url\":\"https:\\\\/\\\\/menuco.co\",\"hash_tracking\":\"false\",\"ua\":\"UA-179106925-1\"};\\n/* ]]> */\\n</script>\\n<script type=\\'text/javascript\\' src=\\'https://menuco.co/wp-content/plugins/google-analytics-for-wordpress/assets/js/frontend-gtag.min.js?ver=7.18.0\\' id=\\'monsterinsights-frontend-script-js\\'></script>\\n<script type=\\'text/javascript\\' src=\\'https://menuco.co/wp-content/plugins/indeed-membership-pro/assets/js/jquery-ui.min.js\\' id=\\'ihc-jquery-ui-js\\'></script>\\n<script type=\\'text/javascript\\' id=\\'ihc-front_end_js-js-extra\\'>\\n/* <![CDATA[ */\\nvar ihc_translated_labels = {\"delete_level\":\"Are you sure you want to delete this level?\",\"cancel_level\":\"Are you sure you want to cancel this level?\"};\\n/* ]]> */\\n</script>\\n<script type=\\'text/javascript\\' src=\\'https://menuco.co/wp-content/plugins/indeed-membership-pro/assets/js/functions.min.js?ver=1.3\\' id=\\'ihc-front_end_js-js\\'></script>\\n<script type=\\'text/javascript\\' id=\\'ihc-front_end_js-js-after\\'>\\nvar ihc_site_url=\\'https://menuco.co\\';\\nvar ihc_ajax_url=\\'https://menuco.co/wp-admin/admin-ajax.php\\';\\nvar ihcStripeMultiply=\\'100\\';\\n</script>\\n<script type=\\'text/javascript\\' src=\\'https://menuco.co/wp-content/plugins/revslider/public/assets/js/rbtools.min.js?ver=6.4.8\\' id=\\'tp-tools-js\\'></script>\\n<script type=\\'text/javascript\\' src=\\'https://menuco.co/wp-content/plugins/revslider/public/assets/js/rs6.min.js?ver=6.4.11\\' id=\\'revmin-js\\'></script>\\n<script type=\\'text/javascript\\' id=\\'liquid-typekit-js-before\\'>\\nvar WebFontConfig = WebFontConfig || {}; WebFontConfig[\\'typekit\\'] = { id: \\'wwc5qth\\' };\\n\\t\\t\\t\\tvar WebFontConfig = WebFontConfig || {};\\n\\n\\t\\t\\t\\tWebFontConfig[\\'events\\'] = true;\\n\\n\\t\\t\\t\\tWebFontConfig[\\'timeout\\'] = 5000;\\n\\n\\t\\t\\t\\tWebFontConfig[\\'active\\'] = function() {\\n\\n\\t\\t\\t\\t\\tif ( typeof ( window.jQuery ) !== \\'undefined\\' ) {\\n\\n\\t\\t\\t\\t\\t\\tjQuery(window).trigger(\\'liquid_async_fonts_active\\');\\n\\n\\t\\t\\t\\t\\t}\\n\\n\\t\\t\\t\\t};\\n\\n\\t\\t\\t\\tWebFontConfig[\\'inactive\\'] = function() {\\n\\n\\t\\t\\t\\t\\tif ( typeof ( window.jQuery ) !== \\'undefined\\' ) {\\n\\n\\t\\t\\t\\t\\t\\tjQuery(window).trigger(\\'liquid_async_fonts_inactive\\');\\n\\n\\t\\t\\t\\t\\t}\\n\\n\\t\\t\\t\\t};\\n\\n\\n\\n\\t\\t\\t\\t(function(d) {\\n\\n\\t\\t\\t\\t\\tvar wf = d.createElement(\\'script\\'), s = d.scripts[0];\\n\\n\\t\\t\\t\\t\\twf.src = \\'https://ajax.googleapis.com/ajax/libs/webfont/1.6.16/webfont.js\\';\\n\\n\\t\\t\\t\\t\\ts.parentNode.insertBefore(wf, s);\\n\\n\\t\\t\\t\\t})(document);\\n\\n\\t\\t\\t\\n</script>\\n<script type=\\'text/javascript\\' src=\\'https://menuco.co/wp-content/plugins/hub-core/extensions/redux-typekit/liquid-typekit.js?ver=5.9.2\\' id=\\'liquid-typekit-js\\'></script>\\n<link rel=\"https://api.w.org/\" href=\"https://menuco.co/wp-json/\" /><link rel=\"alternate\" type=\"application/json\" href=\"https://menuco.co/wp-json/wp/v2/pages/11\" /><link rel=\"EditURI\" type=\"application/rsd+xml\" title=\"RSD\" href=\"https://menuco.co/xmlrpc.php?rsd\" />\\n<link rel=\"wlwmanifest\" type=\"application/wlwmanifest+xml\" href=\"https://menuco.co/wp-includes/wlwmanifest.xml\" /> \\n<meta name=\"generator\" content=\"WordPress 5.9.2\" />\\n<link rel=\\'shortlink\\' href=\\'https://menuco.co/?p=11\\' />\\n<link rel=\"alternate\" type=\"application/json+oembed\" href=\"https://menuco.co/wp-json/oembed/1.0/embed?url=https%3A%2F%2Fmenuco.co%2Fmember-tos-page%2F\" />\\n<link rel=\"alternate\" type=\"text/xml+oembed\" href=\"https://menuco.co/wp-json/oembed/1.0/embed?url=https%3A%2F%2Fmenuco.co%2Fmember-tos-page%2F&#038;format=xml\" />\\n<meta name=\\'ump-token\\' content=\\'542836b6d2\\'>\\t<link rel=\"shortcut icon\" href=\"https://menuco.co/wp-content/uploads/2021/07/Menuco_Logo-1-2-1-1.png\" />\\n\\n\\t<script type=\"text/javascript\">\\n\\n\\t\\t\\t\\twindow.liquidParams = {\\n\\n\\t\\t\\t\\t\\tcurrentZIndex: 10\\n\\n\\t\\t\\t\\t}\\n\\n\\t\\t\\t</script><style type=\"text/css\">.recentcomments a{display:inline !important;padding:0 !important;margin:0 !important;}</style><meta name=\"generator\" content=\"Powered by WPBakery Page Builder - drag and drop page builder for WordPress.\"/>\\n<meta name=\"generator\" content=\"Powered by Slider Revolution 6.4.11 - responsive, Mobile-Friendly Slider Plugin for WordPress with comfortable drag and drop interface.\" />\\n<script type=\"text/javascript\">function setREVStartSize(e){\\n\\n\\t\\t\\t//window.requestAnimationFrame(function() {\\t\\t\\t\\t \\n\\n\\t\\t\\t\\twindow.RSIW = window.RSIW===undefined ? window.innerWidth : window.RSIW;\\t\\n\\n\\t\\t\\t\\twindow.RSIH = window.RSIH===undefined ? window.innerHeight : window.RSIH;\\t\\n\\n\\t\\t\\t\\ttry {\\t\\t\\t\\t\\t\\t\\t\\t\\n\\n\\t\\t\\t\\t\\tvar pw = document.getElementById(e.c).parentNode.offsetWidth,\\n\\n\\t\\t\\t\\t\\t\\tnewh;\\n\\n\\t\\t\\t\\t\\tpw = pw===0 || isNaN(pw) ? window.RSIW : pw;\\n\\n\\t\\t\\t\\t\\te.tabw = e.tabw===undefined ? 0 : parseInt(e.tabw);\\n\\n\\t\\t\\t\\t\\te.thumbw = e.thumbw===undefined ? 0 : parseInt(e.thumbw);\\n\\n\\t\\t\\t\\t\\te.tabh = e.tabh===undefined ? 0 : parseInt(e.tabh);\\n\\n\\t\\t\\t\\t\\te.thumbh = e.thumbh===undefined ? 0 : parseInt(e.thumbh);\\n\\n\\t\\t\\t\\t\\te.tabhide = e.tabhide===undefined ? 0 : parseInt(e.tabhide);\\n\\n\\t\\t\\t\\t\\te.thumbhide = e.thumbhide===undefined ? 0 : parseInt(e.thumbhide);\\n\\n\\t\\t\\t\\t\\te.mh = e.mh===undefined || e.mh==\"\" || e.mh===\"auto\" ? 0 : parseInt(e.mh,0);\\t\\t\\n\\n\\t\\t\\t\\t\\tif(e.layout===\"fullscreen\" || e.l===\"fullscreen\") \\t\\t\\t\\t\\t\\t\\n\\n\\t\\t\\t\\t\\t\\tnewh = Math.max(e.mh,window.RSIH);\\t\\t\\t\\t\\t\\n\\n\\t\\t\\t\\t\\telse{\\t\\t\\t\\t\\t\\n\\n\\t\\t\\t\\t\\t\\te.gw = Array.isArray(e.gw) ? e.gw : [e.gw];\\n\\n\\t\\t\\t\\t\\t\\tfor (var i in e.rl) if (e.gw[i]===undefined || e.gw[i]===0) e.gw[i] = e.gw[i-1];\\t\\t\\t\\t\\t\\n\\n\\t\\t\\t\\t\\t\\te.gh = e.el===undefined || e.el===\"\" || (Array.isArray(e.el) && e.el.length==0)? e.gh : e.el;\\n\\n\\t\\t\\t\\t\\t\\te.gh = Array.isArray(e.gh) ? e.gh : [e.gh];\\n\\n\\t\\t\\t\\t\\t\\tfor (var i in e.rl) if (e.gh[i]===undefined || e.gh[i]===0) e.gh[i] = e.gh[i-1];\\n\\n\\t\\t\\t\\t\\t\\t\\t\\t\\t\\t\\t\\n\\n\\t\\t\\t\\t\\t\\tvar nl = new Array(e.rl.length),\\n\\n\\t\\t\\t\\t\\t\\t\\tix = 0,\\t\\t\\t\\t\\t\\t\\n\\n\\t\\t\\t\\t\\t\\t\\tsl;\\t\\t\\t\\t\\t\\n\\n\\t\\t\\t\\t\\t\\te.tabw = e.tabhide>=pw ? 0 : e.tabw;\\n\\n\\t\\t\\t\\t\\t\\te.thumbw = e.thumbhide>=pw ? 0 : e.thumbw;\\n\\n\\t\\t\\t\\t\\t\\te.tabh = e.tabhide>=pw ? 0 : e.tabh;\\n\\n\\t\\t\\t\\t\\t\\te.thumbh = e.thumbhide>=pw ? 0 : e.thumbh;\\t\\t\\t\\t\\t\\n\\n\\t\\t\\t\\t\\t\\tfor (var i in e.rl) nl[i] = e.rl[i]<window.RSIW ? 0 : e.rl[i];\\n\\n\\t\\t\\t\\t\\t\\tsl = nl[0];\\t\\t\\t\\t\\t\\t\\t\\t\\t\\n\\n\\t\\t\\t\\t\\t\\tfor (var i in nl) if (sl>nl[i] && nl[i]>0) { sl = nl[i]; ix=i;}\\t\\t\\t\\t\\t\\t\\t\\t\\t\\t\\t\\t\\t\\t\\t\\n\\n\\t\\t\\t\\t\\t\\tvar m = pw>(e.gw[ix]+e.tabw+e.thumbw) ? 1 : (pw-(e.tabw+e.thumbw)) / (e.gw[ix]);\\t\\t\\t\\t\\t\\n\\n\\t\\t\\t\\t\\t\\tnewh =  (e.gh[ix] * m) + (e.tabh + e.thumbh);\\n\\n\\t\\t\\t\\t\\t}\\t\\t\\t\\t\\n\\n\\t\\t\\t\\t\\tif(window.rs_init_css===undefined) window.rs_init_css = document.head.appendChild(document.createElement(\"style\"));\\t\\t\\t\\t\\t\\n\\n\\t\\t\\t\\t\\tdocument.getElementById(e.c).height = newh+\"px\";\\n\\n\\t\\t\\t\\t\\twindow.rs_init_css.innerHTML += \"#\"+e.c+\"_wrapper { height: \"+newh+\"px }\";\\t\\t\\t\\t\\n\\n\\t\\t\\t\\t} catch(e){\\n\\n\\t\\t\\t\\t\\tconsole.log(\"Failure at Presize of Slider:\" + e)\\n\\n\\t\\t\\t\\t}\\t\\t\\t\\t\\t   \\n\\n\\t\\t\\t//});\\n\\n\\t\\t  };</script>\\n\\t\\t<style type=\"text/css\" id=\"wp-custom-css\">\\n\\t\\t\\t.wp-block-buttons .wp-block-button__link {\\n    display: none;\\n}\\t\\t</style>\\n\\t\\t<style id=\\'liquid-stylesheet-inline-css\\' type=\\'text/css\\'>:root{--color-primary:#f7274d;--color-gradient-start:#f85976;--color-gradient-stop:#f85976;--lqd-cc-active-bw:1px;--lqd-cc-active-bg:rgb(0, 0, 0);--lqd-cc-active-bc:rgb(0, 0, 0);--lqd-cc-active-circle-txt:rgb(0, 0, 0);}body{font-family:\\'sofia-pro\\', sans-serif ;line-height:1.6em;font-size:15px;color:#595b74;}.btn{font-family:inherit;font-weight:700;text-transform:uppercase;line-height:12px;letter-spacing:0.09em;font-size:12px;}.lqd-post-content, .lqd-post-header .entry-excerpt{font-family:inherit;line-height:1.73em;font-size:19px;}.h1,h1{font-family:\\'sofia-pro\\', sans-serif ;font-weight:700;line-height:1.2em;font-size:46px;color:#0d177b;}.h2,h2{font-family:\\'sofia-pro\\', sans-serif ;font-weight:700;line-height:1.395em;font-size:43px;color:#0d177b;}.h3,h3{font-family:\\'sofia-pro\\', sans-serif ;font-weight:700;line-height:1.2em;font-size:32px;color:#0d177b;}.h4,h4{font-family:\\'sofia-pro\\', sans-serif ;font-weight:700;line-height:1.5em;font-size:20px;color:#0d177b;}.h5,h5{font-family:\\'sofia-pro\\', sans-serif ;font-weight:400;line-height:1.5em;font-size:18px;color:#0d177b;}.h6,h6{font-family:\\'sofia-pro\\', sans-serif ;font-weight:700;line-height:1.5em;letter-spacing:0.09em;font-size:12px;text-transform:uppercase;color:#f85976;}.titlebar-inner h1{color:#0d177b !important;}.titlebar-inner p{color:#595b74 !important;}.titlebar-inner{padding-top:60px;padding-bottom:80px;}.titlebar{background-color:#ffffff;background:linear-gradient(180deg, rgb(241, 253, 255) 2.229299363057325%, rgb(255, 255, 255) 100%);}@media screen and (min-width: 992px){body.has-sidebar #lqd-contents-wrap{padding-top:25px;}}@media screen and (min-width: 1200px) {\\n\\n.is-stuck {\\n\\n    box-shadow: -2px 3px 80px 0px rgba(33, 0, 134, 0.12);\\n\\n} }</style><noscript><style> .wpb_animate_when_almost_visible { opacity: 1; }</style></noscript>\\n\\n</head>\\n\\n\\n\\n<body class=\"page-template-default page page-id-11 wp-embed-responsive lqd-pf-single lqd-pf-single-style-1 lqd-preloader-activated lqd-page-not-loaded lqd-preloader-style-fade site-wide-layout lazyload-enabled wpb-js-composer js-comp-ver-6.6.0 vc_responsive\" dir=\"ltr\" itemscope=\"itemscope\" itemtype=\"http://schema.org/WebPage\" data-mobile-nav-breakpoint=\"1199\" data-mobile-nav-style=\"modern\" data-mobile-nav-scheme=\"dark\" data-mobile-nav-trigger-alignment=\"right\" data-mobile-header-scheme=\"gray\" data-mobile-logo-alignment=\"default\" data-lqd-cc=\"true\">\\n\\n\\t\\n\\n\\t<svg xmlns=\"http://www.w3.org/2000/svg\" viewBox=\"0 0 0 0\" width=\"0\" height=\"0\" focusable=\"false\" role=\"none\" style=\"visibility: hidden; position: absolute; left: -9999px; overflow: hidden;\" ><defs><filter id=\"wp-duotone-dark-grayscale\"><feColorMatrix color-interpolation-filters=\"sRGB\" type=\"matrix\" values=\" .299 .587 .114 0 0 .299 .587 .114 0 0 .299 .587 .114 0 0 .299 .587 .114 0 0 \" /><feComponentTransfer color-interpolation-filters=\"sRGB\" ><feFuncR type=\"table\" tableValues=\"0 0.49803921568627\" /><feFuncG type=\"table\" tableValues=\"0 0.49803921568627\" /><feFuncB type=\"table\" tableValues=\"0 0.49803921568627\" /><feFuncA type=\"table\" tableValues=\"1 1\" /></feComponentTransfer><feComposite in2=\"SourceGraphic\" operator=\"in\" /></filter></defs></svg><svg xmlns=\"http://www.w3.org/2000/svg\" viewBox=\"0 0 0 0\" width=\"0\" height=\"0\" focusable=\"false\" role=\"none\" style=\"visibility: hidden; position: absolute; left: -9999px; overflow: hidden;\" ><defs><filter id=\"wp-duotone-grayscale\"><feColorMatrix color-interpolation-filters=\"sRGB\" type=\"matrix\" values=\" .299 .587 .114 0 0 .299 .587 .114 0 0 .299 .587 .114 0 0 .299 .587 .114 0 0 \" /><feComponentTransfer color-interpolation-filters=\"sRGB\" ><feFuncR type=\"table\" tableValues=\"0 1\" /><feFuncG type=\"table\" tableValues=\"0 1\" /><feFuncB type=\"table\" tableValues=\"0 1\" /><feFuncA type=\"table\" tableValues=\"1 1\" /></feComponentTransfer><feComposite in2=\"SourceGraphic\" operator=\"in\" /></filter></defs></svg><svg xmlns=\"http://www.w3.org/2000/svg\" viewBox=\"0 0 0 0\" width=\"0\" height=\"0\" focusable=\"false\" role=\"none\" style=\"visibility: hidden; position: absolute; left: -9999px; overflow: hidden;\" ><defs><filter id=\"wp-duotone-purple-yellow\"><feColorMatrix color-interpolation-filters=\"sRGB\" type=\"matrix\" values=\" .299 .587 .114 0 0 .299 .587 .114 0 0 .299 .587 .114 0 0 .299 .587 .114 0 0 \" /><feComponentTransfer color-interpolation-filters=\"sRGB\" ><feFuncR type=\"table\" tableValues=\"0.54901960784314 0.98823529411765\" /><feFuncG type=\"table\" tableValues=\"0 1\" /><feFuncB type=\"table\" tableValues=\"0.71764705882353 0.25490196078431\" /><feFuncA type=\"table\" tableValues=\"1 1\" /></feComponentTransfer><feComposite in2=\"SourceGraphic\" operator=\"in\" /></filter></defs></svg><svg xmlns=\"http://www.w3.org/2000/svg\" viewBox=\"0 0 0 0\" width=\"0\" height=\"0\" focusable=\"false\" role=\"none\" style=\"visibility: hidden; position: absolute; left: -9999px; overflow: hidden;\" ><defs><filter id=\"wp-duotone-blue-red\"><feColorMatrix color-interpolation-filters=\"sRGB\" type=\"matrix\" values=\" .299 .587 .114 0 0 .299 .587 .114 0 0 .299 .587 .114 0 0 .299 .587 .114 0 0 \" /><feComponentTransfer color-interpolation-filters=\"sRGB\" ><feFuncR type=\"table\" tableValues=\"0 1\" /><feFuncG type=\"table\" tableValues=\"0 0.27843137254902\" /><feFuncB type=\"table\" tableValues=\"0.5921568627451 0.27843137254902\" /><feFuncA type=\"table\" tableValues=\"1 1\" /></feComponentTransfer><feComposite in2=\"SourceGraphic\" operator=\"in\" /></filter></defs></svg><svg xmlns=\"http://www.w3.org/2000/svg\" viewBox=\"0 0 0 0\" width=\"0\" height=\"0\" focusable=\"false\" role=\"none\" style=\"visibility: hidden; position: absolute; left: -9999px; overflow: hidden;\" ><defs><filter id=\"wp-duotone-midnight\"><feColorMatrix color-interpolation-filters=\"sRGB\" type=\"matrix\" values=\" .299 .587 .114 0 0 .299 .587 .114 0 0 .299 .587 .114 0 0 .299 .587 .114 0 0 \" /><feComponentTransfer color-interpolation-filters=\"sRGB\" ><feFuncR type=\"table\" tableValues=\"0 0\" /><feFuncG type=\"table\" tableValues=\"0 0.64705882352941\" /><feFuncB type=\"table\" tableValues=\"0 1\" /><feFuncA type=\"table\" tableValues=\"1 1\" /></feComponentTransfer><feComposite in2=\"SourceGraphic\" operator=\"in\" /></filter></defs></svg><svg xmlns=\"http://www.w3.org/2000/svg\" viewBox=\"0 0 0 0\" width=\"0\" height=\"0\" focusable=\"false\" role=\"none\" style=\"visibility: hidden; position: absolute; left: -9999px; overflow: hidden;\" ><defs><filter id=\"wp-duotone-magenta-yellow\"><feColorMatrix color-interpolation-filters=\"sRGB\" type=\"matrix\" values=\" .299 .587 .114 0 0 .299 .587 .114 0 0 .299 .587 .114 0 0 .299 .587 .114 0 0 \" /><feComponentTransfer color-interpolation-filters=\"sRGB\" ><feFuncR type=\"table\" tableValues=\"0.78039215686275 1\" /><feFuncG type=\"table\" tableValues=\"0 0.94901960784314\" /><feFuncB type=\"table\" tableValues=\"0.35294117647059 0.47058823529412\" /><feFuncA type=\"table\" tableValues=\"1 1\" /></feComponentTransfer><feComposite in2=\"SourceGraphic\" operator=\"in\" /></filter></defs></svg><svg xmlns=\"http://www.w3.org/2000/svg\" viewBox=\"0 0 0 0\" width=\"0\" height=\"0\" focusable=\"false\" role=\"none\" style=\"visibility: hidden; position: absolute; left: -9999px; overflow: hidden;\" ><defs><filter id=\"wp-duotone-purple-green\"><feColorMatrix color-interpolation-filters=\"sRGB\" type=\"matrix\" values=\" .299 .587 .114 0 0 .299 .587 .114 0 0 .299 .587 .114 0 0 .299 .587 .114 0 0 \" /><feComponentTransfer color-interpolation-filters=\"sRGB\" ><feFuncR type=\"table\" tableValues=\"0.65098039215686 0.40392156862745\" /><feFuncG type=\"table\" tableValues=\"0 1\" /><feFuncB type=\"table\" tableValues=\"0.44705882352941 0.4\" /><feFuncA type=\"table\" tableValues=\"1 1\" /></feComponentTransfer><feComposite in2=\"SourceGraphic\" operator=\"in\" /></filter></defs></svg><svg xmlns=\"http://www.w3.org/2000/svg\" viewBox=\"0 0 0 0\" width=\"0\" height=\"0\" focusable=\"false\" role=\"none\" style=\"visibility: hidden; position: absolute; left: -9999px; overflow: hidden;\" ><defs><filter id=\"wp-duotone-blue-orange\"><feColorMatrix color-interpolation-filters=\"sRGB\" type=\"matrix\" values=\" .299 .587 .114 0 0 .299 .587 .114 0 0 .299 .587 .114 0 0 .299 .587 .114 0 0 \" /><feComponentTransfer color-interpolation-filters=\"sRGB\" ><feFuncR type=\"table\" tableValues=\"0.098039215686275 1\" /><feFuncG type=\"table\" tableValues=\"0 0.66274509803922\" /><feFuncB type=\"table\" tableValues=\"0.84705882352941 0.41960784313725\" /><feFuncA type=\"table\" tableValues=\"1 1\" /></feComponentTransfer><feComposite in2=\"SourceGraphic\" operator=\"in\" /></filter></defs></svg>\\n\\n\\t<section><h2 class=\"screen-reader-text\">Skip links</h2><ul class=\"liquid-skip-link screen-reader-text\"><li><a href=\"#primary\" class=\"screen-reader-shortcut\"> Skip to primary navigation</a></li><li><a href=\"#content\" class=\"screen-reader-shortcut\"> Skip to content</a></li></ul></section>\\n<div class=\"lqd-cc-wrap\">\\n\\n\\t\\t\\t\\t\\t<div class=\"lqd-cc lqd-cc--inner\">\\n\\n\\t\\t\\t\\t\\t\\t<span class=\"lqd-cc-solid-bg\"></span>\\n\\n\\t\\t\\t\\t\\t\\t<div class=\"lqd-cc-solid lqd-cc-explore\">\\n\\n\\t\\t\\t\\t\\t\\t\\t<div class=\"lqd-cc-solid-inner\">\\n\\n\\t\\t\\t\\t\\t\\t\\t\\t<span class=\"lqd-cc-solid-txt d-flex overflow-hidden justify-content-center text-center\">\\n\\n\\t\\t\\t\\t\\t\\t\\t\\t\\t<span class=\"d-flex\">Explore</span>\\n\\n\\t\\t\\t\\t\\t\\t\\t\\t</span>\\n\\n\\t\\t\\t\\t\\t\\t\\t</div><!-- /.lqd-cc-solid-inner -->\\n\\n\\t\\t\\t\\t\\t\\t</div><!-- /.lqd-css-explore -->\\n\\n\\t\\t\\t\\t\\t\\t<div class=\"lqd-cc-solid lqd-cc-drag\">\\n\\n\\t\\t\\t\\t\\t\\t\\t<div class=\"lqd-cc-solid-inner\">\\n\\n\\t\\t\\t\\t\\t\\t\\t\\t<span class=\"lqd-cc-solid-ext lqd-cc-solid-ext-left\">\\n\\n\\t\\t\\t\\t\\t\\t\\t\\t\\t<i class=\"lqd-icn-ess icon-ion-caret-back\"></i>\\n\\n\\t\\t\\t\\t\\t\\t\\t\\t</span>\\n\\n\\t\\t\\t\\t\\t\\t\\t\\t<span class=\"lqd-cc-solid-txt d-flex overflow-hidden justify-content-center text-center\">\\n\\n\\t\\t\\t\\t\\t\\t\\t\\t\\t<span class=\"d-flex\">Drag</span>\\n\\n\\t\\t\\t\\t\\t\\t\\t\\t</span>\\n\\n\\t\\t\\t\\t\\t\\t\\t\\t<span class=\"lqd-cc-solid-ext lqd-cc-solid-ext-right\">\\n\\n\\t\\t\\t\\t\\t\\t\\t\\t\\t<i class=\"lqd-icn-ess icon-ion-caret-forward\"></i>\\n\\n\\t\\t\\t\\t\\t\\t\\t\\t</span>\\n\\n\\t\\t\\t\\t\\t\\t\\t</div><!-- /.lqd-cc-solid-inner -->\\n\\n\\t\\t\\t\\t\\t\\t</div><!-- /.lqd-cc-solid -->\\n\\n\\t\\t\\t\\t\\t\\t<div class=\"lqd-cc-arrow\">\\n\\n\\t\\t\\t\\t\\t\\t\\t<svg width=\"80\" height=\"80\" viewBox=\"0 0 80 80\" fill=\"none\" xmlns=\"http://www.w3.org/2000/svg\">\\n\\n\\t\\t\\t\\t\\t\\t\\t\\t<path d=\"M60.4993 0V4.77005H8.87285L80 75.9207L75.7886 79.1419L4.98796 8.35478V60.4993H0V0H60.4993Z\"/>\\n\\n\\t\\t\\t\\t\\t\\t\\t</svg>\\n\\n\\t\\t\\t\\t\\t\\t</div><!-- /.lqd-cc-arrow -->\\n\\n\\t\\t\\t\\t\\t\\t<div class=\"lqd-cc-custom-icon\">\\n\\n\\t\\t\\t\\t\\t\\t\\t<span class=\"lqd-cc-ci\">\\n\\n\\t\\t\\t\\t\\t\\t\\t\\t<i class=\"lqd-icn-ess icon-ion-ios-add\"></i>\\n\\n\\t\\t\\t\\t\\t\\t\\t</span>\\n\\n\\t\\t\\t\\t\\t\\t</div><!-- /.lqd-cc-custom-icon -->\\n\\n\\t\\t\\t\\t\\t</div>\\n\\n\\t\\t\\t\\t\\t<div class=\"lqd-cc lqd-cc--outer\"></div>\\n\\n\\t\\t\\t\\t</div><!-- /.lqd-cc-wrap --><div class=\"lqd-preloader-wrap lqd-preloader-fade\" data-preloader-options=\\'{ \"animationType\": \"fade\" }\\'>\\n\\n\\t<div class=\"lqd-preloader-inner\">\\n\\n\\t</div><!-- /.lqd-preloader-inner -->\\n\\n</div><!-- /.lqd-preloader-wrap -->\\n\\n\\t<div id=\"wrap\">\\n\\n\\n\\n\\t\\t<header class=\"main-header lqd-main-header-default\">\\n\\n\\n\\n\\t<div class=\"lqd-head-sec-wrap pos-rel\">\\n\\n\\n\\n\\t\\t<div class=\"lqd-head-sec container-fluid d-flex align-items-stretch px-3\">\\n\\n\\n\\n\\t\\t\\t\\t<div class=\"lqd-head-col col\">\\n\\n\\n\\n\\t\\t\\t\\t\\t<div class=\"header-module module-logo\">\\n\\n\\n\\n\\t\\t\\t\\t\\t\\t<a class=\"navbar-brand\" href=\"https://menuco.co/\">\\n\\n\\t\\t\\t\\t\\t\\t\\t<span class=\"navbar-brand-inner\">\\n\\n\\t\\t\\t\\t\\t\\t\\t\\t<img class=\"logo-default\" src=\"https://menuco.co/wp-content/uploads/2021/07/Menuco_Logo-1-2-1-1.png\" alt=\"Menuco Ana\" />\\n\\n\\t\\t\\t\\t\\t\\t\\t</span>\\n\\n\\t\\t\\t\\t\\t\\t</a>\\n\\n\\n\\n\\t\\t\\t\\t\\t</div>\\n\\n\\t\\t\\t\\t\\t\\n\\n\\t\\t\\t\\t</div>\\n\\n\\n\\n\\t\\t\\t\\t<div class=\"lqd-head-col col text-center\">\\n\\n\\n\\n\\t\\t\\t\\t\\t<div class=\"header-module pos-stc py-0\">\\n\\n\\n\\n\\t\\t\\t\\t\\t\\t<div class=\"collapse navbar-collapse\" id=\"main-header-collapse\" aria-expanded=\"false\" role=\"navigation\">\\n\\n\\t\\t\\t\\t\\t\\t\\t<ul id=\"primary-nav\" class=\"main-nav nav\"><li id=\"menu-item-17954\" class=\"menu-item menu-item-type-post_type menu-item-object-page menu-item-home menu-item-17954\"><a href=\"https://menuco.co/\">Home Page</a></li>\\n<li id=\"menu-item-17992\" class=\"menu-item menu-item-type-custom menu-item-object-custom menu-item-17992\"><a href=\"https://menuco.co/subscription-plan\">Price List</a></li>\\n<li id=\"menu-item-17993\" class=\"menu-item menu-item-type-custom menu-item-object-custom menu-item-17993\"><a href=\"https://menuco.co/contact\">Contact</a></li>\\n</ul>\\t\\t\\t\\t\\t\\t</div>\\n\\n\\n\\n\\t\\t\\t\\t\\t\\t</div>\\n\\n\\n\\n\\t\\t\\t\\t</div>\\n\\n\\t\\t\\t\\t\\n\\n\\t\\t\\t\\t<div class=\"lqd-head-col col text-right\">\\n\\n\\n\\n\\t\\t\\t\\t\\t<div class=\"header-module\">\\n\\n\\n\\n\\t\\t\\t\\t\\t\\t<div class=\"ld-module-search\">\\n\\n\\t\\n\\n\\t<span class=\"ld-module-trigger collapsed\" role=\"button\" data-ld-toggle=\"true\" data-toggle=\"collapse\" data-target=\"#search-624b62e7ed908\" aria-controls=\"search-624b62e7ed908\" aria-expanded=\"false\">\\n\\n\\t\\t<span class=\"ld-module-trigger-txt\"></span>\\n\\n\\t\\t\\t<span class=\"ld-module-trigger-icon\">\\n\\n\\t\\t\\t\\t<i class=\"lqd-icn-ess icon-ld-search\"></i>\\n\\n\\t\\t\\t</span><!-- /.ld-module-trigger-icon --> \\n\\n\\t</span><!-- /.ld-module-trigger -->\\n\\n\\t\\n\\n\\t<div role=\"search\" class=\"ld-module-dropdown collapse\" id=\"search-624b62e7ed908\" aria-expanded=\"false\">\\n\\n\\t\\t<div class=\"ld-search-form-container\">\\n\\n\\t\\t\\t<form role=\"search\" method=\"get\" action=\"https://menuco.co/\" class=\"ld-search-form\">\\n\\n\\t\\t\\t\\t<input type=\"search\" placeholder=\"Start searching\" value=\"\" name=\"s\" />\\n\\n\\t\\t\\t\\t<span role=\"search\" class=\"input-icon\" data-ld-toggle=\"true\" data-toggle=\"collapse\" data-target=\"#search-624b62e7ed908\" aria-controls=\"search-624b62e7ed908\" aria-expanded=\"false\"><i class=\"lqd-icn-ess icon-ld-search\"></i></span>\\n\\n\\t\\t\\t\\t<input type=\"hidden\" name=\"post_type\" value=\"post\" />\\n\\n\\t\\t\\t</form>\\n\\n\\t\\t</div><!-- /.ld-search-form-container -->\\n\\n\\t</div><!-- /.ld-module-dropdown -->\\n\\n\\t\\n\\n</div><!-- /.module-search -->\\t\\t\\t\\t\\t\\t\\n\\n\\t\\t\\t\\t\\t</div>\\n\\n\\n\\n\\t\\t\\t</div>\\n\\n\\n\\n\\t\\t</div>\\n\\n\\t\\n\\n\\t</div>\\n\\n\\n\\n\\t<div class=\"lqd-mobile-sec\">\\n\\n\\n\\n\\t\\t<div class=\"lqd-mobile-sec-inner navbar-header d-flex align-items-stretch\">\\n\\n\\n\\n\\t\\t\\t<div class=\"lqd-mobile-modules-container\"></div>\\n\\n\\n\\n\\t\\t\\t<button\\n\\n\\t\\t\\ttype=\"button\"\\n\\n\\t\\t\\tclass=\"navbar-toggle collapsed nav-trigger style-mobile\"\\n\\n\\t\\t\\tdata-ld-toggle=\"true\"\\n\\n\\t\\t\\tdata-toggle=\"collapse\"\\n\\n\\t\\t\\tdata-target=\"#lqd-mobile-sec-nav\"\\n\\n\\t\\t\\taria-expanded=\"false\"\\n\\n\\t\\t\\tdata-toggle-options=\\'{ \"changeClassnames\": {\"html\": \"mobile-nav-activated\"} }\\'>\\n\\n\\t\\t\\t\\t<span class=\"sr-only\">Toggle navigation</span>\\n\\n\\t\\t\\t\\t<span class=\"bars\">\\n\\n\\t\\t\\t\\t\\t<span class=\"bars-inner\">\\n\\n\\t\\t\\t\\t\\t\\t<span class=\"bar\"></span>\\n\\n\\t\\t\\t\\t\\t\\t<span class=\"bar\"></span>\\n\\n\\t\\t\\t\\t\\t\\t<span class=\"bar\"></span>\\n\\n\\t\\t\\t\\t\\t</span>\\n\\n\\t\\t\\t\\t</span>\\n\\n\\t\\t\\t</button>\\n\\n\\n\\n\\t\\t\\t<a class=\"navbar-brand\" href=\"https://menuco.co/\">\\n\\n\\t\\t\\t\\t<span class=\"navbar-brand-inner\">\\n\\n\\t\\t\\t\\t\\t<img class=\"logo-default\" src=\"https://menuco.co/wp-content/uploads/2021/07/Menuco_Logo-1-2-1-1.png\" alt=\"Menuco Ana\" />\\n\\n\\t\\t\\t\\t</span>\\n\\n\\t\\t\\t</a>\\n\\n\\n\\n\\t\\t</div>\\n\\n\\n\\n\\t\\t<div class=\"lqd-mobile-sec-nav\">\\n\\n\\t\\t\\t<div class=\"collapse navbar-collapse\" id=\"lqd-mobile-sec-nav\" aria-expanded=\"false\" role=\"navigation\">\\n\\n\\n\\n\\t\\t\\t\\t<ul id=\"mobile-primary-nav\" class=\"mobile-main-nav main-nav reset-ul px-2\"><li class=\"menu-item menu-item-type-post_type menu-item-object-page menu-item-home menu-item-17954\"><a href=\"https://menuco.co/\">Home Page</a></li>\\n<li class=\"menu-item menu-item-type-custom menu-item-object-custom menu-item-17992\"><a href=\"https://menuco.co/subscription-plan\">Price List</a></li>\\n<li class=\"menu-item menu-item-type-custom menu-item-object-custom menu-item-17993\"><a href=\"https://menuco.co/contact\">Contact</a></li>\\n</ul>\\n\\n\\t\\t\\t</div>\\n\\n\\t\\t</div>\\n\\n\\n\\n\\t</div>\\n\\n\\n\\n</header><div class=\"titlebar text-center\"  >\\n\\n\\t\\n\\n\\t\\t\\t\\t<div class=\"titlebar-inner\">\\n\\n\\t\\t<div class=\"container titlebar-container\">\\n\\n\\t\\t\\t<div class=\"row titlebar-container d-flex flex-wrap align-items-center\">\\n\\n\\n\\n\\t\\t\\t\\t<div class=\"titlebar-col col-xs-12 col-lg-6 col-lg-offset-3 col-md-8 col-md-offset-2\">\\n\\n\\n\\n\\t\\t\\t\\t\\t<h1>Member TOS Page</h1>\\n\\n\\t\\t\\t\\t\\t<p>We are here to answer any question you may have.</p>\\n\\t\\t\\t\\t\\t\\t\\t\\t\\t\\t\\n\\n\\t\\t\\t\\t</div>\\n\\n\\n\\n\\t\\t\\t\\t\\t\\t\\t\\t\\n\\n\\t\\t\\t</div>\\n\\n\\t\\t</div>\\n\\n\\t</div>\\n\\n\\t</div>\\n\\n\\t\\t<main class=\"content\" id=\"lqd-site-content\">\\n\\n\\n\\n\\t\\t\\t\\n\\n\\t\\t\\t<div class=\"container\" id=\"lqd-contents-wrap\">\\n\\n\\n\\n\\t\\t\\t\\n\\n\\n\\n\\t<h1>Terms and Conditions</h1>\\n<p>Last updated: August 12, 2021</p>\\n<p>Please read these terms and conditions carefully before using Our Service.</p>\\n<h1>Interpretation and Definitions</h1>\\n<h2>Interpretation</h2>\\n<p>The words of which the initial letter is capitalized have meanings defined under the following conditions. The following definitions shall have the same meaning regardless of whether they appear in singular or in plural.</p>\\n<h2>Definitions</h2>\\n<p>For the purposes of these Terms and Conditions:</p>\\n<ul>\\n<li><strong>Affiliate</strong>\\xa0means an entity that controls, is controlled by or is under common control with a party, where &#8220;control&#8221; means ownership of 50% or more of the shares, equity interest or other securities entitled to vote for election of directors or other managing authority.</li>\\n<li><strong>Country</strong>\\xa0refers to: Estonia</li>\\n<li><strong>Company</strong>\\xa0(referred to as either &#8220;the Company&#8221;, &#8220;We&#8221;, &#8220;Us&#8221; or &#8220;Our&#8221; in this Agreement) refers to Tidart OÜ, Linnamäe tee 5/21, 13912 Tallin.</li>\\n<li><strong>Device</strong>\\xa0means any device that can access the Service such as a computer, a cellphone or a digital tablet.</li>\\n<li><strong>Service</strong>\\xa0refers to the Website.</li>\\n<li><strong>Terms and Conditions</strong>\\xa0(also referred as &#8220;Terms&#8221;) mean these Terms and Conditions that form the entire agreement between You and the Company regarding the use of the Service. This Terms and Conditions agreement has been created with the help of the\\xa0<a href=\"https://www.termsfeed.com/terms-conditions-generator/\" target=\"_blank\" rel=\"noopener\">Terms and Conditions Generator</a>.</li>\\n<li><strong>Third-party Social Media Service</strong>\\xa0means any services or content (including data, information, products or services) provided by a third-party that may be displayed, included or made available by the Service.</li>\\n<li><strong>Website</strong>\\xa0refers to Menuco, accessible from\\xa0<a href=\"https://www.termsfeed.com/live/www.menuco.co\" target=\"_blank\" rel=\"external nofollow noopener\">www.menuco.co</a></li>\\n<li><strong>You</strong>\\xa0means the individual accessing or using the Service, or the company, or other legal entity on behalf of which such individual is accessing or using the Service, as applicable.</li>\\n</ul>\\n<h1>Acknowledgment</h1>\\n<p>These are the Terms and Conditions governing the use of this Service and the agreement that operates between You and the Company. These Terms and Conditions set out the rights and obligations of all users regarding the use of the Service.</p>\\n<p>Your access to and use of the Service is conditioned on Your acceptance of and compliance with these Terms and Conditions. These Terms and Conditions apply to all visitors, users and others who access or use the Service.</p>\\n<p>By accessing or using the Service You agree to be bound by these Terms and Conditions. If You disagree with any part of these Terms and Conditions then You may not access the Service.</p>\\n<p>You represent that you are over the age of 18. The Company does not permit those under 18 to use the Service.</p>\\n<p>Your access to and use of the Service is also conditioned on Your acceptance of and compliance with the Privacy Policy of the Company. Our Privacy Policy describes Our policies and procedures on the collection, use and disclosure of Your personal information when You use the Application or the Website and tells You about Your privacy rights and how the law protects You. Please read Our Privacy Policy carefully before using Our Service.</p>\\n<h1>Links to Other Websites</h1>\\n<p>Our Service may contain links to third-party web sites or services that are not owned or controlled by the Company.</p>\\n<p>The Company has no control over, and assumes no responsibility for, the content, privacy policies, or practices of any third party web sites or services. You further acknowledge and agree that the Company shall not be responsible or liable, directly or indirectly, for any damage or loss caused or alleged to be caused by or in connection with the use of or reliance on any such content, goods or services available on or through any such web sites or services.</p>\\n<p>We strongly advise You to read the terms and conditions and privacy policies of any third-party web sites or services that You visit.</p>\\n<h2>Membership</h2>\\n<p>Your Menuco membership will continue until terminated. To use the Menuco service you provide us with one or more Payment Methods. &#8220;Payment Method&#8221; means a current, valid, accepted method of payment, as may be updated from time to time, and which may include payment through your account with a third party. Unless you cancel your membership before your billing date, you authorize us to charge the membership fee for the next billing cycle to your Payment Method (see &#8220;Cancellation&#8221; below).</p>\\n<p>We may offer a number of membership plans, including memberships offered by third parties in conjunction with the provision of their own products and services. Some membership plans may have differing conditions and limitations, which will be disclosed at your sign-up or in other communications made available to you. You can find specific details regarding your Menuco membership by visiting our website.</p>\\n<h2>Promotional Offers</h2>\\n<p>We may from time to time offer special promotional offers, plans or memberships (“Offers”). Offer eligibility is determined by Menuco at its sole discretion and we reserve the right to revoke an Offer and put your account on hold in the event that we determine you are not eligible.</p>\\n<h2>Billing &amp; Cancellation</h2>\\n<p><strong><span class=\"underline\">Billing Cycle.</span></strong> The membership fee for the Menuco service will be charged to your Payment Method on the payment date specified on the &#8220;my-account&#8221; page. The length of your billing cycle will depend on the type of subscription that you choose when you signed up for the service. In some cases your payment date may change, for example if your Payment Method has not successfully settled, when you change your subscription plan or if your paid membership began on a day not contained in a given month.</p>\\n<p><strong><span class=\"underline\">Payment Methods.</span></strong> To use the Menuco service you must provide one or more Payment Methods. You authorize us to charge any Payment Method associated with your account in case your primary Payment Method is declined or no longer available to us for payment of your subscription fee. You remain responsible for any uncollected amounts. If a payment is not successfully settled, due to expiration, insufficient funds, or otherwise, and you do not cancel your account, we may suspend your access to the service until we have successfully charged a valid Payment Method. For some Payment Methods, the issuer may charge you certain fees, such as foreign transaction fees or other fees relating to the processing of your Payment Method. Local tax charges may vary depending on the Payment Method used. Check with your Payment Method service provider for details.</p>\\n<p><strong><span class=\"underline\">Updating your Payment Methods.</span></strong> You can update your Payment Methods by going to the &#8220;my-account&#8221; page. We may also update your Payment Methods using information provided by the payment service providers. Following any update, you authorize us to continue to charge the applicable Payment Method.</p>\\n<p><strong><span class=\"underline\">Cancellation.</span></strong> You can cancel your Menuco membership at any time, and you will continue to have access to the Menuco service through the end of your billing period. To cancel, go to the &#8220;my-account&#8221; page and follow the instructions for cancellation. If you cancel your membership, your account will automatically close at the end of your current billing period. To see when your account will close, click &#8220;Billing details&#8221; on the &#8220;my-account&#8221; page. If you signed up for Menuco using your account with a third party as a Payment Method and wish to cancel your Menuco membership, you may need to do so through such third party, for example by visiting your account with the applicable third party and turning off auto-renew, or unsubscribing from the Menuco service through that third party. Without prejudice to the right of termination for cause, Menuco may cancel your account by providing 30 days prior written notice. The cancellation will take effect at the end of your running billing period.</p>\\n<p><strong><span class=\"underline\">Changes to the Price and Service Plans.</span></strong>\\xa0We may at our reasonable discretion change the price of our subscription plans from time to time to reflect the effect of changes in the total costs associated with our service. Examples of costs elements that affect the price of our subscription plans include production and licensing costs, costs for the technical provision and distribution of our service, customer service and other costs of sales (e.g., billing and payment, marketing), general administration and other overhead costs (e.g., rent, interest and other financing costs, costs of personnel, service providers and services, IT systems, energy), as well as state-imposed fees, contributions, taxes and duties. Any price changes will apply no earlier than 30 days following notice to you. You can cancel your membership at any time during the notice period to avoid future charges.</p>\\n<h2>Menuco Service</h2>\\n<h2>Passwords and Account Access</h2>\\n<p>The member who created the Menuco account and whose Payment Method is charged (the &#8220;Account Owner&#8221;) is responsible for any activity that occurs through the Menuco account. To maintain control over the account and to prevent anyone from accessing the account (which would include information on viewing history for the account), the Account Owner should maintain control over the Menuco ready devices that are used to access the service and not reveal the password or details of the Payment Method associated with the account to anyone. You are responsible for updating and maintaining the accuracy of the information you provide to us relating to your account. We can terminate your account or place your account on hold in order to protect you, Menuco or our partners from identity theft or other fraudulent activity.</p>\\n<h2>Miscellaneous</h2>\\n<ul>\\n<li><strong><span class=\"underline\">Governing Law.</span> </strong>These Terms of Use shall be governed by and construed in accordance with the laws of the Estonia. These terms will not limit any consumer protection rights that you may be entitled to under the mandatory laws of your country of residence. Menuco will not participate in an alternative dispute procedure before a consumer arbitration board and does not have a legal obligation to do so.</li>\\n<li><strong><span class=\"underline\">Customer Support.</span></strong> To find more information about our service and its features or if you need assistance with your account, please visit the Menuco Help Center on our website. In certain instances, Customer Service may best be able to assist you by using a remote access support tool through which we have full access to your computer. If you do not want us to have this access, you should not consent to support through the remote access tool, and we will assist you through other means.</li>\\n<li><strong><span class=\"underline\">Survival.</span>\\xa0</strong>If any provision or provisions of these Terms of Use shall be held to be invalid, illegal, or unenforceable, the validity, legality and enforceability of the remaining provisions shall remain in full force and effect.</li>\\n<li><strong><span class=\"underline\">Electronic Communications.</span>\\xa0</strong>We will send you information relating to your account (e.g. payment authorizations, invoices, changes in password or Payment Method, confirmation messages, notices) in electronic form only, for example via emails to your email address provided during registration.</li>\\n</ul>\\n<h1>Limitation of Liability</h1>\\n<p>Notwithstanding any damages that You might incur, the entire liability of the Company and any of its suppliers under any provision of this Terms and Your exclusive remedy for all of the foregoing shall be limited to the amount actually paid by You through the Service or 100 USD if You haven&#8217;t purchased anything through the Service.</p>\\n<p>To the maximum extent permitted by applicable law, in no event shall the Company or its suppliers be liable for any special, incidental, indirect, or consequential damages whatsoever (including, but not limited to, damages for loss of profits, loss of data or other information, for business interruption, for personal injury, loss of privacy arising out of or in any way related to the use of or inability to use the Service, third-party software and/or third-party hardware used with the Service, or otherwise in connection with any provision of this Terms), even if the Company or any supplier has been advised of the possibility of such damages and even if the remedy fails of its essential purpose.</p>\\n<p>Some states do not allow the exclusion of implied warranties or limitation of liability for incidental or consequential damages, which means that some of the above limitations may not apply. In these states, each party&#8217;s liability will be limited to the greatest extent permitted by law.</p>\\n<h1>&#8220;AS IS&#8221; and &#8220;AS AVAILABLE&#8221; Disclaimer</h1>\\n<p>The Service is provided to You &#8220;AS IS&#8221; and &#8220;AS AVAILABLE&#8221; and with all faults and defects without warranty of any kind. To the maximum extent permitted under applicable law, the Company, on its own behalf and on behalf of its Affiliates and its and their respective licensors and service providers, expressly disclaims all warranties, whether express, implied, statutory or otherwise, with respect to the Service, including all implied warranties of merchantability, fitness for a particular purpose, title and non-infringement, and warranties that may arise out of course of dealing, course of performance, usage or trade practice. Without limitation to the foregoing, the Company provides no warranty or undertaking, and makes no representation of any kind that the Service will meet Your requirements, achieve any intended results, be compatible or work with any other software, applications, systems or services, operate without interruption, meet any performance or reliability standards or be error free or that any errors or defects can or will be corrected.</p>\\n<p>Without limiting the foregoing, neither the Company nor any of the company&#8217;s provider makes any representation or warranty of any kind, express or implied: (i) as to the operation or availability of the Service, or the information, content, and materials or products included thereon; (ii) that the Service will be uninterrupted or error-free; (iii) as to the accuracy, reliability, or currency of any information or content provided through the Service; or (iv) that the Service, its servers, the content, or e-mails sent from or on behalf of the Company are free of viruses, scripts, trojan horses, worms, malware, timebombs or other harmful components.</p>\\n<p>Some jurisdictions do not allow the exclusion of certain types of warranties or limitations on applicable statutory rights of a consumer, so some or all of the above exclusions and limitations may not apply to You. But in such a case the exclusions and limitations set forth in this section shall be applied to the greatest extent enforceable under applicable law.</p>\\n<h1>Severability and Waiver</h1>\\n<h2>Severability</h2>\\n<p>If any provision of these Terms is held to be unenforceable or invalid, such provision will be changed and interpreted to accomplish the objectives of such provision to the greatest extent possible under applicable law and the remaining provisions will continue in full force and effect.</p>\\n<h2>Waiver</h2>\\n<p>Except as provided herein, the failure to exercise a right or to require performance of an obligation under this Terms shall not effect a party&#8217;s ability to exercise such right or require such performance at any time thereafter nor shall be the waiver of a breach constitute a waiver of any subsequent breach.</p>\\n<h1>Translation Interpretation</h1>\\n<p>These Terms and Conditions may have been translated if We have made them available to You on our Service. You agree that the original English text shall prevail in the case of a dispute.</p>\\n<h1>Changes to These Terms and Conditions</h1>\\n<p>We reserve the right, at Our sole discretion, to modify or replace these Terms at any time. If a revision is material We will make reasonable efforts to provide at least 30 days&#8217; notice prior to any new terms taking effect. What constitutes a material change will be determined at Our sole discretion.</p>\\n<p>By continuing to access or use Our Service after those revisions become effective, You agree to be bound by the revised terms. If You do not agree to the new terms, in whole or in part, please stop using the website and the Service.</p>\\n<h1>Contact Us</h1>\\n<p>If you have any questions about these Terms and Conditions, You can contact us:</p>\\n<ul>\\n<li>By email:\\xa0info@menuco.co</li>\\n<li>By visiting this page on our website:\\xa0<a href=\"https://menuco.co/contact/\" target=\"_blank\" rel=\"external nofollow noopener\">https://menuco.co/contact/</a></li>\\n</ul>\\n\\n\\n\\t\\n\\n\\t\\t\\t\\t\\t\\t</div><!-- #lqd-contents-wrap -->\\n\\n\\t\\t\\t\\t\\t</main><!-- #lqd-site-content -->\\n\\n\\t\\t<div class=\"lqd-back-to-top\" data-back-to-top=\"true\">\\n\\n\\t\\t\\t<a href=\"#wrap\" data-localscroll=\"true\">\\n\\n\\t\\t\\t\\t<i class=\"lqd-icn-ess icon-ion-ios-arrow-up\"></i>\\n\\n\\t\\t\\t</a>\\n\\n\\t\\t</div><!-- /.lqd-back-to-top --><footer class=\"main-footer lqd-main-footer-default\">\\n\\n\\n\\n\\t<div class=\"container\">\\n\\n\\t\\t<div class=\"row\">\\n\\n\\n\\n\\t\\t\\t<div class=\"col-xs-12 col-md-6 mb-4 mb-md-0 text-center text-md-left\">\\n\\n\\n\\n\\t\\t\\t\\t<img src=\"https://menuco.co/wp-content/uploads/2021/07/Menuco_Logo-1-2-1-1.png\" alt=\"Menuco Ana\" />\\n\\n\\n\\n\\t\\t\\t</div>\\n\\n\\n\\n\\t\\t\\t<div class=\"col-xs-12 col-md-6 text-center text-md-right\">\\n\\n\\n\\n\\t\\t\\t\\t<p class=\"mb-0\">&copy; 2022 Hub Theme. All rights reserved.</p>\\n\\n\\t\\t\\t\\t\\n\\n\\t\\t\\t</div>\\n\\n\\n\\n\\t\\t</div>\\n\\n\\t</div>\\n\\n\\n\\n</footer>\\n\\n\\t</div><!-- .site-container -->\\n\\n\\n\\n\\t\\n\\n\\t<link rel=\\'stylesheet\\' id=\\'liquid-icons-css\\'  href=\\'https://menuco.co/wp-content/themes/hub/assets/vendors/liquid-icon/lqd-essentials/lqd-essentials.min.css\\' type=\\'text/css\\' media=\\'all\\' />\\n<link rel=\\'stylesheet\\' id=\\'jquery-ui-css\\'  href=\\'https://menuco.co/wp-content/themes/hub/assets/vendors/jquery-ui/jquery-ui.css\\' type=\\'text/css\\' media=\\'all\\' />\\n<link rel=\\'stylesheet\\' id=\\'fresco-css\\'  href=\\'https://menuco.co/wp-content/themes/hub/assets/vendors/fresco/css/fresco.css\\' type=\\'text/css\\' media=\\'all\\' />\\n<script type=\\'text/javascript\\' src=\\'https://menuco.co/wp-content/plugins/hub-core/shortcodes/header-woo-search/header-woo-search.js?ver=1.0.0\\' id=\\'ld-header-woo-search-js\\'></script>\\n<script type=\\'text/javascript\\' src=\\'https://menuco.co/wp-includes/js/dist/vendor/regenerator-runtime.min.js?ver=0.13.9\\' id=\\'regenerator-runtime-js\\'></script>\\n<script type=\\'text/javascript\\' src=\\'https://menuco.co/wp-includes/js/dist/vendor/wp-polyfill.min.js?ver=3.15.0\\' id=\\'wp-polyfill-js\\'></script>\\n<script type=\\'text/javascript\\' id=\\'contact-form-7-js-extra\\'>\\n/* <![CDATA[ */\\nvar wpcf7 = {\"api\":{\"root\":\"https:\\\\/\\\\/menuco.co\\\\/wp-json\\\\/\",\"namespace\":\"contact-form-7\\\\/v1\"}};\\n/* ]]> */\\n</script>\\n<script type=\\'text/javascript\\' src=\\'https://menuco.co/wp-content/plugins/contact-form-7/includes/js/index.js?ver=5.4.1\\' id=\\'contact-form-7-js\\'></script>\\n<script type=\\'text/javascript\\' src=\\'https://menuco.co/wp-content/themes/hub/assets/vendors/fastdom/fastdom.min.js\\' id=\\'fastdom-js\\'></script>\\n<script type=\\'text/javascript\\' src=\\'https://menuco.co/wp-content/themes/hub/assets/vendors/bootstrap/js/bootstrap.min.js\\' id=\\'bootstrap-js\\'></script>\\n<script type=\\'text/javascript\\' src=\\'https://menuco.co/wp-includes/js/imagesloaded.min.js?ver=4.1.4\\' id=\\'imagesloaded-js\\'></script>\\n<script type=\\'text/javascript\\' src=\\'https://menuco.co/wp-content/themes/hub/assets/vendors/jquery-ui/jquery-ui.min.js\\' id=\\'jquery-ui-js\\'></script>\\n<script type=\\'text/javascript\\' src=\\'https://menuco.co/wp-content/themes/hub/assets/vendors/fresco/js/fresco.js\\' id=\\'jquery-fresco-js\\'></script>\\n<script type=\\'text/javascript\\' src=\\'https://menuco.co/wp-content/themes/hub/assets/vendors/lity/lity.min.js\\' id=\\'lity-js\\'></script>\\n<script type=\\'text/javascript\\' src=\\'https://menuco.co/wp-content/themes/hub/assets/vendors/gsap/minified/gsap.min.js\\' id=\\'gsap-js\\'></script>\\n<script type=\\'text/javascript\\' src=\\'https://menuco.co/wp-content/themes/hub/assets/vendors/gsap/utils/CustomEase.min.js\\' id=\\'gsap-custom-ease-js\\'></script>\\n<script type=\\'text/javascript\\' src=\\'https://menuco.co/wp-content/themes/hub/assets/vendors/gsap/minified/ScrollTrigger.min.js\\' id=\\'scrollTrigger-js\\'></script>\\n<script type=\\'text/javascript\\' src=\\'https://menuco.co/wp-content/themes/hub/assets/vendors/fontfaceobserver.js\\' id=\\'jquery-fontfaceobserver-js\\'></script>\\n<script type=\\'text/javascript\\' src=\\'https://menuco.co/wp-content/themes/hub/assets/vendors/lazyload.min.js\\' id=\\'jquery-lazyload-js\\'></script>\\n<script type=\\'text/javascript\\' src=\\'https://menuco.co/wp-content/themes/hub/assets/vendors/tinycolor-min.js\\' id=\\'jquery-tinycolor-js\\'></script>\\n<script type=\\'text/javascript\\' src=\\'https://menuco.co/wp-content/themes/hub/assets/vendors/gsap/utils/SplitText.min.js\\' id=\\'splittext-js\\'></script>\\n<script type=\\'text/javascript\\' id=\\'liquid-theme-js-extra\\'>\\n/* <![CDATA[ */\\nvar liquidTheme = {\"uris\":{\"ajax\":\"\\\\/wp-admin\\\\/admin-ajax.php\"}};\\n/* ]]> */\\n</script>\\n<script type=\\'text/javascript\\' src=\\'https://menuco.co/wp-content/themes/hub/assets/js/theme.min.js\\' id=\\'liquid-theme-js\\'></script>\\n<script type=\\'text/javascript\\' src=\\'https://menuco.co/wp-content/plugins/liquid-gdpr/assets/js/liquid-gdpr.min.js?ver=1.0.0\\' id=\\'ld-gdpr-box-js-js\\'></script>\\n<template id=\"lqd-snickersbar\">\\n\\n\\t\\t\\t<div class=\"lqd-snickersbar d-flex flex-wrap lqd-snickersbar-in\" data-item-id>\\n\\n\\t\\t\\t\\t<div class=\"lqd-snickersbar-inner d-flex flex-wrap align-items-center\">\\n\\n\\t\\t\\t\\t\\t<div class=\"lqd-snickersbar-detail\">\\n\\n\\t\\t\\t\\t\\t\\t<p class=\"hidden lqd-snickersbar-addding-temp my-0\">Adding {{itemName}} to cart</p>\\n\\n\\t\\t\\t\\t\\t\\t<p class=\"hidden lqd-snickersbar-added-temp my-0\">Added {{itemName}} to cart</p>\\n\\n\\t\\t\\t\\t\\t\\t<p class=\"my-0 lqd-snickersbar-msg d-flex align-items-center my-0\"></p>\\n\\n\\t\\t\\t\\t\\t\\t<p class=\"my-0 lqd-snickersbar-msg-done d-flex align-items-center my-0\"></p>\\n\\n\\t\\t\\t\\t\\t</div>\\n\\n\\t\\t\\t\\t\\t<div class=\"lqd-snickersbar-ext ml-4\"></div>\\n\\n\\t\\t\\t\\t</div>\\n\\n\\t\\t\\t</div>\\n\\n\\t\\t</template><div class=\"lity\" role=\"dialog\" aria-label=\"Dialog Window (Press escape to close)\" tabindex=\"-1\" data-modal-type=\"default\">\\n\\n\\t\\t<div class=\"lity-wrap\" data-lity-close role=\"document\">\\n\\n\\t\\t\\t<div class=\"lity-loader\" aria-hidden=\"true\">Loading...</div>\\n\\n\\t\\t\\t<div class=\"lity-container\">\\n\\n\\t\\t\\t\\t<div class=\"lity-content\"></div>\\n\\n\\t\\t\\t</div>\\n\\n\\t\\t\\t<button class=\"lity-close\" type=\"button\" aria-label=\"Close (Press escape to close)\" data-lity-close>&times;</button>\\n\\n\\t\\t</div>\\n\\n\\t</div>\\n\\n</body>\\n\\n</html>'"
      ]
     },
     "execution_count": 111,
     "metadata": {},
     "output_type": "execute_result"
    }
   ],
   "source": [
    "text"
   ]
  },
  {
   "cell_type": "code",
   "execution_count": 113,
   "id": "6b98cef5",
   "metadata": {},
   "outputs": [],
   "source": [
    "soup = BeautifulSoup(text, 'html.parser')\n"
   ]
  },
  {
   "cell_type": "code",
   "execution_count": 14,
   "id": "98f22f56",
   "metadata": {},
   "outputs": [
    {
     "data": {
      "text/plain": [
       "'\\n\\n\\n\\n\\n\\n\\n\\n\\n\\n\\n\\n\\n\\n\\nHome Page - Menuco Ana\\n\\n\\n\\n\\n\\n\\n\\n\\n\\n\\n\\n\\n\\n\\n\\n\\n \\n\\n\\n\\n\\n\\n\\n\\n\\n\\n\\n\\n\\n\\n\\n\\n\\n\\n\\n\\n\\n\\n\\n\\n\\n\\n\\n\\n\\n\\n\\n\\n\\n\\n\\n\\n\\n\\n\\n\\n\\n \\n\\n\\n\\n\\n\\n\\n\\n\\nSkip links Skip to primary navigation Skip to content\\n\\n\\n\\n\\n\\n\\nExplore\\n\\n\\n\\n\\n\\n\\n\\n\\n\\nDrag\\n\\n\\n\\n\\n\\n\\n\\n\\n\\n\\n\\n\\n\\n\\n\\n\\n\\n\\n\\n\\n\\n\\n\\n\\n\\n\\n\\n \\n\\n\\nHome Page\\nPrice List\\nContact\\n \\n\\n\\n\\nLogin\\n\\n\\n\\n\\n\\nRegister\\n\\n\\n \\n\\n\\n\\nToggle navigation\\n\\n\\n\\n\\n\\n\\n\\n\\n\\n\\n\\n\\n\\n\\n\\nHome Page\\nPrice List\\nContact\\n\\n\\n\\n\\n\\n\\n\\n\\n\\n\\n\\n\\n\\n\\n\\n\\n\\n\\n\\n\\n\\n\\nMultilingual \\nOnline Menu \\n\\t\\t\\t\\t\\t\\t\\tThe Next-Gen QR code menu system,\\nScan and see the menu in your native language. \\n\\t\\t\\t\\t\\t\\t\\tLOG-IN \\n\\t\\t\\t\\t\\t\\t\\tSIGN UP \\n\\t\\t\\t\\t\\t\\t\\t\\n\\n\\n\\n \\n\\n\\n\\n\\n\\n\\n\\n Language barrier: no more!\\n  Forget the physical menus or traditional QR code apps, get ready for the future by Menuco…\\n\\n\\n\\nSmart language detection Your customers only scan the barcode.\\nMenuco detects the language they prefer and shows the menu in that language.\\n\\n\\n\\n\\n\\n\\n90+ Language Provide to your customers your menu in more than 90+ languages through Menuco.\\n\\n\\n\\n\\n\\n\\nPush to talk (speech translator) Aren`t your all customers speaking with you in the same language? Then let them speak in their native languages. Menuco makes communication easier.\\n\\n\\n\\n\\n\\n\\n\\n  Scan the barcode\\n\\n  See a sample menu\\n\\n\\n\\n\\n\\n\\n  Choose your plan!\\n\\n\\nSilver€15,90 /Month✓ 90+ Languages\\n✓ \\xa0Speech translation (2 Hours/Month)\\n✓ First menu registration support\\n✓ Menu revisions support\\n✓ Fast supportSign UpGold€25,90 /Month✓ 90+ Languages\\n✓\\xa0 Speech translation (15 Hours/Month)\\n✓ First menu registration support\\n✓ Menu revision support (2 Times/Year)\\n✓\\xa0Fast supportSign UpPlatinum€45,90 /Month✓ 90+ Languages\\n✓\\xa0 Speech translation (100 Hours/Month)\\n✓ First menu registration support\\n✓ Menu revision support (10 Times/Year)\\n✓\\xa0Fast supportSign Up\\n\\n\\n\\n\\n\\n\\n\\n  Simple but efficient!\\n  It`s easy to manage and use Menuco.\\n\\n\\n\\n\\n\\nSafe Payment Pay the subscription fees with STRIPE which is one of the biggest online payment gateways in the World, in safety.\\n\\n\\n\\n\\n\\n\\nIndependent If you have any software system in your restaurant, don`t worry you can keep using it. Menuco works completely independently. You can use Menuco for all your customers or only for foreign customers.\\n\\n\\n\\n\\n\\nSave your time We manage your menus, you can focus on your own essential job.\\n\\n\\n\\n\\n\\nFree cancellation Feel free, you can cancel your subscription anytime without extra charges. Just try Menuco\\n\\n\\n\\n\\n\\n\\n\\n\\n\\n  Increase conversion rate\\n  Organic Search Engine Optimisation\\n  We build and activate brands through cultural insight, strategic vision, and the power of emotion across every element of its expression. Our eCommerce design starts and ends with a best-in-class experience strategy that builds brands and drives transactions.\\n\\nLearn more\\n  \\n\\n\\n  Nasıl başlarım?\\n  Aşağıdaki adımları takip et\\n\\n\\n\\n\\n\\n\\n\\n\\n\\n\\n\\n\\n\\nPaketini seç ve restaurantını kaydet Üyelik işlemleri sadece birkaç dakika! paketini seç ve bilgilerini girip üyeliğini tamamla.\\n\\n\\n\\n\\n\\n\\n\\n\\n\\n\\n\\n\\n\\n\\nMenüyü yükle Standart ve Premıum paketlerini seçtiysen menünü destek ekibimize gönder, kısa sürede sistemi kullanıma hazır hale getirelim.\\n\\n\\n\\n\\n\\n\\n\\n\\n\\n\\n\\n\\n\\n\\nKullanmaya başla Eğer masalara yerleştirmek için QR kodlu menü kartlarına ihtiyacın varsa bizden destek alabilirsiniz.\\xa0\\n\\n\\n\\n\\n\\n  NELER VAR\\n\\n  \\n\\nOtomatik Dil Algılama Ceating brand identities, digital experiences, and print materials that communicate clearly.\\n\\n\\nExplore Hub\\n \\n\\n\\n\\n\\n\\n  \\n\\n70+ Dil Seçeneği We have an experienced team of production and inspection personnel to ensure quality.\\n\\n\\nExplore Hub\\n  \\n\\n\\n\\n\\n\\n  \\n\\nBas Konuş (Sesli Çeviri) Uncover, analyze, track, and report on SEO data. Our quality policy: strict to have best product.\\n\\n\\nExplore Hub\\n  \\n\\n\\n\\n\\n  See all projects\\n  Case Studies\\n\\n\\n\\n\\n\\n\\n\\n\\n\\n\\n\\n\\n\\n\\n\\n\\n  Grow your business\\n  What Our Customer Are Saying?\\n\\n\\n  We help our clients succeed by creating brand identities, digital experiences, and print materials that communicate clearly, achieve marketing goals, and look fantastic.Through a deep understanding of our audience’s makeup and motivations.\\n  Alex, Founder\\n  We help our clients succeed by creating brand identities, digital experiences, and print materials that communicate clearly, achieve marketing goals, and look fantastic.Through a deep understanding of our audience’s makeup and motivations.\\n  Alex, Founder\\n  We help our clients succeed by creating brand identities, digital experiences, and print materials that communicate clearly, achieve marketing goals, and look fantastic.Through a deep understanding of our audience’s makeup and motivations.\\n  Alex, Founder \\n\\n\\n\\n\\n\\n\\n\\n\\n\\n\\n\\n\\nMenuco TECH\\nAttilastr. 131\\n12105 Berlin, Germany\\nUSt-ID.: DE343188603\\n\\n\\n\\n\\nWhatsApp: +49 171 802 3675\\n\\n\\n\\n\\nE-Mail: info@menuco.co\\n\\n\\n\\n\\n Privacy Policy Terms of Use \\n\\n  Menuco\\n  © All rights reserved to Menuco, 2021\\n\\n\\n\\n\\n\\n\\n\\n\\n\\n\\n\\n\\n\\n\\n\\n\\n\\n\\n\\n\\n\\n\\n\\n\\n\\n\\n\\n\\n\\n\\n\\n\\n\\n\\n\\nLoading...\\n\\n\\n\\n×\\n\\n\\n\\n'"
      ]
     },
     "execution_count": 14,
     "metadata": {},
     "output_type": "execute_result"
    }
   ],
   "source": [
    "text3 = soup.get_text()\n",
    "text3"
   ]
  },
  {
   "cell_type": "code",
   "execution_count": 15,
   "id": "2001f0b4",
   "metadata": {},
   "outputs": [
    {
     "data": {
      "text/plain": [
       "'Home Page  Menuco Ana  Skip links Skip to primary navigation Skip to contentExploreDrag Home PagePrice ListContact LoginRegister Toggle navigationHome PagePrice ListContactMultilingual Online Menu \\t\\t\\t\\t\\t\\t\\tThe NextGen QR code menu systemScan and see the menu in your native language \\t\\t\\t\\t\\t\\t\\tLOGIN \\t\\t\\t\\t\\t\\t\\tSIGN UP \\t\\t\\t\\t\\t\\t\\t  Language barrier no more  Forget the physical menus or traditional QR code apps get ready for the future by MenucoSmart language detection Your customers only scan the barcodeMenuco detects the language they prefer and shows the menu in that language90 Language Provide to your customers your menu in more than 90 languages through MenucoPush to talk speech translator Arent your all customers speaking with you in the same language Then let them speak in their native languages Menuco makes communication easier  Scan the barcode  See a sample menu  Choose your planSilver1590 Month 90 Languages Speech translation 2 HoursMonth First menu registration support Menu revisions support Fast supportSign UpGold2590 Month 90 Languages Speech translation 15 HoursMonth First menu registration support Menu revision support 2 TimesYearFast supportSign UpPlatinum4590 Month 90 Languages Speech translation 100 HoursMonth First menu registration support Menu revision support 10 TimesYearFast supportSign Up  Simple but efficient  Its easy to manage and use MenucoSafe Payment Pay the subscription fees with STRIPE which is one of the biggest online payment gateways in the World in safetyIndependent If you have any software system in your restaurant dont worry you can keep using it Menuco works completely independently You can use Menuco for all your customers or only for foreign customersSave your time We manage your menus you can focus on your own essential jobFree cancellation Feel free you can cancel your subscription anytime without extra charges Just try Menuco  Increase conversion rate  Organic Search Engine Optimisation  We build and activate brands through cultural insight strategic vision and the power of emotion across every element of its expression Our eCommerce design starts and ends with a bestinclass experience strategy that builds brands and drives transactionsLearn more    Nasl balarm  Aadaki admlar takip etPaketini se ve restaurantn kaydet yelik ilemleri sadece birka dakika paketini se ve bilgilerini girip yeliini tamamlaMeny ykle Standart ve Premum paketlerini setiysen menn destek ekibimize gnder ksa srede sistemi kullanma hazr hale getirelimKullanmaya bala Eer masalara yerletirmek iin QR kodlu men kartlarna ihtiyacn varsa bizden destek alabilirsiniz  NELER VAR  Otomatik Dil Alglama Ceating brand identities digital experiences and print materials that communicate clearlyExplore Hub   70 Dil Seenei We have an experienced team of production and inspection personnel to ensure qualityExplore Hub    Bas Konu Sesli eviri Uncover analyze track and report on SEO data Our quality policy strict to have best productExplore Hub    See all projects  Case Studies  Grow your business  What Our Customer Are Saying  We help our clients succeed by creating brand identities digital experiences and print materials that communicate clearly achieve marketing goals and look fantasticThrough a deep understanding of our audiences makeup and motivations  Alex Founder  We help our clients succeed by creating brand identities digital experiences and print materials that communicate clearly achieve marketing goals and look fantasticThrough a deep understanding of our audiences makeup and motivations  Alex Founder  We help our clients succeed by creating brand identities digital experiences and print materials that communicate clearly achieve marketing goals and look fantasticThrough a deep understanding of our audiences makeup and motivations  Alex Founder Menuco TECHAttilastr 13112105 Berlin GermanyUStID DE343188603WhatsApp 49 171 802 3675EMail infomenucoco Privacy Policy Terms of Use   Menuco   All rights reserved to Menuco 2021Loading'"
      ]
     },
     "execution_count": 15,
     "metadata": {},
     "output_type": "execute_result"
    }
   ],
   "source": [
    "text4 = re.sub(r\"(@\\[A-Za-z0-9]+)|([^0-9A-Za-z \\t])|(\\w+:\\/\\/\\S+)|^rt|http.+?\", \"\", text3)\n",
    "text4"
   ]
  },
  {
   "cell_type": "code",
   "execution_count": 114,
   "id": "c318cc69",
   "metadata": {},
   "outputs": [
    {
     "name": "stdout",
     "output_type": "stream",
     "text": [
      "We are here to answer any question you may have.\n",
      "Last updated: August 12, 2021\n",
      "Please read these terms and conditions carefully before using Our Service.\n",
      "The words of which the initial letter is capitalized have meanings defined under the following conditions. The following definitions shall have the same meaning regardless of whether they appear in singular or in plural.\n",
      "For the purposes of these Terms and Conditions:\n",
      "These are the Terms and Conditions governing the use of this Service and the agreement that operates between You and the Company. These Terms and Conditions set out the rights and obligations of all users regarding the use of the Service.\n",
      "Your access to and use of the Service is conditioned on Your acceptance of and compliance with these Terms and Conditions. These Terms and Conditions apply to all visitors, users and others who access or use the Service.\n",
      "By accessing or using the Service You agree to be bound by these Terms and Conditions. If You disagree with any part of these Terms and Conditions then You may not access the Service.\n",
      "You represent that you are over the age of 18. The Company does not permit those under 18 to use the Service.\n",
      "Your access to and use of the Service is also conditioned on Your acceptance of and compliance with the Privacy Policy of the Company. Our Privacy Policy describes Our policies and procedures on the collection, use and disclosure of Your personal information when You use the Application or the Website and tells You about Your privacy rights and how the law protects You. Please read Our Privacy Policy carefully before using Our Service.\n",
      "Our Service may contain links to third-party web sites or services that are not owned or controlled by the Company.\n",
      "The Company has no control over, and assumes no responsibility for, the content, privacy policies, or practices of any third party web sites or services. You further acknowledge and agree that the Company shall not be responsible or liable, directly or indirectly, for any damage or loss caused or alleged to be caused by or in connection with the use of or reliance on any such content, goods or services available on or through any such web sites or services.\n",
      "We strongly advise You to read the terms and conditions and privacy policies of any third-party web sites or services that You visit.\n",
      "Your Menuco membership will continue until terminated. To use the Menuco service you provide us with one or more Payment Methods. “Payment Method” means a current, valid, accepted method of payment, as may be updated from time to time, and which may include payment through your account with a third party. Unless you cancel your membership before your billing date, you authorize us to charge the membership fee for the next billing cycle to your Payment Method (see “Cancellation” below).\n",
      "We may offer a number of membership plans, including memberships offered by third parties in conjunction with the provision of their own products and services. Some membership plans may have differing conditions and limitations, which will be disclosed at your sign-up or in other communications made available to you. You can find specific details regarding your Menuco membership by visiting our website.\n",
      "We may from time to time offer special promotional offers, plans or memberships (“Offers”). Offer eligibility is determined by Menuco at its sole discretion and we reserve the right to revoke an Offer and put your account on hold in the event that we determine you are not eligible.\n",
      "Billing Cycle. The membership fee for the Menuco service will be charged to your Payment Method on the payment date specified on the “my-account” page. The length of your billing cycle will depend on the type of subscription that you choose when you signed up for the service. In some cases your payment date may change, for example if your Payment Method has not successfully settled, when you change your subscription plan or if your paid membership began on a day not contained in a given month.\n",
      "Payment Methods. To use the Menuco service you must provide one or more Payment Methods. You authorize us to charge any Payment Method associated with your account in case your primary Payment Method is declined or no longer available to us for payment of your subscription fee. You remain responsible for any uncollected amounts. If a payment is not successfully settled, due to expiration, insufficient funds, or otherwise, and you do not cancel your account, we may suspend your access to the service until we have successfully charged a valid Payment Method. For some Payment Methods, the issuer may charge you certain fees, such as foreign transaction fees or other fees relating to the processing of your Payment Method. Local tax charges may vary depending on the Payment Method used. Check with your Payment Method service provider for details.\n",
      "Updating your Payment Methods. You can update your Payment Methods by going to the “my-account” page. We may also update your Payment Methods using information provided by the payment service providers. Following any update, you authorize us to continue to charge the applicable Payment Method.\n",
      "Cancellation. You can cancel your Menuco membership at any time, and you will continue to have access to the Menuco service through the end of your billing period. To cancel, go to the “my-account” page and follow the instructions for cancellation. If you cancel your membership, your account will automatically close at the end of your current billing period. To see when your account will close, click “Billing details” on the “my-account” page. If you signed up for Menuco using your account with a third party as a Payment Method and wish to cancel your Menuco membership, you may need to do so through such third party, for example by visiting your account with the applicable third party and turning off auto-renew, or unsubscribing from the Menuco service through that third party. Without prejudice to the right of termination for cause, Menuco may cancel your account by providing 30 days prior written notice. The cancellation will take effect at the end of your running billing period.\n",
      "Changes to the Price and Service Plans. We may at our reasonable discretion change the price of our subscription plans from time to time to reflect the effect of changes in the total costs associated with our service. Examples of costs elements that affect the price of our subscription plans include production and licensing costs, costs for the technical provision and distribution of our service, customer service and other costs of sales (e.g., billing and payment, marketing), general administration and other overhead costs (e.g., rent, interest and other financing costs, costs of personnel, service providers and services, IT systems, energy), as well as state-imposed fees, contributions, taxes and duties. Any price changes will apply no earlier than 30 days following notice to you. You can cancel your membership at any time during the notice period to avoid future charges.\n",
      "The member who created the Menuco account and whose Payment Method is charged (the “Account Owner”) is responsible for any activity that occurs through the Menuco account. To maintain control over the account and to prevent anyone from accessing the account (which would include information on viewing history for the account), the Account Owner should maintain control over the Menuco ready devices that are used to access the service and not reveal the password or details of the Payment Method associated with the account to anyone. You are responsible for updating and maintaining the accuracy of the information you provide to us relating to your account. We can terminate your account or place your account on hold in order to protect you, Menuco or our partners from identity theft or other fraudulent activity.\n",
      "Notwithstanding any damages that You might incur, the entire liability of the Company and any of its suppliers under any provision of this Terms and Your exclusive remedy for all of the foregoing shall be limited to the amount actually paid by You through the Service or 100 USD if You haven’t purchased anything through the Service.\n",
      "To the maximum extent permitted by applicable law, in no event shall the Company or its suppliers be liable for any special, incidental, indirect, or consequential damages whatsoever (including, but not limited to, damages for loss of profits, loss of data or other information, for business interruption, for personal injury, loss of privacy arising out of or in any way related to the use of or inability to use the Service, third-party software and/or third-party hardware used with the Service, or otherwise in connection with any provision of this Terms), even if the Company or any supplier has been advised of the possibility of such damages and even if the remedy fails of its essential purpose.\n",
      "Some states do not allow the exclusion of implied warranties or limitation of liability for incidental or consequential damages, which means that some of the above limitations may not apply. In these states, each party’s liability will be limited to the greatest extent permitted by law.\n",
      "The Service is provided to You “AS IS” and “AS AVAILABLE” and with all faults and defects without warranty of any kind. To the maximum extent permitted under applicable law, the Company, on its own behalf and on behalf of its Affiliates and its and their respective licensors and service providers, expressly disclaims all warranties, whether express, implied, statutory or otherwise, with respect to the Service, including all implied warranties of merchantability, fitness for a particular purpose, title and non-infringement, and warranties that may arise out of course of dealing, course of performance, usage or trade practice. Without limitation to the foregoing, the Company provides no warranty or undertaking, and makes no representation of any kind that the Service will meet Your requirements, achieve any intended results, be compatible or work with any other software, applications, systems or services, operate without interruption, meet any performance or reliability standards or be error free or that any errors or defects can or will be corrected.\n",
      "Without limiting the foregoing, neither the Company nor any of the company’s provider makes any representation or warranty of any kind, express or implied: (i) as to the operation or availability of the Service, or the information, content, and materials or products included thereon; (ii) that the Service will be uninterrupted or error-free; (iii) as to the accuracy, reliability, or currency of any information or content provided through the Service; or (iv) that the Service, its servers, the content, or e-mails sent from or on behalf of the Company are free of viruses, scripts, trojan horses, worms, malware, timebombs or other harmful components.\n",
      "Some jurisdictions do not allow the exclusion of certain types of warranties or limitations on applicable statutory rights of a consumer, so some or all of the above exclusions and limitations may not apply to You. But in such a case the exclusions and limitations set forth in this section shall be applied to the greatest extent enforceable under applicable law.\n",
      "If any provision of these Terms is held to be unenforceable or invalid, such provision will be changed and interpreted to accomplish the objectives of such provision to the greatest extent possible under applicable law and the remaining provisions will continue in full force and effect.\n",
      "Except as provided herein, the failure to exercise a right or to require performance of an obligation under this Terms shall not effect a party’s ability to exercise such right or require such performance at any time thereafter nor shall be the waiver of a breach constitute a waiver of any subsequent breach.\n",
      "These Terms and Conditions may have been translated if We have made them available to You on our Service. You agree that the original English text shall prevail in the case of a dispute.\n",
      "We reserve the right, at Our sole discretion, to modify or replace these Terms at any time. If a revision is material We will make reasonable efforts to provide at least 30 days’ notice prior to any new terms taking effect. What constitutes a material change will be determined at Our sole discretion.\n",
      "By continuing to access or use Our Service after those revisions become effective, You agree to be bound by the revised terms. If You do not agree to the new terms, in whole or in part, please stop using the website and the Service.\n",
      "If you have any questions about these Terms and Conditions, You can contact us:\n",
      "© 2022 Hub Theme. All rights reserved.\n",
      "\n",
      "\n",
      "\n",
      "\n"
     ]
    }
   ],
   "source": [
    "for para in soup.find_all(\"p\"):\n",
    "    print(para.get_text())"
   ]
  },
  {
   "cell_type": "code",
   "execution_count": null,
   "id": "27cad674",
   "metadata": {},
   "outputs": [],
   "source": [
    "def my_lyrics(songs):\n",
    "    lyric_list=[]\n",
    "    for song in songs:\n",
    "        song_soup=BeautifulSoup(song, \"html.parser\")\n",
    "        lyric=song_soup.find('pre')\n",
    "        lyric=lyric.get_text()\n",
    "        lyric=str(lyric).replace(\"\\\\n\",\" \")\n",
    "        lyric=str(lyric).replace(\"\\n\",\"\")\n",
    "        lyric=str(lyric).lower()\n",
    "        lyric_list.append(lyric)\n",
    "    return lyric_list"
   ]
  },
  {
   "cell_type": "code",
   "execution_count": null,
   "id": "6a9f3e2e",
   "metadata": {},
   "outputs": [],
   "source": []
  },
  {
   "cell_type": "code",
   "execution_count": null,
   "id": "53dfd7e2",
   "metadata": {},
   "outputs": [],
   "source": []
  },
  {
   "cell_type": "code",
   "execution_count": null,
   "id": "fbcfc52d",
   "metadata": {},
   "outputs": [],
   "source": []
  },
  {
   "cell_type": "code",
   "execution_count": null,
   "id": "35c68935",
   "metadata": {},
   "outputs": [],
   "source": []
  },
  {
   "cell_type": "code",
   "execution_count": null,
   "id": "bbe56689",
   "metadata": {},
   "outputs": [],
   "source": [
    "url_list=[]\n",
    "html_page = urllib.request.urlopen(\"http://www.menuco.co\")\n",
    "soup = BeautifulSoup(html_page, \"html.parser\")\n",
    "for link in soup.findAll('a'):\n",
    "    if link not in url_list:\n",
    "        url_list.append(link.get('href'))\n",
    "    else:\n",
    "        pass\n",
    "    #print(link.get('href'))"
   ]
  },
  {
   "cell_type": "code",
   "execution_count": 135,
   "id": "24322a9c",
   "metadata": {},
   "outputs": [
    {
     "ename": "AttributeError",
     "evalue": "'NoneType' object has no attribute 'contains'",
     "output_type": "error",
     "traceback": [
      "\u001b[1;31m---------------------------------------------------------------------------\u001b[0m",
      "\u001b[1;31mAttributeError\u001b[0m                            Traceback (most recent call last)",
      "\u001b[1;32m~\\AppData\\Local\\Temp/ipykernel_26348/3474939329.py\u001b[0m in \u001b[0;36m<module>\u001b[1;34m\u001b[0m\n\u001b[0;32m      7\u001b[0m     \u001b[1;32mreturn\u001b[0m \u001b[0murl_list\u001b[0m\u001b[1;33m\u001b[0m\u001b[1;33m\u001b[0m\u001b[0m\n\u001b[0;32m      8\u001b[0m \u001b[1;33m\u001b[0m\u001b[0m\n\u001b[1;32m----> 9\u001b[1;33m \u001b[0mlinkdata\u001b[0m \u001b[1;33m=\u001b[0m \u001b[0mgetlink\u001b[0m\u001b[1;33m(\u001b[0m\u001b[1;34m\"https://www.menuco.co\"\u001b[0m\u001b[1;33m)\u001b[0m\u001b[1;33m\u001b[0m\u001b[1;33m\u001b[0m\u001b[0m\n\u001b[0m",
      "\u001b[1;32m~\\AppData\\Local\\Temp/ipykernel_26348/3474939329.py\u001b[0m in \u001b[0;36mgetlink\u001b[1;34m(url)\u001b[0m\n\u001b[0;32m      2\u001b[0m     \u001b[0murl_list\u001b[0m\u001b[1;33m=\u001b[0m\u001b[1;33m[\u001b[0m\u001b[1;33m]\u001b[0m\u001b[1;33m\u001b[0m\u001b[1;33m\u001b[0m\u001b[0m\n\u001b[0;32m      3\u001b[0m     \u001b[1;32mfor\u001b[0m \u001b[0mlink\u001b[0m \u001b[1;32min\u001b[0m \u001b[0msoup\u001b[0m\u001b[1;33m.\u001b[0m\u001b[0mfindAll\u001b[0m\u001b[1;33m(\u001b[0m\u001b[1;34m'a'\u001b[0m\u001b[1;33m)\u001b[0m\u001b[1;33m:\u001b[0m\u001b[1;33m\u001b[0m\u001b[1;33m\u001b[0m\u001b[0m\n\u001b[1;32m----> 4\u001b[1;33m         \u001b[0ma\u001b[0m\u001b[1;33m=\u001b[0m\u001b[0mlink\u001b[0m\u001b[1;33m.\u001b[0m\u001b[0mstr\u001b[0m\u001b[1;33m.\u001b[0m\u001b[0mcontains\u001b[0m\u001b[1;33m(\u001b[0m\u001b[1;34m\"//menuco.co/\"\u001b[0m\u001b[1;33m)\u001b[0m\u001b[1;33m\u001b[0m\u001b[1;33m\u001b[0m\u001b[0m\n\u001b[0m\u001b[0;32m      5\u001b[0m         \u001b[0murl_list\u001b[0m\u001b[1;33m.\u001b[0m\u001b[0mappend\u001b[0m\u001b[1;33m(\u001b[0m\u001b[0mlink\u001b[0m\u001b[1;33m.\u001b[0m\u001b[0mget\u001b[0m\u001b[1;33m(\u001b[0m\u001b[1;34m'href'\u001b[0m\u001b[1;33m)\u001b[0m\u001b[1;33m)\u001b[0m\u001b[1;33m\u001b[0m\u001b[1;33m\u001b[0m\u001b[0m\n\u001b[0;32m      6\u001b[0m     \u001b[0mr\u001b[0m \u001b[1;33m=\u001b[0m \u001b[0mrequests\u001b[0m\u001b[1;33m.\u001b[0m\u001b[0mget\u001b[0m\u001b[1;33m(\u001b[0m\u001b[0murl\u001b[0m\u001b[1;33m)\u001b[0m\u001b[1;33m\u001b[0m\u001b[1;33m\u001b[0m\u001b[0m\n",
      "\u001b[1;31mAttributeError\u001b[0m: 'NoneType' object has no attribute 'contains'"
     ]
    }
   ],
   "source": [
    "def getlink(url): \n",
    "    url_list=[]\n",
    "    for link in soup.findAll('a'):\n",
    "        a=link.str.contains(\"//menuco.co/\")\n",
    "        url_list.append(link.get('href'))\n",
    "    r = requests.get(url) \n",
    "    return url_list\n",
    "  \n",
    "linkdata = getlink(\"https://www.menuco.co\") "
   ]
  },
  {
   "cell_type": "code",
   "execution_count": 126,
   "id": "7a0f6b4d",
   "metadata": {},
   "outputs": [],
   "source": [
    "def getlink(url): \n",
    "    url_list=[]\n",
    "    for link in soup.findAll('a'):\n",
    "        link.str.contains(\"//menuco.co/\")\n",
    "        url_list.append(link.get('href'))\n",
    "        if link not in url_list:\n",
    "            url_list.append(link.get('href'))\n",
    "        else:\n",
    "            pass\n",
    "    r = requests.get(url) \n",
    "    return url_list\n",
    "  \n",
    "linkdata = getlink(\"https://www.menuco.co\") "
   ]
  },
  {
   "cell_type": "code",
   "execution_count": 127,
   "id": "10d63555",
   "metadata": {},
   "outputs": [
    {
     "data": {
      "text/plain": [
       "['#primary',\n",
       " '#content',\n",
       " 'https://menuco.co/',\n",
       " 'https://menuco.co/',\n",
       " 'https://menuco.co/subscription-plan',\n",
       " 'https://menuco.co/contact',\n",
       " 'https://menuco.co/login/',\n",
       " 'https://menuco.co/register/',\n",
       " 'https://menuco.co/',\n",
       " 'https://menuco.co/',\n",
       " 'https://menuco.co/subscription-plan',\n",
       " 'https://menuco.co/contact',\n",
       " 'https://menuco.co/login/',\n",
       " 'https://menuco.co/register',\n",
       " 'https://www.youtube.com/watch?v=KEc3aGjN228',\n",
       " '#',\n",
       " '#',\n",
       " '#',\n",
       " '#wrap',\n",
       " 'https://menuco.co/privacy-policy/',\n",
       " 'https://menuco.co/member-tos-page']"
      ]
     },
     "execution_count": 127,
     "metadata": {},
     "output_type": "execute_result"
    }
   ],
   "source": [
    "linkdata"
   ]
  },
  {
   "cell_type": "code",
   "execution_count": null,
   "id": "8492169e",
   "metadata": {},
   "outputs": [],
   "source": [
    "df = pd.DataFrame(url_list, columns = ['link'])"
   ]
  },
  {
   "cell_type": "code",
   "execution_count": null,
   "id": "c7ebae8a",
   "metadata": {},
   "outputs": [],
   "source": [
    "df2=df[df['link'].str.contains(\"//menuco.co/\")]"
   ]
  },
  {
   "cell_type": "code",
   "execution_count": null,
   "id": "28531c0e",
   "metadata": {},
   "outputs": [],
   "source": [
    "df3=df2.link.unique()"
   ]
  },
  {
   "cell_type": "code",
   "execution_count": 133,
   "id": "606ce2ab",
   "metadata": {},
   "outputs": [
    {
     "ename": "AttributeError",
     "evalue": "'str' object has no attribute 'contains'",
     "output_type": "error",
     "traceback": [
      "\u001b[1;31m---------------------------------------------------------------------------\u001b[0m",
      "\u001b[1;31mAttributeError\u001b[0m                            Traceback (most recent call last)",
      "\u001b[1;32m~\\AppData\\Local\\Temp/ipykernel_26348/583135673.py\u001b[0m in \u001b[0;36m<module>\u001b[1;34m\u001b[0m\n\u001b[1;32m----> 1\u001b[1;33m \u001b[0mstr\u001b[0m\u001b[1;33m(\u001b[0m\u001b[0mlinkdata\u001b[0m\u001b[1;33m)\u001b[0m\u001b[1;33m.\u001b[0m\u001b[0mcontains\u001b[0m\u001b[1;33m(\u001b[0m\u001b[1;34m\"//menuco.co/\"\u001b[0m\u001b[1;33m)\u001b[0m\u001b[1;33m\u001b[0m\u001b[1;33m\u001b[0m\u001b[0m\n\u001b[0m",
      "\u001b[1;31mAttributeError\u001b[0m: 'str' object has no attribute 'contains'"
     ]
    }
   ],
   "source": [
    "str(linkdata).contains(\"//menuco.co/\")"
   ]
  },
  {
   "cell_type": "code",
   "execution_count": null,
   "id": "693b040e",
   "metadata": {},
   "outputs": [],
   "source": []
  },
  {
   "cell_type": "code",
   "execution_count": null,
   "id": "e269409a",
   "metadata": {},
   "outputs": [],
   "source": []
  },
  {
   "cell_type": "code",
   "execution_count": null,
   "id": "d6623087",
   "metadata": {},
   "outputs": [],
   "source": []
  },
  {
   "cell_type": "code",
   "execution_count": null,
   "id": "a74d79cd",
   "metadata": {},
   "outputs": [],
   "source": []
  },
  {
   "cell_type": "code",
   "execution_count": null,
   "id": "9feb3958",
   "metadata": {},
   "outputs": [],
   "source": []
  },
  {
   "cell_type": "code",
   "execution_count": null,
   "id": "69282f86",
   "metadata": {},
   "outputs": [],
   "source": []
  },
  {
   "cell_type": "code",
   "execution_count": null,
   "id": "6093586a",
   "metadata": {},
   "outputs": [],
   "source": []
  },
  {
   "cell_type": "code",
   "execution_count": 119,
   "id": "600a4988",
   "metadata": {},
   "outputs": [],
   "source": [
    "def getdata(url): \n",
    "    r = requests.get(url) \n",
    "    return r.text \n",
    "  \n",
    "htmldata = getdata(\"https://www.menuco.co\") \n"
   ]
  },
  {
   "cell_type": "code",
   "execution_count": null,
   "id": "d3cd0c3e",
   "metadata": {},
   "outputs": [],
   "source": [
    "soup = BeautifulSoup(htmldata, 'html.parser') \n",
    "data = '' \n",
    "for data in soup.find_all(\"p\"): \n",
    "    print(data.get_text()) "
   ]
  },
  {
   "cell_type": "code",
   "execution_count": null,
   "id": "fd0e4648",
   "metadata": {},
   "outputs": [],
   "source": []
  },
  {
   "cell_type": "code",
   "execution_count": null,
   "id": "d175873a",
   "metadata": {},
   "outputs": [],
   "source": []
  },
  {
   "cell_type": "code",
   "execution_count": null,
   "id": "60d474d0",
   "metadata": {},
   "outputs": [],
   "source": []
  },
  {
   "cell_type": "code",
   "execution_count": null,
   "id": "32a96689",
   "metadata": {},
   "outputs": [],
   "source": []
  },
  {
   "cell_type": "code",
   "execution_count": null,
   "id": "291b7fe5",
   "metadata": {},
   "outputs": [],
   "source": []
  },
  {
   "cell_type": "code",
   "execution_count": null,
   "id": "1ada7999",
   "metadata": {},
   "outputs": [],
   "source": []
  },
  {
   "cell_type": "code",
   "execution_count": null,
   "id": "ce03be07",
   "metadata": {},
   "outputs": [],
   "source": []
  },
  {
   "cell_type": "code",
   "execution_count": null,
   "id": "27d8027f",
   "metadata": {},
   "outputs": [],
   "source": []
  },
  {
   "cell_type": "code",
   "execution_count": null,
   "id": "33ae4d47",
   "metadata": {},
   "outputs": [],
   "source": []
  },
  {
   "cell_type": "code",
   "execution_count": null,
   "id": "860abcb5",
   "metadata": {},
   "outputs": [],
   "source": []
  },
  {
   "cell_type": "code",
   "execution_count": null,
   "id": "829622d8",
   "metadata": {},
   "outputs": [],
   "source": []
  },
  {
   "cell_type": "code",
   "execution_count": null,
   "id": "f25484ff",
   "metadata": {},
   "outputs": [],
   "source": []
  },
  {
   "cell_type": "code",
   "execution_count": null,
   "id": "885dfd0e",
   "metadata": {},
   "outputs": [],
   "source": []
  },
  {
   "cell_type": "code",
   "execution_count": null,
   "id": "9d604be4",
   "metadata": {},
   "outputs": [],
   "source": []
  },
  {
   "cell_type": "code",
   "execution_count": null,
   "id": "6f96f003",
   "metadata": {},
   "outputs": [],
   "source": []
  },
  {
   "cell_type": "code",
   "execution_count": null,
   "id": "dfcf10b0",
   "metadata": {},
   "outputs": [],
   "source": []
  },
  {
   "cell_type": "code",
   "execution_count": null,
   "id": "28a8e6e7",
   "metadata": {},
   "outputs": [],
   "source": []
  },
  {
   "cell_type": "code",
   "execution_count": null,
   "id": "f7d11298",
   "metadata": {},
   "outputs": [],
   "source": []
  },
  {
   "cell_type": "code",
   "execution_count": null,
   "id": "d45aff6e",
   "metadata": {},
   "outputs": [],
   "source": []
  },
  {
   "cell_type": "code",
   "execution_count": null,
   "id": "4dfaa559",
   "metadata": {},
   "outputs": [],
   "source": []
  },
  {
   "cell_type": "code",
   "execution_count": null,
   "id": "c745c65a",
   "metadata": {},
   "outputs": [],
   "source": []
  },
  {
   "cell_type": "code",
   "execution_count": null,
   "id": "c87e24e2",
   "metadata": {},
   "outputs": [],
   "source": []
  },
  {
   "cell_type": "code",
   "execution_count": null,
   "id": "b53c695e",
   "metadata": {},
   "outputs": [],
   "source": []
  },
  {
   "cell_type": "code",
   "execution_count": null,
   "id": "0d44d6ee",
   "metadata": {},
   "outputs": [],
   "source": []
  },
  {
   "cell_type": "code",
   "execution_count": null,
   "id": "ae8e0113",
   "metadata": {},
   "outputs": [],
   "source": [
    "#dirs=[\"adele/\", \"beatles/\"]\n",
    "texts=[]\n",
    "for i in all_links:\n",
    "    files=os.listdir(i)\n",
    "    #print(i)\n",
    "    for file in files:\n",
    "        with open (i+file, 'r') as f:\n",
    "            text=f.read()\n",
    "            texts.append(text)"
   ]
  },
  {
   "cell_type": "code",
   "execution_count": null,
   "id": "1951ff30",
   "metadata": {},
   "outputs": [],
   "source": [
    "dirs=[\"adele/\", \"beatles/\"]\n",
    "texts=[]\n",
    "for i in dirs:\n",
    "    files=os.listdir(i)\n",
    "    #print(i)\n",
    "    for file in files:\n",
    "        with open (i+file, 'r') as f:\n",
    "            text=f.read()\n",
    "            texts.append(text)"
   ]
  },
  {
   "cell_type": "code",
   "execution_count": 53,
   "id": "aba497bd",
   "metadata": {},
   "outputs": [],
   "source": [
    "\n"
   ]
  },
  {
   "cell_type": "code",
   "execution_count": 57,
   "id": "05d87151",
   "metadata": {},
   "outputs": [
    {
     "name": "stdout",
     "output_type": "stream",
     "text": [
      "#primary\n",
      "#content\n",
      "https://menuco.co/\n",
      "https://menuco.co/\n",
      "https://menuco.co/subscription-plan\n",
      "https://menuco.co/contact\n",
      "https://menuco.co/login/\n",
      "https://menuco.co/register/\n",
      "https://menuco.co/\n",
      "https://menuco.co/\n",
      "https://menuco.co/subscription-plan\n",
      "https://menuco.co/contact\n",
      "https://menuco.co/login/\n",
      "https://menuco.co/register\n",
      "https://www.youtube.com/watch?v=KEc3aGjN228\n",
      "#\n",
      "#\n",
      "#\n",
      "#wrap\n",
      "https://menuco.co/privacy-policy/\n",
      "https://menuco.co/member-tos-page\n"
     ]
    }
   ],
   "source": [
    "html_page = urllib.request.urlopen(\"http://www.menuco.co\")\n",
    "soup = BeautifulSoup(html_page, \"html.parser\")\n",
    "for link in soup.findAll('a'):\n",
    "    print(link.get('href'))"
   ]
  },
  {
   "cell_type": "code",
   "execution_count": 61,
   "id": "21238ad8",
   "metadata": {},
   "outputs": [],
   "source": [
    "lyric_list=[]\n",
    "html_page = urllib.request.urlopen(\"http://www.menuco.co\")\n",
    "soup = BeautifulSoup(html_page, \"html.parser\")\n",
    "for link in soup.findAll('a'):\n",
    "    lyric_list.append(link.get('href'))\n",
    "    #print(link.get('href'))"
   ]
  },
  {
   "cell_type": "code",
   "execution_count": 62,
   "id": "0d13102b",
   "metadata": {},
   "outputs": [
    {
     "data": {
      "text/plain": [
       "['#primary',\n",
       " '#content',\n",
       " 'https://menuco.co/',\n",
       " 'https://menuco.co/',\n",
       " 'https://menuco.co/subscription-plan',\n",
       " 'https://menuco.co/contact',\n",
       " 'https://menuco.co/login/',\n",
       " 'https://menuco.co/register/',\n",
       " 'https://menuco.co/',\n",
       " 'https://menuco.co/',\n",
       " 'https://menuco.co/subscription-plan',\n",
       " 'https://menuco.co/contact',\n",
       " 'https://menuco.co/login/',\n",
       " 'https://menuco.co/register',\n",
       " 'https://www.youtube.com/watch?v=KEc3aGjN228',\n",
       " '#',\n",
       " '#',\n",
       " '#',\n",
       " '#wrap',\n",
       " 'https://menuco.co/privacy-policy/',\n",
       " 'https://menuco.co/member-tos-page']"
      ]
     },
     "execution_count": 62,
     "metadata": {},
     "output_type": "execute_result"
    }
   ],
   "source": [
    "lyric_list"
   ]
  },
  {
   "cell_type": "code",
   "execution_count": 106,
   "id": "00b99b4d",
   "metadata": {},
   "outputs": [
    {
     "data": {
      "text/html": [
       "<div>\n",
       "<style scoped>\n",
       "    .dataframe tbody tr th:only-of-type {\n",
       "        vertical-align: middle;\n",
       "    }\n",
       "\n",
       "    .dataframe tbody tr th {\n",
       "        vertical-align: top;\n",
       "    }\n",
       "\n",
       "    .dataframe thead th {\n",
       "        text-align: right;\n",
       "    }\n",
       "</style>\n",
       "<table border=\"1\" class=\"dataframe\">\n",
       "  <thead>\n",
       "    <tr style=\"text-align: right;\">\n",
       "      <th></th>\n",
       "      <th>0</th>\n",
       "    </tr>\n",
       "  </thead>\n",
       "  <tbody>\n",
       "    <tr>\n",
       "      <th>0</th>\n",
       "      <td>#primary</td>\n",
       "    </tr>\n",
       "    <tr>\n",
       "      <th>1</th>\n",
       "      <td>#content</td>\n",
       "    </tr>\n",
       "    <tr>\n",
       "      <th>2</th>\n",
       "      <td>https://menuco.co/</td>\n",
       "    </tr>\n",
       "    <tr>\n",
       "      <th>3</th>\n",
       "      <td>https://menuco.co/</td>\n",
       "    </tr>\n",
       "    <tr>\n",
       "      <th>4</th>\n",
       "      <td>https://menuco.co/subscription-plan</td>\n",
       "    </tr>\n",
       "  </tbody>\n",
       "</table>\n",
       "</div>"
      ],
      "text/plain": [
       "                                     0\n",
       "0                             #primary\n",
       "1                             #content\n",
       "2                   https://menuco.co/\n",
       "3                   https://menuco.co/\n",
       "4  https://menuco.co/subscription-plan"
      ]
     },
     "execution_count": 106,
     "metadata": {},
     "output_type": "execute_result"
    }
   ],
   "source": [
    "x = pd.DataFrame(lyric_list)\n",
    "x.head()"
   ]
  },
  {
   "cell_type": "code",
   "execution_count": 109,
   "id": "a774c349",
   "metadata": {},
   "outputs": [],
   "source": [
    "# function to get unique values\n",
    "def unique(lyric_list):\n",
    "    x = np.array(lyric_list)\n",
    "    #x=re.findall(r'(https://menuco\\S+\")')\n",
    "    print(np.unique(x))\n",
    "\n"
   ]
  },
  {
   "cell_type": "code",
   "execution_count": 110,
   "id": "10b8b5c2",
   "metadata": {},
   "outputs": [
    {
     "name": "stdout",
     "output_type": "stream",
     "text": [
      "['#' '#content' '#primary' '#wrap' 'https://menuco.co/'\n",
      " 'https://menuco.co/contact' 'https://menuco.co/login/'\n",
      " 'https://menuco.co/member-tos-page' 'https://menuco.co/privacy-policy/'\n",
      " 'https://menuco.co/register' 'https://menuco.co/register/'\n",
      " 'https://menuco.co/subscription-plan'\n",
      " 'https://www.youtube.com/watch?v=KEc3aGjN228']\n"
     ]
    }
   ],
   "source": [
    "df=pd.DataFrame(unique(lyric_list))"
   ]
  },
  {
   "cell_type": "code",
   "execution_count": 115,
   "id": "efa155eb",
   "metadata": {},
   "outputs": [
    {
     "ename": "AttributeError",
     "evalue": "'list' object has no attribute 'str'",
     "output_type": "error",
     "traceback": [
      "\u001b[1;31m---------------------------------------------------------------------------\u001b[0m",
      "\u001b[1;31mAttributeError\u001b[0m                            Traceback (most recent call last)",
      "\u001b[1;32m~\\AppData\\Local\\Temp/ipykernel_13380/1963534619.py\u001b[0m in \u001b[0;36m<module>\u001b[1;34m\u001b[0m\n\u001b[1;32m----> 1\u001b[1;33m \u001b[0mlyric_list\u001b[0m\u001b[1;33m.\u001b[0m\u001b[0mstr\u001b[0m\u001b[1;33m.\u001b[0m\u001b[0mstartswith\u001b[0m\u001b[1;33m(\u001b[0m\u001b[1;34m'https'\u001b[0m\u001b[1;33m,\u001b[0m \u001b[0mna\u001b[0m\u001b[1;33m=\u001b[0m\u001b[1;32mFalse\u001b[0m\u001b[1;33m)\u001b[0m\u001b[1;33m\u001b[0m\u001b[1;33m\u001b[0m\u001b[0m\n\u001b[0m",
      "\u001b[1;31mAttributeError\u001b[0m: 'list' object has no attribute 'str'"
     ]
    }
   ],
   "source": [
    "lyric_list.str.startswith('https', na=False)"
   ]
  },
  {
   "cell_type": "code",
   "execution_count": 96,
   "id": "4d2144b9",
   "metadata": {},
   "outputs": [
    {
     "ename": "TypeError",
     "evalue": "expected string or bytes-like object",
     "output_type": "error",
     "traceback": [
      "\u001b[1;31m---------------------------------------------------------------------------\u001b[0m",
      "\u001b[1;31mTypeError\u001b[0m                                 Traceback (most recent call last)",
      "\u001b[1;32m~\\AppData\\Local\\Temp/ipykernel_13380/765335209.py\u001b[0m in \u001b[0;36m<module>\u001b[1;34m\u001b[0m\n\u001b[1;32m----> 1\u001b[1;33m \u001b[0mall_links\u001b[0m\u001b[1;33m=\u001b[0m\u001b[0mre\u001b[0m\u001b[1;33m.\u001b[0m\u001b[0mfindall\u001b[0m\u001b[1;33m(\u001b[0m\u001b[1;34mr'(https://menuco\\S+\")'\u001b[0m\u001b[1;33m,\u001b[0m \u001b[0mdf\u001b[0m\u001b[1;33m)\u001b[0m\u001b[1;33m\u001b[0m\u001b[1;33m\u001b[0m\u001b[0m\n\u001b[0m",
      "\u001b[1;32m~\\anaconda3\\lib\\re.py\u001b[0m in \u001b[0;36mfindall\u001b[1;34m(pattern, string, flags)\u001b[0m\n\u001b[0;32m    239\u001b[0m \u001b[1;33m\u001b[0m\u001b[0m\n\u001b[0;32m    240\u001b[0m     Empty matches are included in the result.\"\"\"\n\u001b[1;32m--> 241\u001b[1;33m     \u001b[1;32mreturn\u001b[0m \u001b[0m_compile\u001b[0m\u001b[1;33m(\u001b[0m\u001b[0mpattern\u001b[0m\u001b[1;33m,\u001b[0m \u001b[0mflags\u001b[0m\u001b[1;33m)\u001b[0m\u001b[1;33m.\u001b[0m\u001b[0mfindall\u001b[0m\u001b[1;33m(\u001b[0m\u001b[0mstring\u001b[0m\u001b[1;33m)\u001b[0m\u001b[1;33m\u001b[0m\u001b[1;33m\u001b[0m\u001b[0m\n\u001b[0m\u001b[0;32m    242\u001b[0m \u001b[1;33m\u001b[0m\u001b[0m\n\u001b[0;32m    243\u001b[0m \u001b[1;32mdef\u001b[0m \u001b[0mfinditer\u001b[0m\u001b[1;33m(\u001b[0m\u001b[0mpattern\u001b[0m\u001b[1;33m,\u001b[0m \u001b[0mstring\u001b[0m\u001b[1;33m,\u001b[0m \u001b[0mflags\u001b[0m\u001b[1;33m=\u001b[0m\u001b[1;36m0\u001b[0m\u001b[1;33m)\u001b[0m\u001b[1;33m:\u001b[0m\u001b[1;33m\u001b[0m\u001b[1;33m\u001b[0m\u001b[0m\n",
      "\u001b[1;31mTypeError\u001b[0m: expected string or bytes-like object"
     ]
    }
   ],
   "source": [
    "all_links=re.findall(r'(https://menuco\\S+\")', df)"
   ]
  },
  {
   "cell_type": "code",
   "execution_count": null,
   "id": "96516f23",
   "metadata": {},
   "outputs": [],
   "source": []
  },
  {
   "cell_type": "code",
   "execution_count": 116,
   "id": "cb0c9c18",
   "metadata": {},
   "outputs": [],
   "source": [
    "#------------"
   ]
  },
  {
   "cell_type": "code",
   "execution_count": null,
   "id": "d79ec1d0",
   "metadata": {},
   "outputs": [],
   "source": [
    "soup = bs4.BeautifulSoup(html, 'html.parser')"
   ]
  },
  {
   "cell_type": "code",
   "execution_count": null,
   "id": "04ae7746",
   "metadata": {},
   "outputs": [],
   "source": [
    "ls_lines = []\n",
    "for el in soup.find_all(\"p\"):\n",
    "    ls_lines.append(el.get_text().strip())"
   ]
  },
  {
   "cell_type": "code",
   "execution_count": null,
   "id": "1edaba86",
   "metadata": {},
   "outputs": [],
   "source": [
    "def my_lyrics(songs):\n",
    "    lyric_list=[]\n",
    "    for song in songs:\n",
    "        song_soup=BeautifulSoup(song, \"html.parser\")\n",
    "        lyric=song_soup.find('pre')\n",
    "        lyric=lyric.get_text()\n",
    "        lyric=str(lyric).replace(\"\\\\n\",\" \")\n",
    "        lyric=str(lyric).replace(\"\\n\",\"\")\n",
    "        lyric=str(lyric).lower()\n",
    "        lyric_list.append(lyric)\n",
    "    return lyric_list"
   ]
  },
  {
   "cell_type": "code",
   "execution_count": null,
   "id": "ff743bba",
   "metadata": {},
   "outputs": [],
   "source": []
  },
  {
   "cell_type": "code",
   "execution_count": null,
   "id": "db5b3402",
   "metadata": {},
   "outputs": [],
   "source": []
  },
  {
   "cell_type": "code",
   "execution_count": null,
   "id": "8c5eefdf",
   "metadata": {},
   "outputs": [],
   "source": []
  },
  {
   "cell_type": "code",
   "execution_count": null,
   "id": "f9cd61ff",
   "metadata": {},
   "outputs": [],
   "source": []
  },
  {
   "cell_type": "code",
   "execution_count": 14,
   "id": "d3d013fd",
   "metadata": {},
   "outputs": [],
   "source": [
    "def find(adele_songs_html):\n",
    "  \n",
    "    # findall() has been used \n",
    "    # with valid conditions for urls in string\n",
    "    regex = r\"(?i)\\b((?:https?://|www\\d{0,3}[.]|[a-z0-9.\\-]+[.][a-z]{2,4}/)(?:[^\\s()<>]+|\\(([^\\s()<>]+|(\\([^\\s()<>]+\\)))*\\))+(?:\\(([^\\s()<>]+|(\\([^\\s()<>]+\\)))*\\)|[^\\s`!()\\[\\]{};:'\\\".,<>?«»“”‘’]))\"\n",
    "    url = re.findall(regex,adele_songs_html)      \n",
    "    return [x[0] for x in url]"
   ]
  },
  {
   "cell_type": "code",
   "execution_count": 17,
   "id": "2b6dd6cb",
   "metadata": {},
   "outputs": [
    {
     "name": "stdout",
     "output_type": "stream",
     "text": [
      "Urls:  ['https://www.lyrics.com/', 'https://static.stands4.com', 'https://maxcdn.bootstrapcdn.com/bootstrap/3.3.2/css/bootstrap.min.css', 'https://fonts.googleapis.com', 'https://fonts.gstatic.com', 'fonts.googleapis.com/css2?family=Yanone+Kaffeesatz:wght@400;700&family=Oxygen:wght@400;700&family=Droid+Serif:ital,wght@0,400;0,700;1,400;1,700&family=Droid+Sans+Mono&family=Alegreya+Sans:wght@800&family=Original+Surfer&display=swap', 'fonts.googleapis.com/css2?family=Yanone+Kaffeesatz:wght@400;700&family=Oxygen:wght@400;700&family=Droid+Serif:ital,wght@0,400;0,700;1,400;1,700&family=Droid+Sans+Mono&family=Alegreya+Sans:wght@800&family=Original+Surfer&display=swap', 'fonts.googleapis.com/css2?family=Yanone+Kaffeesatz:wght@400;700&family=Oxygen:wght@400;700&family=Droid+Serif:ital,wght@0,400;0,700;1,400;1,700&family=Droid+Sans+Mono&family=Alegreya+Sans:wght@800&family=Original+Surfer&display=swap', 'https://static.stands4.com/app_common/css/lyrc.css?v=1.8.47', 'https://static.stands4.com/app_common/css/lyrc-ie8.css', 'https://static.stands4.com/app_common/css/lyrc-ie7.css', 'https://static.stands4.com/app_common/img/favicon_lyrc.ico', 'https://static.stands4.com/app_common/img/favicon_lyrc.ico', 'https://static.stands4.com/app_lyrics/open-search.xml', 'https://static.stands4.com/app_common/js/libs/html5shiv.min.js', 'https://static.stands4.com/app_common/js/libs/respond.min.js', 'https://securepubads.g.doubleclick.net/tag/js/gpt.js', 'https://static.stands4.com/app_common/js/prebid.js', 'https://www.abbreviations.com/', 'https://www.anagrams.net/', 'https://www.biographies.net/', 'https://www.calculators.net/', 'https://www.convert.net/', 'https://www.definitions.net/', 'https://www.grammar.com/', 'https://www.literature.com/', 'https://www.lyrics.com/', 'https://www.phrases.com/', 'https://www.poetry.com/', 'https://www.quotes.net/', 'https://www.references.net/', 'https://www.rhymes.com/', 'https://www.scripts.com/', 'https://www.symbols.com/', 'https://www.synonyms.com/', 'https://www.uszip.com/', 'https://www.lyrics.com/', 'https://static.stands4.com/app_common/img/top_logo_lyr.png', 'https://www.lyrics.com/', 'https://static.stands4.com/app_common/img/top_logo_lyr.png', 'https://www.lyrics.com/images/artist/861756_adele.png', 'https://www.biographies.net/search/Adele', 'https://encrypted-tbn0.gstatic.com/images?q=tbn:ANd9GcQrc4fY0lV_g-zSFV_9BVfsnHnZIiI1mbnrhHlHqIiFnFYHZe8SOb-ARA', 'https://encrypted-tbn0.gstatic.com/images?q=tbn:ANd9GcQC3skzQO--3mG8NMp4RW8WHrEAy1LWDUDmupnoyesCs77Yq0kD1ueb2TE', 'https://encrypted-tbn3.gstatic.com/images?q=tbn:ANd9GcSWroJA5ASFwCIV0pJr2sICKs2XKXWg9n8iwtVYfNYHgsFHOZS_RDQVkg', 'https://encrypted-tbn1.gstatic.com/images?q=tbn:ANd9GcTAhSAvZHzFbyBzltbJLfZWM24NOdL3vBltXY0Hh7m1x8x_hT0FQ9yfCvg', 'https://encrypted-tbn3.gstatic.com/images?q=tbn:ANd9GcSAYviRZ4ANFIGwKSzvEEu8yUT6o7o-cRkbppjxoFJQtkYHwFkTkdpYCbI', 'https://encrypted-tbn0.gstatic.com/images?q=tbn:ANd9GcRBtOpKeNRNw0YArUEPmRlmHmlmQozMCZDODSLC3Z2w67UHIeBajJVYUt3R&s', 'https://encrypted-tbn0.gstatic.com/images?q=tbn:ANd9GcQox0PocPPINEfoAgQBkCfpUYsACkCx30XcH6zo1Pd0ssiywV8xpd5eR2Q', 'https://encrypted-tbn0.gstatic.com/images?q=tbn:ANd9GcS4BJqbCTBtFJDMjnbcPjfApoSMD0D9DH3G4beR_wqEkXmdM4NjMJNv4vpF', 'https://encrypted-tbn1.gstatic.com/images?q=tbn:ANd9GcTkgVuDX_75JxDPqt0eCrwUUPLLcgMDpIUIOWetIRkcRmsrl9QTbac3Vf4', 'https://encrypted-tbn0.gstatic.com/images?q=tbn:ANd9GcTXwRjgiZWaM7oeDs6DT0ubAgah8ZZ1ie0dffbFp2Pq-HP-sjj3zeLEMXQGRw&s', 'https://encrypted-tbn0.gstatic.com/images?q=tbn:ANd9GcSrAmWszjIY1fuEPqAlNIGaVnyO8fgG5GJ9LJyuJamthXhM1Z7XNj5ym2E&s', 'https://encrypted-tbn1.gstatic.com/images?q=tbn:ANd9GcS5IGK9NsNkTJi0d_Z5UWbALOJf4tWL_BcnlOH-NvMF8byzuUsCkkkFkfCd', 'https://encrypted-tbn0.gstatic.com/images?q=tbn:ANd9GcTUznW5-6Ee_GKvnMJkRm-yFwKCX42BYdheUkHfJIYyyFJaburEeaVgmd9-', 'https://encrypted-tbn0.gstatic.com/images?q=tbn:ANd9GcTEor5xoRfE9yRD8f7rwPJC8XpRdUw-VAnm2emn5rh2Jb1KJC29nhY4-lo', 'https://encrypted-tbn0.gstatic.com/images?q=tbn:ANd9GcRgerKJjo9nFgnMGW9Uhnj0QlB5zX5UynNvpCPuZBx_y9hemHsZZfrwrKBc', 'https://encrypted-tbn0.gstatic.com/images?q=tbn:ANd9GcRoTjhCBuA_-hFMw-e5nYDaukh_zVcp7TD1Lv8GpBp-sJRuVK6O5OHTD3c&s', 'https://encrypted-tbn0.gstatic.com/images?q=tbn:ANd9GcQKCfGyUOTcJVai6IAgT9r2TSDeU7l0mjLBlW8or2H-9mEpTiAEU7ACLg&s', 'https://encrypted-tbn0.gstatic.com/images?q=tbn:ANd9GcQORcuX7taTVaTH0TtNMWn-_egbS09wnxK23auhTZ-tVhpSlXNvZUuaNZks&s', 'https://encrypted-tbn3.gstatic.com/images?q=tbn:ANd9GcQZJp0bhlNfQt2Va2fa55vURofFTa2XhWomSibGw6sbFSsmfToFatWj4g', 'https://encrypted-tbn1.gstatic.com/images?q=tbn:ANd9GcRWkehXNDik2qb3s_hLrAKjxzqseUL9vsaYmsWjNo_K88suT-Y8AevZmzXo', 'https://encrypted-tbn2.gstatic.com/images?q=tbn:ANd9GcQS3DwP1UumIaCOXcvlp0KA0dP09DahsHs0DKC-sdeH3iCMWsp9RMIf-64I', 'https://encrypted-tbn0.gstatic.com/images?q=tbn:ANd9GcTNq3WK3FyAg3cr16x_DnStJIo9G2T-OntnNYDbYH6fK_ekUgC-K2p6tmHA-w', 'https://encrypted-tbn0.gstatic.com/images?q=tbn:ANd9GcQ2xivaeOPdzAG_dYs79NiKYbHKnW9-hUNMyK-392Zd94j8OSwGWeY2Fl9u&s', 'https://encrypted-tbn0.gstatic.com/images?q=tbn:ANd9GcSKjl2CBzuqOQdUxfhMKovSwjCFJDazcLezIXmDZFPfb0oBoEJJUEl9Dg&s', 'https://encrypted-tbn0.gstatic.com/images?q=tbn:ANd9GcRy1_JF-7fhnDWZrFYABPXEQFh6E3UZw5xVkFvSSevK8Yh9ES5nLrKzKw&s', 'https://encrypted-tbn0.gstatic.com/images?q=tbn:ANd9GcQ3bSeMWyouSYALm0Lx0bIHQAlUCuiL1Et5uVRvE8DvXtYNN67aI1asne4&s', 'https://encrypted-tbn0.gstatic.com/images?q=tbn:ANd9GcT4RmQ8M1mnzjp_XxNbF1iapDuerrThNpAaDAWEHHs2PrpqTJ-hPtb9LDk&s', 'https://encrypted-tbn0.gstatic.com/images?q=tbn:ANd9GcR1Jy5ue4sZjWAZ4epT8j3Wh-BpEmQ-WYmGCuI7ZBuL4D4bOopx5obnRjEGaw', 'https://encrypted-tbn0.gstatic.com/images?q=tbn:ANd9GcTrswwF-6VWYD_-JIASk0mugwixYxOOYBiSrEKvpmrFFv0y5BOSwrVtAukTOQ', 'https://encrypted-tbn3.gstatic.com/images?q=tbn:ANd9GcTJ6EfncP7DXu-8V_kCJUyyw1rGSi4F_vjVTTcrDJNowDAY7thjAwyyfT0', 'https://encrypted-tbn0.gstatic.com/images?q=tbn:ANd9GcTWtenAQgyl5hOK5_P5MnvfGZkzvKuH5vXrg5SZWCDPyo91NTNEm2rLGA', 'https://encrypted-tbn2.gstatic.com/images?q=tbn:ANd9GcRT0EPI9nmhlb4hyCx38im3Q-EUluItZUOgNhjSlo0qX7a68blsBfI8sE0', 'https://encrypted-tbn2.gstatic.com/images?q=tbn:ANd9GcSyZWClRBPyPgn7GHZyKAKXukAg16JxXdYEOu-BGZQ77qToi01NnVQbR3wl', 'https://encrypted-tbn0.gstatic.com/images?q=tbn:ANd9GcRI19Ht_CU7pJZML_4Z02lMzOEv8U6ZyWZx305rIuQdlUYgzfti46lg4g', 'https://encrypted-tbn0.gstatic.com/images?q=tbn:ANd9GcRj_ug5p-VXIWoPRhS1zbVGAjEnu7xkH35GB-d221itxMQdTWjyX_DFlEg&s', 'https://encrypted-tbn1.gstatic.com/images?q=tbn:ANd9GcR619ed6vadGQ4zBh847UKcjWDWjl-8FUTzDrcbyhY9-so201H7OX3Eqw', 'https://encrypted-tbn0.gstatic.com/images?q=tbn:ANd9GcTJRYrDOWAGjm2QaaVRMFmCA0bIEOhv8_vcrhqHtEhQs3zIkXwzSNJ5xg&s', 'https://encrypted-tbn1.gstatic.com/images?q=tbn:ANd9GcQ3UkBQiUujQ6CZAi2qNORqcfaXb8vcuzbCMAvq16ZK-n0Y8UT0wGA9Z0c', 'https://encrypted-tbn0.gstatic.com/images?q=tbn:ANd9GcQ3wl-dVNd3rJ3q5ELzappM-6aT2Inu1zHU2o7s-rMpwzOWxGCZlVI1jvU&s', 'https://encrypted-tbn0.gstatic.com/images?q=tbn:ANd9GcQHP3CSBDMkeN62vdMib0_ArBbIpLsM26phakeJ8cKTq58M9539HIPsSG4&s', 'https://encrypted-tbn0.gstatic.com/images?q=tbn:ANd9GcTXqktSIcZRD-ripdY2Icx56WcSeATCw-pheU1Iy997lAFmSiNn-tz7bDBW4w&s', 'https://encrypted-tbn0.gstatic.com/images?q=tbn:ANd9GcRiMf82u_zo2FwmcF8N8DzxaMwCf8m-NQWus-bqD3CsKe6a8wltfAakMQ&s', 'https://encrypted-tbn0.gstatic.com/images?q=tbn:ANd9GcRgjZHrV3fSZ_oXFdiLFSayOgCnw4P8nuKqON93AeWUZn5mS6GKdHsgpOUKSA', 'https://encrypted-tbn1.gstatic.com/images?q=tbn:ANd9GcQnUrHudeNnnnmpmlUR3vIzkV9j-l-wf7kZ3nuRzpqglnvZD_Y7OIGzSJEzKg', 'https://encrypted-tbn0.gstatic.com/images?q=tbn:ANd9GcQa2BpMYqbDzSdmUPkfQJ0o-fhME7TXm9bRbgKVMPITTREAXKZM84MSynE&s', 'https://encrypted-tbn0.gstatic.com/images?q=tbn:ANd9GcS3B6Zrp3YoqjOQv6uvRmZh1FkuHKvX3CGgBCfAF9AW9GNUvXfOGtNToIOR', 'https://encrypted-tbn2.gstatic.com/images?q=tbn:ANd9GcRSq44n7vcUbUF4___UbFooN9I3tiE5v4QwTzkUCBHsJM84EVxTTqQ9fNYj', 'https://encrypted-tbn0.gstatic.com/images?q=tbn:ANd9GcQx1h7EnAkQMr6-pNHAFFrKj4oz9mzTobACeO8yM2e0WC4xpHLBCt1oBRc&s', 'https://encrypted-tbn0.gstatic.com/images?q=tbn:ANd9GcSv_HmKKl-x1IEtvsyfhXMC5g5vNtyiNEQry3T5BFvZ8gG0iCpTeTDeG1Q&s', 'https://encrypted-tbn0.gstatic.com/images?q=tbn:ANd9GcT9n5kR8CSYL9PXV1AOftkdZvZo0dVAxZm7oJKOOwUtLkb1WncKsJvAFg&s', 'https://encrypted-tbn0.gstatic.com/images?q=tbn:ANd9GcRYhYxA6LP2iWtPUKtimRQrdMno3En8wGDLfgp5peCgyCqk5PzTkpUksA&s', 'https://encrypted-tbn1.gstatic.com/images?q=tbn:ANd9GcR0mb2F1fdtzEBNPq1wYbQjp8V0aIjY81qAsgLxy9Jxbven_XGKqFQtULMP', 'https://encrypted-tbn3.gstatic.com/images?q=tbn:ANd9GcShIu1JUUyLiKPaqjBnUDs1w-xapsRnlWjB05HGBPX46pnzkJzwvJ19in0', 'https://encrypted-tbn3.gstatic.com/images?q=tbn:ANd9GcR2fcpf2I9BC6fViyj_md-t7hnNfYfggoyGw4AEKw0yZBo4960vGu8P8w', 'https://encrypted-tbn0.gstatic.com/images?q=tbn:ANd9GcSsnrWfJAqW15RF83E4rsYGrpFRchMNmBA_AnVXSkFFDDhtY4Ne50EB_zYJJQ&s', 'https://encrypted-tbn0.gstatic.com/images?q=tbn:ANd9GcTOV5msobkNjOJ_FUY5yKdTk1TkG13wd3IBeDfKoCTmvjqZXU85z5OEql0K&s', 'https://encrypted-tbn3.gstatic.com/images?q=tbn:ANd9GcTJdGZnywahq1IxZ28HSLGtdWCDrZF3G7k_ecjiFE4b14oSc7o9cVOnpbs', 'https://encrypted-tbn2.gstatic.com/images?q=tbn:ANd9GcROZj1VmGhDXOp9mSEJeN14XKYb3gjcy2vaBGgoSUADIZIogBpo_DcZW_Y', 'https://encrypted-tbn2.gstatic.com/images?q=tbn:ANd9GcTbCpw6EgtewyxhPZn6cn3GGblrNIUBVHTgIESg33c4huR9LvjtvaAmtaLn', 'https://encrypted-tbn1.gstatic.com/images?q=tbn:ANd9GcTepJaoUl3ytkJQs3qunqvFQCQHO7OarBV_jcje8yUrS4oVeAPuW6iOPpI', 'https://encrypted-tbn1.gstatic.com/images?q=tbn:ANd9GcQiwSoZ-UXmQWApOtWyj1UtS6EGFm_n0Ko5dEVGGwdPlrUeanMw_l8Vksg', 'https://encrypted-tbn0.gstatic.com/images?q=tbn:ANd9GcTsRWqXxAqL7emzUaFf6ed1SvH_C4a9qa0N5JNfJmDRk1B9a8ztugIp6yQiQQ', 'https://encrypted-tbn0.gstatic.com/images?q=tbn:ANd9GcTCV7GVwIEoUx4p-ugYPs_Uu66w9ZYtFXTJ_TPHHjuxrv0ZBbCcLePYGik&s', 'https://encrypted-tbn3.gstatic.com/images?q=tbn:ANd9GcTE6z3UdvwWmnTpeoSuqiLdyzjz_FOoh_NhC2uT1j-adwhAal9gNd3N3vI', 'https://encrypted-tbn0.gstatic.com/images?q=tbn:ANd9GcRnfcIwC4WF8PFXQ7rr-BxtkBLtAnPOHU6ZTjVfHjHvP_bLHB7evOX5zpfh4w&s', 'https://encrypted-tbn0.gstatic.com/images?q=tbn:ANd9GcS1FO7Q_stcoZ7NFGbr_zcVFLHvdTynqwpTmsOtOEN9mcC2XznjQrg7rzGg', 'https://encrypted-tbn2.gstatic.com/images?q=tbn:ANd9GcQyKX7jKztR2oNCQhf-3H0OQ2fEN12EtYnxY5Ylr-GSDMlw9zuLvx2rpQ', 'https://encrypted-tbn0.gstatic.com/images?q=tbn:ANd9GcS_3DXWBUaWJIz-XF68oytnYGkCjNurVdrzmmlRL8QhY3Ld6wStyKwym70&s', 'https://encrypted-tbn0.gstatic.com/images?q=tbn:ANd9GcST-Piye2VA_kOhxjSzNXxFBxYyGPLY56mcgJGj4tCQFLOnK5eCo_-Wfg&s', 'https://encrypted-tbn0.gstatic.com/images?q=tbn:ANd9GcSpCj9AJsSKSp_aybYnpAsm6h0rUKhR5ySFpWkuUVJu9kX_3vHlH_r-G6sa&s', 'https://encrypted-tbn1.gstatic.com/images?q=tbn:ANd9GcSnk1gW-50tgM_9PPYNVmOJG4UMC3zuyrd13iN1VyqkUDSmg5D4_r1y3qU', 'https://encrypted-tbn0.gstatic.com/images?q=tbn:ANd9GcQVRSvNa9rLE7fpXbE2DG_8wl3H4b6QadB5mW7vUG5DA6kHvJTfGQoWZfs&s', 'https://encrypted-tbn3.gstatic.com/images?q=tbn:ANd9GcR9Rl-4RWx63I7miHIe7inPRfGhMIbGxPsih6g8KpHRurUk433G1NqH08Y', 'https://encrypted-tbn2.gstatic.com/images?q=tbn:ANd9GcRpuisHXh6OS4RI9Yqw9TkApQrvjntet1rcJB6kX9BjsGM0cUcX6qfDyg', 'https://encrypted-tbn3.gstatic.com/images?q=tbn:ANd9GcTCEhyay74zt411XtqPjauA3kUiiz2fnGkyGf1f7RtC0HWMB7jDADjNOdxt', 'https://encrypted-tbn1.gstatic.com/images?q=tbn:ANd9GcRw1JhvM66jr31_BKV_3_fmWd7d7aPsXs0_ATU2aJ9Cv8pSueIVWckAY0M', 'https://encrypted-tbn0.gstatic.com/images?q=tbn:ANd9GcQtNEH9xj3F6iuOY_AbgzZolE42YDim2EUSl248UAXyuHYthiKkbKrQ_8Gf', 'https://encrypted-tbn1.gstatic.com/images?q=tbn:ANd9GcSxTR9WkJ21X8tXz4XzDKOJF1ncfyU9j-hIzRsx1UdASGV-ndql7gAxxw', 'https://encrypted-tbn0.gstatic.com/images?q=tbn:ANd9GcRa_ZzsFO5wbuVyvDN6DvUtsIaocBgdCh2C2-RNjM5BwaEQ35_L9WVUk-HE&s', 'https://encrypted-tbn0.gstatic.com/images?q=tbn:ANd9GcT_V-TYm4gx09-2xO9zVMNDARgfsXeKZOdTVCLUzXBU5hWhehWuYysTHRhW_Q&s', 'https://encrypted-tbn0.gstatic.com/images?q=tbn:ANd9GcRRb_Zboggkch8-4qztgtNxSWi4yM-isKtCqVsedXw1qaCL4P7MxQuYL9U', 'https://encrypted-tbn1.gstatic.com/images?q=tbn:ANd9GcRaJdc1Ssdwvma9NiOQdoFl2G954Lx_V4OfEOsVt1MBShaNezdAaC_XUzQ', 'https://encrypted-tbn0.gstatic.com/images?q=tbn:ANd9GcTAQv5nkBrAsfbRVdFVh6gqVtgfJL5qb1TLrKvMky-NGqfn6e1xpJv_CJKQ', 'https://encrypted-tbn0.gstatic.com/images?q=tbn:ANd9GcSwZB-cr6FNYVY2YfsTsNaei2GxJA4JLrZe9iLka-yU-F1A-uz6wQB8D0dP&s', 'https://encrypted-tbn0.gstatic.com/images?q=tbn:ANd9GcSAfBUKz0Lq6fsahsL7Vjn_JIjrePI1Wk2mwfqU4AXFIhutWml4Y-XIOg&s', 'https://encrypted-tbn3.gstatic.com/images?q=tbn:ANd9GcSMBAs0WuJRE7qsJCtpAliYaa0fLcJFWMVmlWHHqmof_i1KMf1l8SBJNA', 'https://encrypted-tbn0.gstatic.com/images?q=tbn:ANd9GcRaCktCSRRKs8SyBWRV72hH4SXpIQ6CHXawEtxk1mFQr0wpg07YdOnJjg', 'https://encrypted-tbn1.gstatic.com/images?q=tbn:ANd9GcRSXY79sWLrvJkAb7oUsELEpTgaxZmBcHt4d4okUolzSU5zF8J4SXt9qh6U', 'https://encrypted-tbn0.gstatic.com/images?q=tbn:ANd9GcTavgmDO5Ir5kpuKPAhfES2GN5-fQ90sQOgxJIfypiIqZdqD_AgxaCTPhfd', 'https://encrypted-tbn0.gstatic.com/images?q=tbn:ANd9GcQ9jvzAmQe9lczpYFfSulQSCsb7v1p8VTn262j49dhGXnOYibZ4umsKvAU', 'https://encrypted-tbn0.gstatic.com/images?q=tbn:ANd9GcTePPam_q0Gdnzz6AaFrvYrj0kHD5Ic4kDz4vULDtaSiGNwOlf-HQTPrsc&s', 'https://encrypted-tbn0.gstatic.com/images?q=tbn:ANd9GcRFP6-bVtlZWWqIhc_lMUSPf8Bwo_XhdoGp9M7xQRDkfNZKO6gQGi24OQ', 'https://encrypted-tbn0.gstatic.com/images?q=tbn:ANd9GcSUUCgTTVb5YKxlThHeKZ3F1gqy3MWw5HH0HGvMs4gYn1YXcRAonlL_zg&s', 'https://encrypted-tbn0.gstatic.com/images?q=tbn:ANd9GcQktryEGtjBKlaC32xUMR7VgqVxy1_SyTxgNVnNCXd2R5DX6fFdYe3rLFy1', 'https://encrypted-tbn0.gstatic.com/images?q=tbn:ANd9GcSB1qxkOvtqmectCw4CypvMJDWqjzvsRwKVOXRUc9wDs2rDXgj7tXLMBkI&s', 'https://encrypted-tbn0.gstatic.com/images?q=tbn:ANd9GcTWdwNb-XME3NNfQ88IxBJDaqib33b3CLhFfnVpM8ViwvCSyIbU1-DUDqw', 'https://encrypted-tbn0.gstatic.com/images?q=tbn:ANd9GcQm7jTqvSSZLJpTRvZeKTrF-vgDuJCWQDfBbd2sljSZU4pJXzzeY-jL_z1QEw', 'https://encrypted-tbn3.gstatic.com/images?q=tbn:ANd9GcRLcsM_Zyq2rf8pn68Ab-8CclM24Mbs1MaV-XnmFrqq9b668KEYXpED8Tg', 'https://encrypted-tbn1.gstatic.com/images?q=tbn:ANd9GcQGBPBGnY77gZ6tZCT_PAP-KrWVWSj6SBATz7DJdCkV3L0HiuSyDoPu7VE', 'https://encrypted-tbn3.gstatic.com/images?q=tbn:ANd9GcRcGdoo8fXTaM_uSaFoaSi4sxGzzR30xsz4DhsMvYgEtsazvgVvKtBX9Q', 'https://encrypted-tbn0.gstatic.com/images?q=tbn:ANd9GcQDT-jRDVyvslTnnU3uoR1SXwvvq99pYQ_xJoB0BoxzDaY_SE4IWu1LwaypPw&s', 'https://encrypted-tbn0.gstatic.com/images?q=tbn:ANd9GcRm5uulmgcALnsP477OWvox7QJMeI5kKp_cv1F7Mx19-8nE7Rvs7V9YGMw', 'https://encrypted-tbn0.gstatic.com/images?q=tbn:ANd9GcTqXU1xoXNxod__Y4c10-iN9f0Cy25o6nuVOR1P7wmG_I0N-ho-Oep01A', 'https://encrypted-tbn2.gstatic.com/images?q=tbn:ANd9GcQFJE6LKIZR8y5wIuYMfST4gU5pqPrEAODZEa4RTD5pVMJoupXzAD-ouUch', 'https://encrypted-tbn0.gstatic.com/images?q=tbn:ANd9GcRcK3UqR0bmYnDguUzvA71Q6BGb0TFxcPHxdxbzTgONQFPXguGl3qw0Wg&s', 'https://encrypted-tbn0.gstatic.com/images?q=tbn:ANd9GcSZSeFHVRpf3PSPnZWJbFZ71jZMzTkz0mvC7AhNH5K-RzGCvJu0GTzRrw&s', 'https://encrypted-tbn0.gstatic.com/images?q=tbn:ANd9GcTTAlqsiQULiKYBI6fIsmwxd3XO1BHTOExhuu9PkL6A2hhrGCqfsxIsQgHX', 'https://encrypted-tbn0.gstatic.com/images?q=tbn:ANd9GcQwqYKo37RUn6ILao7WyfGD7vRQ4KyRq6AgJ9LSdiEDf-NP15Z3DoNPp78&s', 'https://encrypted-tbn0.gstatic.com/images?q=tbn:ANd9GcRIXvNtaXBdzFGAKl9ZCk3b7x9qUcujQhlFnof7V3qvk4bL8jHBSDPPhDJY', 'https://encrypted-tbn0.gstatic.com/images?q=tbn:ANd9GcRyWEFF9thNXtDNoL0cmP3AWDeClhXVbYY0_6zKYsHqE582MWPJz8jKQb5d', 'https://encrypted-tbn0.gstatic.com/images?q=tbn:ANd9GcQoNE-ilZVBhZ2CSTjUam_pBVtGLyiSWdoVEqSIoSVIfGagH4DBQMIirKg&s', 'https://encrypted-tbn0.gstatic.com/images?q=tbn:ANd9GcQheUa_Jfo9R_zBnj6986R2QsAcM_Pz-KWTclRcI_7v29I8zDgwJ3zjCpG8', 'https://encrypted-tbn0.gstatic.com/images?q=tbn:ANd9GcS9_uF8L9LlJcG6lWMljyJ6sATlygiarb1a3wZdadaP5iPylQwVlLHmVC1X&s', 'https://encrypted-tbn0.gstatic.com/images?q=tbn:ANd9GcTOw1WBLFth0VajacYjS4s4jha_9-o2w4aZAvN0v6g2i48c1wk85VaAkoY', 'https://encrypted-tbn3.gstatic.com/images?q=tbn:ANd9GcRWxMyXku5H7vz7sHS5k8lo9oaRJfaOLGu_E9pLxBTMQSUqfl9ty9rV16nc', 'https://encrypted-tbn0.gstatic.com/images?q=tbn:ANd9GcRxOfrqnR4Io7oSCm0-dQ-hmd4XaX1pbd34sGcJ40wq8fc1NZv7NMki0w&s', 'https://encrypted-tbn0.gstatic.com/images?q=tbn:ANd9GcQgunFNcJDB-I1FQqnIN-FwnT8M4FJhmEebSFzNTzL-V2uYjuw1-Qf7cCY&s', 'https://encrypted-tbn2.gstatic.com/images?q=tbn:ANd9GcSwwousMPakRR5bzrVwS9tJ75kgiB5wf5VkMqkkS7miAat0n0uQ5gDeHck2nQ', 'https://encrypted-tbn0.gstatic.com/images?q=tbn:ANd9GcQC0E-i0y8LWiwjykBH2zcYSm0N2tHa5sk_W1WBOfB4A48PbjV8gU4OG_1U', 'https://encrypted-tbn0.gstatic.com/images?q=tbn:ANd9GcRMtteZ5pekH6ArwnzE4abkbObGmJ_xIX1N0Dmj7Cv64wy7IiVuUTn_ZJ8_', 'https://encrypted-tbn1.gstatic.com/images?q=tbn:ANd9GcSqwIrDE8htjo4rneJgh9lCAxuwG2eGlNGPUUaDAkSSQ3Q4SmLANMFSaCY', 'https://www.lyrics.com/images/artist/861756_adele.png', 'https://www.lyrics.com/forgotpass.php', 'https://www.lyrics.com/addlyric.php?aid=861756', 'https://encrypted-tbn3.gstatic.com/images?q=tbn:ANd9GcQNCwbKIx9mzODuA0KO-h1jxZ4Gpn5JjXTKP2p3qmAnQnWKprNwSQL62Cbp', 'https://encrypted-tbn3.gstatic.com/images?q=tbn:ANd9GcTz7agIFtdB2UYHcwbEx7ow0HlOmsiIils0nESJ7yik50000C6nUTBnMjA_', 'https://encrypted-tbn3.gstatic.com/images?q=tbn:ANd9GcTxqF0EZRNkfH0qBQEzAfn6AbiZkX_6j9XDJ5VJ_00y63bZZc6ksbKVTnQ', 'https://encrypted-tbn3.gstatic.com/images?q=tbn:ANd9GcTQgD5AjkQxeDoOnOhfDZPTwAf5sdkXHed61uw1ezVAqmOwzMy1dasDxd4', 'https://www.lyrics.com/images/artist/349078_beyonce.png', 'https://ticketmaster.evyy.net/c/1877612/264167/4272?u=https%3A%2F%2Fwww.ticketweb.com%2Fevent%2Fadele-givens-pittsburgh-improv-tickets%2F10570735', 'https://s1.ticketm.net/dam/c/50a/fa9caa1f-73a1-411e-b507-ec56fa59650a_106061_CUSTOM.jpg', 'https://ticketmaster.evyy.net/c/1877612/264167/4272?u=https%3A%2F%2Fwww.ticketweb.com%2Fevent%2Fadele-givens-pittsburgh-improv-tickets%2F10570735', 'https://ticketmaster.evyy.net/c/1877612/264167/4272?u=https%3A%2F%2Fwww.ticketweb.com%2Fevent%2Fadele-givens-pittsburgh-improv-tickets%2F10570725', 'https://s1.ticketm.net/dam/c/50a/fa9caa1f-73a1-411e-b507-ec56fa59650a_106061_CUSTOM.jpg', 'https://ticketmaster.evyy.net/c/1877612/264167/4272?u=https%3A%2F%2Fwww.ticketweb.com%2Fevent%2Fadele-givens-pittsburgh-improv-tickets%2F10570725', 'https://ticketmaster.evyy.net/c/1877612/264167/4272?u=https%3A%2F%2Fwww.ticketweb.com%2Fevent%2Fadele-givens-pittsburgh-improv-tickets%2F10570745', 'https://s1.ticketm.net/dam/c/50a/fa9caa1f-73a1-411e-b507-ec56fa59650a_106061_CUSTOM.jpg', 'https://ticketmaster.evyy.net/c/1877612/264167/4272?u=https%3A%2F%2Fwww.ticketweb.com%2Fevent%2Fadele-givens-pittsburgh-improv-tickets%2F10570745', 'https://ticketmaster.evyy.net/c/1877612/264167/4272?u=https%3A%2F%2Fwww.ticketweb.com%2Fevent%2Fadele-givens-pittsburgh-improv-tickets%2F10570765', 'https://s1.ticketm.net/dam/c/50a/fa9caa1f-73a1-411e-b507-ec56fa59650a_106061_CUSTOM.jpg', 'https://ticketmaster.evyy.net/c/1877612/264167/4272?u=https%3A%2F%2Fwww.ticketweb.com%2Fevent%2Fadele-givens-pittsburgh-improv-tickets%2F10570765', 'https://ticketmaster.evyy.net/c/1877612/264167/4272?u=https%3A%2F%2Fwww.ticketweb.com%2Fevent%2Fadele-givens-pittsburgh-improv-tickets%2F10570755', 'https://s1.ticketm.net/dam/c/50a/fa9caa1f-73a1-411e-b507-ec56fa59650a_106061_CUSTOM.jpg', 'https://ticketmaster.evyy.net/c/1877612/264167/4272?u=https%3A%2F%2Fwww.ticketweb.com%2Fevent%2Fadele-givens-pittsburgh-improv-tickets%2F10570755', 'http://onrad.io', 'https://yourmusiciq.com/', 'https://www.lyrics.com/images/artist/sub/53352_helena-barrington.png', 'https://www.lyrics.com/images/artist/sub/4122_michael-j.png', 'https://www.lyrics.com/images/artist/sub/52333_amalia-maldonado.png', 'https://www.lyrics.com/images/artist/sub/30381_the-immaculate-crows.png', 'https://www.lyrics.com/images/artist/sub/48424_don-jaymor.png', 'https://www.lyrics.com/images/artist/sub/54657_michael-frederick.png', 'https://www.lyrics.com/images/artist/sub/54680_dree-motion.png', 'https://www.lyrics.com/lyrics-quiz', 'https://www.lyrics.com/lyrics-quiz', 'https://chrome.google.com/webstore/detail/lyricscom/lemhemhgkggcfkeepaanfpkbjnkgfhpi', 'https://chrome.google.com/webstore/detail/lyricscom/lemhemhgkggcfkeepaanfpkbjnkgfhpi', 'https://chrome.google.com/webstore/detail/lyricscom/lemhemhgkggcfkeepaanfpkbjnkgfhpi', 'https://addons.mozilla.org/en-US/firefox/addon/lyrics-com/', 'https://addons.mozilla.org/en-US/firefox/addon/lyrics-com/', 'https://addons.mozilla.org/en-US/firefox/addon/lyrics-com/', 'https://www.lyrics.com/', 'https://www.lyrics.com/lyrics-quiz', 'https://apps.apple.com/us/app/lyrics-com/id1467868195', 'https://play.google.com/store/apps/details?id=com.stand4.lyrics', 'https://www.abbreviations.com/', 'https://www.calculators.net/', 'https://www.grammar.com/', 'https://www.phrases.com/', 'https://www.references.net/', 'https://www.symbols.com/', 'https://www.anagrams.net/', 'https://www.convert.net/', 'https://www.literature.com/', 'https://www.poetry.com/', 'https://www.rhymes.com/', 'https://www.synonyms.com/', 'https://www.biographies.net/', 'https://www.definitions.net/', 'https://www.lyrics.com/', 'https://www.quotes.net/', 'https://www.scripts.com/', 'https://www.uszip.com/', 'https://www.abbreviations.com/', 'https://www.anagrams.net/', 'https://www.biographies.net/', 'https://www.convert.net/', 'https://www.calculators.net/', 'https://www.definitions.net/', 'https://www.grammar.com/', 'https://www.literature.com/', 'https://www.lyrics.com/', 'https://www.phrases.com/', 'https://www.poetry.com/', 'https://www.quotes.net/', 'https://www.references.net/', 'https://www.rhymes.com/', 'https://www.scripts.com/', 'https://www.symbols.com/', 'https://www.synonyms.com/', 'https://www.uszip.com/', 'https://www.facebook.com/STANDS4', 'https://twitter.com/lyrics_dot_com', 'https://www.linkedin.com/company/stands4/', 'https://static.stands4.com/app_common/css/font-awesome-5.0.min.css', 'https://static.stands4.com/app_common/css/smoothness/jquery-ui-1.12.1.custom.min.css?v=1.0.1', 'ajax.googleapis.com/ajax/libs/jquery/3.6.0/jquery.min.js', 'https://static.stands4.com/app_common/js/libs/jquery-3.6.0.min.js', 'https://static.stands4.com/app_common/js/libs/jquery-ui-1.12.1.custom.min.js?v=1.0.1', 'https://static.stands4.com/app_lyrics/js/onradio/inline.js?v=1.3.79', 'https://static.stands4.com/app_common/js/libs/wselect.min.js', 'https://maxcdn.bootstrapcdn.com/bootstrap/3.3.2/js/bootstrap.min.js', 'https://static.stands4.com/app_lyrics/js/lyrc.min.js?v=1.3.79', 'https://www.googletagmanager.com/gtag/js?id=UA-172613-15', 'https://pagead2.googlesyndication.com/pagead/js/adsbygoogle.js']\n"
     ]
    }
   ],
   "source": [
    "print(\"Urls: \", find(adele_songs_html))"
   ]
  },
  {
   "cell_type": "code",
   "execution_count": 24,
   "id": "861bc627",
   "metadata": {},
   "outputs": [
    {
     "ename": "NameError",
     "evalue": "name 'regex' is not defined",
     "output_type": "error",
     "traceback": [
      "\u001b[1;31m---------------------------------------------------------------------------\u001b[0m",
      "\u001b[1;31mNameError\u001b[0m                                 Traceback (most recent call last)",
      "\u001b[1;32m~\\AppData\\Local\\Temp/ipykernel_13380/881937646.py\u001b[0m in \u001b[0;36m<module>\u001b[1;34m\u001b[0m\n\u001b[1;32m----> 1\u001b[1;33m \u001b[0mdf1\u001b[0m\u001b[1;33m[\u001b[0m\u001b[1;34m\"urls\"\u001b[0m\u001b[1;33m]\u001b[0m\u001b[1;33m=\u001b[0m\u001b[0mpd\u001b[0m\u001b[1;33m.\u001b[0m\u001b[0mDataFrame\u001b[0m\u001b[1;33m(\u001b[0m\u001b[0mre\u001b[0m\u001b[1;33m.\u001b[0m\u001b[0mfindall\u001b[0m\u001b[1;33m(\u001b[0m\u001b[0mregex\u001b[0m\u001b[1;33m,\u001b[0m \u001b[0madele_songs_html\u001b[0m\u001b[1;33m)\u001b[0m\u001b[1;33m)\u001b[0m\u001b[1;33m\u001b[0m\u001b[1;33m\u001b[0m\u001b[0m\n\u001b[0m",
      "\u001b[1;31mNameError\u001b[0m: name 'regex' is not defined"
     ]
    }
   ],
   "source": [
    "df1[\"urls\"]=pd.DataFrame(re.findall(regex, adele_songs_html))"
   ]
  },
  {
   "cell_type": "code",
   "execution_count": 19,
   "id": "dda8ee53",
   "metadata": {},
   "outputs": [
    {
     "data": {
      "text/html": [
       "<div>\n",
       "<style scoped>\n",
       "    .dataframe tbody tr th:only-of-type {\n",
       "        vertical-align: middle;\n",
       "    }\n",
       "\n",
       "    .dataframe tbody tr th {\n",
       "        vertical-align: top;\n",
       "    }\n",
       "\n",
       "    .dataframe thead th {\n",
       "        text-align: right;\n",
       "    }\n",
       "</style>\n",
       "<table border=\"1\" class=\"dataframe\">\n",
       "  <thead>\n",
       "    <tr style=\"text-align: right;\">\n",
       "      <th></th>\n",
       "      <th>0</th>\n",
       "    </tr>\n",
       "  </thead>\n",
       "  <tbody>\n",
       "    <tr>\n",
       "      <th>0</th>\n",
       "      <td>https://www.lyrics.com/</td>\n",
       "    </tr>\n",
       "    <tr>\n",
       "      <th>1</th>\n",
       "      <td>https://static.stands4.com</td>\n",
       "    </tr>\n",
       "    <tr>\n",
       "      <th>2</th>\n",
       "      <td>https://maxcdn.bootstrapcdn.com/bootstrap/3.3....</td>\n",
       "    </tr>\n",
       "    <tr>\n",
       "      <th>3</th>\n",
       "      <td>https://fonts.googleapis.com</td>\n",
       "    </tr>\n",
       "    <tr>\n",
       "      <th>4</th>\n",
       "      <td>https://fonts.gstatic.com</td>\n",
       "    </tr>\n",
       "    <tr>\n",
       "      <th>...</th>\n",
       "      <td>...</td>\n",
       "    </tr>\n",
       "    <tr>\n",
       "      <th>252</th>\n",
       "      <td>https://static.stands4.com/app_common/js/libs/...</td>\n",
       "    </tr>\n",
       "    <tr>\n",
       "      <th>253</th>\n",
       "      <td>https://maxcdn.bootstrapcdn.com/bootstrap/3.3....</td>\n",
       "    </tr>\n",
       "    <tr>\n",
       "      <th>254</th>\n",
       "      <td>https://static.stands4.com/app_lyrics/js/lyrc....</td>\n",
       "    </tr>\n",
       "    <tr>\n",
       "      <th>255</th>\n",
       "      <td>https://www.googletagmanager.com/gtag/js?id=UA...</td>\n",
       "    </tr>\n",
       "    <tr>\n",
       "      <th>256</th>\n",
       "      <td>https://pagead2.googlesyndication.com/pagead/j...</td>\n",
       "    </tr>\n",
       "  </tbody>\n",
       "</table>\n",
       "<p>257 rows × 1 columns</p>\n",
       "</div>"
      ],
      "text/plain": [
       "                                                     0\n",
       "0                              https://www.lyrics.com/\n",
       "1                           https://static.stands4.com\n",
       "2    https://maxcdn.bootstrapcdn.com/bootstrap/3.3....\n",
       "3                         https://fonts.googleapis.com\n",
       "4                            https://fonts.gstatic.com\n",
       "..                                                 ...\n",
       "252  https://static.stands4.com/app_common/js/libs/...\n",
       "253  https://maxcdn.bootstrapcdn.com/bootstrap/3.3....\n",
       "254  https://static.stands4.com/app_lyrics/js/lyrc....\n",
       "255  https://www.googletagmanager.com/gtag/js?id=UA...\n",
       "256  https://pagead2.googlesyndication.com/pagead/j...\n",
       "\n",
       "[257 rows x 1 columns]"
      ]
     },
     "execution_count": 19,
     "metadata": {},
     "output_type": "execute_result"
    }
   ],
   "source": [
    "df1"
   ]
  },
  {
   "cell_type": "code",
   "execution_count": 26,
   "id": "b259b07c",
   "metadata": {},
   "outputs": [],
   "source": [
    "url=(re.findall(r'(lyrics\\S+\")', adele_songs_html))"
   ]
  },
  {
   "cell_type": "code",
   "execution_count": 27,
   "id": "448ae943",
   "metadata": {},
   "outputs": [
    {
     "data": {
      "text/plain": [
       "['lyrics.com/\"',\n",
       " 'lyrics/open-search.xml\"',\n",
       " 'lyrics.com/\"',\n",
       " 'lyrics.com/\\';\"',\n",
       " 'lyrics...\"',\n",
       " 'lyrics.com/\\';\"',\n",
       " 'lyrics.com/images/artist/861756_adele.png\"',\n",
       " 'lyrics.com/images/artist/861756_adele.png\"',\n",
       " 'lyrics.com/forgotpass.php\\';\"',\n",
       " 'lyrics.com/addlyric.php?aid=861756\\';\"',\n",
       " 'lyrics.com/images/artist/349078_beyonce.png\"',\n",
       " 'lyrics.com/images/artist/sub/53352_helena-barrington.png\"',\n",
       " 'lyrics.com/images/artist/sub/4122_michael-j.png\"',\n",
       " 'lyrics.com/images/artist/sub/52333_amalia-maldonado.png\"',\n",
       " 'lyrics.com/images/artist/sub/30381_the-immaculate-crows.png\"',\n",
       " 'lyrics.com/images/artist/sub/48424_don-jaymor.png\"',\n",
       " 'lyrics.com/images/artist/sub/54657_michael-frederick.png\"',\n",
       " 'lyrics.com/images/artist/sub/54680_dree-motion.png\"',\n",
       " 'lyrics.com/lyrics-quiz\"',\n",
       " 'lyrics.com/lyrics-quiz\"',\n",
       " 'lyricscom/lemhemhgkggcfkeepaanfpkbjnkgfhpi\"',\n",
       " 'lyricscom/lemhemhgkggcfkeepaanfpkbjnkgfhpi\"',\n",
       " 'lyricscom/lemhemhgkggcfkeepaanfpkbjnkgfhpi\\')\"',\n",
       " 'lyrics-com/\"',\n",
       " 'lyrics-com/\"',\n",
       " 'lyrics-com/\\'\"',\n",
       " 'lyrics.com/\"',\n",
       " 'lyrics.php\"',\n",
       " 'lyrics_api.php\"',\n",
       " 'lyrics-generator\"',\n",
       " 'lyrics.com/lyrics-quiz\"',\n",
       " 'lyrics-com/id1467868195\"',\n",
       " 'lyrics.com/\"',\n",
       " 'lyrics.com/\"',\n",
       " 'lyrics_dot_com\"',\n",
       " 'lyrics/js/onradio/inline.js?v=1.3.79\"',\n",
       " 'lyrics/js/lyrc.min.js?v=1.3.79\"']"
      ]
     },
     "execution_count": 27,
     "metadata": {},
     "output_type": "execute_result"
    }
   ],
   "source": [
    "url"
   ]
  },
  {
   "cell_type": "code",
   "execution_count": null,
   "id": "95820db7",
   "metadata": {},
   "outputs": [],
   "source": []
  },
  {
   "cell_type": "code",
   "execution_count": null,
   "id": "2fbf958e",
   "metadata": {},
   "outputs": [],
   "source": []
  },
  {
   "cell_type": "code",
   "execution_count": null,
   "id": "f98a536e",
   "metadata": {},
   "outputs": [],
   "source": []
  },
  {
   "cell_type": "code",
   "execution_count": null,
   "id": "0d1bcfe5",
   "metadata": {},
   "outputs": [],
   "source": []
  },
  {
   "cell_type": "code",
   "execution_count": null,
   "id": "fbb2c8ca",
   "metadata": {},
   "outputs": [],
   "source": []
  },
  {
   "cell_type": "code",
   "execution_count": null,
   "id": "a5b4ea14",
   "metadata": {},
   "outputs": [],
   "source": []
  },
  {
   "cell_type": "code",
   "execution_count": null,
   "id": "44958cb2",
   "metadata": {},
   "outputs": [],
   "source": []
  },
  {
   "cell_type": "code",
   "execution_count": null,
   "id": "a7053f15",
   "metadata": {},
   "outputs": [],
   "source": []
  },
  {
   "cell_type": "code",
   "execution_count": null,
   "id": "fd8505eb",
   "metadata": {},
   "outputs": [],
   "source": []
  },
  {
   "cell_type": "code",
   "execution_count": null,
   "id": "57c1484f",
   "metadata": {},
   "outputs": [],
   "source": []
  },
  {
   "cell_type": "code",
   "execution_count": null,
   "id": "63756a07",
   "metadata": {},
   "outputs": [],
   "source": []
  },
  {
   "cell_type": "code",
   "execution_count": null,
   "id": "e804aa45",
   "metadata": {},
   "outputs": [],
   "source": []
  },
  {
   "cell_type": "code",
   "execution_count": null,
   "id": "f0284112",
   "metadata": {},
   "outputs": [],
   "source": [
    "for i in range(10):\n",
    "    my_song_url=f'https://lyrics.com{short_list_adele[i]}'\n",
    "    response=requests.get(my_song_url)\n",
    "    my_song_html=response.text\n",
    "    song_number=re.findall('\\d+',short_list_adele[i])\n",
    "    #print(song_number)\n",
    "    with open (f\"{song_number}.txt\", \"w\", encoding='utf-8') as f:\n",
    "        f.write(my_song_html)\n",
    "    print(f'https://lyrics.com{short_list_adele[i]}')"
   ]
  },
  {
   "cell_type": "code",
   "execution_count": null,
   "id": "2b3e83ad",
   "metadata": {},
   "outputs": [],
   "source": [
    "dirs=[\"adele/\", \"beatles/\"]\n",
    "texts=[]\n",
    "for i in dirs:\n",
    "    files=os.listdir(i)\n",
    "    #print(i)\n",
    "    for file in files:\n",
    "        with open (i+file, 'r') as f:\n",
    "            text=f.read()\n",
    "            texts.append(text)"
   ]
  },
  {
   "cell_type": "code",
   "execution_count": 6,
   "id": "ecf3d26a",
   "metadata": {},
   "outputs": [
    {
     "name": "stdout",
     "output_type": "stream",
     "text": [
      "Collecting language_tool_python\n",
      "  Downloading language_tool_python-2.7.0-py3-none-any.whl (34 kB)\n",
      "Requirement already satisfied: tqdm in c:\\users\\guest1\\anaconda3\\lib\\site-packages (from language_tool_python) (4.62.3)\n",
      "Requirement already satisfied: requests in c:\\users\\guest1\\anaconda3\\lib\\site-packages (from language_tool_python) (2.27.1)\n",
      "Requirement already satisfied: idna<4,>=2.5 in c:\\users\\guest1\\anaconda3\\lib\\site-packages (from requests->language_tool_python) (3.2)\n",
      "Requirement already satisfied: urllib3<1.27,>=1.21.1 in c:\\users\\guest1\\anaconda3\\lib\\site-packages (from requests->language_tool_python) (1.26.7)\n",
      "Requirement already satisfied: certifi>=2017.4.17 in c:\\users\\guest1\\anaconda3\\lib\\site-packages (from requests->language_tool_python) (2021.10.8)\n",
      "Requirement already satisfied: charset-normalizer~=2.0.0 in c:\\users\\guest1\\anaconda3\\lib\\site-packages (from requests->language_tool_python) (2.0.4)\n",
      "Requirement already satisfied: colorama in c:\\users\\guest1\\anaconda3\\lib\\site-packages (from tqdm->language_tool_python) (0.4.4)\n",
      "Installing collected packages: language_tool_python\n",
      "Successfully installed language_tool_python-2.7.0\n"
     ]
    }
   ],
   "source": [
    "!pip install --upgrade language_tool_python"
   ]
  },
  {
   "cell_type": "code",
   "execution_count": 1,
   "id": "4beda116",
   "metadata": {},
   "outputs": [],
   "source": [
    "import language_tool_python\n"
   ]
  },
  {
   "cell_type": "code",
   "execution_count": 5,
   "id": "b9448de4",
   "metadata": {},
   "outputs": [
    {
     "name": "stdout",
     "output_type": "stream",
     "text": [
      "Requirement already satisfied: 3to2 in c:\\users\\guest1\\anaconda3\\lib\\site-packages (1.1.1)\n",
      "Collecting language-check"
     ]
    },
    {
     "name": "stderr",
     "output_type": "stream",
     "text": [
      "  error: subprocess-exited-with-error\n",
      "  \n",
      "  python setup.py bdist_wheel did not run successfully.\n",
      "  exit code: 1\n",
      "  \n",
      "  [36 lines of output]\n",
      "  Traceback (most recent call last):\n",
      "    File \"<string>\", line 2, in <module>\n",
      "    File \"<pip-setuptools-caller>\", line 34, in <module>\n",
      "    File \"C:\\Users\\Guest1\\AppData\\Local\\Temp\\pip-install-t0yockz_\\language-check_af334a62f9c14bc9bc05dc5ed5152393\\setup.py\", line 595, in <module>\n",
      "      sys.exit(main())\n",
      "    File \"C:\\Users\\Guest1\\AppData\\Local\\Temp\\pip-install-t0yockz_\\language-check_af334a62f9c14bc9bc05dc5ed5152393\\setup.py\", line 590, in main\n",
      "      run_setup_hooks(config)\n",
      "    File \"C:\\Users\\Guest1\\AppData\\Local\\Temp\\pip-install-t0yockz_\\language-check_af334a62f9c14bc9bc05dc5ed5152393\\setup.py\", line 561, in run_setup_hooks\n",
      "      language_tool_hook(config)\n",
      "    File \"C:\\Users\\Guest1\\AppData\\Local\\Temp\\pip-install-t0yockz_\\language-check_af334a62f9c14bc9bc05dc5ed5152393\\setup.py\", line 584, in language_tool_hook\n",
      "      download_lt()\n",
      "    File \"C:\\Users\\Guest1\\AppData\\Local\\Temp\\pip-install-t0yockz_\\language-check_af334a62f9c14bc9bc05dc5ed5152393\\download_lt.py\", line 128, in download_lt\n",
      "      with closing(urlopen(url)) as u:\n",
      "    File \"C:\\Users\\Guest1\\anaconda3\\lib\\urllib\\request.py\", line 214, in urlopen\n",
      "      return opener.open(url, data, timeout)\n",
      "    File \"C:\\Users\\Guest1\\anaconda3\\lib\\urllib\\request.py\", line 523, in open\n",
      "      response = meth(req, response)\n",
      "    File \"C:\\Users\\Guest1\\anaconda3\\lib\\urllib\\request.py\", line 632, in http_response\n",
      "      response = self.parent.error(\n",
      "    File \"C:\\Users\\Guest1\\anaconda3\\lib\\urllib\\request.py\", line 555, in error\n",
      "      result = self._call_chain(*args)\n",
      "    File \"C:\\Users\\Guest1\\anaconda3\\lib\\urllib\\request.py\", line 494, in _call_chain\n",
      "      result = func(*args)\n",
      "    File \"C:\\Users\\Guest1\\anaconda3\\lib\\urllib\\request.py\", line 747, in http_error_302\n",
      "      return self.parent.open(new, timeout=req.timeout)\n",
      "    File \"C:\\Users\\Guest1\\anaconda3\\lib\\urllib\\request.py\", line 523, in open\n",
      "      response = meth(req, response)\n",
      "    File \"C:\\Users\\Guest1\\anaconda3\\lib\\urllib\\request.py\", line 632, in http_response\n",
      "      response = self.parent.error(\n",
      "    File \"C:\\Users\\Guest1\\anaconda3\\lib\\urllib\\request.py\", line 561, in error\n",
      "      return self._call_chain(*args)\n",
      "    File \"C:\\Users\\Guest1\\anaconda3\\lib\\urllib\\request.py\", line 494, in _call_chain\n",
      "      result = func(*args)\n",
      "    File \"C:\\Users\\Guest1\\anaconda3\\lib\\urllib\\request.py\", line 641, in http_error_default\n",
      "      raise HTTPError(req.full_url, code, msg, hdrs, fp)\n",
      "  urllib.error.HTTPError: HTTP Error 403: Forbidden\n",
      "  [end of output]\n",
      "  \n",
      "  note: This error originates from a subprocess, and is likely not a problem with pip.\n",
      "  ERROR: Failed building wheel for language-check\n",
      "  error: subprocess-exited-with-error\n",
      "  \n",
      "  Running setup.py install for language-check did not run successfully.\n",
      "  exit code: 1\n",
      "  \n",
      "  [36 lines of output]\n",
      "  Traceback (most recent call last):\n",
      "    File \"<string>\", line 2, in <module>\n",
      "    File \"<pip-setuptools-caller>\", line 34, in <module>\n",
      "    File \"C:\\Users\\Guest1\\AppData\\Local\\Temp\\pip-install-t0yockz_\\language-check_af334a62f9c14bc9bc05dc5ed5152393\\setup.py\", line 595, in <module>\n",
      "      sys.exit(main())\n",
      "    File \"C:\\Users\\Guest1\\AppData\\Local\\Temp\\pip-install-t0yockz_\\language-check_af334a62f9c14bc9bc05dc5ed5152393\\setup.py\", line 590, in main\n",
      "      run_setup_hooks(config)\n",
      "    File \"C:\\Users\\Guest1\\AppData\\Local\\Temp\\pip-install-t0yockz_\\language-check_af334a62f9c14bc9bc05dc5ed5152393\\setup.py\", line 561, in run_setup_hooks\n",
      "      language_tool_hook(config)\n",
      "    File \"C:\\Users\\Guest1\\AppData\\Local\\Temp\\pip-install-t0yockz_\\language-check_af334a62f9c14bc9bc05dc5ed5152393\\setup.py\", line 584, in language_tool_hook\n",
      "      download_lt()\n",
      "    File \"C:\\Users\\Guest1\\AppData\\Local\\Temp\\pip-install-t0yockz_\\language-check_af334a62f9c14bc9bc05dc5ed5152393\\download_lt.py\", line 128, in download_lt\n",
      "      with closing(urlopen(url)) as u:\n",
      "    File \"C:\\Users\\Guest1\\anaconda3\\lib\\urllib\\request.py\", line 214, in urlopen\n",
      "      return opener.open(url, data, timeout)\n",
      "    File \"C:\\Users\\Guest1\\anaconda3\\lib\\urllib\\request.py\", line 523, in open\n",
      "      response = meth(req, response)\n",
      "    File \"C:\\Users\\Guest1\\anaconda3\\lib\\urllib\\request.py\", line 632, in http_response\n",
      "      response = self.parent.error(\n",
      "    File \"C:\\Users\\Guest1\\anaconda3\\lib\\urllib\\request.py\", line 555, in error\n",
      "      result = self._call_chain(*args)\n",
      "    File \"C:\\Users\\Guest1\\anaconda3\\lib\\urllib\\request.py\", line 494, in _call_chain\n",
      "      result = func(*args)\n",
      "    File \"C:\\Users\\Guest1\\anaconda3\\lib\\urllib\\request.py\", line 747, in http_error_302\n",
      "      return self.parent.open(new, timeout=req.timeout)\n",
      "    File \"C:\\Users\\Guest1\\anaconda3\\lib\\urllib\\request.py\", line 523, in open\n",
      "      response = meth(req, response)\n",
      "    File \"C:\\Users\\Guest1\\anaconda3\\lib\\urllib\\request.py\", line 632, in http_response\n",
      "      response = self.parent.error(\n",
      "    File \"C:\\Users\\Guest1\\anaconda3\\lib\\urllib\\request.py\", line 561, in error\n",
      "      return self._call_chain(*args)\n",
      "    File \"C:\\Users\\Guest1\\anaconda3\\lib\\urllib\\request.py\", line 494, in _call_chain\n",
      "      result = func(*args)\n",
      "    File \"C:\\Users\\Guest1\\anaconda3\\lib\\urllib\\request.py\", line 641, in http_error_default\n",
      "      raise HTTPError(req.full_url, code, msg, hdrs, fp)\n",
      "  urllib.error.HTTPError: HTTP Error 403: Forbidden\n",
      "  [end of output]\n",
      "  \n",
      "  note: This error originates from a subprocess, and is likely not a problem with pip.\n",
      "error: legacy-install-failure\n",
      "\n",
      "Encountered error while trying to install package.\n",
      "\n",
      "language-check\n",
      "\n",
      "note: This is an issue with the package mentioned above, not pip.\n",
      "hint: See above for output from the failure.\n"
     ]
    },
    {
     "name": "stdout",
     "output_type": "stream",
     "text": [
      "\n",
      "  Using cached language-check-1.1.tar.gz (33 kB)\n",
      "  Preparing metadata (setup.py): started\n",
      "  Preparing metadata (setup.py): finished with status 'done'\n",
      "Building wheels for collected packages: language-check\n",
      "  Building wheel for language-check (setup.py): started\n",
      "  Building wheel for language-check (setup.py): finished with status 'error'\n",
      "  Running setup.py clean for language-check\n",
      "Failed to build language-check\n",
      "Installing collected packages: language-check\n",
      "  Running setup.py install for language-check: started\n",
      "  Running setup.py install for language-check: finished with status 'error'\n"
     ]
    }
   ],
   "source": [
    "!pip install --upgrade 3to2\n",
    "\n",
    "!pip install --upgrade language-check"
   ]
  },
  {
   "cell_type": "code",
   "execution_count": 4,
   "id": "89275d3d",
   "metadata": {},
   "outputs": [
    {
     "ename": "ModuleNotFoundError",
     "evalue": "No module named 'grammar_check'",
     "output_type": "error",
     "traceback": [
      "\u001b[1;31m---------------------------------------------------------------------------\u001b[0m",
      "\u001b[1;31mModuleNotFoundError\u001b[0m                       Traceback (most recent call last)",
      "\u001b[1;32m~\\AppData\\Local\\Temp/ipykernel_7828/3079621851.py\u001b[0m in \u001b[0;36m<module>\u001b[1;34m\u001b[0m\n\u001b[1;32m----> 1\u001b[1;33m \u001b[1;32mimport\u001b[0m \u001b[0mgrammar_check\u001b[0m \u001b[1;32mas\u001b[0m \u001b[0mgc\u001b[0m\u001b[1;33m\u001b[0m\u001b[1;33m\u001b[0m\u001b[0m\n\u001b[0m",
      "\u001b[1;31mModuleNotFoundError\u001b[0m: No module named 'grammar_check'"
     ]
    }
   ],
   "source": [
    "import grammar_check as gc"
   ]
  },
  {
   "cell_type": "code",
   "execution_count": null,
   "id": "29f5f008",
   "metadata": {},
   "outputs": [],
   "source": []
  },
  {
   "cell_type": "code",
   "execution_count": 2,
   "id": "9c1a2098",
   "metadata": {},
   "outputs": [
    {
     "name": "stderr",
     "output_type": "stream",
     "text": [
      "Downloading LanguageTool 5.6: 100%|██████████| 220M/220M [01:22<00:00, 2.67MB/s] \n",
      "Unzipping C:\\Users\\Guest1\\AppData\\Local\\Temp\\tmpku7u5lma.zip to C:\\Users\\Guest1\\.cache\\language_tool_python.\n",
      "Downloaded https://www.languagetool.org/download/LanguageTool-5.6.zip to C:\\Users\\Guest1\\.cache\\language_tool_python.\n"
     ]
    },
    {
     "data": {
      "text/plain": [
       "8"
      ]
     },
     "execution_count": 2,
     "metadata": {},
     "output_type": "execute_result"
    }
   ],
   "source": [
    "\n",
    "tl = language_tool_python.LanguageTool('en-US')\n",
    "\n",
    "txt = \"good mooorning sirr and medam my namee anderen i am from amerecia !\"\n",
    "m = tl.check(txt)\n",
    "len(m)"
   ]
  },
  {
   "cell_type": "code",
   "execution_count": 10,
   "id": "8ebd5016",
   "metadata": {},
   "outputs": [
    {
     "ename": "ModuleNotFoundError",
     "evalue": "No java install detected. Please install java to use language-tool-python.",
     "output_type": "error",
     "traceback": [
      "\u001b[1;31m---------------------------------------------------------------------------\u001b[0m",
      "\u001b[1;31mModuleNotFoundError\u001b[0m                       Traceback (most recent call last)",
      "\u001b[1;32m~\\AppData\\Local\\Temp/ipykernel_9424/1177712971.py\u001b[0m in \u001b[0;36m<module>\u001b[1;34m\u001b[0m\n\u001b[1;32m----> 1\u001b[1;33m \u001b[0mtool\u001b[0m \u001b[1;33m=\u001b[0m \u001b[0mlanguage_tool_python\u001b[0m\u001b[1;33m.\u001b[0m\u001b[0mLanguageTool\u001b[0m\u001b[1;33m(\u001b[0m\u001b[1;34m'en-US'\u001b[0m\u001b[1;33m)\u001b[0m\u001b[1;33m\u001b[0m\u001b[1;33m\u001b[0m\u001b[0m\n\u001b[0m",
      "\u001b[1;32m~\\anaconda3\\lib\\site-packages\\language_tool_python\\server.py\u001b[0m in \u001b[0;36m__init__\u001b[1;34m(self, language, motherTongue, remote_server, newSpellings, new_spellings_persist, host, config)\u001b[0m\n\u001b[0;32m     60\u001b[0m             \u001b[0mself\u001b[0m\u001b[1;33m.\u001b[0m\u001b[0m_update_remote_server_config\u001b[0m\u001b[1;33m(\u001b[0m\u001b[0mself\u001b[0m\u001b[1;33m.\u001b[0m\u001b[0m_url\u001b[0m\u001b[1;33m)\u001b[0m\u001b[1;33m\u001b[0m\u001b[1;33m\u001b[0m\u001b[0m\n\u001b[0;32m     61\u001b[0m         \u001b[1;32melif\u001b[0m \u001b[1;32mnot\u001b[0m \u001b[0mself\u001b[0m\u001b[1;33m.\u001b[0m\u001b[0m_server_is_alive\u001b[0m\u001b[1;33m(\u001b[0m\u001b[1;33m)\u001b[0m\u001b[1;33m:\u001b[0m\u001b[1;33m\u001b[0m\u001b[1;33m\u001b[0m\u001b[0m\n\u001b[1;32m---> 62\u001b[1;33m             \u001b[0mself\u001b[0m\u001b[1;33m.\u001b[0m\u001b[0m_start_server_on_free_port\u001b[0m\u001b[1;33m(\u001b[0m\u001b[1;33m)\u001b[0m\u001b[1;33m\u001b[0m\u001b[1;33m\u001b[0m\u001b[0m\n\u001b[0m\u001b[0;32m     63\u001b[0m         \u001b[1;32mif\u001b[0m \u001b[0mlanguage\u001b[0m \u001b[1;32mis\u001b[0m \u001b[1;32mNone\u001b[0m\u001b[1;33m:\u001b[0m\u001b[1;33m\u001b[0m\u001b[1;33m\u001b[0m\u001b[0m\n\u001b[0;32m     64\u001b[0m             \u001b[1;32mtry\u001b[0m\u001b[1;33m:\u001b[0m\u001b[1;33m\u001b[0m\u001b[1;33m\u001b[0m\u001b[0m\n",
      "\u001b[1;32m~\\anaconda3\\lib\\site-packages\\language_tool_python\\server.py\u001b[0m in \u001b[0;36m_start_server_on_free_port\u001b[1;34m(self)\u001b[0m\n\u001b[0;32m    236\u001b[0m             \u001b[0mself\u001b[0m\u001b[1;33m.\u001b[0m\u001b[0m_url\u001b[0m \u001b[1;33m=\u001b[0m \u001b[1;34m'http://{}:{}/v2/'\u001b[0m\u001b[1;33m.\u001b[0m\u001b[0mformat\u001b[0m\u001b[1;33m(\u001b[0m\u001b[0mself\u001b[0m\u001b[1;33m.\u001b[0m\u001b[0m_host\u001b[0m\u001b[1;33m,\u001b[0m \u001b[0mself\u001b[0m\u001b[1;33m.\u001b[0m\u001b[0m_port\u001b[0m\u001b[1;33m)\u001b[0m\u001b[1;33m\u001b[0m\u001b[1;33m\u001b[0m\u001b[0m\n\u001b[0;32m    237\u001b[0m             \u001b[1;32mtry\u001b[0m\u001b[1;33m:\u001b[0m\u001b[1;33m\u001b[0m\u001b[1;33m\u001b[0m\u001b[0m\n\u001b[1;32m--> 238\u001b[1;33m                 \u001b[0mself\u001b[0m\u001b[1;33m.\u001b[0m\u001b[0m_start_local_server\u001b[0m\u001b[1;33m(\u001b[0m\u001b[1;33m)\u001b[0m\u001b[1;33m\u001b[0m\u001b[1;33m\u001b[0m\u001b[0m\n\u001b[0m\u001b[0;32m    239\u001b[0m                 \u001b[1;32mbreak\u001b[0m\u001b[1;33m\u001b[0m\u001b[1;33m\u001b[0m\u001b[0m\n\u001b[0;32m    240\u001b[0m             \u001b[1;32mexcept\u001b[0m \u001b[0mServerError\u001b[0m\u001b[1;33m:\u001b[0m\u001b[1;33m\u001b[0m\u001b[1;33m\u001b[0m\u001b[0m\n",
      "\u001b[1;32m~\\anaconda3\\lib\\site-packages\\language_tool_python\\server.py\u001b[0m in \u001b[0;36m_start_local_server\u001b[1;34m(self)\u001b[0m\n\u001b[0;32m    246\u001b[0m     \u001b[1;32mdef\u001b[0m \u001b[0m_start_local_server\u001b[0m\u001b[1;33m(\u001b[0m\u001b[0mself\u001b[0m\u001b[1;33m)\u001b[0m\u001b[1;33m:\u001b[0m\u001b[1;33m\u001b[0m\u001b[1;33m\u001b[0m\u001b[0m\n\u001b[0;32m    247\u001b[0m         \u001b[1;31m# Before starting local server, download language tool if needed.\u001b[0m\u001b[1;33m\u001b[0m\u001b[1;33m\u001b[0m\u001b[0m\n\u001b[1;32m--> 248\u001b[1;33m         \u001b[0mdownload_lt\u001b[0m\u001b[1;33m(\u001b[0m\u001b[1;33m)\u001b[0m\u001b[1;33m\u001b[0m\u001b[1;33m\u001b[0m\u001b[0m\n\u001b[0m\u001b[0;32m    249\u001b[0m         \u001b[0merr\u001b[0m \u001b[1;33m=\u001b[0m \u001b[1;32mNone\u001b[0m\u001b[1;33m\u001b[0m\u001b[1;33m\u001b[0m\u001b[0m\n\u001b[0;32m    250\u001b[0m         \u001b[1;32mtry\u001b[0m\u001b[1;33m:\u001b[0m\u001b[1;33m\u001b[0m\u001b[1;33m\u001b[0m\u001b[0m\n",
      "\u001b[1;32m~\\anaconda3\\lib\\site-packages\\language_tool_python\\download_lt.py\u001b[0m in \u001b[0;36mdownload_lt\u001b[1;34m(update)\u001b[0m\n\u001b[0;32m    142\u001b[0m     ]\n\u001b[0;32m    143\u001b[0m \u001b[1;33m\u001b[0m\u001b[0m\n\u001b[1;32m--> 144\u001b[1;33m     \u001b[0mconfirm_java_compatibility\u001b[0m\u001b[1;33m(\u001b[0m\u001b[1;33m)\u001b[0m\u001b[1;33m\u001b[0m\u001b[1;33m\u001b[0m\u001b[0m\n\u001b[0m\u001b[0;32m    145\u001b[0m     \u001b[0mversion\u001b[0m \u001b[1;33m=\u001b[0m \u001b[0mLATEST_VERSION\u001b[0m\u001b[1;33m\u001b[0m\u001b[1;33m\u001b[0m\u001b[0m\n\u001b[0;32m    146\u001b[0m     \u001b[0mfilename\u001b[0m \u001b[1;33m=\u001b[0m \u001b[0mFILENAME\u001b[0m\u001b[1;33m.\u001b[0m\u001b[0mformat\u001b[0m\u001b[1;33m(\u001b[0m\u001b[0mversion\u001b[0m\u001b[1;33m=\u001b[0m\u001b[0mversion\u001b[0m\u001b[1;33m)\u001b[0m\u001b[1;33m\u001b[0m\u001b[1;33m\u001b[0m\u001b[0m\n",
      "\u001b[1;32m~\\anaconda3\\lib\\site-packages\\language_tool_python\\download_lt.py\u001b[0m in \u001b[0;36mconfirm_java_compatibility\u001b[1;34m()\u001b[0m\n\u001b[0;32m     73\u001b[0m         \u001b[1;31m# found because of a PATHEXT-related issue\u001b[0m\u001b[1;33m\u001b[0m\u001b[1;33m\u001b[0m\u001b[0m\n\u001b[0;32m     74\u001b[0m         \u001b[1;31m# (https://bugs.python.org/issue2200).\u001b[0m\u001b[1;33m\u001b[0m\u001b[1;33m\u001b[0m\u001b[0m\n\u001b[1;32m---> 75\u001b[1;33m         \u001b[1;32mraise\u001b[0m \u001b[0mModuleNotFoundError\u001b[0m\u001b[1;33m(\u001b[0m\u001b[1;34m'No java install detected. Please install java to use language-tool-python.'\u001b[0m\u001b[1;33m)\u001b[0m\u001b[1;33m\u001b[0m\u001b[1;33m\u001b[0m\u001b[0m\n\u001b[0m\u001b[0;32m     76\u001b[0m \u001b[1;33m\u001b[0m\u001b[0m\n\u001b[0;32m     77\u001b[0m     output = subprocess.check_output([java_path, '-version'],\n",
      "\u001b[1;31mModuleNotFoundError\u001b[0m: No java install detected. Please install java to use language-tool-python."
     ]
    }
   ],
   "source": [
    "tool = language_tool_python.LanguageTool('en-US')"
   ]
  },
  {
   "cell_type": "code",
   "execution_count": 3,
   "id": "f095c28b",
   "metadata": {},
   "outputs": [
    {
     "ename": "NameError",
     "evalue": "name 'tool' is not defined",
     "output_type": "error",
     "traceback": [
      "\u001b[1;31m---------------------------------------------------------------------------\u001b[0m",
      "\u001b[1;31mNameError\u001b[0m                                 Traceback (most recent call last)",
      "\u001b[1;32m~\\AppData\\Local\\Temp/ipykernel_7828/2679871512.py\u001b[0m in \u001b[0;36m<module>\u001b[1;34m\u001b[0m\n\u001b[0;32m      3\u001b[0m \u001b[1;33m\u001b[0m\u001b[0m\n\u001b[0;32m      4\u001b[0m \u001b[1;31m# get the matches\u001b[0m\u001b[1;33m\u001b[0m\u001b[1;33m\u001b[0m\u001b[0m\n\u001b[1;32m----> 5\u001b[1;33m \u001b[0mmatches\u001b[0m \u001b[1;33m=\u001b[0m \u001b[0mtool\u001b[0m\u001b[1;33m.\u001b[0m\u001b[0mcheck\u001b[0m\u001b[1;33m(\u001b[0m\u001b[0mtext\u001b[0m\u001b[1;33m)\u001b[0m\u001b[1;33m\u001b[0m\u001b[1;33m\u001b[0m\u001b[0m\n\u001b[0m\u001b[0;32m      6\u001b[0m \u001b[1;33m\u001b[0m\u001b[0m\n\u001b[0;32m      7\u001b[0m \u001b[0mmatches\u001b[0m\u001b[1;33m\u001b[0m\u001b[1;33m\u001b[0m\u001b[0m\n",
      "\u001b[1;31mNameError\u001b[0m: name 'tool' is not defined"
     ]
    }
   ],
   "source": [
    "text = \"\"\"LanguageTool offers spell and grammar checking. Just paste your text here and click the 'Check Text' button. Click the colored phrases for details on potential errors. or use this text too see an few of of the problems that LanguageTool can detecd. What do you thinks of grammar checkers? Please not that they are not perfect. Style issues get a blue marker: It's 5 P.M. in the afternoon. The weather was nice on Thursday, 27 June 2017\"\"\"\n",
    " \n",
    " \n",
    "# get the matches\n",
    "matches = tool.check(text)\n",
    " \n",
    "matches"
   ]
  },
  {
   "cell_type": "code",
   "execution_count": null,
   "id": "f81b92a1",
   "metadata": {},
   "outputs": [],
   "source": []
  },
  {
   "cell_type": "code",
   "execution_count": 142,
   "id": "8070acf0",
   "metadata": {},
   "outputs": [],
   "source": [
    "import requests\n",
    "import json"
   ]
  },
  {
   "cell_type": "code",
   "execution_count": 143,
   "id": "6117693f",
   "metadata": {},
   "outputs": [],
   "source": [
    "api_key = \"964c5a4bba744df882cd962c498d860d\"\n",
    "example_text = \"Hollo, wrld\" # the text to be spell-checked\n",
    "endpoint = \"https://api.bing.microsoft.com/v7.0/SpellCheck\""
   ]
  },
  {
   "cell_type": "code",
   "execution_count": 144,
   "id": "b5f3bc01",
   "metadata": {},
   "outputs": [],
   "source": [
    "data = {'text': example_text}"
   ]
  },
  {
   "cell_type": "code",
   "execution_count": 145,
   "id": "ae171d8e",
   "metadata": {},
   "outputs": [],
   "source": [
    "params = {\n",
    "    'mkt':'en-us',\n",
    "    'mode':'proof'\n",
    "    }"
   ]
  },
  {
   "cell_type": "code",
   "execution_count": 146,
   "id": "cab7a48b",
   "metadata": {},
   "outputs": [],
   "source": [
    "headers = {\n",
    "    'Content-Type': 'application/x-www-form-urlencoded',\n",
    "    'Ocp-Apim-Subscription-Key': api_key,\n",
    "    }"
   ]
  },
  {
   "cell_type": "code",
   "execution_count": 147,
   "id": "0a8ae00d",
   "metadata": {},
   "outputs": [],
   "source": [
    "headers = {\n",
    "    'Content-Type': 'application/x-www-form-urlencoded',\n",
    "    'Ocp-Apim-Subscription-Key': api_key,\n",
    "    }"
   ]
  },
  {
   "cell_type": "code",
   "execution_count": 148,
   "id": "437a24bf",
   "metadata": {},
   "outputs": [],
   "source": [
    "response = requests.post(endpoint, headers=headers, params=params, data=data)"
   ]
  },
  {
   "cell_type": "code",
   "execution_count": 149,
   "id": "fadd026c",
   "metadata": {},
   "outputs": [
    {
     "name": "stdout",
     "output_type": "stream",
     "text": [
      "{\n",
      "    \"_type\": \"SpellCheck\",\n",
      "    \"flaggedTokens\": [\n",
      "        {\n",
      "            \"offset\": 0,\n",
      "            \"token\": \"Hollo\",\n",
      "            \"type\": \"UnknownToken\",\n",
      "            \"suggestions\": [\n",
      "                {\n",
      "                    \"suggestion\": \"Hello\",\n",
      "                    \"score\": 0.9150883204586714\n",
      "                },\n",
      "                {\n",
      "                    \"suggestion\": \"Hollow\",\n",
      "                    \"score\": 0.7866692176934047\n",
      "                }\n",
      "            ]\n",
      "        },\n",
      "        {\n",
      "            \"offset\": 7,\n",
      "            \"token\": \"wrld\",\n",
      "            \"type\": \"UnknownToken\",\n",
      "            \"suggestions\": [\n",
      "                {\n",
      "                    \"suggestion\": \"world\",\n",
      "                    \"score\": 0.9150883204586714\n",
      "                }\n",
      "            ]\n",
      "        }\n",
      "    ]\n",
      "}\n"
     ]
    }
   ],
   "source": [
    "json_response = response.json()\n",
    "print(json.dumps(json_response, indent=4))"
   ]
  },
  {
   "cell_type": "code",
   "execution_count": null,
   "id": "131ffdf4",
   "metadata": {},
   "outputs": [],
   "source": []
  },
  {
   "cell_type": "code",
   "execution_count": 39,
   "id": "b6f1d341",
   "metadata": {},
   "outputs": [
    {
     "name": "stdout",
     "output_type": "stream",
     "text": [
      "Requirement already satisfied: pyspellchecker in c:\\users\\guest1\\anaconda3\\lib\\site-packages (0.6.3)\n",
      "Requirement already satisfied: textblob in c:\\users\\guest1\\anaconda3\\lib\\site-packages (0.17.1)\n",
      "Requirement already satisfied: nltk>=3.1 in c:\\users\\guest1\\anaconda3\\lib\\site-packages (from textblob) (3.6.5)\n",
      "Requirement already satisfied: click in c:\\users\\guest1\\anaconda3\\lib\\site-packages (from nltk>=3.1->textblob) (8.0.3)\n",
      "Requirement already satisfied: joblib in c:\\users\\guest1\\anaconda3\\lib\\site-packages (from nltk>=3.1->textblob) (1.1.0)\n",
      "Requirement already satisfied: regex>=2021.8.3 in c:\\users\\guest1\\anaconda3\\lib\\site-packages (from nltk>=3.1->textblob) (2021.8.3)\n",
      "Requirement already satisfied: tqdm in c:\\users\\guest1\\anaconda3\\lib\\site-packages (from nltk>=3.1->textblob) (4.62.3)\n",
      "Requirement already satisfied: colorama in c:\\users\\guest1\\anaconda3\\lib\\site-packages (from click->nltk>=3.1->textblob) (0.4.4)\n",
      "Collecting autocorrect\n",
      "  Downloading autocorrect-2.6.1.tar.gz (622 kB)\n",
      "     ------------------------------------ 622.8/622.8 KB 739.8 kB/s eta 0:00:00\n",
      "  Preparing metadata (setup.py): started\n",
      "  Preparing metadata (setup.py): finished with status 'done'\n",
      "Building wheels for collected packages: autocorrect\n",
      "  Building wheel for autocorrect (setup.py): started\n",
      "  Building wheel for autocorrect (setup.py): finished with status 'done'\n",
      "  Created wheel for autocorrect: filename=autocorrect-2.6.1-py3-none-any.whl size=622382 sha256=c487cf448cecbe2b2300999e944e36b3a6c545fe624d25eb157bd192fa25097d\n",
      "  Stored in directory: c:\\users\\guest1\\appdata\\local\\pip\\cache\\wheels\\ab\\0f\\23\\3c010c3fd877b962146e7765f9e9b08026cac8b035094c5750\n",
      "Successfully built autocorrect\n",
      "Installing collected packages: autocorrect\n",
      "Successfully installed autocorrect-2.6.1\n",
      "Collecting pattern\n",
      "  Downloading Pattern-3.6.0.tar.gz (22.2 MB)\n",
      "     ---------------------------------------- 22.2/22.2 MB 1.9 MB/s eta 0:00:00\n",
      "  Preparing metadata (setup.py): started\n",
      "  Preparing metadata (setup.py): finished with status 'done'\n",
      "Requirement already satisfied: future in c:\\users\\guest1\\anaconda3\\lib\\site-packages (from pattern) (0.18.2)\n",
      "Collecting backports.csv\n",
      "  Downloading backports.csv-1.0.7-py2.py3-none-any.whl (12 kB)\n",
      "Collecting mysqlclient\n",
      "  Downloading mysqlclient-2.1.0-cp39-cp39-win_amd64.whl (180 kB)\n",
      "     -------------------------------------- 180.4/180.4 KB 1.5 MB/s eta 0:00:00\n",
      "Requirement already satisfied: beautifulsoup4 in c:\\users\\guest1\\anaconda3\\lib\\site-packages (from pattern) (4.10.0)\n",
      "Requirement already satisfied: lxml in c:\\users\\guest1\\anaconda3\\lib\\site-packages (from pattern) (4.6.3)\n",
      "Collecting feedparser\n",
      "  Downloading feedparser-6.0.8-py3-none-any.whl (81 kB)\n",
      "     ---------------------------------------- 81.0/81.0 KB 2.2 MB/s eta 0:00:00\n",
      "Collecting pdfminer.six\n",
      "  Downloading pdfminer.six-20220319-py3-none-any.whl (5.6 MB)\n",
      "     ---------------------------------------- 5.6/5.6 MB 2.0 MB/s eta 0:00:00\n",
      "Requirement already satisfied: numpy in c:\\users\\guest1\\anaconda3\\lib\\site-packages (from pattern) (1.20.3)\n",
      "Requirement already satisfied: scipy in c:\\users\\guest1\\anaconda3\\lib\\site-packages (from pattern) (1.7.3)\n",
      "Requirement already satisfied: nltk in c:\\users\\guest1\\anaconda3\\lib\\site-packages (from pattern) (3.6.5)\n",
      "Collecting python-docx\n",
      "  Downloading python-docx-0.8.11.tar.gz (5.6 MB)\n",
      "     ---------------------------------------- 5.6/5.6 MB 1.8 MB/s eta 0:00:00\n",
      "  Preparing metadata (setup.py): started\n",
      "  Preparing metadata (setup.py): finished with status 'done'\n",
      "Collecting cherrypy\n",
      "  Downloading CherryPy-18.6.1-py2.py3-none-any.whl (419 kB)\n",
      "     -------------------------------------- 419.9/419.9 KB 2.6 MB/s eta 0:00:00\n",
      "Requirement already satisfied: requests in c:\\users\\guest1\\anaconda3\\lib\\site-packages (from pattern) (2.27.1)\n",
      "Requirement already satisfied: soupsieve>1.2 in c:\\users\\guest1\\anaconda3\\lib\\site-packages (from beautifulsoup4->pattern) (2.2.1)\n",
      "Collecting portend>=2.1.1\n",
      "  Downloading portend-3.1.0-py3-none-any.whl (5.3 kB)\n",
      "Collecting cheroot>=8.2.1\n",
      "  Downloading cheroot-8.6.0-py2.py3-none-any.whl (104 kB)\n",
      "     -------------------------------------- 104.7/104.7 KB 1.5 MB/s eta 0:00:00\n",
      "Collecting zc.lockfile\n",
      "  Downloading zc.lockfile-2.0-py2.py3-none-any.whl (9.7 kB)\n",
      "Requirement already satisfied: more-itertools in c:\\users\\guest1\\anaconda3\\lib\\site-packages (from cherrypy->pattern) (8.10.0)\n",
      "Requirement already satisfied: pywin32>=227 in c:\\users\\guest1\\anaconda3\\lib\\site-packages (from cherrypy->pattern) (228)\n",
      "Collecting jaraco.collections\n",
      "  Downloading jaraco.collections-3.5.1-py3-none-any.whl (10 kB)\n",
      "Collecting sgmllib3k\n",
      "  Downloading sgmllib3k-1.0.0.tar.gz (5.8 kB)\n",
      "  Preparing metadata (setup.py): started\n",
      "  Preparing metadata (setup.py): finished with status 'done'\n",
      "Requirement already satisfied: click in c:\\users\\guest1\\anaconda3\\lib\\site-packages (from nltk->pattern) (8.0.3)\n",
      "Requirement already satisfied: joblib in c:\\users\\guest1\\anaconda3\\lib\\site-packages (from nltk->pattern) (1.1.0)\n",
      "Requirement already satisfied: regex>=2021.8.3 in c:\\users\\guest1\\anaconda3\\lib\\site-packages (from nltk->pattern) (2021.8.3)\n",
      "Requirement already satisfied: tqdm in c:\\users\\guest1\\anaconda3\\lib\\site-packages (from nltk->pattern) (4.62.3)\n",
      "Requirement already satisfied: cryptography in c:\\users\\guest1\\anaconda3\\lib\\site-packages (from pdfminer.six->pattern) (3.4.8)\n",
      "Requirement already satisfied: chardet in c:\\users\\guest1\\anaconda3\\lib\\site-packages (from pdfminer.six->pattern) (4.0.0)\n",
      "Requirement already satisfied: charset-normalizer~=2.0.0 in c:\\users\\guest1\\anaconda3\\lib\\site-packages (from requests->pattern) (2.0.4)\n",
      "Requirement already satisfied: urllib3<1.27,>=1.21.1 in c:\\users\\guest1\\anaconda3\\lib\\site-packages (from requests->pattern) (1.26.7)\n",
      "Requirement already satisfied: idna<4,>=2.5 in c:\\users\\guest1\\anaconda3\\lib\\site-packages (from requests->pattern) (3.2)\n",
      "Requirement already satisfied: certifi>=2017.4.17 in c:\\users\\guest1\\anaconda3\\lib\\site-packages (from requests->pattern) (2021.10.8)\n",
      "Requirement already satisfied: six>=1.11.0 in c:\\users\\guest1\\anaconda3\\lib\\site-packages (from cheroot>=8.2.1->cherrypy->pattern) (1.16.0)\n",
      "Collecting jaraco.functools\n",
      "  Downloading jaraco.functools-3.5.0-py3-none-any.whl (7.0 kB)\n",
      "Collecting tempora>=1.8\n",
      "  Downloading tempora-5.0.1-py3-none-any.whl (15 kB)\n",
      "Requirement already satisfied: colorama in c:\\users\\guest1\\anaconda3\\lib\\site-packages (from click->nltk->pattern) (0.4.4)\n",
      "Requirement already satisfied: cffi>=1.12 in c:\\users\\guest1\\anaconda3\\lib\\site-packages (from cryptography->pdfminer.six->pattern) (1.14.6)\n",
      "Collecting jaraco.text\n",
      "  Downloading jaraco.text-3.7.0-py3-none-any.whl (8.6 kB)\n",
      "Collecting jaraco.classes\n",
      "  Downloading jaraco.classes-3.2.1-py3-none-any.whl (5.6 kB)\n",
      "Requirement already satisfied: setuptools in c:\\users\\guest1\\anaconda3\\lib\\site-packages (from zc.lockfile->cherrypy->pattern) (60.10.0)\n",
      "Requirement already satisfied: pycparser in c:\\users\\guest1\\anaconda3\\lib\\site-packages (from cffi>=1.12->cryptography->pdfminer.six->pattern) (2.20)\n",
      "Requirement already satisfied: pytz in c:\\users\\guest1\\anaconda3\\lib\\site-packages (from tempora>=1.8->portend>=2.1.1->cherrypy->pattern) (2021.3)\n",
      "Collecting jaraco.context>=4.1\n",
      "  Downloading jaraco.context-4.1.1-py3-none-any.whl (4.4 kB)\n",
      "Building wheels for collected packages: pattern, python-docx, sgmllib3k\n",
      "  Building wheel for pattern (setup.py): started\n",
      "  Building wheel for pattern (setup.py): finished with status 'done'\n",
      "  Created wheel for pattern: filename=Pattern-3.6-py3-none-any.whl size=22332721 sha256=6f426cf5fad1b6d7e7b36e42313d2969ff92c0c1ec036d8cb71448a907db1756\n",
      "  Stored in directory: c:\\users\\guest1\\appdata\\local\\pip\\cache\\wheels\\50\\33\\f3\\ea00b80d50c09f210588bda15ec60bdb38b289b452577cd5c3\n",
      "  Building wheel for python-docx (setup.py): started\n",
      "  Building wheel for python-docx (setup.py): finished with status 'done'\n",
      "  Created wheel for python-docx: filename=python_docx-0.8.11-py3-none-any.whl size=184507 sha256=43513dc01d0cadbbe90da04cdd49ac836d555e06d40aff4aa230908b33443bf3\n",
      "  Stored in directory: c:\\users\\guest1\\appdata\\local\\pip\\cache\\wheels\\83\\8b\\7c\\09ae60c42c7ba4ed2dddaf2b8b9186cb105255856d6ed3dba5\n",
      "  Building wheel for sgmllib3k (setup.py): started\n",
      "  Building wheel for sgmllib3k (setup.py): finished with status 'done'\n",
      "  Created wheel for sgmllib3k: filename=sgmllib3k-1.0.0-py3-none-any.whl size=6066 sha256=519f2417f1a842e733cfce17f3191f6eb4ac5abb877487cacc5c875b4a106b92\n",
      "  Stored in directory: c:\\users\\guest1\\appdata\\local\\pip\\cache\\wheels\\65\\7a\\a7\\78c287f64e401255dff4c13fdbc672fed5efbfd21c530114e1\n",
      "Successfully built pattern python-docx sgmllib3k\n",
      "Installing collected packages: sgmllib3k, backports.csv, zc.lockfile, python-docx, mysqlclient, jaraco.functools, jaraco.context, jaraco.classes, feedparser, tempora, jaraco.text, cheroot, portend, pdfminer.six, jaraco.collections, cherrypy, pattern\n",
      "Successfully installed backports.csv-1.0.7 cheroot-8.6.0 cherrypy-18.6.1 feedparser-6.0.8 jaraco.classes-3.2.1 jaraco.collections-3.5.1 jaraco.context-4.1.1 jaraco.functools-3.5.0 jaraco.text-3.7.0 mysqlclient-2.1.0 pattern-3.6 pdfminer.six-20220319 portend-3.1.0 python-docx-0.8.11 sgmllib3k-1.0.0 tempora-5.0.1 zc.lockfile-2.0\n"
     ]
    }
   ],
   "source": [
    "!pip install pyspellchecker\n",
    "!pip install textblob\n",
    "!pip install autocorrect\n",
    "!pip install pattern"
   ]
  },
  {
   "cell_type": "code",
   "execution_count": 150,
   "id": "426de7f1",
   "metadata": {},
   "outputs": [],
   "source": [
    "from spellchecker import SpellChecker"
   ]
  },
  {
   "cell_type": "code",
   "execution_count": 151,
   "id": "ec297a42",
   "metadata": {},
   "outputs": [
    {
     "data": {
      "text/plain": [
       "['_SpellChecker__edit_distance_alt',\n",
       " '__class__',\n",
       " '__contains__',\n",
       " '__delattr__',\n",
       " '__dir__',\n",
       " '__doc__',\n",
       " '__eq__',\n",
       " '__format__',\n",
       " '__ge__',\n",
       " '__getattribute__',\n",
       " '__getitem__',\n",
       " '__gt__',\n",
       " '__hash__',\n",
       " '__init__',\n",
       " '__init_subclass__',\n",
       " '__iter__',\n",
       " '__le__',\n",
       " '__lt__',\n",
       " '__module__',\n",
       " '__ne__',\n",
       " '__new__',\n",
       " '__reduce__',\n",
       " '__reduce_ex__',\n",
       " '__repr__',\n",
       " '__setattr__',\n",
       " '__sizeof__',\n",
       " '__slots__',\n",
       " '__str__',\n",
       " '__subclasshook__',\n",
       " '_case_sensitive',\n",
       " '_check_if_should_check',\n",
       " '_distance',\n",
       " '_tokenizer',\n",
       " '_word_frequency',\n",
       " 'candidates',\n",
       " 'correction',\n",
       " 'distance',\n",
       " 'edit_distance_1',\n",
       " 'edit_distance_2',\n",
       " 'export',\n",
       " 'known',\n",
       " 'languages',\n",
       " 'split_words',\n",
       " 'unknown',\n",
       " 'word_frequency',\n",
       " 'word_probability',\n",
       " 'word_usage_frequency']"
      ]
     },
     "execution_count": 151,
     "metadata": {},
     "output_type": "execute_result"
    }
   ],
   "source": [
    "dir(SpellChecker)"
   ]
  },
  {
   "cell_type": "code",
   "execution_count": 152,
   "id": "0763c3da",
   "metadata": {},
   "outputs": [],
   "source": [
    "spell=SpellChecker()"
   ]
  },
  {
   "cell_type": "code",
   "execution_count": 153,
   "id": "032a887e",
   "metadata": {},
   "outputs": [],
   "source": [
    "text=\"Hollo wrld\""
   ]
  },
  {
   "cell_type": "code",
   "execution_count": 156,
   "id": "a63f60d7",
   "metadata": {},
   "outputs": [],
   "source": [
    "docx=['calandar', 'misspel', 'necessary','bussiness', 'know']"
   ]
  },
  {
   "cell_type": "code",
   "execution_count": 157,
   "id": "773812f4",
   "metadata": {},
   "outputs": [
    {
     "name": "stdout",
     "output_type": "stream",
     "text": [
      "calandar:calendar\n",
      "misspel:misspell\n",
      "necessary:necessary\n",
      "bussiness:bussiness\n",
      "know:know\n"
     ]
    }
   ],
   "source": [
    "for word in docx:\n",
    "    print(f'{word}:{spell.correction(word)}')"
   ]
  },
  {
   "cell_type": "code",
   "execution_count": 158,
   "id": "25563b84",
   "metadata": {},
   "outputs": [
    {
     "name": "stdout",
     "output_type": "stream",
     "text": [
      "calandar:{'calendar'}\n",
      "misspel:{'misspell', 'misspelt'}\n",
      "necessary:{'necessary'}\n",
      "bussiness:{'bussiness'}\n",
      "know:{'know'}\n"
     ]
    }
   ],
   "source": [
    "for word in docx:\n",
    "    print(f'{word}:{spell.candidates(word)}')"
   ]
  },
  {
   "cell_type": "code",
   "execution_count": null,
   "id": "3a4bc06f",
   "metadata": {},
   "outputs": [],
   "source": []
  },
  {
   "cell_type": "code",
   "execution_count": null,
   "id": "518a6a9c",
   "metadata": {},
   "outputs": [],
   "source": []
  },
  {
   "cell_type": "code",
   "execution_count": null,
   "id": "31d93f32",
   "metadata": {},
   "outputs": [],
   "source": []
  },
  {
   "cell_type": "code",
   "execution_count": null,
   "id": "cb9e65c4",
   "metadata": {},
   "outputs": [],
   "source": []
  }
 ],
 "metadata": {
  "kernelspec": {
   "display_name": "Python 3 (ipykernel)",
   "language": "python",
   "name": "python3"
  },
  "language_info": {
   "codemirror_mode": {
    "name": "ipython",
    "version": 3
   },
   "file_extension": ".py",
   "mimetype": "text/x-python",
   "name": "python",
   "nbconvert_exporter": "python",
   "pygments_lexer": "ipython3",
   "version": "3.9.7"
  }
 },
 "nbformat": 4,
 "nbformat_minor": 5
}
