{
 "cells": [
  {
   "cell_type": "markdown",
   "metadata": {},
   "source": [
    "### Import all functions and libraries from `wordle.py`"
   ]
  },
  {
   "cell_type": "code",
   "execution_count": 1,
   "metadata": {},
   "outputs": [
    {
     "name": "stdout",
     "output_type": "stream",
     "text": [
      "input\n"
     ]
    }
   ],
   "source": [
    "from wordle import *"
   ]
  },
  {
   "cell_type": "markdown",
   "metadata": {},
   "source": [
    "### Run `play_wordle()` to start a game\n",
    "- Code will randomly select a 5-letter word from the English Dictionary\n",
    "- You have six tries to guess correctly\n",
    "- If you guess the position of a letter in the word it will turn `GREEN`\n",
    "- If you guess a letter, but it is in the wron position it turns `ORANGE`\n",
    "- If the letter does not exist, it will become `lower case black ink`\n",
    "\n",
    "#### GOOD LUCK, NERDS!"
   ]
  },
  {
   "cell_type": "code",
   "execution_count": 2,
   "metadata": {},
   "outputs": [
    {
     "name": "stdout",
     "output_type": "stream",
     "text": [
      "Guess a word :clear\n"
     ]
    },
    {
     "data": {
      "text/html": [
       "<style type=\"text/css\">\n",
       "#T_177a1_row0_col0, #T_177a1_row0_col1, #T_177a1_row0_col2, #T_177a1_row0_col3, #T_177a1_row0_col4 {\n",
       "  color: black;\n",
       "}\n",
       "</style>\n",
       "<table id=\"T_177a1\">\n",
       "  <thead>\n",
       "    <tr>\n",
       "      <th class=\"blank level0\" >&nbsp;</th>\n",
       "      <th id=\"T_177a1_level0_col0\" class=\"col_heading level0 col0\" >LETTER1</th>\n",
       "      <th id=\"T_177a1_level0_col1\" class=\"col_heading level0 col1\" >LETTER2</th>\n",
       "      <th id=\"T_177a1_level0_col2\" class=\"col_heading level0 col2\" >LETTER3</th>\n",
       "      <th id=\"T_177a1_level0_col3\" class=\"col_heading level0 col3\" >LETTER4</th>\n",
       "      <th id=\"T_177a1_level0_col4\" class=\"col_heading level0 col4\" >LETTER5</th>\n",
       "    </tr>\n",
       "  </thead>\n",
       "  <tbody>\n",
       "    <tr>\n",
       "      <th id=\"T_177a1_level0_row0\" class=\"row_heading level0 row0\" >GUESS_1</th>\n",
       "      <td id=\"T_177a1_row0_col0\" class=\"data row0 col0\" >c</td>\n",
       "      <td id=\"T_177a1_row0_col1\" class=\"data row0 col1\" >l</td>\n",
       "      <td id=\"T_177a1_row0_col2\" class=\"data row0 col2\" >e</td>\n",
       "      <td id=\"T_177a1_row0_col3\" class=\"data row0 col3\" >a</td>\n",
       "      <td id=\"T_177a1_row0_col4\" class=\"data row0 col4\" >r</td>\n",
       "    </tr>\n",
       "  </tbody>\n",
       "</table>\n"
      ],
      "text/plain": [
       "<pandas.io.formats.style.Styler at 0x13be17bb6d0>"
      ]
     },
     "metadata": {},
     "output_type": "display_data"
    },
    {
     "name": "stdout",
     "output_type": "stream",
     "text": [
      "Guess a word :banks\n"
     ]
    },
    {
     "data": {
      "text/html": [
       "<style type=\"text/css\">\n",
       "#T_5ba48_row0_col0, #T_5ba48_row0_col1, #T_5ba48_row0_col2, #T_5ba48_row0_col3, #T_5ba48_row0_col4, #T_5ba48_row1_col0, #T_5ba48_row1_col1, #T_5ba48_row1_col3, #T_5ba48_row1_col4 {\n",
       "  color: black;\n",
       "}\n",
       "#T_5ba48_row1_col2 {\n",
       "  color: orange;\n",
       "}\n",
       "</style>\n",
       "<table id=\"T_5ba48\">\n",
       "  <thead>\n",
       "    <tr>\n",
       "      <th class=\"blank level0\" >&nbsp;</th>\n",
       "      <th id=\"T_5ba48_level0_col0\" class=\"col_heading level0 col0\" >LETTER1</th>\n",
       "      <th id=\"T_5ba48_level0_col1\" class=\"col_heading level0 col1\" >LETTER2</th>\n",
       "      <th id=\"T_5ba48_level0_col2\" class=\"col_heading level0 col2\" >LETTER3</th>\n",
       "      <th id=\"T_5ba48_level0_col3\" class=\"col_heading level0 col3\" >LETTER4</th>\n",
       "      <th id=\"T_5ba48_level0_col4\" class=\"col_heading level0 col4\" >LETTER5</th>\n",
       "    </tr>\n",
       "  </thead>\n",
       "  <tbody>\n",
       "    <tr>\n",
       "      <th id=\"T_5ba48_level0_row0\" class=\"row_heading level0 row0\" >GUESS_1</th>\n",
       "      <td id=\"T_5ba48_row0_col0\" class=\"data row0 col0\" >c</td>\n",
       "      <td id=\"T_5ba48_row0_col1\" class=\"data row0 col1\" >l</td>\n",
       "      <td id=\"T_5ba48_row0_col2\" class=\"data row0 col2\" >e</td>\n",
       "      <td id=\"T_5ba48_row0_col3\" class=\"data row0 col3\" >a</td>\n",
       "      <td id=\"T_5ba48_row0_col4\" class=\"data row0 col4\" >r</td>\n",
       "    </tr>\n",
       "    <tr>\n",
       "      <th id=\"T_5ba48_level0_row1\" class=\"row_heading level0 row1\" >GUESS_2</th>\n",
       "      <td id=\"T_5ba48_row1_col0\" class=\"data row1 col0\" >b</td>\n",
       "      <td id=\"T_5ba48_row1_col1\" class=\"data row1 col1\" >a</td>\n",
       "      <td id=\"T_5ba48_row1_col2\" class=\"data row1 col2\" >N </td>\n",
       "      <td id=\"T_5ba48_row1_col3\" class=\"data row1 col3\" >k</td>\n",
       "      <td id=\"T_5ba48_row1_col4\" class=\"data row1 col4\" >s</td>\n",
       "    </tr>\n",
       "  </tbody>\n",
       "</table>\n"
      ],
      "text/plain": [
       "<pandas.io.formats.style.Styler at 0x13be17b9df0>"
      ]
     },
     "metadata": {},
     "output_type": "display_data"
    },
    {
     "name": "stdout",
     "output_type": "stream",
     "text": [
      "Guess a word :turim\n"
     ]
    },
    {
     "data": {
      "text/html": [
       "<style type=\"text/css\">\n",
       "#T_6bd74_row0_col0, #T_6bd74_row0_col1, #T_6bd74_row0_col2, #T_6bd74_row0_col3, #T_6bd74_row0_col4, #T_6bd74_row1_col0, #T_6bd74_row1_col1, #T_6bd74_row1_col3, #T_6bd74_row1_col4, #T_6bd74_row2_col2, #T_6bd74_row2_col4 {\n",
       "  color: black;\n",
       "}\n",
       "#T_6bd74_row1_col2, #T_6bd74_row2_col0, #T_6bd74_row2_col1, #T_6bd74_row2_col3 {\n",
       "  color: orange;\n",
       "}\n",
       "</style>\n",
       "<table id=\"T_6bd74\">\n",
       "  <thead>\n",
       "    <tr>\n",
       "      <th class=\"blank level0\" >&nbsp;</th>\n",
       "      <th id=\"T_6bd74_level0_col0\" class=\"col_heading level0 col0\" >LETTER1</th>\n",
       "      <th id=\"T_6bd74_level0_col1\" class=\"col_heading level0 col1\" >LETTER2</th>\n",
       "      <th id=\"T_6bd74_level0_col2\" class=\"col_heading level0 col2\" >LETTER3</th>\n",
       "      <th id=\"T_6bd74_level0_col3\" class=\"col_heading level0 col3\" >LETTER4</th>\n",
       "      <th id=\"T_6bd74_level0_col4\" class=\"col_heading level0 col4\" >LETTER5</th>\n",
       "    </tr>\n",
       "  </thead>\n",
       "  <tbody>\n",
       "    <tr>\n",
       "      <th id=\"T_6bd74_level0_row0\" class=\"row_heading level0 row0\" >GUESS_1</th>\n",
       "      <td id=\"T_6bd74_row0_col0\" class=\"data row0 col0\" >c</td>\n",
       "      <td id=\"T_6bd74_row0_col1\" class=\"data row0 col1\" >l</td>\n",
       "      <td id=\"T_6bd74_row0_col2\" class=\"data row0 col2\" >e</td>\n",
       "      <td id=\"T_6bd74_row0_col3\" class=\"data row0 col3\" >a</td>\n",
       "      <td id=\"T_6bd74_row0_col4\" class=\"data row0 col4\" >r</td>\n",
       "    </tr>\n",
       "    <tr>\n",
       "      <th id=\"T_6bd74_level0_row1\" class=\"row_heading level0 row1\" >GUESS_2</th>\n",
       "      <td id=\"T_6bd74_row1_col0\" class=\"data row1 col0\" >b</td>\n",
       "      <td id=\"T_6bd74_row1_col1\" class=\"data row1 col1\" >a</td>\n",
       "      <td id=\"T_6bd74_row1_col2\" class=\"data row1 col2\" >N </td>\n",
       "      <td id=\"T_6bd74_row1_col3\" class=\"data row1 col3\" >k</td>\n",
       "      <td id=\"T_6bd74_row1_col4\" class=\"data row1 col4\" >s</td>\n",
       "    </tr>\n",
       "    <tr>\n",
       "      <th id=\"T_6bd74_level0_row2\" class=\"row_heading level0 row2\" >GUESS_3</th>\n",
       "      <td id=\"T_6bd74_row2_col0\" class=\"data row2 col0\" >T </td>\n",
       "      <td id=\"T_6bd74_row2_col1\" class=\"data row2 col1\" >U </td>\n",
       "      <td id=\"T_6bd74_row2_col2\" class=\"data row2 col2\" >r</td>\n",
       "      <td id=\"T_6bd74_row2_col3\" class=\"data row2 col3\" >I </td>\n",
       "      <td id=\"T_6bd74_row2_col4\" class=\"data row2 col4\" >m</td>\n",
       "    </tr>\n",
       "  </tbody>\n",
       "</table>\n"
      ],
      "text/plain": [
       "<pandas.io.formats.style.Styler at 0x13be17c0fd0>"
      ]
     },
     "metadata": {},
     "output_type": "display_data"
    },
    {
     "name": "stdout",
     "output_type": "stream",
     "text": [
      "Guess a word :input\n"
     ]
    },
    {
     "data": {
      "text/html": [
       "<style type=\"text/css\">\n",
       "#T_4fe2a_row0_col0, #T_4fe2a_row0_col1, #T_4fe2a_row0_col2, #T_4fe2a_row0_col3, #T_4fe2a_row0_col4, #T_4fe2a_row1_col0, #T_4fe2a_row1_col1, #T_4fe2a_row1_col3, #T_4fe2a_row1_col4, #T_4fe2a_row2_col2, #T_4fe2a_row2_col4 {\n",
       "  color: black;\n",
       "}\n",
       "#T_4fe2a_row1_col2, #T_4fe2a_row2_col0, #T_4fe2a_row2_col1, #T_4fe2a_row2_col3 {\n",
       "  color: orange;\n",
       "}\n",
       "#T_4fe2a_row3_col0, #T_4fe2a_row3_col1, #T_4fe2a_row3_col2, #T_4fe2a_row3_col3, #T_4fe2a_row3_col4 {\n",
       "  color: green;\n",
       "}\n",
       "</style>\n",
       "<table id=\"T_4fe2a\">\n",
       "  <thead>\n",
       "    <tr>\n",
       "      <th class=\"blank level0\" >&nbsp;</th>\n",
       "      <th id=\"T_4fe2a_level0_col0\" class=\"col_heading level0 col0\" >LETTER1</th>\n",
       "      <th id=\"T_4fe2a_level0_col1\" class=\"col_heading level0 col1\" >LETTER2</th>\n",
       "      <th id=\"T_4fe2a_level0_col2\" class=\"col_heading level0 col2\" >LETTER3</th>\n",
       "      <th id=\"T_4fe2a_level0_col3\" class=\"col_heading level0 col3\" >LETTER4</th>\n",
       "      <th id=\"T_4fe2a_level0_col4\" class=\"col_heading level0 col4\" >LETTER5</th>\n",
       "    </tr>\n",
       "  </thead>\n",
       "  <tbody>\n",
       "    <tr>\n",
       "      <th id=\"T_4fe2a_level0_row0\" class=\"row_heading level0 row0\" >GUESS_1</th>\n",
       "      <td id=\"T_4fe2a_row0_col0\" class=\"data row0 col0\" >c</td>\n",
       "      <td id=\"T_4fe2a_row0_col1\" class=\"data row0 col1\" >l</td>\n",
       "      <td id=\"T_4fe2a_row0_col2\" class=\"data row0 col2\" >e</td>\n",
       "      <td id=\"T_4fe2a_row0_col3\" class=\"data row0 col3\" >a</td>\n",
       "      <td id=\"T_4fe2a_row0_col4\" class=\"data row0 col4\" >r</td>\n",
       "    </tr>\n",
       "    <tr>\n",
       "      <th id=\"T_4fe2a_level0_row1\" class=\"row_heading level0 row1\" >GUESS_2</th>\n",
       "      <td id=\"T_4fe2a_row1_col0\" class=\"data row1 col0\" >b</td>\n",
       "      <td id=\"T_4fe2a_row1_col1\" class=\"data row1 col1\" >a</td>\n",
       "      <td id=\"T_4fe2a_row1_col2\" class=\"data row1 col2\" >N </td>\n",
       "      <td id=\"T_4fe2a_row1_col3\" class=\"data row1 col3\" >k</td>\n",
       "      <td id=\"T_4fe2a_row1_col4\" class=\"data row1 col4\" >s</td>\n",
       "    </tr>\n",
       "    <tr>\n",
       "      <th id=\"T_4fe2a_level0_row2\" class=\"row_heading level0 row2\" >GUESS_3</th>\n",
       "      <td id=\"T_4fe2a_row2_col0\" class=\"data row2 col0\" >T </td>\n",
       "      <td id=\"T_4fe2a_row2_col1\" class=\"data row2 col1\" >U </td>\n",
       "      <td id=\"T_4fe2a_row2_col2\" class=\"data row2 col2\" >r</td>\n",
       "      <td id=\"T_4fe2a_row2_col3\" class=\"data row2 col3\" >I </td>\n",
       "      <td id=\"T_4fe2a_row2_col4\" class=\"data row2 col4\" >m</td>\n",
       "    </tr>\n",
       "    <tr>\n",
       "      <th id=\"T_4fe2a_level0_row3\" class=\"row_heading level0 row3\" >GUESS_4</th>\n",
       "      <td id=\"T_4fe2a_row3_col0\" class=\"data row3 col0\" >I</td>\n",
       "      <td id=\"T_4fe2a_row3_col1\" class=\"data row3 col1\" >N</td>\n",
       "      <td id=\"T_4fe2a_row3_col2\" class=\"data row3 col2\" >P</td>\n",
       "      <td id=\"T_4fe2a_row3_col3\" class=\"data row3 col3\" >U</td>\n",
       "      <td id=\"T_4fe2a_row3_col4\" class=\"data row3 col4\" >T</td>\n",
       "    </tr>\n",
       "  </tbody>\n",
       "</table>\n"
      ],
      "text/plain": [
       "<pandas.io.formats.style.Styler at 0x13be17b9df0>"
      ]
     },
     "metadata": {},
     "output_type": "display_data"
    },
    {
     "name": "stdout",
     "output_type": "stream",
     "text": [
      "       Congragulations! The word was: INPUT \n"
     ]
    }
   ],
   "source": [
    "play_wordle()"
   ]
  },
  {
   "cell_type": "code",
   "execution_count": null,
   "metadata": {},
   "outputs": [],
   "source": []
  }
 ],
 "metadata": {
  "kernelspec": {
   "display_name": "Python 3 (ipykernel)",
   "language": "python",
   "name": "python3"
  },
  "language_info": {
   "codemirror_mode": {
    "name": "ipython",
    "version": 3
   },
   "file_extension": ".py",
   "mimetype": "text/x-python",
   "name": "python",
   "nbconvert_exporter": "python",
   "pygments_lexer": "ipython3",
   "version": "3.9.7"
  }
 },
 "nbformat": 4,
 "nbformat_minor": 4
}
