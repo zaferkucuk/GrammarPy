{
 "cells": [
  {
   "cell_type": "markdown",
   "metadata": {},
   "source": [
    "### Import all functions and libraries from `wordle.py`"
   ]
  },
  {
   "cell_type": "code",
   "execution_count": 1,
   "metadata": {},
   "outputs": [
    {
     "name": "stdout",
     "output_type": "stream",
     "text": [
      "Apple\n"
     ]
    }
   ],
   "source": [
    "from wordle import *"
   ]
  },
  {
   "cell_type": "markdown",
   "metadata": {},
   "source": [
    "### Run `play_wordle()` to start a game\n",
    "- Code will randomly select a 5-letter word from the English Dictionary\n",
    "- You have six tries to guess correctly\n",
    "- If you guess the position of a letter in the word it will turn `GREEN`\n",
    "- If you guess a letter, but it is in the wron position it turns `ORANGE`\n",
    "- If the letter does not exist, it will become `lower case black ink`\n",
    "\n",
    "#### GOOD LUCK, NERDS!"
   ]
  },
  {
   "cell_type": "code",
   "execution_count": 2,
   "metadata": {},
   "outputs": [
    {
     "name": "stdout",
     "output_type": "stream",
     "text": [
      "Guess a word :clear\n"
     ]
    },
    {
     "data": {
      "text/html": [
       "<style type=\"text/css\">\n",
       "#T_fd3de_row0_col0, #T_fd3de_row0_col4 {\n",
       "  color: black;\n",
       "}\n",
       "#T_fd3de_row0_col1, #T_fd3de_row0_col2, #T_fd3de_row0_col3 {\n",
       "  color: orange;\n",
       "}\n",
       "</style>\n",
       "<table id=\"T_fd3de\">\n",
       "  <thead>\n",
       "    <tr>\n",
       "      <th class=\"blank level0\" >&nbsp;</th>\n",
       "      <th id=\"T_fd3de_level0_col0\" class=\"col_heading level0 col0\" >LETTER1</th>\n",
       "      <th id=\"T_fd3de_level0_col1\" class=\"col_heading level0 col1\" >LETTER2</th>\n",
       "      <th id=\"T_fd3de_level0_col2\" class=\"col_heading level0 col2\" >LETTER3</th>\n",
       "      <th id=\"T_fd3de_level0_col3\" class=\"col_heading level0 col3\" >LETTER4</th>\n",
       "      <th id=\"T_fd3de_level0_col4\" class=\"col_heading level0 col4\" >LETTER5</th>\n",
       "    </tr>\n",
       "  </thead>\n",
       "  <tbody>\n",
       "    <tr>\n",
       "      <th id=\"T_fd3de_level0_row0\" class=\"row_heading level0 row0\" >GUESS_1</th>\n",
       "      <td id=\"T_fd3de_row0_col0\" class=\"data row0 col0\" >c</td>\n",
       "      <td id=\"T_fd3de_row0_col1\" class=\"data row0 col1\" >L </td>\n",
       "      <td id=\"T_fd3de_row0_col2\" class=\"data row0 col2\" >E </td>\n",
       "      <td id=\"T_fd3de_row0_col3\" class=\"data row0 col3\" >A </td>\n",
       "      <td id=\"T_fd3de_row0_col4\" class=\"data row0 col4\" >r</td>\n",
       "    </tr>\n",
       "  </tbody>\n",
       "</table>\n"
      ],
      "text/plain": [
       "<pandas.io.formats.style.Styler at 0x1176abdf8b0>"
      ]
     },
     "metadata": {},
     "output_type": "display_data"
    },
    {
     "name": "stdout",
     "output_type": "stream",
     "text": [
      "Guess a word :klmnp\n"
     ]
    },
    {
     "data": {
      "text/html": [
       "<style type=\"text/css\">\n",
       "#T_ade0a_row0_col0, #T_ade0a_row0_col4, #T_ade0a_row1_col0, #T_ade0a_row1_col2, #T_ade0a_row1_col3 {\n",
       "  color: black;\n",
       "}\n",
       "#T_ade0a_row0_col1, #T_ade0a_row0_col2, #T_ade0a_row0_col3, #T_ade0a_row1_col1, #T_ade0a_row1_col4 {\n",
       "  color: orange;\n",
       "}\n",
       "</style>\n",
       "<table id=\"T_ade0a\">\n",
       "  <thead>\n",
       "    <tr>\n",
       "      <th class=\"blank level0\" >&nbsp;</th>\n",
       "      <th id=\"T_ade0a_level0_col0\" class=\"col_heading level0 col0\" >LETTER1</th>\n",
       "      <th id=\"T_ade0a_level0_col1\" class=\"col_heading level0 col1\" >LETTER2</th>\n",
       "      <th id=\"T_ade0a_level0_col2\" class=\"col_heading level0 col2\" >LETTER3</th>\n",
       "      <th id=\"T_ade0a_level0_col3\" class=\"col_heading level0 col3\" >LETTER4</th>\n",
       "      <th id=\"T_ade0a_level0_col4\" class=\"col_heading level0 col4\" >LETTER5</th>\n",
       "    </tr>\n",
       "  </thead>\n",
       "  <tbody>\n",
       "    <tr>\n",
       "      <th id=\"T_ade0a_level0_row0\" class=\"row_heading level0 row0\" >GUESS_1</th>\n",
       "      <td id=\"T_ade0a_row0_col0\" class=\"data row0 col0\" >c</td>\n",
       "      <td id=\"T_ade0a_row0_col1\" class=\"data row0 col1\" >L </td>\n",
       "      <td id=\"T_ade0a_row0_col2\" class=\"data row0 col2\" >E </td>\n",
       "      <td id=\"T_ade0a_row0_col3\" class=\"data row0 col3\" >A </td>\n",
       "      <td id=\"T_ade0a_row0_col4\" class=\"data row0 col4\" >r</td>\n",
       "    </tr>\n",
       "    <tr>\n",
       "      <th id=\"T_ade0a_level0_row1\" class=\"row_heading level0 row1\" >GUESS_2</th>\n",
       "      <td id=\"T_ade0a_row1_col0\" class=\"data row1 col0\" >k</td>\n",
       "      <td id=\"T_ade0a_row1_col1\" class=\"data row1 col1\" >L </td>\n",
       "      <td id=\"T_ade0a_row1_col2\" class=\"data row1 col2\" >m</td>\n",
       "      <td id=\"T_ade0a_row1_col3\" class=\"data row1 col3\" >n</td>\n",
       "      <td id=\"T_ade0a_row1_col4\" class=\"data row1 col4\" >P </td>\n",
       "    </tr>\n",
       "  </tbody>\n",
       "</table>\n"
      ],
      "text/plain": [
       "<pandas.io.formats.style.Styler at 0x1176fe58cd0>"
      ]
     },
     "metadata": {},
     "output_type": "display_data"
    },
    {
     "name": "stdout",
     "output_type": "stream",
     "text": [
      "Guess a word :palet\n"
     ]
    },
    {
     "data": {
      "text/html": [
       "<style type=\"text/css\">\n",
       "#T_1712b_row0_col0, #T_1712b_row0_col4, #T_1712b_row1_col0, #T_1712b_row1_col2, #T_1712b_row1_col3, #T_1712b_row2_col4 {\n",
       "  color: black;\n",
       "}\n",
       "#T_1712b_row0_col1, #T_1712b_row0_col2, #T_1712b_row0_col3, #T_1712b_row1_col1, #T_1712b_row1_col4, #T_1712b_row2_col0, #T_1712b_row2_col1, #T_1712b_row2_col2, #T_1712b_row2_col3 {\n",
       "  color: orange;\n",
       "}\n",
       "</style>\n",
       "<table id=\"T_1712b\">\n",
       "  <thead>\n",
       "    <tr>\n",
       "      <th class=\"blank level0\" >&nbsp;</th>\n",
       "      <th id=\"T_1712b_level0_col0\" class=\"col_heading level0 col0\" >LETTER1</th>\n",
       "      <th id=\"T_1712b_level0_col1\" class=\"col_heading level0 col1\" >LETTER2</th>\n",
       "      <th id=\"T_1712b_level0_col2\" class=\"col_heading level0 col2\" >LETTER3</th>\n",
       "      <th id=\"T_1712b_level0_col3\" class=\"col_heading level0 col3\" >LETTER4</th>\n",
       "      <th id=\"T_1712b_level0_col4\" class=\"col_heading level0 col4\" >LETTER5</th>\n",
       "    </tr>\n",
       "  </thead>\n",
       "  <tbody>\n",
       "    <tr>\n",
       "      <th id=\"T_1712b_level0_row0\" class=\"row_heading level0 row0\" >GUESS_1</th>\n",
       "      <td id=\"T_1712b_row0_col0\" class=\"data row0 col0\" >c</td>\n",
       "      <td id=\"T_1712b_row0_col1\" class=\"data row0 col1\" >L </td>\n",
       "      <td id=\"T_1712b_row0_col2\" class=\"data row0 col2\" >E </td>\n",
       "      <td id=\"T_1712b_row0_col3\" class=\"data row0 col3\" >A </td>\n",
       "      <td id=\"T_1712b_row0_col4\" class=\"data row0 col4\" >r</td>\n",
       "    </tr>\n",
       "    <tr>\n",
       "      <th id=\"T_1712b_level0_row1\" class=\"row_heading level0 row1\" >GUESS_2</th>\n",
       "      <td id=\"T_1712b_row1_col0\" class=\"data row1 col0\" >k</td>\n",
       "      <td id=\"T_1712b_row1_col1\" class=\"data row1 col1\" >L </td>\n",
       "      <td id=\"T_1712b_row1_col2\" class=\"data row1 col2\" >m</td>\n",
       "      <td id=\"T_1712b_row1_col3\" class=\"data row1 col3\" >n</td>\n",
       "      <td id=\"T_1712b_row1_col4\" class=\"data row1 col4\" >P </td>\n",
       "    </tr>\n",
       "    <tr>\n",
       "      <th id=\"T_1712b_level0_row2\" class=\"row_heading level0 row2\" >GUESS_3</th>\n",
       "      <td id=\"T_1712b_row2_col0\" class=\"data row2 col0\" >P </td>\n",
       "      <td id=\"T_1712b_row2_col1\" class=\"data row2 col1\" >A </td>\n",
       "      <td id=\"T_1712b_row2_col2\" class=\"data row2 col2\" >L </td>\n",
       "      <td id=\"T_1712b_row2_col3\" class=\"data row2 col3\" >E </td>\n",
       "      <td id=\"T_1712b_row2_col4\" class=\"data row2 col4\" >t</td>\n",
       "    </tr>\n",
       "  </tbody>\n",
       "</table>\n"
      ],
      "text/plain": [
       "<pandas.io.formats.style.Styler at 0x1176abdf8b0>"
      ]
     },
     "metadata": {},
     "output_type": "display_data"
    },
    {
     "name": "stdout",
     "output_type": "stream",
     "text": [
      "Guess a word :apple\n"
     ]
    },
    {
     "data": {
      "text/html": [
       "<style type=\"text/css\">\n",
       "#T_08248_row0_col0, #T_08248_row0_col4, #T_08248_row1_col0, #T_08248_row1_col2, #T_08248_row1_col3, #T_08248_row2_col4 {\n",
       "  color: black;\n",
       "}\n",
       "#T_08248_row0_col1, #T_08248_row0_col2, #T_08248_row0_col3, #T_08248_row1_col1, #T_08248_row1_col4, #T_08248_row2_col0, #T_08248_row2_col1, #T_08248_row2_col2, #T_08248_row2_col3 {\n",
       "  color: orange;\n",
       "}\n",
       "#T_08248_row3_col0, #T_08248_row3_col1, #T_08248_row3_col2, #T_08248_row3_col3, #T_08248_row3_col4 {\n",
       "  color: green;\n",
       "}\n",
       "</style>\n",
       "<table id=\"T_08248\">\n",
       "  <thead>\n",
       "    <tr>\n",
       "      <th class=\"blank level0\" >&nbsp;</th>\n",
       "      <th id=\"T_08248_level0_col0\" class=\"col_heading level0 col0\" >LETTER1</th>\n",
       "      <th id=\"T_08248_level0_col1\" class=\"col_heading level0 col1\" >LETTER2</th>\n",
       "      <th id=\"T_08248_level0_col2\" class=\"col_heading level0 col2\" >LETTER3</th>\n",
       "      <th id=\"T_08248_level0_col3\" class=\"col_heading level0 col3\" >LETTER4</th>\n",
       "      <th id=\"T_08248_level0_col4\" class=\"col_heading level0 col4\" >LETTER5</th>\n",
       "    </tr>\n",
       "  </thead>\n",
       "  <tbody>\n",
       "    <tr>\n",
       "      <th id=\"T_08248_level0_row0\" class=\"row_heading level0 row0\" >GUESS_1</th>\n",
       "      <td id=\"T_08248_row0_col0\" class=\"data row0 col0\" >c</td>\n",
       "      <td id=\"T_08248_row0_col1\" class=\"data row0 col1\" >L </td>\n",
       "      <td id=\"T_08248_row0_col2\" class=\"data row0 col2\" >E </td>\n",
       "      <td id=\"T_08248_row0_col3\" class=\"data row0 col3\" >A </td>\n",
       "      <td id=\"T_08248_row0_col4\" class=\"data row0 col4\" >r</td>\n",
       "    </tr>\n",
       "    <tr>\n",
       "      <th id=\"T_08248_level0_row1\" class=\"row_heading level0 row1\" >GUESS_2</th>\n",
       "      <td id=\"T_08248_row1_col0\" class=\"data row1 col0\" >k</td>\n",
       "      <td id=\"T_08248_row1_col1\" class=\"data row1 col1\" >L </td>\n",
       "      <td id=\"T_08248_row1_col2\" class=\"data row1 col2\" >m</td>\n",
       "      <td id=\"T_08248_row1_col3\" class=\"data row1 col3\" >n</td>\n",
       "      <td id=\"T_08248_row1_col4\" class=\"data row1 col4\" >P </td>\n",
       "    </tr>\n",
       "    <tr>\n",
       "      <th id=\"T_08248_level0_row2\" class=\"row_heading level0 row2\" >GUESS_3</th>\n",
       "      <td id=\"T_08248_row2_col0\" class=\"data row2 col0\" >P </td>\n",
       "      <td id=\"T_08248_row2_col1\" class=\"data row2 col1\" >A </td>\n",
       "      <td id=\"T_08248_row2_col2\" class=\"data row2 col2\" >L </td>\n",
       "      <td id=\"T_08248_row2_col3\" class=\"data row2 col3\" >E </td>\n",
       "      <td id=\"T_08248_row2_col4\" class=\"data row2 col4\" >t</td>\n",
       "    </tr>\n",
       "    <tr>\n",
       "      <th id=\"T_08248_level0_row3\" class=\"row_heading level0 row3\" >GUESS_4</th>\n",
       "      <td id=\"T_08248_row3_col0\" class=\"data row3 col0\" >A</td>\n",
       "      <td id=\"T_08248_row3_col1\" class=\"data row3 col1\" >P</td>\n",
       "      <td id=\"T_08248_row3_col2\" class=\"data row3 col2\" >P</td>\n",
       "      <td id=\"T_08248_row3_col3\" class=\"data row3 col3\" >L</td>\n",
       "      <td id=\"T_08248_row3_col4\" class=\"data row3 col4\" >E</td>\n",
       "    </tr>\n",
       "  </tbody>\n",
       "</table>\n"
      ],
      "text/plain": [
       "<pandas.io.formats.style.Styler at 0x1176fe58fa0>"
      ]
     },
     "metadata": {},
     "output_type": "display_data"
    },
    {
     "name": "stdout",
     "output_type": "stream",
     "text": [
      "Guess a word :apple\n"
     ]
    },
    {
     "data": {
      "text/html": [
       "<style type=\"text/css\">\n",
       "#T_8bb46_row0_col0, #T_8bb46_row0_col4, #T_8bb46_row1_col0, #T_8bb46_row1_col2, #T_8bb46_row1_col3, #T_8bb46_row2_col4 {\n",
       "  color: black;\n",
       "}\n",
       "#T_8bb46_row0_col1, #T_8bb46_row0_col2, #T_8bb46_row0_col3, #T_8bb46_row1_col1, #T_8bb46_row1_col4, #T_8bb46_row2_col0, #T_8bb46_row2_col1, #T_8bb46_row2_col2, #T_8bb46_row2_col3 {\n",
       "  color: orange;\n",
       "}\n",
       "#T_8bb46_row3_col0, #T_8bb46_row3_col1, #T_8bb46_row3_col2, #T_8bb46_row3_col3, #T_8bb46_row3_col4, #T_8bb46_row4_col0, #T_8bb46_row4_col1, #T_8bb46_row4_col2, #T_8bb46_row4_col3, #T_8bb46_row4_col4 {\n",
       "  color: green;\n",
       "}\n",
       "</style>\n",
       "<table id=\"T_8bb46\">\n",
       "  <thead>\n",
       "    <tr>\n",
       "      <th class=\"blank level0\" >&nbsp;</th>\n",
       "      <th id=\"T_8bb46_level0_col0\" class=\"col_heading level0 col0\" >LETTER1</th>\n",
       "      <th id=\"T_8bb46_level0_col1\" class=\"col_heading level0 col1\" >LETTER2</th>\n",
       "      <th id=\"T_8bb46_level0_col2\" class=\"col_heading level0 col2\" >LETTER3</th>\n",
       "      <th id=\"T_8bb46_level0_col3\" class=\"col_heading level0 col3\" >LETTER4</th>\n",
       "      <th id=\"T_8bb46_level0_col4\" class=\"col_heading level0 col4\" >LETTER5</th>\n",
       "    </tr>\n",
       "  </thead>\n",
       "  <tbody>\n",
       "    <tr>\n",
       "      <th id=\"T_8bb46_level0_row0\" class=\"row_heading level0 row0\" >GUESS_1</th>\n",
       "      <td id=\"T_8bb46_row0_col0\" class=\"data row0 col0\" >c</td>\n",
       "      <td id=\"T_8bb46_row0_col1\" class=\"data row0 col1\" >L </td>\n",
       "      <td id=\"T_8bb46_row0_col2\" class=\"data row0 col2\" >E </td>\n",
       "      <td id=\"T_8bb46_row0_col3\" class=\"data row0 col3\" >A </td>\n",
       "      <td id=\"T_8bb46_row0_col4\" class=\"data row0 col4\" >r</td>\n",
       "    </tr>\n",
       "    <tr>\n",
       "      <th id=\"T_8bb46_level0_row1\" class=\"row_heading level0 row1\" >GUESS_2</th>\n",
       "      <td id=\"T_8bb46_row1_col0\" class=\"data row1 col0\" >k</td>\n",
       "      <td id=\"T_8bb46_row1_col1\" class=\"data row1 col1\" >L </td>\n",
       "      <td id=\"T_8bb46_row1_col2\" class=\"data row1 col2\" >m</td>\n",
       "      <td id=\"T_8bb46_row1_col3\" class=\"data row1 col3\" >n</td>\n",
       "      <td id=\"T_8bb46_row1_col4\" class=\"data row1 col4\" >P </td>\n",
       "    </tr>\n",
       "    <tr>\n",
       "      <th id=\"T_8bb46_level0_row2\" class=\"row_heading level0 row2\" >GUESS_3</th>\n",
       "      <td id=\"T_8bb46_row2_col0\" class=\"data row2 col0\" >P </td>\n",
       "      <td id=\"T_8bb46_row2_col1\" class=\"data row2 col1\" >A </td>\n",
       "      <td id=\"T_8bb46_row2_col2\" class=\"data row2 col2\" >L </td>\n",
       "      <td id=\"T_8bb46_row2_col3\" class=\"data row2 col3\" >E </td>\n",
       "      <td id=\"T_8bb46_row2_col4\" class=\"data row2 col4\" >t</td>\n",
       "    </tr>\n",
       "    <tr>\n",
       "      <th id=\"T_8bb46_level0_row3\" class=\"row_heading level0 row3\" >GUESS_4</th>\n",
       "      <td id=\"T_8bb46_row3_col0\" class=\"data row3 col0\" >A</td>\n",
       "      <td id=\"T_8bb46_row3_col1\" class=\"data row3 col1\" >P</td>\n",
       "      <td id=\"T_8bb46_row3_col2\" class=\"data row3 col2\" >P</td>\n",
       "      <td id=\"T_8bb46_row3_col3\" class=\"data row3 col3\" >L</td>\n",
       "      <td id=\"T_8bb46_row3_col4\" class=\"data row3 col4\" >E</td>\n",
       "    </tr>\n",
       "    <tr>\n",
       "      <th id=\"T_8bb46_level0_row4\" class=\"row_heading level0 row4\" >GUESS_5</th>\n",
       "      <td id=\"T_8bb46_row4_col0\" class=\"data row4 col0\" >A</td>\n",
       "      <td id=\"T_8bb46_row4_col1\" class=\"data row4 col1\" >P</td>\n",
       "      <td id=\"T_8bb46_row4_col2\" class=\"data row4 col2\" >P</td>\n",
       "      <td id=\"T_8bb46_row4_col3\" class=\"data row4 col3\" >L</td>\n",
       "      <td id=\"T_8bb46_row4_col4\" class=\"data row4 col4\" >E</td>\n",
       "    </tr>\n",
       "  </tbody>\n",
       "</table>\n"
      ],
      "text/plain": [
       "<pandas.io.formats.style.Styler at 0x1176abdf8b0>"
      ]
     },
     "metadata": {},
     "output_type": "display_data"
    },
    {
     "name": "stdout",
     "output_type": "stream",
     "text": [
      "Guess a word :apple\n"
     ]
    },
    {
     "data": {
      "text/html": [
       "<style type=\"text/css\">\n",
       "#T_5cdb0_row0_col0, #T_5cdb0_row0_col4, #T_5cdb0_row1_col0, #T_5cdb0_row1_col2, #T_5cdb0_row1_col3, #T_5cdb0_row2_col4 {\n",
       "  color: black;\n",
       "}\n",
       "#T_5cdb0_row0_col1, #T_5cdb0_row0_col2, #T_5cdb0_row0_col3, #T_5cdb0_row1_col1, #T_5cdb0_row1_col4, #T_5cdb0_row2_col0, #T_5cdb0_row2_col1, #T_5cdb0_row2_col2, #T_5cdb0_row2_col3 {\n",
       "  color: orange;\n",
       "}\n",
       "#T_5cdb0_row3_col0, #T_5cdb0_row3_col1, #T_5cdb0_row3_col2, #T_5cdb0_row3_col3, #T_5cdb0_row3_col4, #T_5cdb0_row4_col0, #T_5cdb0_row4_col1, #T_5cdb0_row4_col2, #T_5cdb0_row4_col3, #T_5cdb0_row4_col4, #T_5cdb0_row5_col0, #T_5cdb0_row5_col1, #T_5cdb0_row5_col2, #T_5cdb0_row5_col3, #T_5cdb0_row5_col4 {\n",
       "  color: green;\n",
       "}\n",
       "</style>\n",
       "<table id=\"T_5cdb0\">\n",
       "  <thead>\n",
       "    <tr>\n",
       "      <th class=\"blank level0\" >&nbsp;</th>\n",
       "      <th id=\"T_5cdb0_level0_col0\" class=\"col_heading level0 col0\" >LETTER1</th>\n",
       "      <th id=\"T_5cdb0_level0_col1\" class=\"col_heading level0 col1\" >LETTER2</th>\n",
       "      <th id=\"T_5cdb0_level0_col2\" class=\"col_heading level0 col2\" >LETTER3</th>\n",
       "      <th id=\"T_5cdb0_level0_col3\" class=\"col_heading level0 col3\" >LETTER4</th>\n",
       "      <th id=\"T_5cdb0_level0_col4\" class=\"col_heading level0 col4\" >LETTER5</th>\n",
       "    </tr>\n",
       "  </thead>\n",
       "  <tbody>\n",
       "    <tr>\n",
       "      <th id=\"T_5cdb0_level0_row0\" class=\"row_heading level0 row0\" >GUESS_1</th>\n",
       "      <td id=\"T_5cdb0_row0_col0\" class=\"data row0 col0\" >c</td>\n",
       "      <td id=\"T_5cdb0_row0_col1\" class=\"data row0 col1\" >L </td>\n",
       "      <td id=\"T_5cdb0_row0_col2\" class=\"data row0 col2\" >E </td>\n",
       "      <td id=\"T_5cdb0_row0_col3\" class=\"data row0 col3\" >A </td>\n",
       "      <td id=\"T_5cdb0_row0_col4\" class=\"data row0 col4\" >r</td>\n",
       "    </tr>\n",
       "    <tr>\n",
       "      <th id=\"T_5cdb0_level0_row1\" class=\"row_heading level0 row1\" >GUESS_2</th>\n",
       "      <td id=\"T_5cdb0_row1_col0\" class=\"data row1 col0\" >k</td>\n",
       "      <td id=\"T_5cdb0_row1_col1\" class=\"data row1 col1\" >L </td>\n",
       "      <td id=\"T_5cdb0_row1_col2\" class=\"data row1 col2\" >m</td>\n",
       "      <td id=\"T_5cdb0_row1_col3\" class=\"data row1 col3\" >n</td>\n",
       "      <td id=\"T_5cdb0_row1_col4\" class=\"data row1 col4\" >P </td>\n",
       "    </tr>\n",
       "    <tr>\n",
       "      <th id=\"T_5cdb0_level0_row2\" class=\"row_heading level0 row2\" >GUESS_3</th>\n",
       "      <td id=\"T_5cdb0_row2_col0\" class=\"data row2 col0\" >P </td>\n",
       "      <td id=\"T_5cdb0_row2_col1\" class=\"data row2 col1\" >A </td>\n",
       "      <td id=\"T_5cdb0_row2_col2\" class=\"data row2 col2\" >L </td>\n",
       "      <td id=\"T_5cdb0_row2_col3\" class=\"data row2 col3\" >E </td>\n",
       "      <td id=\"T_5cdb0_row2_col4\" class=\"data row2 col4\" >t</td>\n",
       "    </tr>\n",
       "    <tr>\n",
       "      <th id=\"T_5cdb0_level0_row3\" class=\"row_heading level0 row3\" >GUESS_4</th>\n",
       "      <td id=\"T_5cdb0_row3_col0\" class=\"data row3 col0\" >A</td>\n",
       "      <td id=\"T_5cdb0_row3_col1\" class=\"data row3 col1\" >P</td>\n",
       "      <td id=\"T_5cdb0_row3_col2\" class=\"data row3 col2\" >P</td>\n",
       "      <td id=\"T_5cdb0_row3_col3\" class=\"data row3 col3\" >L</td>\n",
       "      <td id=\"T_5cdb0_row3_col4\" class=\"data row3 col4\" >E</td>\n",
       "    </tr>\n",
       "    <tr>\n",
       "      <th id=\"T_5cdb0_level0_row4\" class=\"row_heading level0 row4\" >GUESS_5</th>\n",
       "      <td id=\"T_5cdb0_row4_col0\" class=\"data row4 col0\" >A</td>\n",
       "      <td id=\"T_5cdb0_row4_col1\" class=\"data row4 col1\" >P</td>\n",
       "      <td id=\"T_5cdb0_row4_col2\" class=\"data row4 col2\" >P</td>\n",
       "      <td id=\"T_5cdb0_row4_col3\" class=\"data row4 col3\" >L</td>\n",
       "      <td id=\"T_5cdb0_row4_col4\" class=\"data row4 col4\" >E</td>\n",
       "    </tr>\n",
       "    <tr>\n",
       "      <th id=\"T_5cdb0_level0_row5\" class=\"row_heading level0 row5\" >GUESS_6</th>\n",
       "      <td id=\"T_5cdb0_row5_col0\" class=\"data row5 col0\" >A</td>\n",
       "      <td id=\"T_5cdb0_row5_col1\" class=\"data row5 col1\" >P</td>\n",
       "      <td id=\"T_5cdb0_row5_col2\" class=\"data row5 col2\" >P</td>\n",
       "      <td id=\"T_5cdb0_row5_col3\" class=\"data row5 col3\" >L</td>\n",
       "      <td id=\"T_5cdb0_row5_col4\" class=\"data row5 col4\" >E</td>\n",
       "    </tr>\n",
       "  </tbody>\n",
       "</table>\n"
      ],
      "text/plain": [
       "<pandas.io.formats.style.Styler at 0x1176fe58d00>"
      ]
     },
     "metadata": {},
     "output_type": "display_data"
    },
    {
     "name": "stdout",
     "output_type": "stream",
     "text": [
      "You lost! The word was APPLE, ...\n"
     ]
    }
   ],
   "source": [
    "play_wordle()"
   ]
  },
  {
   "cell_type": "code",
   "execution_count": null,
   "metadata": {},
   "outputs": [],
   "source": []
  }
 ],
 "metadata": {
  "kernelspec": {
   "display_name": "Python 3 (ipykernel)",
   "language": "python",
   "name": "python3"
  },
  "language_info": {
   "codemirror_mode": {
    "name": "ipython",
    "version": 3
   },
   "file_extension": ".py",
   "mimetype": "text/x-python",
   "name": "python",
   "nbconvert_exporter": "python",
   "pygments_lexer": "ipython3",
   "version": "3.9.7"
  }
 },
 "nbformat": 4,
 "nbformat_minor": 4
}
