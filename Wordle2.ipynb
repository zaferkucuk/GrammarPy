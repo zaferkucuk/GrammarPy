{
 "cells": [
  {
   "cell_type": "markdown",
   "metadata": {},
   "source": [
    "### Import all functions and libraries from `wordle.py`"
   ]
  },
  {
   "cell_type": "code",
   "execution_count": 1,
   "metadata": {},
   "outputs": [
    {
     "name": "stdout",
     "output_type": "stream",
     "text": [
      "model\n"
     ]
    }
   ],
   "source": [
    "from wordle import *"
   ]
  },
  {
   "cell_type": "markdown",
   "metadata": {},
   "source": [
    "### Run `play_wordle()` to start a game\n",
    "- Code will randomly select a 5-letter word from the English Dictionary\n",
    "- You have six tries to guess correctly\n",
    "- If you guess the position of a letter in the word it will turn `GREEN`\n",
    "- If you guess a letter, but it is in the wron position it turns `ORANGE`\n",
    "- If the letter does not exist, it will become `lower case black ink`\n",
    "\n",
    "#### GOOD LUCK, NERDS!"
   ]
  },
  {
   "cell_type": "code",
   "execution_count": 2,
   "metadata": {},
   "outputs": [
    {
     "name": "stdout",
     "output_type": "stream",
     "text": [
      "Guess a word :ricks\n"
     ]
    },
    {
     "data": {
      "text/html": [
       "<style type=\"text/css\">\n",
       "#T_7baa1_row0_col0, #T_7baa1_row0_col1, #T_7baa1_row0_col2, #T_7baa1_row0_col3, #T_7baa1_row0_col4 {\n",
       "  color: black;\n",
       "}\n",
       "</style>\n",
       "<table id=\"T_7baa1\">\n",
       "  <thead>\n",
       "    <tr>\n",
       "      <th class=\"blank level0\" >&nbsp;</th>\n",
       "      <th id=\"T_7baa1_level0_col0\" class=\"col_heading level0 col0\" >L1</th>\n",
       "      <th id=\"T_7baa1_level0_col1\" class=\"col_heading level0 col1\" >L2</th>\n",
       "      <th id=\"T_7baa1_level0_col2\" class=\"col_heading level0 col2\" >L3</th>\n",
       "      <th id=\"T_7baa1_level0_col3\" class=\"col_heading level0 col3\" >L4</th>\n",
       "      <th id=\"T_7baa1_level0_col4\" class=\"col_heading level0 col4\" >L5</th>\n",
       "    </tr>\n",
       "  </thead>\n",
       "  <tbody>\n",
       "    <tr>\n",
       "      <th id=\"T_7baa1_level0_row0\" class=\"row_heading level0 row0\" >TRY_1</th>\n",
       "      <td id=\"T_7baa1_row0_col0\" class=\"data row0 col0\" >r</td>\n",
       "      <td id=\"T_7baa1_row0_col1\" class=\"data row0 col1\" >i</td>\n",
       "      <td id=\"T_7baa1_row0_col2\" class=\"data row0 col2\" >c</td>\n",
       "      <td id=\"T_7baa1_row0_col3\" class=\"data row0 col3\" >k</td>\n",
       "      <td id=\"T_7baa1_row0_col4\" class=\"data row0 col4\" >s</td>\n",
       "    </tr>\n",
       "  </tbody>\n",
       "</table>\n"
      ],
      "text/plain": [
       "<pandas.io.formats.style.Styler at 0x1caa4739bb0>"
      ]
     },
     "metadata": {},
     "output_type": "display_data"
    },
    {
     "name": "stdout",
     "output_type": "stream",
     "text": [
      "Guess a word :check\n"
     ]
    },
    {
     "data": {
      "text/html": [
       "<style type=\"text/css\">\n",
       "#T_99463_row0_col0, #T_99463_row0_col1, #T_99463_row0_col2, #T_99463_row0_col3, #T_99463_row0_col4, #T_99463_row1_col0, #T_99463_row1_col1, #T_99463_row1_col3, #T_99463_row1_col4 {\n",
       "  color: black;\n",
       "}\n",
       "#T_99463_row1_col2 {\n",
       "  color: orange;\n",
       "}\n",
       "</style>\n",
       "<table id=\"T_99463\">\n",
       "  <thead>\n",
       "    <tr>\n",
       "      <th class=\"blank level0\" >&nbsp;</th>\n",
       "      <th id=\"T_99463_level0_col0\" class=\"col_heading level0 col0\" >L1</th>\n",
       "      <th id=\"T_99463_level0_col1\" class=\"col_heading level0 col1\" >L2</th>\n",
       "      <th id=\"T_99463_level0_col2\" class=\"col_heading level0 col2\" >L3</th>\n",
       "      <th id=\"T_99463_level0_col3\" class=\"col_heading level0 col3\" >L4</th>\n",
       "      <th id=\"T_99463_level0_col4\" class=\"col_heading level0 col4\" >L5</th>\n",
       "    </tr>\n",
       "  </thead>\n",
       "  <tbody>\n",
       "    <tr>\n",
       "      <th id=\"T_99463_level0_row0\" class=\"row_heading level0 row0\" >TRY_1</th>\n",
       "      <td id=\"T_99463_row0_col0\" class=\"data row0 col0\" >r</td>\n",
       "      <td id=\"T_99463_row0_col1\" class=\"data row0 col1\" >i</td>\n",
       "      <td id=\"T_99463_row0_col2\" class=\"data row0 col2\" >c</td>\n",
       "      <td id=\"T_99463_row0_col3\" class=\"data row0 col3\" >k</td>\n",
       "      <td id=\"T_99463_row0_col4\" class=\"data row0 col4\" >s</td>\n",
       "    </tr>\n",
       "    <tr>\n",
       "      <th id=\"T_99463_level0_row1\" class=\"row_heading level0 row1\" >TRY_2</th>\n",
       "      <td id=\"T_99463_row1_col0\" class=\"data row1 col0\" >c</td>\n",
       "      <td id=\"T_99463_row1_col1\" class=\"data row1 col1\" >h</td>\n",
       "      <td id=\"T_99463_row1_col2\" class=\"data row1 col2\" >E </td>\n",
       "      <td id=\"T_99463_row1_col3\" class=\"data row1 col3\" >c</td>\n",
       "      <td id=\"T_99463_row1_col4\" class=\"data row1 col4\" >k</td>\n",
       "    </tr>\n",
       "  </tbody>\n",
       "</table>\n"
      ],
      "text/plain": [
       "<pandas.io.formats.style.Styler at 0x1caa4739f10>"
      ]
     },
     "metadata": {},
     "output_type": "display_data"
    },
    {
     "name": "stdout",
     "output_type": "stream",
     "text": [
      "Guess a word :safer\n"
     ]
    },
    {
     "data": {
      "text/html": [
       "<style type=\"text/css\">\n",
       "#T_60389_row0_col0, #T_60389_row0_col1, #T_60389_row0_col2, #T_60389_row0_col3, #T_60389_row0_col4, #T_60389_row1_col0, #T_60389_row1_col1, #T_60389_row1_col3, #T_60389_row1_col4, #T_60389_row2_col0, #T_60389_row2_col1, #T_60389_row2_col2, #T_60389_row2_col4 {\n",
       "  color: black;\n",
       "}\n",
       "#T_60389_row1_col2 {\n",
       "  color: orange;\n",
       "}\n",
       "#T_60389_row2_col3 {\n",
       "  color: green;\n",
       "}\n",
       "</style>\n",
       "<table id=\"T_60389\">\n",
       "  <thead>\n",
       "    <tr>\n",
       "      <th class=\"blank level0\" >&nbsp;</th>\n",
       "      <th id=\"T_60389_level0_col0\" class=\"col_heading level0 col0\" >L1</th>\n",
       "      <th id=\"T_60389_level0_col1\" class=\"col_heading level0 col1\" >L2</th>\n",
       "      <th id=\"T_60389_level0_col2\" class=\"col_heading level0 col2\" >L3</th>\n",
       "      <th id=\"T_60389_level0_col3\" class=\"col_heading level0 col3\" >L4</th>\n",
       "      <th id=\"T_60389_level0_col4\" class=\"col_heading level0 col4\" >L5</th>\n",
       "    </tr>\n",
       "  </thead>\n",
       "  <tbody>\n",
       "    <tr>\n",
       "      <th id=\"T_60389_level0_row0\" class=\"row_heading level0 row0\" >TRY_1</th>\n",
       "      <td id=\"T_60389_row0_col0\" class=\"data row0 col0\" >r</td>\n",
       "      <td id=\"T_60389_row0_col1\" class=\"data row0 col1\" >i</td>\n",
       "      <td id=\"T_60389_row0_col2\" class=\"data row0 col2\" >c</td>\n",
       "      <td id=\"T_60389_row0_col3\" class=\"data row0 col3\" >k</td>\n",
       "      <td id=\"T_60389_row0_col4\" class=\"data row0 col4\" >s</td>\n",
       "    </tr>\n",
       "    <tr>\n",
       "      <th id=\"T_60389_level0_row1\" class=\"row_heading level0 row1\" >TRY_2</th>\n",
       "      <td id=\"T_60389_row1_col0\" class=\"data row1 col0\" >c</td>\n",
       "      <td id=\"T_60389_row1_col1\" class=\"data row1 col1\" >h</td>\n",
       "      <td id=\"T_60389_row1_col2\" class=\"data row1 col2\" >E </td>\n",
       "      <td id=\"T_60389_row1_col3\" class=\"data row1 col3\" >c</td>\n",
       "      <td id=\"T_60389_row1_col4\" class=\"data row1 col4\" >k</td>\n",
       "    </tr>\n",
       "    <tr>\n",
       "      <th id=\"T_60389_level0_row2\" class=\"row_heading level0 row2\" >TRY_3</th>\n",
       "      <td id=\"T_60389_row2_col0\" class=\"data row2 col0\" >s</td>\n",
       "      <td id=\"T_60389_row2_col1\" class=\"data row2 col1\" >a</td>\n",
       "      <td id=\"T_60389_row2_col2\" class=\"data row2 col2\" >f</td>\n",
       "      <td id=\"T_60389_row2_col3\" class=\"data row2 col3\" >E</td>\n",
       "      <td id=\"T_60389_row2_col4\" class=\"data row2 col4\" >r</td>\n",
       "    </tr>\n",
       "  </tbody>\n",
       "</table>\n"
      ],
      "text/plain": [
       "<pandas.io.formats.style.Styler at 0x1caa4739af0>"
      ]
     },
     "metadata": {},
     "output_type": "display_data"
    },
    {
     "name": "stdout",
     "output_type": "stream",
     "text": [
      "Guess a word :model\n"
     ]
    },
    {
     "data": {
      "text/html": [
       "<style type=\"text/css\">\n",
       "#T_b8279_row0_col0, #T_b8279_row0_col1, #T_b8279_row0_col2, #T_b8279_row0_col3, #T_b8279_row0_col4, #T_b8279_row1_col0, #T_b8279_row1_col1, #T_b8279_row1_col3, #T_b8279_row1_col4, #T_b8279_row2_col0, #T_b8279_row2_col1, #T_b8279_row2_col2, #T_b8279_row2_col4 {\n",
       "  color: black;\n",
       "}\n",
       "#T_b8279_row1_col2 {\n",
       "  color: orange;\n",
       "}\n",
       "#T_b8279_row2_col3, #T_b8279_row3_col0, #T_b8279_row3_col1, #T_b8279_row3_col2, #T_b8279_row3_col3, #T_b8279_row3_col4 {\n",
       "  color: green;\n",
       "}\n",
       "</style>\n",
       "<table id=\"T_b8279\">\n",
       "  <thead>\n",
       "    <tr>\n",
       "      <th class=\"blank level0\" >&nbsp;</th>\n",
       "      <th id=\"T_b8279_level0_col0\" class=\"col_heading level0 col0\" >L1</th>\n",
       "      <th id=\"T_b8279_level0_col1\" class=\"col_heading level0 col1\" >L2</th>\n",
       "      <th id=\"T_b8279_level0_col2\" class=\"col_heading level0 col2\" >L3</th>\n",
       "      <th id=\"T_b8279_level0_col3\" class=\"col_heading level0 col3\" >L4</th>\n",
       "      <th id=\"T_b8279_level0_col4\" class=\"col_heading level0 col4\" >L5</th>\n",
       "    </tr>\n",
       "  </thead>\n",
       "  <tbody>\n",
       "    <tr>\n",
       "      <th id=\"T_b8279_level0_row0\" class=\"row_heading level0 row0\" >TRY_1</th>\n",
       "      <td id=\"T_b8279_row0_col0\" class=\"data row0 col0\" >r</td>\n",
       "      <td id=\"T_b8279_row0_col1\" class=\"data row0 col1\" >i</td>\n",
       "      <td id=\"T_b8279_row0_col2\" class=\"data row0 col2\" >c</td>\n",
       "      <td id=\"T_b8279_row0_col3\" class=\"data row0 col3\" >k</td>\n",
       "      <td id=\"T_b8279_row0_col4\" class=\"data row0 col4\" >s</td>\n",
       "    </tr>\n",
       "    <tr>\n",
       "      <th id=\"T_b8279_level0_row1\" class=\"row_heading level0 row1\" >TRY_2</th>\n",
       "      <td id=\"T_b8279_row1_col0\" class=\"data row1 col0\" >c</td>\n",
       "      <td id=\"T_b8279_row1_col1\" class=\"data row1 col1\" >h</td>\n",
       "      <td id=\"T_b8279_row1_col2\" class=\"data row1 col2\" >E </td>\n",
       "      <td id=\"T_b8279_row1_col3\" class=\"data row1 col3\" >c</td>\n",
       "      <td id=\"T_b8279_row1_col4\" class=\"data row1 col4\" >k</td>\n",
       "    </tr>\n",
       "    <tr>\n",
       "      <th id=\"T_b8279_level0_row2\" class=\"row_heading level0 row2\" >TRY_3</th>\n",
       "      <td id=\"T_b8279_row2_col0\" class=\"data row2 col0\" >s</td>\n",
       "      <td id=\"T_b8279_row2_col1\" class=\"data row2 col1\" >a</td>\n",
       "      <td id=\"T_b8279_row2_col2\" class=\"data row2 col2\" >f</td>\n",
       "      <td id=\"T_b8279_row2_col3\" class=\"data row2 col3\" >E</td>\n",
       "      <td id=\"T_b8279_row2_col4\" class=\"data row2 col4\" >r</td>\n",
       "    </tr>\n",
       "    <tr>\n",
       "      <th id=\"T_b8279_level0_row3\" class=\"row_heading level0 row3\" >TRY_4</th>\n",
       "      <td id=\"T_b8279_row3_col0\" class=\"data row3 col0\" >M</td>\n",
       "      <td id=\"T_b8279_row3_col1\" class=\"data row3 col1\" >O</td>\n",
       "      <td id=\"T_b8279_row3_col2\" class=\"data row3 col2\" >D</td>\n",
       "      <td id=\"T_b8279_row3_col3\" class=\"data row3 col3\" >E</td>\n",
       "      <td id=\"T_b8279_row3_col4\" class=\"data row3 col4\" >L</td>\n",
       "    </tr>\n",
       "  </tbody>\n",
       "</table>\n"
      ],
      "text/plain": [
       "<pandas.io.formats.style.Styler at 0x1caa4739f10>"
      ]
     },
     "metadata": {},
     "output_type": "display_data"
    },
    {
     "name": "stdout",
     "output_type": "stream",
     "text": [
      "##############################################################\n",
      "       HURRAY THE WORD WAS: MODEL \n",
      "##############################################################\n",
      "YOU ARE A HUMAN GENIUS! YOU SHOULD BE FEARED AND RESPECTED!!!\n",
      "Give yourself a pat on the shoulder :)\n",
      "That student debt is finally paying off!!!\n",
      "WANNA PLAY AGAIN?\n"
     ]
    }
   ],
   "source": [
    "play_wordle()"
   ]
  },
  {
   "cell_type": "code",
   "execution_count": null,
   "metadata": {},
   "outputs": [],
   "source": []
  }
 ],
 "metadata": {
  "kernelspec": {
   "display_name": "Python 3 (ipykernel)",
   "language": "python",
   "name": "python3"
  },
  "language_info": {
   "codemirror_mode": {
    "name": "ipython",
    "version": 3
   },
   "file_extension": ".py",
   "mimetype": "text/x-python",
   "name": "python",
   "nbconvert_exporter": "python",
   "pygments_lexer": "ipython3",
   "version": "3.9.7"
  }
 },
 "nbformat": 4,
 "nbformat_minor": 4
}
