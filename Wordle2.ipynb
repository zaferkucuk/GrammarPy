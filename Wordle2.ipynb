{
 "cells": [
  {
   "cell_type": "markdown",
   "metadata": {},
   "source": [
    "### Import all functions and libraries from `wordle.py`"
   ]
  },
  {
   "cell_type": "code",
   "execution_count": 5,
   "metadata": {},
   "outputs": [],
   "source": [
    "from wordle import *"
   ]
  },
  {
   "cell_type": "markdown",
   "metadata": {},
   "source": [
    "### Run `play_wordle()` to start a game\n",
    "- Code will randomly select a 5-letter word from the English Dictionary\n",
    "- You have six tries to guess correctly\n",
    "- If you guess the position of a letter in the word it will turn `GREEN`\n",
    "- If you guess a letter, but it is in the wron position it turns `ORANGE`\n",
    "- If the letter does not exist, it will become `lower case black ink`\n",
    "\n",
    "#### GOOD LUCK, NERDS!"
   ]
  },
  {
   "cell_type": "code",
   "execution_count": null,
   "metadata": {},
   "outputs": [
    {
     "name": "stdout",
     "output_type": "stream",
     "text": [
      "Guess a word :clear\n"
     ]
    },
    {
     "data": {
      "text/html": [
       "<style type=\"text/css\">\n",
       "#T_8ab27_row0_col0, #T_8ab27_row0_col3, #T_8ab27_row0_col4 {\n",
       "  color: black;\n",
       "}\n",
       "#T_8ab27_row0_col1, #T_8ab27_row0_col2 {\n",
       "  color: orange;\n",
       "}\n",
       "</style>\n",
       "<table id=\"T_8ab27\">\n",
       "  <thead>\n",
       "    <tr>\n",
       "      <th class=\"blank level0\" >&nbsp;</th>\n",
       "      <th id=\"T_8ab27_level0_col0\" class=\"col_heading level0 col0\" >L1</th>\n",
       "      <th id=\"T_8ab27_level0_col1\" class=\"col_heading level0 col1\" >L2</th>\n",
       "      <th id=\"T_8ab27_level0_col2\" class=\"col_heading level0 col2\" >L3</th>\n",
       "      <th id=\"T_8ab27_level0_col3\" class=\"col_heading level0 col3\" >L4</th>\n",
       "      <th id=\"T_8ab27_level0_col4\" class=\"col_heading level0 col4\" >L5</th>\n",
       "    </tr>\n",
       "  </thead>\n",
       "  <tbody>\n",
       "    <tr>\n",
       "      <th id=\"T_8ab27_level0_row0\" class=\"row_heading level0 row0\" >TRY_1</th>\n",
       "      <td id=\"T_8ab27_row0_col0\" class=\"data row0 col0\" >c</td>\n",
       "      <td id=\"T_8ab27_row0_col1\" class=\"data row0 col1\" >L </td>\n",
       "      <td id=\"T_8ab27_row0_col2\" class=\"data row0 col2\" >E </td>\n",
       "      <td id=\"T_8ab27_row0_col3\" class=\"data row0 col3\" >a</td>\n",
       "      <td id=\"T_8ab27_row0_col4\" class=\"data row0 col4\" >r</td>\n",
       "    </tr>\n",
       "  </tbody>\n",
       "</table>\n"
      ],
      "text/plain": [
       "<pandas.io.formats.style.Styler at 0x1ca9f4c0fa0>"
      ]
     },
     "metadata": {},
     "output_type": "display_data"
    }
   ],
   "source": [
    "play_wordle()"
   ]
  },
  {
   "cell_type": "code",
   "execution_count": null,
   "metadata": {},
   "outputs": [],
   "source": []
  }
 ],
 "metadata": {
  "kernelspec": {
   "display_name": "Python 3 (ipykernel)",
   "language": "python",
   "name": "python3"
  },
  "language_info": {
   "codemirror_mode": {
    "name": "ipython",
    "version": 3
   },
   "file_extension": ".py",
   "mimetype": "text/x-python",
   "name": "python",
   "nbconvert_exporter": "python",
   "pygments_lexer": "ipython3",
   "version": "3.9.7"
  }
 },
 "nbformat": 4,
 "nbformat_minor": 4
}
