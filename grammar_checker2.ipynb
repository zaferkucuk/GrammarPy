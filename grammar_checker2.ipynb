{
 "cells": [
  {
   "cell_type": "code",
   "execution_count": 1,
   "id": "00a0f39f",
   "metadata": {},
   "outputs": [],
   "source": [
    "import requests\n",
    "import pandas as pd\n",
    "import re\n",
    "import numpy as np\n",
    "import sklearn \n",
    "from sklearn.feature_extraction.text import CountVectorizer\n",
    "from sklearn.feature_extraction.text import TfidfTransformer\n",
    "from sklearn.linear_model import LogisticRegression\n",
    "from sklearn.model_selection import train_test_split\n",
    "import os\n",
    "from argparse import ArgumentParser\n",
    "from bs4 import BeautifulSoup\n",
    "import urllib.request\n",
    "import language_tool_python\n",
    "from spellchecker import SpellChecker"
   ]
  },
  {
   "cell_type": "code",
   "execution_count": 47,
   "id": "e27b4cf6",
   "metadata": {},
   "outputs": [],
   "source": [
    "url = 'https://wefarm.com/'"
   ]
  },
  {
   "cell_type": "code",
   "execution_count": 48,
   "id": "84d6793f",
   "metadata": {},
   "outputs": [],
   "source": [
    "response = requests.get(url)"
   ]
  },
  {
   "cell_type": "code",
   "execution_count": 49,
   "id": "bc55ece5",
   "metadata": {},
   "outputs": [
    {
     "data": {
      "text/plain": [
       "<Response [200]>"
      ]
     },
     "execution_count": 49,
     "metadata": {},
     "output_type": "execute_result"
    }
   ],
   "source": [
    "response"
   ]
  },
  {
   "cell_type": "code",
   "execution_count": 50,
   "id": "fb260b1f",
   "metadata": {},
   "outputs": [
    {
     "data": {
      "text/plain": [
       "200"
      ]
     },
     "execution_count": 50,
     "metadata": {},
     "output_type": "execute_result"
    }
   ],
   "source": [
    "response.status_code"
   ]
  },
  {
   "cell_type": "code",
   "execution_count": 51,
   "id": "d14a10f7",
   "metadata": {},
   "outputs": [],
   "source": [
    "test_html = response.text"
   ]
  },
  {
   "cell_type": "code",
   "execution_count": 52,
   "id": "1a73fd69",
   "metadata": {},
   "outputs": [
    {
     "data": {
      "text/plain": [
       "'<!DOCTYPE html>\\n<html><html><head><meta charset=\"UTF-8\"/><meta name=\"viewport\" content=\"width=device-width, initial-scale=1\"/><meta name=\"facebook-domain-verification\" content=\"8q3jmq5tf0w834v732nmn5rptknv0e\"/><meta name=\"description\" content=\"The digital community for small-scale farmers. Join conversations, connect with fellow farmers, share knowledge, and buy quality inputs near you.\"/><title>Sign up for free &amp; join your farming community | Wefarm</title><script>(function(w,d,s,l,i) {\\n    w[l]=w[l]||[];\\n    w[l].push({\\'gtm.start\\': new Date().getTime(),event:\\'gtm.js\\'});\\n    var f=d.getElementsByTagName(s)[0],j=d.createElement(s),dl=l!=\\'dataLayer\\'?\\'&l=\\'+l:\\'\\';\\n    j.async=true;j.src= \\'https://www.googletagmanager.com/gtm.js?id=\\'+i+dl;\\n    f.parentNode.insertBefore(j,f);\\n})(window,document,\\'script\\',\\'dataLayer\\',\\'GTM-WPJFT7Q\\');</script><script src=\"/js/pwa.js\"></script><script src=\"https://js.sentry-cdn.com/02484f8720744bfe93271c8a81c712c9.min.js\"></script><script>Sentry.onLoad(function() { Sentry.init({ environment: \"true\" }); });</script><link rel=\"manifest\" href=\"/manifest.json\"/><link rel=\"apple-touch-icon\" href=\"/img/icons/icon-192x192.png\"/><meta name=\"theme-color\" content=\"#FFFFFF\"/><link type=\"text/css\" href=\"/css/styles-out.css\" rel=\"stylesheet\"/></head><body class=\"has-navbar-fixed-top \"><input type=\"hidden\" id=\"__anti-forgery-token\" name=\"__anti-forgery-token\" value=\"Unbound: #&#x27;ring.middleware.anti-forgery/*anti-forgery-token*\"/><nav id=\"navbar\" class=\"wf-navbar\"><a href=\"/moja\" class=\"wf-navbar-item\"><img src=\"/img/beta_logo.png\" alt=\"Wefarm logo\" class=\"navbar-image\"/></a><a href=\"/login\" class=\"button has-blue-border button wf-button has-text-weight-semibold has-background-white has-text-green\">Log in</a><div class=\"wf-navbar-item menu button is-text\"><div id=\"main-menu\" class=\"dropdown\"><div onclick=\"document.getElementById(&#x27;main-menu&#x27;).classList.add(&#x27;is-active&#x27;);\" class=\"p-2\"><svg xmlns=\"http://www.w3.org/2000/svg\" height=\"24\" viewbox=\"0 0 24 24\" width=\"24\" class=\"\"><path d=\"M0 0h24v24H0z\" fill=\"none\"></path><path d=\"M3 18h18v-2H3v2zm0-5h18v-2H3v2zm0-7v2h18V6H3z\"></path></svg></div><div id=\"dropdown-menu\" role=\"menu\" class=\"dropdown-menu\"><div onclick=\"document.getElementById(&#x27;main-menu&#x27;).classList.remove(&#x27;is-active&#x27;);\" class=\"bg-transparent h-screen w-screen fixed top-0 left-0\"></div><div class=\"fixed top-10 left-28 right-4 bg-white rounded-lg border border-slate-300 grid text-left\"><a href=\"/about-wefarm\" class=\"text-l font-normal mb-4 mx-4 mt-3 text-black\">About Wefarm</a><a href=\"/community-and-shop\" class=\"text-l font-normal mb-4 mx-4 mt-3 text-black\">Community and Shop</a><a href=\"/testimonials\" class=\"text-l font-normal mb-4 mx-4 mt-3 text-black\">Testimonials</a><a href=\"/faqs\" class=\"text-l font-normal mb-4 mx-4 mt-3 text-black\">FAQs</a><a href=\"/contact-us\" class=\"text-l font-normal mb-4 mx-4 mt-3 text-black\">Contact us</a></div></div></div></div></nav><div><section class=\"has-background-blue section pt-0 pb-3 px-3\"><div class=\"columns is-centered\"><div class=\"column max-width-960\"><div class=\"columns reverse-row-order is-full-min-height my-0 py-0 is-vcentered\"><div class=\"column is-two-fifths\"><div class=\"py-4 mt-1 mb-1\"><div class=\"white-heading has-text-size-32\">Farming better with Wefarm</div></div><ul class=\"ml-2 has-text-white list-none\"><li><span class=\"inline-flex\"><span class=\"shrink-0\"><svg xmlns=\"http://www.w3.org/2000/svg\" height=\"24px\" viewBox=\"0 0 24 24\" width=\"24px\" fill=\"#FFFFFF\" class=\"\"><path d=\"M0 0h24v24H0z\" fill=\"none\"></path><path d=\"M9 16.17L4.83 12l-1.42 1.41L9 19 21 7l-1.41-1.41z\"></path></svg></span><div class=\"align-bottom ml-2\">Learn techniques from fellow farmers</div></span></li><li><span class=\"inline-flex\"><span class=\"shrink-0\"><svg xmlns=\"http://www.w3.org/2000/svg\" height=\"24px\" viewBox=\"0 0 24 24\" width=\"24px\" fill=\"#FFFFFF\" class=\"\"><path d=\"M0 0h24v24H0z\" fill=\"none\"></path><path d=\"M9 16.17L4.83 12l-1.42 1.41L9 19 21 7l-1.41-1.41z\"></path></svg></span><div class=\"align-bottom ml-2\">Find quality inputs to buy</div></span></li><li><span class=\"inline-flex\"><span class=\"shrink-0\"><svg xmlns=\"http://www.w3.org/2000/svg\" height=\"24px\" viewBox=\"0 0 24 24\" width=\"24px\" fill=\"#FFFFFF\" class=\"\"><path d=\"M0 0h24v24H0z\" fill=\"none\"></path><path d=\"M9 16.17L4.83 12l-1.42 1.41L9 19 21 7l-1.41-1.41z\"></path></svg></span><div class=\"align-bottom ml-2\">Earn Wefarm points &amp; save money</div></span></li></ul><div class=\"mt-3\"><a href=\"/join\" class=\"larger-button button wf-button has-text-weight-semibold has-background-green has-text-white has-no-border button-has-shadow\">Join<svg xmlns=\"http://www.w3.org/2000/svg\" height=\"24\" viewbox=\"0 0 24 24\" width=\"24\" class=\"wf-white-icon\"><path d=\"M0 0h24v24H0z\" fill=\"none\"></path><path d=\"M10 6L8.59 7.41 13.17 12l-4.58 4.59L10 18l6-6z\"></path></svg></a><p class=\"mt-1\"><a href=\"/moja/join/no-kenyan-number\" class=\"has-text-white has-text-size-14 is-underlined\">I don’t have a Kenyan number</a></p></div><div class=\"mt-3 mb-3 horizontal-separator\"></div><div class=\"has-text-white has-text-size-16 has-text-weight-500\"><span>Already joined?</span><a href=\"/login\" class=\"ml-2 is-underlined has-text-white\">log in</a></div></div><div class=\"column is-three-fifths\"><img src=\"/img/farmers.jpg\" alt=\"Photo of three smiling farmers looking at their smart phones\" class=\"splash1\"/></div></div></div></div></section><section class=\"has-white-background px-5 pt-4 pb-4\"><div class=\"columns is-centered\"><div class=\"column max-width-960\"><div class=\"columns is-full-min-height my-0 py-0\"><div class=\"column is-one-third\"><div class=\"py-3\"><img src=\"/img/community.png\" alt=\"Graphic of a hand holding a smart phone, surrounded by a couple of speech bubbles, with the image of a person on it\" class=\"splash2\"/><div class=\"pb-8\"><span class=\"has-text-size-18 has-text-weight-700 has-text-grey-1 pb-1\">Meet your farming community</span><div class=\"has-text-size-14 has-text-grey-1\">Join groups on Wefarm.com and interact with your fellow farmers to solve problems - or help set up your latest agriventure.</div></div></div></div><div class=\"column is-one-third\"><div class=\"py-3\"><img src=\"/img/shop.png\" alt=\"Graphic of a hand holding a smart phone with the image of a shopping cart on it\" class=\"splash2\"/><div class=\"pb-8\"><span class=\"has-text-size-18 has-text-weight-700 has-text-grey-1 pb-1\">Order products online</span><div class=\"has-text-size-14 has-text-grey-1\">Wefarmers save precious time by ordering their inputs online. Check prices and availability on Wefarm Shop, before travelling to the agrovet.</div></div></div></div><div class=\"column is-one-third\"><div class=\"py-3\"><img src=\"/img/points.png\" alt=\"Graphic of a Wefarm point, labelled with one Kenyan Shilling\" class=\"splash2\"/><div class=\"pb-8\"><span class=\"has-text-size-18 has-text-weight-700 has-text-grey-1 pb-1\">Get better value with Wefarm points</span><div class=\"has-text-size-14 has-text-grey-1\">Earn Wefarm Points on every purchase and save money on your future orders.</div></div></div></div></div></div></div></section><div class=\"columns hidden-overflow is-mobile is-centered is-gapless is-full-min-height my-0 py-0 has-background-blue\"><div class=\"px-0 pb-0 mb-0 grid place-items-center\"><section class=\"has-background-blue section pt-4 pb-5 px-4\"><div class=\"pb-3\"><div class=\"white-heading has-text-size-21 mb-3\">Join Wefarm today</div><a href=\"/join\" class=\"larger-button button wf-button has-text-weight-semibold has-background-green has-text-white has-no-border button-has-shadow\">Join<svg xmlns=\"http://www.w3.org/2000/svg\" height=\"24\" viewbox=\"0 0 24 24\" width=\"24\" class=\"wf-white-icon\"><path d=\"M0 0h24v24H0z\" fill=\"none\"></path><path d=\"M10 6L8.59 7.41 13.17 12l-4.58 4.59L10 18l6-6z\"></path></svg></a><p class=\"mt-1\"><a href=\"/moja/join/no-kenyan-number\" class=\"has-text-white has-text-size-14 is-underlined\">I don’t have a Kenyan number</a></p></div></section></div></div><div class=\"columns hidden-overflow is-mobile is-centered is-gapless is-full-min-height my-0 py-0 has-background-dark-blue\"><div class=\"column px-0 pb-0 mb-0 is-full-mobile is-one-third-tablet is-one-third-desktop is-one-third-widescreen is-one-third-fullhd\"><section class=\"section pt-5 pb-3 px-4 has-background-dark-blue has-text-size-14\"><div class=\"level is-mobile mb-2\"><div class=\"level-item\"><a href=\"https://about.wefarm.com/\" target=\"_blank\" class=\"has-text-white\">Company page</a></div><div class=\"level-item\"><a href=\"https://about.wefarm.com/culture\" target=\"_blank\" class=\"has-text-white\">Join the team</a></div><div class=\"level-item\"><a href=\"https://about.wefarm.com/contact\" target=\"_blank\" class=\"has-text-white\">Contact us</a></div></div><div class=\"level is-mobile mb-0\"><div class=\"level-item\"><a href=\"https://about.wefarm.com/cookies\" target=\"_blank\" class=\"has-text-dark-white\">Cookie Policy</a></div><div class=\"level-item\"><a href=\"https://about.wefarm.com/terms-and-conditions\" target=\"_blank\" class=\"has-text-dark-white\">Terms of Use </a></div><div class=\"level-item\"><a href=\"https://about.wefarm.com/privacy-policy\" target=\"_blank\" class=\"has-text-dark-white\">Privacy</a></div></div><div class=\"empty-space\"></div></section></div></div></div><script src=\"/js/pwa-install.js\"></script><script src=\"/js/validation.js\"></script><script src=\"/js/checkbox.js\"></script><script src=\"/js/join-group.js\"></script><script src=\"/js/share-post.js\"></script><noscript><iframe src=\"https://www.googletagmanager.com/ns.html?id=GTM-WPJFT7Q\" height=\"0\" width=\"0\" style=\"display:none;visibility:hidden\"></iframe></noscript></body></html></html>'"
      ]
     },
     "execution_count": 52,
     "metadata": {},
     "output_type": "execute_result"
    }
   ],
   "source": [
    "test_html"
   ]
  },
  {
   "cell_type": "code",
   "execution_count": 53,
   "id": "e6867fc1",
   "metadata": {},
   "outputs": [],
   "source": [
    "whole_list=[]\n",
    "html_page = urllib.request.urlopen(url)\n",
    "soup = BeautifulSoup(html_page, \"html.parser\")\n",
    "for link in soup.findAll('a'):\n",
    "    if link not in whole_list:\n",
    "        whole_list.append(link.get('href'))\n",
    "    else:\n",
    "        pass\n",
    "    #print(link.get('href'))"
   ]
  },
  {
   "cell_type": "code",
   "execution_count": 54,
   "id": "5b11e17c",
   "metadata": {},
   "outputs": [
    {
     "data": {
      "text/plain": [
       "['/moja',\n",
       " '/login',\n",
       " '/about-wefarm',\n",
       " '/community-and-shop',\n",
       " '/testimonials',\n",
       " '/faqs',\n",
       " '/contact-us',\n",
       " '/join',\n",
       " '/moja/join/no-kenyan-number',\n",
       " '/login',\n",
       " '/join',\n",
       " '/moja/join/no-kenyan-number',\n",
       " 'https://about.wefarm.com/',\n",
       " 'https://about.wefarm.com/culture',\n",
       " 'https://about.wefarm.com/contact',\n",
       " 'https://about.wefarm.com/cookies',\n",
       " 'https://about.wefarm.com/terms-and-conditions',\n",
       " 'https://about.wefarm.com/privacy-policy']"
      ]
     },
     "execution_count": 54,
     "metadata": {},
     "output_type": "execute_result"
    }
   ],
   "source": [
    "whole_list"
   ]
  },
  {
   "cell_type": "code",
   "execution_count": 58,
   "id": "14cc9a48",
   "metadata": {},
   "outputs": [],
   "source": [
    "subpages = pd.DataFrame(whole_list, columns = ['link'])"
   ]
  },
  {
   "cell_type": "code",
   "execution_count": 59,
   "id": "c1a58461",
   "metadata": {},
   "outputs": [],
   "source": [
    "subpages=subpages[subpages['link'].str.contains(\"wefarm\")]"
   ]
  },
  {
   "cell_type": "code",
   "execution_count": 60,
   "id": "7076f237",
   "metadata": {},
   "outputs": [],
   "source": [
    "subpages=subpages.link.unique()"
   ]
  },
  {
   "cell_type": "code",
   "execution_count": 61,
   "id": "f4660d02",
   "metadata": {},
   "outputs": [
    {
     "data": {
      "text/plain": [
       "array(['/about-wefarm', 'https://about.wefarm.com/',\n",
       "       'https://about.wefarm.com/culture',\n",
       "       'https://about.wefarm.com/contact',\n",
       "       'https://about.wefarm.com/cookies',\n",
       "       'https://about.wefarm.com/terms-and-conditions',\n",
       "       'https://about.wefarm.com/privacy-policy'], dtype=object)"
      ]
     },
     "execution_count": 61,
     "metadata": {},
     "output_type": "execute_result"
    }
   ],
   "source": [
    "subpages"
   ]
  },
  {
   "cell_type": "code",
   "execution_count": null,
   "id": "5bb1fb7e",
   "metadata": {},
   "outputs": [],
   "source": []
  },
  {
   "cell_type": "code",
   "execution_count": null,
   "id": "ceee3cca",
   "metadata": {},
   "outputs": [],
   "source": []
  },
  {
   "cell_type": "code",
   "execution_count": 62,
   "id": "ef9ac5c7",
   "metadata": {},
   "outputs": [],
   "source": [
    "soup = BeautifulSoup(test_html, 'html.parser')"
   ]
  },
  {
   "cell_type": "code",
   "execution_count": 63,
   "id": "707cc94c",
   "metadata": {},
   "outputs": [
    {
     "name": "stdout",
     "output_type": "stream",
     "text": [
      "I don’t have a Kenyan number\n",
      "I don’t have a Kenyan number\n"
     ]
    }
   ],
   "source": [
    "x=[]\n",
    "for i in soup.find_all(\"p\"):\n",
    "    i.get_text()\n",
    "    x.append(i.get_text())\n",
    "        \n",
    "    print(i.get_text())"
   ]
  },
  {
   "cell_type": "code",
   "execution_count": 66,
   "id": "fbe4dcb2",
   "metadata": {},
   "outputs": [
    {
     "data": {
      "text/plain": [
       "'\\nSign up for free & join your farming community | WefarmLog inAbout WefarmCommunity and ShopTestimonialsFAQsContact usFarming better with WefarmLearn techniques from fellow farmersFind quality inputs to buyEarn Wefarm points & save moneyJoinI don’t have a Kenyan numberAlready joined?log inMeet your farming communityJoin groups on Wefarm.com and interact with your fellow farmers to solve problems - or help set up your latest agriventure.Order products onlineWefarmers save precious time by ordering their inputs online. Check prices and availability on Wefarm Shop, before travelling to the agrovet.Get better value with Wefarm pointsEarn Wefarm Points on every purchase and save money on your future orders.Join Wefarm todayJoinI don’t have a Kenyan numberCompany pageJoin the teamContact usCookie PolicyTerms of Use Privacy'"
      ]
     },
     "execution_count": 66,
     "metadata": {},
     "output_type": "execute_result"
    }
   ],
   "source": [
    "text = soup.get_text()\n",
    "text"
   ]
  },
  {
   "cell_type": "code",
   "execution_count": 67,
   "id": "1b385a37",
   "metadata": {},
   "outputs": [
    {
     "name": "stdout",
     "output_type": "stream",
     "text": [
      "I don’t have a Kenyan number\n",
      "I don’t have a Kenyan number\n"
     ]
    }
   ],
   "source": [
    "for para in soup.find_all(\"p\"):\n",
    "    print(para.get_text())"
   ]
  },
  {
   "cell_type": "code",
   "execution_count": 68,
   "id": "9d047fd3",
   "metadata": {},
   "outputs": [
    {
     "data": {
      "text/plain": [
       "'Sign up for free  join your farming community  WefarmLog inAbout WefarmCommunity and ShopTestimonialsFAQsContact usFarming better with WefarmLearn techniques from fellow farmersFind quality inputs to buyEarn Wefarm points  save moneyJoinI dont have a Kenyan numberAlready joinedlog inMeet your farming communityJoin groups on Wefarmcom and interact with your fellow farmers to solve problems  or help set up your latest agriventureOrder products onlineWefarmers save precious time by ordering their inputs online Check prices and availability on Wefarm Shop before travelling to the agrovetGet better value with Wefarm pointsEarn Wefarm Points on every purchase and save money on your future ordersJoin Wefarm todayJoinI dont have a Kenyan numberCompany pageJoin the teamContact usCookie PolicyTerms of Use Privacy'"
      ]
     },
     "execution_count": 68,
     "metadata": {},
     "output_type": "execute_result"
    }
   ],
   "source": [
    "text2 = re.sub(r\"(@\\[A-Za-z0-9]+)|([^0-9A-Za-z \\t])|(\\w+:\\/\\/\\S+)|^rt|http.+?\", \"\", text)\n",
    "text2"
   ]
  },
  {
   "cell_type": "code",
   "execution_count": null,
   "id": "f48b31f4",
   "metadata": {},
   "outputs": [],
   "source": []
  }
 ],
 "metadata": {
  "kernelspec": {
   "display_name": "Python 3 (ipykernel)",
   "language": "python",
   "name": "python3"
  },
  "language_info": {
   "codemirror_mode": {
    "name": "ipython",
    "version": 3
   },
   "file_extension": ".py",
   "mimetype": "text/x-python",
   "name": "python",
   "nbconvert_exporter": "python",
   "pygments_lexer": "ipython3",
   "version": "3.9.7"
  }
 },
 "nbformat": 4,
 "nbformat_minor": 5
}
